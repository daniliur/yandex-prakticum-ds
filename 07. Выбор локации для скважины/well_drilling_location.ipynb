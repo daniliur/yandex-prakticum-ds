{
 "cells": [
  {
   "cell_type": "markdown",
   "metadata": {},
   "source": [
    "# Выбор локации для скважины"
   ]
  },
  {
   "cell_type": "markdown",
   "metadata": {},
   "source": [
    "Добывающей компании нужно решить, где бурить новую скважину.\n",
    "\n",
    "Нам предоставлены пробы нефти в трёх регионах: в каждом 10 000 месторождений, где измерили качество нефти и объём её запасов. Необходимо построить модель машинного обучения, которая поможет определить регион, где добыча принесёт наибольшую прибыль, а также проанализировать возможную прибыль и риски техникой *Bootstrap.*\n",
    "\n",
    "Шаги для выбора локации:\n",
    "\n",
    "- В избранном регионе ищут месторождения, для каждого определяют значения признаков;\n",
    "- Строят модель и оценивают объём запасов;\n",
    "- Выбирают месторождения с самым высокими оценками значений. Количество месторождений зависит от бюджета компании и стоимости разработки одной скважины;\n",
    "- Прибыль равна суммарной прибыли отобранных месторождений."
   ]
  },
  {
   "cell_type": "markdown",
   "metadata": {},
   "source": [
    "### Условия задачи\n",
    "* При разведке региона исследуют 500 точек, из которых с помощью машинного обучения выбирают 200 лучших для разработки.\n",
    "* Бюджет на разработку скважин в регионе — 10 млрд рублей.\n",
    "* При нынешних ценах один баррель сырья приносит 450 рублей дохода. Доход с каждой единицы продукта составляет 450 тыс. рублей, поскольку объём указан в тысячах баррелей.\n",
    "* После оценки рисков нужно оставить лишь те регионы, в которых вероятность убытков меньше 2.5%. Среди них выбирают регион с наибольшей средней прибылью."
   ]
  },
  {
   "cell_type": "markdown",
   "metadata": {},
   "source": [
    "## Загрузка и подготовка данных"
   ]
  },
  {
   "cell_type": "markdown",
   "metadata": {},
   "source": [
    "Для начала импортируем все необходимые библиотеки и методы."
   ]
  },
  {
   "cell_type": "code",
   "execution_count": 1,
   "metadata": {},
   "outputs": [],
   "source": [
    "import pandas as pd\n",
    "\n",
    "from numpy.random import RandomState\n",
    "\n",
    "from sklearn.metrics import mean_squared_error\n",
    "from sklearn.model_selection import train_test_split\n",
    "from sklearn.linear_model import LinearRegression\n",
    "\n",
    "from matplotlib import pyplot as plt"
   ]
  },
  {
   "cell_type": "markdown",
   "metadata": {},
   "source": [
    "Зафиксируем в константе случайное состояние, которое будем использовать в проекте."
   ]
  },
  {
   "cell_type": "code",
   "execution_count": 2,
   "metadata": {},
   "outputs": [],
   "source": [
    "RANDOM_STATE = 322"
   ]
  },
  {
   "cell_type": "markdown",
   "metadata": {},
   "source": [
    "Загрузим геоданные в переменные `data1`, `data2` и `data3`."
   ]
  },
  {
   "cell_type": "code",
   "execution_count": 3,
   "metadata": {},
   "outputs": [],
   "source": [
    "data1 = pd.read_csv('geo_data_0.csv')\n",
    "data2 = pd.read_csv('geo_data_1.csv')\n",
    "data3 = pd.read_csv('geo_data_2.csv')"
   ]
  },
  {
   "cell_type": "markdown",
   "metadata": {},
   "source": [
    "Проверим информацию о данных, наличие дубликатов и пропусков:"
   ]
  },
  {
   "cell_type": "code",
   "execution_count": 4,
   "metadata": {
    "scrolled": true
   },
   "outputs": [
    {
     "name": "stdout",
     "output_type": "stream",
     "text": [
      "<class 'pandas.core.frame.DataFrame'>\n",
      "RangeIndex: 100000 entries, 0 to 99999\n",
      "Data columns (total 5 columns):\n",
      " #   Column   Non-Null Count   Dtype  \n",
      "---  ------   --------------   -----  \n",
      " 0   id       100000 non-null  object \n",
      " 1   f0       100000 non-null  float64\n",
      " 2   f1       100000 non-null  float64\n",
      " 3   f2       100000 non-null  float64\n",
      " 4   product  100000 non-null  float64\n",
      "dtypes: float64(4), object(1)\n",
      "memory usage: 3.8+ MB\n",
      "\n",
      "<class 'pandas.core.frame.DataFrame'>\n",
      "RangeIndex: 100000 entries, 0 to 99999\n",
      "Data columns (total 5 columns):\n",
      " #   Column   Non-Null Count   Dtype  \n",
      "---  ------   --------------   -----  \n",
      " 0   id       100000 non-null  object \n",
      " 1   f0       100000 non-null  float64\n",
      " 2   f1       100000 non-null  float64\n",
      " 3   f2       100000 non-null  float64\n",
      " 4   product  100000 non-null  float64\n",
      "dtypes: float64(4), object(1)\n",
      "memory usage: 3.8+ MB\n",
      "\n",
      "<class 'pandas.core.frame.DataFrame'>\n",
      "RangeIndex: 100000 entries, 0 to 99999\n",
      "Data columns (total 5 columns):\n",
      " #   Column   Non-Null Count   Dtype  \n",
      "---  ------   --------------   -----  \n",
      " 0   id       100000 non-null  object \n",
      " 1   f0       100000 non-null  float64\n",
      " 2   f1       100000 non-null  float64\n",
      " 3   f2       100000 non-null  float64\n",
      " 4   product  100000 non-null  float64\n",
      "dtypes: float64(4), object(1)\n",
      "memory usage: 3.8+ MB\n"
     ]
    }
   ],
   "source": [
    "data1.info()\n",
    "print()\n",
    "data2.info()\n",
    "print()\n",
    "data3.info()"
   ]
  },
  {
   "cell_type": "code",
   "execution_count": 5,
   "metadata": {
    "scrolled": false
   },
   "outputs": [
    {
     "name": "stdout",
     "output_type": "stream",
     "text": [
      "id         0\n",
      "f0         0\n",
      "f1         0\n",
      "f2         0\n",
      "product    0\n",
      "dtype: int64 \n",
      "\n",
      "id         0\n",
      "f0         0\n",
      "f1         0\n",
      "f2         0\n",
      "product    0\n",
      "dtype: int64 \n",
      "\n",
      "id         0\n",
      "f0         0\n",
      "f1         0\n",
      "f2         0\n",
      "product    0\n",
      "dtype: int64 \n",
      "\n"
     ]
    }
   ],
   "source": [
    "print(data1.isna().sum(), '\\n')\n",
    "print(data2.isna().sum(), '\\n')\n",
    "print(data3.isna().sum(), '\\n')"
   ]
  },
  {
   "cell_type": "code",
   "execution_count": 6,
   "metadata": {},
   "outputs": [
    {
     "name": "stdout",
     "output_type": "stream",
     "text": [
      "0\n",
      "0\n",
      "0\n"
     ]
    }
   ],
   "source": [
    "print(data1.duplicated().sum())\n",
    "print(data2.duplicated().sum())\n",
    "print(data3.duplicated().sum())"
   ]
  },
  {
   "cell_type": "markdown",
   "metadata": {},
   "source": [
    "Данные в порядке, пропусков и дубликатов нет. Удалим из всех фреймов текстовый столбец `'id'`, он нам не понадобится. "
   ]
  },
  {
   "cell_type": "code",
   "execution_count": 7,
   "metadata": {},
   "outputs": [],
   "source": [
    "data1 = data1.drop('id', axis=1)\n",
    "data2 = data2.drop('id', axis=1)\n",
    "data3 = data3.drop('id', axis=1)"
   ]
  },
  {
   "cell_type": "code",
   "execution_count": 8,
   "metadata": {},
   "outputs": [
    {
     "data": {
      "text/html": [
       "<div>\n",
       "<style scoped>\n",
       "    .dataframe tbody tr th:only-of-type {\n",
       "        vertical-align: middle;\n",
       "    }\n",
       "\n",
       "    .dataframe tbody tr th {\n",
       "        vertical-align: top;\n",
       "    }\n",
       "\n",
       "    .dataframe thead th {\n",
       "        text-align: right;\n",
       "    }\n",
       "</style>\n",
       "<table border=\"1\" class=\"dataframe\">\n",
       "  <thead>\n",
       "    <tr style=\"text-align: right;\">\n",
       "      <th></th>\n",
       "      <th>f0</th>\n",
       "      <th>f1</th>\n",
       "      <th>f2</th>\n",
       "      <th>product</th>\n",
       "    </tr>\n",
       "  </thead>\n",
       "  <tbody>\n",
       "    <tr>\n",
       "      <th>0</th>\n",
       "      <td>0.705745</td>\n",
       "      <td>-0.497823</td>\n",
       "      <td>1.221170</td>\n",
       "      <td>105.280062</td>\n",
       "    </tr>\n",
       "    <tr>\n",
       "      <th>1</th>\n",
       "      <td>1.334711</td>\n",
       "      <td>-0.340164</td>\n",
       "      <td>4.365080</td>\n",
       "      <td>73.037750</td>\n",
       "    </tr>\n",
       "    <tr>\n",
       "      <th>2</th>\n",
       "      <td>1.022732</td>\n",
       "      <td>0.151990</td>\n",
       "      <td>1.419926</td>\n",
       "      <td>85.265647</td>\n",
       "    </tr>\n",
       "    <tr>\n",
       "      <th>3</th>\n",
       "      <td>-0.032172</td>\n",
       "      <td>0.139033</td>\n",
       "      <td>2.978566</td>\n",
       "      <td>168.620776</td>\n",
       "    </tr>\n",
       "    <tr>\n",
       "      <th>4</th>\n",
       "      <td>1.988431</td>\n",
       "      <td>0.155413</td>\n",
       "      <td>4.751769</td>\n",
       "      <td>154.036647</td>\n",
       "    </tr>\n",
       "  </tbody>\n",
       "</table>\n",
       "</div>"
      ],
      "text/plain": [
       "         f0        f1        f2     product\n",
       "0  0.705745 -0.497823  1.221170  105.280062\n",
       "1  1.334711 -0.340164  4.365080   73.037750\n",
       "2  1.022732  0.151990  1.419926   85.265647\n",
       "3 -0.032172  0.139033  2.978566  168.620776\n",
       "4  1.988431  0.155413  4.751769  154.036647"
      ]
     },
     "execution_count": 8,
     "metadata": {},
     "output_type": "execute_result"
    }
   ],
   "source": [
    "data1.head()"
   ]
  },
  {
   "cell_type": "code",
   "execution_count": 9,
   "metadata": {},
   "outputs": [
    {
     "data": {
      "text/html": [
       "<div>\n",
       "<style scoped>\n",
       "    .dataframe tbody tr th:only-of-type {\n",
       "        vertical-align: middle;\n",
       "    }\n",
       "\n",
       "    .dataframe tbody tr th {\n",
       "        vertical-align: top;\n",
       "    }\n",
       "\n",
       "    .dataframe thead th {\n",
       "        text-align: right;\n",
       "    }\n",
       "</style>\n",
       "<table border=\"1\" class=\"dataframe\">\n",
       "  <thead>\n",
       "    <tr style=\"text-align: right;\">\n",
       "      <th></th>\n",
       "      <th>f0</th>\n",
       "      <th>f1</th>\n",
       "      <th>f2</th>\n",
       "      <th>product</th>\n",
       "    </tr>\n",
       "  </thead>\n",
       "  <tbody>\n",
       "    <tr>\n",
       "      <th>0</th>\n",
       "      <td>-15.001348</td>\n",
       "      <td>-8.276000</td>\n",
       "      <td>-0.005876</td>\n",
       "      <td>3.179103</td>\n",
       "    </tr>\n",
       "    <tr>\n",
       "      <th>1</th>\n",
       "      <td>14.272088</td>\n",
       "      <td>-3.475083</td>\n",
       "      <td>0.999183</td>\n",
       "      <td>26.953261</td>\n",
       "    </tr>\n",
       "    <tr>\n",
       "      <th>2</th>\n",
       "      <td>6.263187</td>\n",
       "      <td>-5.948386</td>\n",
       "      <td>5.001160</td>\n",
       "      <td>134.766305</td>\n",
       "    </tr>\n",
       "    <tr>\n",
       "      <th>3</th>\n",
       "      <td>-13.081196</td>\n",
       "      <td>-11.506057</td>\n",
       "      <td>4.999415</td>\n",
       "      <td>137.945408</td>\n",
       "    </tr>\n",
       "    <tr>\n",
       "      <th>4</th>\n",
       "      <td>12.702195</td>\n",
       "      <td>-8.147433</td>\n",
       "      <td>5.004363</td>\n",
       "      <td>134.766305</td>\n",
       "    </tr>\n",
       "  </tbody>\n",
       "</table>\n",
       "</div>"
      ],
      "text/plain": [
       "          f0         f1        f2     product\n",
       "0 -15.001348  -8.276000 -0.005876    3.179103\n",
       "1  14.272088  -3.475083  0.999183   26.953261\n",
       "2   6.263187  -5.948386  5.001160  134.766305\n",
       "3 -13.081196 -11.506057  4.999415  137.945408\n",
       "4  12.702195  -8.147433  5.004363  134.766305"
      ]
     },
     "execution_count": 9,
     "metadata": {},
     "output_type": "execute_result"
    }
   ],
   "source": [
    "data2.head()"
   ]
  },
  {
   "cell_type": "code",
   "execution_count": 10,
   "metadata": {
    "scrolled": true
   },
   "outputs": [
    {
     "data": {
      "text/html": [
       "<div>\n",
       "<style scoped>\n",
       "    .dataframe tbody tr th:only-of-type {\n",
       "        vertical-align: middle;\n",
       "    }\n",
       "\n",
       "    .dataframe tbody tr th {\n",
       "        vertical-align: top;\n",
       "    }\n",
       "\n",
       "    .dataframe thead th {\n",
       "        text-align: right;\n",
       "    }\n",
       "</style>\n",
       "<table border=\"1\" class=\"dataframe\">\n",
       "  <thead>\n",
       "    <tr style=\"text-align: right;\">\n",
       "      <th></th>\n",
       "      <th>f0</th>\n",
       "      <th>f1</th>\n",
       "      <th>f2</th>\n",
       "      <th>product</th>\n",
       "    </tr>\n",
       "  </thead>\n",
       "  <tbody>\n",
       "    <tr>\n",
       "      <th>0</th>\n",
       "      <td>-1.146987</td>\n",
       "      <td>0.963328</td>\n",
       "      <td>-0.828965</td>\n",
       "      <td>27.758673</td>\n",
       "    </tr>\n",
       "    <tr>\n",
       "      <th>1</th>\n",
       "      <td>0.262778</td>\n",
       "      <td>0.269839</td>\n",
       "      <td>-2.530187</td>\n",
       "      <td>56.069697</td>\n",
       "    </tr>\n",
       "    <tr>\n",
       "      <th>2</th>\n",
       "      <td>0.194587</td>\n",
       "      <td>0.289035</td>\n",
       "      <td>-5.586433</td>\n",
       "      <td>62.871910</td>\n",
       "    </tr>\n",
       "    <tr>\n",
       "      <th>3</th>\n",
       "      <td>2.236060</td>\n",
       "      <td>-0.553760</td>\n",
       "      <td>0.930038</td>\n",
       "      <td>114.572842</td>\n",
       "    </tr>\n",
       "    <tr>\n",
       "      <th>4</th>\n",
       "      <td>-0.515993</td>\n",
       "      <td>1.716266</td>\n",
       "      <td>5.899011</td>\n",
       "      <td>149.600746</td>\n",
       "    </tr>\n",
       "  </tbody>\n",
       "</table>\n",
       "</div>"
      ],
      "text/plain": [
       "         f0        f1        f2     product\n",
       "0 -1.146987  0.963328 -0.828965   27.758673\n",
       "1  0.262778  0.269839 -2.530187   56.069697\n",
       "2  0.194587  0.289035 -5.586433   62.871910\n",
       "3  2.236060 -0.553760  0.930038  114.572842\n",
       "4 -0.515993  1.716266  5.899011  149.600746"
      ]
     },
     "execution_count": 10,
     "metadata": {},
     "output_type": "execute_result"
    }
   ],
   "source": [
    "data3.head()"
   ]
  },
  {
   "cell_type": "markdown",
   "metadata": {},
   "source": [
    "Дополнительно посмотрим на распределение целевого признака в каждом из регионов:"
   ]
  },
  {
   "cell_type": "code",
   "execution_count": 11,
   "metadata": {},
   "outputs": [
    {
     "data": {
      "image/png": "[encoded data removed]",
      "text/plain": [
       "<Figure size 1440x720 with 1 Axes>"
      ]
     },
     "metadata": {
      "needs_background": "light"
     },
     "output_type": "display_data"
    }
   ],
   "source": [
    "data1['product'].hist(bins=50, figsize=(20, 10)).tick_params(labelsize=15)\n",
    "plt.title('Гистограмма для объёма запасов в скважинах в первом регионе', fontsize=20)\n",
    "plt.ylabel('Кол-во скважин', fontsize=20)\n",
    "plt.xlabel('Объём запасов в скважине (тыс. баррелей)', fontsize=20);"
   ]
  },
  {
   "cell_type": "code",
   "execution_count": 12,
   "metadata": {},
   "outputs": [
    {
     "data": {
      "image/png": "[encoded data removed]",
      "text/plain": [
       "<Figure size 1440x720 with 1 Axes>"
      ]
     },
     "metadata": {
      "needs_background": "light"
     },
     "output_type": "display_data"
    }
   ],
   "source": [
    "data2['product'].hist(bins=50, figsize=(20, 10)).tick_params(labelsize=15)\n",
    "plt.title('Гистограмма для объёма запасов в скважинах во втором регионе', fontsize=20)\n",
    "plt.ylabel('Кол-во скважин', fontsize=20)\n",
    "plt.xlabel('Объём запасов в скважине (тыс. баррелей)', fontsize=20);"
   ]
  },
  {
   "cell_type": "code",
   "execution_count": 13,
   "metadata": {},
   "outputs": [
    {
     "data": {
      "image/png": "[encoded data removed]",
      "text/plain": [
       "<Figure size 1440x720 with 1 Axes>"
      ]
     },
     "metadata": {
      "needs_background": "light"
     },
     "output_type": "display_data"
    }
   ],
   "source": [
    "data3['product'].hist(bins=50, figsize=(20, 10)).tick_params(labelsize=15)\n",
    "plt.title('Гистограмма для объёма запасов в скважинах в третьем регионе', fontsize=20)\n",
    "plt.ylabel('Кол-во скважин', fontsize=20)\n",
    "plt.xlabel('Объём запасов в скважине (тыс. баррелей)', fontsize=20);"
   ]
  },
  {
   "cell_type": "markdown",
   "metadata": {},
   "source": [
    "Во втором регионе (`geo_data_1.csv`) видно необычное распределение целевого признака. Посмотрим на уникальные значения целевого признака в этом регионе:"
   ]
  },
  {
   "cell_type": "code",
   "execution_count": 14,
   "metadata": {},
   "outputs": [
    {
     "data": {
      "text/plain": [
       "array([  3.17910258,  26.95326103, 134.76630516, 137.94540774,\n",
       "        84.03888568, 110.99214671,  53.90652206,   0.        ,\n",
       "       107.81304413,  57.08562465,  30.13236361,  80.85978309])"
      ]
     },
     "execution_count": 14,
     "metadata": {},
     "output_type": "execute_result"
    }
   ],
   "source": [
    "data2['product'].unique()"
   ]
  },
  {
   "cell_type": "markdown",
   "metadata": {},
   "source": [
    "Во втором регионе целевой признак можно назвать дискретным, он принимает всего 12 различных значений. К тому же, эти значения распределены достаточно равномерно. В остальных регионах целевой признак непрерывный."
   ]
  },
  {
   "cell_type": "markdown",
   "metadata": {},
   "source": [
    "## Обучение и проверка модели"
   ]
  },
  {
   "cell_type": "markdown",
   "metadata": {},
   "source": [
    "### Разделение данных на обучающую и валидационную выборки"
   ]
  },
  {
   "cell_type": "markdown",
   "metadata": {},
   "source": [
    "Разделим данные на обучающую и валидационную выборки в каждом регионе. Целевым признаком для моделей является столбец `'product'`."
   ]
  },
  {
   "cell_type": "code",
   "execution_count": 15,
   "metadata": {},
   "outputs": [],
   "source": [
    "features1 = data1.drop('product', axis=1)\n",
    "target1 = data1['product']\n",
    "\n",
    "features2 = data2.drop('product', axis=1)\n",
    "target2 = data2['product']\n",
    "\n",
    "features3 = data3.drop('product', axis=1)\n",
    "target3 = data3['product']"
   ]
  },
  {
   "cell_type": "code",
   "execution_count": 16,
   "metadata": {},
   "outputs": [],
   "source": [
    "x1_train, x1_valid, y1_train, y1_valid = train_test_split(\n",
    "    features1, target1, random_state=RANDOM_STATE)\n",
    "\n",
    "x2_train, x2_valid, y2_train, y2_valid = train_test_split(\n",
    "    features2, target2, random_state=RANDOM_STATE)\n",
    "\n",
    "x3_train, x3_valid, y3_train, y3_valid = train_test_split(\n",
    "    features3, target3, random_state=RANDOM_STATE)"
   ]
  },
  {
   "cell_type": "markdown",
   "metadata": {},
   "source": [
    "### Обучение и получение предсказаний моделей по каждому из регионов"
   ]
  },
  {
   "cell_type": "markdown",
   "metadata": {},
   "source": [
    "Для каждого региона создадим и обучим модель на тренировочных данных. Предсказания моделей запишем в переменные `'predictions1'`, `'predictions2'` и `'predictions3'`."
   ]
  },
  {
   "cell_type": "markdown",
   "metadata": {},
   "source": [
    "#### Регион 1"
   ]
  },
  {
   "cell_type": "code",
   "execution_count": 17,
   "metadata": {},
   "outputs": [],
   "source": [
    "model1 = LinearRegression()\n",
    "model1.fit(x1_train, y1_train)\n",
    "predictions1 = pd.Series(model1.predict(x1_valid))"
   ]
  },
  {
   "cell_type": "markdown",
   "metadata": {},
   "source": [
    "#### Регион 2"
   ]
  },
  {
   "cell_type": "code",
   "execution_count": 18,
   "metadata": {},
   "outputs": [],
   "source": [
    "model2 = LinearRegression()\n",
    "model2.fit(x2_train, y2_train)\n",
    "predictions2 = pd.Series(model2.predict(x2_valid))"
   ]
  },
  {
   "cell_type": "markdown",
   "metadata": {},
   "source": [
    "#### Регион 3"
   ]
  },
  {
   "cell_type": "code",
   "execution_count": 19,
   "metadata": {},
   "outputs": [],
   "source": [
    "model3 = LinearRegression()\n",
    "model3.fit(x3_train, y3_train)\n",
    "predictions3 = pd.Series(model3.predict(x3_valid))"
   ]
  },
  {
   "cell_type": "markdown",
   "metadata": {},
   "source": [
    "### RMSE моделей и средний запас предсказанного сырья"
   ]
  },
  {
   "cell_type": "markdown",
   "metadata": {},
   "source": [
    "Посчитаем среднее отклонение предсказаний от фактических данных для каждого из регионов:"
   ]
  },
  {
   "cell_type": "code",
   "execution_count": 20,
   "metadata": {},
   "outputs": [
    {
     "name": "stdout",
     "output_type": "stream",
     "text": [
      "RMSE модели в первом регионе: 37.71664266580217\n",
      "RMSE модели во втором регионе: 0.8916722417789359\n",
      "RMSE модели в третьем регионе: 40.13509716973861\n"
     ]
    }
   ],
   "source": [
    "print('RMSE модели в первом регионе:', \n",
    "      mean_squared_error(y1_valid, predictions1, squared=False))\n",
    "\n",
    "print('RMSE модели во втором регионе:', \n",
    "      mean_squared_error(y2_valid, predictions2, squared=False))\n",
    "\n",
    "print('RMSE модели в третьем регионе:', \n",
    "      mean_squared_error(y3_valid, predictions3, squared=False))"
   ]
  },
  {
   "cell_type": "markdown",
   "metadata": {},
   "source": [
    "Во втором регионе отклонение крайне маленькое, модель предсказывает значения достаточно точно."
   ]
  },
  {
   "cell_type": "markdown",
   "metadata": {},
   "source": [
    "Посчитаем среднее значение предсказанного сырья для каждого из регионов:"
   ]
  },
  {
   "cell_type": "code",
   "execution_count": 21,
   "metadata": {},
   "outputs": [
    {
     "name": "stdout",
     "output_type": "stream",
     "text": [
      "Средний запас предсказанного сырья в первом регионе: 92.60918187949363\n",
      "Средний запас предсказанного сырья модели во втором регионе: 68.66976858021387\n",
      "Средний запас предсказанного сырья модели в третьем регионе: 95.07765644364136\n"
     ]
    }
   ],
   "source": [
    "print('Средний запас предсказанного сырья в первом регионе:',\n",
    "      predictions1.mean())\n",
    "\n",
    "print('Средний запас предсказанного сырья модели во втором регионе:',\n",
    "      predictions2.mean())\n",
    "\n",
    "print('Средний запас предсказанного сырья модели в третьем регионе:', \n",
    "      predictions3.mean())"
   ]
  },
  {
   "cell_type": "markdown",
   "metadata": {},
   "source": [
    "Во втором регионе средний предсказанный запас меньше всего, однако, этим данным мы можем доверять в большей степени, чем в двух других регионах."
   ]
  },
  {
   "cell_type": "markdown",
   "metadata": {},
   "source": [
    "## Подготовка к расчёту прибыли"
   ]
  },
  {
   "cell_type": "markdown",
   "metadata": {},
   "source": [
    "### Сохранение значений в константы"
   ]
  },
  {
   "cell_type": "markdown",
   "metadata": {},
   "source": [
    "Сохраним ключевые значения для будущих расчётов в константы:"
   ]
  },
  {
   "cell_type": "code",
   "execution_count": 22,
   "metadata": {},
   "outputs": [],
   "source": [
    "POINTS_CHEKED = 500\n",
    "BEST_POINTS = 200\n",
    "BUDGET = 10_000_000_000\n",
    "UNIT_REVENUE = 450_000"
   ]
  },
  {
   "cell_type": "markdown",
   "metadata": {},
   "source": [
    "### Подсчёт объёма сырья для безубыточной разработки"
   ]
  },
  {
   "cell_type": "markdown",
   "metadata": {},
   "source": [
    "Подсчитаем средний запас необходимого сырья в одной скважине. Так как мы планируем бурить 200 скважин, чтобы подсчитать затраты на одну скважину, нужно поделить весь бюджет на кол-во скважин. Полученное значение нужно поделить на стоимость тысячи баррелей нефти (т.к. в таблице указан объём в тыс. баррелей). Так мы получим средний запас сырья в одной скважине, который нужен для окупаемости проекта."
   ]
  },
  {
   "cell_type": "code",
   "execution_count": 23,
   "metadata": {},
   "outputs": [
    {
     "data": {
      "text/plain": [
       "111.11111111111111"
      ]
     },
     "execution_count": 23,
     "metadata": {},
     "output_type": "execute_result"
    }
   ],
   "source": [
    "required_amount = BUDGET / BEST_POINTS / UNIT_REVENUE\n",
    "required_amount"
   ]
  },
  {
   "cell_type": "markdown",
   "metadata": {},
   "source": [
    "Как мы видим, средний необходимый запас больше среднего значения по каждому из регионов. Как раз поэтому мы будем выбирать 200 лучших скважин из 500 изучаемых, а также использовать Bootstrap для оценки рисков убытка в каждом из регионов."
   ]
  },
  {
   "cell_type": "markdown",
   "metadata": {},
   "source": [
    "### Функция расчёта прибыли"
   ]
  },
  {
   "cell_type": "markdown",
   "metadata": {},
   "source": [
    "Напишем функцию для расчёта прибыли. Функция будет принимать в себя данные о 500 выбранных точках, а также все фактические данные о них. В функции мы будем выбирать 200 лучших точек по предсказаниям модели, а потом сопоставлять их с 200 точками из реальных данных. Функция будет возвращать подсчёт прибыли при каждом из различных вариантов выбора 500 точек для исследования (1000 вариантов будет перебираться в цикле в функции `bootstrap()`).\n",
    "\n",
    "Прибыль считается по формуле [суммарный объём нефти * цена за единицу нефти - потраченный бюджет]."
   ]
  },
  {
   "cell_type": "code",
   "execution_count": 24,
   "metadata": {},
   "outputs": [],
   "source": [
    "def profit(predictions, target):\n",
    "    best_200_predictions = predictions.sort_values(ascending=False)[:BEST_POINTS]\n",
    "    best_200_target = target[best_200_predictions.index]\n",
    "    product = best_200_target.sum()\n",
    "    \n",
    "    return product * UNIT_REVENUE - BUDGET"
   ]
  },
  {
   "cell_type": "markdown",
   "metadata": {},
   "source": [
    "## Расчёт прибыли и рисков "
   ]
  },
  {
   "cell_type": "markdown",
   "metadata": {},
   "source": [
    "### Применение Bootstrap"
   ]
  },
  {
   "cell_type": "markdown",
   "metadata": {},
   "source": [
    "Применим технику Bootstrap для получения распределения возможной прибыли при разном выборе 500 исследуемых точек. Функция `bootstrap()` принимает в себя предсказания модели и фактические данные об объёме сырья, а возвращает распределение возможной прибыли."
   ]
  },
  {
   "cell_type": "code",
   "execution_count": 25,
   "metadata": {},
   "outputs": [],
   "source": [
    "state = RandomState(RANDOM_STATE)\n",
    "\n",
    "def bootstrap(preds, target):\n",
    "    profits = []\n",
    "    target.reset_index(inplace=True, drop=True)\n",
    "    \n",
    "    for i in range(1000): \n",
    "        preds_subsample = preds.sample(POINTS_CHEKED, replace=True, random_state=state)  \n",
    "        profits.append(profit(preds_subsample, target))\n",
    "        \n",
    "    return pd.Series(profits)"
   ]
  },
  {
   "cell_type": "markdown",
   "metadata": {},
   "source": [
    "Запишем распределения прибыли в переменные для каждого из регионов:"
   ]
  },
  {
   "cell_type": "code",
   "execution_count": 26,
   "metadata": {},
   "outputs": [],
   "source": [
    "profits1 = bootstrap(predictions1, y1_valid)\n",
    "profits2 = bootstrap(predictions2, y2_valid)\n",
    "profits3 = bootstrap(predictions3, y3_valid)"
   ]
  },
  {
   "cell_type": "markdown",
   "metadata": {},
   "source": [
    "Построим гистограммы для возможной прибыли в каждом регионе:"
   ]
  },
  {
   "cell_type": "code",
   "execution_count": 27,
   "metadata": {},
   "outputs": [
    {
     "data": {
      "image/png": "[encoded data removed]",
      "text/plain": [
       "<Figure size 1440x720 with 1 Axes>"
      ]
     },
     "metadata": {
      "needs_background": "light"
     },
     "output_type": "display_data"
    }
   ],
   "source": [
    "profits1.hist(bins=50, figsize=(20, 10)).tick_params(labelsize=15)\n",
    "plt.title('Гистограмма для возможной прибыли в первом регионе', fontsize=20)\n",
    "plt.ylabel('Кол-во бутстрапированных подвыборок', fontsize=17)\n",
    "plt.xlabel('Прибыль (млрд. рублей)', fontsize=20);"
   ]
  },
  {
   "cell_type": "code",
   "execution_count": 28,
   "metadata": {},
   "outputs": [
    {
     "data": {
      "image/png": "[encoded data removed]",
      "text/plain": [
       "<Figure size 1440x720 with 1 Axes>"
      ]
     },
     "metadata": {
      "needs_background": "light"
     },
     "output_type": "display_data"
    }
   ],
   "source": [
    "profits2.hist(bins=50, figsize=(20, 10)).tick_params(labelsize=15)\n",
    "plt.title('Гистограмма для возможной прибыли во втором регионе', fontsize=20)\n",
    "plt.ylabel('Кол-во бутстрапированных подвыборок', fontsize=17)\n",
    "plt.xlabel('Прибыль (млрд. рублей)', fontsize=20);"
   ]
  },
  {
   "cell_type": "code",
   "execution_count": 29,
   "metadata": {},
   "outputs": [
    {
     "data": {
      "image/png": "[encoded data removed]",
      "text/plain": [
       "<Figure size 1440x720 with 1 Axes>"
      ]
     },
     "metadata": {
      "needs_background": "light"
     },
     "output_type": "display_data"
    }
   ],
   "source": [
    "profits3.hist(bins=50, figsize=(20, 10)).tick_params(labelsize=15)\n",
    "plt.title('Гистограмма для возможной прибыли в третьем регионе', fontsize=20)\n",
    "plt.ylabel('Кол-во бутстрапированных подвыборок', fontsize=17)\n",
    "plt.xlabel('Прибыль (млрд. рублей)', fontsize=20);"
   ]
  },
  {
   "cell_type": "markdown",
   "metadata": {},
   "source": [
    "### Оценка рисков и среднее значение прибыли в регионе"
   ]
  },
  {
   "cell_type": "markdown",
   "metadata": {},
   "source": [
    "Посмотрим на среднее значение прибыли в каждом из регионов:"
   ]
  },
  {
   "cell_type": "code",
   "execution_count": 30,
   "metadata": {},
   "outputs": [
    {
     "name": "stdout",
     "output_type": "stream",
     "text": [
      "1-ый регион: 415610707.9117105\n",
      "2-ый регион: 435284356.4771178\n",
      "3-ый регион: 324105965.9249046\n"
     ]
    }
   ],
   "source": [
    "print('1-ый регион:', profits1.mean())\n",
    "print('2-ый регион:', profits2.mean())\n",
    "print('3-ый регион:', profits3.mean())"
   ]
  },
  {
   "cell_type": "markdown",
   "metadata": {},
   "source": [
    "Наивысшая прибыль получилась во втором регионе. Теперь нужно оценить риск убытка."
   ]
  },
  {
   "cell_type": "markdown",
   "metadata": {},
   "source": [
    "По условию заказчика, риск получить убыток (отрицательную прибыль) должен быть не более 2.5%. Таким образом, в распределениях прибыли значение 0.025 квантиля должно быть положительным. Если значение будет отрицательным, регион нам не подойдёт. Найдём значение 0.025 квантиля для каждого региона:"
   ]
  },
  {
   "cell_type": "code",
   "execution_count": 31,
   "metadata": {},
   "outputs": [
    {
     "name": "stdout",
     "output_type": "stream",
     "text": [
      "1-ый регион: -92983523.98715076\n",
      "2-ый регион: 24666248.955177832\n",
      "3-ый регион: -200961642.5862318\n"
     ]
    }
   ],
   "source": [
    "print('1-ый регион:', profits1.quantile(0.025))\n",
    "print('2-ый регион:', profits2.quantile(0.025))\n",
    "print('3-ый регион:', profits3.quantile(0.025))"
   ]
  },
  {
   "cell_type": "markdown",
   "metadata": {},
   "source": [
    "Условию удовлетворяет только второй регион (`geo_data_1.csv`), в остальных регионах риск получить убытки больше 2.5%."
   ]
  },
  {
   "cell_type": "markdown",
   "metadata": {},
   "source": [
    "### Доверительные интервалы для прибыли"
   ]
  },
  {
   "cell_type": "markdown",
   "metadata": {},
   "source": [
    "Построим доверительные 95% интервалы для прибыли в каждом из регионов. Эти интервалы располагаются между 0.025 квантилем и 0.975 квантилем, мы отсекаем по 2.5% значений с каждой стороны."
   ]
  },
  {
   "cell_type": "code",
   "execution_count": 32,
   "metadata": {},
   "outputs": [
    {
     "name": "stdout",
     "output_type": "stream",
     "text": [
      "95%-й доверительный интервал прибыли для первого региона:\n",
      "от -92983524.0 до 899524055.8\n",
      "\n",
      "95%-й доверительный интервал прибыли для второго региона:\n",
      "от 24666249.0 до 826725322.4\n",
      "\n",
      "95%-й доверительный интервал прибыли для третьего региона: \n",
      "от -200961642.6 до 873714120.0\n",
      "\n"
     ]
    }
   ],
   "source": [
    "print(f\"\"\"95%-й доверительный интервал прибыли для первого региона:\n",
    "от {profits1.quantile(0.025).round(1)} до {profits1.quantile(0.975).round(1)}\\n\"\"\")\n",
    "print(f\"\"\"95%-й доверительный интервал прибыли для второго региона:\n",
    "от {profits2.quantile(0.025).round(1)} до {profits2.quantile(0.975).round(1)}\\n\"\"\")\n",
    "print(f\"\"\"95%-й доверительный интервал прибыли для третьего региона: \n",
    "от {profits3.quantile(0.025).round(1)} до {profits3.quantile(0.975).round(1)}\\n\"\"\")"
   ]
  },
  {
   "cell_type": "markdown",
   "metadata": {},
   "source": [
    "Теперь мы можем увидеть в каком промежутке будет находиться наша прибыль с вероятностью 95%. Хотя верхняя граница первого региона находится выше, чем у второго, в первом регионе выше вероятность убытков, поэтому он нам не подходит."
   ]
  },
  {
   "cell_type": "markdown",
   "metadata": {},
   "source": [
    "Посмотрим какие риски убытков для каждого из регионов:"
   ]
  },
  {
   "cell_type": "code",
   "execution_count": 33,
   "metadata": {},
   "outputs": [
    {
     "name": "stdout",
     "output_type": "stream",
     "text": [
      "Риск убытков в первом регионе: 5.80% \n",
      "Риск убытков во втором регионе: 1.80% \n",
      "Риск убытков в третьем регионе: 13.10% \n"
     ]
    }
   ],
   "source": [
    "print('Риск убытков в первом регионе: {:.2%} '.format((profits1 < 0).mean()))\n",
    "print('Риск убытков во втором регионе: {:.2%} '.format((profits2 < 0).mean()))\n",
    "print('Риск убытков в третьем регионе: {:.2%} '.format((profits3 < 0).mean()))"
   ]
  },
  {
   "cell_type": "markdown",
   "metadata": {},
   "source": [
    "По рискам видно, что у второго региона значительное преимущество. В первом и третьем регионах риск убытков выше в несколько раз, чем во втором. Поэтому, не сомневаясь выбираем второй регион."
   ]
  },
  {
   "cell_type": "markdown",
   "metadata": {},
   "source": [
    "## Вывод"
   ]
  },
  {
   "cell_type": "markdown",
   "metadata": {},
   "source": [
    "Благодаря проведённому анализу геологических данных, мы смогли выбрать лучший регион для бурения новых скважин. Учитывая все условия заказчика нам подходит только регион №2 (`geo_data_1.csv`), в нём риски убытков минимальны. "
   ]
  }
 ],
 "metadata": {
  "ExecuteTimeLog": [
   {
    "duration": 423,
    "start_time": "2022-12-19T17:31:59.608Z"
   },
   {
    "duration": 96,
    "start_time": "2022-12-19T17:32:14.143Z"
   },
   {
    "duration": 777,
    "start_time": "2022-12-19T17:32:30.251Z"
   },
   {
    "duration": 24,
    "start_time": "2022-12-19T17:32:38.040Z"
   },
   {
    "duration": 12,
    "start_time": "2022-12-19T17:35:21.457Z"
   },
   {
    "duration": 16,
    "start_time": "2022-12-19T17:35:36.420Z"
   },
   {
    "duration": 19,
    "start_time": "2022-12-19T17:35:46.577Z"
   },
   {
    "duration": 43,
    "start_time": "2022-12-19T17:37:02.523Z"
   },
   {
    "duration": 42,
    "start_time": "2022-12-19T17:37:08.668Z"
   },
   {
    "duration": 617,
    "start_time": "2022-12-19T17:50:32.110Z"
   },
   {
    "duration": 1198,
    "start_time": "2022-12-19T17:50:36.234Z"
   },
   {
    "duration": 488,
    "start_time": "2022-12-19T17:50:37.434Z"
   },
   {
    "duration": 13,
    "start_time": "2022-12-19T17:50:56.702Z"
   },
   {
    "duration": 268,
    "start_time": "2022-12-19T17:51:49.824Z"
   },
   {
    "duration": 232,
    "start_time": "2022-12-19T17:52:00.901Z"
   },
   {
    "duration": 228,
    "start_time": "2022-12-19T17:52:03.857Z"
   },
   {
    "duration": 11,
    "start_time": "2022-12-19T17:52:27.374Z"
   },
   {
    "duration": 6,
    "start_time": "2022-12-19T17:52:51.118Z"
   },
   {
    "duration": 55,
    "start_time": "2022-12-19T21:26:37.181Z"
   },
   {
    "duration": 428,
    "start_time": "2022-12-19T21:26:40.517Z"
   },
   {
    "duration": 893,
    "start_time": "2022-12-19T21:26:40.946Z"
   },
   {
    "duration": 34,
    "start_time": "2022-12-19T21:26:41.841Z"
   },
   {
    "duration": 37,
    "start_time": "2022-12-19T21:26:51.279Z"
   },
   {
    "duration": 123,
    "start_time": "2022-12-19T21:27:32.815Z"
   },
   {
    "duration": 123,
    "start_time": "2022-12-19T21:27:50.152Z"
   },
   {
    "duration": 707,
    "start_time": "2022-12-19T21:35:47.594Z"
   },
   {
    "duration": 174,
    "start_time": "2022-12-19T21:35:58.168Z"
   },
   {
    "duration": 331,
    "start_time": "2022-12-19T21:39:42.847Z"
   },
   {
    "duration": 249,
    "start_time": "2022-12-19T21:39:43.802Z"
   },
   {
    "duration": 249,
    "start_time": "2022-12-19T21:39:44.067Z"
   },
   {
    "duration": 666,
    "start_time": "2022-12-19T21:53:10.064Z"
   },
   {
    "duration": 56,
    "start_time": "2022-12-19T21:55:37.620Z"
   },
   {
    "duration": 22,
    "start_time": "2022-12-19T21:55:54.061Z"
   },
   {
    "duration": 20,
    "start_time": "2022-12-19T21:57:05.864Z"
   },
   {
    "duration": 49,
    "start_time": "2022-12-19T21:58:07.654Z"
   },
   {
    "duration": 22,
    "start_time": "2022-12-19T22:04:27.546Z"
   },
   {
    "duration": 41,
    "start_time": "2022-12-19T22:15:55.255Z"
   },
   {
    "duration": 15,
    "start_time": "2022-12-19T22:17:11.392Z"
   },
   {
    "duration": 11,
    "start_time": "2022-12-19T22:17:17.542Z"
   },
   {
    "duration": 9,
    "start_time": "2022-12-19T22:17:24.219Z"
   },
   {
    "duration": 9,
    "start_time": "2022-12-19T22:17:30.182Z"
   },
   {
    "duration": 34,
    "start_time": "2022-12-19T22:18:03.388Z"
   },
   {
    "duration": 16,
    "start_time": "2022-12-19T22:18:06.852Z"
   },
   {
    "duration": 38,
    "start_time": "2022-12-19T22:18:07.190Z"
   },
   {
    "duration": 16,
    "start_time": "2022-12-19T22:18:08.418Z"
   },
   {
    "duration": 22,
    "start_time": "2022-12-19T22:18:14.091Z"
   },
   {
    "duration": 12,
    "start_time": "2022-12-19T22:19:02.106Z"
   },
   {
    "duration": 12,
    "start_time": "2022-12-19T22:19:02.766Z"
   },
   {
    "duration": 16,
    "start_time": "2022-12-19T22:20:03.018Z"
   },
   {
    "duration": 17,
    "start_time": "2022-12-19T22:20:03.414Z"
   },
   {
    "duration": 12,
    "start_time": "2022-12-19T22:20:03.950Z"
   },
   {
    "duration": 19,
    "start_time": "2022-12-19T22:20:11.437Z"
   },
   {
    "duration": 11,
    "start_time": "2022-12-19T22:20:15.564Z"
   },
   {
    "duration": 13,
    "start_time": "2022-12-19T22:20:16.051Z"
   },
   {
    "duration": 13,
    "start_time": "2022-12-19T22:20:16.516Z"
   },
   {
    "duration": 3,
    "start_time": "2022-12-19T22:20:53.901Z"
   },
   {
    "duration": 6,
    "start_time": "2022-12-19T22:23:23.727Z"
   },
   {
    "duration": 5,
    "start_time": "2022-12-19T22:26:31.037Z"
   },
   {
    "duration": 7,
    "start_time": "2022-12-19T22:26:57.010Z"
   },
   {
    "duration": 7,
    "start_time": "2022-12-19T22:27:01.256Z"
   },
   {
    "duration": 2,
    "start_time": "2022-12-19T22:28:49.643Z"
   },
   {
    "duration": 22,
    "start_time": "2022-12-19T22:29:00.175Z"
   },
   {
    "duration": 3,
    "start_time": "2022-12-19T22:34:37.817Z"
   },
   {
    "duration": 3,
    "start_time": "2022-12-19T22:35:35.933Z"
   },
   {
    "duration": 4,
    "start_time": "2022-12-19T22:55:08.662Z"
   },
   {
    "duration": 8,
    "start_time": "2022-12-19T22:55:17.641Z"
   },
   {
    "duration": 3,
    "start_time": "2022-12-19T22:55:25.105Z"
   },
   {
    "duration": 4,
    "start_time": "2022-12-19T22:55:25.543Z"
   },
   {
    "duration": 4,
    "start_time": "2022-12-19T22:57:27.770Z"
   },
   {
    "duration": 4,
    "start_time": "2022-12-19T22:59:03.586Z"
   },
   {
    "duration": 4,
    "start_time": "2022-12-19T22:59:18.923Z"
   },
   {
    "duration": 4,
    "start_time": "2022-12-19T23:06:41.582Z"
   },
   {
    "duration": 3,
    "start_time": "2022-12-19T23:06:44.634Z"
   },
   {
    "duration": 3,
    "start_time": "2022-12-19T23:06:44.799Z"
   },
   {
    "duration": 3,
    "start_time": "2022-12-19T23:40:01.004Z"
   },
   {
    "duration": 3,
    "start_time": "2022-12-19T23:42:01.126Z"
   },
   {
    "duration": 1149,
    "start_time": "2022-12-20T13:21:57.507Z"
   },
   {
    "duration": 3,
    "start_time": "2022-12-20T13:21:58.659Z"
   },
   {
    "duration": 2229,
    "start_time": "2022-12-20T13:21:58.664Z"
   },
   {
    "duration": 53,
    "start_time": "2022-12-20T13:22:00.896Z"
   },
   {
    "duration": 203,
    "start_time": "2022-12-20T13:22:00.953Z"
   },
   {
    "duration": 21,
    "start_time": "2022-12-20T13:22:01.158Z"
   },
   {
    "duration": 19,
    "start_time": "2022-12-20T13:22:01.181Z"
   },
   {
    "duration": 47,
    "start_time": "2022-12-20T13:22:01.202Z"
   },
   {
    "duration": 53,
    "start_time": "2022-12-20T13:22:01.252Z"
   },
   {
    "duration": 72,
    "start_time": "2022-12-20T13:22:01.308Z"
   },
   {
    "duration": 73,
    "start_time": "2022-12-20T13:22:01.383Z"
   },
   {
    "duration": 120,
    "start_time": "2022-12-20T13:22:01.458Z"
   },
   {
    "duration": 111,
    "start_time": "2022-12-20T13:22:01.580Z"
   },
   {
    "duration": 205,
    "start_time": "2022-12-20T13:22:01.695Z"
   },
   {
    "duration": 7,
    "start_time": "2022-12-20T13:22:01.903Z"
   },
   {
    "duration": 181,
    "start_time": "2022-12-20T13:22:01.912Z"
   },
   {
    "duration": 13,
    "start_time": "2022-12-20T13:22:02.096Z"
   },
   {
    "duration": 14,
    "start_time": "2022-12-20T13:22:02.111Z"
   },
   {
    "duration": 8,
    "start_time": "2022-12-20T13:22:02.127Z"
   },
   {
    "duration": 97,
    "start_time": "2022-12-20T13:22:02.137Z"
   },
   {
    "duration": 4,
    "start_time": "2022-12-20T13:22:13.305Z"
   },
   {
    "duration": 21,
    "start_time": "2022-12-20T13:22:55.725Z"
   },
   {
    "duration": 3,
    "start_time": "2022-12-20T13:23:05.558Z"
   },
   {
    "duration": 4,
    "start_time": "2022-12-20T13:23:23.017Z"
   },
   {
    "duration": 6,
    "start_time": "2022-12-20T13:23:39.598Z"
   },
   {
    "duration": 6,
    "start_time": "2022-12-20T13:23:53.021Z"
   },
   {
    "duration": 6,
    "start_time": "2022-12-20T13:24:06.862Z"
   },
   {
    "duration": 8,
    "start_time": "2022-12-20T13:24:47.810Z"
   },
   {
    "duration": 13,
    "start_time": "2022-12-20T13:44:56.320Z"
   },
   {
    "duration": 14,
    "start_time": "2022-12-20T13:46:13.800Z"
   },
   {
    "duration": 16,
    "start_time": "2022-12-20T13:46:26.253Z"
   },
   {
    "duration": 11,
    "start_time": "2022-12-20T13:46:36.310Z"
   },
   {
    "duration": 24,
    "start_time": "2022-12-20T13:46:39.904Z"
   },
   {
    "duration": 23,
    "start_time": "2022-12-20T13:48:11.818Z"
   },
   {
    "duration": 25,
    "start_time": "2022-12-20T13:48:23.915Z"
   },
   {
    "duration": 25,
    "start_time": "2022-12-20T13:49:02.442Z"
   },
   {
    "duration": 13,
    "start_time": "2022-12-20T13:49:03.450Z"
   },
   {
    "duration": 18,
    "start_time": "2022-12-20T13:49:04.079Z"
   },
   {
    "duration": 12,
    "start_time": "2022-12-20T13:49:04.699Z"
   },
   {
    "duration": 79,
    "start_time": "2022-12-20T13:49:07.942Z"
   },
   {
    "duration": 21,
    "start_time": "2022-12-20T13:49:11.305Z"
   },
   {
    "duration": 15,
    "start_time": "2022-12-20T13:49:34.649Z"
   },
   {
    "duration": 15,
    "start_time": "2022-12-20T13:49:52.665Z"
   },
   {
    "duration": 11,
    "start_time": "2022-12-20T13:51:07.940Z"
   },
   {
    "duration": 14,
    "start_time": "2022-12-20T13:52:35.034Z"
   },
   {
    "duration": 4802,
    "start_time": "2022-12-20T13:55:55.511Z"
   },
   {
    "duration": 8483,
    "start_time": "2022-12-20T13:56:29.910Z"
   },
   {
    "duration": 3,
    "start_time": "2022-12-20T14:05:46.342Z"
   },
   {
    "duration": 3,
    "start_time": "2022-12-20T14:16:08.057Z"
   },
   {
    "duration": 4,
    "start_time": "2022-12-20T14:16:29.498Z"
   },
   {
    "duration": 4,
    "start_time": "2022-12-20T14:25:11.876Z"
   },
   {
    "duration": 649,
    "start_time": "2022-12-20T14:26:35.057Z"
   },
   {
    "duration": 644,
    "start_time": "2022-12-20T14:27:00.565Z"
   },
   {
    "duration": 2032,
    "start_time": "2022-12-20T14:27:40.983Z"
   },
   {
    "duration": 2028,
    "start_time": "2022-12-20T14:31:19.329Z"
   },
   {
    "duration": 2019,
    "start_time": "2022-12-20T14:31:25.113Z"
   },
   {
    "duration": 1958,
    "start_time": "2022-12-20T14:31:38.148Z"
   },
   {
    "duration": 2201,
    "start_time": "2022-12-20T14:31:43.055Z"
   },
   {
    "duration": 1903,
    "start_time": "2022-12-20T14:31:48.271Z"
   },
   {
    "duration": 2093,
    "start_time": "2022-12-20T14:31:56.197Z"
   },
   {
    "duration": 1975,
    "start_time": "2022-12-20T14:32:07.009Z"
   },
   {
    "duration": 1893,
    "start_time": "2022-12-20T14:32:15.503Z"
   },
   {
    "duration": 2053,
    "start_time": "2022-12-20T14:32:41.576Z"
   },
   {
    "duration": 1808,
    "start_time": "2022-12-20T14:32:46.867Z"
   },
   {
    "duration": 1846,
    "start_time": "2022-12-20T14:33:50.050Z"
   },
   {
    "duration": 2484,
    "start_time": "2022-12-20T14:33:54.353Z"
   },
   {
    "duration": 4,
    "start_time": "2022-12-20T14:34:50.332Z"
   },
   {
    "duration": 1898,
    "start_time": "2022-12-20T14:34:52.967Z"
   },
   {
    "duration": 4,
    "start_time": "2022-12-20T14:35:00.260Z"
   },
   {
    "duration": 4,
    "start_time": "2022-12-20T14:35:30.013Z"
   },
   {
    "duration": 1965,
    "start_time": "2022-12-20T14:35:30.459Z"
   },
   {
    "duration": 130,
    "start_time": "2022-12-20T14:35:40.335Z"
   },
   {
    "duration": 122,
    "start_time": "2022-12-20T14:35:52.817Z"
   },
   {
    "duration": 123,
    "start_time": "2022-12-20T14:36:05.330Z"
   },
   {
    "duration": 190,
    "start_time": "2022-12-20T14:36:25.477Z"
   },
   {
    "duration": 255,
    "start_time": "2022-12-20T14:36:29.642Z"
   },
   {
    "duration": 177,
    "start_time": "2022-12-20T14:36:33.301Z"
   },
   {
    "duration": 4,
    "start_time": "2022-12-20T14:40:48.054Z"
   },
   {
    "duration": 5,
    "start_time": "2022-12-20T14:41:05.061Z"
   },
   {
    "duration": 6,
    "start_time": "2022-12-20T14:41:19.593Z"
   },
   {
    "duration": 4,
    "start_time": "2022-12-20T14:41:30.936Z"
   },
   {
    "duration": 1881,
    "start_time": "2022-12-20T14:41:31.410Z"
   },
   {
    "duration": 219,
    "start_time": "2022-12-20T14:41:33.293Z"
   },
   {
    "duration": 224,
    "start_time": "2022-12-20T14:41:33.514Z"
   },
   {
    "duration": 207,
    "start_time": "2022-12-20T14:41:33.740Z"
   },
   {
    "duration": 7,
    "start_time": "2022-12-20T14:41:34.950Z"
   },
   {
    "duration": 7,
    "start_time": "2022-12-20T14:45:19.278Z"
   },
   {
    "duration": 62,
    "start_time": "2022-12-20T15:20:19.333Z"
   },
   {
    "duration": 1131,
    "start_time": "2022-12-20T15:20:26.681Z"
   },
   {
    "duration": 3,
    "start_time": "2022-12-20T15:20:27.814Z"
   },
   {
    "duration": 851,
    "start_time": "2022-12-20T15:20:27.818Z"
   },
   {
    "duration": 37,
    "start_time": "2022-12-20T15:20:28.672Z"
   },
   {
    "duration": 134,
    "start_time": "2022-12-20T15:20:28.711Z"
   },
   {
    "duration": 15,
    "start_time": "2022-12-20T15:20:28.847Z"
   },
   {
    "duration": 17,
    "start_time": "2022-12-20T15:20:28.878Z"
   },
   {
    "duration": 8,
    "start_time": "2022-12-20T15:20:28.898Z"
   },
   {
    "duration": 13,
    "start_time": "2022-12-20T15:20:28.908Z"
   },
   {
    "duration": 16,
    "start_time": "2022-12-20T15:20:28.925Z"
   },
   {
    "duration": 60,
    "start_time": "2022-12-20T15:20:28.943Z"
   },
   {
    "duration": 74,
    "start_time": "2022-12-20T15:20:29.006Z"
   },
   {
    "duration": 106,
    "start_time": "2022-12-20T15:20:29.083Z"
   },
   {
    "duration": 101,
    "start_time": "2022-12-20T15:20:29.192Z"
   },
   {
    "duration": 191,
    "start_time": "2022-12-20T15:20:29.295Z"
   },
   {
    "duration": 36,
    "start_time": "2022-12-20T15:20:29.487Z"
   },
   {
    "duration": 16,
    "start_time": "2022-12-20T15:20:29.524Z"
   },
   {
    "duration": 41,
    "start_time": "2022-12-20T15:20:29.541Z"
   },
   {
    "duration": 33,
    "start_time": "2022-12-20T15:20:29.584Z"
   },
   {
    "duration": 28,
    "start_time": "2022-12-20T15:20:29.619Z"
   },
   {
    "duration": 2082,
    "start_time": "2022-12-20T15:20:29.648Z"
   },
   {
    "duration": 657,
    "start_time": "2022-12-20T15:20:31.732Z"
   },
   {
    "duration": 231,
    "start_time": "2022-12-20T15:20:32.390Z"
   },
   {
    "duration": 227,
    "start_time": "2022-12-20T15:20:32.623Z"
   },
   {
    "duration": 7,
    "start_time": "2022-12-20T15:20:32.852Z"
   },
   {
    "duration": 12,
    "start_time": "2022-12-20T15:20:32.879Z"
   },
   {
    "duration": 5,
    "start_time": "2022-12-20T15:21:06.053Z"
   },
   {
    "duration": 7,
    "start_time": "2022-12-20T15:21:13.070Z"
   },
   {
    "duration": 5,
    "start_time": "2022-12-20T15:21:24.389Z"
   },
   {
    "duration": 8,
    "start_time": "2022-12-20T15:21:45.949Z"
   },
   {
    "duration": 8,
    "start_time": "2022-12-20T15:21:58.597Z"
   },
   {
    "duration": 63,
    "start_time": "2022-12-20T15:23:17.316Z"
   },
   {
    "duration": 10,
    "start_time": "2022-12-20T15:24:05.462Z"
   },
   {
    "duration": 9,
    "start_time": "2022-12-20T15:24:41.518Z"
   },
   {
    "duration": 9,
    "start_time": "2022-12-20T15:24:53.760Z"
   },
   {
    "duration": 10,
    "start_time": "2022-12-20T15:29:52.810Z"
   },
   {
    "duration": 10,
    "start_time": "2022-12-20T15:30:21.493Z"
   },
   {
    "duration": 273,
    "start_time": "2022-12-20T15:32:04.885Z"
   },
   {
    "duration": 202,
    "start_time": "2022-12-20T15:32:19.129Z"
   },
   {
    "duration": 192,
    "start_time": "2022-12-20T15:32:27.275Z"
   },
   {
    "duration": 191,
    "start_time": "2022-12-20T15:32:31.643Z"
   },
   {
    "duration": 110,
    "start_time": "2022-12-20T15:35:01.513Z"
   },
   {
    "duration": 40,
    "start_time": "2022-12-20T15:35:21.837Z"
   },
   {
    "duration": 5,
    "start_time": "2022-12-20T15:35:25.312Z"
   },
   {
    "duration": 4,
    "start_time": "2022-12-20T15:45:29.329Z"
   },
   {
    "duration": 7,
    "start_time": "2022-12-20T15:54:50.857Z"
   },
   {
    "duration": 7,
    "start_time": "2022-12-20T16:09:41.753Z"
   },
   {
    "duration": 6,
    "start_time": "2022-12-20T16:16:25.459Z"
   },
   {
    "duration": 1077,
    "start_time": "2022-12-20T16:27:36.271Z"
   },
   {
    "duration": 2,
    "start_time": "2022-12-20T16:27:37.350Z"
   },
   {
    "duration": 382,
    "start_time": "2022-12-20T16:27:37.354Z"
   },
   {
    "duration": 40,
    "start_time": "2022-12-20T16:27:37.737Z"
   },
   {
    "duration": 20,
    "start_time": "2022-12-20T16:27:37.780Z"
   },
   {
    "duration": 152,
    "start_time": "2022-12-20T16:27:37.802Z"
   },
   {
    "duration": 24,
    "start_time": "2022-12-20T16:27:37.956Z"
   },
   {
    "duration": 23,
    "start_time": "2022-12-20T16:27:37.981Z"
   },
   {
    "duration": 9,
    "start_time": "2022-12-20T16:27:38.005Z"
   },
   {
    "duration": 20,
    "start_time": "2022-12-20T16:27:38.015Z"
   },
   {
    "duration": 519,
    "start_time": "2022-12-20T16:27:38.036Z"
   },
   {
    "duration": 209,
    "start_time": "2022-12-20T16:27:38.556Z"
   },
   {
    "duration": 210,
    "start_time": "2022-12-20T16:27:38.767Z"
   },
   {
    "duration": 6,
    "start_time": "2022-12-20T16:27:38.981Z"
   },
   {
    "duration": 13,
    "start_time": "2022-12-20T16:27:38.988Z"
   },
   {
    "duration": 35,
    "start_time": "2022-12-20T16:27:39.003Z"
   },
   {
    "duration": 44,
    "start_time": "2022-12-20T16:27:39.040Z"
   },
   {
    "duration": 105,
    "start_time": "2022-12-20T16:27:39.085Z"
   },
   {
    "duration": 202,
    "start_time": "2022-12-20T16:27:39.192Z"
   },
   {
    "duration": 82,
    "start_time": "2022-12-20T16:27:39.396Z"
   },
   {
    "duration": 101,
    "start_time": "2022-12-20T16:27:39.480Z"
   },
   {
    "duration": 10,
    "start_time": "2022-12-20T16:27:39.583Z"
   },
   {
    "duration": 9,
    "start_time": "2022-12-20T16:27:39.595Z"
   },
   {
    "duration": 6,
    "start_time": "2022-12-20T16:27:39.605Z"
   },
   {
    "duration": 7,
    "start_time": "2022-12-20T16:27:39.612Z"
   },
   {
    "duration": 3587,
    "start_time": "2022-12-20T16:27:39.621Z"
   },
   {
    "duration": 591,
    "start_time": "2022-12-20T16:27:43.210Z"
   },
   {
    "duration": 334,
    "start_time": "2022-12-20T16:27:43.802Z"
   },
   {
    "duration": 198,
    "start_time": "2022-12-20T16:27:44.138Z"
   },
   {
    "duration": 5,
    "start_time": "2022-12-20T16:27:44.338Z"
   },
   {
    "duration": 17,
    "start_time": "2022-12-20T16:27:44.344Z"
   },
   {
    "duration": 19,
    "start_time": "2022-12-20T16:27:44.362Z"
   },
   {
    "duration": 1485,
    "start_time": "2022-12-20T19:04:28.349Z"
   },
   {
    "duration": 3,
    "start_time": "2022-12-20T19:04:29.836Z"
   },
   {
    "duration": 391,
    "start_time": "2022-12-20T19:04:29.841Z"
   },
   {
    "duration": 35,
    "start_time": "2022-12-20T19:04:30.235Z"
   },
   {
    "duration": 35,
    "start_time": "2022-12-20T19:04:30.272Z"
   },
   {
    "duration": 121,
    "start_time": "2022-12-20T19:04:30.308Z"
   },
   {
    "duration": 13,
    "start_time": "2022-12-20T19:04:30.431Z"
   },
   {
    "duration": 52,
    "start_time": "2022-12-20T19:04:30.446Z"
   },
   {
    "duration": 41,
    "start_time": "2022-12-20T19:04:30.499Z"
   },
   {
    "duration": 31,
    "start_time": "2022-12-20T19:04:30.544Z"
   },
   {
    "duration": 436,
    "start_time": "2022-12-20T19:04:30.577Z"
   },
   {
    "duration": 209,
    "start_time": "2022-12-20T19:04:31.015Z"
   },
   {
    "duration": 184,
    "start_time": "2022-12-20T19:04:31.226Z"
   },
   {
    "duration": 6,
    "start_time": "2022-12-20T19:04:31.411Z"
   },
   {
    "duration": 20,
    "start_time": "2022-12-20T19:04:31.418Z"
   },
   {
    "duration": 47,
    "start_time": "2022-12-20T19:04:31.440Z"
   },
   {
    "duration": 21,
    "start_time": "2022-12-20T19:04:31.489Z"
   },
   {
    "duration": 188,
    "start_time": "2022-12-20T19:04:31.511Z"
   },
   {
    "duration": 202,
    "start_time": "2022-12-20T19:04:31.704Z"
   },
   {
    "duration": 89,
    "start_time": "2022-12-20T19:04:31.909Z"
   },
   {
    "duration": 8,
    "start_time": "2022-12-20T19:04:32.000Z"
   },
   {
    "duration": 6,
    "start_time": "2022-12-20T19:04:32.098Z"
   },
   {
    "duration": 5,
    "start_time": "2022-12-20T19:04:32.106Z"
   },
   {
    "duration": 5,
    "start_time": "2022-12-20T19:04:32.112Z"
   },
   {
    "duration": 7,
    "start_time": "2022-12-20T19:04:32.119Z"
   },
   {
    "duration": 1829,
    "start_time": "2022-12-20T19:04:32.128Z"
   },
   {
    "duration": 250,
    "start_time": "2022-12-20T19:04:33.959Z"
   },
   {
    "duration": 172,
    "start_time": "2022-12-20T19:04:34.211Z"
   },
   {
    "duration": 171,
    "start_time": "2022-12-20T19:04:34.385Z"
   },
   {
    "duration": 4,
    "start_time": "2022-12-20T19:04:34.558Z"
   },
   {
    "duration": 13,
    "start_time": "2022-12-20T19:04:34.563Z"
   },
   {
    "duration": 21,
    "start_time": "2022-12-20T19:04:34.577Z"
   },
   {
    "duration": 5,
    "start_time": "2022-12-20T19:05:35.702Z"
   },
   {
    "duration": 10,
    "start_time": "2022-12-20T19:18:59.255Z"
   },
   {
    "duration": 1373,
    "start_time": "2022-12-20T19:22:10.562Z"
   },
   {
    "duration": 3,
    "start_time": "2022-12-20T19:22:11.936Z"
   },
   {
    "duration": 391,
    "start_time": "2022-12-20T19:22:11.940Z"
   },
   {
    "duration": 37,
    "start_time": "2022-12-20T19:22:12.334Z"
   },
   {
    "duration": 31,
    "start_time": "2022-12-20T19:22:12.373Z"
   },
   {
    "duration": 114,
    "start_time": "2022-12-20T19:22:12.405Z"
   },
   {
    "duration": 13,
    "start_time": "2022-12-20T19:22:12.521Z"
   },
   {
    "duration": 17,
    "start_time": "2022-12-20T19:22:12.535Z"
   },
   {
    "duration": 7,
    "start_time": "2022-12-20T19:22:12.554Z"
   },
   {
    "duration": 8,
    "start_time": "2022-12-20T19:22:12.564Z"
   },
   {
    "duration": 406,
    "start_time": "2022-12-20T19:22:12.574Z"
   },
   {
    "duration": 191,
    "start_time": "2022-12-20T19:22:12.982Z"
   },
   {
    "duration": 172,
    "start_time": "2022-12-20T19:22:13.175Z"
   },
   {
    "duration": 5,
    "start_time": "2022-12-20T19:22:13.348Z"
   },
   {
    "duration": 10,
    "start_time": "2022-12-20T19:22:13.355Z"
   },
   {
    "duration": 43,
    "start_time": "2022-12-20T19:22:13.366Z"
   },
   {
    "duration": 21,
    "start_time": "2022-12-20T19:22:13.411Z"
   },
   {
    "duration": 103,
    "start_time": "2022-12-20T19:22:13.499Z"
   },
   {
    "duration": 100,
    "start_time": "2022-12-20T19:22:13.604Z"
   },
   {
    "duration": 198,
    "start_time": "2022-12-20T19:22:13.706Z"
   },
   {
    "duration": 9,
    "start_time": "2022-12-20T19:22:13.906Z"
   },
   {
    "duration": 4,
    "start_time": "2022-12-20T19:22:13.917Z"
   },
   {
    "duration": 10,
    "start_time": "2022-12-20T19:22:13.923Z"
   },
   {
    "duration": 4,
    "start_time": "2022-12-20T19:22:13.934Z"
   },
   {
    "duration": 11,
    "start_time": "2022-12-20T19:22:13.940Z"
   },
   {
    "duration": 1890,
    "start_time": "2022-12-20T19:22:13.953Z"
   },
   {
    "duration": 250,
    "start_time": "2022-12-20T19:22:15.844Z"
   },
   {
    "duration": 169,
    "start_time": "2022-12-20T19:22:16.099Z"
   },
   {
    "duration": 179,
    "start_time": "2022-12-20T19:22:16.270Z"
   },
   {
    "duration": 5,
    "start_time": "2022-12-20T19:22:16.450Z"
   },
   {
    "duration": 10,
    "start_time": "2022-12-20T19:22:16.457Z"
   },
   {
    "duration": 11,
    "start_time": "2022-12-20T19:22:16.468Z"
   },
   {
    "duration": 21,
    "start_time": "2022-12-20T19:22:16.480Z"
   },
   {
    "duration": 61,
    "start_time": "2022-12-20T21:12:16.821Z"
   },
   {
    "duration": 1141,
    "start_time": "2022-12-20T21:12:31.633Z"
   },
   {
    "duration": 3,
    "start_time": "2022-12-20T21:12:32.776Z"
   },
   {
    "duration": 835,
    "start_time": "2022-12-20T21:12:32.780Z"
   },
   {
    "duration": 37,
    "start_time": "2022-12-20T21:12:33.617Z"
   },
   {
    "duration": 29,
    "start_time": "2022-12-20T21:12:33.656Z"
   },
   {
    "duration": 144,
    "start_time": "2022-12-20T21:12:33.686Z"
   },
   {
    "duration": 17,
    "start_time": "2022-12-20T21:12:33.832Z"
   },
   {
    "duration": 36,
    "start_time": "2022-12-20T21:12:33.852Z"
   },
   {
    "duration": 11,
    "start_time": "2022-12-20T21:12:33.890Z"
   },
   {
    "duration": 13,
    "start_time": "2022-12-20T21:12:33.903Z"
   },
   {
    "duration": 669,
    "start_time": "2022-12-20T21:12:33.917Z"
   },
   {
    "duration": 262,
    "start_time": "2022-12-20T21:12:34.588Z"
   },
   {
    "duration": 230,
    "start_time": "2022-12-20T21:12:34.851Z"
   },
   {
    "duration": 6,
    "start_time": "2022-12-20T21:12:35.084Z"
   },
   {
    "duration": 14,
    "start_time": "2022-12-20T21:12:35.092Z"
   },
   {
    "duration": 154,
    "start_time": "2022-12-20T21:12:35.108Z"
   },
   {
    "duration": 40,
    "start_time": "2022-12-20T21:12:35.264Z"
   },
   {
    "duration": 91,
    "start_time": "2022-12-20T21:12:35.306Z"
   },
   {
    "duration": 192,
    "start_time": "2022-12-20T21:12:35.399Z"
   },
   {
    "duration": 86,
    "start_time": "2022-12-20T21:12:35.593Z"
   },
   {
    "duration": 105,
    "start_time": "2022-12-20T21:12:35.681Z"
   },
   {
    "duration": 5,
    "start_time": "2022-12-20T21:12:35.788Z"
   },
   {
    "duration": 17,
    "start_time": "2022-12-20T21:12:35.795Z"
   },
   {
    "duration": 10,
    "start_time": "2022-12-20T21:12:35.814Z"
   },
   {
    "duration": 22,
    "start_time": "2022-12-20T21:12:35.826Z"
   },
   {
    "duration": 2171,
    "start_time": "2022-12-20T21:12:35.850Z"
   },
   {
    "duration": 218,
    "start_time": "2022-12-20T21:12:38.023Z"
   },
   {
    "duration": 199,
    "start_time": "2022-12-20T21:12:38.242Z"
   },
   {
    "duration": 207,
    "start_time": "2022-12-20T21:12:38.443Z"
   },
   {
    "duration": 5,
    "start_time": "2022-12-20T21:12:38.652Z"
   },
   {
    "duration": 21,
    "start_time": "2022-12-20T21:12:38.659Z"
   },
   {
    "duration": 9,
    "start_time": "2022-12-20T21:12:38.682Z"
   },
   {
    "duration": 10,
    "start_time": "2022-12-20T21:12:38.692Z"
   },
   {
    "duration": 4,
    "start_time": "2022-12-20T21:13:43.283Z"
   },
   {
    "duration": 5,
    "start_time": "2022-12-20T21:13:58.395Z"
   },
   {
    "duration": 6,
    "start_time": "2022-12-20T21:14:20.282Z"
   },
   {
    "duration": 7,
    "start_time": "2022-12-20T21:15:56.594Z"
   },
   {
    "duration": 6,
    "start_time": "2022-12-20T21:16:18.123Z"
   },
   {
    "duration": 6,
    "start_time": "2022-12-20T21:16:46.880Z"
   },
   {
    "duration": 7,
    "start_time": "2022-12-20T21:16:52.668Z"
   },
   {
    "duration": 366,
    "start_time": "2022-12-20T21:26:17.451Z"
   },
   {
    "duration": 187,
    "start_time": "2022-12-20T21:26:59.908Z"
   },
   {
    "duration": 1125,
    "start_time": "2022-12-20T21:27:04.596Z"
   },
   {
    "duration": 4,
    "start_time": "2022-12-20T21:27:05.724Z"
   },
   {
    "duration": 415,
    "start_time": "2022-12-20T21:27:05.729Z"
   },
   {
    "duration": 49,
    "start_time": "2022-12-20T21:27:06.146Z"
   },
   {
    "duration": 23,
    "start_time": "2022-12-20T21:27:06.198Z"
   },
   {
    "duration": 163,
    "start_time": "2022-12-20T21:27:06.223Z"
   },
   {
    "duration": 18,
    "start_time": "2022-12-20T21:27:06.388Z"
   },
   {
    "duration": 19,
    "start_time": "2022-12-20T21:27:06.407Z"
   },
   {
    "duration": 10,
    "start_time": "2022-12-20T21:27:06.428Z"
   },
   {
    "duration": 10,
    "start_time": "2022-12-20T21:27:06.439Z"
   },
   {
    "duration": 472,
    "start_time": "2022-12-20T21:27:06.477Z"
   },
   {
    "duration": 221,
    "start_time": "2022-12-20T21:27:06.951Z"
   },
   {
    "duration": 210,
    "start_time": "2022-12-20T21:27:07.176Z"
   },
   {
    "duration": 6,
    "start_time": "2022-12-20T21:27:07.389Z"
   },
   {
    "duration": 13,
    "start_time": "2022-12-20T21:27:07.397Z"
   },
   {
    "duration": 55,
    "start_time": "2022-12-20T21:27:07.412Z"
   },
   {
    "duration": 21,
    "start_time": "2022-12-20T21:27:07.469Z"
   },
   {
    "duration": 96,
    "start_time": "2022-12-20T21:27:07.492Z"
   },
   {
    "duration": 195,
    "start_time": "2022-12-20T21:27:07.591Z"
   },
   {
    "duration": 88,
    "start_time": "2022-12-20T21:27:07.794Z"
   },
   {
    "duration": 96,
    "start_time": "2022-12-20T21:27:07.884Z"
   },
   {
    "duration": 10,
    "start_time": "2022-12-20T21:27:07.983Z"
   },
   {
    "duration": 12,
    "start_time": "2022-12-20T21:27:07.995Z"
   },
   {
    "duration": 6,
    "start_time": "2022-12-20T21:27:08.009Z"
   },
   {
    "duration": 7,
    "start_time": "2022-12-20T21:27:08.017Z"
   },
   {
    "duration": 1996,
    "start_time": "2022-12-20T21:27:08.026Z"
   },
   {
    "duration": 262,
    "start_time": "2022-12-20T21:27:10.023Z"
   },
   {
    "duration": 242,
    "start_time": "2022-12-20T21:27:10.287Z"
   },
   {
    "duration": 192,
    "start_time": "2022-12-20T21:27:10.531Z"
   },
   {
    "duration": 6,
    "start_time": "2022-12-20T21:27:10.725Z"
   },
   {
    "duration": 16,
    "start_time": "2022-12-20T21:27:10.733Z"
   },
   {
    "duration": 28,
    "start_time": "2022-12-20T21:27:10.752Z"
   },
   {
    "duration": 23,
    "start_time": "2022-12-20T21:27:10.782Z"
   },
   {
    "duration": 6,
    "start_time": "2022-12-20T21:27:10.807Z"
   }
  ],
  "kernelspec": {
   "display_name": "Python 3 (ipykernel)",
   "language": "python",
   "name": "python3"
  },
  "language_info": {
   "codemirror_mode": {
    "name": "ipython",
    "version": 3
   },
   "file_extension": ".py",
   "mimetype": "text/x-python",
   "name": "python",
   "nbconvert_exporter": "python",
   "pygments_lexer": "ipython3",
   "version": "3.9.12"
  },
  "toc": {
   "base_numbering": 1,
   "nav_menu": {},
   "number_sections": true,
   "sideBar": true,
   "skip_h1_title": true,
   "title_cell": "Table of Contents",
   "title_sidebar": "Contents",
   "toc_cell": false,
   "toc_position": {},
   "toc_section_display": true,
   "toc_window_display": true
  }
 },
 "nbformat": 4,
 "nbformat_minor": 2
}
