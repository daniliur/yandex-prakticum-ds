{
 "cells": [
  {
   "cell_type": "markdown",
   "metadata": {},
   "source": [
    "# Защита персональных данных клиентов"
   ]
  },
  {
   "cell_type": "markdown",
   "metadata": {},
   "source": [
    "Нам нужно защитить данные клиентов страховой компании. Необходимо разработать такой метод преобразования данных, чтобы по ним было сложно восстановить персональную информацию. Дополнительно требуется обосновать корректность его работы.\n",
    "\n",
    "Нужно защитить данные, чтобы при преобразовании качество моделей машинного обучения не ухудшилось. Подбирать наилучшую модель не требуется."
   ]
  },
  {
   "cell_type": "markdown",
   "metadata": {
    "toc": true
   },
   "source": [
    "<h1>Содержание<span class=\"tocSkip\"></span></h1>\n",
    "<div class=\"toc\"><ul class=\"toc-item\"><li><span><a href=\"#Загрузка-данных\" data-toc-modified-id=\"Загрузка-данных-1\"><span class=\"toc-item-num\">1&nbsp;&nbsp;</span>Загрузка данных</a></span></li><li><span><a href=\"#Умножение-матриц\" data-toc-modified-id=\"Умножение-матриц-2\"><span class=\"toc-item-num\">2&nbsp;&nbsp;</span>Умножение матриц</a></span></li><li><span><a href=\"#Алгоритм-преобразования\" data-toc-modified-id=\"Алгоритм-преобразования-3\"><span class=\"toc-item-num\">3&nbsp;&nbsp;</span>Алгоритм преобразования</a></span></li><li><span><a href=\"#Проверка-алгоритма\" data-toc-modified-id=\"Проверка-алгоритма-4\"><span class=\"toc-item-num\">4&nbsp;&nbsp;</span>Проверка алгоритма</a></span></li><li><span><a href=\"#Чек-лист-проверки\" data-toc-modified-id=\"Чек-лист-проверки-5\"><span class=\"toc-item-num\">5&nbsp;&nbsp;</span>Чек-лист проверки</a></span></li></ul></div>"
   ]
  },
  {
   "cell_type": "markdown",
   "metadata": {},
   "source": [
    "## Загрузка данных"
   ]
  },
  {
   "cell_type": "markdown",
   "metadata": {},
   "source": [
    "Для начала, импортируем все необходимые библиотеки."
   ]
  },
  {
   "cell_type": "code",
   "execution_count": 1,
   "metadata": {},
   "outputs": [],
   "source": [
    "import pandas as pd\n",
    "import numpy as np\n",
    "from sklearn.linear_model import LinearRegression\n",
    "from sklearn.preprocessing import StandardScaler\n",
    "from sklearn.metrics import r2_score"
   ]
  },
  {
   "cell_type": "markdown",
   "metadata": {},
   "source": [
    "Загрузим данные и выведем их основные параметры."
   ]
  },
  {
   "cell_type": "code",
   "execution_count": 3,
   "metadata": {},
   "outputs": [],
   "source": [
    "data = pd.read_csv('insurance.csv')"
   ]
  },
  {
   "cell_type": "code",
   "execution_count": 3,
   "metadata": {},
   "outputs": [
    {
     "name": "stdout",
     "output_type": "stream",
     "text": [
      "<class 'pandas.core.frame.DataFrame'>\n",
      "RangeIndex: 5000 entries, 0 to 4999\n",
      "Data columns (total 5 columns):\n",
      " #   Column             Non-Null Count  Dtype  \n",
      "---  ------             --------------  -----  \n",
      " 0   Пол                5000 non-null   int64  \n",
      " 1   Возраст            5000 non-null   float64\n",
      " 2   Зарплата           5000 non-null   float64\n",
      " 3   Члены семьи        5000 non-null   int64  \n",
      " 4   Страховые выплаты  5000 non-null   int64  \n",
      "dtypes: float64(2), int64(3)\n",
      "memory usage: 195.4 KB\n"
     ]
    }
   ],
   "source": [
    "data.info()"
   ]
  },
  {
   "cell_type": "markdown",
   "metadata": {},
   "source": [
    "В данных пропусков нет. Проверим есть ли дубликаты:"
   ]
  },
  {
   "cell_type": "code",
   "execution_count": 4,
   "metadata": {},
   "outputs": [
    {
     "data": {
      "text/plain": [
       "153"
      ]
     },
     "execution_count": 4,
     "metadata": {},
     "output_type": "execute_result"
    }
   ],
   "source": [
    "data.duplicated().sum()"
   ]
  },
  {
   "cell_type": "markdown",
   "metadata": {},
   "source": [
    "Дубликаты есть, избавимся от них."
   ]
  },
  {
   "cell_type": "code",
   "execution_count": 5,
   "metadata": {},
   "outputs": [
    {
     "data": {
      "text/plain": [
       "(4847, 5)"
      ]
     },
     "execution_count": 5,
     "metadata": {},
     "output_type": "execute_result"
    }
   ],
   "source": [
    "data = data.drop_duplicates()\n",
    "data.shape"
   ]
  },
  {
   "cell_type": "markdown",
   "metadata": {},
   "source": [
    "Названия столбцов лучше заменим на английские:"
   ]
  },
  {
   "cell_type": "code",
   "execution_count": 6,
   "metadata": {},
   "outputs": [],
   "source": [
    "data = data.rename({'Пол': 'gender', \n",
    "                    'Возраст': 'age',\n",
    "                    'Зарплата': 'salary',\n",
    "                    'Члены семьи': 'family',\n",
    "                    'Страховые выплаты': 'payments'}, axis=1)"
   ]
  },
  {
   "cell_type": "code",
   "execution_count": 7,
   "metadata": {},
   "outputs": [
    {
     "data": {
      "text/html": [
       "<div>\n",
       "<style scoped>\n",
       "    .dataframe tbody tr th:only-of-type {\n",
       "        vertical-align: middle;\n",
       "    }\n",
       "\n",
       "    .dataframe tbody tr th {\n",
       "        vertical-align: top;\n",
       "    }\n",
       "\n",
       "    .dataframe thead th {\n",
       "        text-align: right;\n",
       "    }\n",
       "</style>\n",
       "<table border=\"1\" class=\"dataframe\">\n",
       "  <thead>\n",
       "    <tr style=\"text-align: right;\">\n",
       "      <th></th>\n",
       "      <th>gender</th>\n",
       "      <th>age</th>\n",
       "      <th>salary</th>\n",
       "      <th>family</th>\n",
       "      <th>payments</th>\n",
       "    </tr>\n",
       "  </thead>\n",
       "  <tbody>\n",
       "    <tr>\n",
       "      <th>0</th>\n",
       "      <td>1</td>\n",
       "      <td>41.0</td>\n",
       "      <td>49600.0</td>\n",
       "      <td>1</td>\n",
       "      <td>0</td>\n",
       "    </tr>\n",
       "    <tr>\n",
       "      <th>1</th>\n",
       "      <td>0</td>\n",
       "      <td>46.0</td>\n",
       "      <td>38000.0</td>\n",
       "      <td>1</td>\n",
       "      <td>1</td>\n",
       "    </tr>\n",
       "    <tr>\n",
       "      <th>2</th>\n",
       "      <td>0</td>\n",
       "      <td>29.0</td>\n",
       "      <td>21000.0</td>\n",
       "      <td>0</td>\n",
       "      <td>0</td>\n",
       "    </tr>\n",
       "    <tr>\n",
       "      <th>3</th>\n",
       "      <td>0</td>\n",
       "      <td>21.0</td>\n",
       "      <td>41700.0</td>\n",
       "      <td>2</td>\n",
       "      <td>0</td>\n",
       "    </tr>\n",
       "    <tr>\n",
       "      <th>4</th>\n",
       "      <td>1</td>\n",
       "      <td>28.0</td>\n",
       "      <td>26100.0</td>\n",
       "      <td>0</td>\n",
       "      <td>0</td>\n",
       "    </tr>\n",
       "  </tbody>\n",
       "</table>\n",
       "</div>"
      ],
      "text/plain": [
       "   gender   age   salary  family  payments\n",
       "0       1  41.0  49600.0       1         0\n",
       "1       0  46.0  38000.0       1         1\n",
       "2       0  29.0  21000.0       0         0\n",
       "3       0  21.0  41700.0       2         0\n",
       "4       1  28.0  26100.0       0         0"
      ]
     },
     "execution_count": 7,
     "metadata": {},
     "output_type": "execute_result"
    }
   ],
   "source": [
    "data.head()"
   ]
  },
  {
   "cell_type": "markdown",
   "metadata": {},
   "source": [
    "## Умножение матриц"
   ]
  },
  {
   "cell_type": "markdown",
   "metadata": {},
   "source": [
    "Обозначения:\n",
    "\n",
    "- $X$ — матрица признаков (нулевой столбец состоит из единиц)\n",
    "\n",
    "- $y$ — вектор целевого признака\n",
    "\n",
    "- $P$ — матрица, на которую умножаются признаки\n",
    "\n",
    "- $w$ — вектор весов линейной регрессии (нулевой элемент равен сдвигу)"
   ]
  },
  {
   "cell_type": "markdown",
   "metadata": {},
   "source": [
    "Предсказания:\n",
    "\n",
    "$$\n",
    "a = Xw\n",
    "$$\n",
    "\n",
    "Задача обучения:\n",
    "\n",
    "$$\n",
    "w = \\arg\\min_w MSE(Xw, y)\n",
    "$$\n",
    "\n",
    "Формула обучения:\n",
    "\n",
    "$$\n",
    "w = (X^T X)^{-1} X^T y\n",
    "$$"
   ]
  },
  {
   "cell_type": "markdown",
   "metadata": {},
   "source": [
    "**Ответ:**  \n",
    "Считаем, что предсказания не изменятся.\n",
    "\n",
    "**Обоснование:**  \n",
    "Чтобы доказать то, что предсказания не изменятся, нам нужно проверить равны ли предсказания до преобразования ($a$) и предсказания после преобразования ($a_1$):  \n",
    "$$a = a_1$$\n",
    "\n",
    "1. Подставим в формулу обучения преобразованную матрицу (она получается путём умножения исходных данных $X$ на неизвестную обратимую матрицу $P$). Таким образом, мы получим формулу для весов регрессии после преобразования данных ($w_1$): \n",
    "$$w_1 = ((XP)^T (XP))^{-1} (XP)^T y$$ \n",
    "От скобок для ($XP$) можем избавиться по свойству матриц $A(BC) = (AB)C = ABC$: \n",
    "$$(XP)^T (XP) = ((XP)^T X) P = (XP)^T XP$$ \n",
    "Получаем выражение: \n",
    "$$w_1 = ((XP)^T XP)^{-1}(XP)^T y$$  \n",
    "  \n",
    "2. Раскроем скобки для $(XP)^T$ по свойству $(AB)^T = B^T A^T$: \n",
    "$$w_1 = (P^T X^T XP)^{-1}P^T X^T y$$  \n",
    "  \n",
    "3. Сгрупируем $X^T$ и $X$ и раскроем скобки по свойству $(AB)^{-1} = B^{-1}A^{-1}$: \n",
    "$$w_1 = (P^T (X^T X)P)^{-1}P^T X^T y$$ \n",
    "$$w_1 = ((P^T (X^T X))P)^{-1}P^T X^T y$$ \n",
    "$$w_1 = P^{-1}(P^T (X^T X))^{-1}P^T X^T y$$ \n",
    "$$w_1 = P^{-1}(X^T X)^{-1}(P^T)^{-1}P^T X^T y$$ \n",
    "\n",
    "4. $(P^T)^{-1}P^T = E$, поэтому от этих матриц можем избавиться: \n",
    "$$w_1 = P^{-1}(X^T X)^{-1} X^T y$$ \n",
    "5. В получившееся выражение можем подставить формулу для весов изначальных данных. Получим выражение: \n",
    "$$w_1 = P^{-1}w$$\n",
    "   \n",
    "6. Так как мы получили формулу весов для преобразованных данных, можем подставить получившееся выражение в формулу для $a_1$: \n",
    "$$a_1 = XPP^{-1}w$$\n",
    "$$a_1 = XEw$$\n",
    "$$a_1 = Xw$$\n",
    "$$a_1 = a$$  \n",
    "  \n",
    "Таким образом, мы доказали, что после преобразования исходных данных, предсказания не изменятся. Также, получили взаимосвязь параметров до и после преобразования: чтобы получить $w_1$ нужно умножить $w$ на обратную матрицу к $P$."
   ]
  },
  {
   "cell_type": "markdown",
   "metadata": {},
   "source": [
    "## Алгоритм преобразования"
   ]
  },
  {
   "cell_type": "markdown",
   "metadata": {},
   "source": [
    "**Алгоритм**  \n",
    "Напишем алгоритм и найдём разницу между предсказаниями до и после преобразования.\n",
    "\n",
    "1. Создадим случайную обратимую матрицу размером 4х4 (так как у нас 4 признака в данных):"
   ]
  },
  {
   "cell_type": "code",
   "execution_count": 8,
   "metadata": {},
   "outputs": [
    {
     "name": "stdout",
     "output_type": "stream",
     "text": [
      "Обратимая матрица P\n",
      "[[35 25 52 27]\n",
      " [58 79 81  8]\n",
      " [24 23 56 75]\n",
      " [57 13 69 27]] \n",
      "\n",
      "Матрица, обратная P\n",
      "[[-0.68679263  0.13521506  0.14641399  0.24002338]\n",
      " [-0.18681562  0.05121094  0.04626761  0.04312087]\n",
      " [ 0.69809708 -0.1388353  -0.15681744 -0.2213567 ]\n",
      " [-0.24418205  0.04469018  0.06938248  0.07524845]]\n"
     ]
    }
   ],
   "source": [
    "p_matrix = np.random.randint(100, size=(4, 4))\n",
    "print('Обратимая матрица P')\n",
    "print(p_matrix, '\\n')\n",
    "\n",
    "inverted_p_matrix = np.linalg.inv(p_matrix)\n",
    "print('Матрица, обратная P')\n",
    "print(inverted_p_matrix)"
   ]
  },
  {
   "cell_type": "markdown",
   "metadata": {},
   "source": [
    "2. Возьмём из данных признаки и целевой признак:"
   ]
  },
  {
   "cell_type": "code",
   "execution_count": 9,
   "metadata": {},
   "outputs": [],
   "source": [
    "target = data['payments']\n",
    "features = data.drop('payments', axis=1)"
   ]
  },
  {
   "cell_type": "markdown",
   "metadata": {},
   "source": [
    "3. Применим масштабирование к признакам, так как они все находятся в разном масштабе:"
   ]
  },
  {
   "cell_type": "code",
   "execution_count": 10,
   "metadata": {},
   "outputs": [],
   "source": [
    "scaler = StandardScaler()\n",
    "scaler.fit(features)\n",
    "features_scaled = scaler.transform(features)"
   ]
  },
  {
   "cell_type": "markdown",
   "metadata": {},
   "source": [
    "4. Рассчитаем вектор весов $w$ для исходных данных по формуле $w = (X^T X)^{-1} X^T y$"
   ]
  },
  {
   "cell_type": "code",
   "execution_count": 12,
   "metadata": {},
   "outputs": [],
   "source": [
    "w = np.linalg.inv(features_scaled.T @ features_scaled) @ features_scaled.T @ target"
   ]
  },
  {
   "cell_type": "markdown",
   "metadata": {},
   "source": [
    "5. После этого, вычислим вектор предсказаний $a = Xw$"
   ]
  },
  {
   "cell_type": "code",
   "execution_count": 13,
   "metadata": {},
   "outputs": [],
   "source": [
    "a = features_scaled @ w"
   ]
  },
  {
   "cell_type": "markdown",
   "metadata": {},
   "source": [
    "6. Повторим все предыдущие пункты для расчёта предсказаний по преобразованным данным ($a_1$). Для этого исходная матрица будет умножаться на матрицу $P$."
   ]
  },
  {
   "cell_type": "code",
   "execution_count": 14,
   "metadata": {},
   "outputs": [],
   "source": [
    "features_converted = features_scaled @ p_matrix\n",
    "w_1 = np.linalg.inv(features_converted.T @ features_converted) @ features_converted.T @ target\n",
    "a_1 = features_converted @ w_1"
   ]
  },
  {
   "cell_type": "markdown",
   "metadata": {},
   "source": [
    "7. Посчитаем среднюю разницу между предсказаниями до и после преобразования:"
   ]
  },
  {
   "cell_type": "code",
   "execution_count": 15,
   "metadata": {},
   "outputs": [
    {
     "data": {
      "text/plain": [
       "9.66778193173157e-13"
      ]
     },
     "execution_count": 15,
     "metadata": {},
     "output_type": "execute_result"
    }
   ],
   "source": [
    "abs(a_1 - a).mean()"
   ]
  },
  {
   "cell_type": "markdown",
   "metadata": {},
   "source": [
    "**Обоснование**\n",
    "\n",
    "Разница между предсказаниями до и после преобразования минимальна и практически равна нулю. Алгоритм работает."
   ]
  },
  {
   "cell_type": "markdown",
   "metadata": {},
   "source": [
    "## Проверка алгоритма"
   ]
  },
  {
   "cell_type": "markdown",
   "metadata": {},
   "source": [
    "Проверим алгоритм преобразования. Посчитаем метрику R2 для линейной регрессии до и после преобразований."
   ]
  },
  {
   "cell_type": "code",
   "execution_count": 16,
   "metadata": {},
   "outputs": [
    {
     "name": "stdout",
     "output_type": "stream",
     "text": [
      "R2 модели на исходных данных: 0.4302010044852068\n"
     ]
    }
   ],
   "source": [
    "model = LinearRegression()\n",
    "model.fit(features_scaled, target)\n",
    "preds = model.predict(features_scaled)\n",
    "\n",
    "print('R2 модели на исходных данных:', r2_score(target, preds))"
   ]
  },
  {
   "cell_type": "code",
   "execution_count": 17,
   "metadata": {},
   "outputs": [
    {
     "name": "stdout",
     "output_type": "stream",
     "text": [
      "R2 модели на преобразованных данных: 0.4302010044852068\n"
     ]
    }
   ],
   "source": [
    "model = LinearRegression()\n",
    "model.fit(features_converted, target)\n",
    "preds_converted = model.predict(features_converted)\n",
    "\n",
    "print('R2 модели на преобразованных данных:', r2_score(target, preds_converted))"
   ]
  },
  {
   "cell_type": "markdown",
   "metadata": {},
   "source": [
    "Метрики практически идентичны, алгоритм защиты персональных данных работает без потери качества предсказаний модели."
   ]
  }
 ],
 "metadata": {
  "ExecuteTimeLog": [
   {
    "duration": 398,
    "start_time": "2023-02-13T10:48:02.663Z"
   },
   {
    "duration": 89,
    "start_time": "2023-02-13T10:48:17.343Z"
   },
   {
    "duration": 23,
    "start_time": "2023-02-13T10:48:30.405Z"
   },
   {
    "duration": 12,
    "start_time": "2023-02-13T10:48:43.914Z"
   },
   {
    "duration": 44,
    "start_time": "2023-02-18T10:41:16.628Z"
   },
   {
    "duration": 381,
    "start_time": "2023-02-18T10:43:27.418Z"
   },
   {
    "duration": 87,
    "start_time": "2023-02-18T10:43:27.801Z"
   },
   {
    "duration": 12,
    "start_time": "2023-02-18T10:43:27.890Z"
   },
   {
    "duration": 23,
    "start_time": "2023-02-18T10:43:27.905Z"
   },
   {
    "duration": 10,
    "start_time": "2023-02-18T10:43:27.930Z"
   },
   {
    "duration": 7,
    "start_time": "2023-02-18T10:44:19.447Z"
   },
   {
    "duration": 6,
    "start_time": "2023-02-18T10:44:24.879Z"
   },
   {
    "duration": 5,
    "start_time": "2023-02-18T10:44:34.881Z"
   },
   {
    "duration": 229,
    "start_time": "2023-02-18T10:45:23.555Z"
   },
   {
    "duration": 6,
    "start_time": "2023-02-18T10:45:31.305Z"
   },
   {
    "duration": 50,
    "start_time": "2023-02-18T10:51:27.850Z"
   },
   {
    "duration": 6,
    "start_time": "2023-02-18T10:51:37.753Z"
   },
   {
    "duration": 8,
    "start_time": "2023-02-18T10:51:39.509Z"
   },
   {
    "duration": 4,
    "start_time": "2023-02-18T10:52:22.815Z"
   },
   {
    "duration": 8,
    "start_time": "2023-02-18T10:52:23.205Z"
   },
   {
    "duration": 6,
    "start_time": "2023-02-18T10:52:52.184Z"
   },
   {
    "duration": 4,
    "start_time": "2023-02-18T10:53:05.840Z"
   },
   {
    "duration": 634,
    "start_time": "2023-02-18T10:54:57.527Z"
   },
   {
    "duration": 7,
    "start_time": "2023-02-18T10:55:15.336Z"
   },
   {
    "duration": 7,
    "start_time": "2023-02-18T10:59:40.057Z"
   },
   {
    "duration": 42,
    "start_time": "2023-02-18T11:00:55.692Z"
   },
   {
    "duration": 4,
    "start_time": "2023-02-18T11:01:20.692Z"
   },
   {
    "duration": 8,
    "start_time": "2023-02-18T11:01:24.302Z"
   },
   {
    "duration": 5,
    "start_time": "2023-02-18T11:05:03.750Z"
   },
   {
    "duration": 4,
    "start_time": "2023-02-18T11:06:12.795Z"
   },
   {
    "duration": 5,
    "start_time": "2023-02-18T11:06:20.520Z"
   },
   {
    "duration": 4,
    "start_time": "2023-02-18T11:06:28.184Z"
   },
   {
    "duration": 6,
    "start_time": "2023-02-18T11:06:33.966Z"
   },
   {
    "duration": 6,
    "start_time": "2023-02-18T11:11:10.722Z"
   },
   {
    "duration": 14,
    "start_time": "2023-02-18T11:11:35.858Z"
   },
   {
    "duration": 10,
    "start_time": "2023-02-18T11:11:55.190Z"
   },
   {
    "duration": 6,
    "start_time": "2023-02-18T11:11:58.339Z"
   },
   {
    "duration": 6,
    "start_time": "2023-02-18T11:12:06.600Z"
   },
   {
    "duration": 1110,
    "start_time": "2023-02-18T11:12:16.468Z"
   },
   {
    "duration": 26,
    "start_time": "2023-02-18T11:12:17.580Z"
   },
   {
    "duration": 11,
    "start_time": "2023-02-18T11:12:17.607Z"
   },
   {
    "duration": 16,
    "start_time": "2023-02-18T11:12:17.620Z"
   },
   {
    "duration": 6,
    "start_time": "2023-02-18T11:12:17.638Z"
   },
   {
    "duration": 6,
    "start_time": "2023-02-18T11:12:17.646Z"
   },
   {
    "duration": 13,
    "start_time": "2023-02-18T11:12:17.653Z"
   },
   {
    "duration": 31,
    "start_time": "2023-02-18T11:12:17.668Z"
   },
   {
    "duration": 5,
    "start_time": "2023-02-18T11:12:17.701Z"
   },
   {
    "duration": 95,
    "start_time": "2023-02-18T11:12:17.708Z"
   },
   {
    "duration": 6,
    "start_time": "2023-02-18T11:12:17.805Z"
   },
   {
    "duration": 96,
    "start_time": "2023-02-18T11:12:17.814Z"
   },
   {
    "duration": 90,
    "start_time": "2023-02-18T11:12:17.912Z"
   },
   {
    "duration": 202,
    "start_time": "2023-02-18T11:12:18.005Z"
   },
   {
    "duration": 3,
    "start_time": "2023-02-18T11:14:51.424Z"
   },
   {
    "duration": 6,
    "start_time": "2023-02-18T11:16:06.865Z"
   },
   {
    "duration": 9,
    "start_time": "2023-02-18T11:16:49.799Z"
   },
   {
    "duration": 2081,
    "start_time": "2023-02-18T11:47:52.228Z"
   },
   {
    "duration": 87,
    "start_time": "2023-02-18T11:47:54.311Z"
   },
   {
    "duration": 12,
    "start_time": "2023-02-18T11:49:36.809Z"
   },
   {
    "duration": 10,
    "start_time": "2023-02-18T11:49:37.661Z"
   },
   {
    "duration": 6,
    "start_time": "2023-02-18T11:49:38.227Z"
   },
   {
    "duration": 4,
    "start_time": "2023-02-18T11:49:38.739Z"
   },
   {
    "duration": 11,
    "start_time": "2023-02-18T11:49:39.205Z"
   },
   {
    "duration": 5,
    "start_time": "2023-02-18T11:55:21.676Z"
   }
  ],
  "kernelspec": {
   "display_name": "Python 3 (ipykernel)",
   "language": "python",
   "name": "python3"
  },
  "language_info": {
   "codemirror_mode": {
    "name": "ipython",
    "version": 3
   },
   "file_extension": ".py",
   "mimetype": "text/x-python",
   "name": "python",
   "nbconvert_exporter": "python",
   "pygments_lexer": "ipython3",
   "version": "3.9.12"
  },
  "toc": {
   "base_numbering": 1,
   "nav_menu": {},
   "number_sections": true,
   "sideBar": true,
   "skip_h1_title": true,
   "title_cell": "Содержание",
   "title_sidebar": "Contents",
   "toc_cell": true,
   "toc_position": {
    "height": "calc(100% - 180px)",
    "left": "10px",
    "top": "150px",
    "width": "165px"
   },
   "toc_section_display": true,
   "toc_window_display": true
  }
 },
 "nbformat": 4,
 "nbformat_minor": 2
}
