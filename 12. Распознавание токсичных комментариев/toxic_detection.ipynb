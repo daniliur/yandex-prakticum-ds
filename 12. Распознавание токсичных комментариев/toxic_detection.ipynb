{
 "cells": [
  {
   "cell_type": "markdown",
   "metadata": {},
   "source": [
    "# Проект для «Викишоп»"
   ]
  },
  {
   "cell_type": "markdown",
   "metadata": {},
   "source": [
    "Интернет-магазин запускает новый сервис. Теперь пользователи могут редактировать и дополнять описания товаров, как в вики-сообществах. То есть клиенты предлагают свои правки и комментируют изменения других. Магазину нужен инструмент, который будет искать токсичные комментарии и отправлять их на модерацию. \n",
    "\n",
    "Нужно обучить модель классифицировать комментарии на позитивные и негативные. В нашем распоряжении набор данных с разметкой о токсичности правок.\n",
    "\n",
    "Значение метрики качества *F1* должно быть не меньше 0.75. \n",
    "\n",
    "Данные находятся в файле `toxic_comments.csv`. Столбец `text` в нём содержит текст комментария, а `toxic` — целевой признак."
   ]
  },
  {
   "cell_type": "markdown",
   "metadata": {
    "toc": true
   },
   "source": [
    "<h1>Содержание<span class=\"tocSkip\"></span></h1>\n",
    "<div class=\"toc\"><ul class=\"toc-item\"><li><span><a href=\"#Подготовка\" data-toc-modified-id=\"Подготовка-1\"><span class=\"toc-item-num\">1&nbsp;&nbsp;</span>Подготовка</a></span><ul class=\"toc-item\"><li><span><a href=\"#Импорт-библиотек-и-загрузка-данных\" data-toc-modified-id=\"Импорт-библиотек-и-загрузка-данных-1.1\"><span class=\"toc-item-num\">1.1&nbsp;&nbsp;</span>Импорт библиотек и загрузка данных</a></span></li><li><span><a href=\"#Просмотр-информации-о-данных-и-удаление-неинформативного-столбца\" data-toc-modified-id=\"Просмотр-информации-о-данных-и-удаление-неинформативного-столбца-1.2\"><span class=\"toc-item-num\">1.2&nbsp;&nbsp;</span>Просмотр информации о данных и удаление неинформативного столбца</a></span></li><li><span><a href=\"#Предобработка-текста\" data-toc-modified-id=\"Предобработка-текста-1.3\"><span class=\"toc-item-num\">1.3&nbsp;&nbsp;</span>Предобработка текста</a></span></li></ul></li><li><span><a href=\"#Обучение\" data-toc-modified-id=\"Обучение-2\"><span class=\"toc-item-num\">2&nbsp;&nbsp;</span>Обучение</a></span><ul class=\"toc-item\"><li><span><a href=\"#Разделение-на-выборки\" data-toc-modified-id=\"Разделение-на-выборки-2.1\"><span class=\"toc-item-num\">2.1&nbsp;&nbsp;</span>Разделение на выборки</a></span></li><li><span><a href=\"#Обучение-моделей\" data-toc-modified-id=\"Обучение-моделей-2.2\"><span class=\"toc-item-num\">2.2&nbsp;&nbsp;</span>Обучение моделей</a></span><ul class=\"toc-item\"><li><span><a href=\"#LogisticRegression()\" data-toc-modified-id=\"LogisticRegression()-2.2.1\"><span class=\"toc-item-num\">2.2.1&nbsp;&nbsp;</span><code>LogisticRegression()</code></a></span></li><li><span><a href=\"#DecisionTreeClassifier()\" data-toc-modified-id=\"DecisionTreeClassifier()-2.2.2\"><span class=\"toc-item-num\">2.2.2&nbsp;&nbsp;</span><code>DecisionTreeClassifier()</code></a></span></li><li><span><a href=\"#RandomForestClassifier()\" data-toc-modified-id=\"RandomForestClassifier()-2.2.3\"><span class=\"toc-item-num\">2.2.3&nbsp;&nbsp;</span><code>RandomForestClassifier()</code></a></span></li></ul></li><li><span><a href=\"#Тестирование-лучшей-модели\" data-toc-modified-id=\"Тестирование-лучшей-модели-2.3\"><span class=\"toc-item-num\">2.3&nbsp;&nbsp;</span>Тестирование лучшей модели</a></span></li></ul></li><li><span><a href=\"#Выводы\" data-toc-modified-id=\"Выводы-3\"><span class=\"toc-item-num\">3&nbsp;&nbsp;</span>Выводы</a></span></li><li><span><a href=\"#Чек-лист-проверки\" data-toc-modified-id=\"Чек-лист-проверки-4\"><span class=\"toc-item-num\">4&nbsp;&nbsp;</span>Чек-лист проверки</a></span></li></ul></div>"
   ]
  },
  {
   "cell_type": "markdown",
   "metadata": {},
   "source": [
    "## Подготовка"
   ]
  },
  {
   "cell_type": "markdown",
   "metadata": {},
   "source": [
    "### Импорт библиотек и загрузка данных"
   ]
  },
  {
   "cell_type": "markdown",
   "metadata": {},
   "source": [
    "Для начала импортируем все необходимые библиотеки и инструменты."
   ]
  },
  {
   "cell_type": "code",
   "execution_count": 1,
   "metadata": {
    "collapsed": true
   },
   "outputs": [
    {
     "name": "stdout",
     "output_type": "stream",
     "text": [
      "Collecting spacy\n",
      "  Downloading spacy-3.7.4-cp39-cp39-win_amd64.whl (12.2 MB)\n",
      "Requirement already satisfied: tqdm<5.0.0,>=4.38.0 in c:\\users\\acer\\anaconda3\\lib\\site-packages (from spacy) (4.64.0)\n",
      "Requirement already satisfied: jinja2 in c:\\users\\acer\\anaconda3\\lib\\site-packages (from spacy) (2.11.3)\n",
      "Collecting srsly<3.0.0,>=2.4.3\n",
      "  Downloading srsly-2.4.8-cp39-cp39-win_amd64.whl (483 kB)\n",
      "Collecting preshed<3.1.0,>=3.0.2\n",
      "  Downloading preshed-3.0.9-cp39-cp39-win_amd64.whl (122 kB)\n",
      "Collecting wasabi<1.2.0,>=0.9.1\n",
      "  Downloading wasabi-1.1.2-py3-none-any.whl (27 kB)\n",
      "Collecting spacy-loggers<2.0.0,>=1.0.0\n",
      "  Downloading spacy_loggers-1.0.5-py3-none-any.whl (22 kB)\n",
      "Collecting murmurhash<1.1.0,>=0.28.0\n",
      "  Downloading murmurhash-1.0.10-cp39-cp39-win_amd64.whl (25 kB)\n",
      "Collecting cymem<2.1.0,>=2.0.2\n",
      "  Downloading cymem-2.0.8-cp39-cp39-win_amd64.whl (39 kB)\n",
      "Collecting spacy-legacy<3.1.0,>=3.0.11\n",
      "  Downloading spacy_legacy-3.0.12-py2.py3-none-any.whl (29 kB)\n",
      "Collecting langcodes<4.0.0,>=3.2.0\n",
      "  Downloading langcodes-3.3.0-py3-none-any.whl (181 kB)\n",
      "Requirement already satisfied: packaging>=20.0 in c:\\users\\acer\\anaconda3\\lib\\site-packages (from spacy) (21.3)\n",
      "Collecting smart-open<7.0.0,>=5.2.1\n",
      "  Downloading smart_open-6.4.0-py3-none-any.whl (57 kB)\n",
      "Requirement already satisfied: numpy>=1.19.0 in c:\\users\\acer\\anaconda3\\lib\\site-packages (from spacy) (1.23.5)\n",
      "Requirement already satisfied: pydantic!=1.8,!=1.8.1,<3.0.0,>=1.7.4 in c:\\users\\acer\\anaconda3\\lib\\site-packages (from spacy) (1.10.7)\n",
      "Collecting catalogue<2.1.0,>=2.0.6\n",
      "  Downloading catalogue-2.0.10-py3-none-any.whl (17 kB)\n",
      "Collecting typer<0.10.0,>=0.3.0\n",
      "  Downloading typer-0.9.0-py3-none-any.whl (45 kB)\n",
      "Requirement already satisfied: requests<3.0.0,>=2.13.0 in c:\\users\\acer\\anaconda3\\lib\\site-packages (from spacy) (2.27.1)\n",
      "Requirement already satisfied: setuptools in c:\\users\\acer\\anaconda3\\lib\\site-packages (from spacy) (61.2.0)\n",
      "Collecting thinc<8.3.0,>=8.2.2\n",
      "  Downloading thinc-8.2.3-cp39-cp39-win_amd64.whl (1.5 MB)\n",
      "Collecting weasel<0.4.0,>=0.1.0\n",
      "  Downloading weasel-0.3.4-py3-none-any.whl (50 kB)\n",
      "Requirement already satisfied: pyparsing!=3.0.5,>=2.0.2 in c:\\users\\acer\\anaconda3\\lib\\site-packages (from packaging>=20.0->spacy) (3.0.4)\n",
      "Requirement already satisfied: typing-extensions>=4.2.0 in c:\\users\\acer\\anaconda3\\lib\\site-packages (from pydantic!=1.8,!=1.8.1,<3.0.0,>=1.7.4->spacy) (4.5.0)\n",
      "Requirement already satisfied: certifi>=2017.4.17 in c:\\users\\acer\\anaconda3\\lib\\site-packages (from requests<3.0.0,>=2.13.0->spacy) (2022.12.7)\n",
      "Requirement already satisfied: charset-normalizer~=2.0.0 in c:\\users\\acer\\anaconda3\\lib\\site-packages (from requests<3.0.0,>=2.13.0->spacy) (2.0.4)\n",
      "Requirement already satisfied: urllib3<1.27,>=1.21.1 in c:\\users\\acer\\anaconda3\\lib\\site-packages (from requests<3.0.0,>=2.13.0->spacy) (1.26.9)\n",
      "Requirement already satisfied: idna<4,>=2.5 in c:\\users\\acer\\anaconda3\\lib\\site-packages (from requests<3.0.0,>=2.13.0->spacy) (3.3)\n",
      "Collecting confection<1.0.0,>=0.0.1\n",
      "  Downloading confection-0.1.4-py3-none-any.whl (35 kB)\n",
      "Collecting blis<0.8.0,>=0.7.8\n",
      "  Downloading blis-0.7.11-cp39-cp39-win_amd64.whl (6.6 MB)\n",
      "Requirement already satisfied: colorama in c:\\users\\acer\\anaconda3\\lib\\site-packages (from tqdm<5.0.0,>=4.38.0->spacy) (0.4.4)\n",
      "Requirement already satisfied: click<9.0.0,>=7.1.1 in c:\\users\\acer\\anaconda3\\lib\\site-packages (from typer<0.10.0,>=0.3.0->spacy) (8.0.4)\n",
      "Collecting colorama\n",
      "  Using cached colorama-0.4.6-py2.py3-none-any.whl (25 kB)\n",
      "Collecting cloudpathlib<0.17.0,>=0.7.0\n",
      "  Downloading cloudpathlib-0.16.0-py3-none-any.whl (45 kB)\n",
      "Requirement already satisfied: MarkupSafe>=0.23 in c:\\users\\acer\\anaconda3\\lib\\site-packages (from jinja2->spacy) (2.0.1)\n",
      "Installing collected packages: colorama, catalogue, srsly, murmurhash, cymem, wasabi, typer, smart-open, preshed, confection, cloudpathlib, blis, weasel, thinc, spacy-loggers, spacy-legacy, langcodes, spacy\n",
      "  Attempting uninstall: colorama\n",
      "    Found existing installation: colorama 0.4.4\n",
      "    Uninstalling colorama-0.4.4:\n",
      "      Successfully uninstalled colorama-0.4.4\n",
      "  Attempting uninstall: smart-open\n",
      "    Found existing installation: smart-open 5.1.0\n",
      "    Uninstalling smart-open-5.1.0:\n",
      "      Successfully uninstalled smart-open-5.1.0\n",
      "Successfully installed blis-0.7.11 catalogue-2.0.10 cloudpathlib-0.16.0 colorama-0.4.6 confection-0.1.4 cymem-2.0.8 langcodes-3.3.0 murmurhash-1.0.10 preshed-3.0.9 smart-open-6.4.0 spacy-3.7.4 spacy-legacy-3.0.12 spacy-loggers-1.0.5 srsly-2.4.8 thinc-8.2.3 typer-0.9.0 wasabi-1.1.2 weasel-0.3.4\n",
      "Collecting en-core-web-sm==3.7.1\n",
      "  Downloading https://github.com/explosion/spacy-models/releases/download/en_core_web_sm-3.7.1/en_core_web_sm-3.7.1-py3-none-any.whl (12.8 MB)\n",
      "Requirement already satisfied: spacy<3.8.0,>=3.7.2 in c:\\users\\acer\\anaconda3\\lib\\site-packages (from en-core-web-sm==3.7.1) (3.7.4)\n",
      "Requirement already satisfied: srsly<3.0.0,>=2.4.3 in c:\\users\\acer\\anaconda3\\lib\\site-packages (from spacy<3.8.0,>=3.7.2->en-core-web-sm==3.7.1) (2.4.8)\n",
      "Requirement already satisfied: cymem<2.1.0,>=2.0.2 in c:\\users\\acer\\anaconda3\\lib\\site-packages (from spacy<3.8.0,>=3.7.2->en-core-web-sm==3.7.1) (2.0.8)\n",
      "Requirement already satisfied: packaging>=20.0 in c:\\users\\acer\\anaconda3\\lib\\site-packages (from spacy<3.8.0,>=3.7.2->en-core-web-sm==3.7.1) (21.3)\n",
      "Requirement already satisfied: weasel<0.4.0,>=0.1.0 in c:\\users\\acer\\anaconda3\\lib\\site-packages (from spacy<3.8.0,>=3.7.2->en-core-web-sm==3.7.1) (0.3.4)\n",
      "Requirement already satisfied: langcodes<4.0.0,>=3.2.0 in c:\\users\\acer\\anaconda3\\lib\\site-packages (from spacy<3.8.0,>=3.7.2->en-core-web-sm==3.7.1) (3.3.0)\n",
      "Requirement already satisfied: typer<0.10.0,>=0.3.0 in c:\\users\\acer\\anaconda3\\lib\\site-packages (from spacy<3.8.0,>=3.7.2->en-core-web-sm==3.7.1) (0.9.0)\n",
      "Requirement already satisfied: numpy>=1.19.0 in c:\\users\\acer\\anaconda3\\lib\\site-packages (from spacy<3.8.0,>=3.7.2->en-core-web-sm==3.7.1) (1.23.5)\n",
      "Requirement already satisfied: tqdm<5.0.0,>=4.38.0 in c:\\users\\acer\\anaconda3\\lib\\site-packages (from spacy<3.8.0,>=3.7.2->en-core-web-sm==3.7.1) (4.64.0)\n",
      "Requirement already satisfied: jinja2 in c:\\users\\acer\\anaconda3\\lib\\site-packages (from spacy<3.8.0,>=3.7.2->en-core-web-sm==3.7.1) (2.11.3)\n",
      "Requirement already satisfied: setuptools in c:\\users\\acer\\anaconda3\\lib\\site-packages (from spacy<3.8.0,>=3.7.2->en-core-web-sm==3.7.1) (61.2.0)\n",
      "Requirement already satisfied: preshed<3.1.0,>=3.0.2 in c:\\users\\acer\\anaconda3\\lib\\site-packages (from spacy<3.8.0,>=3.7.2->en-core-web-sm==3.7.1) (3.0.9)\n",
      "Requirement already satisfied: spacy-loggers<2.0.0,>=1.0.0 in c:\\users\\acer\\anaconda3\\lib\\site-packages (from spacy<3.8.0,>=3.7.2->en-core-web-sm==3.7.1) (1.0.5)\n",
      "Requirement already satisfied: murmurhash<1.1.0,>=0.28.0 in c:\\users\\acer\\anaconda3\\lib\\site-packages (from spacy<3.8.0,>=3.7.2->en-core-web-sm==3.7.1) (1.0.10)\n",
      "Requirement already satisfied: requests<3.0.0,>=2.13.0 in c:\\users\\acer\\anaconda3\\lib\\site-packages (from spacy<3.8.0,>=3.7.2->en-core-web-sm==3.7.1) (2.27.1)\n",
      "Requirement already satisfied: spacy-legacy<3.1.0,>=3.0.11 in c:\\users\\acer\\anaconda3\\lib\\site-packages (from spacy<3.8.0,>=3.7.2->en-core-web-sm==3.7.1) (3.0.12)\n",
      "Requirement already satisfied: smart-open<7.0.0,>=5.2.1 in c:\\users\\acer\\anaconda3\\lib\\site-packages (from spacy<3.8.0,>=3.7.2->en-core-web-sm==3.7.1) (6.4.0)\n",
      "Requirement already satisfied: wasabi<1.2.0,>=0.9.1 in c:\\users\\acer\\anaconda3\\lib\\site-packages (from spacy<3.8.0,>=3.7.2->en-core-web-sm==3.7.1) (1.1.2)\n",
      "Requirement already satisfied: pydantic!=1.8,!=1.8.1,<3.0.0,>=1.7.4 in c:\\users\\acer\\anaconda3\\lib\\site-packages (from spacy<3.8.0,>=3.7.2->en-core-web-sm==3.7.1) (1.10.7)\n",
      "Requirement already satisfied: catalogue<2.1.0,>=2.0.6 in c:\\users\\acer\\anaconda3\\lib\\site-packages (from spacy<3.8.0,>=3.7.2->en-core-web-sm==3.7.1) (2.0.10)\n",
      "Requirement already satisfied: thinc<8.3.0,>=8.2.2 in c:\\users\\acer\\anaconda3\\lib\\site-packages (from spacy<3.8.0,>=3.7.2->en-core-web-sm==3.7.1) (8.2.3)\n",
      "Requirement already satisfied: pyparsing!=3.0.5,>=2.0.2 in c:\\users\\acer\\anaconda3\\lib\\site-packages (from packaging>=20.0->spacy<3.8.0,>=3.7.2->en-core-web-sm==3.7.1) (3.0.4)\n",
      "Requirement already satisfied: typing-extensions>=4.2.0 in c:\\users\\acer\\anaconda3\\lib\\site-packages (from pydantic!=1.8,!=1.8.1,<3.0.0,>=1.7.4->spacy<3.8.0,>=3.7.2->en-core-web-sm==3.7.1) (4.5.0)\n",
      "Requirement already satisfied: urllib3<1.27,>=1.21.1 in c:\\users\\acer\\anaconda3\\lib\\site-packages (from requests<3.0.0,>=2.13.0->spacy<3.8.0,>=3.7.2->en-core-web-sm==3.7.1) (1.26.9)\n",
      "Requirement already satisfied: certifi>=2017.4.17 in c:\\users\\acer\\anaconda3\\lib\\site-packages (from requests<3.0.0,>=2.13.0->spacy<3.8.0,>=3.7.2->en-core-web-sm==3.7.1) (2022.12.7)\n",
      "Requirement already satisfied: idna<4,>=2.5 in c:\\users\\acer\\anaconda3\\lib\\site-packages (from requests<3.0.0,>=2.13.0->spacy<3.8.0,>=3.7.2->en-core-web-sm==3.7.1) (3.3)\n",
      "Requirement already satisfied: charset-normalizer~=2.0.0 in c:\\users\\acer\\anaconda3\\lib\\site-packages (from requests<3.0.0,>=2.13.0->spacy<3.8.0,>=3.7.2->en-core-web-sm==3.7.1) (2.0.4)\n",
      "Requirement already satisfied: confection<1.0.0,>=0.0.1 in c:\\users\\acer\\anaconda3\\lib\\site-packages (from thinc<8.3.0,>=8.2.2->spacy<3.8.0,>=3.7.2->en-core-web-sm==3.7.1) (0.1.4)\n",
      "Requirement already satisfied: blis<0.8.0,>=0.7.8 in c:\\users\\acer\\anaconda3\\lib\\site-packages (from thinc<8.3.0,>=8.2.2->spacy<3.8.0,>=3.7.2->en-core-web-sm==3.7.1) (0.7.11)\n",
      "Requirement already satisfied: colorama in c:\\users\\acer\\anaconda3\\lib\\site-packages (from tqdm<5.0.0,>=4.38.0->spacy<3.8.0,>=3.7.2->en-core-web-sm==3.7.1) (0.4.6)\n",
      "Requirement already satisfied: click<9.0.0,>=7.1.1 in c:\\users\\acer\\anaconda3\\lib\\site-packages (from typer<0.10.0,>=0.3.0->spacy<3.8.0,>=3.7.2->en-core-web-sm==3.7.1) (8.0.4)\n",
      "Requirement already satisfied: cloudpathlib<0.17.0,>=0.7.0 in c:\\users\\acer\\anaconda3\\lib\\site-packages (from weasel<0.4.0,>=0.1.0->spacy<3.8.0,>=3.7.2->en-core-web-sm==3.7.1) (0.16.0)\n",
      "Requirement already satisfied: MarkupSafe>=0.23 in c:\\users\\acer\\anaconda3\\lib\\site-packages (from jinja2->spacy<3.8.0,>=3.7.2->en-core-web-sm==3.7.1) (2.0.1)\n",
      "Installing collected packages: en-core-web-sm\n",
      "Successfully installed en-core-web-sm-3.7.1\n",
      "\u001b[38;5;2m✔ Download and installation successful\u001b[0m\n",
      "You can now load the package via spacy.load('en_core_web_sm')\n"
     ]
    }
   ],
   "source": [
    "%pip install spacy\n",
    "!spacy download en_core_web_sm"
   ]
  },
  {
   "cell_type": "code",
   "execution_count": 4,
   "metadata": {},
   "outputs": [],
   "source": [
    "import warnings\n",
    "warnings.filterwarnings('ignore')\n",
    "\n",
    "import pandas as pd\n",
    "import numpy as np\n",
    "import nltk\n",
    "import re\n",
    "\n",
    "from tqdm.notebook import tqdm\n",
    "tqdm.pandas()\n",
    "\n",
    "from nltk.corpus import stopwords as nltk_stopwords\n",
    "from nltk.stem import WordNetLemmatizer\n",
    "\n",
    "from sklearn.feature_extraction.text import TfidfVectorizer\n",
    "from sklearn.linear_model import LogisticRegression\n",
    "from sklearn.tree import DecisionTreeClassifier\n",
    "from sklearn.ensemble import RandomForestClassifier\n",
    "from sklearn.metrics import f1_score\n",
    "from sklearn.model_selection import train_test_split\n",
    "import spacy"
   ]
  },
  {
   "cell_type": "markdown",
   "metadata": {},
   "source": [
    "Зафиксируем случайное состояние в константе."
   ]
  },
  {
   "cell_type": "code",
   "execution_count": 5,
   "metadata": {},
   "outputs": [],
   "source": [
    "RS = 322"
   ]
  },
  {
   "cell_type": "markdown",
   "metadata": {},
   "source": [
    "Загрузим данные в переменную `data`, выведем основную информацию о них методом `info()` а также посмотрим первые строки."
   ]
  },
  {
   "cell_type": "code",
   "execution_count": 6,
   "metadata": {},
   "outputs": [],
   "source": [
    "data = pd.read_csv('toxic_comments.csv')"
   ]
  },
  {
   "cell_type": "markdown",
   "metadata": {},
   "source": [
    "### Просмотр информации о данных и удаление неинформативного столбца"
   ]
  },
  {
   "cell_type": "code",
   "execution_count": 7,
   "metadata": {},
   "outputs": [
    {
     "name": "stdout",
     "output_type": "stream",
     "text": [
      "<class 'pandas.core.frame.DataFrame'>\n",
      "RangeIndex: 159292 entries, 0 to 159291\n",
      "Data columns (total 3 columns):\n",
      " #   Column      Non-Null Count   Dtype \n",
      "---  ------      --------------   ----- \n",
      " 0   Unnamed: 0  159292 non-null  int64 \n",
      " 1   text        159292 non-null  object\n",
      " 2   toxic       159292 non-null  int64 \n",
      "dtypes: int64(2), object(1)\n",
      "memory usage: 3.6+ MB\n"
     ]
    }
   ],
   "source": [
    "data.info()"
   ]
  },
  {
   "cell_type": "code",
   "execution_count": 8,
   "metadata": {},
   "outputs": [
    {
     "data": {
      "text/html": [
       "<div>\n",
       "<style scoped>\n",
       "    .dataframe tbody tr th:only-of-type {\n",
       "        vertical-align: middle;\n",
       "    }\n",
       "\n",
       "    .dataframe tbody tr th {\n",
       "        vertical-align: top;\n",
       "    }\n",
       "\n",
       "    .dataframe thead th {\n",
       "        text-align: right;\n",
       "    }\n",
       "</style>\n",
       "<table border=\"1\" class=\"dataframe\">\n",
       "  <thead>\n",
       "    <tr style=\"text-align: right;\">\n",
       "      <th></th>\n",
       "      <th>Unnamed: 0</th>\n",
       "      <th>text</th>\n",
       "      <th>toxic</th>\n",
       "    </tr>\n",
       "  </thead>\n",
       "  <tbody>\n",
       "    <tr>\n",
       "      <th>0</th>\n",
       "      <td>0</td>\n",
       "      <td>Explanation\\nWhy the edits made under my usern...</td>\n",
       "      <td>0</td>\n",
       "    </tr>\n",
       "    <tr>\n",
       "      <th>1</th>\n",
       "      <td>1</td>\n",
       "      <td>D'aww! He matches this background colour I'm s...</td>\n",
       "      <td>0</td>\n",
       "    </tr>\n",
       "    <tr>\n",
       "      <th>2</th>\n",
       "      <td>2</td>\n",
       "      <td>Hey man, I'm really not trying to edit war. It...</td>\n",
       "      <td>0</td>\n",
       "    </tr>\n",
       "    <tr>\n",
       "      <th>3</th>\n",
       "      <td>3</td>\n",
       "      <td>\"\\nMore\\nI can't make any real suggestions on ...</td>\n",
       "      <td>0</td>\n",
       "    </tr>\n",
       "    <tr>\n",
       "      <th>4</th>\n",
       "      <td>4</td>\n",
       "      <td>You, sir, are my hero. Any chance you remember...</td>\n",
       "      <td>0</td>\n",
       "    </tr>\n",
       "  </tbody>\n",
       "</table>\n",
       "</div>"
      ],
      "text/plain": [
       "   Unnamed: 0                                               text  toxic\n",
       "0           0  Explanation\\nWhy the edits made under my usern...      0\n",
       "1           1  D'aww! He matches this background colour I'm s...      0\n",
       "2           2  Hey man, I'm really not trying to edit war. It...      0\n",
       "3           3  \"\\nMore\\nI can't make any real suggestions on ...      0\n",
       "4           4  You, sir, are my hero. Any chance you remember...      0"
      ]
     },
     "execution_count": 8,
     "metadata": {},
     "output_type": "execute_result"
    }
   ],
   "source": [
    "data.head()"
   ]
  },
  {
   "cell_type": "markdown",
   "metadata": {},
   "source": [
    "В данных есть непонятный столбец `'Unnamed: 0'`, который совпадает с индексами. Выведем последние значения этого столбца."
   ]
  },
  {
   "cell_type": "code",
   "execution_count": 9,
   "metadata": {},
   "outputs": [
    {
     "data": {
      "text/plain": [
       "159287    159446\n",
       "159288    159447\n",
       "159289    159448\n",
       "159290    159449\n",
       "159291    159450\n",
       "Name: Unnamed: 0, dtype: int64"
      ]
     },
     "execution_count": 9,
     "metadata": {},
     "output_type": "execute_result"
    }
   ],
   "source": [
    "data['Unnamed: 0'].tail()"
   ]
  },
  {
   "cell_type": "markdown",
   "metadata": {},
   "source": [
    "В конце значения столбца перестают совпадать с индексами. Проверим монотонный ли столбец, и посмотрим, есть ли в нём дубликаты, чтобы проверить имеет ли он какое-то значение для нас."
   ]
  },
  {
   "cell_type": "code",
   "execution_count": 10,
   "metadata": {},
   "outputs": [
    {
     "name": "stdout",
     "output_type": "stream",
     "text": [
      "True\n",
      "0\n"
     ]
    }
   ],
   "source": [
    "print(data['Unnamed: 0'].is_monotonic)\n",
    "print(data['Unnamed: 0'].duplicated().sum())"
   ]
  },
  {
   "cell_type": "markdown",
   "metadata": {},
   "source": [
    "Столбец монотонный и дубликатов нет. Выведем строки, где столбец не совпадает с индексом."
   ]
  },
  {
   "cell_type": "code",
   "execution_count": 11,
   "metadata": {},
   "outputs": [
    {
     "data": {
      "text/html": [
       "<div>\n",
       "<style scoped>\n",
       "    .dataframe tbody tr th:only-of-type {\n",
       "        vertical-align: middle;\n",
       "    }\n",
       "\n",
       "    .dataframe tbody tr th {\n",
       "        vertical-align: top;\n",
       "    }\n",
       "\n",
       "    .dataframe thead th {\n",
       "        text-align: right;\n",
       "    }\n",
       "</style>\n",
       "<table border=\"1\" class=\"dataframe\">\n",
       "  <thead>\n",
       "    <tr style=\"text-align: right;\">\n",
       "      <th></th>\n",
       "      <th>Unnamed: 0</th>\n",
       "      <th>text</th>\n",
       "      <th>toxic</th>\n",
       "    </tr>\n",
       "  </thead>\n",
       "  <tbody>\n",
       "    <tr>\n",
       "      <th>6080</th>\n",
       "      <td>6084</td>\n",
       "      <td>\"::I'll alos be looking in to see how this is ...</td>\n",
       "      <td>0</td>\n",
       "    </tr>\n",
       "    <tr>\n",
       "      <th>6081</th>\n",
       "      <td>6085</td>\n",
       "      <td>\"\\n\\nThe Ezekiel passage is quoted in the Molo...</td>\n",
       "      <td>0</td>\n",
       "    </tr>\n",
       "    <tr>\n",
       "      <th>6082</th>\n",
       "      <td>6086</td>\n",
       "      <td>Thank you for experimenting with  Wikipedia. Y...</td>\n",
       "      <td>0</td>\n",
       "    </tr>\n",
       "    <tr>\n",
       "      <th>6083</th>\n",
       "      <td>6087</td>\n",
       "      <td>Any complaints with that as the new wording?</td>\n",
       "      <td>0</td>\n",
       "    </tr>\n",
       "    <tr>\n",
       "      <th>6084</th>\n",
       "      <td>6088</td>\n",
       "      <td>\"\\nI also disagree with the merge as Strength ...</td>\n",
       "      <td>0</td>\n",
       "    </tr>\n",
       "    <tr>\n",
       "      <th>...</th>\n",
       "      <td>...</td>\n",
       "      <td>...</td>\n",
       "      <td>...</td>\n",
       "    </tr>\n",
       "    <tr>\n",
       "      <th>159287</th>\n",
       "      <td>159446</td>\n",
       "      <td>\":::::And for the second time of asking, when ...</td>\n",
       "      <td>0</td>\n",
       "    </tr>\n",
       "    <tr>\n",
       "      <th>159288</th>\n",
       "      <td>159447</td>\n",
       "      <td>You should be ashamed of yourself \\n\\nThat is ...</td>\n",
       "      <td>0</td>\n",
       "    </tr>\n",
       "    <tr>\n",
       "      <th>159289</th>\n",
       "      <td>159448</td>\n",
       "      <td>Spitzer \\n\\nUmm, theres no actual article for ...</td>\n",
       "      <td>0</td>\n",
       "    </tr>\n",
       "    <tr>\n",
       "      <th>159290</th>\n",
       "      <td>159449</td>\n",
       "      <td>And it looks like it was actually you who put ...</td>\n",
       "      <td>0</td>\n",
       "    </tr>\n",
       "    <tr>\n",
       "      <th>159291</th>\n",
       "      <td>159450</td>\n",
       "      <td>\"\\nAnd ... I really don't think you understand...</td>\n",
       "      <td>0</td>\n",
       "    </tr>\n",
       "  </tbody>\n",
       "</table>\n",
       "<p>153212 rows × 3 columns</p>\n",
       "</div>"
      ],
      "text/plain": [
       "        Unnamed: 0                                               text  toxic\n",
       "6080          6084  \"::I'll alos be looking in to see how this is ...      0\n",
       "6081          6085  \"\\n\\nThe Ezekiel passage is quoted in the Molo...      0\n",
       "6082          6086  Thank you for experimenting with  Wikipedia. Y...      0\n",
       "6083          6087       Any complaints with that as the new wording?      0\n",
       "6084          6088  \"\\nI also disagree with the merge as Strength ...      0\n",
       "...            ...                                                ...    ...\n",
       "159287      159446  \":::::And for the second time of asking, when ...      0\n",
       "159288      159447  You should be ashamed of yourself \\n\\nThat is ...      0\n",
       "159289      159448  Spitzer \\n\\nUmm, theres no actual article for ...      0\n",
       "159290      159449  And it looks like it was actually you who put ...      0\n",
       "159291      159450  \"\\nAnd ... I really don't think you understand...      0\n",
       "\n",
       "[153212 rows x 3 columns]"
      ]
     },
     "execution_count": 11,
     "metadata": {},
     "output_type": "execute_result"
    }
   ],
   "source": [
    "data.loc[data['Unnamed: 0'].index != data['Unnamed: 0']]"
   ]
  },
  {
   "cell_type": "markdown",
   "metadata": {},
   "source": [
    "В какой-то момент, числа в этом столбце просто перестают совпадать с индексами, без какой-либо причины. Скорее всего данный столбец неинформативен и попал в данные по ошибке. Удалим его."
   ]
  },
  {
   "cell_type": "code",
   "execution_count": 12,
   "metadata": {},
   "outputs": [],
   "source": [
    "data.drop('Unnamed: 0', axis=1, inplace=True)"
   ]
  },
  {
   "cell_type": "markdown",
   "metadata": {},
   "source": [
    "### Предобработка текста"
   ]
  },
  {
   "cell_type": "markdown",
   "metadata": {},
   "source": [
    "Загрузим необходимые пакеты для библиотеки `nltk`. Также, загрузим список стоп-слов на английском языке в переменную `stopwords`."
   ]
  },
  {
   "cell_type": "code",
   "execution_count": 13,
   "metadata": {},
   "outputs": [
    {
     "name": "stderr",
     "output_type": "stream",
     "text": [
      "[nltk_data] Downloading package stopwords to\n",
      "[nltk_data]     C:\\Users\\acer\\AppData\\Roaming\\nltk_data...\n",
      "[nltk_data]   Package stopwords is already up-to-date!\n"
     ]
    }
   ],
   "source": [
    "nltk.download('stopwords')\n",
    "stopwords = set(nltk_stopwords.words('english'))"
   ]
  },
  {
   "cell_type": "markdown",
   "metadata": {},
   "source": [
    "Напишем функцию для очистки текста от спецсимволов и лемматизации. Для этого воспользуемся библиотекой `spacy`."
   ]
  },
  {
   "cell_type": "code",
   "execution_count": 15,
   "metadata": {},
   "outputs": [],
   "source": [
    "nlp = spacy.load('en_core_web_sm', disable=['parser', 'ner'])\n",
    "\n",
    "def clear_lemmatize(text):\n",
    "    cleaned_text = ' '.join(re.sub(r'[^a-zA-Z]', ' ', text).lower().split())\n",
    "    doc = nlp(cleaned_text)\n",
    "    return ' '.join([token.lemma_ for token in doc])"
   ]
  },
  {
   "cell_type": "markdown",
   "metadata": {},
   "source": [
    "Применим к текстам функцию и сохраним результат в переменной `corpus`. "
   ]
  },
  {
   "cell_type": "code",
   "execution_count": 16,
   "metadata": {},
   "outputs": [
    {
     "data": {
      "application/vnd.jupyter.widget-view+json": {
       "model_id": "5f0a84be73bf45e8927af9f3e24fefdb",
       "version_major": 2,
       "version_minor": 0
      },
      "text/plain": [
       "  0%|          | 0/159292 [00:00<?, ?it/s]"
      ]
     },
     "metadata": {},
     "output_type": "display_data"
    }
   ],
   "source": [
    "corpus = data['text'].progress_apply(clear_lemmatize)"
   ]
  },
  {
   "cell_type": "markdown",
   "metadata": {},
   "source": [
    "Сравним строки до и после преобразований:"
   ]
  },
  {
   "cell_type": "code",
   "execution_count": 18,
   "metadata": {},
   "outputs": [
    {
     "data": {
      "text/plain": [
       "0    Explanation\\nWhy the edits made under my usern...\n",
       "1    D'aww! He matches this background colour I'm s...\n",
       "2    Hey man, I'm really not trying to edit war. It...\n",
       "3    \"\\nMore\\nI can't make any real suggestions on ...\n",
       "4    You, sir, are my hero. Any chance you remember...\n",
       "Name: text, dtype: object"
      ]
     },
     "execution_count": 18,
     "metadata": {},
     "output_type": "execute_result"
    }
   ],
   "source": [
    "data['text'].head()"
   ]
  },
  {
   "cell_type": "code",
   "execution_count": 19,
   "metadata": {
    "scrolled": false
   },
   "outputs": [
    {
     "data": {
      "text/plain": [
       "0    explanation why the edit make under my usernam...\n",
       "1    d aww he match this background colour I m seem...\n",
       "2    hey man I m really not try to edit war it s ju...\n",
       "3    more I can t make any real suggestion on impro...\n",
       "4    you sir be my hero any chance you remember wha...\n",
       "Name: text, dtype: object"
      ]
     },
     "execution_count": 19,
     "metadata": {},
     "output_type": "execute_result"
    }
   ],
   "source": [
    "corpus.head()"
   ]
  },
  {
   "cell_type": "markdown",
   "metadata": {},
   "source": [
    "Лемматизация и очистка текста прошла успешно."
   ]
  },
  {
   "cell_type": "markdown",
   "metadata": {},
   "source": [
    "## Обучение"
   ]
  },
  {
   "cell_type": "markdown",
   "metadata": {},
   "source": [
    "### Разделение на выборки"
   ]
  },
  {
   "cell_type": "markdown",
   "metadata": {},
   "source": [
    "Создадим объект класса `TfidfVectorizer()` для преобразования данных, и разделим выборки на тренировочную, тестовую и валидационную в соотношении 3:1:1. Кросс-валидация в этом проекте не подойдёт, так как таким образом произойдёт утечка данных, потому что мы будем обучать \"векторайзер\" на всех тренировочных данных. "
   ]
  },
  {
   "cell_type": "code",
   "execution_count": 20,
   "metadata": {},
   "outputs": [],
   "source": [
    "tf_idf_vect = TfidfVectorizer(stop_words=stopwords)"
   ]
  },
  {
   "cell_type": "code",
   "execution_count": 21,
   "metadata": {},
   "outputs": [],
   "source": [
    "train_features, test_features, train_target, test_target = train_test_split(corpus,\n",
    "                                                                            data['toxic'],\n",
    "                                                                            test_size=0.2,\n",
    "                                                                            random_state=RS, \n",
    "                                                                            stratify=data['toxic'])\n",
    "train_features, valid_features, train_target, valid_target = train_test_split(train_features,\n",
    "                                                                             train_target, \n",
    "                                                                             test_size=0.25,\n",
    "                                                                             random_state=RS,\n",
    "                                                                             stratify=train_target)"
   ]
  },
  {
   "cell_type": "markdown",
   "metadata": {},
   "source": [
    "Обучим векторайзер на тренировочных данных и сразу преобразуем их. Сохраним преобразованные данные в переменной `tf_idf_train`. "
   ]
  },
  {
   "cell_type": "code",
   "execution_count": 22,
   "metadata": {},
   "outputs": [],
   "source": [
    "tf_idf_train = tf_idf_vect.fit_transform(train_features)"
   ]
  },
  {
   "cell_type": "markdown",
   "metadata": {},
   "source": [
    "Посмотрим на размер преобразованных данных."
   ]
  },
  {
   "cell_type": "code",
   "execution_count": 23,
   "metadata": {},
   "outputs": [
    {
     "data": {
      "text/plain": [
       "(95574, 111673)"
      ]
     },
     "execution_count": 23,
     "metadata": {},
     "output_type": "execute_result"
    }
   ],
   "source": [
    "tf_idf_train.shape"
   ]
  },
  {
   "cell_type": "markdown",
   "metadata": {},
   "source": [
    "После преобразования, у нас получилось 121456 уникальных слов без учёта стоп-слов. Преобразуем валидационную выборку."
   ]
  },
  {
   "cell_type": "code",
   "execution_count": 24,
   "metadata": {},
   "outputs": [],
   "source": [
    "tf_idf_valid = tf_idf_vect.transform(valid_features)"
   ]
  },
  {
   "cell_type": "markdown",
   "metadata": {},
   "source": [
    "### Обучение моделей"
   ]
  },
  {
   "cell_type": "markdown",
   "metadata": {},
   "source": [
    "Переберём гиперпараметры в цикле, так как нельзя использовать `GridSearchCV`. Попробуем модели логистической регрессии, дерева и случайного леса."
   ]
  },
  {
   "cell_type": "markdown",
   "metadata": {},
   "source": [
    "#### `LogisticRegression()`"
   ]
  },
  {
   "cell_type": "markdown",
   "metadata": {},
   "source": [
    "Переберём в цикле гиперпараметр `C` для модели логистической регрессии. Проверим метрику F1 на валидационных данных."
   ]
  },
  {
   "cell_type": "code",
   "execution_count": 25,
   "metadata": {},
   "outputs": [
    {
     "name": "stdout",
     "output_type": "stream",
     "text": [
      "CPU times: total: 1min 17s\n",
      "Wall time: 29 s\n"
     ]
    }
   ],
   "source": [
    "%%time\n",
    "best_lr_score = 0\n",
    "for c in np.arange(6.0, 10.0, 1.0):\n",
    "    model_lr = LogisticRegression(random_state=322, max_iter=150, class_weight='balanced', C=c)\n",
    "    model_lr.fit(tf_idf_train, train_target)\n",
    "    preds_lr = model_lr.predict(tf_idf_valid)\n",
    "    score = f1_score(valid_target, preds_lr)\n",
    "    if score > best_lr_score:\n",
    "        best_lr_score = score\n",
    "        best_lr_model = model_lr"
   ]
  },
  {
   "cell_type": "code",
   "execution_count": 26,
   "metadata": {
    "scrolled": true
   },
   "outputs": [
    {
     "name": "stdout",
     "output_type": "stream",
     "text": [
      "Лучшая метрика F1 на линейной регрессии: 0.7692085081753726\n",
      "Гиперпараметр \"C\" на лучшей модели: 9.0\n"
     ]
    }
   ],
   "source": [
    "print('Лучшая метрика F1 на линейной регрессии:', best_lr_score)\n",
    "print('Гиперпараметр \"C\" на лучшей модели:', best_lr_model.get_params(deep=False)['C'])"
   ]
  },
  {
   "cell_type": "markdown",
   "metadata": {},
   "source": [
    "#### `DecisionTreeClassifier()`"
   ]
  },
  {
   "cell_type": "markdown",
   "metadata": {},
   "source": [
    "Для дерева переберём в цикле гиперпараметр `max_depth`."
   ]
  },
  {
   "cell_type": "code",
   "execution_count": 27,
   "metadata": {},
   "outputs": [
    {
     "name": "stdout",
     "output_type": "stream",
     "text": [
      "CPU times: total: 2min 4s\n",
      "Wall time: 3min 16s\n"
     ]
    }
   ],
   "source": [
    "%%time\n",
    "best_tree_score = 0\n",
    "score = None\n",
    "for depth in range(5, 56, 10):\n",
    "    model_tree = DecisionTreeClassifier(random_state=RS, max_depth=depth)\n",
    "    model_tree.fit(tf_idf_train, train_target)\n",
    "    preds_tree = model_tree.predict(tf_idf_valid)\n",
    "    score = f1_score(valid_target, preds_tree)\n",
    "    if score > best_tree_score:\n",
    "        best_tree_score = score\n",
    "        best_tree_model = model_tree"
   ]
  },
  {
   "cell_type": "code",
   "execution_count": 28,
   "metadata": {},
   "outputs": [
    {
     "name": "stdout",
     "output_type": "stream",
     "text": [
      "Лучшая метрика F1 на модели дерева: 0.7169744942832015\n",
      "Гиперпараметр \"max_depth\" на лучшей модели: 55\n"
     ]
    }
   ],
   "source": [
    "print('Лучшая метрика F1 на модели дерева:', best_tree_score)\n",
    "print('Гиперпараметр \"max_depth\" на лучшей модели:', best_tree_model.get_params(deep=False)['max_depth'])"
   ]
  },
  {
   "cell_type": "markdown",
   "metadata": {},
   "source": [
    "#### `RandomForestClassifier()`"
   ]
  },
  {
   "cell_type": "markdown",
   "metadata": {},
   "source": [
    "Для леса сделаем вложенный цикл и переберём гиперпараметры `max_depth` и `n_estimators`."
   ]
  },
  {
   "cell_type": "code",
   "execution_count": 29,
   "metadata": {},
   "outputs": [
    {
     "name": "stdout",
     "output_type": "stream",
     "text": [
      "CPU times: total: 2min 16s\n",
      "Wall time: 3min 44s\n"
     ]
    }
   ],
   "source": [
    "%%time\n",
    "best_forest_score = 0\n",
    "score = None\n",
    "for depth in np.arange(5, 56, 10):\n",
    "    for est in np.arange(5, 21, 5):\n",
    "        model_forest = RandomForestClassifier(random_state=RS, max_depth=depth, n_estimators=est)\n",
    "        model_forest.fit(tf_idf_train, train_target)\n",
    "        preds_forest = model_forest.predict(tf_idf_valid)\n",
    "        score = f1_score(valid_target, preds_forest)\n",
    "        if score > best_forest_score:\n",
    "            best_forest_score = score\n",
    "            best_forest_model = model_forest"
   ]
  },
  {
   "cell_type": "code",
   "execution_count": 30,
   "metadata": {},
   "outputs": [
    {
     "name": "stdout",
     "output_type": "stream",
     "text": [
      "Лучшая метрика F1 на модели леса: 0.18354253835425383\n",
      "Гиперпараметр \"max_depth\" на лучшей модели: 55\n",
      "Гиперпараметр \"n_estimators\" на лучшей модели: 5\n"
     ]
    }
   ],
   "source": [
    "print('Лучшая метрика F1 на модели леса:', best_forest_score)\n",
    "print('Гиперпараметр \"max_depth\" на лучшей модели:', best_forest_model.get_params(deep=False)['max_depth'])\n",
    "print('Гиперпараметр \"n_estimators\" на лучшей модели:', best_forest_model.get_params(deep=False)['n_estimators'])"
   ]
  },
  {
   "cell_type": "markdown",
   "metadata": {},
   "source": [
    "Модель случайного леса показала очень плохую метрику на валидационных данных. Второе место заняла модель дерева, однако метрика не достигает целевой. Лучшей оказалась модель логистической регрессии, она достигла целевой метрики F1 в 0.75. Проверим её на тестовых данных."
   ]
  },
  {
   "cell_type": "markdown",
   "metadata": {},
   "source": [
    "### Тестирование лучшей модели"
   ]
  },
  {
   "cell_type": "markdown",
   "metadata": {},
   "source": [
    "Проверим лучшую модель логистической регрессии на тестовых данных."
   ]
  },
  {
   "cell_type": "code",
   "execution_count": 31,
   "metadata": {},
   "outputs": [
    {
     "data": {
      "text/plain": [
       "0.7647653429602889"
      ]
     },
     "execution_count": 31,
     "metadata": {},
     "output_type": "execute_result"
    }
   ],
   "source": [
    "tf_idf_test = tf_idf_vect.transform(test_features)\n",
    "test_preds = best_lr_model.predict(tf_idf_test)\n",
    "f1_score(test_target, test_preds)"
   ]
  },
  {
   "cell_type": "markdown",
   "metadata": {},
   "source": [
    "Целевая метрика достигнута. Задание выполнено."
   ]
  },
  {
   "cell_type": "markdown",
   "metadata": {},
   "source": [
    "## Выводы"
   ]
  },
  {
   "cell_type": "markdown",
   "metadata": {},
   "source": [
    "* Лучшей моделью оказалась модель линейной регрессии. Она также оказалась самой быстрой. \n",
    "* Модель дерева показала среднюю метрику, немного не дотягивающую до целевой. \n",
    "* Модель случайного леса показала критически низкую метрику, а также работает дольше всех."
   ]
  }
 ],
 "metadata": {
  "ExecuteTimeLog": [
   {
    "duration": 1936,
    "start_time": "2023-02-28T12:37:18.440Z"
   },
   {
    "duration": 3480,
    "start_time": "2023-02-28T12:37:44.056Z"
   },
   {
    "duration": 783,
    "start_time": "2023-02-28T12:37:55.520Z"
   },
   {
    "duration": 32,
    "start_time": "2023-02-28T12:37:57.492Z"
   },
   {
    "duration": 13,
    "start_time": "2023-02-28T12:38:12.490Z"
   },
   {
    "duration": 6,
    "start_time": "2023-02-28T12:38:44.425Z"
   },
   {
    "duration": 5,
    "start_time": "2023-02-28T12:39:00.347Z"
   },
   {
    "duration": 4,
    "start_time": "2023-02-28T12:40:54.370Z"
   },
   {
    "duration": 116,
    "start_time": "2023-02-28T12:44:17.790Z"
   },
   {
    "duration": 12,
    "start_time": "2023-02-28T12:44:20.267Z"
   },
   {
    "duration": 8,
    "start_time": "2023-02-28T12:44:40.280Z"
   },
   {
    "duration": 8,
    "start_time": "2023-02-28T12:44:45.676Z"
   },
   {
    "duration": 6,
    "start_time": "2023-02-28T12:45:04.200Z"
   },
   {
    "duration": 5,
    "start_time": "2023-02-28T12:45:09.330Z"
   },
   {
    "duration": 216,
    "start_time": "2023-02-28T12:45:24.091Z"
   },
   {
    "duration": 198,
    "start_time": "2023-02-28T12:45:29.383Z"
   },
   {
    "duration": 13,
    "start_time": "2023-02-28T12:45:53.726Z"
   },
   {
    "duration": 10,
    "start_time": "2023-02-28T12:46:02.201Z"
   },
   {
    "duration": 5,
    "start_time": "2023-02-28T12:46:09.479Z"
   },
   {
    "duration": 8,
    "start_time": "2023-02-28T12:46:23.338Z"
   },
   {
    "duration": 18,
    "start_time": "2023-02-28T12:46:28.530Z"
   },
   {
    "duration": 11,
    "start_time": "2023-02-28T12:46:34.867Z"
   },
   {
    "duration": 19,
    "start_time": "2023-02-28T12:46:45.460Z"
   },
   {
    "duration": 7,
    "start_time": "2023-02-28T12:46:52.928Z"
   },
   {
    "duration": 5,
    "start_time": "2023-02-28T12:46:56.363Z"
   },
   {
    "duration": 713,
    "start_time": "2023-02-28T12:47:13.777Z"
   },
   {
    "duration": 760,
    "start_time": "2023-02-28T12:47:31.537Z"
   },
   {
    "duration": 9,
    "start_time": "2023-02-28T12:47:41.883Z"
   },
   {
    "duration": 4,
    "start_time": "2023-02-28T12:47:46.175Z"
   },
   {
    "duration": 8,
    "start_time": "2023-02-28T12:48:20.076Z"
   },
   {
    "duration": 6,
    "start_time": "2023-02-28T12:48:41.076Z"
   },
   {
    "duration": 7,
    "start_time": "2023-02-28T12:48:54.370Z"
   },
   {
    "duration": 5,
    "start_time": "2023-02-28T12:49:42.193Z"
   },
   {
    "duration": 4,
    "start_time": "2023-02-28T12:49:52.695Z"
   },
   {
    "duration": 8,
    "start_time": "2023-02-28T12:50:28.691Z"
   },
   {
    "duration": 7,
    "start_time": "2023-02-28T12:50:37.769Z"
   },
   {
    "duration": 10,
    "start_time": "2023-02-28T12:51:07.668Z"
   },
   {
    "duration": 23,
    "start_time": "2023-02-28T12:54:29.185Z"
   },
   {
    "duration": 3,
    "start_time": "2023-02-28T12:55:48.085Z"
   },
   {
    "duration": 186,
    "start_time": "2023-02-28T12:56:37.900Z"
   },
   {
    "duration": 2310,
    "start_time": "2023-02-28T12:57:44.969Z"
   },
   {
    "duration": 3,
    "start_time": "2023-02-28T12:58:32.988Z"
   },
   {
    "duration": 3,
    "start_time": "2023-02-28T13:00:37.019Z"
   },
   {
    "duration": 1928,
    "start_time": "2023-02-28T13:01:42.418Z"
   },
   {
    "duration": 3547,
    "start_time": "2023-02-28T13:01:44.348Z"
   },
   {
    "duration": 32,
    "start_time": "2023-02-28T13:01:47.897Z"
   },
   {
    "duration": 12,
    "start_time": "2023-02-28T13:01:47.931Z"
   },
   {
    "duration": 5,
    "start_time": "2023-02-28T13:01:47.945Z"
   },
   {
    "duration": 14,
    "start_time": "2023-02-28T13:01:47.952Z"
   },
   {
    "duration": 12,
    "start_time": "2023-02-28T13:01:47.968Z"
   },
   {
    "duration": 10,
    "start_time": "2023-02-28T13:01:47.982Z"
   },
   {
    "duration": 31,
    "start_time": "2023-02-28T13:01:47.994Z"
   },
   {
    "duration": 6,
    "start_time": "2023-02-28T13:01:48.026Z"
   },
   {
    "duration": 191,
    "start_time": "2023-02-28T13:01:48.034Z"
   },
   {
    "duration": 1957,
    "start_time": "2023-02-28T13:01:48.228Z"
   },
   {
    "duration": 4343,
    "start_time": "2023-02-28T13:08:31.712Z"
   },
   {
    "duration": 2632,
    "start_time": "2023-02-28T13:08:36.058Z"
   },
   {
    "duration": 3508,
    "start_time": "2023-02-28T13:08:41.895Z"
   },
   {
    "duration": 37,
    "start_time": "2023-02-28T13:08:45.405Z"
   },
   {
    "duration": 22,
    "start_time": "2023-02-28T13:08:45.444Z"
   },
   {
    "duration": 14,
    "start_time": "2023-02-28T13:08:45.469Z"
   },
   {
    "duration": 28,
    "start_time": "2023-02-28T13:08:45.485Z"
   },
   {
    "duration": 29,
    "start_time": "2023-02-28T13:08:45.515Z"
   },
   {
    "duration": 23,
    "start_time": "2023-02-28T13:08:45.545Z"
   },
   {
    "duration": 42,
    "start_time": "2023-02-28T13:08:45.570Z"
   },
   {
    "duration": 34,
    "start_time": "2023-02-28T13:08:45.614Z"
   },
   {
    "duration": 213,
    "start_time": "2023-02-28T13:08:45.651Z"
   },
   {
    "duration": 3066,
    "start_time": "2023-02-28T13:08:45.866Z"
   },
   {
    "duration": 2859,
    "start_time": "2023-02-28T13:08:53.235Z"
   },
   {
    "duration": 843,
    "start_time": "2023-02-28T13:10:11.469Z"
   },
   {
    "duration": 15,
    "start_time": "2023-02-28T13:10:18.668Z"
   },
   {
    "duration": 7,
    "start_time": "2023-02-28T13:10:21.309Z"
   },
   {
    "duration": 6,
    "start_time": "2023-02-28T13:10:31.393Z"
   },
   {
    "duration": 4,
    "start_time": "2023-02-28T13:16:23.565Z"
   },
   {
    "duration": 3,
    "start_time": "2023-02-28T13:21:22.614Z"
   },
   {
    "duration": 6,
    "start_time": "2023-02-28T13:21:23.917Z"
   },
   {
    "duration": 5,
    "start_time": "2023-02-28T13:21:24.978Z"
   },
   {
    "duration": 3452,
    "start_time": "2023-02-28T13:21:25.468Z"
   },
   {
    "duration": 4,
    "start_time": "2023-02-28T13:21:43.444Z"
   },
   {
    "duration": 2149,
    "start_time": "2023-02-28T13:22:19.062Z"
   },
   {
    "duration": 5,
    "start_time": "2023-02-28T13:22:24.640Z"
   },
   {
    "duration": 1228,
    "start_time": "2023-02-28T13:22:41.760Z"
   },
   {
    "duration": 835,
    "start_time": "2023-02-28T13:22:42.990Z"
   },
   {
    "duration": 35,
    "start_time": "2023-02-28T13:22:43.834Z"
   },
   {
    "duration": 16,
    "start_time": "2023-02-28T13:22:43.871Z"
   },
   {
    "duration": 11,
    "start_time": "2023-02-28T13:22:43.889Z"
   },
   {
    "duration": 58,
    "start_time": "2023-02-28T13:22:43.902Z"
   },
   {
    "duration": 45,
    "start_time": "2023-02-28T13:22:43.962Z"
   },
   {
    "duration": 13,
    "start_time": "2023-02-28T13:22:44.008Z"
   },
   {
    "duration": 29,
    "start_time": "2023-02-28T13:22:44.023Z"
   },
   {
    "duration": 7,
    "start_time": "2023-02-28T13:22:44.054Z"
   },
   {
    "duration": 145,
    "start_time": "2023-02-28T13:22:44.062Z"
   },
   {
    "duration": 3434,
    "start_time": "2023-02-28T13:22:44.209Z"
   },
   {
    "duration": 4,
    "start_time": "2023-02-28T13:22:47.648Z"
   },
   {
    "duration": 57,
    "start_time": "2023-02-28T13:26:40.682Z"
   },
   {
    "duration": 54,
    "start_time": "2023-02-28T13:26:55.901Z"
   },
   {
    "duration": 49,
    "start_time": "2023-02-28T13:27:02.234Z"
   },
   {
    "duration": 2015,
    "start_time": "2023-02-28T13:27:06.594Z"
   },
   {
    "duration": 2024,
    "start_time": "2023-02-28T13:27:12.365Z"
   },
   {
    "duration": 2100,
    "start_time": "2023-02-28T13:27:25.308Z"
   },
   {
    "duration": 2026,
    "start_time": "2023-02-28T13:27:38.519Z"
   },
   {
    "duration": 47,
    "start_time": "2023-02-28T13:28:56.534Z"
   },
   {
    "duration": 4116,
    "start_time": "2023-02-28T13:29:02.146Z"
   },
   {
    "duration": 3620,
    "start_time": "2023-02-28T13:29:06.264Z"
   },
   {
    "duration": 34,
    "start_time": "2023-02-28T13:29:09.886Z"
   },
   {
    "duration": 54,
    "start_time": "2023-02-28T13:29:09.922Z"
   },
   {
    "duration": 10,
    "start_time": "2023-02-28T13:29:09.979Z"
   },
   {
    "duration": 18,
    "start_time": "2023-02-28T13:29:09.990Z"
   },
   {
    "duration": 37,
    "start_time": "2023-02-28T13:29:10.011Z"
   },
   {
    "duration": 19,
    "start_time": "2023-02-28T13:29:10.050Z"
   },
   {
    "duration": 18,
    "start_time": "2023-02-28T13:29:10.071Z"
   },
   {
    "duration": 11,
    "start_time": "2023-02-28T13:29:10.091Z"
   },
   {
    "duration": 259,
    "start_time": "2023-02-28T13:29:10.105Z"
   },
   {
    "duration": 2201,
    "start_time": "2023-02-28T13:29:10.366Z"
   },
   {
    "duration": 0,
    "start_time": "2023-02-28T13:29:12.569Z"
   },
   {
    "duration": 2231,
    "start_time": "2023-02-28T13:33:13.346Z"
   },
   {
    "duration": 18,
    "start_time": "2023-02-28T13:33:54.446Z"
   },
   {
    "duration": 13,
    "start_time": "2023-02-28T13:34:04.638Z"
   },
   {
    "duration": 2283,
    "start_time": "2023-02-28T13:34:11.618Z"
   },
   {
    "duration": 8315,
    "start_time": "2023-03-01T19:16:39.733Z"
   },
   {
    "duration": 3,
    "start_time": "2023-03-01T19:16:51.766Z"
   },
   {
    "duration": 3217,
    "start_time": "2023-03-01T19:16:52.235Z"
   },
   {
    "duration": 34,
    "start_time": "2023-03-01T19:16:55.454Z"
   },
   {
    "duration": 14,
    "start_time": "2023-03-01T19:16:55.490Z"
   },
   {
    "duration": 5,
    "start_time": "2023-03-01T19:16:55.506Z"
   },
   {
    "duration": 18,
    "start_time": "2023-03-01T19:16:55.512Z"
   },
   {
    "duration": 20,
    "start_time": "2023-03-01T19:16:55.532Z"
   },
   {
    "duration": 8642,
    "start_time": "2023-03-01T19:21:54.552Z"
   },
   {
    "duration": 355,
    "start_time": "2023-03-01T19:24:36.034Z"
   },
   {
    "duration": 631,
    "start_time": "2023-03-01T19:24:54.950Z"
   },
   {
    "duration": 8719,
    "start_time": "2023-03-01T19:26:32.023Z"
   },
   {
    "duration": 3903,
    "start_time": "2023-03-01T19:26:40.744Z"
   },
   {
    "duration": 3,
    "start_time": "2023-03-01T19:26:44.648Z"
   },
   {
    "duration": 707,
    "start_time": "2023-03-01T19:26:44.653Z"
   },
   {
    "duration": 33,
    "start_time": "2023-03-01T19:26:45.362Z"
   },
   {
    "duration": 13,
    "start_time": "2023-03-01T19:26:45.397Z"
   },
   {
    "duration": 6,
    "start_time": "2023-03-01T19:26:45.426Z"
   },
   {
    "duration": 9,
    "start_time": "2023-03-01T19:26:45.434Z"
   },
   {
    "duration": 23,
    "start_time": "2023-03-01T19:26:45.445Z"
   },
   {
    "duration": 18,
    "start_time": "2023-03-01T19:26:45.470Z"
   },
   {
    "duration": 2440,
    "start_time": "2023-03-01T19:26:45.490Z"
   },
   {
    "duration": 507,
    "start_time": "2023-03-01T19:26:47.932Z"
   },
   {
    "duration": 9497,
    "start_time": "2023-03-01T19:27:35.740Z"
   },
   {
    "duration": 3778,
    "start_time": "2023-03-01T19:27:45.240Z"
   },
   {
    "duration": 3,
    "start_time": "2023-03-01T19:27:49.020Z"
   },
   {
    "duration": 698,
    "start_time": "2023-03-01T19:27:49.026Z"
   },
   {
    "duration": 32,
    "start_time": "2023-03-01T19:27:49.726Z"
   },
   {
    "duration": 13,
    "start_time": "2023-03-01T19:27:49.760Z"
   },
   {
    "duration": 5,
    "start_time": "2023-03-01T19:27:49.775Z"
   },
   {
    "duration": 8,
    "start_time": "2023-03-01T19:27:49.781Z"
   },
   {
    "duration": 44,
    "start_time": "2023-03-01T19:27:49.791Z"
   },
   {
    "duration": 10,
    "start_time": "2023-03-01T19:27:49.837Z"
   },
   {
    "duration": 310,
    "start_time": "2023-03-01T19:27:49.848Z"
   },
   {
    "duration": 402,
    "start_time": "2023-03-01T19:27:50.160Z"
   },
   {
    "duration": 0,
    "start_time": "2023-03-01T19:27:50.564Z"
   },
   {
    "duration": 0,
    "start_time": "2023-03-01T19:27:50.565Z"
   },
   {
    "duration": 0,
    "start_time": "2023-03-01T19:27:50.566Z"
   },
   {
    "duration": 0,
    "start_time": "2023-03-01T19:27:50.567Z"
   },
   {
    "duration": 0,
    "start_time": "2023-03-01T19:27:50.568Z"
   },
   {
    "duration": 0,
    "start_time": "2023-03-01T19:27:50.569Z"
   },
   {
    "duration": 0,
    "start_time": "2023-03-01T19:27:50.570Z"
   },
   {
    "duration": 0,
    "start_time": "2023-03-01T19:27:50.571Z"
   },
   {
    "duration": 0,
    "start_time": "2023-03-01T19:27:50.572Z"
   },
   {
    "duration": 0,
    "start_time": "2023-03-01T19:27:50.573Z"
   },
   {
    "duration": 0,
    "start_time": "2023-03-01T19:27:50.574Z"
   },
   {
    "duration": 0,
    "start_time": "2023-03-01T19:27:50.575Z"
   },
   {
    "duration": 0,
    "start_time": "2023-03-01T19:27:50.576Z"
   },
   {
    "duration": 0,
    "start_time": "2023-03-01T19:27:50.577Z"
   },
   {
    "duration": 0,
    "start_time": "2023-03-01T19:27:50.578Z"
   },
   {
    "duration": 8804,
    "start_time": "2023-03-01T19:28:15.956Z"
   },
   {
    "duration": 3956,
    "start_time": "2023-03-01T19:28:24.762Z"
   },
   {
    "duration": 7,
    "start_time": "2023-03-01T19:28:28.720Z"
   },
   {
    "duration": 727,
    "start_time": "2023-03-01T19:28:28.729Z"
   },
   {
    "duration": 31,
    "start_time": "2023-03-01T19:28:29.457Z"
   },
   {
    "duration": 15,
    "start_time": "2023-03-01T19:28:29.490Z"
   },
   {
    "duration": 22,
    "start_time": "2023-03-01T19:28:29.506Z"
   },
   {
    "duration": 22,
    "start_time": "2023-03-01T19:28:29.530Z"
   },
   {
    "duration": 22,
    "start_time": "2023-03-01T19:28:29.554Z"
   },
   {
    "duration": 11,
    "start_time": "2023-03-01T19:28:29.579Z"
   },
   {
    "duration": 342,
    "start_time": "2023-03-01T19:28:29.591Z"
   },
   {
    "duration": 501,
    "start_time": "2023-03-01T19:28:29.935Z"
   },
   {
    "duration": 10618,
    "start_time": "2023-03-01T19:29:59.569Z"
   },
   {
    "duration": 3964,
    "start_time": "2023-03-01T19:30:10.190Z"
   },
   {
    "duration": 3,
    "start_time": "2023-03-01T19:30:14.156Z"
   },
   {
    "duration": 708,
    "start_time": "2023-03-01T19:30:14.160Z"
   },
   {
    "duration": 33,
    "start_time": "2023-03-01T19:30:14.869Z"
   },
   {
    "duration": 26,
    "start_time": "2023-03-01T19:30:14.904Z"
   },
   {
    "duration": 5,
    "start_time": "2023-03-01T19:30:14.931Z"
   },
   {
    "duration": 10,
    "start_time": "2023-03-01T19:30:14.937Z"
   },
   {
    "duration": 26,
    "start_time": "2023-03-01T19:30:14.949Z"
   },
   {
    "duration": 10,
    "start_time": "2023-03-01T19:30:14.978Z"
   },
   {
    "duration": 344,
    "start_time": "2023-03-01T19:30:14.990Z"
   },
   {
    "duration": 49,
    "start_time": "2023-03-01T19:30:15.335Z"
   },
   {
    "duration": 0,
    "start_time": "2023-03-01T19:30:15.385Z"
   },
   {
    "duration": 0,
    "start_time": "2023-03-01T19:30:15.387Z"
   },
   {
    "duration": 0,
    "start_time": "2023-03-01T19:30:15.388Z"
   },
   {
    "duration": 0,
    "start_time": "2023-03-01T19:30:15.390Z"
   },
   {
    "duration": 0,
    "start_time": "2023-03-01T19:30:15.391Z"
   },
   {
    "duration": 0,
    "start_time": "2023-03-01T19:30:15.392Z"
   },
   {
    "duration": 0,
    "start_time": "2023-03-01T19:30:15.393Z"
   },
   {
    "duration": 0,
    "start_time": "2023-03-01T19:30:15.394Z"
   },
   {
    "duration": 0,
    "start_time": "2023-03-01T19:30:15.395Z"
   },
   {
    "duration": 0,
    "start_time": "2023-03-01T19:30:15.396Z"
   },
   {
    "duration": 0,
    "start_time": "2023-03-01T19:30:15.397Z"
   },
   {
    "duration": 0,
    "start_time": "2023-03-01T19:30:15.398Z"
   },
   {
    "duration": 0,
    "start_time": "2023-03-01T19:30:15.400Z"
   },
   {
    "duration": 0,
    "start_time": "2023-03-01T19:30:15.400Z"
   },
   {
    "duration": 0,
    "start_time": "2023-03-01T19:30:15.402Z"
   },
   {
    "duration": 10185,
    "start_time": "2023-03-01T19:30:50.168Z"
   },
   {
    "duration": 4802,
    "start_time": "2023-03-01T19:31:00.356Z"
   },
   {
    "duration": 2,
    "start_time": "2023-03-01T19:31:05.160Z"
   },
   {
    "duration": 701,
    "start_time": "2023-03-01T19:31:05.164Z"
   },
   {
    "duration": 29,
    "start_time": "2023-03-01T19:31:05.867Z"
   },
   {
    "duration": 14,
    "start_time": "2023-03-01T19:31:05.897Z"
   },
   {
    "duration": 18,
    "start_time": "2023-03-01T19:31:05.912Z"
   },
   {
    "duration": 22,
    "start_time": "2023-03-01T19:31:05.931Z"
   },
   {
    "duration": 21,
    "start_time": "2023-03-01T19:31:05.955Z"
   },
   {
    "duration": 11,
    "start_time": "2023-03-01T19:31:05.978Z"
   },
   {
    "duration": 335,
    "start_time": "2023-03-01T19:31:05.990Z"
   },
   {
    "duration": 452,
    "start_time": "2023-03-01T19:31:06.326Z"
   },
   {
    "duration": 575,
    "start_time": "2023-03-01T19:31:06.779Z"
   },
   {
    "duration": 0,
    "start_time": "2023-03-01T19:31:07.356Z"
   },
   {
    "duration": 0,
    "start_time": "2023-03-01T19:31:07.357Z"
   },
   {
    "duration": 0,
    "start_time": "2023-03-01T19:31:07.359Z"
   },
   {
    "duration": 0,
    "start_time": "2023-03-01T19:31:07.361Z"
   },
   {
    "duration": 0,
    "start_time": "2023-03-01T19:31:07.363Z"
   },
   {
    "duration": 0,
    "start_time": "2023-03-01T19:31:07.364Z"
   },
   {
    "duration": 0,
    "start_time": "2023-03-01T19:31:07.366Z"
   },
   {
    "duration": 0,
    "start_time": "2023-03-01T19:31:07.368Z"
   },
   {
    "duration": 0,
    "start_time": "2023-03-01T19:31:07.370Z"
   },
   {
    "duration": 0,
    "start_time": "2023-03-01T19:31:07.371Z"
   },
   {
    "duration": 0,
    "start_time": "2023-03-01T19:31:07.372Z"
   },
   {
    "duration": 0,
    "start_time": "2023-03-01T19:31:07.374Z"
   },
   {
    "duration": 0,
    "start_time": "2023-03-01T19:31:07.375Z"
   },
   {
    "duration": 0,
    "start_time": "2023-03-01T19:31:07.377Z"
   },
   {
    "duration": 10437,
    "start_time": "2023-03-01T19:31:13.674Z"
   },
   {
    "duration": 3849,
    "start_time": "2023-03-01T19:31:24.113Z"
   },
   {
    "duration": 2,
    "start_time": "2023-03-01T19:31:27.964Z"
   },
   {
    "duration": 719,
    "start_time": "2023-03-01T19:31:27.968Z"
   },
   {
    "duration": 29,
    "start_time": "2023-03-01T19:31:28.689Z"
   },
   {
    "duration": 13,
    "start_time": "2023-03-01T19:31:28.727Z"
   },
   {
    "duration": 8,
    "start_time": "2023-03-01T19:31:28.741Z"
   },
   {
    "duration": 8,
    "start_time": "2023-03-01T19:31:28.751Z"
   },
   {
    "duration": 21,
    "start_time": "2023-03-01T19:31:28.760Z"
   },
   {
    "duration": 10,
    "start_time": "2023-03-01T19:31:28.783Z"
   },
   {
    "duration": 243,
    "start_time": "2023-03-01T19:31:28.795Z"
   },
   {
    "duration": 458,
    "start_time": "2023-03-01T19:31:29.040Z"
   },
   {
    "duration": 609,
    "start_time": "2023-03-01T19:31:29.499Z"
   },
   {
    "duration": 0,
    "start_time": "2023-03-01T19:31:30.110Z"
   },
   {
    "duration": 0,
    "start_time": "2023-03-01T19:31:30.111Z"
   },
   {
    "duration": 0,
    "start_time": "2023-03-01T19:31:30.112Z"
   },
   {
    "duration": 0,
    "start_time": "2023-03-01T19:31:30.113Z"
   },
   {
    "duration": 0,
    "start_time": "2023-03-01T19:31:30.115Z"
   },
   {
    "duration": 0,
    "start_time": "2023-03-01T19:31:30.115Z"
   },
   {
    "duration": 0,
    "start_time": "2023-03-01T19:31:30.116Z"
   },
   {
    "duration": 0,
    "start_time": "2023-03-01T19:31:30.117Z"
   },
   {
    "duration": 0,
    "start_time": "2023-03-01T19:31:30.118Z"
   },
   {
    "duration": 0,
    "start_time": "2023-03-01T19:31:30.119Z"
   },
   {
    "duration": 0,
    "start_time": "2023-03-01T19:31:30.120Z"
   },
   {
    "duration": 0,
    "start_time": "2023-03-01T19:31:30.122Z"
   },
   {
    "duration": 1,
    "start_time": "2023-03-01T19:31:30.122Z"
   },
   {
    "duration": 0,
    "start_time": "2023-03-01T19:31:30.123Z"
   },
   {
    "duration": 9562,
    "start_time": "2023-03-01T19:32:41.583Z"
   },
   {
    "duration": 3821,
    "start_time": "2023-03-01T19:32:51.147Z"
   },
   {
    "duration": 2,
    "start_time": "2023-03-01T19:32:54.970Z"
   },
   {
    "duration": 715,
    "start_time": "2023-03-01T19:32:54.974Z"
   },
   {
    "duration": 37,
    "start_time": "2023-03-01T19:32:55.690Z"
   },
   {
    "duration": 13,
    "start_time": "2023-03-01T19:32:55.729Z"
   },
   {
    "duration": 12,
    "start_time": "2023-03-01T19:32:55.743Z"
   },
   {
    "duration": 9,
    "start_time": "2023-03-01T19:32:55.757Z"
   },
   {
    "duration": 21,
    "start_time": "2023-03-01T19:32:55.768Z"
   },
   {
    "duration": 11,
    "start_time": "2023-03-01T19:32:55.791Z"
   },
   {
    "duration": 222,
    "start_time": "2023-03-01T19:32:55.827Z"
   },
   {
    "duration": 93,
    "start_time": "2023-03-01T19:32:56.051Z"
   },
   {
    "duration": 0,
    "start_time": "2023-03-01T19:32:56.146Z"
   },
   {
    "duration": 0,
    "start_time": "2023-03-01T19:32:56.147Z"
   },
   {
    "duration": 0,
    "start_time": "2023-03-01T19:32:56.149Z"
   },
   {
    "duration": 0,
    "start_time": "2023-03-01T19:32:56.150Z"
   },
   {
    "duration": 0,
    "start_time": "2023-03-01T19:32:56.152Z"
   },
   {
    "duration": 0,
    "start_time": "2023-03-01T19:32:56.153Z"
   },
   {
    "duration": 0,
    "start_time": "2023-03-01T19:32:56.155Z"
   },
   {
    "duration": 0,
    "start_time": "2023-03-01T19:32:56.156Z"
   },
   {
    "duration": 1,
    "start_time": "2023-03-01T19:32:56.157Z"
   },
   {
    "duration": 0,
    "start_time": "2023-03-01T19:32:56.159Z"
   },
   {
    "duration": 0,
    "start_time": "2023-03-01T19:32:56.160Z"
   },
   {
    "duration": 0,
    "start_time": "2023-03-01T19:32:56.162Z"
   },
   {
    "duration": 0,
    "start_time": "2023-03-01T19:32:56.163Z"
   },
   {
    "duration": 0,
    "start_time": "2023-03-01T19:32:56.164Z"
   },
   {
    "duration": 0,
    "start_time": "2023-03-01T19:32:56.166Z"
   },
   {
    "duration": 510,
    "start_time": "2023-03-01T19:33:07.098Z"
   },
   {
    "duration": 1047277,
    "start_time": "2023-03-01T19:33:07.610Z"
   },
   {
    "duration": 5,
    "start_time": "2023-03-01T19:50:34.888Z"
   },
   {
    "duration": 8,
    "start_time": "2023-03-01T19:50:34.895Z"
   },
   {
    "duration": 6,
    "start_time": "2023-03-01T19:50:34.905Z"
   },
   {
    "duration": 140,
    "start_time": "2023-03-01T19:50:34.927Z"
   },
   {
    "duration": 4405,
    "start_time": "2023-03-01T19:50:35.069Z"
   },
   {
    "duration": 4,
    "start_time": "2023-03-01T19:50:39.476Z"
   },
   {
    "duration": 1454,
    "start_time": "2023-03-01T19:50:39.481Z"
   },
   {
    "duration": 742847,
    "start_time": "2023-03-01T19:50:40.940Z"
   },
   {
    "duration": 4,
    "start_time": "2023-03-01T20:03:03.789Z"
   },
   {
    "duration": 74692,
    "start_time": "2023-03-01T20:03:03.795Z"
   },
   {
    "duration": 4,
    "start_time": "2023-03-01T20:04:18.489Z"
   },
   {
    "duration": 43778,
    "start_time": "2023-03-01T20:04:18.495Z"
   },
   {
    "duration": 4,
    "start_time": "2023-03-01T20:05:02.275Z"
   },
   {
    "duration": 1324,
    "start_time": "2023-03-01T20:05:02.280Z"
   },
   {
    "duration": 258831,
    "start_time": "2023-03-01T20:05:03.607Z"
   },
   {
    "duration": 5,
    "start_time": "2023-03-01T20:09:22.440Z"
   },
   {
    "duration": 34,
    "start_time": "2023-03-01T20:09:22.448Z"
   },
   {
    "duration": 17848,
    "start_time": "2023-03-01T20:10:07.999Z"
   },
   {
    "duration": 3975,
    "start_time": "2023-03-01T20:10:25.849Z"
   },
   {
    "duration": 17,
    "start_time": "2023-03-01T20:10:29.825Z"
   },
   {
    "duration": 787,
    "start_time": "2023-03-01T20:10:29.844Z"
   },
   {
    "duration": 42,
    "start_time": "2023-03-01T20:10:30.634Z"
   },
   {
    "duration": 25,
    "start_time": "2023-03-01T20:10:30.678Z"
   },
   {
    "duration": 35,
    "start_time": "2023-03-01T20:10:30.705Z"
   },
   {
    "duration": 27,
    "start_time": "2023-03-01T20:10:30.742Z"
   },
   {
    "duration": 39,
    "start_time": "2023-03-01T20:10:30.770Z"
   },
   {
    "duration": 27,
    "start_time": "2023-03-01T20:10:30.811Z"
   },
   {
    "duration": 259,
    "start_time": "2023-03-01T20:10:30.840Z"
   },
   {
    "duration": 502,
    "start_time": "2023-03-01T20:10:31.101Z"
   },
   {
    "duration": 1569250,
    "start_time": "2023-03-01T20:10:31.605Z"
   },
   {
    "duration": 0,
    "start_time": "2023-03-01T20:36:40.857Z"
   },
   {
    "duration": 1,
    "start_time": "2023-03-01T20:36:40.858Z"
   },
   {
    "duration": 0,
    "start_time": "2023-03-01T20:36:40.860Z"
   },
   {
    "duration": 0,
    "start_time": "2023-03-01T20:36:40.861Z"
   },
   {
    "duration": 0,
    "start_time": "2023-03-01T20:36:40.862Z"
   },
   {
    "duration": 0,
    "start_time": "2023-03-01T20:36:40.863Z"
   },
   {
    "duration": 0,
    "start_time": "2023-03-01T20:36:40.864Z"
   },
   {
    "duration": 0,
    "start_time": "2023-03-01T20:36:40.865Z"
   },
   {
    "duration": 0,
    "start_time": "2023-03-01T20:36:40.867Z"
   },
   {
    "duration": 0,
    "start_time": "2023-03-01T20:36:40.868Z"
   },
   {
    "duration": 0,
    "start_time": "2023-03-01T20:36:40.869Z"
   },
   {
    "duration": 0,
    "start_time": "2023-03-01T20:36:40.870Z"
   },
   {
    "duration": 0,
    "start_time": "2023-03-01T20:36:40.871Z"
   },
   {
    "duration": 0,
    "start_time": "2023-03-01T20:36:40.872Z"
   },
   {
    "duration": 13910,
    "start_time": "2023-03-01T20:38:16.466Z"
   },
   {
    "duration": 4271,
    "start_time": "2023-03-01T20:38:30.379Z"
   },
   {
    "duration": 3,
    "start_time": "2023-03-01T20:38:34.651Z"
   },
   {
    "duration": 762,
    "start_time": "2023-03-01T20:38:34.656Z"
   },
   {
    "duration": 40,
    "start_time": "2023-03-01T20:38:35.421Z"
   },
   {
    "duration": 17,
    "start_time": "2023-03-01T20:38:35.463Z"
   },
   {
    "duration": 6,
    "start_time": "2023-03-01T20:38:35.482Z"
   },
   {
    "duration": 13,
    "start_time": "2023-03-01T20:38:35.490Z"
   },
   {
    "duration": 48,
    "start_time": "2023-03-01T20:38:35.505Z"
   },
   {
    "duration": 12,
    "start_time": "2023-03-01T20:38:35.555Z"
   },
   {
    "duration": 183,
    "start_time": "2023-03-01T20:38:35.569Z"
   },
   {
    "duration": 502,
    "start_time": "2023-03-01T20:38:35.754Z"
   },
   {
    "duration": 9288,
    "start_time": "2023-03-01T20:38:44.955Z"
   },
   {
    "duration": 3998,
    "start_time": "2023-03-01T20:38:54.245Z"
   },
   {
    "duration": 2,
    "start_time": "2023-03-01T20:38:58.245Z"
   },
   {
    "duration": 751,
    "start_time": "2023-03-01T20:38:58.249Z"
   },
   {
    "duration": 38,
    "start_time": "2023-03-01T20:38:59.001Z"
   },
   {
    "duration": 17,
    "start_time": "2023-03-01T20:38:59.041Z"
   },
   {
    "duration": 4,
    "start_time": "2023-03-01T20:38:59.059Z"
   },
   {
    "duration": 8,
    "start_time": "2023-03-01T20:38:59.065Z"
   },
   {
    "duration": 21,
    "start_time": "2023-03-01T20:38:59.075Z"
   },
   {
    "duration": 40,
    "start_time": "2023-03-01T20:38:59.099Z"
   },
   {
    "duration": 160,
    "start_time": "2023-03-01T20:38:59.141Z"
   },
   {
    "duration": 489,
    "start_time": "2023-03-01T20:38:59.303Z"
   },
   {
    "duration": 1089924,
    "start_time": "2023-03-01T20:38:59.793Z"
   },
   {
    "duration": 9,
    "start_time": "2023-03-01T20:57:09.727Z"
   },
   {
    "duration": 22,
    "start_time": "2023-03-01T20:57:09.742Z"
   },
   {
    "duration": 7,
    "start_time": "2023-03-01T20:57:09.766Z"
   },
   {
    "duration": 123,
    "start_time": "2023-03-01T20:57:09.774Z"
   },
   {
    "duration": 4403,
    "start_time": "2023-03-01T20:57:09.899Z"
   },
   {
    "duration": 4,
    "start_time": "2023-03-01T20:57:14.304Z"
   },
   {
    "duration": 1461,
    "start_time": "2023-03-01T20:57:14.310Z"
   },
   {
    "duration": 283684,
    "start_time": "2023-03-01T20:57:15.772Z"
   },
   {
    "duration": 16,
    "start_time": "2023-03-01T21:01:59.458Z"
   },
   {
    "duration": 74349,
    "start_time": "2023-03-01T21:01:59.528Z"
   },
   {
    "duration": 4,
    "start_time": "2023-03-01T21:03:13.879Z"
   },
   {
    "duration": 40970,
    "start_time": "2023-03-01T21:03:13.884Z"
   },
   {
    "duration": 5,
    "start_time": "2023-03-01T21:03:54.856Z"
   },
   {
    "duration": 1349,
    "start_time": "2023-03-01T21:03:54.862Z"
   }
  ],
  "kernelspec": {
   "display_name": "Python 3 (ipykernel)",
   "language": "python",
   "name": "python3"
  },
  "language_info": {
   "codemirror_mode": {
    "name": "ipython",
    "version": 3
   },
   "file_extension": ".py",
   "mimetype": "text/x-python",
   "name": "python",
   "nbconvert_exporter": "python",
   "pygments_lexer": "ipython3",
   "version": "3.9.12"
  },
  "toc": {
   "base_numbering": 1,
   "nav_menu": {},
   "number_sections": true,
   "sideBar": true,
   "skip_h1_title": true,
   "title_cell": "Содержание",
   "title_sidebar": "Contents",
   "toc_cell": true,
   "toc_position": {
    "height": "calc(100% - 180px)",
    "left": "10px",
    "top": "150px",
    "width": "165px"
   },
   "toc_section_display": true,
   "toc_window_display": true
  }
 },
 "nbformat": 4,
 "nbformat_minor": 2
}
