{
 "cells": [
  {
   "cell_type": "markdown",
   "metadata": {},
   "source": [
    "# Восстановление золота из руды"
   ]
  },
  {
   "cell_type": "markdown",
   "metadata": {},
   "source": [
    "Необходимо подготовить прототип модели машинного обучения для компании. Компания разрабатывает решения для эффективной работы промышленных предприятий.\n",
    "\n",
    "Модель должна предсказать коэффициент восстановления золота из золотосодержащей руды. Имеются данные с параметрами добычи и очистки. \n",
    "\n",
    "Модель поможет оптимизировать производство, чтобы не запускать предприятие с убыточными характеристиками.\n",
    "\n",
    "Нам нужно:\n",
    "\n",
    "1. Подготовить данные;\n",
    "2. Провести исследовательский анализ данных;\n",
    "3. Построить и обучить модель."
   ]
  },
  {
   "cell_type": "markdown",
   "metadata": {
    "toc": true
   },
   "source": [
    "<h1>Содержание<span class=\"tocSkip\"></span></h1>\n",
    "<div class=\"toc\"><ul class=\"toc-item\"><li><span><a href=\"#Подготовка-данных\" data-toc-modified-id=\"Подготовка-данных-1\"><span class=\"toc-item-num\">1&nbsp;&nbsp;</span>Подготовка данных</a></span><ul class=\"toc-item\"><li><span><a href=\"#Загрузка-данных-и-просмотр-информации\" data-toc-modified-id=\"Загрузка-данных-и-просмотр-информации-1.1\"><span class=\"toc-item-num\">1.1&nbsp;&nbsp;</span>Загрузка данных и просмотр информации</a></span></li><li><span><a href=\"#Проверка-рассчёта-эффективности-обогащения\" data-toc-modified-id=\"Проверка-рассчёта-эффективности-обогащения-1.2\"><span class=\"toc-item-num\">1.2&nbsp;&nbsp;</span>Проверка рассчёта эффективности обогащения</a></span></li><li><span><a href=\"#Анализ-признаков-недоступных-в-тестовой-выборке\" data-toc-modified-id=\"Анализ-признаков-недоступных-в-тестовой-выборке-1.3\"><span class=\"toc-item-num\">1.3&nbsp;&nbsp;</span>Анализ признаков недоступных в тестовой выборке</a></span></li><li><span><a href=\"#Заполнение-пропусков\" data-toc-modified-id=\"Заполнение-пропусков-1.4\"><span class=\"toc-item-num\">1.4&nbsp;&nbsp;</span>Заполнение пропусков</a></span></li></ul></li><li><span><a href=\"#Анализ-данных\" data-toc-modified-id=\"Анализ-данных-2\"><span class=\"toc-item-num\">2&nbsp;&nbsp;</span>Анализ данных</a></span><ul class=\"toc-item\"><li><span><a href=\"#Динамика-изменений-концентрации-металлов-на-разных-этапах-очистки\" data-toc-modified-id=\"Динамика-изменений-концентрации-металлов-на-разных-этапах-очистки-2.1\"><span class=\"toc-item-num\">2.1&nbsp;&nbsp;</span>Динамика изменений концентрации металлов на разных этапах очистки</a></span><ul class=\"toc-item\"><li><span><a href=\"#Золото\" data-toc-modified-id=\"Золото-2.1.1\"><span class=\"toc-item-num\">2.1.1&nbsp;&nbsp;</span>Золото</a></span></li><li><span><a href=\"#Серебро\" data-toc-modified-id=\"Серебро-2.1.2\"><span class=\"toc-item-num\">2.1.2&nbsp;&nbsp;</span>Серебро</a></span></li><li><span><a href=\"#Свинец\" data-toc-modified-id=\"Свинец-2.1.3\"><span class=\"toc-item-num\">2.1.3&nbsp;&nbsp;</span>Свинец</a></span></li></ul></li><li><span><a href=\"#Распределение-размеров-гранул-сырья\" data-toc-modified-id=\"Распределение-размеров-гранул-сырья-2.2\"><span class=\"toc-item-num\">2.2&nbsp;&nbsp;</span>Распределение размеров гранул сырья</a></span></li><li><span><a href=\"#Суммарная-концентрация-всех-веществ\" data-toc-modified-id=\"Суммарная-концентрация-всех-веществ-2.3\"><span class=\"toc-item-num\">2.3&nbsp;&nbsp;</span>Суммарная концентрация всех веществ</a></span></li></ul></li><li><span><a href=\"#Модель\" data-toc-modified-id=\"Модель-3\"><span class=\"toc-item-num\">3&nbsp;&nbsp;</span>Модель</a></span><ul class=\"toc-item\"><li><span><a href=\"#Функция-для-подсчёта-метрики-sMAPE\" data-toc-modified-id=\"Функция-для-подсчёта-метрики-sMAPE-3.1\"><span class=\"toc-item-num\">3.1&nbsp;&nbsp;</span>Функция для подсчёта метрики sMAPE</a></span></li><li><span><a href=\"#Создание-обучающих-и-тестовых-выборок\" data-toc-modified-id=\"Создание-обучающих-и-тестовых-выборок-3.2\"><span class=\"toc-item-num\">3.2&nbsp;&nbsp;</span>Создание обучающих и тестовых выборок</a></span></li><li><span><a href=\"#Обучение-и-проверка-моделей\" data-toc-modified-id=\"Обучение-и-проверка-моделей-3.3\"><span class=\"toc-item-num\">3.3&nbsp;&nbsp;</span>Обучение и проверка моделей</a></span><ul class=\"toc-item\"><li><span><a href=\"#DummyRegressor()\" data-toc-modified-id=\"DummyRegressor()-3.3.1\"><span class=\"toc-item-num\">3.3.1&nbsp;&nbsp;</span><code>DummyRegressor()</code></a></span></li><li><span><a href=\"#LinearRegression()\" data-toc-modified-id=\"LinearRegression()-3.3.2\"><span class=\"toc-item-num\">3.3.2&nbsp;&nbsp;</span><code>LinearRegression()</code></a></span></li><li><span><a href=\"#DecisionTreeRegressor()\" data-toc-modified-id=\"DecisionTreeRegressor()-3.3.3\"><span class=\"toc-item-num\">3.3.3&nbsp;&nbsp;</span><code>DecisionTreeRegressor()</code></a></span></li><li><span><a href=\"#RandomForestRegressor()\" data-toc-modified-id=\"RandomForestRegressor()-3.3.4\"><span class=\"toc-item-num\">3.3.4&nbsp;&nbsp;</span><code>RandomForestRegressor()</code></a></span></li></ul></li><li><span><a href=\"#Проверка-на-тестовых-данных\" data-toc-modified-id=\"Проверка-на-тестовых-данных-3.4\"><span class=\"toc-item-num\">3.4&nbsp;&nbsp;</span>Проверка на тестовых данных</a></span></li></ul></li><li><span><a href=\"#Вывод\" data-toc-modified-id=\"Вывод-4\"><span class=\"toc-item-num\">4&nbsp;&nbsp;</span>Вывод</a></span></li></ul></div>"
   ]
  },
  {
   "cell_type": "markdown",
   "metadata": {},
   "source": [
    "## Подготовка данных"
   ]
  },
  {
   "cell_type": "markdown",
   "metadata": {},
   "source": [
    "Для начала, импортируем все необходимые модули для проекта."
   ]
  },
  {
   "cell_type": "code",
   "execution_count": 1,
   "metadata": {},
   "outputs": [],
   "source": [
    "import warnings\n",
    "warnings.filterwarnings('ignore')\n",
    "\n",
    "import pandas as pd\n",
    "import matplotlib.pyplot as plt\n",
    "import seaborn as sns\n",
    "import numpy as np\n",
    "\n",
    "from sklearn.metrics import mean_absolute_error\n",
    "from sklearn.metrics import make_scorer\n",
    "from sklearn.model_selection import GridSearchCV\n",
    "from sklearn.linear_model import LinearRegression\n",
    "from sklearn.ensemble import RandomForestRegressor\n",
    "from sklearn.tree import DecisionTreeRegressor\n",
    "from sklearn.dummy import DummyRegressor"
   ]
  },
  {
   "cell_type": "markdown",
   "metadata": {},
   "source": [
    "Зафиксируем в константе случайное состояние, которое будем использовать в проекте."
   ]
  },
  {
   "cell_type": "code",
   "execution_count": 2,
   "metadata": {},
   "outputs": [],
   "source": [
    "RANDOM_STATE = 322"
   ]
  },
  {
   "cell_type": "markdown",
   "metadata": {},
   "source": [
    "### Загрузка данных и просмотр информации"
   ]
  },
  {
   "cell_type": "markdown",
   "metadata": {},
   "source": [
    "Загрузим все таблицы в три переменные. В тренировочных данных находятся все обучающие и целевые признаки для обучения модели. Из этих же данных мы будем брать валидационную выборку для проверки качества модели, так как оценивать качество будем методом кросс-валидации. В тестовых данных находятся только обучающие признаки: соответствующие им целевые признаки мы будем брать из таблицы `data_full`."
   ]
  },
  {
   "cell_type": "code",
   "execution_count": 3,
   "metadata": {},
   "outputs": [],
   "source": [
    "data_train = pd.read_csv('gold_industry_train.csv')\n",
    "data_test = pd.read_csv('gold_industry_test.csv')\n",
    "data_full = pd.read_csv('gold_industry_full.csv')"
   ]
  },
  {
   "cell_type": "markdown",
   "metadata": {},
   "source": [
    "Выведем первые строки и информацию о данных, чтобы примерно понять, что из себя представляют данные:"
   ]
  },
  {
   "cell_type": "code",
   "execution_count": 4,
   "metadata": {},
   "outputs": [
    {
     "data": {
      "text/html": [
       "<div>\n",
       "<style scoped>\n",
       "    .dataframe tbody tr th:only-of-type {\n",
       "        vertical-align: middle;\n",
       "    }\n",
       "\n",
       "    .dataframe tbody tr th {\n",
       "        vertical-align: top;\n",
       "    }\n",
       "\n",
       "    .dataframe thead th {\n",
       "        text-align: right;\n",
       "    }\n",
       "</style>\n",
       "<table border=\"1\" class=\"dataframe\">\n",
       "  <thead>\n",
       "    <tr style=\"text-align: right;\">\n",
       "      <th></th>\n",
       "      <th>date</th>\n",
       "      <th>rougher.input.feed_au</th>\n",
       "      <th>rougher.input.feed_ag</th>\n",
       "      <th>rougher.input.feed_pb</th>\n",
       "      <th>rougher.input.feed_sol</th>\n",
       "      <th>rougher.input.feed_rate</th>\n",
       "      <th>rougher.input.feed_size</th>\n",
       "      <th>rougher.input.floatbank10_sulfate</th>\n",
       "      <th>rougher.input.floatbank10_xanthate</th>\n",
       "      <th>rougher.state.floatbank10_a_air</th>\n",
       "      <th>...</th>\n",
       "      <th>secondary_cleaner.output.tail_sol</th>\n",
       "      <th>final.output.concentrate_au</th>\n",
       "      <th>final.output.concentrate_ag</th>\n",
       "      <th>final.output.concentrate_pb</th>\n",
       "      <th>final.output.concentrate_sol</th>\n",
       "      <th>final.output.recovery</th>\n",
       "      <th>final.output.tail_au</th>\n",
       "      <th>final.output.tail_ag</th>\n",
       "      <th>final.output.tail_pb</th>\n",
       "      <th>final.output.tail_sol</th>\n",
       "    </tr>\n",
       "  </thead>\n",
       "  <tbody>\n",
       "    <tr>\n",
       "      <th>0</th>\n",
       "      <td>2016-01-15 00:00:00</td>\n",
       "      <td>6.486150</td>\n",
       "      <td>6.100378</td>\n",
       "      <td>2.284912</td>\n",
       "      <td>36.808594</td>\n",
       "      <td>523.546326</td>\n",
       "      <td>55.486599</td>\n",
       "      <td>11.986616</td>\n",
       "      <td>6.007990</td>\n",
       "      <td>999.706909</td>\n",
       "      <td>...</td>\n",
       "      <td>8.764648</td>\n",
       "      <td>42.192020</td>\n",
       "      <td>6.055403</td>\n",
       "      <td>9.889648</td>\n",
       "      <td>5.507324</td>\n",
       "      <td>70.541216</td>\n",
       "      <td>2.143149</td>\n",
       "      <td>10.411962</td>\n",
       "      <td>0.895447</td>\n",
       "      <td>16.904297</td>\n",
       "    </tr>\n",
       "    <tr>\n",
       "      <th>1</th>\n",
       "      <td>2016-01-15 01:00:00</td>\n",
       "      <td>6.478583</td>\n",
       "      <td>6.161113</td>\n",
       "      <td>2.266033</td>\n",
       "      <td>35.753385</td>\n",
       "      <td>525.290581</td>\n",
       "      <td>57.278666</td>\n",
       "      <td>11.971193</td>\n",
       "      <td>6.005766</td>\n",
       "      <td>1000.286398</td>\n",
       "      <td>...</td>\n",
       "      <td>9.001494</td>\n",
       "      <td>42.701629</td>\n",
       "      <td>6.029369</td>\n",
       "      <td>9.968944</td>\n",
       "      <td>5.257781</td>\n",
       "      <td>69.266198</td>\n",
       "      <td>2.224930</td>\n",
       "      <td>10.462676</td>\n",
       "      <td>0.927452</td>\n",
       "      <td>16.634514</td>\n",
       "    </tr>\n",
       "    <tr>\n",
       "      <th>2</th>\n",
       "      <td>2016-01-15 02:00:00</td>\n",
       "      <td>6.362222</td>\n",
       "      <td>6.116455</td>\n",
       "      <td>2.159622</td>\n",
       "      <td>35.971630</td>\n",
       "      <td>530.026610</td>\n",
       "      <td>57.510649</td>\n",
       "      <td>11.920603</td>\n",
       "      <td>6.197377</td>\n",
       "      <td>999.719565</td>\n",
       "      <td>...</td>\n",
       "      <td>8.842896</td>\n",
       "      <td>42.657501</td>\n",
       "      <td>6.055926</td>\n",
       "      <td>10.213995</td>\n",
       "      <td>5.383759</td>\n",
       "      <td>68.116445</td>\n",
       "      <td>2.257889</td>\n",
       "      <td>10.507046</td>\n",
       "      <td>0.953716</td>\n",
       "      <td>16.208849</td>\n",
       "    </tr>\n",
       "  </tbody>\n",
       "</table>\n",
       "<p>3 rows × 87 columns</p>\n",
       "</div>"
      ],
      "text/plain": [
       "                  date  rougher.input.feed_au  rougher.input.feed_ag  \\\n",
       "0  2016-01-15 00:00:00               6.486150               6.100378   \n",
       "1  2016-01-15 01:00:00               6.478583               6.161113   \n",
       "2  2016-01-15 02:00:00               6.362222               6.116455   \n",
       "\n",
       "   rougher.input.feed_pb  rougher.input.feed_sol  rougher.input.feed_rate  \\\n",
       "0               2.284912               36.808594               523.546326   \n",
       "1               2.266033               35.753385               525.290581   \n",
       "2               2.159622               35.971630               530.026610   \n",
       "\n",
       "   rougher.input.feed_size  rougher.input.floatbank10_sulfate  \\\n",
       "0                55.486599                          11.986616   \n",
       "1                57.278666                          11.971193   \n",
       "2                57.510649                          11.920603   \n",
       "\n",
       "   rougher.input.floatbank10_xanthate  rougher.state.floatbank10_a_air  ...  \\\n",
       "0                            6.007990                       999.706909  ...   \n",
       "1                            6.005766                      1000.286398  ...   \n",
       "2                            6.197377                       999.719565  ...   \n",
       "\n",
       "   secondary_cleaner.output.tail_sol  final.output.concentrate_au  \\\n",
       "0                           8.764648                    42.192020   \n",
       "1                           9.001494                    42.701629   \n",
       "2                           8.842896                    42.657501   \n",
       "\n",
       "   final.output.concentrate_ag  final.output.concentrate_pb  \\\n",
       "0                     6.055403                     9.889648   \n",
       "1                     6.029369                     9.968944   \n",
       "2                     6.055926                    10.213995   \n",
       "\n",
       "   final.output.concentrate_sol  final.output.recovery  final.output.tail_au  \\\n",
       "0                      5.507324              70.541216              2.143149   \n",
       "1                      5.257781              69.266198              2.224930   \n",
       "2                      5.383759              68.116445              2.257889   \n",
       "\n",
       "   final.output.tail_ag  final.output.tail_pb  final.output.tail_sol  \n",
       "0             10.411962              0.895447              16.904297  \n",
       "1             10.462676              0.927452              16.634514  \n",
       "2             10.507046              0.953716              16.208849  \n",
       "\n",
       "[3 rows x 87 columns]"
      ]
     },
     "execution_count": 4,
     "metadata": {},
     "output_type": "execute_result"
    }
   ],
   "source": [
    "data_train.head(3)"
   ]
  },
  {
   "cell_type": "code",
   "execution_count": 5,
   "metadata": {},
   "outputs": [
    {
     "data": {
      "text/html": [
       "<div>\n",
       "<style scoped>\n",
       "    .dataframe tbody tr th:only-of-type {\n",
       "        vertical-align: middle;\n",
       "    }\n",
       "\n",
       "    .dataframe tbody tr th {\n",
       "        vertical-align: top;\n",
       "    }\n",
       "\n",
       "    .dataframe thead th {\n",
       "        text-align: right;\n",
       "    }\n",
       "</style>\n",
       "<table border=\"1\" class=\"dataframe\">\n",
       "  <thead>\n",
       "    <tr style=\"text-align: right;\">\n",
       "      <th></th>\n",
       "      <th>date</th>\n",
       "      <th>rougher.input.feed_au</th>\n",
       "      <th>rougher.input.feed_ag</th>\n",
       "      <th>rougher.input.feed_pb</th>\n",
       "      <th>rougher.input.feed_sol</th>\n",
       "      <th>rougher.input.feed_rate</th>\n",
       "      <th>rougher.input.feed_size</th>\n",
       "      <th>rougher.input.floatbank10_sulfate</th>\n",
       "      <th>rougher.input.floatbank10_xanthate</th>\n",
       "      <th>rougher.state.floatbank10_a_air</th>\n",
       "      <th>...</th>\n",
       "      <th>secondary_cleaner.state.floatbank4_a_air</th>\n",
       "      <th>secondary_cleaner.state.floatbank4_a_level</th>\n",
       "      <th>secondary_cleaner.state.floatbank4_b_air</th>\n",
       "      <th>secondary_cleaner.state.floatbank4_b_level</th>\n",
       "      <th>secondary_cleaner.state.floatbank5_a_air</th>\n",
       "      <th>secondary_cleaner.state.floatbank5_a_level</th>\n",
       "      <th>secondary_cleaner.state.floatbank5_b_air</th>\n",
       "      <th>secondary_cleaner.state.floatbank5_b_level</th>\n",
       "      <th>secondary_cleaner.state.floatbank6_a_air</th>\n",
       "      <th>secondary_cleaner.state.floatbank6_a_level</th>\n",
       "    </tr>\n",
       "  </thead>\n",
       "  <tbody>\n",
       "    <tr>\n",
       "      <th>0</th>\n",
       "      <td>2017-12-09 14:59:59</td>\n",
       "      <td>4.365491</td>\n",
       "      <td>6.158718</td>\n",
       "      <td>3.875727</td>\n",
       "      <td>39.135119</td>\n",
       "      <td>555.820208</td>\n",
       "      <td>94.544358</td>\n",
       "      <td>6.146982</td>\n",
       "      <td>9.308612</td>\n",
       "      <td>1196.238112</td>\n",
       "      <td>...</td>\n",
       "      <td>23.018622</td>\n",
       "      <td>-500.492702</td>\n",
       "      <td>20.020205</td>\n",
       "      <td>-500.220296</td>\n",
       "      <td>17.963512</td>\n",
       "      <td>-499.939490</td>\n",
       "      <td>12.990306</td>\n",
       "      <td>-500.080993</td>\n",
       "      <td>19.990336</td>\n",
       "      <td>-499.191575</td>\n",
       "    </tr>\n",
       "    <tr>\n",
       "      <th>1</th>\n",
       "      <td>2017-12-09 15:59:59</td>\n",
       "      <td>4.362781</td>\n",
       "      <td>6.048130</td>\n",
       "      <td>3.902537</td>\n",
       "      <td>39.713906</td>\n",
       "      <td>544.731687</td>\n",
       "      <td>123.742430</td>\n",
       "      <td>6.210119</td>\n",
       "      <td>9.297709</td>\n",
       "      <td>1201.904177</td>\n",
       "      <td>...</td>\n",
       "      <td>23.024963</td>\n",
       "      <td>-501.153409</td>\n",
       "      <td>20.054122</td>\n",
       "      <td>-500.314711</td>\n",
       "      <td>17.979515</td>\n",
       "      <td>-499.272871</td>\n",
       "      <td>12.992404</td>\n",
       "      <td>-499.976268</td>\n",
       "      <td>20.013986</td>\n",
       "      <td>-500.625471</td>\n",
       "    </tr>\n",
       "    <tr>\n",
       "      <th>2</th>\n",
       "      <td>2017-12-09 16:59:59</td>\n",
       "      <td>5.081681</td>\n",
       "      <td>6.082745</td>\n",
       "      <td>4.564078</td>\n",
       "      <td>37.208683</td>\n",
       "      <td>558.155110</td>\n",
       "      <td>82.610855</td>\n",
       "      <td>7.363824</td>\n",
       "      <td>9.003562</td>\n",
       "      <td>1200.826926</td>\n",
       "      <td>...</td>\n",
       "      <td>22.993827</td>\n",
       "      <td>-501.559663</td>\n",
       "      <td>20.029144</td>\n",
       "      <td>-500.000662</td>\n",
       "      <td>18.012723</td>\n",
       "      <td>-500.024764</td>\n",
       "      <td>13.016445</td>\n",
       "      <td>-500.058432</td>\n",
       "      <td>19.973767</td>\n",
       "      <td>-501.394155</td>\n",
       "    </tr>\n",
       "  </tbody>\n",
       "</table>\n",
       "<p>3 rows × 53 columns</p>\n",
       "</div>"
      ],
      "text/plain": [
       "                  date  rougher.input.feed_au  rougher.input.feed_ag  \\\n",
       "0  2017-12-09 14:59:59               4.365491               6.158718   \n",
       "1  2017-12-09 15:59:59               4.362781               6.048130   \n",
       "2  2017-12-09 16:59:59               5.081681               6.082745   \n",
       "\n",
       "   rougher.input.feed_pb  rougher.input.feed_sol  rougher.input.feed_rate  \\\n",
       "0               3.875727               39.135119               555.820208   \n",
       "1               3.902537               39.713906               544.731687   \n",
       "2               4.564078               37.208683               558.155110   \n",
       "\n",
       "   rougher.input.feed_size  rougher.input.floatbank10_sulfate  \\\n",
       "0                94.544358                           6.146982   \n",
       "1               123.742430                           6.210119   \n",
       "2                82.610855                           7.363824   \n",
       "\n",
       "   rougher.input.floatbank10_xanthate  rougher.state.floatbank10_a_air  ...  \\\n",
       "0                            9.308612                      1196.238112  ...   \n",
       "1                            9.297709                      1201.904177  ...   \n",
       "2                            9.003562                      1200.826926  ...   \n",
       "\n",
       "   secondary_cleaner.state.floatbank4_a_air  \\\n",
       "0                                 23.018622   \n",
       "1                                 23.024963   \n",
       "2                                 22.993827   \n",
       "\n",
       "   secondary_cleaner.state.floatbank4_a_level  \\\n",
       "0                                 -500.492702   \n",
       "1                                 -501.153409   \n",
       "2                                 -501.559663   \n",
       "\n",
       "   secondary_cleaner.state.floatbank4_b_air  \\\n",
       "0                                 20.020205   \n",
       "1                                 20.054122   \n",
       "2                                 20.029144   \n",
       "\n",
       "   secondary_cleaner.state.floatbank4_b_level  \\\n",
       "0                                 -500.220296   \n",
       "1                                 -500.314711   \n",
       "2                                 -500.000662   \n",
       "\n",
       "   secondary_cleaner.state.floatbank5_a_air  \\\n",
       "0                                 17.963512   \n",
       "1                                 17.979515   \n",
       "2                                 18.012723   \n",
       "\n",
       "   secondary_cleaner.state.floatbank5_a_level  \\\n",
       "0                                 -499.939490   \n",
       "1                                 -499.272871   \n",
       "2                                 -500.024764   \n",
       "\n",
       "   secondary_cleaner.state.floatbank5_b_air  \\\n",
       "0                                 12.990306   \n",
       "1                                 12.992404   \n",
       "2                                 13.016445   \n",
       "\n",
       "   secondary_cleaner.state.floatbank5_b_level  \\\n",
       "0                                 -500.080993   \n",
       "1                                 -499.976268   \n",
       "2                                 -500.058432   \n",
       "\n",
       "   secondary_cleaner.state.floatbank6_a_air  \\\n",
       "0                                 19.990336   \n",
       "1                                 20.013986   \n",
       "2                                 19.973767   \n",
       "\n",
       "   secondary_cleaner.state.floatbank6_a_level  \n",
       "0                                 -499.191575  \n",
       "1                                 -500.625471  \n",
       "2                                 -501.394155  \n",
       "\n",
       "[3 rows x 53 columns]"
      ]
     },
     "execution_count": 5,
     "metadata": {},
     "output_type": "execute_result"
    }
   ],
   "source": [
    "data_test.head(3)"
   ]
  },
  {
   "cell_type": "code",
   "execution_count": 6,
   "metadata": {},
   "outputs": [
    {
     "data": {
      "text/html": [
       "<div>\n",
       "<style scoped>\n",
       "    .dataframe tbody tr th:only-of-type {\n",
       "        vertical-align: middle;\n",
       "    }\n",
       "\n",
       "    .dataframe tbody tr th {\n",
       "        vertical-align: top;\n",
       "    }\n",
       "\n",
       "    .dataframe thead th {\n",
       "        text-align: right;\n",
       "    }\n",
       "</style>\n",
       "<table border=\"1\" class=\"dataframe\">\n",
       "  <thead>\n",
       "    <tr style=\"text-align: right;\">\n",
       "      <th></th>\n",
       "      <th>date</th>\n",
       "      <th>rougher.input.feed_au</th>\n",
       "      <th>rougher.input.feed_ag</th>\n",
       "      <th>rougher.input.feed_pb</th>\n",
       "      <th>rougher.input.feed_sol</th>\n",
       "      <th>rougher.input.feed_rate</th>\n",
       "      <th>rougher.input.feed_size</th>\n",
       "      <th>rougher.input.floatbank10_sulfate</th>\n",
       "      <th>rougher.input.floatbank10_xanthate</th>\n",
       "      <th>rougher.state.floatbank10_a_air</th>\n",
       "      <th>...</th>\n",
       "      <th>secondary_cleaner.output.tail_sol</th>\n",
       "      <th>final.output.concentrate_au</th>\n",
       "      <th>final.output.concentrate_ag</th>\n",
       "      <th>final.output.concentrate_pb</th>\n",
       "      <th>final.output.concentrate_sol</th>\n",
       "      <th>final.output.recovery</th>\n",
       "      <th>final.output.tail_au</th>\n",
       "      <th>final.output.tail_ag</th>\n",
       "      <th>final.output.tail_pb</th>\n",
       "      <th>final.output.tail_sol</th>\n",
       "    </tr>\n",
       "  </thead>\n",
       "  <tbody>\n",
       "    <tr>\n",
       "      <th>0</th>\n",
       "      <td>2016-01-15 00:00:00</td>\n",
       "      <td>6.486150</td>\n",
       "      <td>6.100378</td>\n",
       "      <td>2.284912</td>\n",
       "      <td>36.808594</td>\n",
       "      <td>523.546326</td>\n",
       "      <td>55.486599</td>\n",
       "      <td>11.986616</td>\n",
       "      <td>6.007990</td>\n",
       "      <td>999.706909</td>\n",
       "      <td>...</td>\n",
       "      <td>8.764648</td>\n",
       "      <td>42.192020</td>\n",
       "      <td>6.055403</td>\n",
       "      <td>9.889648</td>\n",
       "      <td>5.507324</td>\n",
       "      <td>70.541216</td>\n",
       "      <td>2.143149</td>\n",
       "      <td>10.411962</td>\n",
       "      <td>0.895447</td>\n",
       "      <td>16.904297</td>\n",
       "    </tr>\n",
       "    <tr>\n",
       "      <th>1</th>\n",
       "      <td>2016-01-15 01:00:00</td>\n",
       "      <td>6.478583</td>\n",
       "      <td>6.161113</td>\n",
       "      <td>2.266033</td>\n",
       "      <td>35.753385</td>\n",
       "      <td>525.290581</td>\n",
       "      <td>57.278666</td>\n",
       "      <td>11.971193</td>\n",
       "      <td>6.005766</td>\n",
       "      <td>1000.286398</td>\n",
       "      <td>...</td>\n",
       "      <td>9.001494</td>\n",
       "      <td>42.701629</td>\n",
       "      <td>6.029369</td>\n",
       "      <td>9.968944</td>\n",
       "      <td>5.257781</td>\n",
       "      <td>69.266198</td>\n",
       "      <td>2.224930</td>\n",
       "      <td>10.462676</td>\n",
       "      <td>0.927452</td>\n",
       "      <td>16.634514</td>\n",
       "    </tr>\n",
       "    <tr>\n",
       "      <th>2</th>\n",
       "      <td>2016-01-15 02:00:00</td>\n",
       "      <td>6.362222</td>\n",
       "      <td>6.116455</td>\n",
       "      <td>2.159622</td>\n",
       "      <td>35.971630</td>\n",
       "      <td>530.026610</td>\n",
       "      <td>57.510649</td>\n",
       "      <td>11.920603</td>\n",
       "      <td>6.197377</td>\n",
       "      <td>999.719565</td>\n",
       "      <td>...</td>\n",
       "      <td>8.842896</td>\n",
       "      <td>42.657501</td>\n",
       "      <td>6.055926</td>\n",
       "      <td>10.213995</td>\n",
       "      <td>5.383759</td>\n",
       "      <td>68.116445</td>\n",
       "      <td>2.257889</td>\n",
       "      <td>10.507046</td>\n",
       "      <td>0.953716</td>\n",
       "      <td>16.208849</td>\n",
       "    </tr>\n",
       "  </tbody>\n",
       "</table>\n",
       "<p>3 rows × 87 columns</p>\n",
       "</div>"
      ],
      "text/plain": [
       "                  date  rougher.input.feed_au  rougher.input.feed_ag  \\\n",
       "0  2016-01-15 00:00:00               6.486150               6.100378   \n",
       "1  2016-01-15 01:00:00               6.478583               6.161113   \n",
       "2  2016-01-15 02:00:00               6.362222               6.116455   \n",
       "\n",
       "   rougher.input.feed_pb  rougher.input.feed_sol  rougher.input.feed_rate  \\\n",
       "0               2.284912               36.808594               523.546326   \n",
       "1               2.266033               35.753385               525.290581   \n",
       "2               2.159622               35.971630               530.026610   \n",
       "\n",
       "   rougher.input.feed_size  rougher.input.floatbank10_sulfate  \\\n",
       "0                55.486599                          11.986616   \n",
       "1                57.278666                          11.971193   \n",
       "2                57.510649                          11.920603   \n",
       "\n",
       "   rougher.input.floatbank10_xanthate  rougher.state.floatbank10_a_air  ...  \\\n",
       "0                            6.007990                       999.706909  ...   \n",
       "1                            6.005766                      1000.286398  ...   \n",
       "2                            6.197377                       999.719565  ...   \n",
       "\n",
       "   secondary_cleaner.output.tail_sol  final.output.concentrate_au  \\\n",
       "0                           8.764648                    42.192020   \n",
       "1                           9.001494                    42.701629   \n",
       "2                           8.842896                    42.657501   \n",
       "\n",
       "   final.output.concentrate_ag  final.output.concentrate_pb  \\\n",
       "0                     6.055403                     9.889648   \n",
       "1                     6.029369                     9.968944   \n",
       "2                     6.055926                    10.213995   \n",
       "\n",
       "   final.output.concentrate_sol  final.output.recovery  final.output.tail_au  \\\n",
       "0                      5.507324              70.541216              2.143149   \n",
       "1                      5.257781              69.266198              2.224930   \n",
       "2                      5.383759              68.116445              2.257889   \n",
       "\n",
       "   final.output.tail_ag  final.output.tail_pb  final.output.tail_sol  \n",
       "0             10.411962              0.895447              16.904297  \n",
       "1             10.462676              0.927452              16.634514  \n",
       "2             10.507046              0.953716              16.208849  \n",
       "\n",
       "[3 rows x 87 columns]"
      ]
     },
     "execution_count": 6,
     "metadata": {},
     "output_type": "execute_result"
    }
   ],
   "source": [
    "data_full.head(3)"
   ]
  },
  {
   "cell_type": "code",
   "execution_count": 7,
   "metadata": {},
   "outputs": [
    {
     "name": "stdout",
     "output_type": "stream",
     "text": [
      "<class 'pandas.core.frame.DataFrame'>\n",
      "RangeIndex: 14579 entries, 0 to 14578\n",
      "Data columns (total 87 columns):\n",
      " #   Column                                              Non-Null Count  Dtype  \n",
      "---  ------                                              --------------  -----  \n",
      " 0   date                                                14579 non-null  object \n",
      " 1   rougher.input.feed_au                               14579 non-null  float64\n",
      " 2   rougher.input.feed_ag                               14579 non-null  float64\n",
      " 3   rougher.input.feed_pb                               14507 non-null  float64\n",
      " 4   rougher.input.feed_sol                              14502 non-null  float64\n",
      " 5   rougher.input.feed_rate                             14572 non-null  float64\n",
      " 6   rougher.input.feed_size                             14478 non-null  float64\n",
      " 7   rougher.input.floatbank10_sulfate                   14548 non-null  float64\n",
      " 8   rougher.input.floatbank10_xanthate                  14572 non-null  float64\n",
      " 9   rougher.state.floatbank10_a_air                     14579 non-null  float64\n",
      " 10  rougher.state.floatbank10_a_level                   14579 non-null  float64\n",
      " 11  rougher.state.floatbank10_b_air                     14579 non-null  float64\n",
      " 12  rougher.state.floatbank10_b_level                   14579 non-null  float64\n",
      " 13  rougher.state.floatbank10_c_air                     14579 non-null  float64\n",
      " 14  rougher.state.floatbank10_c_level                   14579 non-null  float64\n",
      " 15  rougher.state.floatbank10_d_air                     14579 non-null  float64\n",
      " 16  rougher.state.floatbank10_d_level                   14579 non-null  float64\n",
      " 17  rougher.state.floatbank10_e_air                     14150 non-null  float64\n",
      " 18  rougher.state.floatbank10_e_level                   14579 non-null  float64\n",
      " 19  rougher.state.floatbank10_f_air                     14579 non-null  float64\n",
      " 20  rougher.state.floatbank10_f_level                   14579 non-null  float64\n",
      " 21  rougher.input.floatbank11_sulfate                   14543 non-null  float64\n",
      " 22  rougher.input.floatbank11_xanthate                  14172 non-null  float64\n",
      " 23  rougher.calculation.sulfate_to_au_concentrate       14578 non-null  float64\n",
      " 24  rougher.calculation.floatbank10_sulfate_to_au_feed  14578 non-null  float64\n",
      " 25  rougher.calculation.floatbank11_sulfate_to_au_feed  14578 non-null  float64\n",
      " 26  rougher.calculation.au_pb_ratio                     14579 non-null  float64\n",
      " 27  rougher.output.concentrate_au                       14579 non-null  float64\n",
      " 28  rougher.output.concentrate_ag                       14579 non-null  float64\n",
      " 29  rougher.output.concentrate_pb                       14579 non-null  float64\n",
      " 30  rougher.output.concentrate_sol                      14561 non-null  float64\n",
      " 31  rougher.output.recovery                             14579 non-null  float64\n",
      " 32  rougher.output.tail_au                              14579 non-null  float64\n",
      " 33  rougher.output.tail_ag                              14578 non-null  float64\n",
      " 34  rougher.output.tail_pb                              14579 non-null  float64\n",
      " 35  rougher.output.tail_sol                             14579 non-null  float64\n",
      " 36  primary_cleaner.input.sulfate                       14556 non-null  float64\n",
      " 37  primary_cleaner.input.depressant                    14551 non-null  float64\n",
      " 38  primary_cleaner.input.feed_size                     14579 non-null  float64\n",
      " 39  primary_cleaner.input.xanthate                      14518 non-null  float64\n",
      " 40  primary_cleaner.state.floatbank8_a_air              14576 non-null  float64\n",
      " 41  primary_cleaner.state.floatbank8_a_level            14579 non-null  float64\n",
      " 42  primary_cleaner.state.floatbank8_b_air              14576 non-null  float64\n",
      " 43  primary_cleaner.state.floatbank8_b_level            14579 non-null  float64\n",
      " 44  primary_cleaner.state.floatbank8_c_air              14579 non-null  float64\n",
      " 45  primary_cleaner.state.floatbank8_c_level            14579 non-null  float64\n",
      " 46  primary_cleaner.state.floatbank8_d_air              14578 non-null  float64\n",
      " 47  primary_cleaner.state.floatbank8_d_level            14579 non-null  float64\n",
      " 48  primary_cleaner.output.concentrate_au               14579 non-null  float64\n",
      " 49  primary_cleaner.output.concentrate_ag               14579 non-null  float64\n",
      " 50  primary_cleaner.output.concentrate_pb               14491 non-null  float64\n",
      " 51  primary_cleaner.output.concentrate_sol              14314 non-null  float64\n",
      " 52  primary_cleaner.output.tail_au                      14579 non-null  float64\n",
      " 53  primary_cleaner.output.tail_ag                      14575 non-null  float64\n",
      " 54  primary_cleaner.output.tail_pb                      14573 non-null  float64\n",
      " 55  primary_cleaner.output.tail_sol                     14534 non-null  float64\n",
      " 56  secondary_cleaner.state.floatbank2_a_air            14485 non-null  float64\n",
      " 57  secondary_cleaner.state.floatbank2_a_level          14579 non-null  float64\n",
      " 58  secondary_cleaner.state.floatbank2_b_air            14557 non-null  float64\n",
      " 59  secondary_cleaner.state.floatbank2_b_level          14579 non-null  float64\n",
      " 60  secondary_cleaner.state.floatbank3_a_air            14567 non-null  float64\n",
      " 61  secondary_cleaner.state.floatbank3_a_level          14579 non-null  float64\n",
      " 62  secondary_cleaner.state.floatbank3_b_air            14579 non-null  float64\n",
      " 63  secondary_cleaner.state.floatbank3_b_level          14579 non-null  float64\n",
      " 64  secondary_cleaner.state.floatbank4_a_air            14574 non-null  float64\n",
      " 65  secondary_cleaner.state.floatbank4_a_level          14579 non-null  float64\n",
      " 66  secondary_cleaner.state.floatbank4_b_air            14579 non-null  float64\n",
      " 67  secondary_cleaner.state.floatbank4_b_level          14579 non-null  float64\n",
      " 68  secondary_cleaner.state.floatbank5_a_air            14579 non-null  float64\n",
      " 69  secondary_cleaner.state.floatbank5_a_level          14579 non-null  float64\n",
      " 70  secondary_cleaner.state.floatbank5_b_air            14579 non-null  float64\n",
      " 71  secondary_cleaner.state.floatbank5_b_level          14579 non-null  float64\n",
      " 72  secondary_cleaner.state.floatbank6_a_air            14578 non-null  float64\n",
      " 73  secondary_cleaner.state.floatbank6_a_level          14579 non-null  float64\n",
      " 74  secondary_cleaner.output.tail_au                    14579 non-null  float64\n",
      " 75  secondary_cleaner.output.tail_ag                    14578 non-null  float64\n",
      " 76  secondary_cleaner.output.tail_pb                    14575 non-null  float64\n",
      " 77  secondary_cleaner.output.tail_sol                   13659 non-null  float64\n",
      " 78  final.output.concentrate_au                         14579 non-null  float64\n",
      " 79  final.output.concentrate_ag                         14578 non-null  float64\n",
      " 80  final.output.concentrate_pb                         14578 non-null  float64\n",
      " 81  final.output.concentrate_sol                        14387 non-null  float64\n",
      " 82  final.output.recovery                               14579 non-null  float64\n",
      " 83  final.output.tail_au                                14579 non-null  float64\n",
      " 84  final.output.tail_ag                                14578 non-null  float64\n",
      " 85  final.output.tail_pb                                14504 non-null  float64\n",
      " 86  final.output.tail_sol                               14574 non-null  float64\n",
      "dtypes: float64(86), object(1)\n",
      "memory usage: 9.7+ MB\n"
     ]
    }
   ],
   "source": [
    "data_train.info()"
   ]
  },
  {
   "cell_type": "code",
   "execution_count": 8,
   "metadata": {},
   "outputs": [
    {
     "name": "stdout",
     "output_type": "stream",
     "text": [
      "<class 'pandas.core.frame.DataFrame'>\n",
      "RangeIndex: 4860 entries, 0 to 4859\n",
      "Data columns (total 53 columns):\n",
      " #   Column                                      Non-Null Count  Dtype  \n",
      "---  ------                                      --------------  -----  \n",
      " 0   date                                        4860 non-null   object \n",
      " 1   rougher.input.feed_au                       4860 non-null   float64\n",
      " 2   rougher.input.feed_ag                       4860 non-null   float64\n",
      " 3   rougher.input.feed_pb                       4832 non-null   float64\n",
      " 4   rougher.input.feed_sol                      4838 non-null   float64\n",
      " 5   rougher.input.feed_rate                     4856 non-null   float64\n",
      " 6   rougher.input.feed_size                     4816 non-null   float64\n",
      " 7   rougher.input.floatbank10_sulfate           4857 non-null   float64\n",
      " 8   rougher.input.floatbank10_xanthate          4859 non-null   float64\n",
      " 9   rougher.state.floatbank10_a_air             4859 non-null   float64\n",
      " 10  rougher.state.floatbank10_a_level           4859 non-null   float64\n",
      " 11  rougher.state.floatbank10_b_air             4859 non-null   float64\n",
      " 12  rougher.state.floatbank10_b_level           4859 non-null   float64\n",
      " 13  rougher.state.floatbank10_c_air             4859 non-null   float64\n",
      " 14  rougher.state.floatbank10_c_level           4859 non-null   float64\n",
      " 15  rougher.state.floatbank10_d_air             4860 non-null   float64\n",
      " 16  rougher.state.floatbank10_d_level           4860 non-null   float64\n",
      " 17  rougher.state.floatbank10_e_air             4853 non-null   float64\n",
      " 18  rougher.state.floatbank10_e_level           4860 non-null   float64\n",
      " 19  rougher.state.floatbank10_f_air             4860 non-null   float64\n",
      " 20  rougher.state.floatbank10_f_level           4860 non-null   float64\n",
      " 21  rougher.input.floatbank11_sulfate           4852 non-null   float64\n",
      " 22  rougher.input.floatbank11_xanthate          4814 non-null   float64\n",
      " 23  primary_cleaner.input.sulfate               4859 non-null   float64\n",
      " 24  primary_cleaner.input.depressant            4851 non-null   float64\n",
      " 25  primary_cleaner.input.feed_size             4860 non-null   float64\n",
      " 26  primary_cleaner.input.xanthate              4817 non-null   float64\n",
      " 27  primary_cleaner.state.floatbank8_a_air      4859 non-null   float64\n",
      " 28  primary_cleaner.state.floatbank8_a_level    4859 non-null   float64\n",
      " 29  primary_cleaner.state.floatbank8_b_air      4859 non-null   float64\n",
      " 30  primary_cleaner.state.floatbank8_b_level    4859 non-null   float64\n",
      " 31  primary_cleaner.state.floatbank8_c_air      4858 non-null   float64\n",
      " 32  primary_cleaner.state.floatbank8_c_level    4859 non-null   float64\n",
      " 33  primary_cleaner.state.floatbank8_d_air      4858 non-null   float64\n",
      " 34  primary_cleaner.state.floatbank8_d_level    4859 non-null   float64\n",
      " 35  secondary_cleaner.state.floatbank2_a_air    4734 non-null   float64\n",
      " 36  secondary_cleaner.state.floatbank2_a_level  4859 non-null   float64\n",
      " 37  secondary_cleaner.state.floatbank2_b_air    4859 non-null   float64\n",
      " 38  secondary_cleaner.state.floatbank2_b_level  4859 non-null   float64\n",
      " 39  secondary_cleaner.state.floatbank3_a_air    4859 non-null   float64\n",
      " 40  secondary_cleaner.state.floatbank3_a_level  4859 non-null   float64\n",
      " 41  secondary_cleaner.state.floatbank3_b_air    4859 non-null   float64\n",
      " 42  secondary_cleaner.state.floatbank3_b_level  4859 non-null   float64\n",
      " 43  secondary_cleaner.state.floatbank4_a_air    4859 non-null   float64\n",
      " 44  secondary_cleaner.state.floatbank4_a_level  4859 non-null   float64\n",
      " 45  secondary_cleaner.state.floatbank4_b_air    4859 non-null   float64\n",
      " 46  secondary_cleaner.state.floatbank4_b_level  4859 non-null   float64\n",
      " 47  secondary_cleaner.state.floatbank5_a_air    4859 non-null   float64\n",
      " 48  secondary_cleaner.state.floatbank5_a_level  4859 non-null   float64\n",
      " 49  secondary_cleaner.state.floatbank5_b_air    4859 non-null   float64\n",
      " 50  secondary_cleaner.state.floatbank5_b_level  4859 non-null   float64\n",
      " 51  secondary_cleaner.state.floatbank6_a_air    4859 non-null   float64\n",
      " 52  secondary_cleaner.state.floatbank6_a_level  4859 non-null   float64\n",
      "dtypes: float64(52), object(1)\n",
      "memory usage: 2.0+ MB\n"
     ]
    }
   ],
   "source": [
    "data_test.info()"
   ]
  },
  {
   "cell_type": "code",
   "execution_count": 9,
   "metadata": {},
   "outputs": [
    {
     "name": "stdout",
     "output_type": "stream",
     "text": [
      "<class 'pandas.core.frame.DataFrame'>\n",
      "RangeIndex: 19439 entries, 0 to 19438\n",
      "Data columns (total 87 columns):\n",
      " #   Column                                              Non-Null Count  Dtype  \n",
      "---  ------                                              --------------  -----  \n",
      " 0   date                                                19439 non-null  object \n",
      " 1   rougher.input.feed_au                               19439 non-null  float64\n",
      " 2   rougher.input.feed_ag                               19439 non-null  float64\n",
      " 3   rougher.input.feed_pb                               19339 non-null  float64\n",
      " 4   rougher.input.feed_sol                              19340 non-null  float64\n",
      " 5   rougher.input.feed_rate                             19428 non-null  float64\n",
      " 6   rougher.input.feed_size                             19294 non-null  float64\n",
      " 7   rougher.input.floatbank10_sulfate                   19405 non-null  float64\n",
      " 8   rougher.input.floatbank10_xanthate                  19431 non-null  float64\n",
      " 9   rougher.state.floatbank10_a_air                     19438 non-null  float64\n",
      " 10  rougher.state.floatbank10_a_level                   19438 non-null  float64\n",
      " 11  rougher.state.floatbank10_b_air                     19438 non-null  float64\n",
      " 12  rougher.state.floatbank10_b_level                   19438 non-null  float64\n",
      " 13  rougher.state.floatbank10_c_air                     19438 non-null  float64\n",
      " 14  rougher.state.floatbank10_c_level                   19438 non-null  float64\n",
      " 15  rougher.state.floatbank10_d_air                     19439 non-null  float64\n",
      " 16  rougher.state.floatbank10_d_level                   19439 non-null  float64\n",
      " 17  rougher.state.floatbank10_e_air                     19003 non-null  float64\n",
      " 18  rougher.state.floatbank10_e_level                   19439 non-null  float64\n",
      " 19  rougher.state.floatbank10_f_air                     19439 non-null  float64\n",
      " 20  rougher.state.floatbank10_f_level                   19439 non-null  float64\n",
      " 21  rougher.input.floatbank11_sulfate                   19395 non-null  float64\n",
      " 22  rougher.input.floatbank11_xanthate                  18986 non-null  float64\n",
      " 23  rougher.calculation.sulfate_to_au_concentrate       19437 non-null  float64\n",
      " 24  rougher.calculation.floatbank10_sulfate_to_au_feed  19437 non-null  float64\n",
      " 25  rougher.calculation.floatbank11_sulfate_to_au_feed  19437 non-null  float64\n",
      " 26  rougher.calculation.au_pb_ratio                     19439 non-null  float64\n",
      " 27  rougher.output.concentrate_au                       19439 non-null  float64\n",
      " 28  rougher.output.concentrate_ag                       19439 non-null  float64\n",
      " 29  rougher.output.concentrate_pb                       19439 non-null  float64\n",
      " 30  rougher.output.concentrate_sol                      19416 non-null  float64\n",
      " 31  rougher.output.recovery                             19439 non-null  float64\n",
      " 32  rougher.output.tail_au                              19439 non-null  float64\n",
      " 33  rougher.output.tail_ag                              19438 non-null  float64\n",
      " 34  rougher.output.tail_pb                              19439 non-null  float64\n",
      " 35  rougher.output.tail_sol                             19439 non-null  float64\n",
      " 36  primary_cleaner.input.sulfate                       19415 non-null  float64\n",
      " 37  primary_cleaner.input.depressant                    19402 non-null  float64\n",
      " 38  primary_cleaner.input.feed_size                     19439 non-null  float64\n",
      " 39  primary_cleaner.input.xanthate                      19335 non-null  float64\n",
      " 40  primary_cleaner.state.floatbank8_a_air              19435 non-null  float64\n",
      " 41  primary_cleaner.state.floatbank8_a_level            19438 non-null  float64\n",
      " 42  primary_cleaner.state.floatbank8_b_air              19435 non-null  float64\n",
      " 43  primary_cleaner.state.floatbank8_b_level            19438 non-null  float64\n",
      " 44  primary_cleaner.state.floatbank8_c_air              19437 non-null  float64\n",
      " 45  primary_cleaner.state.floatbank8_c_level            19438 non-null  float64\n",
      " 46  primary_cleaner.state.floatbank8_d_air              19436 non-null  float64\n",
      " 47  primary_cleaner.state.floatbank8_d_level            19438 non-null  float64\n",
      " 48  primary_cleaner.output.concentrate_au               19439 non-null  float64\n",
      " 49  primary_cleaner.output.concentrate_ag               19439 non-null  float64\n",
      " 50  primary_cleaner.output.concentrate_pb               19323 non-null  float64\n",
      " 51  primary_cleaner.output.concentrate_sol              19069 non-null  float64\n",
      " 52  primary_cleaner.output.tail_au                      19439 non-null  float64\n",
      " 53  primary_cleaner.output.tail_ag                      19435 non-null  float64\n",
      " 54  primary_cleaner.output.tail_pb                      19418 non-null  float64\n",
      " 55  primary_cleaner.output.tail_sol                     19377 non-null  float64\n",
      " 56  secondary_cleaner.state.floatbank2_a_air            19219 non-null  float64\n",
      " 57  secondary_cleaner.state.floatbank2_a_level          19438 non-null  float64\n",
      " 58  secondary_cleaner.state.floatbank2_b_air            19416 non-null  float64\n",
      " 59  secondary_cleaner.state.floatbank2_b_level          19438 non-null  float64\n",
      " 60  secondary_cleaner.state.floatbank3_a_air            19426 non-null  float64\n",
      " 61  secondary_cleaner.state.floatbank3_a_level          19438 non-null  float64\n",
      " 62  secondary_cleaner.state.floatbank3_b_air            19438 non-null  float64\n",
      " 63  secondary_cleaner.state.floatbank3_b_level          19438 non-null  float64\n",
      " 64  secondary_cleaner.state.floatbank4_a_air            19433 non-null  float64\n",
      " 65  secondary_cleaner.state.floatbank4_a_level          19438 non-null  float64\n",
      " 66  secondary_cleaner.state.floatbank4_b_air            19438 non-null  float64\n",
      " 67  secondary_cleaner.state.floatbank4_b_level          19438 non-null  float64\n",
      " 68  secondary_cleaner.state.floatbank5_a_air            19438 non-null  float64\n",
      " 69  secondary_cleaner.state.floatbank5_a_level          19438 non-null  float64\n",
      " 70  secondary_cleaner.state.floatbank5_b_air            19438 non-null  float64\n",
      " 71  secondary_cleaner.state.floatbank5_b_level          19438 non-null  float64\n",
      " 72  secondary_cleaner.state.floatbank6_a_air            19437 non-null  float64\n",
      " 73  secondary_cleaner.state.floatbank6_a_level          19438 non-null  float64\n",
      " 74  secondary_cleaner.output.tail_au                    19439 non-null  float64\n",
      " 75  secondary_cleaner.output.tail_ag                    19437 non-null  float64\n",
      " 76  secondary_cleaner.output.tail_pb                    19427 non-null  float64\n",
      " 77  secondary_cleaner.output.tail_sol                   17691 non-null  float64\n",
      " 78  final.output.concentrate_au                         19439 non-null  float64\n",
      " 79  final.output.concentrate_ag                         19438 non-null  float64\n",
      " 80  final.output.concentrate_pb                         19438 non-null  float64\n",
      " 81  final.output.concentrate_sol                        19228 non-null  float64\n",
      " 82  final.output.recovery                               19439 non-null  float64\n",
      " 83  final.output.tail_au                                19439 non-null  float64\n",
      " 84  final.output.tail_ag                                19438 non-null  float64\n",
      " 85  final.output.tail_pb                                19338 non-null  float64\n",
      " 86  final.output.tail_sol                               19433 non-null  float64\n",
      "dtypes: float64(86), object(1)\n",
      "memory usage: 12.9+ MB\n"
     ]
    }
   ],
   "source": [
    "data_full.info()"
   ]
  },
  {
   "cell_type": "markdown",
   "metadata": {},
   "source": [
    "Можно заметить, что в тестовых данных меньше признаков, чем в остальных данных. В них содержатся только те признаки, которые мы можем применять при обучении модели."
   ]
  },
  {
   "cell_type": "markdown",
   "metadata": {},
   "source": [
    "Выведем количество пропусков в каждом из фреймов:"
   ]
  },
  {
   "cell_type": "code",
   "execution_count": 10,
   "metadata": {
    "scrolled": true
   },
   "outputs": [
    {
     "data": {
      "text/html": [
       "<div>\n",
       "<style scoped>\n",
       "    .dataframe tbody tr th:only-of-type {\n",
       "        vertical-align: middle;\n",
       "    }\n",
       "\n",
       "    .dataframe tbody tr th {\n",
       "        vertical-align: top;\n",
       "    }\n",
       "\n",
       "    .dataframe thead th {\n",
       "        text-align: right;\n",
       "    }\n",
       "</style>\n",
       "<table border=\"1\" class=\"dataframe\">\n",
       "  <thead>\n",
       "    <tr style=\"text-align: right;\">\n",
       "      <th></th>\n",
       "      <th>date</th>\n",
       "      <th>rougher.input.feed_au</th>\n",
       "      <th>rougher.input.feed_ag</th>\n",
       "      <th>rougher.input.feed_pb</th>\n",
       "      <th>rougher.input.feed_sol</th>\n",
       "      <th>rougher.input.feed_rate</th>\n",
       "      <th>rougher.input.feed_size</th>\n",
       "      <th>rougher.input.floatbank10_sulfate</th>\n",
       "      <th>rougher.input.floatbank10_xanthate</th>\n",
       "      <th>rougher.state.floatbank10_a_air</th>\n",
       "      <th>...</th>\n",
       "      <th>secondary_cleaner.output.tail_sol</th>\n",
       "      <th>final.output.concentrate_au</th>\n",
       "      <th>final.output.concentrate_ag</th>\n",
       "      <th>final.output.concentrate_pb</th>\n",
       "      <th>final.output.concentrate_sol</th>\n",
       "      <th>final.output.recovery</th>\n",
       "      <th>final.output.tail_au</th>\n",
       "      <th>final.output.tail_ag</th>\n",
       "      <th>final.output.tail_pb</th>\n",
       "      <th>final.output.tail_sol</th>\n",
       "    </tr>\n",
       "  </thead>\n",
       "  <tbody>\n",
       "    <tr>\n",
       "      <th>0</th>\n",
       "      <td>0</td>\n",
       "      <td>0</td>\n",
       "      <td>0</td>\n",
       "      <td>72</td>\n",
       "      <td>77</td>\n",
       "      <td>7</td>\n",
       "      <td>101</td>\n",
       "      <td>31</td>\n",
       "      <td>7</td>\n",
       "      <td>0</td>\n",
       "      <td>...</td>\n",
       "      <td>920</td>\n",
       "      <td>0</td>\n",
       "      <td>1</td>\n",
       "      <td>1</td>\n",
       "      <td>192</td>\n",
       "      <td>0</td>\n",
       "      <td>0</td>\n",
       "      <td>1</td>\n",
       "      <td>75</td>\n",
       "      <td>5</td>\n",
       "    </tr>\n",
       "  </tbody>\n",
       "</table>\n",
       "<p>1 rows × 87 columns</p>\n",
       "</div>"
      ],
      "text/plain": [
       "   date  rougher.input.feed_au  rougher.input.feed_ag  rougher.input.feed_pb  \\\n",
       "0     0                      0                      0                     72   \n",
       "\n",
       "   rougher.input.feed_sol  rougher.input.feed_rate  rougher.input.feed_size  \\\n",
       "0                      77                        7                      101   \n",
       "\n",
       "   rougher.input.floatbank10_sulfate  rougher.input.floatbank10_xanthate  \\\n",
       "0                                 31                                   7   \n",
       "\n",
       "   rougher.state.floatbank10_a_air  ...  secondary_cleaner.output.tail_sol  \\\n",
       "0                                0  ...                                920   \n",
       "\n",
       "   final.output.concentrate_au  final.output.concentrate_ag  \\\n",
       "0                            0                            1   \n",
       "\n",
       "   final.output.concentrate_pb  final.output.concentrate_sol  \\\n",
       "0                            1                           192   \n",
       "\n",
       "   final.output.recovery  final.output.tail_au  final.output.tail_ag  \\\n",
       "0                      0                     0                     1   \n",
       "\n",
       "   final.output.tail_pb  final.output.tail_sol  \n",
       "0                    75                      5  \n",
       "\n",
       "[1 rows x 87 columns]"
      ]
     },
     "metadata": {},
     "output_type": "display_data"
    },
    {
     "data": {
      "text/html": [
       "<div>\n",
       "<style scoped>\n",
       "    .dataframe tbody tr th:only-of-type {\n",
       "        vertical-align: middle;\n",
       "    }\n",
       "\n",
       "    .dataframe tbody tr th {\n",
       "        vertical-align: top;\n",
       "    }\n",
       "\n",
       "    .dataframe thead th {\n",
       "        text-align: right;\n",
       "    }\n",
       "</style>\n",
       "<table border=\"1\" class=\"dataframe\">\n",
       "  <thead>\n",
       "    <tr style=\"text-align: right;\">\n",
       "      <th></th>\n",
       "      <th>date</th>\n",
       "      <th>rougher.input.feed_au</th>\n",
       "      <th>rougher.input.feed_ag</th>\n",
       "      <th>rougher.input.feed_pb</th>\n",
       "      <th>rougher.input.feed_sol</th>\n",
       "      <th>rougher.input.feed_rate</th>\n",
       "      <th>rougher.input.feed_size</th>\n",
       "      <th>rougher.input.floatbank10_sulfate</th>\n",
       "      <th>rougher.input.floatbank10_xanthate</th>\n",
       "      <th>rougher.state.floatbank10_a_air</th>\n",
       "      <th>...</th>\n",
       "      <th>secondary_cleaner.state.floatbank4_a_air</th>\n",
       "      <th>secondary_cleaner.state.floatbank4_a_level</th>\n",
       "      <th>secondary_cleaner.state.floatbank4_b_air</th>\n",
       "      <th>secondary_cleaner.state.floatbank4_b_level</th>\n",
       "      <th>secondary_cleaner.state.floatbank5_a_air</th>\n",
       "      <th>secondary_cleaner.state.floatbank5_a_level</th>\n",
       "      <th>secondary_cleaner.state.floatbank5_b_air</th>\n",
       "      <th>secondary_cleaner.state.floatbank5_b_level</th>\n",
       "      <th>secondary_cleaner.state.floatbank6_a_air</th>\n",
       "      <th>secondary_cleaner.state.floatbank6_a_level</th>\n",
       "    </tr>\n",
       "  </thead>\n",
       "  <tbody>\n",
       "    <tr>\n",
       "      <th>0</th>\n",
       "      <td>0</td>\n",
       "      <td>0</td>\n",
       "      <td>0</td>\n",
       "      <td>28</td>\n",
       "      <td>22</td>\n",
       "      <td>4</td>\n",
       "      <td>44</td>\n",
       "      <td>3</td>\n",
       "      <td>1</td>\n",
       "      <td>1</td>\n",
       "      <td>...</td>\n",
       "      <td>1</td>\n",
       "      <td>1</td>\n",
       "      <td>1</td>\n",
       "      <td>1</td>\n",
       "      <td>1</td>\n",
       "      <td>1</td>\n",
       "      <td>1</td>\n",
       "      <td>1</td>\n",
       "      <td>1</td>\n",
       "      <td>1</td>\n",
       "    </tr>\n",
       "  </tbody>\n",
       "</table>\n",
       "<p>1 rows × 53 columns</p>\n",
       "</div>"
      ],
      "text/plain": [
       "   date  rougher.input.feed_au  rougher.input.feed_ag  rougher.input.feed_pb  \\\n",
       "0     0                      0                      0                     28   \n",
       "\n",
       "   rougher.input.feed_sol  rougher.input.feed_rate  rougher.input.feed_size  \\\n",
       "0                      22                        4                       44   \n",
       "\n",
       "   rougher.input.floatbank10_sulfate  rougher.input.floatbank10_xanthate  \\\n",
       "0                                  3                                   1   \n",
       "\n",
       "   rougher.state.floatbank10_a_air  ...  \\\n",
       "0                                1  ...   \n",
       "\n",
       "   secondary_cleaner.state.floatbank4_a_air  \\\n",
       "0                                         1   \n",
       "\n",
       "   secondary_cleaner.state.floatbank4_a_level  \\\n",
       "0                                           1   \n",
       "\n",
       "   secondary_cleaner.state.floatbank4_b_air  \\\n",
       "0                                         1   \n",
       "\n",
       "   secondary_cleaner.state.floatbank4_b_level  \\\n",
       "0                                           1   \n",
       "\n",
       "   secondary_cleaner.state.floatbank5_a_air  \\\n",
       "0                                         1   \n",
       "\n",
       "   secondary_cleaner.state.floatbank5_a_level  \\\n",
       "0                                           1   \n",
       "\n",
       "   secondary_cleaner.state.floatbank5_b_air  \\\n",
       "0                                         1   \n",
       "\n",
       "   secondary_cleaner.state.floatbank5_b_level  \\\n",
       "0                                           1   \n",
       "\n",
       "   secondary_cleaner.state.floatbank6_a_air  \\\n",
       "0                                         1   \n",
       "\n",
       "   secondary_cleaner.state.floatbank6_a_level  \n",
       "0                                           1  \n",
       "\n",
       "[1 rows x 53 columns]"
      ]
     },
     "metadata": {},
     "output_type": "display_data"
    },
    {
     "data": {
      "text/html": [
       "<div>\n",
       "<style scoped>\n",
       "    .dataframe tbody tr th:only-of-type {\n",
       "        vertical-align: middle;\n",
       "    }\n",
       "\n",
       "    .dataframe tbody tr th {\n",
       "        vertical-align: top;\n",
       "    }\n",
       "\n",
       "    .dataframe thead th {\n",
       "        text-align: right;\n",
       "    }\n",
       "</style>\n",
       "<table border=\"1\" class=\"dataframe\">\n",
       "  <thead>\n",
       "    <tr style=\"text-align: right;\">\n",
       "      <th></th>\n",
       "      <th>date</th>\n",
       "      <th>rougher.input.feed_au</th>\n",
       "      <th>rougher.input.feed_ag</th>\n",
       "      <th>rougher.input.feed_pb</th>\n",
       "      <th>rougher.input.feed_sol</th>\n",
       "      <th>rougher.input.feed_rate</th>\n",
       "      <th>rougher.input.feed_size</th>\n",
       "      <th>rougher.input.floatbank10_sulfate</th>\n",
       "      <th>rougher.input.floatbank10_xanthate</th>\n",
       "      <th>rougher.state.floatbank10_a_air</th>\n",
       "      <th>...</th>\n",
       "      <th>secondary_cleaner.output.tail_sol</th>\n",
       "      <th>final.output.concentrate_au</th>\n",
       "      <th>final.output.concentrate_ag</th>\n",
       "      <th>final.output.concentrate_pb</th>\n",
       "      <th>final.output.concentrate_sol</th>\n",
       "      <th>final.output.recovery</th>\n",
       "      <th>final.output.tail_au</th>\n",
       "      <th>final.output.tail_ag</th>\n",
       "      <th>final.output.tail_pb</th>\n",
       "      <th>final.output.tail_sol</th>\n",
       "    </tr>\n",
       "  </thead>\n",
       "  <tbody>\n",
       "    <tr>\n",
       "      <th>0</th>\n",
       "      <td>0</td>\n",
       "      <td>0</td>\n",
       "      <td>0</td>\n",
       "      <td>100</td>\n",
       "      <td>99</td>\n",
       "      <td>11</td>\n",
       "      <td>145</td>\n",
       "      <td>34</td>\n",
       "      <td>8</td>\n",
       "      <td>1</td>\n",
       "      <td>...</td>\n",
       "      <td>1748</td>\n",
       "      <td>0</td>\n",
       "      <td>1</td>\n",
       "      <td>1</td>\n",
       "      <td>211</td>\n",
       "      <td>0</td>\n",
       "      <td>0</td>\n",
       "      <td>1</td>\n",
       "      <td>101</td>\n",
       "      <td>6</td>\n",
       "    </tr>\n",
       "  </tbody>\n",
       "</table>\n",
       "<p>1 rows × 87 columns</p>\n",
       "</div>"
      ],
      "text/plain": [
       "   date  rougher.input.feed_au  rougher.input.feed_ag  rougher.input.feed_pb  \\\n",
       "0     0                      0                      0                    100   \n",
       "\n",
       "   rougher.input.feed_sol  rougher.input.feed_rate  rougher.input.feed_size  \\\n",
       "0                      99                       11                      145   \n",
       "\n",
       "   rougher.input.floatbank10_sulfate  rougher.input.floatbank10_xanthate  \\\n",
       "0                                 34                                   8   \n",
       "\n",
       "   rougher.state.floatbank10_a_air  ...  secondary_cleaner.output.tail_sol  \\\n",
       "0                                1  ...                               1748   \n",
       "\n",
       "   final.output.concentrate_au  final.output.concentrate_ag  \\\n",
       "0                            0                            1   \n",
       "\n",
       "   final.output.concentrate_pb  final.output.concentrate_sol  \\\n",
       "0                            1                           211   \n",
       "\n",
       "   final.output.recovery  final.output.tail_au  final.output.tail_ag  \\\n",
       "0                      0                     0                     1   \n",
       "\n",
       "   final.output.tail_pb  final.output.tail_sol  \n",
       "0                   101                      6  \n",
       "\n",
       "[1 rows x 87 columns]"
      ]
     },
     "metadata": {},
     "output_type": "display_data"
    }
   ],
   "source": [
    "display(pd.DataFrame(data_train.isna().sum()).T)\n",
    "display(pd.DataFrame(data_test.isna().sum()).T)\n",
    "display(pd.DataFrame(data_full.isna().sum()).T)"
   ]
  },
  {
   "cell_type": "markdown",
   "metadata": {},
   "source": [
    "Во многих столбцах имеются пропуски. Нужно будет их обработать."
   ]
  },
  {
   "cell_type": "markdown",
   "metadata": {},
   "source": [
    "### Проверка рассчёта эффективности обогащения"
   ]
  },
  {
   "cell_type": "markdown",
   "metadata": {},
   "source": [
    "Проверим корректность рассчёта эффективности обогащения по формуле из условия"
   ]
  },
  {
   "cell_type": "code",
   "execution_count": 11,
   "metadata": {},
   "outputs": [],
   "source": [
    "C = data_train['rougher.output.concentrate_au']\n",
    "F = data_train['rougher.input.feed_au']\n",
    "T = data_train['rougher.output.tail_au']"
   ]
  },
  {
   "cell_type": "code",
   "execution_count": 12,
   "metadata": {},
   "outputs": [],
   "source": [
    "calculated_recovery = (C * (F - T)) / (F * (C - T)) * 100"
   ]
  },
  {
   "cell_type": "markdown",
   "metadata": {},
   "source": [
    "Выведем MAE:"
   ]
  },
  {
   "cell_type": "code",
   "execution_count": 13,
   "metadata": {},
   "outputs": [
    {
     "data": {
      "text/plain": [
       "9.83758577644259e-15"
      ]
     },
     "execution_count": 13,
     "metadata": {},
     "output_type": "execute_result"
    }
   ],
   "source": [
    "mean_absolute_error(calculated_recovery, data_train['rougher.output.recovery'])"
   ]
  },
  {
   "cell_type": "markdown",
   "metadata": {},
   "source": [
    "Ошибка крайне мала, судя по всему эффективность рассчитана корректно. Сравним данные из таблицы и посчитанные данные:"
   ]
  },
  {
   "cell_type": "code",
   "execution_count": 14,
   "metadata": {},
   "outputs": [
    {
     "data": {
      "text/html": [
       "<div>\n",
       "<style scoped>\n",
       "    .dataframe tbody tr th:only-of-type {\n",
       "        vertical-align: middle;\n",
       "    }\n",
       "\n",
       "    .dataframe tbody tr th {\n",
       "        vertical-align: top;\n",
       "    }\n",
       "\n",
       "    .dataframe thead th {\n",
       "        text-align: right;\n",
       "    }\n",
       "</style>\n",
       "<table border=\"1\" class=\"dataframe\">\n",
       "  <thead>\n",
       "    <tr style=\"text-align: right;\">\n",
       "      <th></th>\n",
       "      <th>rougher.output.recovery</th>\n",
       "      <th>calculated_recovery</th>\n",
       "    </tr>\n",
       "  </thead>\n",
       "  <tbody>\n",
       "    <tr>\n",
       "      <th>0</th>\n",
       "      <td>87.107763</td>\n",
       "      <td>87.107763</td>\n",
       "    </tr>\n",
       "    <tr>\n",
       "      <th>1</th>\n",
       "      <td>86.843261</td>\n",
       "      <td>86.843261</td>\n",
       "    </tr>\n",
       "    <tr>\n",
       "      <th>2</th>\n",
       "      <td>86.842308</td>\n",
       "      <td>86.842308</td>\n",
       "    </tr>\n",
       "    <tr>\n",
       "      <th>3</th>\n",
       "      <td>87.226430</td>\n",
       "      <td>87.226430</td>\n",
       "    </tr>\n",
       "    <tr>\n",
       "      <th>4</th>\n",
       "      <td>86.688794</td>\n",
       "      <td>86.688794</td>\n",
       "    </tr>\n",
       "    <tr>\n",
       "      <th>5</th>\n",
       "      <td>88.156912</td>\n",
       "      <td>88.156912</td>\n",
       "    </tr>\n",
       "    <tr>\n",
       "      <th>6</th>\n",
       "      <td>88.168065</td>\n",
       "      <td>88.168065</td>\n",
       "    </tr>\n",
       "    <tr>\n",
       "      <th>7</th>\n",
       "      <td>87.668336</td>\n",
       "      <td>87.668336</td>\n",
       "    </tr>\n",
       "    <tr>\n",
       "      <th>8</th>\n",
       "      <td>87.035862</td>\n",
       "      <td>87.035862</td>\n",
       "    </tr>\n",
       "    <tr>\n",
       "      <th>9</th>\n",
       "      <td>88.280699</td>\n",
       "      <td>88.280699</td>\n",
       "    </tr>\n",
       "  </tbody>\n",
       "</table>\n",
       "</div>"
      ],
      "text/plain": [
       "   rougher.output.recovery  calculated_recovery\n",
       "0                87.107763            87.107763\n",
       "1                86.843261            86.843261\n",
       "2                86.842308            86.842308\n",
       "3                87.226430            87.226430\n",
       "4                86.688794            86.688794\n",
       "5                88.156912            88.156912\n",
       "6                88.168065            88.168065\n",
       "7                87.668336            87.668336\n",
       "8                87.035862            87.035862\n",
       "9                88.280699            88.280699"
      ]
     },
     "execution_count": 14,
     "metadata": {},
     "output_type": "execute_result"
    }
   ],
   "source": [
    "pd.concat(\n",
    "    [data_train['rougher.output.recovery']] + \\\n",
    "    [calculated_recovery.rename('calculated_recovery')], axis=1).head(10)"
   ]
  },
  {
   "cell_type": "markdown",
   "metadata": {},
   "source": [
    "Значения идентичны, с рассчётом всё в порядке."
   ]
  },
  {
   "cell_type": "markdown",
   "metadata": {},
   "source": [
    "### Анализ признаков недоступных в тестовой выборке"
   ]
  },
  {
   "cell_type": "markdown",
   "metadata": {},
   "source": [
    "Выведем на экран признаки, недоступные в тестовой выборке. Также, сохраним их в список, так как они нам понадобятся в дальнейшем."
   ]
  },
  {
   "cell_type": "code",
   "execution_count": 15,
   "metadata": {},
   "outputs": [
    {
     "name": "stdout",
     "output_type": "stream",
     "text": [
      "rougher.calculation.sulfate_to_au_concentrate\n",
      "rougher.calculation.floatbank10_sulfate_to_au_feed\n",
      "rougher.calculation.floatbank11_sulfate_to_au_feed\n",
      "rougher.calculation.au_pb_ratio\n",
      "rougher.output.concentrate_au\n",
      "rougher.output.concentrate_ag\n",
      "rougher.output.concentrate_pb\n",
      "rougher.output.concentrate_sol\n",
      "rougher.output.recovery\n",
      "rougher.output.tail_au\n",
      "rougher.output.tail_ag\n",
      "rougher.output.tail_pb\n",
      "rougher.output.tail_sol\n",
      "primary_cleaner.output.concentrate_au\n",
      "primary_cleaner.output.concentrate_ag\n",
      "primary_cleaner.output.concentrate_pb\n",
      "primary_cleaner.output.concentrate_sol\n",
      "primary_cleaner.output.tail_au\n",
      "primary_cleaner.output.tail_ag\n",
      "primary_cleaner.output.tail_pb\n",
      "primary_cleaner.output.tail_sol\n",
      "secondary_cleaner.output.tail_au\n",
      "secondary_cleaner.output.tail_ag\n",
      "secondary_cleaner.output.tail_pb\n",
      "secondary_cleaner.output.tail_sol\n",
      "final.output.concentrate_au\n",
      "final.output.concentrate_ag\n",
      "final.output.concentrate_pb\n",
      "final.output.concentrate_sol\n",
      "final.output.recovery\n",
      "final.output.tail_au\n",
      "final.output.tail_ag\n",
      "final.output.tail_pb\n",
      "final.output.tail_sol\n"
     ]
    }
   ],
   "source": [
    "missing_features = []\n",
    "for col in data_train.columns:\n",
    "    if col not in data_test.columns:\n",
    "        print(col)\n",
    "        missing_features.append(col)"
   ]
  },
  {
   "cell_type": "markdown",
   "metadata": {},
   "source": [
    "Отсутствующие признаки являются либо характеристиками продукта на выходе из этапов, либо отдельно вычисляемыми параметрами. Судя по всему, в тестовой выборке находятся только те параметры, которые собираются непосредственно в процессе производства, а отсуствующие признаки вычисляются уже постфактум."
   ]
  },
  {
   "cell_type": "markdown",
   "metadata": {},
   "source": [
    "### Заполнение пропусков"
   ]
  },
  {
   "cell_type": "markdown",
   "metadata": {},
   "source": [
    "Заполним пропуски в данных методом `ffill()`. Он нам подойдёт, так как по условию, значения в соседних строках, чаще всего, бывают похожи."
   ]
  },
  {
   "cell_type": "code",
   "execution_count": 16,
   "metadata": {},
   "outputs": [
    {
     "name": "stdout",
     "output_type": "stream",
     "text": [
      "0 0 0\n"
     ]
    }
   ],
   "source": [
    "data_train = data_train.ffill()\n",
    "data_test = data_test.ffill()\n",
    "data_full = data_full.ffill()\n",
    "print(data_train.isna().sum().sum(), \n",
    "      data_test.isna().sum().sum(), \n",
    "      data_full.isna().sum().sum())"
   ]
  },
  {
   "cell_type": "markdown",
   "metadata": {},
   "source": [
    "## Анализ данных"
   ]
  },
  {
   "cell_type": "markdown",
   "metadata": {},
   "source": [
    "### Динамика изменений концентрации металлов на разных этапах очистки "
   ]
  },
  {
   "cell_type": "markdown",
   "metadata": {},
   "source": [
    "Посмотрим на динамику изменений концентрации металлов на разных этапах обработки:"
   ]
  },
  {
   "cell_type": "markdown",
   "metadata": {},
   "source": [
    "#### Золото"
   ]
  },
  {
   "cell_type": "markdown",
   "metadata": {},
   "source": [
    "Создадим фрейм с концентрацией золота в каждый момент времени:"
   ]
  },
  {
   "cell_type": "code",
   "execution_count": 17,
   "metadata": {},
   "outputs": [
    {
     "data": {
      "text/html": [
       "<div>\n",
       "<style scoped>\n",
       "    .dataframe tbody tr th:only-of-type {\n",
       "        vertical-align: middle;\n",
       "    }\n",
       "\n",
       "    .dataframe tbody tr th {\n",
       "        vertical-align: top;\n",
       "    }\n",
       "\n",
       "    .dataframe thead th {\n",
       "        text-align: right;\n",
       "    }\n",
       "</style>\n",
       "<table border=\"1\" class=\"dataframe\">\n",
       "  <thead>\n",
       "    <tr style=\"text-align: right;\">\n",
       "      <th></th>\n",
       "      <th>feed</th>\n",
       "      <th>rougher</th>\n",
       "      <th>primary_cleaner</th>\n",
       "      <th>final</th>\n",
       "    </tr>\n",
       "  </thead>\n",
       "  <tbody>\n",
       "    <tr>\n",
       "      <th>14059</th>\n",
       "      <td>5.599201</td>\n",
       "      <td>17.291555</td>\n",
       "      <td>30.416660</td>\n",
       "      <td>46.331656</td>\n",
       "    </tr>\n",
       "    <tr>\n",
       "      <th>4335</th>\n",
       "      <td>11.809489</td>\n",
       "      <td>24.083649</td>\n",
       "      <td>34.940253</td>\n",
       "      <td>48.321325</td>\n",
       "    </tr>\n",
       "    <tr>\n",
       "      <th>9287</th>\n",
       "      <td>8.227370</td>\n",
       "      <td>18.735885</td>\n",
       "      <td>31.713831</td>\n",
       "      <td>45.775026</td>\n",
       "    </tr>\n",
       "    <tr>\n",
       "      <th>4257</th>\n",
       "      <td>6.834637</td>\n",
       "      <td>12.814945</td>\n",
       "      <td>14.849717</td>\n",
       "      <td>18.473116</td>\n",
       "    </tr>\n",
       "    <tr>\n",
       "      <th>2412</th>\n",
       "      <td>7.170146</td>\n",
       "      <td>20.475542</td>\n",
       "      <td>35.645927</td>\n",
       "      <td>45.487933</td>\n",
       "    </tr>\n",
       "  </tbody>\n",
       "</table>\n",
       "</div>"
      ],
      "text/plain": [
       "            feed    rougher  primary_cleaner      final\n",
       "14059   5.599201  17.291555        30.416660  46.331656\n",
       "4335   11.809489  24.083649        34.940253  48.321325\n",
       "9287    8.227370  18.735885        31.713831  45.775026\n",
       "4257    6.834637  12.814945        14.849717  18.473116\n",
       "2412    7.170146  20.475542        35.645927  45.487933"
      ]
     },
     "execution_count": 17,
     "metadata": {},
     "output_type": "execute_result"
    }
   ],
   "source": [
    "columns=['feed','rougher', 'primary_cleaner', 'final']\n",
    "\n",
    "aurum_dynamics = data_train[['rougher.input.feed_au',\n",
    "                            'rougher.output.concentrate_au', \n",
    "                            'primary_cleaner.output.concentrate_au', \n",
    "                            'final.output.concentrate_au']]\n",
    "aurum_dynamics = aurum_dynamics.rename(columns=dict(zip(aurum_dynamics.columns, columns)))\n",
    "\n",
    "aurum_dynamics.sample(5, random_state=RANDOM_STATE)"
   ]
  },
  {
   "cell_type": "markdown",
   "metadata": {},
   "source": [
    "Посмотрим на распределение концентрации на каждом из этапов с помощью гистограмм:"
   ]
  },
  {
   "cell_type": "code",
   "execution_count": 18,
   "metadata": {},
   "outputs": [
    {
     "data": {
      "image/png": "[encoded data removed]",
      "text/plain": [
       "<Figure size 1440x720 with 1 Axes>"
      ]
     },
     "metadata": {},
     "output_type": "display_data"
    }
   ],
   "source": [
    "sns.set_style('darkgrid')\n",
    "aurum_dynamics['feed'].hist(bins=range(0, 55), figsize=(20, 10), label = 'feed')\n",
    "aurum_dynamics['rougher'].hist(bins=range(0, 55), figsize=(20, 10), label = 'rougher')\n",
    "aurum_dynamics['primary_cleaner'].hist(bins=range(0, 55), figsize=(20, 10), label = 'primary_cleaner')\n",
    "aurum_dynamics['final'].hist(bins=range(0, 55), figsize=(20, 10), label = 'final').tick_params(labelsize=15)\n",
    "\n",
    "plt.legend(loc='upper right', fontsize='x-large')\n",
    "plt.title('Распределение концентрации золота на разных этапах производства', fontsize=20)\n",
    "plt.xlabel('Концентрация, %', fontsize=17)\n",
    "plt.ylabel('Частота', fontsize=17);"
   ]
  },
  {
   "cell_type": "markdown",
   "metadata": {},
   "source": [
    "На трёх этапах наблюдается значительное количество выбросов в районе нуля. Скорее всего, это некорректные данные, так как маловероятно, что металл будет практически отсутствовать в продукте. Удалим данные с околонулевыми значениями. Также, удалим их в тренировочных данных."
   ]
  },
  {
   "cell_type": "code",
   "execution_count": 19,
   "metadata": {
    "scrolled": true
   },
   "outputs": [
    {
     "data": {
      "text/plain": [
       "13878"
      ]
     },
     "execution_count": 19,
     "metadata": {},
     "output_type": "execute_result"
    }
   ],
   "source": [
    "aurum_dynamics = aurum_dynamics.query('feed > 1 and rougher > 1 and primary_cleaner > 1 and final > 1')\n",
    "data_train = data_train.loc[((data_train[\"rougher.input.feed_au\"] > 1) & \n",
    "                            (data_train['rougher.output.concentrate_au'] > 1) & \n",
    "                            (data_train['primary_cleaner.output.concentrate_au'] > 1) & \n",
    "                            (data_train['final.output.concentrate_au'] > 1))]\n",
    "aurum_dynamics.shape[0]"
   ]
  },
  {
   "cell_type": "markdown",
   "metadata": {},
   "source": [
    "Было удалено менее 700 строк, это не очень много."
   ]
  },
  {
   "cell_type": "markdown",
   "metadata": {},
   "source": [
    "Посмотрим на столбчатой диаграмме как меняется в среднем концентрация золота на разных этапах очистки:"
   ]
  },
  {
   "cell_type": "code",
   "execution_count": 20,
   "metadata": {},
   "outputs": [
    {
     "data": {
      "image/png": "[encoded data removed]",
      "text/plain": [
       "<Figure size 1440x720 with 1 Axes>"
      ]
     },
     "metadata": {},
     "output_type": "display_data"
    }
   ],
   "source": [
    "pd.Series([aurum_dynamics['feed'].mean(),\n",
    "           aurum_dynamics['rougher'].mean(),\n",
    "           aurum_dynamics['primary_cleaner'].mean(), \n",
    "           aurum_dynamics['final'].mean()], index=columns).plot.bar(rot=0, figsize=(20, 10)).tick_params(labelsize=15)\n",
    "\n",
    "plt.title('Средняя концентрация золота на разных этапах производства', fontsize=20)\n",
    "plt.ylabel('Средняя концентрация, %', fontsize=17)\n",
    "plt.xlabel('Тех. процесс', fontsize=17);"
   ]
  },
  {
   "cell_type": "markdown",
   "metadata": {},
   "source": [
    "Средняя концентрация золота после каждого этапа увеличивается, так и должно быть. По сравнению с сырьём, концентрация на финальном этапе выше примерно в 5 раз."
   ]
  },
  {
   "cell_type": "markdown",
   "metadata": {},
   "source": [
    "#### Серебро"
   ]
  },
  {
   "cell_type": "markdown",
   "metadata": {},
   "source": [
    "Повторим те же действия с серебром:"
   ]
  },
  {
   "cell_type": "code",
   "execution_count": 21,
   "metadata": {},
   "outputs": [
    {
     "data": {
      "text/html": [
       "<div>\n",
       "<style scoped>\n",
       "    .dataframe tbody tr th:only-of-type {\n",
       "        vertical-align: middle;\n",
       "    }\n",
       "\n",
       "    .dataframe tbody tr th {\n",
       "        vertical-align: top;\n",
       "    }\n",
       "\n",
       "    .dataframe thead th {\n",
       "        text-align: right;\n",
       "    }\n",
       "</style>\n",
       "<table border=\"1\" class=\"dataframe\">\n",
       "  <thead>\n",
       "    <tr style=\"text-align: right;\">\n",
       "      <th></th>\n",
       "      <th>feed</th>\n",
       "      <th>rougher</th>\n",
       "      <th>primary_cleaner</th>\n",
       "      <th>final</th>\n",
       "    </tr>\n",
       "  </thead>\n",
       "  <tbody>\n",
       "    <tr>\n",
       "      <th>11713</th>\n",
       "      <td>13.284014</td>\n",
       "      <td>14.062372</td>\n",
       "      <td>10.401505</td>\n",
       "      <td>5.733978</td>\n",
       "    </tr>\n",
       "    <tr>\n",
       "      <th>3271</th>\n",
       "      <td>11.075958</td>\n",
       "      <td>13.780462</td>\n",
       "      <td>8.808085</td>\n",
       "      <td>5.426224</td>\n",
       "    </tr>\n",
       "    <tr>\n",
       "      <th>11402</th>\n",
       "      <td>12.310330</td>\n",
       "      <td>15.318232</td>\n",
       "      <td>10.619396</td>\n",
       "      <td>8.150981</td>\n",
       "    </tr>\n",
       "    <tr>\n",
       "      <th>11205</th>\n",
       "      <td>9.879273</td>\n",
       "      <td>14.611309</td>\n",
       "      <td>8.398538</td>\n",
       "      <td>4.936683</td>\n",
       "    </tr>\n",
       "    <tr>\n",
       "      <th>5149</th>\n",
       "      <td>10.299057</td>\n",
       "      <td>14.313028</td>\n",
       "      <td>10.025918</td>\n",
       "      <td>5.770114</td>\n",
       "    </tr>\n",
       "  </tbody>\n",
       "</table>\n",
       "</div>"
      ],
      "text/plain": [
       "            feed    rougher  primary_cleaner     final\n",
       "11713  13.284014  14.062372        10.401505  5.733978\n",
       "3271   11.075958  13.780462         8.808085  5.426224\n",
       "11402  12.310330  15.318232        10.619396  8.150981\n",
       "11205   9.879273  14.611309         8.398538  4.936683\n",
       "5149   10.299057  14.313028        10.025918  5.770114"
      ]
     },
     "execution_count": 21,
     "metadata": {},
     "output_type": "execute_result"
    }
   ],
   "source": [
    "argentum_dynamics = data_train[['rougher.input.feed_ag',\n",
    "                            'rougher.output.concentrate_ag', \n",
    "                            'primary_cleaner.output.concentrate_ag', \n",
    "                            'final.output.concentrate_ag']]\n",
    "argentum_dynamics = argentum_dynamics.rename(columns=dict(zip(argentum_dynamics.columns, columns)))\n",
    "\n",
    "argentum_dynamics.sample(5, random_state=RANDOM_STATE)"
   ]
  },
  {
   "cell_type": "code",
   "execution_count": 22,
   "metadata": {},
   "outputs": [
    {
     "data": {
      "image/png": "[encoded data removed]",
      "text/plain": [
       "<Figure size 1440x720 with 1 Axes>"
      ]
     },
     "metadata": {},
     "output_type": "display_data"
    }
   ],
   "source": [
    "argentum_dynamics['feed'].hist(bins=np.arange(0, 25, 0.5), figsize=(20, 10), label = 'feed')\n",
    "argentum_dynamics['rougher'].hist(bins=np.arange(0, 25, 0.5), figsize=(20, 10), label = 'rougher', alpha=0.5)\n",
    "argentum_dynamics['primary_cleaner'].hist(bins=np.arange(0, 25, 0.5), figsize=(20, 10), label = 'primary_cleaner', alpha=0.5)\n",
    "argentum_dynamics['final'].hist(bins=np.arange(0, 25, 0.5), figsize=(20, 10), label = 'final', alpha=0.5).tick_params(labelsize=15)\n",
    "\n",
    "plt.legend(fontsize='x-large')\n",
    "plt.title('Распределение концентрации серебра на разных этапах производства', fontsize=20)\n",
    "plt.xlabel('Концентрация, %', fontsize=17)\n",
    "plt.ylabel('Частота', fontsize=17);"
   ]
  },
  {
   "cell_type": "code",
   "execution_count": 23,
   "metadata": {},
   "outputs": [
    {
     "data": {
      "text/plain": [
       "13844"
      ]
     },
     "execution_count": 23,
     "metadata": {},
     "output_type": "execute_result"
    }
   ],
   "source": [
    "argentum_dynamics = argentum_dynamics.query('feed > 1 and rougher > 1 and primary_cleaner > 1 and final > 1')\n",
    "data_train = data_train.loc[((data_train[\"rougher.input.feed_ag\"] > 1) & \n",
    "                            (data_train['rougher.output.concentrate_ag'] > 1) & \n",
    "                            (data_train['primary_cleaner.output.concentrate_ag'] > 1) & \n",
    "                            (data_train['final.output.concentrate_ag'] > 1))]\n",
    "argentum_dynamics.shape[0]"
   ]
  },
  {
   "cell_type": "code",
   "execution_count": 24,
   "metadata": {},
   "outputs": [
    {
     "data": {
      "image/png": "[encoded data removed]",
      "text/plain": [
       "<Figure size 1440x720 with 1 Axes>"
      ]
     },
     "metadata": {},
     "output_type": "display_data"
    }
   ],
   "source": [
    "pd.Series([argentum_dynamics['feed'].mean(),\n",
    "           argentum_dynamics['rougher'].mean(),\n",
    "           argentum_dynamics['primary_cleaner'].mean(), \n",
    "           argentum_dynamics['final'].mean()], index=columns).plot.bar(rot=0, figsize=(20, 10)).tick_params(labelsize=15)\n",
    "\n",
    "plt.title('Средняя концентрация серебра на разных этапах производства', fontsize=20)\n",
    "plt.ylabel('Средняя концентрация, %', fontsize=17)\n",
    "plt.xlabel('Тех. процесс', fontsize=17);"
   ]
  },
  {
   "cell_type": "markdown",
   "metadata": {},
   "source": [
    "Как мы видим, концентрация серебра увеличивается после флотации, судя по всему, на этом этапе отсеиваются другие вещества. Но в дальнейшем, после каждой из очисток, средняя концентрация уменьшается, значит именно на этих этапах отсеивается серебро."
   ]
  },
  {
   "cell_type": "markdown",
   "metadata": {},
   "source": [
    "#### Свинец"
   ]
  },
  {
   "cell_type": "markdown",
   "metadata": {},
   "source": [
    "Таким же образом проверим свинец:"
   ]
  },
  {
   "cell_type": "code",
   "execution_count": 25,
   "metadata": {},
   "outputs": [
    {
     "data": {
      "text/html": [
       "<div>\n",
       "<style scoped>\n",
       "    .dataframe tbody tr th:only-of-type {\n",
       "        vertical-align: middle;\n",
       "    }\n",
       "\n",
       "    .dataframe tbody tr th {\n",
       "        vertical-align: top;\n",
       "    }\n",
       "\n",
       "    .dataframe thead th {\n",
       "        text-align: right;\n",
       "    }\n",
       "</style>\n",
       "<table border=\"1\" class=\"dataframe\">\n",
       "  <thead>\n",
       "    <tr style=\"text-align: right;\">\n",
       "      <th></th>\n",
       "      <th>feed</th>\n",
       "      <th>rougher</th>\n",
       "      <th>primary_cleaner</th>\n",
       "      <th>final</th>\n",
       "    </tr>\n",
       "  </thead>\n",
       "  <tbody>\n",
       "    <tr>\n",
       "      <th>366</th>\n",
       "      <td>2.577385</td>\n",
       "      <td>7.293399</td>\n",
       "      <td>7.321857</td>\n",
       "      <td>9.393074</td>\n",
       "    </tr>\n",
       "    <tr>\n",
       "      <th>13147</th>\n",
       "      <td>2.473555</td>\n",
       "      <td>5.595034</td>\n",
       "      <td>10.111752</td>\n",
       "      <td>9.271974</td>\n",
       "    </tr>\n",
       "    <tr>\n",
       "      <th>2733</th>\n",
       "      <td>2.166721</td>\n",
       "      <td>6.120971</td>\n",
       "      <td>8.350064</td>\n",
       "      <td>8.753140</td>\n",
       "    </tr>\n",
       "    <tr>\n",
       "      <th>13286</th>\n",
       "      <td>3.247993</td>\n",
       "      <td>3.020574</td>\n",
       "      <td>9.984785</td>\n",
       "      <td>10.654721</td>\n",
       "    </tr>\n",
       "    <tr>\n",
       "      <th>14142</th>\n",
       "      <td>4.635715</td>\n",
       "      <td>11.702296</td>\n",
       "      <td>15.106622</td>\n",
       "      <td>12.115716</td>\n",
       "    </tr>\n",
       "  </tbody>\n",
       "</table>\n",
       "</div>"
      ],
      "text/plain": [
       "           feed    rougher  primary_cleaner      final\n",
       "366    2.577385   7.293399         7.321857   9.393074\n",
       "13147  2.473555   5.595034        10.111752   9.271974\n",
       "2733   2.166721   6.120971         8.350064   8.753140\n",
       "13286  3.247993   3.020574         9.984785  10.654721\n",
       "14142  4.635715  11.702296        15.106622  12.115716"
      ]
     },
     "execution_count": 25,
     "metadata": {},
     "output_type": "execute_result"
    }
   ],
   "source": [
    "plumbum_dynamics = data_train[['rougher.input.feed_pb',\n",
    "                            'rougher.output.concentrate_pb', \n",
    "                            'primary_cleaner.output.concentrate_pb', \n",
    "                            'final.output.concentrate_pb']]\n",
    "plumbum_dynamics = plumbum_dynamics.rename(columns=dict(zip(plumbum_dynamics.columns, columns)))\n",
    "\n",
    "plumbum_dynamics.sample(5, random_state=RANDOM_STATE)"
   ]
  },
  {
   "cell_type": "code",
   "execution_count": 26,
   "metadata": {},
   "outputs": [
    {
     "data": {
      "image/png": "[encoded data removed]",
      "text/plain": [
       "<Figure size 1440x720 with 1 Axes>"
      ]
     },
     "metadata": {},
     "output_type": "display_data"
    }
   ],
   "source": [
    "plumbum_dynamics['feed'].hist(bins=np.arange(0, 20, 0.5), figsize=(20, 10), label = 'feed')\n",
    "plumbum_dynamics['rougher'].hist(bins=np.arange(0, 20, 0.5), figsize=(20, 10), label = 'rougher', alpha=0.7)\n",
    "plumbum_dynamics['primary_cleaner'].hist(bins=np.arange(0, 20, 0.5), figsize=(20, 10), label = 'primary_cleaner', alpha=0.7)\n",
    "plumbum_dynamics['final'].hist(bins=np.arange(0, 20, 0.5), figsize=(20, 10), label = 'final', alpha=0.7).tick_params(labelsize=15)\n",
    "\n",
    "plt.legend(fontsize='x-large')\n",
    "plt.title('Распределение концентрации свинца на разных этапах производства', fontsize=20)\n",
    "plt.xlabel('Концентрация, %', fontsize=17)\n",
    "plt.ylabel('Частота', fontsize=17);"
   ]
  },
  {
   "cell_type": "code",
   "execution_count": 27,
   "metadata": {},
   "outputs": [
    {
     "data": {
      "text/plain": [
       "13748"
      ]
     },
     "execution_count": 27,
     "metadata": {},
     "output_type": "execute_result"
    }
   ],
   "source": [
    "plumbum_dynamics = plumbum_dynamics.query('feed > 1 and rougher > 1 and primary_cleaner > 1 and final > 1')\n",
    "data_train = data_train.loc[((data_train[\"rougher.input.feed_pb\"] > 1) & \n",
    "                            (data_train['rougher.output.concentrate_pb'] > 1) & \n",
    "                            (data_train['primary_cleaner.output.concentrate_pb'] > 1) & \n",
    "                            (data_train['final.output.concentrate_pb'] > 1))]\n",
    "plumbum_dynamics.shape[0]"
   ]
  },
  {
   "cell_type": "code",
   "execution_count": 28,
   "metadata": {},
   "outputs": [
    {
     "data": {
      "image/png": "[encoded data removed]",
      "text/plain": [
       "<Figure size 1440x720 with 1 Axes>"
      ]
     },
     "metadata": {},
     "output_type": "display_data"
    }
   ],
   "source": [
    "pd.Series([plumbum_dynamics['feed'].mean(),\n",
    "           plumbum_dynamics['rougher'].mean(),\n",
    "           plumbum_dynamics['primary_cleaner'].mean(), \n",
    "           plumbum_dynamics['final'].mean()], index=columns).plot.bar(rot=0, figsize=(20, 10)).tick_params(labelsize=15)\n",
    "\n",
    "plt.title('Средняя концентрация свинца на разных этапах производства', fontsize=20)\n",
    "plt.ylabel('Средняя концентрация, %', fontsize=17)\n",
    "plt.xlabel('Тех. процесс', fontsize=17);"
   ]
  },
  {
   "cell_type": "markdown",
   "metadata": {},
   "source": [
    "По диаграмме видно, что концентрация свинца увеличивается на протяжении всего производства. Судя по всему, такова техническая особенность процесса."
   ]
  },
  {
   "cell_type": "markdown",
   "metadata": {},
   "source": [
    "### Распределение размеров гранул сырья"
   ]
  },
  {
   "cell_type": "markdown",
   "metadata": {},
   "source": [
    "Проверим распределение размеров гранул сырья. Для этого построим графики распределения для признаков `'rougher.input.feed_size'` и `'primary_cleaner.input.feed_size'` на тренировочных и тестовых данных."
   ]
  },
  {
   "cell_type": "code",
   "execution_count": 29,
   "metadata": {},
   "outputs": [
    {
     "data": {
      "image/png": "[encoded data removed]",
      "text/plain": [
       "<Figure size 1440x720 with 1 Axes>"
      ]
     },
     "metadata": {},
     "output_type": "display_data"
    }
   ],
   "source": [
    "f, ax = plt.subplots(figsize=(20, 10))\n",
    "plt.xlim(0, 150)\n",
    "\n",
    "sns.histplot(x='rougher.input.feed_size',\n",
    "             stat=\"density\",\n",
    "             bins=300,\n",
    "             data=data_train,\n",
    "             color='green',\n",
    "             kde=True,\n",
    "             label='train')\n",
    "\n",
    "sns.histplot(x='rougher.input.feed_size',\n",
    "             stat=\"density\",\n",
    "             bins=300,\n",
    "             data=data_test,\n",
    "             kde=True,\n",
    "             alpha=0.5,\n",
    "             label='test').tick_params(labelsize=13)\n",
    "\n",
    "plt.legend(fontsize='x-large')\n",
    "plt.title('Распределение размеров гранул сырья перед этапом флотации', fontsize=20)\n",
    "plt.xlabel('Размер гранул', fontsize=17)\n",
    "plt.ylabel('Плотность', fontsize=17);"
   ]
  },
  {
   "cell_type": "code",
   "execution_count": 30,
   "metadata": {},
   "outputs": [
    {
     "data": {
      "image/png": "[encoded data removed]",
      "text/plain": [
       "<Figure size 1440x720 with 1 Axes>"
      ]
     },
     "metadata": {},
     "output_type": "display_data"
    }
   ],
   "source": [
    "f, ax = plt.subplots(figsize=(20, 10))\n",
    "sns.set_style('darkgrid')\n",
    "plt.xlim(0, 15)\n",
    "\n",
    "sns.histplot(x='primary_cleaner.input.feed_size',\n",
    "             stat=\"density\",\n",
    "             bins=100,\n",
    "             data=data_train,\n",
    "             color='green',\n",
    "             kde=True,\n",
    "             label='train')\n",
    "\n",
    "sns.histplot(x='primary_cleaner.input.feed_size',\n",
    "             stat=\"density\",\n",
    "             bins=30,\n",
    "             data=data_test,\n",
    "             kde=True,\n",
    "             alpha=0.5,\n",
    "             label='test').tick_params(labelsize=13)\n",
    "\n",
    "plt.legend(fontsize='x-large')\n",
    "plt.title('Распределение размеров гранул сырья после этапа флотации', fontsize=20)\n",
    "plt.xlabel('Размер гранул', fontsize=17)\n",
    "plt.ylabel('Плотность', fontsize=17);"
   ]
  },
  {
   "cell_type": "markdown",
   "metadata": {},
   "source": [
    "В самом начале процесса, до флотации, размер гранул может варьироваться, видно, что распределения немного отличаются. У распределения на тестовой выборке немного смещён пик, но сами распределения выглядят схожими. \n",
    "\n",
    "По графику видно, что после флотации размер гранул приводится к единому стандарту: распределения на выборках стали практически идентичными."
   ]
  },
  {
   "cell_type": "markdown",
   "metadata": {},
   "source": [
    "### Суммарная концентрация всех веществ"
   ]
  },
  {
   "cell_type": "markdown",
   "metadata": {},
   "source": [
    "Посмотрим как меняется суммарная концентрация веществ на разных этапах:"
   ]
  },
  {
   "cell_type": "code",
   "execution_count": 31,
   "metadata": {},
   "outputs": [
    {
     "data": {
      "text/html": [
       "<div>\n",
       "<style scoped>\n",
       "    .dataframe tbody tr th:only-of-type {\n",
       "        vertical-align: middle;\n",
       "    }\n",
       "\n",
       "    .dataframe tbody tr th {\n",
       "        vertical-align: top;\n",
       "    }\n",
       "\n",
       "    .dataframe thead th {\n",
       "        text-align: right;\n",
       "    }\n",
       "</style>\n",
       "<table border=\"1\" class=\"dataframe\">\n",
       "  <thead>\n",
       "    <tr style=\"text-align: right;\">\n",
       "      <th></th>\n",
       "      <th>feed</th>\n",
       "      <th>rougher</th>\n",
       "      <th>primary_cleaner</th>\n",
       "      <th>final</th>\n",
       "    </tr>\n",
       "  </thead>\n",
       "  <tbody>\n",
       "    <tr>\n",
       "      <th>5633</th>\n",
       "      <td>56.857659</td>\n",
       "      <td>75.810667</td>\n",
       "      <td>59.008354</td>\n",
       "      <td>72.008018</td>\n",
       "    </tr>\n",
       "    <tr>\n",
       "      <th>5052</th>\n",
       "      <td>50.508040</td>\n",
       "      <td>70.528252</td>\n",
       "      <td>55.533793</td>\n",
       "      <td>73.050283</td>\n",
       "    </tr>\n",
       "    <tr>\n",
       "      <th>985</th>\n",
       "      <td>53.413709</td>\n",
       "      <td>51.429728</td>\n",
       "      <td>61.679439</td>\n",
       "      <td>62.863227</td>\n",
       "    </tr>\n",
       "    <tr>\n",
       "      <th>6792</th>\n",
       "      <td>54.234146</td>\n",
       "      <td>71.298505</td>\n",
       "      <td>53.521832</td>\n",
       "      <td>68.381592</td>\n",
       "    </tr>\n",
       "    <tr>\n",
       "      <th>2857</th>\n",
       "      <td>59.722793</td>\n",
       "      <td>70.776287</td>\n",
       "      <td>64.329499</td>\n",
       "      <td>74.050366</td>\n",
       "    </tr>\n",
       "  </tbody>\n",
       "</table>\n",
       "</div>"
      ],
      "text/plain": [
       "           feed    rougher  primary_cleaner      final\n",
       "5633  56.857659  75.810667        59.008354  72.008018\n",
       "5052  50.508040  70.528252        55.533793  73.050283\n",
       "985   53.413709  51.429728        61.679439  62.863227\n",
       "6792  54.234146  71.298505        53.521832  68.381592\n",
       "2857  59.722793  70.776287        64.329499  74.050366"
      ]
     },
     "execution_count": 31,
     "metadata": {},
     "output_type": "execute_result"
    }
   ],
   "source": [
    "concentrate_sum = pd.DataFrame()\n",
    "concentrate_sum['feed'] = (data_train['rougher.input.feed_ag'] +\n",
    "                           data_train['rougher.input.feed_au'] +\n",
    "                           data_train['rougher.input.feed_pb'] +\n",
    "                           data_train['rougher.input.feed_sol'])\n",
    "\n",
    "concentrate_sum['rougher'] = (data_train['rougher.output.concentrate_ag'] +\n",
    "                           data_train['rougher.output.concentrate_au'] +\n",
    "                           data_train['rougher.output.concentrate_pb'] +\n",
    "                           data_train['rougher.output.concentrate_sol'])\n",
    "\n",
    "concentrate_sum['primary_cleaner'] = (data_train['primary_cleaner.output.concentrate_ag'] +\n",
    "                           data_train['primary_cleaner.output.concentrate_au'] +\n",
    "                           data_train['primary_cleaner.output.concentrate_pb'] +\n",
    "                           data_train['primary_cleaner.output.concentrate_sol'])\n",
    "\n",
    "concentrate_sum['final'] = (data_train['final.output.concentrate_ag'] +\n",
    "                           data_train['final.output.concentrate_au'] +\n",
    "                           data_train['final.output.concentrate_pb'] +\n",
    "                           data_train['final.output.concentrate_sol'])\n",
    "\n",
    "concentrate_sum.sample(5, random_state=RANDOM_STATE)"
   ]
  },
  {
   "cell_type": "markdown",
   "metadata": {},
   "source": [
    "Построим гистограммы для распределений суммарной концентрации:"
   ]
  },
  {
   "cell_type": "code",
   "execution_count": 32,
   "metadata": {},
   "outputs": [
    {
     "data": {
      "image/png": "[encoded data removed]",
      "text/plain": [
       "<Figure size 1440x720 with 1 Axes>"
      ]
     },
     "metadata": {},
     "output_type": "display_data"
    }
   ],
   "source": [
    "concentrate_sum['feed'].hist(bins=np.arange(20, 90, 1), figsize=(20, 10), label = 'feed')\n",
    "concentrate_sum['rougher'].hist(bins=np.arange(20, 90, 1), figsize=(20, 10), label = 'rougher', alpha=0.7)\n",
    "concentrate_sum['primary_cleaner'].hist(bins=np.arange(20, 90, 1), figsize=(20, 10), label = 'primary_cleaner', alpha=0.7)\n",
    "concentrate_sum['final'].hist(bins=np.arange(20, 90, 1), figsize=(20, 10), label = 'final', alpha=0.7).tick_params(labelsize=15)\n",
    "\n",
    "plt.legend(fontsize='x-large')\n",
    "plt.title('Распределение суммарной концентрации металлов на разных этапах производства', fontsize=20)\n",
    "plt.xlabel('Концентрация, %', fontsize=17)\n",
    "plt.ylabel('Частота', fontsize=17);"
   ]
  },
  {
   "cell_type": "markdown",
   "metadata": {},
   "source": [
    "Посмотрим на столбчатой диаграмме средние значения суммарной концентрации на различных этапах:"
   ]
  },
  {
   "cell_type": "code",
   "execution_count": 33,
   "metadata": {},
   "outputs": [
    {
     "data": {
      "image/png": "[encoded data removed]",
      "text/plain": [
       "<Figure size 1440x720 with 1 Axes>"
      ]
     },
     "metadata": {},
     "output_type": "display_data"
    }
   ],
   "source": [
    "pd.Series([concentrate_sum['feed'].mean(),\n",
    "           concentrate_sum['rougher'].mean(),\n",
    "           concentrate_sum['primary_cleaner'].mean(), \n",
    "           concentrate_sum['final'].mean()], index=concentrate_sum.columns).plot.bar(rot=0, figsize=(20, 10)).tick_params(labelsize=15)\n",
    "\n",
    "plt.title('Средняя cуммарная концентрация металлов на разных этапах производства', fontsize=20)\n",
    "plt.ylabel('Средняя концентрация, %', fontsize=20)\n",
    "plt.xlabel('Тех. процесс', fontsize=20);"
   ]
  },
  {
   "cell_type": "markdown",
   "metadata": {},
   "source": [
    "Суммарная концентрация веществ меняется на различных этапах, но выраженной закономерности не наблюдается. На этапе сырья суммарная концентрация металлов минимальна, а больше всего она после этапа флотации. Также, можно отметить, что на финальном этапе суммарная концентрация лежит в гораздо меньшем диапазоне. Для большей части наблюдений она находится в районе 70%. Это значит, что к финальному этапу сырьё приводится к заранее определённым параметрам."
   ]
  },
  {
   "cell_type": "markdown",
   "metadata": {},
   "source": [
    "## Модель"
   ]
  },
  {
   "cell_type": "markdown",
   "metadata": {},
   "source": [
    "### Функция для подсчёта метрики sMAPE"
   ]
  },
  {
   "cell_type": "markdown",
   "metadata": {},
   "source": [
    "Напишем функцию `smape()` для подсчёта метрики sMAPE. Функция будет принимать в себя фактические значения и предсказания а возвращать значение метрики sMAPE. С помощью функции `make_scorer()` сделаем из неё скорер для `GridSearchCV()`."
   ]
  },
  {
   "cell_type": "code",
   "execution_count": 34,
   "metadata": {},
   "outputs": [],
   "source": [
    "def smape(target, preds):\n",
    "    return 1 / len(target) * np.sum(np.abs(target - preds) * 2 / (np.abs(target) + np.abs(preds)) * 100)\n",
    "    \n",
    "smape_scorer = make_scorer(smape, greater_is_better=False)"
   ]
  },
  {
   "cell_type": "markdown",
   "metadata": {},
   "source": [
    "### Создание обучающих и тестовых выборок"
   ]
  },
  {
   "cell_type": "markdown",
   "metadata": {},
   "source": [
    "Запишем обучающие и тестовые выборки в переменные: \n",
    "* Из `train_features` удалим столбцы, которых нет в тестовой выборке, а также строковый столбец `date`\n",
    "* Создадим две переменные с целевыми признаками: `train_target_rougher` и `train_target_final`\n",
    "* Из тестовой выборки также удалим столбец `date`\n",
    "* В переменные `test_target_rougher` и `test_target_final` запишем целевые признаки. Их мы возьмём из фрейма `data_full` и присоединим к `data_test` по столбцу с датой, а потом удалим все остальные признаки кроме целевого. Таким образом мы возьмём из `data_full` только те целевые данные, которые есть в `data_test`"
   ]
  },
  {
   "cell_type": "code",
   "execution_count": 35,
   "metadata": {},
   "outputs": [],
   "source": [
    "train_features = data_train.drop(missing_features, axis=1).drop('date', axis=1)\n",
    "train_target_rougher = data_train['rougher.output.recovery']\n",
    "train_target_final = data_train['final.output.recovery']\n",
    "\n",
    "test_features = data_test.drop('date', axis=1)\n",
    "test_target_rougher = (data_test\n",
    "                       .merge(data_full[['date', 'rougher.output.recovery']], on='date')['rougher.output.recovery'])\n",
    "test_target_final = (data_test\n",
    "                       .merge(data_full[['date', 'final.output.recovery']], on='date')['final.output.recovery'])"
   ]
  },
  {
   "cell_type": "markdown",
   "metadata": {},
   "source": [
    "### Обучение и проверка моделей"
   ]
  },
  {
   "cell_type": "markdown",
   "metadata": {},
   "source": [
    "#### `DummyRegressor()`"
   ]
  },
  {
   "cell_type": "markdown",
   "metadata": {},
   "source": [
    "Чтобы проверить наши модели на адекватность, посмотрим какую метрику sMAPE будет выдавать фиктивный регрессор, который будет заполнять всё средним значением."
   ]
  },
  {
   "cell_type": "code",
   "execution_count": 36,
   "metadata": {},
   "outputs": [
    {
     "name": "stdout",
     "output_type": "stream",
     "text": [
      "sMAPE фиктивного регрессора на признаке \"rougher\": 6.08433245567493\n",
      "sMAPE фиктивного регрессора на признаке \"final\": 9.24740114153859\n",
      "Итоговое sMAPE фиктивного регрессора:  8.456633970072676\n"
     ]
    }
   ],
   "source": [
    "dummy_model_rougher = DummyRegressor(strategy = 'mean' ).fit(train_features, train_target_rougher)\n",
    "dummy_model_final = DummyRegressor(strategy = 'mean' ).fit(train_features, train_target_final)\n",
    "\n",
    "dummy_preds_rougher = dummy_model_rougher.predict(test_features)\n",
    "dummy_preds_final = dummy_model_final.predict(test_features)\n",
    "\n",
    "dummy_smape_rougher = smape(test_target_rougher, dummy_preds_rougher)\n",
    "dummy_smape_final = smape(test_target_final, dummy_preds_final)\n",
    "\n",
    "print('sMAPE фиктивного регрессора на признаке \"rougher\":', dummy_smape_rougher)\n",
    "print('sMAPE фиктивного регрессора на признаке \"final\":', dummy_smape_final)\n",
    "print('Итоговое sMAPE фиктивного регрессора: ', 0.25 * dummy_smape_rougher + 0.75 * dummy_smape_final)"
   ]
  },
  {
   "cell_type": "markdown",
   "metadata": {},
   "source": [
    "Зафиксировали."
   ]
  },
  {
   "cell_type": "markdown",
   "metadata": {},
   "source": [
    "#### `LinearRegression()`"
   ]
  },
  {
   "cell_type": "markdown",
   "metadata": {},
   "source": [
    "Обучим с помощью перебора гиперпараметров по сетке модель линейной регрессии. `GridSearchCV()` выдаст нам лучшую метрику по итогам кросс-валидации и гиперпараметры лучшей модели. Создадим две модели, т.к. нам нужно предсказывать два признака."
   ]
  },
  {
   "cell_type": "code",
   "execution_count": 37,
   "metadata": {},
   "outputs": [],
   "source": [
    "lr_model = LinearRegression(fit_intercept=True)\n",
    "\n",
    "params = {}\n",
    "lr_search = GridSearchCV(lr_model, params, n_jobs=-1, cv=5, scoring=smape_scorer)\n",
    "lr_search_final = lr_search.fit(train_features, train_target_final)"
   ]
  },
  {
   "cell_type": "code",
   "execution_count": 38,
   "metadata": {},
   "outputs": [],
   "source": [
    "lr_search = GridSearchCV(lr_model, params, n_jobs=-1, cv=5, scoring=smape_scorer)\n",
    "lr_search_rougher = lr_search.fit(train_features, train_target_rougher)"
   ]
  },
  {
   "cell_type": "code",
   "execution_count": 39,
   "metadata": {},
   "outputs": [
    {
     "name": "stdout",
     "output_type": "stream",
     "text": [
      "Лучшая метрика предсказания \"rougher\": 7.039551301741604\n",
      "\n",
      "Лучшая метрика предсказания \"final\": 9.390440088865436\n",
      "\n",
      "Итоговое sMAPE на лучших моделях: 8.802717892084477\n"
     ]
    }
   ],
   "source": [
    "print((f'Лучшая метрика предсказания \"rougher\": {abs(lr_search_rougher.best_score_)}\\n'))\n",
    "print((f'Лучшая метрика предсказания \"final\": {abs(lr_search_final.best_score_)}\\n'))\n",
    "print(f'Итоговое sMAPE на лучших моделях: {0.25 * abs(lr_search_rougher.best_score_) + 0.75 * abs(lr_search_final.best_score_)}')"
   ]
  },
  {
   "cell_type": "markdown",
   "metadata": {},
   "source": [
    "Модель линейной регрессии немного хуже фиктивного регрессора. Посмотрим на модели дерева и случайного леса. "
   ]
  },
  {
   "cell_type": "markdown",
   "metadata": {},
   "source": [
    "#### `DecisionTreeRegressor()`"
   ]
  },
  {
   "cell_type": "code",
   "execution_count": 40,
   "metadata": {},
   "outputs": [
    {
     "name": "stdout",
     "output_type": "stream",
     "text": [
      "CPU times: total: 750 ms\n",
      "Wall time: 12.2 s\n"
     ]
    }
   ],
   "source": [
    "%%time\n",
    "tree_model = DecisionTreeRegressor(random_state=RANDOM_STATE)\n",
    "params = {'max_depth': np.arange(1, 20)}\n",
    "\n",
    "tree_search = GridSearchCV(tree_model, params, n_jobs=-1, cv=5, scoring=smape_scorer)\n",
    "tree_search_final = tree_search.fit(train_features, train_target_final)"
   ]
  },
  {
   "cell_type": "code",
   "execution_count": 41,
   "metadata": {},
   "outputs": [
    {
     "name": "stdout",
     "output_type": "stream",
     "text": [
      "CPU times: total: 484 ms\n",
      "Wall time: 10.9 s\n"
     ]
    }
   ],
   "source": [
    "%%time\n",
    "\n",
    "tree_search = GridSearchCV(tree_model, params, n_jobs=-1, cv=5, scoring=smape_scorer)\n",
    "tree_search_rougher = tree_search.fit(train_features, train_target_rougher)"
   ]
  },
  {
   "cell_type": "code",
   "execution_count": 42,
   "metadata": {},
   "outputs": [
    {
     "name": "stdout",
     "output_type": "stream",
     "text": [
      "Лучшая метрика предсказания \"rougher\": 6.709431559814497 при значении гиперпараметров {'max_depth': 4}\n",
      "\n",
      "Лучшая метрика предсказания \"final\": 8.717082842075543 при значении гиперпараметров {'max_depth': 2}\n",
      "\n",
      "Итоговое sMAPE на лучших моделях: 8.215170021510282\n"
     ]
    }
   ],
   "source": [
    "print(f'Лучшая метрика предсказания \"rougher\": {abs(tree_search_rougher.best_score_)} при значении гиперпараметров {tree_search_rougher.best_params_}\\n')\n",
    "print(f'Лучшая метрика предсказания \"final\": {abs(tree_search_final.best_score_)} при значении гиперпараметров {tree_search_final.best_params_}\\n')\n",
    "print(f'Итоговое sMAPE на лучших моделях: {0.25 * abs(tree_search_rougher.best_score_) + 0.75 * abs(tree_search_final.best_score_)}')"
   ]
  },
  {
   "cell_type": "markdown",
   "metadata": {},
   "source": [
    "Модель дерева выдала значение немного лучше. Осталось проверить только случайный лес."
   ]
  },
  {
   "cell_type": "markdown",
   "metadata": {},
   "source": [
    "#### `RandomForestRegressor()`"
   ]
  },
  {
   "cell_type": "code",
   "execution_count": 43,
   "metadata": {
    "scrolled": true
   },
   "outputs": [
    {
     "name": "stdout",
     "output_type": "stream",
     "text": [
      "CPU times: total: 4.11 s\n",
      "Wall time: 10min 32s\n"
     ]
    }
   ],
   "source": [
    "%%time\n",
    "\n",
    "rfr_model = RandomForestRegressor(random_state=RANDOM_STATE)\n",
    "params = {'n_estimators': [30, 60, 90, 120], \n",
    "          'max_depth': [2, 6, 10, 14, 18]}\n",
    "\n",
    "rfr_search = GridSearchCV(rfr_model, params, n_jobs=-1, cv=5, scoring=smape_scorer)\n",
    "rfr_search_final = rfr_search.fit(train_features, train_target_final)"
   ]
  },
  {
   "cell_type": "code",
   "execution_count": 44,
   "metadata": {},
   "outputs": [
    {
     "name": "stdout",
     "output_type": "stream",
     "text": [
      "CPU times: total: 10.3 s\n",
      "Wall time: 7min 17s\n"
     ]
    }
   ],
   "source": [
    "%%time\n",
    "rfr_search = GridSearchCV(rfr_model, params, n_jobs=-1, cv=5, scoring=smape_scorer)\n",
    "rfr_search_rougher = rfr_search.fit(train_features, train_target_rougher)"
   ]
  },
  {
   "cell_type": "code",
   "execution_count": 45,
   "metadata": {},
   "outputs": [
    {
     "name": "stdout",
     "output_type": "stream",
     "text": [
      "Лучшая метрика предсказания \"rougher\": 6.214113496803757 при значении гиперпараметров {'max_depth': 6, 'n_estimators': 30}\n",
      "\n",
      "Лучшая метрика предсказания \"final\": 8.63822273767668 при значении гиперпараметров {'max_depth': 2, 'n_estimators': 30}\n",
      "\n",
      "Итоговое sMAPE на лучших моделях: 8.032195427458449\n"
     ]
    }
   ],
   "source": [
    "print((f'Лучшая метрика предсказания \"rougher\": {abs(rfr_search_rougher.best_score_)} при значении гиперпараметров {rfr_search_rougher.best_params_}\\n'))\n",
    "print((f'Лучшая метрика предсказания \"final\": {abs(rfr_search_final.best_score_)} при значении гиперпараметров {rfr_search_final.best_params_}\\n'))\n",
    "print(f'Итоговое sMAPE на лучших моделях: {0.25 * abs(rfr_search_rougher.best_score_) + 0.75 * abs(rfr_search_final.best_score_)}')"
   ]
  },
  {
   "cell_type": "markdown",
   "metadata": {},
   "source": [
    "Моделью с лучшей метрикой после кросс-валидации оказалась модель случайного леса с глубиной 6 и количеством деревьев - 30."
   ]
  },
  {
   "cell_type": "markdown",
   "metadata": {},
   "source": [
    "### Проверка на тестовых данных"
   ]
  },
  {
   "cell_type": "markdown",
   "metadata": {},
   "source": [
    "Проверим нашу лучшую модель на тестовых данных:"
   ]
  },
  {
   "cell_type": "code",
   "execution_count": 46,
   "metadata": {},
   "outputs": [
    {
     "name": "stdout",
     "output_type": "stream",
     "text": [
      "sMAPE(\"rougher\") лучшей модели на тестовых данных: 3.692218669548327\n",
      "sMAPE(\"final\") лучшей модели на тестовых данных: 8.553674890624853\n",
      "Итоговое sMAPE на тестовых данных:  7.338310835355721\n"
     ]
    }
   ],
   "source": [
    "test_preds_rougher = rfr_search_rougher.best_estimator_.predict(test_features)\n",
    "test_preds_final = rfr_search_final.best_estimator_.predict(test_features)\n",
    "\n",
    "smape_rougher = smape(test_target_rougher, test_preds_rougher)\n",
    "smape_final = smape(test_target_final, test_preds_final)\n",
    "\n",
    "print('sMAPE(\"rougher\") лучшей модели на тестовых данных:', smape_rougher)\n",
    "print('sMAPE(\"final\") лучшей модели на тестовых данных:', smape_final)\n",
    "print('Итоговое sMAPE на тестовых данных: ', 0.25 * smape_rougher + 0.75 * smape_final)"
   ]
  },
  {
   "cell_type": "markdown",
   "metadata": {},
   "source": [
    "Общая метрика стала немного лучше на тестовых данных, а также ошибка ниже, чем на фиктивном регрессоре. Модель выполнила свою задачу."
   ]
  },
  {
   "cell_type": "markdown",
   "metadata": {},
   "source": [
    "## Вывод"
   ]
  },
  {
   "cell_type": "markdown",
   "metadata": {},
   "source": [
    "В ходе работы над проектом были предобработаны \"сырые\" данные о процессе очистки золота. Была проанализированна динамика изменения концентрации металлов, распределение размеров гранул и суммарная концентрация металлов. Было обучено несколько моделей, которые предсказывают эффективность обогащения лучше случайного регрессора. "
   ]
  }
 ],
 "metadata": {
  "ExecuteTimeLog": [
   {
    "duration": 374,
    "start_time": "2022-12-22T13:16:59.974Z"
   },
   {
    "duration": 2017,
    "start_time": "2022-12-22T13:18:06.817Z"
   },
   {
    "duration": 696,
    "start_time": "2022-12-22T13:18:39.866Z"
   },
   {
    "duration": 28,
    "start_time": "2022-12-22T13:18:50.336Z"
   },
   {
    "duration": 27,
    "start_time": "2022-12-22T13:19:04.198Z"
   },
   {
    "duration": 12,
    "start_time": "2022-12-22T13:19:14.460Z"
   },
   {
    "duration": 11,
    "start_time": "2022-12-22T13:19:28.979Z"
   },
   {
    "duration": 19,
    "start_time": "2022-12-22T13:19:37.799Z"
   },
   {
    "duration": 12,
    "start_time": "2022-12-22T13:20:05.436Z"
   },
   {
    "duration": 79,
    "start_time": "2022-12-22T13:20:32.626Z"
   },
   {
    "duration": 14,
    "start_time": "2022-12-22T13:20:36.610Z"
   },
   {
    "duration": 10,
    "start_time": "2022-12-22T13:20:47.605Z"
   },
   {
    "duration": 11,
    "start_time": "2022-12-22T13:20:51.681Z"
   },
   {
    "duration": 10,
    "start_time": "2022-12-22T13:21:16.059Z"
   },
   {
    "duration": 15,
    "start_time": "2022-12-22T13:22:43.973Z"
   },
   {
    "duration": 15,
    "start_time": "2022-12-22T13:22:49.957Z"
   },
   {
    "duration": 13,
    "start_time": "2022-12-22T13:23:24.950Z"
   },
   {
    "duration": 13,
    "start_time": "2022-12-22T13:23:37.440Z"
   },
   {
    "duration": 16,
    "start_time": "2022-12-22T13:23:58.091Z"
   },
   {
    "duration": 13,
    "start_time": "2022-12-22T13:24:12.745Z"
   },
   {
    "duration": 12,
    "start_time": "2022-12-22T13:24:53.359Z"
   },
   {
    "duration": 17,
    "start_time": "2022-12-22T15:24:58.890Z"
   },
   {
    "duration": 37,
    "start_time": "2022-12-22T15:26:13.290Z"
   },
   {
    "duration": 15,
    "start_time": "2022-12-22T15:27:29.427Z"
   },
   {
    "duration": 11,
    "start_time": "2022-12-22T15:27:53.333Z"
   },
   {
    "duration": 9,
    "start_time": "2022-12-22T15:28:02.453Z"
   },
   {
    "duration": 23,
    "start_time": "2022-12-22T15:30:28.982Z"
   },
   {
    "duration": 30,
    "start_time": "2022-12-22T15:52:18.325Z"
   },
   {
    "duration": 12,
    "start_time": "2022-12-22T15:52:22.771Z"
   },
   {
    "duration": 20,
    "start_time": "2022-12-22T15:52:31.856Z"
   },
   {
    "duration": 46,
    "start_time": "2022-12-22T15:57:30.792Z"
   },
   {
    "duration": 4,
    "start_time": "2022-12-22T16:02:26.739Z"
   },
   {
    "duration": 6,
    "start_time": "2022-12-22T16:03:37.443Z"
   },
   {
    "duration": 34,
    "start_time": "2022-12-22T16:03:42.523Z"
   },
   {
    "duration": 699,
    "start_time": "2022-12-22T16:07:14.333Z"
   },
   {
    "duration": 5,
    "start_time": "2022-12-22T16:08:09.061Z"
   },
   {
    "duration": 40,
    "start_time": "2022-12-22T16:16:59.249Z"
   },
   {
    "duration": 5,
    "start_time": "2022-12-22T16:17:03.313Z"
   },
   {
    "duration": 6,
    "start_time": "2022-12-22T16:17:03.645Z"
   },
   {
    "duration": 9,
    "start_time": "2022-12-22T16:17:05.053Z"
   },
   {
    "duration": 9,
    "start_time": "2022-12-22T16:17:33.192Z"
   },
   {
    "duration": 11,
    "start_time": "2022-12-22T16:17:39.016Z"
   },
   {
    "duration": 7,
    "start_time": "2022-12-22T16:17:44.576Z"
   },
   {
    "duration": 11,
    "start_time": "2022-12-22T16:17:59.009Z"
   },
   {
    "duration": 18,
    "start_time": "2022-12-22T16:18:32.120Z"
   },
   {
    "duration": 15,
    "start_time": "2022-12-22T16:18:48.150Z"
   },
   {
    "duration": 15,
    "start_time": "2022-12-22T16:19:20.057Z"
   },
   {
    "duration": 11,
    "start_time": "2022-12-22T16:20:16.401Z"
   },
   {
    "duration": 14,
    "start_time": "2022-12-22T16:21:12.505Z"
   },
   {
    "duration": 8,
    "start_time": "2022-12-22T16:24:25.449Z"
   },
   {
    "duration": 8,
    "start_time": "2022-12-22T16:24:35.578Z"
   },
   {
    "duration": 10,
    "start_time": "2022-12-22T16:26:15.094Z"
   },
   {
    "duration": 31,
    "start_time": "2022-12-22T16:54:20.134Z"
   },
   {
    "duration": 31,
    "start_time": "2022-12-22T16:54:56.269Z"
   },
   {
    "duration": 30,
    "start_time": "2022-12-22T16:55:25.080Z"
   },
   {
    "duration": 49,
    "start_time": "2022-12-22T20:41:32.163Z"
   },
   {
    "duration": 982,
    "start_time": "2022-12-22T20:41:37.117Z"
   },
   {
    "duration": 2991,
    "start_time": "2022-12-22T20:41:38.101Z"
   },
   {
    "duration": 17,
    "start_time": "2022-12-22T20:41:41.094Z"
   },
   {
    "duration": 11,
    "start_time": "2022-12-22T20:41:41.113Z"
   },
   {
    "duration": 14,
    "start_time": "2022-12-22T20:41:41.126Z"
   },
   {
    "duration": 47,
    "start_time": "2022-12-22T20:41:41.141Z"
   },
   {
    "duration": 2,
    "start_time": "2022-12-22T20:41:41.190Z"
   },
   {
    "duration": 8,
    "start_time": "2022-12-22T20:41:41.193Z"
   },
   {
    "duration": 95,
    "start_time": "2022-12-22T20:41:41.202Z"
   },
   {
    "duration": 0,
    "start_time": "2022-12-22T20:41:41.299Z"
   },
   {
    "duration": 0,
    "start_time": "2022-12-22T20:41:41.299Z"
   },
   {
    "duration": 0,
    "start_time": "2022-12-22T20:41:41.300Z"
   },
   {
    "duration": 0,
    "start_time": "2022-12-22T20:41:41.301Z"
   },
   {
    "duration": 7,
    "start_time": "2022-12-22T20:41:54.576Z"
   },
   {
    "duration": 9,
    "start_time": "2022-12-22T20:41:55.607Z"
   },
   {
    "duration": 7,
    "start_time": "2022-12-22T20:41:58.488Z"
   },
   {
    "duration": 7,
    "start_time": "2022-12-22T20:41:58.808Z"
   },
   {
    "duration": 40,
    "start_time": "2022-12-22T20:42:03.029Z"
   },
   {
    "duration": 41,
    "start_time": "2022-12-22T20:42:10.467Z"
   },
   {
    "duration": 52,
    "start_time": "2022-12-22T20:48:33.478Z"
   },
   {
    "duration": 803,
    "start_time": "2022-12-22T20:48:59.663Z"
   },
   {
    "duration": 5,
    "start_time": "2022-12-22T20:49:35.818Z"
   },
   {
    "duration": 6,
    "start_time": "2022-12-22T20:49:47.687Z"
   },
   {
    "duration": 10,
    "start_time": "2022-12-22T20:49:56.645Z"
   },
   {
    "duration": 4,
    "start_time": "2022-12-22T20:53:26.866Z"
   },
   {
    "duration": 10,
    "start_time": "2022-12-22T20:53:33.494Z"
   },
   {
    "duration": 4,
    "start_time": "2022-12-22T20:54:36.696Z"
   },
   {
    "duration": 9,
    "start_time": "2022-12-22T20:54:43.330Z"
   },
   {
    "duration": 9,
    "start_time": "2022-12-22T20:55:07.664Z"
   },
   {
    "duration": 10,
    "start_time": "2022-12-22T20:55:15.911Z"
   },
   {
    "duration": 2,
    "start_time": "2022-12-22T20:56:43.212Z"
   },
   {
    "duration": 15,
    "start_time": "2022-12-22T20:56:48.643Z"
   },
   {
    "duration": 11,
    "start_time": "2022-12-22T20:56:49.565Z"
   },
   {
    "duration": 11,
    "start_time": "2022-12-22T20:56:50.505Z"
   },
   {
    "duration": 377,
    "start_time": "2022-12-22T21:02:36.341Z"
   },
   {
    "duration": 19,
    "start_time": "2022-12-22T21:03:19.596Z"
   },
   {
    "duration": 178,
    "start_time": "2022-12-22T21:04:26.818Z"
   },
   {
    "duration": 195,
    "start_time": "2022-12-22T21:05:26.730Z"
   },
   {
    "duration": 129,
    "start_time": "2022-12-22T21:07:34.025Z"
   },
   {
    "duration": 100,
    "start_time": "2022-12-22T21:07:47.713Z"
   },
   {
    "duration": 13,
    "start_time": "2022-12-22T21:08:08.329Z"
   },
   {
    "duration": 180,
    "start_time": "2022-12-22T21:08:20.911Z"
   },
   {
    "duration": 17,
    "start_time": "2022-12-22T21:09:44.894Z"
   },
   {
    "duration": 111,
    "start_time": "2022-12-22T21:10:19.089Z"
   },
   {
    "duration": 3,
    "start_time": "2022-12-22T21:12:22.355Z"
   },
   {
    "duration": 111,
    "start_time": "2022-12-22T21:12:47.586Z"
   },
   {
    "duration": 159,
    "start_time": "2022-12-22T21:13:04.022Z"
   },
   {
    "duration": 97,
    "start_time": "2022-12-22T21:13:43.020Z"
   },
   {
    "duration": 742,
    "start_time": "2022-12-22T21:14:52.720Z"
   },
   {
    "duration": 94,
    "start_time": "2022-12-22T21:15:21.348Z"
   },
   {
    "duration": 717,
    "start_time": "2022-12-22T21:15:46.437Z"
   },
   {
    "duration": 103,
    "start_time": "2022-12-22T21:15:56.934Z"
   },
   {
    "duration": 9,
    "start_time": "2022-12-22T21:20:31.927Z"
   },
   {
    "duration": 30,
    "start_time": "2022-12-22T21:20:37.839Z"
   },
   {
    "duration": 25,
    "start_time": "2022-12-22T21:20:48.300Z"
   },
   {
    "duration": 10,
    "start_time": "2022-12-22T21:21:17.705Z"
   },
   {
    "duration": 16,
    "start_time": "2022-12-22T21:21:45.226Z"
   },
   {
    "duration": 11,
    "start_time": "2022-12-22T21:22:16.294Z"
   },
   {
    "duration": 10,
    "start_time": "2022-12-22T21:22:35.912Z"
   },
   {
    "duration": 13,
    "start_time": "2022-12-22T21:22:44.657Z"
   },
   {
    "duration": 294,
    "start_time": "2022-12-22T21:27:17.776Z"
   },
   {
    "duration": 8,
    "start_time": "2022-12-22T21:27:40.032Z"
   },
   {
    "duration": 309,
    "start_time": "2022-12-22T21:27:42.981Z"
   },
   {
    "duration": 687,
    "start_time": "2022-12-22T21:28:01.548Z"
   },
   {
    "duration": 615,
    "start_time": "2022-12-22T21:28:19.768Z"
   },
   {
    "duration": 451,
    "start_time": "2022-12-22T21:28:56.653Z"
   },
   {
    "duration": 20,
    "start_time": "2022-12-22T21:34:25.116Z"
   },
   {
    "duration": 728,
    "start_time": "2022-12-22T21:39:13.880Z"
   },
   {
    "duration": 14,
    "start_time": "2022-12-22T21:43:25.371Z"
   },
   {
    "duration": 383,
    "start_time": "2022-12-22T21:44:10.202Z"
   },
   {
    "duration": 735,
    "start_time": "2022-12-22T21:44:26.852Z"
   },
   {
    "duration": 574,
    "start_time": "2022-12-22T21:44:32.686Z"
   },
   {
    "duration": 597,
    "start_time": "2022-12-22T21:44:37.605Z"
   },
   {
    "duration": 43,
    "start_time": "2022-12-22T21:49:37.627Z"
   },
   {
    "duration": 39,
    "start_time": "2022-12-22T21:49:48.574Z"
   },
   {
    "duration": 4,
    "start_time": "2022-12-22T21:50:03.273Z"
   },
   {
    "duration": 682,
    "start_time": "2022-12-22T21:50:11.159Z"
   },
   {
    "duration": 327,
    "start_time": "2022-12-22T21:50:26.908Z"
   },
   {
    "duration": 346,
    "start_time": "2022-12-22T21:50:42.344Z"
   },
   {
    "duration": 385,
    "start_time": "2022-12-22T21:51:01.985Z"
   },
   {
    "duration": 12,
    "start_time": "2022-12-22T21:51:07.389Z"
   },
   {
    "duration": 10,
    "start_time": "2022-12-22T21:51:28.327Z"
   },
   {
    "duration": 11,
    "start_time": "2022-12-22T21:51:50.033Z"
   },
   {
    "duration": 11,
    "start_time": "2022-12-22T21:52:07.067Z"
   },
   {
    "duration": 17,
    "start_time": "2022-12-22T21:59:08.918Z"
   },
   {
    "duration": 4,
    "start_time": "2022-12-22T21:59:45.372Z"
   },
   {
    "duration": 17,
    "start_time": "2022-12-22T22:00:02.352Z"
   },
   {
    "duration": 17,
    "start_time": "2022-12-22T22:00:06.440Z"
   },
   {
    "duration": 12,
    "start_time": "2022-12-22T22:00:15.190Z"
   },
   {
    "duration": 11,
    "start_time": "2022-12-22T22:01:27.252Z"
   },
   {
    "duration": 171,
    "start_time": "2022-12-22T22:02:05.626Z"
   },
   {
    "duration": 12,
    "start_time": "2022-12-22T22:02:34.320Z"
   },
   {
    "duration": 1179,
    "start_time": "2022-12-22T22:03:11.529Z"
   },
   {
    "duration": 2,
    "start_time": "2022-12-22T22:03:12.710Z"
   },
   {
    "duration": 700,
    "start_time": "2022-12-22T22:03:12.713Z"
   },
   {
    "duration": 21,
    "start_time": "2022-12-22T22:03:13.415Z"
   },
   {
    "duration": 31,
    "start_time": "2022-12-22T22:03:13.438Z"
   },
   {
    "duration": 13,
    "start_time": "2022-12-22T22:03:13.470Z"
   },
   {
    "duration": 23,
    "start_time": "2022-12-22T22:03:13.485Z"
   },
   {
    "duration": 39,
    "start_time": "2022-12-22T22:03:13.509Z"
   },
   {
    "duration": 2,
    "start_time": "2022-12-22T22:03:13.550Z"
   },
   {
    "duration": 25,
    "start_time": "2022-12-22T22:03:13.553Z"
   },
   {
    "duration": 6,
    "start_time": "2022-12-22T22:03:13.580Z"
   },
   {
    "duration": 17,
    "start_time": "2022-12-22T22:03:13.588Z"
   },
   {
    "duration": 13,
    "start_time": "2022-12-22T22:03:13.606Z"
   },
   {
    "duration": 13,
    "start_time": "2022-12-22T22:03:13.622Z"
   },
   {
    "duration": 43,
    "start_time": "2022-12-22T22:03:13.637Z"
   },
   {
    "duration": 108,
    "start_time": "2022-12-22T22:03:13.681Z"
   },
   {
    "duration": 0,
    "start_time": "2022-12-22T22:03:13.791Z"
   },
   {
    "duration": 0,
    "start_time": "2022-12-22T22:03:13.792Z"
   },
   {
    "duration": 0,
    "start_time": "2022-12-22T22:03:13.793Z"
   },
   {
    "duration": 0,
    "start_time": "2022-12-22T22:03:13.794Z"
   },
   {
    "duration": 0,
    "start_time": "2022-12-22T22:03:13.795Z"
   },
   {
    "duration": 0,
    "start_time": "2022-12-22T22:03:13.796Z"
   },
   {
    "duration": 0,
    "start_time": "2022-12-22T22:03:13.797Z"
   },
   {
    "duration": 0,
    "start_time": "2022-12-22T22:03:13.798Z"
   },
   {
    "duration": 0,
    "start_time": "2022-12-22T22:03:13.799Z"
   },
   {
    "duration": 0,
    "start_time": "2022-12-22T22:03:13.800Z"
   },
   {
    "duration": 14,
    "start_time": "2022-12-22T22:04:16.552Z"
   },
   {
    "duration": 1290,
    "start_time": "2022-12-22T22:04:39.452Z"
   },
   {
    "duration": 2,
    "start_time": "2022-12-22T22:04:40.744Z"
   },
   {
    "duration": 710,
    "start_time": "2022-12-22T22:04:40.748Z"
   },
   {
    "duration": 33,
    "start_time": "2022-12-22T22:04:41.460Z"
   },
   {
    "duration": 22,
    "start_time": "2022-12-22T22:04:41.495Z"
   },
   {
    "duration": 16,
    "start_time": "2022-12-22T22:04:41.518Z"
   },
   {
    "duration": 20,
    "start_time": "2022-12-22T22:04:41.536Z"
   },
   {
    "duration": 51,
    "start_time": "2022-12-22T22:04:41.577Z"
   },
   {
    "duration": 2,
    "start_time": "2022-12-22T22:04:41.630Z"
   },
   {
    "duration": 6,
    "start_time": "2022-12-22T22:04:41.636Z"
   },
   {
    "duration": 32,
    "start_time": "2022-12-22T22:04:41.644Z"
   },
   {
    "duration": 10,
    "start_time": "2022-12-22T22:04:41.678Z"
   },
   {
    "duration": 9,
    "start_time": "2022-12-22T22:04:41.690Z"
   },
   {
    "duration": 10,
    "start_time": "2022-12-22T22:04:41.701Z"
   },
   {
    "duration": 70,
    "start_time": "2022-12-22T22:04:41.714Z"
   },
   {
    "duration": 11,
    "start_time": "2022-12-22T22:04:41.785Z"
   },
   {
    "duration": 636,
    "start_time": "2022-12-22T22:04:41.798Z"
   },
   {
    "duration": 868,
    "start_time": "2022-12-22T22:04:42.436Z"
   },
   {
    "duration": 0,
    "start_time": "2022-12-22T22:04:43.306Z"
   },
   {
    "duration": 0,
    "start_time": "2022-12-22T22:04:43.307Z"
   },
   {
    "duration": 0,
    "start_time": "2022-12-22T22:04:43.309Z"
   },
   {
    "duration": 0,
    "start_time": "2022-12-22T22:04:43.310Z"
   },
   {
    "duration": 0,
    "start_time": "2022-12-22T22:04:43.311Z"
   },
   {
    "duration": 0,
    "start_time": "2022-12-22T22:04:43.312Z"
   },
   {
    "duration": 0,
    "start_time": "2022-12-22T22:04:43.313Z"
   },
   {
    "duration": 0,
    "start_time": "2022-12-22T22:04:43.315Z"
   },
   {
    "duration": 99,
    "start_time": "2022-12-22T22:05:23.857Z"
   },
   {
    "duration": 11,
    "start_time": "2022-12-22T22:05:52.498Z"
   },
   {
    "duration": 647,
    "start_time": "2022-12-22T22:05:59.689Z"
   },
   {
    "duration": 96,
    "start_time": "2022-12-22T22:06:13.966Z"
   },
   {
    "duration": 14,
    "start_time": "2022-12-22T22:06:30.297Z"
   },
   {
    "duration": 96,
    "start_time": "2022-12-22T22:06:46.647Z"
   },
   {
    "duration": 382,
    "start_time": "2022-12-22T22:06:48.324Z"
   },
   {
    "duration": 454,
    "start_time": "2022-12-22T22:10:49.373Z"
   },
   {
    "duration": 344,
    "start_time": "2022-12-22T22:10:58.026Z"
   },
   {
    "duration": 738,
    "start_time": "2022-12-22T22:11:02.469Z"
   },
   {
    "duration": 494,
    "start_time": "2022-12-22T22:11:08.116Z"
   },
   {
    "duration": 338,
    "start_time": "2022-12-22T22:11:14.876Z"
   },
   {
    "duration": 322,
    "start_time": "2022-12-22T22:11:21.550Z"
   },
   {
    "duration": 15,
    "start_time": "2022-12-22T22:13:27.912Z"
   },
   {
    "duration": 360,
    "start_time": "2022-12-22T22:13:41.433Z"
   },
   {
    "duration": 468,
    "start_time": "2022-12-22T22:13:49.674Z"
   },
   {
    "duration": 15,
    "start_time": "2022-12-22T22:14:18.258Z"
   },
   {
    "duration": 13,
    "start_time": "2022-12-22T22:15:17.556Z"
   },
   {
    "duration": 17,
    "start_time": "2022-12-22T22:19:40.246Z"
   },
   {
    "duration": 14,
    "start_time": "2022-12-22T22:19:48.242Z"
   },
   {
    "duration": 17,
    "start_time": "2022-12-22T22:19:55.396Z"
   },
   {
    "duration": 15,
    "start_time": "2022-12-22T22:20:28.814Z"
   },
   {
    "duration": 8,
    "start_time": "2022-12-22T22:22:32.161Z"
   },
   {
    "duration": 88,
    "start_time": "2022-12-22T22:22:36.167Z"
   },
   {
    "duration": 6,
    "start_time": "2022-12-22T22:23:03.864Z"
   },
   {
    "duration": 103,
    "start_time": "2022-12-22T22:23:05.414Z"
   },
   {
    "duration": 7,
    "start_time": "2022-12-22T22:23:29.602Z"
   },
   {
    "duration": 95,
    "start_time": "2022-12-22T22:23:29.781Z"
   },
   {
    "duration": 1339,
    "start_time": "2022-12-22T22:25:22.798Z"
   },
   {
    "duration": 3,
    "start_time": "2022-12-22T22:25:24.139Z"
   },
   {
    "duration": 743,
    "start_time": "2022-12-22T22:25:24.144Z"
   },
   {
    "duration": 28,
    "start_time": "2022-12-22T22:25:24.890Z"
   },
   {
    "duration": 21,
    "start_time": "2022-12-22T22:25:24.920Z"
   },
   {
    "duration": 40,
    "start_time": "2022-12-22T22:25:24.943Z"
   },
   {
    "duration": 20,
    "start_time": "2022-12-22T22:25:24.985Z"
   },
   {
    "duration": 70,
    "start_time": "2022-12-22T22:25:25.007Z"
   },
   {
    "duration": 3,
    "start_time": "2022-12-22T22:25:25.079Z"
   },
   {
    "duration": 14,
    "start_time": "2022-12-22T22:25:25.085Z"
   },
   {
    "duration": 21,
    "start_time": "2022-12-22T22:25:25.100Z"
   },
   {
    "duration": 10,
    "start_time": "2022-12-22T22:25:25.123Z"
   },
   {
    "duration": 14,
    "start_time": "2022-12-22T22:25:25.135Z"
   },
   {
    "duration": 10,
    "start_time": "2022-12-22T22:25:25.150Z"
   },
   {
    "duration": 37,
    "start_time": "2022-12-22T22:25:25.161Z"
   },
   {
    "duration": 10,
    "start_time": "2022-12-22T22:25:25.200Z"
   },
   {
    "duration": 386,
    "start_time": "2022-12-22T22:25:25.211Z"
   },
   {
    "duration": 6,
    "start_time": "2022-12-22T22:25:25.598Z"
   },
   {
    "duration": 110,
    "start_time": "2022-12-22T22:25:25.605Z"
   },
   {
    "duration": 10,
    "start_time": "2022-12-22T22:25:25.717Z"
   },
   {
    "duration": 421,
    "start_time": "2022-12-22T22:25:25.729Z"
   },
   {
    "duration": 6,
    "start_time": "2022-12-22T22:25:26.151Z"
   },
   {
    "duration": 118,
    "start_time": "2022-12-22T22:25:26.159Z"
   },
   {
    "duration": 10,
    "start_time": "2022-12-22T22:25:26.279Z"
   },
   {
    "duration": 366,
    "start_time": "2022-12-22T22:25:26.291Z"
   },
   {
    "duration": 6,
    "start_time": "2022-12-22T22:25:26.658Z"
   },
   {
    "duration": 120,
    "start_time": "2022-12-22T22:25:26.665Z"
   },
   {
    "duration": 4,
    "start_time": "2022-12-22T22:26:40.152Z"
   },
   {
    "duration": 4,
    "start_time": "2022-12-22T22:26:43.968Z"
   },
   {
    "duration": 1196,
    "start_time": "2022-12-22T22:26:55.408Z"
   },
   {
    "duration": 3,
    "start_time": "2022-12-22T22:26:56.606Z"
   },
   {
    "duration": 1374,
    "start_time": "2022-12-22T22:26:56.610Z"
   },
   {
    "duration": 21,
    "start_time": "2022-12-22T22:26:57.986Z"
   },
   {
    "duration": 69,
    "start_time": "2022-12-22T22:26:58.008Z"
   },
   {
    "duration": 11,
    "start_time": "2022-12-22T22:26:58.079Z"
   },
   {
    "duration": 15,
    "start_time": "2022-12-22T22:26:58.091Z"
   },
   {
    "duration": 96,
    "start_time": "2022-12-22T22:26:58.107Z"
   },
   {
    "duration": 3,
    "start_time": "2022-12-22T22:26:58.205Z"
   },
   {
    "duration": 18,
    "start_time": "2022-12-22T22:26:58.210Z"
   },
   {
    "duration": 50,
    "start_time": "2022-12-22T22:26:58.229Z"
   },
   {
    "duration": 11,
    "start_time": "2022-12-22T22:26:58.280Z"
   },
   {
    "duration": 10,
    "start_time": "2022-12-22T22:26:58.293Z"
   },
   {
    "duration": 8,
    "start_time": "2022-12-22T22:26:58.305Z"
   },
   {
    "duration": 87,
    "start_time": "2022-12-22T22:26:58.314Z"
   },
   {
    "duration": 10,
    "start_time": "2022-12-22T22:26:58.402Z"
   },
   {
    "duration": 334,
    "start_time": "2022-12-22T22:26:58.414Z"
   },
   {
    "duration": 3,
    "start_time": "2022-12-22T22:26:58.750Z"
   },
   {
    "duration": 24,
    "start_time": "2022-12-22T22:26:58.754Z"
   },
   {
    "duration": 100,
    "start_time": "2022-12-22T22:26:58.779Z"
   },
   {
    "duration": 10,
    "start_time": "2022-12-22T22:26:58.880Z"
   },
   {
    "duration": 378,
    "start_time": "2022-12-22T22:26:58.892Z"
   },
   {
    "duration": 8,
    "start_time": "2022-12-22T22:26:59.271Z"
   },
   {
    "duration": 101,
    "start_time": "2022-12-22T22:26:59.280Z"
   },
   {
    "duration": 10,
    "start_time": "2022-12-22T22:26:59.383Z"
   },
   {
    "duration": 331,
    "start_time": "2022-12-22T22:26:59.394Z"
   },
   {
    "duration": 7,
    "start_time": "2022-12-22T22:26:59.726Z"
   },
   {
    "duration": 96,
    "start_time": "2022-12-22T22:26:59.735Z"
   },
   {
    "duration": 1227,
    "start_time": "2022-12-22T22:27:12.294Z"
   },
   {
    "duration": 3,
    "start_time": "2022-12-22T22:27:13.523Z"
   },
   {
    "duration": 701,
    "start_time": "2022-12-22T22:27:13.528Z"
   },
   {
    "duration": 24,
    "start_time": "2022-12-22T22:27:14.230Z"
   },
   {
    "duration": 27,
    "start_time": "2022-12-22T22:27:14.255Z"
   },
   {
    "duration": 11,
    "start_time": "2022-12-22T22:27:14.284Z"
   },
   {
    "duration": 16,
    "start_time": "2022-12-22T22:27:14.296Z"
   },
   {
    "duration": 34,
    "start_time": "2022-12-22T22:27:14.314Z"
   },
   {
    "duration": 28,
    "start_time": "2022-12-22T22:27:14.349Z"
   },
   {
    "duration": 22,
    "start_time": "2022-12-22T22:27:14.379Z"
   },
   {
    "duration": 7,
    "start_time": "2022-12-22T22:27:14.402Z"
   },
   {
    "duration": 11,
    "start_time": "2022-12-22T22:27:14.410Z"
   },
   {
    "duration": 10,
    "start_time": "2022-12-22T22:27:14.422Z"
   },
   {
    "duration": 14,
    "start_time": "2022-12-22T22:27:14.434Z"
   },
   {
    "duration": 44,
    "start_time": "2022-12-22T22:27:14.449Z"
   },
   {
    "duration": 11,
    "start_time": "2022-12-22T22:27:14.494Z"
   },
   {
    "duration": 337,
    "start_time": "2022-12-22T22:27:14.506Z"
   },
   {
    "duration": 8,
    "start_time": "2022-12-22T22:27:14.845Z"
   },
   {
    "duration": 31,
    "start_time": "2022-12-22T22:27:14.855Z"
   },
   {
    "duration": 126,
    "start_time": "2022-12-22T22:27:14.888Z"
   },
   {
    "duration": 11,
    "start_time": "2022-12-22T22:27:15.015Z"
   },
   {
    "duration": 434,
    "start_time": "2022-12-22T22:27:15.027Z"
   },
   {
    "duration": 13,
    "start_time": "2022-12-22T22:27:15.463Z"
   },
   {
    "duration": 99,
    "start_time": "2022-12-22T22:27:15.478Z"
   },
   {
    "duration": 11,
    "start_time": "2022-12-22T22:27:15.579Z"
   },
   {
    "duration": 321,
    "start_time": "2022-12-22T22:27:15.592Z"
   },
   {
    "duration": 5,
    "start_time": "2022-12-22T22:27:15.915Z"
   },
   {
    "duration": 100,
    "start_time": "2022-12-22T22:27:15.923Z"
   },
   {
    "duration": 7,
    "start_time": "2022-12-22T22:27:54.470Z"
   },
   {
    "duration": 8,
    "start_time": "2022-12-22T22:28:40.644Z"
   },
   {
    "duration": 52,
    "start_time": "2022-12-23T12:49:42.888Z"
   },
   {
    "duration": 1393,
    "start_time": "2022-12-23T12:49:53.061Z"
   },
   {
    "duration": 3,
    "start_time": "2022-12-23T12:49:54.456Z"
   },
   {
    "duration": 3385,
    "start_time": "2022-12-23T12:49:54.461Z"
   },
   {
    "duration": 23,
    "start_time": "2022-12-23T12:49:57.848Z"
   },
   {
    "duration": 16,
    "start_time": "2022-12-23T12:49:57.872Z"
   },
   {
    "duration": 13,
    "start_time": "2022-12-23T12:49:57.889Z"
   },
   {
    "duration": 21,
    "start_time": "2022-12-23T12:49:57.904Z"
   },
   {
    "duration": 37,
    "start_time": "2022-12-23T12:49:57.927Z"
   },
   {
    "duration": 31,
    "start_time": "2022-12-23T12:49:57.966Z"
   },
   {
    "duration": 18,
    "start_time": "2022-12-23T12:49:58.001Z"
   },
   {
    "duration": 7,
    "start_time": "2022-12-23T12:49:58.020Z"
   },
   {
    "duration": 10,
    "start_time": "2022-12-23T12:49:58.028Z"
   },
   {
    "duration": 6,
    "start_time": "2022-12-23T12:49:58.039Z"
   },
   {
    "duration": 9,
    "start_time": "2022-12-23T12:49:58.046Z"
   },
   {
    "duration": 65,
    "start_time": "2022-12-23T12:49:58.056Z"
   },
   {
    "duration": 10,
    "start_time": "2022-12-23T12:49:58.122Z"
   },
   {
    "duration": 358,
    "start_time": "2022-12-23T12:49:58.134Z"
   },
   {
    "duration": 10,
    "start_time": "2022-12-23T12:49:58.505Z"
   },
   {
    "duration": 103,
    "start_time": "2022-12-23T12:49:58.517Z"
   },
   {
    "duration": 10,
    "start_time": "2022-12-23T12:49:58.622Z"
   },
   {
    "duration": 458,
    "start_time": "2022-12-23T12:49:58.634Z"
   },
   {
    "duration": 9,
    "start_time": "2022-12-23T12:49:59.098Z"
   },
   {
    "duration": 119,
    "start_time": "2022-12-23T12:49:59.109Z"
   },
   {
    "duration": 10,
    "start_time": "2022-12-23T12:49:59.229Z"
   },
   {
    "duration": 342,
    "start_time": "2022-12-23T12:49:59.240Z"
   },
   {
    "duration": 15,
    "start_time": "2022-12-23T12:49:59.584Z"
   },
   {
    "duration": 145,
    "start_time": "2022-12-23T12:49:59.600Z"
   },
   {
    "duration": 195,
    "start_time": "2022-12-23T12:49:59.748Z"
   },
   {
    "duration": 189,
    "start_time": "2022-12-23T12:50:13.222Z"
   },
   {
    "duration": 87,
    "start_time": "2022-12-23T12:57:44.037Z"
   },
   {
    "duration": 470,
    "start_time": "2022-12-23T12:57:52.645Z"
   },
   {
    "duration": 444,
    "start_time": "2022-12-23T12:57:56.811Z"
   },
   {
    "duration": 442,
    "start_time": "2022-12-23T12:58:02.511Z"
   },
   {
    "duration": 447,
    "start_time": "2022-12-23T12:58:29.808Z"
   },
   {
    "duration": 586,
    "start_time": "2022-12-23T12:58:36.759Z"
   },
   {
    "duration": 159,
    "start_time": "2022-12-23T12:59:17.509Z"
   },
   {
    "duration": 155,
    "start_time": "2022-12-23T12:59:33.325Z"
   },
   {
    "duration": 179,
    "start_time": "2022-12-23T12:59:43.974Z"
   },
   {
    "duration": 211,
    "start_time": "2022-12-23T12:59:50.607Z"
   },
   {
    "duration": 224,
    "start_time": "2022-12-23T13:00:02.137Z"
   },
   {
    "duration": 218,
    "start_time": "2022-12-23T13:00:18.210Z"
   },
   {
    "duration": 377,
    "start_time": "2022-12-23T13:00:28.012Z"
   },
   {
    "duration": 222,
    "start_time": "2022-12-23T13:00:34.019Z"
   },
   {
    "duration": 375,
    "start_time": "2022-12-23T13:00:51.754Z"
   },
   {
    "duration": 369,
    "start_time": "2022-12-23T13:00:56.216Z"
   },
   {
    "duration": 354,
    "start_time": "2022-12-23T13:01:09.410Z"
   },
   {
    "duration": 506,
    "start_time": "2022-12-23T13:01:17.067Z"
   },
   {
    "duration": 370,
    "start_time": "2022-12-23T13:04:32.788Z"
   },
   {
    "duration": 373,
    "start_time": "2022-12-23T13:04:38.558Z"
   },
   {
    "duration": 557,
    "start_time": "2022-12-23T13:07:03.541Z"
   },
   {
    "duration": 798,
    "start_time": "2022-12-23T13:08:01.628Z"
   },
   {
    "duration": 685,
    "start_time": "2022-12-23T13:08:10.162Z"
   },
   {
    "duration": 605,
    "start_time": "2022-12-23T13:08:19.416Z"
   },
   {
    "duration": 931,
    "start_time": "2022-12-23T13:08:29.784Z"
   },
   {
    "duration": 568,
    "start_time": "2022-12-23T13:08:38.415Z"
   },
   {
    "duration": 597,
    "start_time": "2022-12-23T13:08:42.921Z"
   },
   {
    "duration": 554,
    "start_time": "2022-12-23T13:09:43.146Z"
   },
   {
    "duration": 859,
    "start_time": "2022-12-23T13:09:51.326Z"
   },
   {
    "duration": 627,
    "start_time": "2022-12-23T13:10:10.611Z"
   },
   {
    "duration": 1498,
    "start_time": "2022-12-23T23:50:23.740Z"
   },
   {
    "duration": 2196,
    "start_time": "2022-12-23T23:50:29.026Z"
   },
   {
    "duration": 3,
    "start_time": "2022-12-23T23:50:31.224Z"
   },
   {
    "duration": 3180,
    "start_time": "2022-12-23T23:50:31.229Z"
   },
   {
    "duration": 26,
    "start_time": "2022-12-23T23:50:34.412Z"
   },
   {
    "duration": 17,
    "start_time": "2022-12-23T23:50:34.440Z"
   },
   {
    "duration": 14,
    "start_time": "2022-12-23T23:50:34.459Z"
   },
   {
    "duration": 50,
    "start_time": "2022-12-23T23:50:34.475Z"
   },
   {
    "duration": 39,
    "start_time": "2022-12-23T23:50:34.527Z"
   },
   {
    "duration": 3,
    "start_time": "2022-12-23T23:50:34.568Z"
   },
   {
    "duration": 9,
    "start_time": "2022-12-23T23:50:34.573Z"
   },
   {
    "duration": 33,
    "start_time": "2022-12-23T23:50:34.583Z"
   },
   {
    "duration": 10,
    "start_time": "2022-12-23T23:50:34.618Z"
   },
   {
    "duration": 9,
    "start_time": "2022-12-23T23:50:34.629Z"
   },
   {
    "duration": 9,
    "start_time": "2022-12-23T23:50:34.642Z"
   },
   {
    "duration": 79,
    "start_time": "2022-12-23T23:50:34.653Z"
   },
   {
    "duration": 14,
    "start_time": "2022-12-23T23:50:34.734Z"
   },
   {
    "duration": 470,
    "start_time": "2022-12-23T23:50:34.750Z"
   },
   {
    "duration": 10,
    "start_time": "2022-12-23T23:50:35.222Z"
   },
   {
    "duration": 114,
    "start_time": "2022-12-23T23:50:35.233Z"
   },
   {
    "duration": 11,
    "start_time": "2022-12-23T23:50:35.349Z"
   },
   {
    "duration": 553,
    "start_time": "2022-12-23T23:50:35.362Z"
   },
   {
    "duration": 9,
    "start_time": "2022-12-23T23:50:35.916Z"
   },
   {
    "duration": 109,
    "start_time": "2022-12-23T23:50:35.927Z"
   },
   {
    "duration": 12,
    "start_time": "2022-12-23T23:50:36.038Z"
   },
   {
    "duration": 550,
    "start_time": "2022-12-23T23:50:36.052Z"
   },
   {
    "duration": 15,
    "start_time": "2022-12-23T23:50:36.604Z"
   },
   {
    "duration": 112,
    "start_time": "2022-12-23T23:50:36.621Z"
   },
   {
    "duration": 723,
    "start_time": "2022-12-23T23:50:36.735Z"
   },
   {
    "duration": 140,
    "start_time": "2022-12-23T23:51:43.992Z"
   },
   {
    "duration": 288,
    "start_time": "2022-12-23T23:53:11.332Z"
   },
   {
    "duration": 750,
    "start_time": "2022-12-23T23:54:32.295Z"
   },
   {
    "duration": 796,
    "start_time": "2022-12-23T23:55:07.538Z"
   },
   {
    "duration": 730,
    "start_time": "2022-12-23T23:55:12.040Z"
   },
   {
    "duration": 1100,
    "start_time": "2022-12-23T23:56:51.472Z"
   },
   {
    "duration": 957,
    "start_time": "2022-12-23T23:57:09.846Z"
   },
   {
    "duration": 1156,
    "start_time": "2022-12-23T23:57:16.815Z"
   },
   {
    "duration": 771,
    "start_time": "2022-12-24T00:00:44.636Z"
   },
   {
    "duration": 993,
    "start_time": "2022-12-24T00:01:05.589Z"
   },
   {
    "duration": 721,
    "start_time": "2022-12-24T00:01:23.133Z"
   },
   {
    "duration": 898,
    "start_time": "2022-12-24T00:02:12.112Z"
   },
   {
    "duration": 699,
    "start_time": "2022-12-24T00:03:53.839Z"
   },
   {
    "duration": 737,
    "start_time": "2022-12-24T00:05:13.923Z"
   },
   {
    "duration": 742,
    "start_time": "2022-12-24T00:05:17.850Z"
   },
   {
    "duration": 757,
    "start_time": "2022-12-24T00:05:35.703Z"
   },
   {
    "duration": 626,
    "start_time": "2022-12-24T00:05:45.561Z"
   },
   {
    "duration": 670,
    "start_time": "2022-12-24T00:06:38.817Z"
   },
   {
    "duration": 972,
    "start_time": "2022-12-24T00:06:44.552Z"
   },
   {
    "duration": 673,
    "start_time": "2022-12-24T00:09:16.483Z"
   },
   {
    "duration": 681,
    "start_time": "2022-12-24T00:09:36.784Z"
   },
   {
    "duration": 661,
    "start_time": "2022-12-24T00:09:42.511Z"
   },
   {
    "duration": 677,
    "start_time": "2022-12-24T00:09:47.433Z"
   },
   {
    "duration": 607,
    "start_time": "2022-12-24T00:10:00.863Z"
   },
   {
    "duration": 610,
    "start_time": "2022-12-24T00:10:07.483Z"
   },
   {
    "duration": 1003,
    "start_time": "2022-12-24T00:10:13.800Z"
   },
   {
    "duration": 713,
    "start_time": "2022-12-24T00:10:29.068Z"
   },
   {
    "duration": 1284,
    "start_time": "2022-12-24T00:16:26.055Z"
   },
   {
    "duration": 14,
    "start_time": "2022-12-24T00:31:58.644Z"
   },
   {
    "duration": 8,
    "start_time": "2022-12-24T00:32:18.077Z"
   },
   {
    "duration": 745,
    "start_time": "2022-12-24T00:32:55.679Z"
   },
   {
    "duration": 11,
    "start_time": "2022-12-24T00:33:16.433Z"
   },
   {
    "duration": 9,
    "start_time": "2022-12-24T00:33:47.726Z"
   },
   {
    "duration": 11,
    "start_time": "2022-12-24T00:34:08.395Z"
   },
   {
    "duration": 20,
    "start_time": "2022-12-24T00:34:19.121Z"
   },
   {
    "duration": 16,
    "start_time": "2022-12-24T00:36:26.989Z"
   },
   {
    "duration": 25,
    "start_time": "2022-12-24T00:39:05.331Z"
   },
   {
    "duration": 15,
    "start_time": "2022-12-24T00:40:26.896Z"
   },
   {
    "duration": 176,
    "start_time": "2022-12-24T00:42:06.375Z"
   },
   {
    "duration": 12,
    "start_time": "2022-12-24T00:48:10.000Z"
   },
   {
    "duration": 644,
    "start_time": "2022-12-24T00:48:14.798Z"
   },
   {
    "duration": 13,
    "start_time": "2022-12-24T00:49:11.150Z"
   },
   {
    "duration": 729,
    "start_time": "2022-12-24T00:49:12.093Z"
   },
   {
    "duration": 11,
    "start_time": "2022-12-24T00:49:40.996Z"
   },
   {
    "duration": 751,
    "start_time": "2022-12-24T00:49:42.036Z"
   },
   {
    "duration": 39,
    "start_time": "2022-12-24T00:50:06.591Z"
   },
   {
    "duration": 470,
    "start_time": "2022-12-24T00:50:09.376Z"
   },
   {
    "duration": 128,
    "start_time": "2022-12-24T00:51:15.229Z"
   },
   {
    "duration": 1326,
    "start_time": "2022-12-24T00:52:22.257Z"
   },
   {
    "duration": 3,
    "start_time": "2022-12-24T00:52:23.585Z"
   },
   {
    "duration": 743,
    "start_time": "2022-12-24T00:52:23.590Z"
   },
   {
    "duration": 25,
    "start_time": "2022-12-24T00:52:24.335Z"
   },
   {
    "duration": 17,
    "start_time": "2022-12-24T00:52:24.362Z"
   },
   {
    "duration": 11,
    "start_time": "2022-12-24T00:52:24.380Z"
   },
   {
    "duration": 19,
    "start_time": "2022-12-24T00:52:24.416Z"
   },
   {
    "duration": 39,
    "start_time": "2022-12-24T00:52:24.436Z"
   },
   {
    "duration": 3,
    "start_time": "2022-12-24T00:52:24.476Z"
   },
   {
    "duration": 7,
    "start_time": "2022-12-24T00:52:24.480Z"
   },
   {
    "duration": 29,
    "start_time": "2022-12-24T00:52:24.489Z"
   },
   {
    "duration": 10,
    "start_time": "2022-12-24T00:52:24.520Z"
   },
   {
    "duration": 8,
    "start_time": "2022-12-24T00:52:24.532Z"
   },
   {
    "duration": 13,
    "start_time": "2022-12-24T00:52:24.544Z"
   },
   {
    "duration": 66,
    "start_time": "2022-12-24T00:52:24.559Z"
   },
   {
    "duration": 13,
    "start_time": "2022-12-24T00:52:24.627Z"
   },
   {
    "duration": 997,
    "start_time": "2022-12-24T00:52:24.642Z"
   },
   {
    "duration": 9,
    "start_time": "2022-12-24T00:52:25.640Z"
   },
   {
    "duration": 267,
    "start_time": "2022-12-24T00:52:25.651Z"
   },
   {
    "duration": 12,
    "start_time": "2022-12-24T00:52:25.922Z"
   },
   {
    "duration": 1515,
    "start_time": "2022-12-24T00:52:25.936Z"
   },
   {
    "duration": 63,
    "start_time": "2022-12-24T00:52:27.453Z"
   },
   {
    "duration": 237,
    "start_time": "2022-12-24T00:52:27.518Z"
   },
   {
    "duration": 66,
    "start_time": "2022-12-24T00:52:27.756Z"
   },
   {
    "duration": 1720,
    "start_time": "2022-12-24T00:52:27.824Z"
   },
   {
    "duration": 9,
    "start_time": "2022-12-24T00:52:29.546Z"
   },
   {
    "duration": 310,
    "start_time": "2022-12-24T00:52:29.557Z"
   },
   {
    "duration": 1316,
    "start_time": "2022-12-24T00:52:29.869Z"
   },
   {
    "duration": 721,
    "start_time": "2022-12-24T00:52:31.187Z"
   },
   {
    "duration": 25,
    "start_time": "2022-12-24T00:52:31.909Z"
   },
   {
    "duration": 136,
    "start_time": "2022-12-24T00:52:31.936Z"
   },
   {
    "duration": 46,
    "start_time": "2022-12-24T01:05:23.111Z"
   },
   {
    "duration": 5,
    "start_time": "2022-12-24T01:16:36.298Z"
   },
   {
    "duration": 49,
    "start_time": "2022-12-24T01:38:00.613Z"
   },
   {
    "duration": 110,
    "start_time": "2022-12-24T01:43:09.862Z"
   },
   {
    "duration": 7,
    "start_time": "2022-12-24T01:43:29.562Z"
   },
   {
    "duration": 24,
    "start_time": "2022-12-24T01:43:39.574Z"
   },
   {
    "duration": 19,
    "start_time": "2022-12-24T01:44:00.813Z"
   },
   {
    "duration": 11,
    "start_time": "2022-12-24T01:56:32.320Z"
   },
   {
    "duration": 11,
    "start_time": "2022-12-24T01:56:54.369Z"
   },
   {
    "duration": 856,
    "start_time": "2022-12-24T02:19:31.300Z"
   },
   {
    "duration": 52,
    "start_time": "2022-12-24T02:21:00.822Z"
   },
   {
    "duration": 18,
    "start_time": "2022-12-24T02:21:42.215Z"
   },
   {
    "duration": 19,
    "start_time": "2022-12-24T02:21:53.313Z"
   },
   {
    "duration": 15,
    "start_time": "2022-12-24T02:23:40.573Z"
   },
   {
    "duration": 702,
    "start_time": "2022-12-24T02:23:50.468Z"
   },
   {
    "duration": 50,
    "start_time": "2022-12-24T02:24:02.830Z"
   },
   {
    "duration": 51,
    "start_time": "2022-12-24T02:24:16.733Z"
   },
   {
    "duration": 19,
    "start_time": "2022-12-24T02:24:30.984Z"
   },
   {
    "duration": 21,
    "start_time": "2022-12-24T02:25:10.028Z"
   },
   {
    "duration": 19,
    "start_time": "2022-12-24T02:25:42.726Z"
   },
   {
    "duration": 6,
    "start_time": "2022-12-24T02:26:18.844Z"
   },
   {
    "duration": 20,
    "start_time": "2022-12-24T02:26:51.043Z"
   },
   {
    "duration": 23,
    "start_time": "2022-12-24T02:27:42.564Z"
   },
   {
    "duration": 6,
    "start_time": "2022-12-24T02:28:00.192Z"
   },
   {
    "duration": 21,
    "start_time": "2022-12-24T02:28:06.824Z"
   },
   {
    "duration": 27,
    "start_time": "2022-12-24T02:29:32.067Z"
   },
   {
    "duration": 12,
    "start_time": "2022-12-24T02:32:09.033Z"
   },
   {
    "duration": 3,
    "start_time": "2022-12-24T02:32:40.200Z"
   },
   {
    "duration": 3,
    "start_time": "2022-12-24T02:32:47.786Z"
   },
   {
    "duration": 10,
    "start_time": "2022-12-24T02:39:49.376Z"
   },
   {
    "duration": 46,
    "start_time": "2022-12-24T02:43:31.734Z"
   },
   {
    "duration": 10136,
    "start_time": "2022-12-24T02:43:35.768Z"
   },
   {
    "duration": 3,
    "start_time": "2022-12-24T02:46:26.149Z"
   },
   {
    "duration": 10281,
    "start_time": "2022-12-24T02:46:31.146Z"
   },
   {
    "duration": 6,
    "start_time": "2022-12-24T02:48:03.657Z"
   },
   {
    "duration": 5,
    "start_time": "2022-12-24T02:48:10.471Z"
   },
   {
    "duration": 4,
    "start_time": "2022-12-24T02:48:14.728Z"
   },
   {
    "duration": 7,
    "start_time": "2022-12-24T02:48:19.411Z"
   },
   {
    "duration": 4,
    "start_time": "2022-12-24T02:49:53.995Z"
   },
   {
    "duration": 14,
    "start_time": "2022-12-24T02:51:46.372Z"
   },
   {
    "duration": 62546,
    "start_time": "2022-12-24T02:52:03.641Z"
   },
   {
    "duration": 659860,
    "start_time": "2022-12-24T02:53:40.444Z"
   },
   {
    "duration": 11534,
    "start_time": "2022-12-24T03:06:57.009Z"
   },
   {
    "duration": 11518,
    "start_time": "2022-12-24T03:07:18.233Z"
   },
   {
    "duration": 4,
    "start_time": "2022-12-24T03:09:26.788Z"
   },
   {
    "duration": 11670,
    "start_time": "2022-12-24T03:09:29.796Z"
   },
   {
    "duration": 11545,
    "start_time": "2022-12-24T03:12:36.537Z"
   },
   {
    "duration": 11514,
    "start_time": "2022-12-24T03:13:01.776Z"
   },
   {
    "duration": 45,
    "start_time": "2022-12-24T03:30:09.874Z"
   },
   {
    "duration": 4,
    "start_time": "2022-12-24T03:30:17.091Z"
   },
   {
    "duration": 11531,
    "start_time": "2022-12-24T03:30:43.611Z"
   },
   {
    "duration": 4,
    "start_time": "2022-12-24T03:31:25.990Z"
   },
   {
    "duration": 11768,
    "start_time": "2022-12-24T03:31:28.534Z"
   },
   {
    "duration": 263288,
    "start_time": "2022-12-24T03:32:09.780Z"
   },
   {
    "duration": 50,
    "start_time": "2022-12-24T03:39:20.572Z"
   },
   {
    "duration": 1590,
    "start_time": "2022-12-24T11:07:53.354Z"
   },
   {
    "duration": 3,
    "start_time": "2022-12-24T11:07:54.947Z"
   },
   {
    "duration": 2841,
    "start_time": "2022-12-24T11:07:54.951Z"
   },
   {
    "duration": 23,
    "start_time": "2022-12-24T11:07:57.794Z"
   },
   {
    "duration": 78,
    "start_time": "2022-12-24T11:07:57.819Z"
   },
   {
    "duration": 89,
    "start_time": "2022-12-24T11:07:57.898Z"
   },
   {
    "duration": 17,
    "start_time": "2022-12-24T11:07:57.989Z"
   },
   {
    "duration": 74,
    "start_time": "2022-12-24T11:07:58.008Z"
   },
   {
    "duration": 17,
    "start_time": "2022-12-24T11:07:58.084Z"
   },
   {
    "duration": 97,
    "start_time": "2022-12-24T11:07:58.104Z"
   },
   {
    "duration": 3,
    "start_time": "2022-12-24T11:07:58.202Z"
   },
   {
    "duration": 27,
    "start_time": "2022-12-24T11:07:58.207Z"
   },
   {
    "duration": 5,
    "start_time": "2022-12-24T11:07:58.279Z"
   },
   {
    "duration": 44,
    "start_time": "2022-12-24T11:07:58.286Z"
   },
   {
    "duration": 50,
    "start_time": "2022-12-24T11:07:58.331Z"
   },
   {
    "duration": 60,
    "start_time": "2022-12-24T11:07:58.383Z"
   },
   {
    "duration": 12,
    "start_time": "2022-12-24T11:07:58.479Z"
   },
   {
    "duration": 596,
    "start_time": "2022-12-24T11:07:58.492Z"
   },
   {
    "duration": 9,
    "start_time": "2022-12-24T11:07:59.090Z"
   },
   {
    "duration": 235,
    "start_time": "2022-12-24T11:07:59.101Z"
   },
   {
    "duration": 12,
    "start_time": "2022-12-24T11:07:59.338Z"
   },
   {
    "duration": 570,
    "start_time": "2022-12-24T11:07:59.351Z"
   },
   {
    "duration": 9,
    "start_time": "2022-12-24T11:07:59.922Z"
   },
   {
    "duration": 154,
    "start_time": "2022-12-24T11:07:59.932Z"
   },
   {
    "duration": 14,
    "start_time": "2022-12-24T11:08:00.087Z"
   },
   {
    "duration": 626,
    "start_time": "2022-12-24T11:08:00.102Z"
   },
   {
    "duration": 8,
    "start_time": "2022-12-24T11:08:00.730Z"
   },
   {
    "duration": 160,
    "start_time": "2022-12-24T11:08:00.740Z"
   },
   {
    "duration": 1304,
    "start_time": "2022-12-24T11:08:00.902Z"
   },
   {
    "duration": 735,
    "start_time": "2022-12-24T11:08:02.208Z"
   },
   {
    "duration": 32,
    "start_time": "2022-12-24T11:08:02.945Z"
   },
   {
    "duration": 174,
    "start_time": "2022-12-24T11:08:02.979Z"
   },
   {
    "duration": 3,
    "start_time": "2022-12-24T11:08:03.155Z"
   },
   {
    "duration": 61,
    "start_time": "2022-12-24T11:08:03.160Z"
   },
   {
    "duration": 259,
    "start_time": "2022-12-24T11:08:03.223Z"
   },
   {
    "duration": 238225,
    "start_time": "2022-12-24T11:08:03.484Z"
   },
   {
    "duration": 156,
    "start_time": "2022-12-24T11:29:32.366Z"
   },
   {
    "duration": 1616,
    "start_time": "2022-12-24T11:29:41.899Z"
   },
   {
    "duration": 2,
    "start_time": "2022-12-24T11:29:43.517Z"
   },
   {
    "duration": 1172,
    "start_time": "2022-12-24T11:29:43.521Z"
   },
   {
    "duration": 22,
    "start_time": "2022-12-24T11:29:44.695Z"
   },
   {
    "duration": 18,
    "start_time": "2022-12-24T11:29:44.718Z"
   },
   {
    "duration": 20,
    "start_time": "2022-12-24T11:29:44.737Z"
   },
   {
    "duration": 38,
    "start_time": "2022-12-24T11:29:44.759Z"
   },
   {
    "duration": 12,
    "start_time": "2022-12-24T11:29:44.798Z"
   },
   {
    "duration": 17,
    "start_time": "2022-12-24T11:29:44.812Z"
   },
   {
    "duration": 60,
    "start_time": "2022-12-24T11:29:44.831Z"
   },
   {
    "duration": 2,
    "start_time": "2022-12-24T11:29:44.893Z"
   },
   {
    "duration": 13,
    "start_time": "2022-12-24T11:29:44.896Z"
   },
   {
    "duration": 6,
    "start_time": "2022-12-24T11:29:44.910Z"
   },
   {
    "duration": 10,
    "start_time": "2022-12-24T11:29:44.917Z"
   },
   {
    "duration": 6,
    "start_time": "2022-12-24T11:29:44.929Z"
   },
   {
    "duration": 56,
    "start_time": "2022-12-24T11:29:44.937Z"
   },
   {
    "duration": 12,
    "start_time": "2022-12-24T11:29:44.994Z"
   },
   {
    "duration": 538,
    "start_time": "2022-12-24T11:29:45.008Z"
   },
   {
    "duration": 8,
    "start_time": "2022-12-24T11:29:45.547Z"
   },
   {
    "duration": 207,
    "start_time": "2022-12-24T11:29:45.557Z"
   },
   {
    "duration": 21,
    "start_time": "2022-12-24T11:29:45.765Z"
   },
   {
    "duration": 525,
    "start_time": "2022-12-24T11:29:45.788Z"
   },
   {
    "duration": 8,
    "start_time": "2022-12-24T11:29:46.314Z"
   },
   {
    "duration": 113,
    "start_time": "2022-12-24T11:29:46.323Z"
   },
   {
    "duration": 12,
    "start_time": "2022-12-24T11:29:46.437Z"
   },
   {
    "duration": 761,
    "start_time": "2022-12-24T11:29:46.450Z"
   },
   {
    "duration": 9,
    "start_time": "2022-12-24T11:29:47.212Z"
   },
   {
    "duration": 203,
    "start_time": "2022-12-24T11:29:47.277Z"
   },
   {
    "duration": 1860,
    "start_time": "2022-12-24T11:29:47.481Z"
   },
   {
    "duration": 744,
    "start_time": "2022-12-24T11:29:49.343Z"
   },
   {
    "duration": 22,
    "start_time": "2022-12-24T11:29:50.089Z"
   },
   {
    "duration": 149,
    "start_time": "2022-12-24T11:29:50.113Z"
   },
   {
    "duration": 4,
    "start_time": "2022-12-24T11:29:50.264Z"
   },
   {
    "duration": 46,
    "start_time": "2022-12-24T11:29:50.270Z"
   },
   {
    "duration": 369,
    "start_time": "2022-12-24T11:29:50.318Z"
   },
   {
    "duration": 237220,
    "start_time": "2022-12-24T11:29:50.689Z"
   },
   {
    "duration": 417,
    "start_time": "2022-12-24T11:50:06.667Z"
   },
   {
    "duration": 76,
    "start_time": "2022-12-24T11:57:11.887Z"
   },
   {
    "duration": 22,
    "start_time": "2022-12-24T12:00:01.967Z"
   },
   {
    "duration": 855,
    "start_time": "2022-12-24T12:01:14.808Z"
   },
   {
    "duration": 438,
    "start_time": "2022-12-24T12:04:57.141Z"
   },
   {
    "duration": 70,
    "start_time": "2022-12-24T15:44:06.457Z"
   },
   {
    "duration": 44,
    "start_time": "2022-12-24T15:45:14.071Z"
   },
   {
    "duration": 1611,
    "start_time": "2022-12-24T15:45:19.969Z"
   },
   {
    "duration": 4,
    "start_time": "2022-12-24T15:45:21.582Z"
   },
   {
    "duration": 3239,
    "start_time": "2022-12-24T15:45:21.588Z"
   },
   {
    "duration": 22,
    "start_time": "2022-12-24T15:45:24.829Z"
   },
   {
    "duration": 17,
    "start_time": "2022-12-24T15:45:24.853Z"
   },
   {
    "duration": 22,
    "start_time": "2022-12-24T15:45:24.871Z"
   },
   {
    "duration": 28,
    "start_time": "2022-12-24T15:45:24.895Z"
   },
   {
    "duration": 24,
    "start_time": "2022-12-24T15:45:24.925Z"
   },
   {
    "duration": 30,
    "start_time": "2022-12-24T15:45:24.950Z"
   },
   {
    "duration": 35,
    "start_time": "2022-12-24T15:45:24.982Z"
   },
   {
    "duration": 2,
    "start_time": "2022-12-24T15:45:25.019Z"
   },
   {
    "duration": 16,
    "start_time": "2022-12-24T15:45:25.022Z"
   },
   {
    "duration": 5,
    "start_time": "2022-12-24T15:45:25.039Z"
   },
   {
    "duration": 21,
    "start_time": "2022-12-24T15:45:25.046Z"
   },
   {
    "duration": 12,
    "start_time": "2022-12-24T15:45:25.069Z"
   },
   {
    "duration": 35,
    "start_time": "2022-12-24T15:45:25.082Z"
   },
   {
    "duration": 24,
    "start_time": "2022-12-24T15:45:25.119Z"
   },
   {
    "duration": 517,
    "start_time": "2022-12-24T15:45:25.145Z"
   },
   {
    "duration": 8,
    "start_time": "2022-12-24T15:45:25.663Z"
   },
   {
    "duration": 181,
    "start_time": "2022-12-24T15:45:25.672Z"
   },
   {
    "duration": 12,
    "start_time": "2022-12-24T15:45:25.855Z"
   },
   {
    "duration": 541,
    "start_time": "2022-12-24T15:45:25.869Z"
   },
   {
    "duration": 7,
    "start_time": "2022-12-24T15:45:26.412Z"
   },
   {
    "duration": 118,
    "start_time": "2022-12-24T15:45:26.420Z"
   },
   {
    "duration": 11,
    "start_time": "2022-12-24T15:45:26.539Z"
   },
   {
    "duration": 557,
    "start_time": "2022-12-24T15:45:26.552Z"
   },
   {
    "duration": 8,
    "start_time": "2022-12-24T15:45:27.110Z"
   },
   {
    "duration": 121,
    "start_time": "2022-12-24T15:45:27.120Z"
   },
   {
    "duration": 1147,
    "start_time": "2022-12-24T15:45:27.243Z"
   },
   {
    "duration": 703,
    "start_time": "2022-12-24T15:45:28.391Z"
   },
   {
    "duration": 22,
    "start_time": "2022-12-24T15:45:29.095Z"
   },
   {
    "duration": 147,
    "start_time": "2022-12-24T15:45:29.119Z"
   },
   {
    "duration": 4,
    "start_time": "2022-12-24T15:45:29.268Z"
   },
   {
    "duration": 48,
    "start_time": "2022-12-24T15:45:29.274Z"
   },
   {
    "duration": 10414,
    "start_time": "2022-12-24T15:45:29.323Z"
   },
   {
    "duration": 224466,
    "start_time": "2022-12-24T15:45:39.739Z"
   },
   {
    "duration": 0,
    "start_time": "2022-12-24T15:49:24.207Z"
   },
   {
    "duration": 0,
    "start_time": "2022-12-24T15:49:24.209Z"
   },
   {
    "duration": 9690,
    "start_time": "2022-12-24T15:49:25.155Z"
   },
   {
    "duration": 4996,
    "start_time": "2022-12-24T15:52:35.501Z"
   },
   {
    "duration": 7804362,
    "start_time": "2022-12-24T15:52:52.230Z"
   },
   {
    "duration": 9,
    "start_time": "2022-12-24T18:02:56.594Z"
   },
   {
    "duration": 10,
    "start_time": "2022-12-24T18:03:19.438Z"
   },
   {
    "duration": 6,
    "start_time": "2022-12-24T18:03:36.220Z"
   },
   {
    "duration": 39,
    "start_time": "2022-12-24T18:06:46.713Z"
   },
   {
    "duration": 12,
    "start_time": "2022-12-24T18:06:53.737Z"
   },
   {
    "duration": 0,
    "start_time": "2022-12-24T18:10:48.491Z"
   },
   {
    "duration": 0,
    "start_time": "2022-12-24T18:10:48.492Z"
   },
   {
    "duration": 0,
    "start_time": "2022-12-24T18:10:48.494Z"
   },
   {
    "duration": 0,
    "start_time": "2022-12-24T18:10:48.494Z"
   },
   {
    "duration": 69,
    "start_time": "2022-12-24T18:11:11.381Z"
   },
   {
    "duration": 10,
    "start_time": "2022-12-24T18:11:11.973Z"
   },
   {
    "duration": 1366,
    "start_time": "2022-12-24T18:23:26.862Z"
   },
   {
    "duration": 3,
    "start_time": "2022-12-24T18:23:28.230Z"
   },
   {
    "duration": 737,
    "start_time": "2022-12-24T18:23:28.234Z"
   },
   {
    "duration": 23,
    "start_time": "2022-12-24T18:23:28.973Z"
   },
   {
    "duration": 18,
    "start_time": "2022-12-24T18:23:28.998Z"
   },
   {
    "duration": 19,
    "start_time": "2022-12-24T18:23:29.036Z"
   },
   {
    "duration": 26,
    "start_time": "2022-12-24T18:23:29.057Z"
   },
   {
    "duration": 11,
    "start_time": "2022-12-24T18:23:29.085Z"
   },
   {
    "duration": 16,
    "start_time": "2022-12-24T18:23:29.097Z"
   },
   {
    "duration": 54,
    "start_time": "2022-12-24T18:23:29.115Z"
   },
   {
    "duration": 2,
    "start_time": "2022-12-24T18:23:29.171Z"
   },
   {
    "duration": 10,
    "start_time": "2022-12-24T18:23:29.175Z"
   },
   {
    "duration": 13,
    "start_time": "2022-12-24T18:23:29.186Z"
   },
   {
    "duration": 17,
    "start_time": "2022-12-24T18:23:29.202Z"
   },
   {
    "duration": 19,
    "start_time": "2022-12-24T18:23:29.220Z"
   },
   {
    "duration": 41,
    "start_time": "2022-12-24T18:23:29.240Z"
   },
   {
    "duration": 11,
    "start_time": "2022-12-24T18:23:29.283Z"
   },
   {
    "duration": 540,
    "start_time": "2022-12-24T18:23:29.295Z"
   },
   {
    "duration": 8,
    "start_time": "2022-12-24T18:23:29.837Z"
   },
   {
    "duration": 182,
    "start_time": "2022-12-24T18:23:29.846Z"
   },
   {
    "duration": 13,
    "start_time": "2022-12-24T18:23:30.037Z"
   },
   {
    "duration": 578,
    "start_time": "2022-12-24T18:23:30.051Z"
   },
   {
    "duration": 11,
    "start_time": "2022-12-24T18:23:30.630Z"
   },
   {
    "duration": 190,
    "start_time": "2022-12-24T18:23:30.642Z"
   },
   {
    "duration": 13,
    "start_time": "2022-12-24T18:23:30.835Z"
   },
   {
    "duration": 613,
    "start_time": "2022-12-24T18:23:30.850Z"
   },
   {
    "duration": 8,
    "start_time": "2022-12-24T18:23:31.465Z"
   },
   {
    "duration": 123,
    "start_time": "2022-12-24T18:23:31.474Z"
   },
   {
    "duration": 1328,
    "start_time": "2022-12-24T18:23:31.599Z"
   },
   {
    "duration": 761,
    "start_time": "2022-12-24T18:23:32.929Z"
   },
   {
    "duration": 21,
    "start_time": "2022-12-24T18:23:33.692Z"
   },
   {
    "duration": 139,
    "start_time": "2022-12-24T18:23:33.714Z"
   },
   {
    "duration": 3,
    "start_time": "2022-12-24T18:23:33.855Z"
   },
   {
    "duration": 52,
    "start_time": "2022-12-24T18:23:33.860Z"
   },
   {
    "duration": 10428,
    "start_time": "2022-12-24T18:23:33.913Z"
   },
   {
    "duration": 163594,
    "start_time": "2022-12-24T18:23:44.343Z"
   },
   {
    "duration": 9,
    "start_time": "2022-12-24T18:26:27.939Z"
   },
   {
    "duration": 0,
    "start_time": "2022-12-24T18:26:27.950Z"
   },
   {
    "duration": 0,
    "start_time": "2022-12-24T18:26:27.951Z"
   },
   {
    "duration": 72975,
    "start_time": "2022-12-24T18:26:38.616Z"
   },
   {
    "duration": 9,
    "start_time": "2022-12-24T18:27:51.593Z"
   },
   {
    "duration": 96622,
    "start_time": "2022-12-24T18:27:52.442Z"
   },
   {
    "duration": 91326,
    "start_time": "2022-12-24T18:29:30.222Z"
   },
   {
    "duration": 4,
    "start_time": "2022-12-24T18:31:15.060Z"
   },
   {
    "duration": 45343,
    "start_time": "2022-12-24T18:34:10.875Z"
   },
   {
    "duration": 45669,
    "start_time": "2022-12-24T18:34:56.220Z"
   },
   {
    "duration": 4,
    "start_time": "2022-12-24T18:35:54.915Z"
   },
   {
    "duration": 4,
    "start_time": "2022-12-24T18:36:28.975Z"
   },
   {
    "duration": 9729,
    "start_time": "2022-12-24T18:36:56.856Z"
   },
   {
    "duration": 49516,
    "start_time": "2022-12-24T18:39:03.500Z"
   },
   {
    "duration": 48843,
    "start_time": "2022-12-24T18:39:53.019Z"
   },
   {
    "duration": 4,
    "start_time": "2022-12-24T18:40:41.864Z"
   },
   {
    "duration": 11304,
    "start_time": "2022-12-24T18:40:41.871Z"
   },
   {
    "duration": 4859,
    "start_time": "2022-12-24T18:43:43.814Z"
   },
   {
    "duration": 5103,
    "start_time": "2022-12-24T18:43:48.675Z"
   },
   {
    "duration": 4,
    "start_time": "2022-12-24T18:43:53.780Z"
   },
   {
    "duration": 36,
    "start_time": "2022-12-24T18:43:53.786Z"
   },
   {
    "duration": 0,
    "start_time": "2022-12-24T18:43:53.824Z"
   },
   {
    "duration": 0,
    "start_time": "2022-12-24T18:43:53.825Z"
   },
   {
    "duration": 0,
    "start_time": "2022-12-24T18:43:53.827Z"
   },
   {
    "duration": 48365,
    "start_time": "2022-12-24T18:44:08.235Z"
   },
   {
    "duration": 47810,
    "start_time": "2022-12-24T18:44:56.603Z"
   },
   {
    "duration": 3,
    "start_time": "2022-12-24T18:45:44.416Z"
   },
   {
    "duration": 54,
    "start_time": "2022-12-24T18:47:48.020Z"
   },
   {
    "duration": 1423,
    "start_time": "2022-12-24T18:59:07.196Z"
   },
   {
    "duration": 3,
    "start_time": "2022-12-24T18:59:08.621Z"
   },
   {
    "duration": 743,
    "start_time": "2022-12-24T18:59:08.625Z"
   },
   {
    "duration": 25,
    "start_time": "2022-12-24T18:59:09.370Z"
   },
   {
    "duration": 37,
    "start_time": "2022-12-24T18:59:09.398Z"
   },
   {
    "duration": 20,
    "start_time": "2022-12-24T18:59:09.437Z"
   },
   {
    "duration": 23,
    "start_time": "2022-12-24T18:59:09.459Z"
   },
   {
    "duration": 13,
    "start_time": "2022-12-24T18:59:09.484Z"
   },
   {
    "duration": 45,
    "start_time": "2022-12-24T18:59:09.498Z"
   },
   {
    "duration": 38,
    "start_time": "2022-12-24T18:59:09.545Z"
   },
   {
    "duration": 2,
    "start_time": "2022-12-24T18:59:09.585Z"
   },
   {
    "duration": 19,
    "start_time": "2022-12-24T18:59:09.589Z"
   },
   {
    "duration": 10,
    "start_time": "2022-12-24T18:59:09.609Z"
   },
   {
    "duration": 9,
    "start_time": "2022-12-24T18:59:09.635Z"
   },
   {
    "duration": 34,
    "start_time": "2022-12-24T18:59:09.645Z"
   },
   {
    "duration": 79,
    "start_time": "2022-12-24T18:59:09.681Z"
   },
   {
    "duration": 15,
    "start_time": "2022-12-24T18:59:09.762Z"
   },
   {
    "duration": 589,
    "start_time": "2022-12-24T18:59:09.779Z"
   },
   {
    "duration": 234,
    "start_time": "2022-12-24T18:59:10.370Z"
   },
   {
    "duration": 0,
    "start_time": "2022-12-24T18:59:10.607Z"
   },
   {
    "duration": 0,
    "start_time": "2022-12-24T18:59:10.609Z"
   },
   {
    "duration": 0,
    "start_time": "2022-12-24T18:59:10.610Z"
   },
   {
    "duration": 0,
    "start_time": "2022-12-24T18:59:10.612Z"
   },
   {
    "duration": 0,
    "start_time": "2022-12-24T18:59:10.613Z"
   },
   {
    "duration": 0,
    "start_time": "2022-12-24T18:59:10.614Z"
   },
   {
    "duration": 0,
    "start_time": "2022-12-24T18:59:10.614Z"
   },
   {
    "duration": 0,
    "start_time": "2022-12-24T18:59:10.615Z"
   },
   {
    "duration": 0,
    "start_time": "2022-12-24T18:59:10.617Z"
   },
   {
    "duration": 0,
    "start_time": "2022-12-24T18:59:10.618Z"
   },
   {
    "duration": 0,
    "start_time": "2022-12-24T18:59:10.619Z"
   },
   {
    "duration": 0,
    "start_time": "2022-12-24T18:59:10.620Z"
   },
   {
    "duration": 0,
    "start_time": "2022-12-24T18:59:10.620Z"
   },
   {
    "duration": 0,
    "start_time": "2022-12-24T18:59:10.621Z"
   },
   {
    "duration": 0,
    "start_time": "2022-12-24T18:59:10.621Z"
   },
   {
    "duration": 0,
    "start_time": "2022-12-24T18:59:10.622Z"
   },
   {
    "duration": 0,
    "start_time": "2022-12-24T18:59:10.623Z"
   },
   {
    "duration": 0,
    "start_time": "2022-12-24T18:59:10.623Z"
   },
   {
    "duration": 0,
    "start_time": "2022-12-24T18:59:10.636Z"
   },
   {
    "duration": 0,
    "start_time": "2022-12-24T18:59:10.638Z"
   },
   {
    "duration": 0,
    "start_time": "2022-12-24T18:59:10.639Z"
   },
   {
    "duration": 0,
    "start_time": "2022-12-24T18:59:10.641Z"
   },
   {
    "duration": 0,
    "start_time": "2022-12-24T18:59:10.642Z"
   },
   {
    "duration": 0,
    "start_time": "2022-12-24T18:59:10.644Z"
   },
   {
    "duration": 52,
    "start_time": "2022-12-24T19:00:02.711Z"
   },
   {
    "duration": 39,
    "start_time": "2022-12-24T19:00:24.391Z"
   },
   {
    "duration": 55,
    "start_time": "2022-12-24T19:02:41.704Z"
   },
   {
    "duration": 51,
    "start_time": "2022-12-24T19:03:07.627Z"
   },
   {
    "duration": 15,
    "start_time": "2022-12-24T19:03:25.392Z"
   },
   {
    "duration": 1370,
    "start_time": "2022-12-24T19:04:46.146Z"
   },
   {
    "duration": 3,
    "start_time": "2022-12-24T19:04:47.517Z"
   },
   {
    "duration": 752,
    "start_time": "2022-12-24T19:04:47.521Z"
   },
   {
    "duration": 22,
    "start_time": "2022-12-24T19:04:48.274Z"
   },
   {
    "duration": 36,
    "start_time": "2022-12-24T19:04:48.298Z"
   },
   {
    "duration": 37,
    "start_time": "2022-12-24T19:04:48.339Z"
   },
   {
    "duration": 20,
    "start_time": "2022-12-24T19:04:48.378Z"
   },
   {
    "duration": 13,
    "start_time": "2022-12-24T19:04:48.400Z"
   },
   {
    "duration": 19,
    "start_time": "2022-12-24T19:04:48.415Z"
   },
   {
    "duration": 56,
    "start_time": "2022-12-24T19:04:48.439Z"
   },
   {
    "duration": 2,
    "start_time": "2022-12-24T19:04:48.496Z"
   },
   {
    "duration": 21,
    "start_time": "2022-12-24T19:04:48.500Z"
   },
   {
    "duration": 33,
    "start_time": "2022-12-24T19:04:48.523Z"
   },
   {
    "duration": 23,
    "start_time": "2022-12-24T19:04:48.559Z"
   },
   {
    "duration": 21,
    "start_time": "2022-12-24T19:04:48.584Z"
   },
   {
    "duration": 49,
    "start_time": "2022-12-24T19:04:48.607Z"
   },
   {
    "duration": 15,
    "start_time": "2022-12-24T19:04:48.658Z"
   },
   {
    "duration": 609,
    "start_time": "2022-12-24T19:04:48.675Z"
   },
   {
    "duration": 109,
    "start_time": "2022-12-24T19:04:49.286Z"
   },
   {
    "duration": 120,
    "start_time": "2022-12-24T19:04:49.397Z"
   },
   {
    "duration": 23,
    "start_time": "2022-12-24T19:04:49.519Z"
   },
   {
    "duration": 564,
    "start_time": "2022-12-24T19:04:49.543Z"
   },
   {
    "duration": 31,
    "start_time": "2022-12-24T19:04:50.110Z"
   },
   {
    "duration": 115,
    "start_time": "2022-12-24T19:04:50.148Z"
   },
   {
    "duration": 11,
    "start_time": "2022-12-24T19:04:50.265Z"
   },
   {
    "duration": 597,
    "start_time": "2022-12-24T19:04:50.278Z"
   },
   {
    "duration": 16,
    "start_time": "2022-12-24T19:04:50.877Z"
   },
   {
    "duration": 120,
    "start_time": "2022-12-24T19:04:50.895Z"
   },
   {
    "duration": 1283,
    "start_time": "2022-12-24T19:04:51.017Z"
   },
   {
    "duration": 778,
    "start_time": "2022-12-24T19:04:52.302Z"
   },
   {
    "duration": 20,
    "start_time": "2022-12-24T19:04:53.081Z"
   },
   {
    "duration": 149,
    "start_time": "2022-12-24T19:04:53.103Z"
   },
   {
    "duration": 4,
    "start_time": "2022-12-24T19:04:53.254Z"
   },
   {
    "duration": 50,
    "start_time": "2022-12-24T19:04:53.259Z"
   },
   {
    "duration": 6768,
    "start_time": "2022-12-24T19:04:53.310Z"
   },
   {
    "duration": 5784,
    "start_time": "2022-12-24T19:05:00.080Z"
   },
   {
    "duration": 3,
    "start_time": "2022-12-24T19:05:05.866Z"
   },
   {
    "duration": 45781,
    "start_time": "2022-12-24T19:05:05.871Z"
   },
   {
    "duration": 45756,
    "start_time": "2022-12-24T19:05:51.653Z"
   },
   {
    "duration": 4,
    "start_time": "2022-12-24T19:06:37.411Z"
   },
   {
    "duration": 457346,
    "start_time": "2022-12-24T19:06:37.418Z"
   },
   {
    "duration": 1540,
    "start_time": "2022-12-24T19:17:21.817Z"
   },
   {
    "duration": 3,
    "start_time": "2022-12-24T19:17:23.359Z"
   },
   {
    "duration": 792,
    "start_time": "2022-12-24T19:17:23.363Z"
   },
   {
    "duration": 23,
    "start_time": "2022-12-24T19:17:24.156Z"
   },
   {
    "duration": 22,
    "start_time": "2022-12-24T19:17:24.182Z"
   },
   {
    "duration": 40,
    "start_time": "2022-12-24T19:17:24.206Z"
   },
   {
    "duration": 38,
    "start_time": "2022-12-24T19:17:24.248Z"
   },
   {
    "duration": 12,
    "start_time": "2022-12-24T19:17:24.288Z"
   },
   {
    "duration": 31,
    "start_time": "2022-12-24T19:17:24.301Z"
   },
   {
    "duration": 55,
    "start_time": "2022-12-24T19:17:24.334Z"
   },
   {
    "duration": 3,
    "start_time": "2022-12-24T19:17:24.390Z"
   },
   {
    "duration": 14,
    "start_time": "2022-12-24T19:17:24.396Z"
   },
   {
    "duration": 10,
    "start_time": "2022-12-24T19:17:24.411Z"
   },
   {
    "duration": 51,
    "start_time": "2022-12-24T19:17:24.426Z"
   },
   {
    "duration": 14,
    "start_time": "2022-12-24T19:17:24.478Z"
   },
   {
    "duration": 58,
    "start_time": "2022-12-24T19:17:24.493Z"
   },
   {
    "duration": 19,
    "start_time": "2022-12-24T19:17:24.553Z"
   },
   {
    "duration": 598,
    "start_time": "2022-12-24T19:17:24.574Z"
   },
   {
    "duration": 103,
    "start_time": "2022-12-24T19:17:25.173Z"
   },
   {
    "duration": 124,
    "start_time": "2022-12-24T19:17:25.278Z"
   },
   {
    "duration": 13,
    "start_time": "2022-12-24T19:17:25.404Z"
   },
   {
    "duration": 579,
    "start_time": "2022-12-24T19:17:25.419Z"
   },
   {
    "duration": 18,
    "start_time": "2022-12-24T19:17:26.000Z"
   },
   {
    "duration": 142,
    "start_time": "2022-12-24T19:17:26.020Z"
   },
   {
    "duration": 12,
    "start_time": "2022-12-24T19:17:26.164Z"
   },
   {
    "duration": 646,
    "start_time": "2022-12-24T19:17:26.177Z"
   },
   {
    "duration": 28,
    "start_time": "2022-12-24T19:17:26.825Z"
   },
   {
    "duration": 131,
    "start_time": "2022-12-24T19:17:26.855Z"
   },
   {
    "duration": 1324,
    "start_time": "2022-12-24T19:17:26.988Z"
   },
   {
    "duration": 734,
    "start_time": "2022-12-24T19:17:28.314Z"
   },
   {
    "duration": 21,
    "start_time": "2022-12-24T19:17:29.050Z"
   },
   {
    "duration": 159,
    "start_time": "2022-12-24T19:17:29.073Z"
   },
   {
    "duration": 9,
    "start_time": "2022-12-24T19:17:29.235Z"
   },
   {
    "duration": 41,
    "start_time": "2022-12-24T19:17:29.248Z"
   },
   {
    "duration": 136,
    "start_time": "2022-12-24T19:19:45.222Z"
   },
   {
    "duration": 10,
    "start_time": "2022-12-24T19:20:17.348Z"
   },
   {
    "duration": 11,
    "start_time": "2022-12-24T19:20:51.266Z"
   },
   {
    "duration": 5332,
    "start_time": "2022-12-24T19:20:56.260Z"
   },
   {
    "duration": 5854,
    "start_time": "2022-12-24T19:21:01.595Z"
   },
   {
    "duration": 3,
    "start_time": "2022-12-24T19:21:07.451Z"
   },
   {
    "duration": 43210,
    "start_time": "2022-12-24T19:21:32.074Z"
   },
   {
    "duration": 42846,
    "start_time": "2022-12-24T19:22:15.287Z"
   },
   {
    "duration": 4,
    "start_time": "2022-12-24T19:22:58.135Z"
   },
   {
    "duration": 138933,
    "start_time": "2022-12-24T19:22:58.140Z"
   },
   {
    "duration": 0,
    "start_time": "2022-12-24T19:26:41.735Z"
   },
   {
    "duration": 0,
    "start_time": "2022-12-24T19:26:41.737Z"
   },
   {
    "duration": 0,
    "start_time": "2022-12-24T19:26:41.738Z"
   },
   {
    "duration": 4,
    "start_time": "2022-12-24T19:26:44.766Z"
   },
   {
    "duration": 4,
    "start_time": "2022-12-24T19:26:50.761Z"
   },
   {
    "duration": 14,
    "start_time": "2022-12-24T19:28:14.622Z"
   },
   {
    "duration": 4819,
    "start_time": "2022-12-24T19:28:39.849Z"
   },
   {
    "duration": 4873,
    "start_time": "2022-12-24T19:28:44.670Z"
   },
   {
    "duration": 4,
    "start_time": "2022-12-24T19:28:49.544Z"
   },
   {
    "duration": 43240,
    "start_time": "2022-12-24T19:28:49.550Z"
   },
   {
    "duration": 42934,
    "start_time": "2022-12-24T19:29:32.791Z"
   },
   {
    "duration": 12,
    "start_time": "2022-12-24T19:30:15.727Z"
   },
   {
    "duration": 2113561,
    "start_time": "2022-12-24T19:30:50.991Z"
   },
   {
    "duration": 2006199,
    "start_time": "2022-12-24T20:06:04.554Z"
   },
   {
    "duration": 5,
    "start_time": "2022-12-24T20:39:30.754Z"
   },
   {
    "duration": 46,
    "start_time": "2022-12-24T20:49:37.817Z"
   },
   {
    "duration": 39,
    "start_time": "2022-12-24T20:50:32.163Z"
   },
   {
    "duration": 12,
    "start_time": "2022-12-24T20:51:16.818Z"
   },
   {
    "duration": 18,
    "start_time": "2022-12-24T20:51:24.620Z"
   },
   {
    "duration": 42,
    "start_time": "2022-12-24T20:51:54.102Z"
   },
   {
    "duration": 91,
    "start_time": "2022-12-25T21:13:45.512Z"
   },
   {
    "duration": 71,
    "start_time": "2022-12-25T21:15:57.328Z"
   },
   {
    "duration": 4,
    "start_time": "2022-12-25T21:29:35.499Z"
   },
   {
    "duration": 194,
    "start_time": "2022-12-25T21:29:54.173Z"
   },
   {
    "duration": 58,
    "start_time": "2022-12-25T21:59:56.863Z"
   },
   {
    "duration": 1548,
    "start_time": "2022-12-25T22:01:23.105Z"
   },
   {
    "duration": 2,
    "start_time": "2022-12-25T22:01:24.655Z"
   },
   {
    "duration": 2958,
    "start_time": "2022-12-25T22:01:24.659Z"
   },
   {
    "duration": 24,
    "start_time": "2022-12-25T22:01:27.620Z"
   },
   {
    "duration": 21,
    "start_time": "2022-12-25T22:01:27.646Z"
   },
   {
    "duration": 31,
    "start_time": "2022-12-25T22:01:27.670Z"
   },
   {
    "duration": 22,
    "start_time": "2022-12-25T22:01:27.703Z"
   },
   {
    "duration": 14,
    "start_time": "2022-12-25T22:01:27.727Z"
   },
   {
    "duration": 19,
    "start_time": "2022-12-25T22:01:27.743Z"
   },
   {
    "duration": 66,
    "start_time": "2022-12-25T22:01:27.766Z"
   },
   {
    "duration": 3,
    "start_time": "2022-12-25T22:01:27.834Z"
   },
   {
    "duration": 13,
    "start_time": "2022-12-25T22:01:27.839Z"
   },
   {
    "duration": 22,
    "start_time": "2022-12-25T22:01:27.854Z"
   },
   {
    "duration": 16,
    "start_time": "2022-12-25T22:01:27.877Z"
   },
   {
    "duration": 15,
    "start_time": "2022-12-25T22:01:27.897Z"
   },
   {
    "duration": 39,
    "start_time": "2022-12-25T22:01:27.913Z"
   },
   {
    "duration": 13,
    "start_time": "2022-12-25T22:01:27.954Z"
   },
   {
    "duration": 632,
    "start_time": "2022-12-25T22:01:27.969Z"
   },
   {
    "duration": 16,
    "start_time": "2022-12-25T22:01:28.603Z"
   },
   {
    "duration": 122,
    "start_time": "2022-12-25T22:01:28.620Z"
   },
   {
    "duration": 13,
    "start_time": "2022-12-25T22:01:28.743Z"
   },
   {
    "duration": 568,
    "start_time": "2022-12-25T22:01:28.758Z"
   },
   {
    "duration": 17,
    "start_time": "2022-12-25T22:01:29.327Z"
   },
   {
    "duration": 136,
    "start_time": "2022-12-25T22:01:29.346Z"
   },
   {
    "duration": 16,
    "start_time": "2022-12-25T22:01:29.483Z"
   },
   {
    "duration": 607,
    "start_time": "2022-12-25T22:01:29.501Z"
   },
   {
    "duration": 16,
    "start_time": "2022-12-25T22:01:30.110Z"
   },
   {
    "duration": 135,
    "start_time": "2022-12-25T22:01:30.129Z"
   },
   {
    "duration": 1276,
    "start_time": "2022-12-25T22:01:30.266Z"
   },
   {
    "duration": 744,
    "start_time": "2022-12-25T22:01:31.544Z"
   },
   {
    "duration": 24,
    "start_time": "2022-12-25T22:01:32.289Z"
   },
   {
    "duration": 135,
    "start_time": "2022-12-25T22:01:32.315Z"
   },
   {
    "duration": 3,
    "start_time": "2022-12-25T22:01:32.452Z"
   },
   {
    "duration": 43,
    "start_time": "2022-12-25T22:01:32.457Z"
   },
   {
    "duration": 10,
    "start_time": "2022-12-25T22:01:32.502Z"
   },
   {
    "duration": 1478,
    "start_time": "2022-12-25T22:02:17.028Z"
   },
   {
    "duration": 1239,
    "start_time": "2022-12-25T22:02:19.266Z"
   },
   {
    "duration": 92,
    "start_time": "2022-12-25T22:02:20.508Z"
   },
   {
    "duration": 4,
    "start_time": "2022-12-25T22:02:59.706Z"
   },
   {
    "duration": 1577,
    "start_time": "2022-12-25T22:04:20.620Z"
   },
   {
    "duration": 1333,
    "start_time": "2022-12-25T22:04:22.474Z"
   },
   {
    "duration": 96,
    "start_time": "2022-12-25T22:04:23.902Z"
   },
   {
    "duration": 776,
    "start_time": "2022-12-25T22:09:31.620Z"
   },
   {
    "duration": 116,
    "start_time": "2022-12-25T22:09:41.412Z"
   },
   {
    "duration": 133,
    "start_time": "2022-12-25T22:13:07.996Z"
   },
   {
    "duration": 123,
    "start_time": "2022-12-25T22:13:33.566Z"
   },
   {
    "duration": 124,
    "start_time": "2022-12-25T22:13:36.844Z"
   },
   {
    "duration": 350,
    "start_time": "2022-12-25T22:15:04.670Z"
   },
   {
    "duration": 333,
    "start_time": "2022-12-25T22:16:37.091Z"
   },
   {
    "duration": 140,
    "start_time": "2022-12-25T22:17:04.038Z"
   },
   {
    "duration": 127,
    "start_time": "2022-12-25T22:17:14.014Z"
   },
   {
    "duration": 435,
    "start_time": "2022-12-25T22:17:41.481Z"
   },
   {
    "duration": 134,
    "start_time": "2022-12-25T22:20:05.348Z"
   },
   {
    "duration": 137,
    "start_time": "2022-12-25T22:20:19.408Z"
   },
   {
    "duration": 131,
    "start_time": "2022-12-25T22:20:44.033Z"
   },
   {
    "duration": 530,
    "start_time": "2022-12-25T22:22:35.694Z"
   },
   {
    "duration": 441,
    "start_time": "2022-12-25T22:22:52.120Z"
   },
   {
    "duration": 407,
    "start_time": "2022-12-25T22:25:39.335Z"
   },
   {
    "duration": 424,
    "start_time": "2022-12-25T22:26:02.800Z"
   },
   {
    "duration": 546,
    "start_time": "2022-12-25T22:26:38.693Z"
   },
   {
    "duration": 382,
    "start_time": "2022-12-25T22:26:53.158Z"
   },
   {
    "duration": 380,
    "start_time": "2022-12-25T22:27:19.471Z"
   },
   {
    "duration": 476,
    "start_time": "2022-12-25T22:29:38.223Z"
   },
   {
    "duration": 769,
    "start_time": "2022-12-25T22:29:53.990Z"
   },
   {
    "duration": 582,
    "start_time": "2022-12-25T22:30:01.217Z"
   },
   {
    "duration": 482,
    "start_time": "2022-12-25T22:31:57.161Z"
   },
   {
    "duration": 621,
    "start_time": "2022-12-25T22:32:07.450Z"
   },
   {
    "duration": 535,
    "start_time": "2022-12-25T22:32:18.132Z"
   },
   {
    "duration": 660,
    "start_time": "2022-12-25T22:32:35.844Z"
   },
   {
    "duration": 566,
    "start_time": "2022-12-25T22:32:52.098Z"
   },
   {
    "duration": 534,
    "start_time": "2022-12-25T22:33:40.712Z"
   },
   {
    "duration": 13,
    "start_time": "2022-12-25T22:34:09.352Z"
   },
   {
    "duration": 373,
    "start_time": "2022-12-25T22:34:29.793Z"
   },
   {
    "duration": 368,
    "start_time": "2022-12-25T22:35:32.851Z"
   },
   {
    "duration": 209,
    "start_time": "2022-12-25T22:37:45.330Z"
   },
   {
    "duration": 199,
    "start_time": "2022-12-25T22:39:06.925Z"
   },
   {
    "duration": 212,
    "start_time": "2022-12-25T22:39:13.109Z"
   },
   {
    "duration": 280,
    "start_time": "2022-12-25T22:39:34.384Z"
   },
   {
    "duration": 676,
    "start_time": "2022-12-25T22:39:48.413Z"
   },
   {
    "duration": 523,
    "start_time": "2022-12-25T22:40:14.183Z"
   },
   {
    "duration": 507,
    "start_time": "2022-12-25T22:40:28.679Z"
   },
   {
    "duration": 461,
    "start_time": "2022-12-25T22:41:58.337Z"
   },
   {
    "duration": 693,
    "start_time": "2022-12-25T22:43:04.663Z"
   },
   {
    "duration": 1350,
    "start_time": "2022-12-25T22:45:36.814Z"
   },
   {
    "duration": 3,
    "start_time": "2022-12-25T22:45:38.166Z"
   },
   {
    "duration": 697,
    "start_time": "2022-12-25T22:45:38.171Z"
   },
   {
    "duration": 32,
    "start_time": "2022-12-25T22:45:38.869Z"
   },
   {
    "duration": 20,
    "start_time": "2022-12-25T22:45:38.903Z"
   },
   {
    "duration": 24,
    "start_time": "2022-12-25T22:45:38.924Z"
   },
   {
    "duration": 17,
    "start_time": "2022-12-25T22:45:38.949Z"
   },
   {
    "duration": 40,
    "start_time": "2022-12-25T22:45:38.968Z"
   },
   {
    "duration": 22,
    "start_time": "2022-12-25T22:45:39.009Z"
   },
   {
    "duration": 87,
    "start_time": "2022-12-25T22:45:39.033Z"
   },
   {
    "duration": 3,
    "start_time": "2022-12-25T22:45:39.122Z"
   },
   {
    "duration": 11,
    "start_time": "2022-12-25T22:45:39.126Z"
   },
   {
    "duration": 5,
    "start_time": "2022-12-25T22:45:39.138Z"
   },
   {
    "duration": 10,
    "start_time": "2022-12-25T22:45:39.199Z"
   },
   {
    "duration": 10,
    "start_time": "2022-12-25T22:45:39.210Z"
   },
   {
    "duration": 87,
    "start_time": "2022-12-25T22:45:39.222Z"
   },
   {
    "duration": 13,
    "start_time": "2022-12-25T22:45:39.310Z"
   },
   {
    "duration": 1088,
    "start_time": "2022-12-25T22:45:39.324Z"
   },
   {
    "duration": 16,
    "start_time": "2022-12-25T22:45:40.414Z"
   },
   {
    "duration": 408,
    "start_time": "2022-12-25T22:45:40.432Z"
   },
   {
    "duration": 64,
    "start_time": "2022-12-25T22:45:40.842Z"
   },
   {
    "duration": 495,
    "start_time": "2022-12-25T22:45:40.908Z"
   },
   {
    "duration": 15,
    "start_time": "2022-12-25T22:45:41.405Z"
   },
   {
    "duration": 135,
    "start_time": "2022-12-25T22:45:41.421Z"
   },
   {
    "duration": 12,
    "start_time": "2022-12-25T22:45:41.558Z"
   },
   {
    "duration": 448,
    "start_time": "2022-12-25T22:45:41.571Z"
   },
   {
    "duration": 16,
    "start_time": "2022-12-25T22:45:42.020Z"
   },
   {
    "duration": 141,
    "start_time": "2022-12-25T22:45:42.037Z"
   },
   {
    "duration": 1212,
    "start_time": "2022-12-25T22:45:42.180Z"
   },
   {
    "duration": 685,
    "start_time": "2022-12-25T22:45:43.396Z"
   },
   {
    "duration": 27,
    "start_time": "2022-12-25T22:45:44.082Z"
   },
   {
    "duration": 132,
    "start_time": "2022-12-25T22:45:44.111Z"
   },
   {
    "duration": 3,
    "start_time": "2022-12-25T22:45:44.245Z"
   },
   {
    "duration": 46,
    "start_time": "2022-12-25T22:45:44.250Z"
   },
   {
    "duration": 10,
    "start_time": "2022-12-25T22:45:44.298Z"
   },
   {
    "duration": 1793,
    "start_time": "2022-12-25T22:45:44.310Z"
   },
   {
    "duration": 1492,
    "start_time": "2022-12-25T22:45:46.105Z"
   },
   {
    "duration": 9,
    "start_time": "2022-12-25T22:45:47.599Z"
   },
   {
    "duration": 40859,
    "start_time": "2022-12-25T22:45:47.609Z"
   },
   {
    "duration": 39960,
    "start_time": "2022-12-25T22:46:28.470Z"
   },
   {
    "duration": 5,
    "start_time": "2022-12-25T22:47:08.433Z"
   },
   {
    "duration": 1466,
    "start_time": "2022-12-25T22:47:35.465Z"
   },
   {
    "duration": 3,
    "start_time": "2022-12-25T22:47:36.932Z"
   },
   {
    "duration": 681,
    "start_time": "2022-12-25T22:47:36.936Z"
   },
   {
    "duration": 24,
    "start_time": "2022-12-25T22:47:37.619Z"
   },
   {
    "duration": 21,
    "start_time": "2022-12-25T22:47:37.645Z"
   },
   {
    "duration": 44,
    "start_time": "2022-12-25T22:47:37.668Z"
   },
   {
    "duration": 20,
    "start_time": "2022-12-25T22:47:37.714Z"
   },
   {
    "duration": 14,
    "start_time": "2022-12-25T22:47:37.736Z"
   },
   {
    "duration": 45,
    "start_time": "2022-12-25T22:47:37.752Z"
   },
   {
    "duration": 101,
    "start_time": "2022-12-25T22:47:37.800Z"
   },
   {
    "duration": 3,
    "start_time": "2022-12-25T22:47:37.903Z"
   },
   {
    "duration": 23,
    "start_time": "2022-12-25T22:47:37.908Z"
   },
   {
    "duration": 14,
    "start_time": "2022-12-25T22:47:37.932Z"
   },
   {
    "duration": 54,
    "start_time": "2022-12-25T22:47:37.947Z"
   },
   {
    "duration": 11,
    "start_time": "2022-12-25T22:47:38.003Z"
   },
   {
    "duration": 89,
    "start_time": "2022-12-25T22:47:38.015Z"
   },
   {
    "duration": 12,
    "start_time": "2022-12-25T22:47:38.105Z"
   },
   {
    "duration": 1080,
    "start_time": "2022-12-25T22:47:38.119Z"
   },
   {
    "duration": 15,
    "start_time": "2022-12-25T22:47:39.201Z"
   },
   {
    "duration": 426,
    "start_time": "2022-12-25T22:47:39.218Z"
   },
   {
    "duration": 58,
    "start_time": "2022-12-25T22:47:39.646Z"
   },
   {
    "duration": 549,
    "start_time": "2022-12-25T22:47:39.705Z"
   },
   {
    "duration": 18,
    "start_time": "2022-12-25T22:47:40.256Z"
   },
   {
    "duration": 170,
    "start_time": "2022-12-25T22:47:40.276Z"
   },
   {
    "duration": 11,
    "start_time": "2022-12-25T22:47:40.448Z"
   },
   {
    "duration": 504,
    "start_time": "2022-12-25T22:47:40.461Z"
   },
   {
    "duration": 16,
    "start_time": "2022-12-25T22:47:40.967Z"
   },
   {
    "duration": 148,
    "start_time": "2022-12-25T22:47:40.996Z"
   },
   {
    "duration": 1310,
    "start_time": "2022-12-25T22:47:41.146Z"
   },
   {
    "duration": 730,
    "start_time": "2022-12-25T22:47:42.458Z"
   },
   {
    "duration": 25,
    "start_time": "2022-12-25T22:47:43.191Z"
   },
   {
    "duration": 148,
    "start_time": "2022-12-25T22:47:43.219Z"
   },
   {
    "duration": 3,
    "start_time": "2022-12-25T22:47:43.368Z"
   },
   {
    "duration": 42,
    "start_time": "2022-12-25T22:47:43.373Z"
   },
   {
    "duration": 10,
    "start_time": "2022-12-25T22:47:43.416Z"
   },
   {
    "duration": 1379,
    "start_time": "2022-12-25T22:47:43.427Z"
   },
   {
    "duration": 1289,
    "start_time": "2022-12-25T22:47:44.808Z"
   },
   {
    "duration": 5,
    "start_time": "2022-12-25T22:47:46.101Z"
   },
   {
    "duration": 40852,
    "start_time": "2022-12-25T22:47:46.196Z"
   },
   {
    "duration": 39584,
    "start_time": "2022-12-25T22:48:27.050Z"
   },
   {
    "duration": 4,
    "start_time": "2022-12-25T22:49:06.635Z"
   },
   {
    "duration": 60893,
    "start_time": "2022-12-25T22:49:06.641Z"
   },
   {
    "duration": 1367,
    "start_time": "2022-12-25T22:50:14.104Z"
   },
   {
    "duration": 3,
    "start_time": "2022-12-25T22:50:15.473Z"
   },
   {
    "duration": 763,
    "start_time": "2022-12-25T22:50:15.477Z"
   },
   {
    "duration": 24,
    "start_time": "2022-12-25T22:50:16.242Z"
   },
   {
    "duration": 37,
    "start_time": "2022-12-25T22:50:16.267Z"
   },
   {
    "duration": 36,
    "start_time": "2022-12-25T22:50:16.305Z"
   },
   {
    "duration": 19,
    "start_time": "2022-12-25T22:50:16.343Z"
   },
   {
    "duration": 12,
    "start_time": "2022-12-25T22:50:16.364Z"
   },
   {
    "duration": 36,
    "start_time": "2022-12-25T22:50:16.378Z"
   },
   {
    "duration": 39,
    "start_time": "2022-12-25T22:50:16.416Z"
   },
   {
    "duration": 2,
    "start_time": "2022-12-25T22:50:16.457Z"
   },
   {
    "duration": 6,
    "start_time": "2022-12-25T22:50:16.496Z"
   },
   {
    "duration": 5,
    "start_time": "2022-12-25T22:50:16.504Z"
   },
   {
    "duration": 10,
    "start_time": "2022-12-25T22:50:16.511Z"
   },
   {
    "duration": 8,
    "start_time": "2022-12-25T22:50:16.523Z"
   },
   {
    "duration": 65,
    "start_time": "2022-12-25T22:50:16.533Z"
   },
   {
    "duration": 13,
    "start_time": "2022-12-25T22:50:16.600Z"
   },
   {
    "duration": 522,
    "start_time": "2022-12-25T22:50:16.614Z"
   },
   {
    "duration": 21,
    "start_time": "2022-12-25T22:50:17.139Z"
   },
   {
    "duration": 236,
    "start_time": "2022-12-25T22:50:17.162Z"
   },
   {
    "duration": 12,
    "start_time": "2022-12-25T22:50:17.399Z"
   },
   {
    "duration": 554,
    "start_time": "2022-12-25T22:50:17.413Z"
   },
   {
    "duration": 17,
    "start_time": "2022-12-25T22:50:17.969Z"
   },
   {
    "duration": 162,
    "start_time": "2022-12-25T22:50:17.997Z"
   },
   {
    "duration": 13,
    "start_time": "2022-12-25T22:50:18.161Z"
   },
   {
    "duration": 509,
    "start_time": "2022-12-25T22:50:18.175Z"
   },
   {
    "duration": 22,
    "start_time": "2022-12-25T22:50:18.686Z"
   },
   {
    "duration": 152,
    "start_time": "2022-12-25T22:50:18.711Z"
   },
   {
    "duration": 1279,
    "start_time": "2022-12-25T22:50:18.864Z"
   },
   {
    "duration": 724,
    "start_time": "2022-12-25T22:50:20.145Z"
   },
   {
    "duration": 27,
    "start_time": "2022-12-25T22:50:20.871Z"
   },
   {
    "duration": 143,
    "start_time": "2022-12-25T22:50:20.900Z"
   },
   {
    "duration": 4,
    "start_time": "2022-12-25T22:50:21.044Z"
   },
   {
    "duration": 37,
    "start_time": "2022-12-25T22:50:21.050Z"
   },
   {
    "duration": 11,
    "start_time": "2022-12-25T22:50:21.097Z"
   },
   {
    "duration": 1595,
    "start_time": "2022-12-25T22:50:21.110Z"
   },
   {
    "duration": 1810,
    "start_time": "2022-12-25T22:50:22.797Z"
   },
   {
    "duration": 90,
    "start_time": "2022-12-25T22:50:24.609Z"
   },
   {
    "duration": 44346,
    "start_time": "2022-12-25T22:50:24.700Z"
   },
   {
    "duration": 39480,
    "start_time": "2022-12-25T22:51:09.048Z"
   },
   {
    "duration": 4,
    "start_time": "2022-12-25T22:51:48.529Z"
   },
   {
    "duration": 48676,
    "start_time": "2022-12-25T22:51:48.535Z"
   },
   {
    "duration": 6392,
    "start_time": "2022-12-25T22:52:37.213Z"
   },
   {
    "duration": 11,
    "start_time": "2022-12-25T22:52:43.607Z"
   },
   {
    "duration": 0,
    "start_time": "2022-12-25T22:52:43.620Z"
   },
   {
    "duration": 0,
    "start_time": "2022-12-25T22:52:43.622Z"
   },
   {
    "duration": 353,
    "start_time": "2022-12-25T22:53:18.987Z"
   },
   {
    "duration": 415,
    "start_time": "2022-12-25T22:53:31.552Z"
   },
   {
    "duration": 363,
    "start_time": "2022-12-25T22:53:54.947Z"
   },
   {
    "duration": 540,
    "start_time": "2022-12-25T22:54:08.618Z"
   },
   {
    "duration": 495,
    "start_time": "2022-12-25T22:54:50.474Z"
   },
   {
    "duration": 147,
    "start_time": "2022-12-25T23:00:30.581Z"
   },
   {
    "duration": 1383,
    "start_time": "2022-12-25T23:01:27.667Z"
   },
   {
    "duration": 3,
    "start_time": "2022-12-25T23:01:29.052Z"
   },
   {
    "duration": 704,
    "start_time": "2022-12-25T23:01:29.056Z"
   },
   {
    "duration": 24,
    "start_time": "2022-12-25T23:01:29.762Z"
   },
   {
    "duration": 19,
    "start_time": "2022-12-25T23:01:29.797Z"
   },
   {
    "duration": 40,
    "start_time": "2022-12-25T23:01:29.817Z"
   },
   {
    "duration": 21,
    "start_time": "2022-12-25T23:01:29.859Z"
   },
   {
    "duration": 16,
    "start_time": "2022-12-25T23:01:29.881Z"
   },
   {
    "duration": 18,
    "start_time": "2022-12-25T23:01:29.899Z"
   },
   {
    "duration": 42,
    "start_time": "2022-12-25T23:01:29.920Z"
   },
   {
    "duration": 34,
    "start_time": "2022-12-25T23:01:29.963Z"
   },
   {
    "duration": 29,
    "start_time": "2022-12-25T23:01:29.999Z"
   },
   {
    "duration": 29,
    "start_time": "2022-12-25T23:01:30.030Z"
   },
   {
    "duration": 42,
    "start_time": "2022-12-25T23:01:30.061Z"
   },
   {
    "duration": 40,
    "start_time": "2022-12-25T23:01:30.104Z"
   },
   {
    "duration": 67,
    "start_time": "2022-12-25T23:01:30.146Z"
   },
   {
    "duration": 14,
    "start_time": "2022-12-25T23:01:30.215Z"
   },
   {
    "duration": 538,
    "start_time": "2022-12-25T23:01:30.230Z"
   },
   {
    "duration": 16,
    "start_time": "2022-12-25T23:01:30.770Z"
   },
   {
    "duration": 262,
    "start_time": "2022-12-25T23:01:30.797Z"
   },
   {
    "duration": 12,
    "start_time": "2022-12-25T23:01:31.061Z"
   },
   {
    "duration": 826,
    "start_time": "2022-12-25T23:01:31.074Z"
   },
   {
    "duration": 21,
    "start_time": "2022-12-25T23:01:31.903Z"
   },
   {
    "duration": 298,
    "start_time": "2022-12-25T23:01:31.927Z"
   },
   {
    "duration": 12,
    "start_time": "2022-12-25T23:01:32.227Z"
   },
   {
    "duration": 1004,
    "start_time": "2022-12-25T23:01:32.240Z"
   },
   {
    "duration": 16,
    "start_time": "2022-12-25T23:01:33.245Z"
   },
   {
    "duration": 156,
    "start_time": "2022-12-25T23:01:33.265Z"
   },
   {
    "duration": 1220,
    "start_time": "2022-12-25T23:01:33.423Z"
   },
   {
    "duration": 743,
    "start_time": "2022-12-25T23:01:34.645Z"
   },
   {
    "duration": 25,
    "start_time": "2022-12-25T23:01:35.390Z"
   },
   {
    "duration": 562,
    "start_time": "2022-12-25T23:01:35.416Z"
   },
   {
    "duration": 310,
    "start_time": "2022-12-25T23:01:35.980Z"
   },
   {
    "duration": 7,
    "start_time": "2022-12-25T23:01:36.291Z"
   },
   {
    "duration": 31,
    "start_time": "2022-12-25T23:01:36.300Z"
   },
   {
    "duration": 10,
    "start_time": "2022-12-25T23:01:36.333Z"
   },
   {
    "duration": 1352,
    "start_time": "2022-12-25T23:01:36.345Z"
   },
   {
    "duration": 1297,
    "start_time": "2022-12-25T23:01:37.700Z"
   },
   {
    "duration": 4,
    "start_time": "2022-12-25T23:01:38.999Z"
   },
   {
    "duration": 41849,
    "start_time": "2022-12-25T23:01:39.005Z"
   },
   {
    "duration": 39906,
    "start_time": "2022-12-25T23:02:20.856Z"
   },
   {
    "duration": 4,
    "start_time": "2022-12-25T23:03:00.764Z"
   },
   {
    "duration": 1390,
    "start_time": "2022-12-25T23:07:34.299Z"
   },
   {
    "duration": 5,
    "start_time": "2022-12-25T23:07:35.691Z"
   },
   {
    "duration": 731,
    "start_time": "2022-12-25T23:07:35.698Z"
   },
   {
    "duration": 23,
    "start_time": "2022-12-25T23:07:36.431Z"
   },
   {
    "duration": 19,
    "start_time": "2022-12-25T23:07:36.456Z"
   },
   {
    "duration": 39,
    "start_time": "2022-12-25T23:07:36.477Z"
   },
   {
    "duration": 28,
    "start_time": "2022-12-25T23:07:36.517Z"
   },
   {
    "duration": 12,
    "start_time": "2022-12-25T23:07:36.547Z"
   },
   {
    "duration": 21,
    "start_time": "2022-12-25T23:07:36.561Z"
   },
   {
    "duration": 39,
    "start_time": "2022-12-25T23:07:36.597Z"
   },
   {
    "duration": 3,
    "start_time": "2022-12-25T23:07:36.638Z"
   },
   {
    "duration": 22,
    "start_time": "2022-12-25T23:07:36.642Z"
   },
   {
    "duration": 12,
    "start_time": "2022-12-25T23:07:36.666Z"
   },
   {
    "duration": 20,
    "start_time": "2022-12-25T23:07:36.682Z"
   },
   {
    "duration": 24,
    "start_time": "2022-12-25T23:07:36.704Z"
   },
   {
    "duration": 43,
    "start_time": "2022-12-25T23:07:36.729Z"
   },
   {
    "duration": 12,
    "start_time": "2022-12-25T23:07:36.774Z"
   },
   {
    "duration": 491,
    "start_time": "2022-12-25T23:07:36.788Z"
   },
   {
    "duration": 24,
    "start_time": "2022-12-25T23:07:37.281Z"
   },
   {
    "duration": 219,
    "start_time": "2022-12-25T23:07:37.307Z"
   },
   {
    "duration": 12,
    "start_time": "2022-12-25T23:07:37.528Z"
   },
   {
    "duration": 540,
    "start_time": "2022-12-25T23:07:37.542Z"
   },
   {
    "duration": 21,
    "start_time": "2022-12-25T23:07:38.083Z"
   },
   {
    "duration": 158,
    "start_time": "2022-12-25T23:07:38.105Z"
   },
   {
    "duration": 20,
    "start_time": "2022-12-25T23:07:38.265Z"
   },
   {
    "duration": 517,
    "start_time": "2022-12-25T23:07:38.287Z"
   },
   {
    "duration": 15,
    "start_time": "2022-12-25T23:07:38.806Z"
   },
   {
    "duration": 148,
    "start_time": "2022-12-25T23:07:38.823Z"
   },
   {
    "duration": 1276,
    "start_time": "2022-12-25T23:07:38.973Z"
   },
   {
    "duration": 752,
    "start_time": "2022-12-25T23:07:40.251Z"
   },
   {
    "duration": 22,
    "start_time": "2022-12-25T23:07:41.006Z"
   },
   {
    "duration": 543,
    "start_time": "2022-12-25T23:07:41.030Z"
   },
   {
    "duration": 311,
    "start_time": "2022-12-25T23:07:41.575Z"
   },
   {
    "duration": 4,
    "start_time": "2022-12-25T23:07:41.887Z"
   },
   {
    "duration": 37,
    "start_time": "2022-12-25T23:07:41.896Z"
   },
   {
    "duration": 13,
    "start_time": "2022-12-25T23:07:41.934Z"
   },
   {
    "duration": 1854,
    "start_time": "2022-12-25T23:07:41.951Z"
   },
   {
    "duration": 1901,
    "start_time": "2022-12-25T23:07:43.808Z"
   },
   {
    "duration": 91,
    "start_time": "2022-12-25T23:07:45.712Z"
   },
   {
    "duration": 26057,
    "start_time": "2022-12-25T23:07:45.805Z"
   },
   {
    "duration": 1456,
    "start_time": "2022-12-25T23:08:26.289Z"
   },
   {
    "duration": 3,
    "start_time": "2022-12-25T23:08:27.747Z"
   },
   {
    "duration": 692,
    "start_time": "2022-12-25T23:08:27.751Z"
   },
   {
    "duration": 25,
    "start_time": "2022-12-25T23:08:28.445Z"
   },
   {
    "duration": 31,
    "start_time": "2022-12-25T23:08:28.472Z"
   },
   {
    "duration": 28,
    "start_time": "2022-12-25T23:08:28.505Z"
   },
   {
    "duration": 20,
    "start_time": "2022-12-25T23:08:28.535Z"
   },
   {
    "duration": 13,
    "start_time": "2022-12-25T23:08:28.558Z"
   },
   {
    "duration": 42,
    "start_time": "2022-12-25T23:08:28.573Z"
   },
   {
    "duration": 41,
    "start_time": "2022-12-25T23:08:28.617Z"
   },
   {
    "duration": 3,
    "start_time": "2022-12-25T23:08:28.660Z"
   },
   {
    "duration": 37,
    "start_time": "2022-12-25T23:08:28.665Z"
   },
   {
    "duration": 6,
    "start_time": "2022-12-25T23:08:28.704Z"
   },
   {
    "duration": 10,
    "start_time": "2022-12-25T23:08:28.713Z"
   },
   {
    "duration": 13,
    "start_time": "2022-12-25T23:08:28.725Z"
   },
   {
    "duration": 37,
    "start_time": "2022-12-25T23:08:28.740Z"
   },
   {
    "duration": 27,
    "start_time": "2022-12-25T23:08:28.779Z"
   },
   {
    "duration": 510,
    "start_time": "2022-12-25T23:08:28.808Z"
   },
   {
    "duration": 18,
    "start_time": "2022-12-25T23:08:29.320Z"
   },
   {
    "duration": 228,
    "start_time": "2022-12-25T23:08:29.339Z"
   },
   {
    "duration": 12,
    "start_time": "2022-12-25T23:08:29.569Z"
   },
   {
    "duration": 571,
    "start_time": "2022-12-25T23:08:29.583Z"
   },
   {
    "duration": 17,
    "start_time": "2022-12-25T23:08:30.155Z"
   },
   {
    "duration": 164,
    "start_time": "2022-12-25T23:08:30.173Z"
   },
   {
    "duration": 14,
    "start_time": "2022-12-25T23:08:30.339Z"
   },
   {
    "duration": 541,
    "start_time": "2022-12-25T23:08:30.355Z"
   },
   {
    "duration": 16,
    "start_time": "2022-12-25T23:08:30.898Z"
   },
   {
    "duration": 209,
    "start_time": "2022-12-25T23:08:30.916Z"
   },
   {
    "duration": 1344,
    "start_time": "2022-12-25T23:08:31.127Z"
   },
   {
    "duration": 939,
    "start_time": "2022-12-25T23:08:32.473Z"
   },
   {
    "duration": 27,
    "start_time": "2022-12-25T23:08:33.414Z"
   },
   {
    "duration": 1179,
    "start_time": "2022-12-25T23:08:33.443Z"
   },
   {
    "duration": 505,
    "start_time": "2022-12-25T23:08:34.623Z"
   },
   {
    "duration": 4,
    "start_time": "2022-12-25T23:08:35.131Z"
   },
   {
    "duration": 40,
    "start_time": "2022-12-25T23:08:35.136Z"
   },
   {
    "duration": 20,
    "start_time": "2022-12-25T23:08:35.178Z"
   },
   {
    "duration": 1697,
    "start_time": "2022-12-25T23:08:35.200Z"
   },
   {
    "duration": 1898,
    "start_time": "2022-12-25T23:08:36.898Z"
   },
   {
    "duration": 5,
    "start_time": "2022-12-25T23:08:38.800Z"
   },
   {
    "duration": 40963,
    "start_time": "2022-12-25T23:08:38.806Z"
   },
   {
    "duration": 39767,
    "start_time": "2022-12-25T23:09:19.772Z"
   },
   {
    "duration": 4,
    "start_time": "2022-12-25T23:09:59.541Z"
   },
   {
    "duration": 1210,
    "start_time": "2022-12-25T23:09:59.547Z"
   },
   {
    "duration": 1290,
    "start_time": "2022-12-25T23:11:06.094Z"
   },
   {
    "duration": 1241,
    "start_time": "2022-12-25T23:11:22.441Z"
   },
   {
    "duration": 702,
    "start_time": "2022-12-25T23:11:44.707Z"
   },
   {
    "duration": 378,
    "start_time": "2022-12-25T23:13:57.660Z"
   },
   {
    "duration": 426,
    "start_time": "2022-12-25T23:14:03.117Z"
   },
   {
    "duration": 889,
    "start_time": "2022-12-25T23:14:15.220Z"
   },
   {
    "duration": 773,
    "start_time": "2022-12-25T23:16:03.191Z"
   },
   {
    "duration": 1653,
    "start_time": "2022-12-25T23:16:58.063Z"
   },
   {
    "duration": 1382,
    "start_time": "2022-12-25T23:18:54.894Z"
   },
   {
    "duration": 3,
    "start_time": "2022-12-25T23:18:56.278Z"
   },
   {
    "duration": 690,
    "start_time": "2022-12-25T23:18:56.283Z"
   },
   {
    "duration": 32,
    "start_time": "2022-12-25T23:18:56.975Z"
   },
   {
    "duration": 20,
    "start_time": "2022-12-25T23:18:57.010Z"
   },
   {
    "duration": 21,
    "start_time": "2022-12-25T23:18:57.032Z"
   },
   {
    "duration": 43,
    "start_time": "2022-12-25T23:18:57.055Z"
   },
   {
    "duration": 13,
    "start_time": "2022-12-25T23:18:57.100Z"
   },
   {
    "duration": 18,
    "start_time": "2022-12-25T23:18:57.115Z"
   },
   {
    "duration": 68,
    "start_time": "2022-12-25T23:18:57.135Z"
   },
   {
    "duration": 3,
    "start_time": "2022-12-25T23:18:57.205Z"
   },
   {
    "duration": 8,
    "start_time": "2022-12-25T23:18:57.210Z"
   },
   {
    "duration": 6,
    "start_time": "2022-12-25T23:18:57.219Z"
   },
   {
    "duration": 8,
    "start_time": "2022-12-25T23:18:57.229Z"
   },
   {
    "duration": 15,
    "start_time": "2022-12-25T23:18:57.238Z"
   },
   {
    "duration": 66,
    "start_time": "2022-12-25T23:18:57.255Z"
   },
   {
    "duration": 12,
    "start_time": "2022-12-25T23:18:57.322Z"
   },
   {
    "duration": 509,
    "start_time": "2022-12-25T23:18:57.336Z"
   },
   {
    "duration": 17,
    "start_time": "2022-12-25T23:18:57.847Z"
   },
   {
    "duration": 221,
    "start_time": "2022-12-25T23:18:57.865Z"
   },
   {
    "duration": 17,
    "start_time": "2022-12-25T23:18:58.087Z"
   },
   {
    "duration": 523,
    "start_time": "2022-12-25T23:18:58.106Z"
   },
   {
    "duration": 15,
    "start_time": "2022-12-25T23:18:58.630Z"
   },
   {
    "duration": 153,
    "start_time": "2022-12-25T23:18:58.646Z"
   },
   {
    "duration": 11,
    "start_time": "2022-12-25T23:18:58.801Z"
   },
   {
    "duration": 555,
    "start_time": "2022-12-25T23:18:58.814Z"
   },
   {
    "duration": 14,
    "start_time": "2022-12-25T23:18:59.371Z"
   },
   {
    "duration": 146,
    "start_time": "2022-12-25T23:18:59.397Z"
   },
   {
    "duration": 1476,
    "start_time": "2022-12-25T23:18:59.545Z"
   },
   {
    "duration": 746,
    "start_time": "2022-12-25T23:19:01.022Z"
   },
   {
    "duration": 19,
    "start_time": "2022-12-25T23:19:01.769Z"
   },
   {
    "duration": 761,
    "start_time": "2022-12-25T23:19:01.797Z"
   },
   {
    "duration": 161,
    "start_time": "2022-12-25T23:19:02.560Z"
   },
   {
    "duration": 4,
    "start_time": "2022-12-25T23:19:02.722Z"
   },
   {
    "duration": 50,
    "start_time": "2022-12-25T23:19:02.727Z"
   },
   {
    "duration": 9,
    "start_time": "2022-12-25T23:19:02.779Z"
   },
   {
    "duration": 1721,
    "start_time": "2022-12-25T23:19:02.789Z"
   },
   {
    "duration": 1803,
    "start_time": "2022-12-25T23:19:04.598Z"
   },
   {
    "duration": 94,
    "start_time": "2022-12-25T23:19:06.403Z"
   },
   {
    "duration": 40613,
    "start_time": "2022-12-25T23:19:43.052Z"
   },
   {
    "duration": 39914,
    "start_time": "2022-12-25T23:20:23.667Z"
   },
   {
    "duration": 5,
    "start_time": "2022-12-25T23:21:03.582Z"
   },
   {
    "duration": 7108,
    "start_time": "2022-12-25T23:22:51.039Z"
   },
   {
    "duration": 25872,
    "start_time": "2022-12-25T23:22:58.149Z"
   },
   {
    "duration": 11,
    "start_time": "2022-12-25T23:23:24.023Z"
   },
   {
    "duration": 0,
    "start_time": "2022-12-25T23:23:24.035Z"
   },
   {
    "duration": 10,
    "start_time": "2022-12-25T23:23:28.327Z"
   },
   {
    "duration": 66866,
    "start_time": "2022-12-25T23:25:16.684Z"
   },
   {
    "duration": 66019,
    "start_time": "2022-12-25T23:26:23.552Z"
   },
   {
    "duration": 4,
    "start_time": "2022-12-25T23:27:29.573Z"
   },
   {
    "duration": 55,
    "start_time": "2022-12-25T23:27:29.579Z"
   }
  ],
  "kernelspec": {
   "display_name": "Python 3 (ipykernel)",
   "language": "python",
   "name": "python3"
  },
  "language_info": {
   "codemirror_mode": {
    "name": "ipython",
    "version": 3
   },
   "file_extension": ".py",
   "mimetype": "text/x-python",
   "name": "python",
   "nbconvert_exporter": "python",
   "pygments_lexer": "ipython3",
   "version": "3.9.12"
  },
  "toc": {
   "base_numbering": 1,
   "nav_menu": {},
   "number_sections": true,
   "sideBar": true,
   "skip_h1_title": true,
   "title_cell": "Содержание",
   "title_sidebar": "Contents",
   "toc_cell": true,
   "toc_position": {
    "height": "calc(100% - 180px)",
    "left": "10px",
    "top": "150px",
    "width": "165px"
   },
   "toc_section_display": true,
   "toc_window_display": true
  }
 },
 "nbformat": 4,
 "nbformat_minor": 2
}
