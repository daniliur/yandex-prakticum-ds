{
 "cells": [
  {
   "cell_type": "markdown",
   "metadata": {
    "id": "Lu2A81zJimFd"
   },
   "source": [
    "# Определение стоимости автомобилей"
   ]
  },
  {
   "cell_type": "markdown",
   "metadata": {
    "id": "afYc3xYMimFh"
   },
   "source": [
    "Сервис по продаже автомобилей с пробегом разрабатывает приложение для привлечения новых клиентов. В нём можно быстро узнать рыночную стоимость своего автомобиля. В нашем распоряжении исторические данные: технические характеристики, комплектации и цены автомобилей. Нужно построить модель для определения стоимости. \n",
    "\n",
    "Заказчику важны:\n",
    "\n",
    "- качество предсказания;\n",
    "- скорость предсказания;\n",
    "- время обучения."
   ]
  },
  {
   "cell_type": "markdown",
   "metadata": {
    "id": "ijYxdv5himFk"
   },
   "source": [
    "## Подготовка данных"
   ]
  },
  {
   "cell_type": "markdown",
   "metadata": {
    "id": "CYTR7PZL6kmH"
   },
   "source": [
    "Сначала загрузим пакет LightGBM и импортируем все необходимые библиотеки и инструменты:"
   ]
  },
  {
   "cell_type": "code",
   "execution_count": 1,
   "metadata": {
    "colab": {
     "base_uri": "https://localhost:8080/"
    },
    "id": "_C9DJbfTimFl",
    "outputId": "4a43a9c3-1ac6-4f3f-c8f4-aea15b2949d4"
   },
   "outputs": [
    {
     "name": "stdout",
     "output_type": "stream",
     "text": [
      "Requirement already satisfied: lightgbm in c:\\users\\acer\\anaconda3\\lib\\site-packages (3.3.5)\n",
      "Requirement already satisfied: scipy in c:\\users\\acer\\anaconda3\\lib\\site-packages (from lightgbm) (1.9.3)\n",
      "Requirement already satisfied: numpy in c:\\users\\acer\\anaconda3\\lib\\site-packages (from lightgbm) (1.23.5)\n",
      "Requirement already satisfied: scikit-learn!=0.22.0 in c:\\users\\acer\\anaconda3\\lib\\site-packages (from lightgbm) (1.1.3)\n",
      "Requirement already satisfied: wheel in c:\\users\\acer\\anaconda3\\lib\\site-packages (from lightgbm) (0.37.1)\n",
      "Requirement already satisfied: threadpoolctl>=2.0.0 in c:\\users\\acer\\anaconda3\\lib\\site-packages (from scikit-learn!=0.22.0->lightgbm) (2.2.0)\n",
      "Requirement already satisfied: joblib>=1.0.0 in c:\\users\\acer\\anaconda3\\lib\\site-packages (from scikit-learn!=0.22.0->lightgbm) (1.2.0)\n",
      "Requirement already satisfied: scikit-learn==1.1.3 in c:\\users\\acer\\anaconda3\\lib\\site-packages (1.1.3)\n",
      "Requirement already satisfied: threadpoolctl>=2.0.0 in c:\\users\\acer\\anaconda3\\lib\\site-packages (from scikit-learn==1.1.3) (2.2.0)\n",
      "Requirement already satisfied: joblib>=1.0.0 in c:\\users\\acer\\anaconda3\\lib\\site-packages (from scikit-learn==1.1.3) (1.2.0)\n",
      "Requirement already satisfied: numpy>=1.17.3 in c:\\users\\acer\\anaconda3\\lib\\site-packages (from scikit-learn==1.1.3) (1.23.5)\n",
      "Requirement already satisfied: scipy>=1.3.2 in c:\\users\\acer\\anaconda3\\lib\\site-packages (from scikit-learn==1.1.3) (1.9.3)\n"
     ]
    }
   ],
   "source": [
    "! pip install lightgbm\n",
    "! pip install scikit-learn==1.1.3"
   ]
  },
  {
   "cell_type": "code",
   "execution_count": 2,
   "metadata": {
    "id": "0JKWMb9OimFp"
   },
   "outputs": [],
   "source": [
    "import warnings\n",
    "warnings.filterwarnings('ignore')\n",
    "\n",
    "import pandas as pd\n",
    "import numpy as np\n",
    "from matplotlib import pyplot as plt\n",
    "import seaborn as sns\n",
    "from lightgbm import LGBMRegressor\n",
    "\n",
    "from sklearn.ensemble import RandomForestClassifier\n",
    "from sklearn.tree import DecisionTreeClassifier\n",
    "from sklearn.linear_model import LogisticRegression\n",
    "\n",
    "from sklearn.model_selection import train_test_split, cross_val_score, GridSearchCV\n",
    "\n",
    "from sklearn.metrics import mean_squared_error, make_scorer\n",
    "\n",
    "from sklearn.preprocessing import OneHotEncoder\n",
    "from sklearn.preprocessing import StandardScaler\n",
    "\n",
    "from sklearn.linear_model import LinearRegression\n",
    "from sklearn.ensemble import RandomForestRegressor\n",
    "from sklearn.tree import DecisionTreeRegressor\n",
    "\n",
    "from time import perf_counter\n",
    "\n",
    "import pylab as pl"
   ]
  },
  {
   "cell_type": "markdown",
   "metadata": {
    "id": "J4d4I7hF65tt"
   },
   "source": [
    "Зафиксируем случайное состояение в константе:"
   ]
  },
  {
   "cell_type": "code",
   "execution_count": 3,
   "metadata": {
    "id": "VSSiq4q8imFq"
   },
   "outputs": [],
   "source": [
    "RANDOM_STATE = 322"
   ]
  },
  {
   "cell_type": "markdown",
   "metadata": {
    "id": "OKGYCQ2ZARce"
   },
   "source": [
    "### Загрузка данных и просмотр информации"
   ]
  },
  {
   "cell_type": "markdown",
   "metadata": {
    "id": "dUnc_55w7JFB"
   },
   "source": [
    "Загрузим данные в переменную `data` и выведем основную информацию о данных:"
   ]
  },
  {
   "cell_type": "code",
   "execution_count": 4,
   "metadata": {
    "id": "DIU-EuqHimFq"
   },
   "outputs": [],
   "source": [
    "data = pd.read_csv('autos.csv')"
   ]
  },
  {
   "cell_type": "code",
   "execution_count": 5,
   "metadata": {
    "colab": {
     "base_uri": "https://localhost:8080/"
    },
    "id": "o1s8IIHsimFq",
    "outputId": "f2a0ce8f-1032-4dde-80ec-17dcffbcfdf6"
   },
   "outputs": [
    {
     "name": "stdout",
     "output_type": "stream",
     "text": [
      "<class 'pandas.core.frame.DataFrame'>\n",
      "RangeIndex: 354369 entries, 0 to 354368\n",
      "Data columns (total 16 columns):\n",
      " #   Column             Non-Null Count   Dtype \n",
      "---  ------             --------------   ----- \n",
      " 0   DateCrawled        354369 non-null  object\n",
      " 1   Price              354369 non-null  int64 \n",
      " 2   VehicleType        316879 non-null  object\n",
      " 3   RegistrationYear   354369 non-null  int64 \n",
      " 4   Gearbox            334536 non-null  object\n",
      " 5   Power              354369 non-null  int64 \n",
      " 6   Model              334664 non-null  object\n",
      " 7   Kilometer          354369 non-null  int64 \n",
      " 8   RegistrationMonth  354369 non-null  int64 \n",
      " 9   FuelType           321474 non-null  object\n",
      " 10  Brand              354369 non-null  object\n",
      " 11  Repaired           283215 non-null  object\n",
      " 12  DateCreated        354369 non-null  object\n",
      " 13  NumberOfPictures   354369 non-null  int64 \n",
      " 14  PostalCode         354369 non-null  int64 \n",
      " 15  LastSeen           354369 non-null  object\n",
      "dtypes: int64(7), object(9)\n",
      "memory usage: 43.3+ MB\n"
     ]
    }
   ],
   "source": [
    "data.info()"
   ]
  },
  {
   "cell_type": "code",
   "execution_count": 6,
   "metadata": {
    "colab": {
     "base_uri": "https://localhost:8080/",
     "height": 444
    },
    "id": "_FBF_TbMimFr",
    "outputId": "67a5ce41-35e1-4bea-f255-b6bfcb54eb3f"
   },
   "outputs": [
    {
     "data": {
      "text/html": [
       "<div>\n",
       "<style scoped>\n",
       "    .dataframe tbody tr th:only-of-type {\n",
       "        vertical-align: middle;\n",
       "    }\n",
       "\n",
       "    .dataframe tbody tr th {\n",
       "        vertical-align: top;\n",
       "    }\n",
       "\n",
       "    .dataframe thead th {\n",
       "        text-align: right;\n",
       "    }\n",
       "</style>\n",
       "<table border=\"1\" class=\"dataframe\">\n",
       "  <thead>\n",
       "    <tr style=\"text-align: right;\">\n",
       "      <th></th>\n",
       "      <th>DateCrawled</th>\n",
       "      <th>Price</th>\n",
       "      <th>VehicleType</th>\n",
       "      <th>RegistrationYear</th>\n",
       "      <th>Gearbox</th>\n",
       "      <th>Power</th>\n",
       "      <th>Model</th>\n",
       "      <th>Kilometer</th>\n",
       "      <th>RegistrationMonth</th>\n",
       "      <th>FuelType</th>\n",
       "      <th>Brand</th>\n",
       "      <th>Repaired</th>\n",
       "      <th>DateCreated</th>\n",
       "      <th>NumberOfPictures</th>\n",
       "      <th>PostalCode</th>\n",
       "      <th>LastSeen</th>\n",
       "    </tr>\n",
       "  </thead>\n",
       "  <tbody>\n",
       "    <tr>\n",
       "      <th>210458</th>\n",
       "      <td>2016-04-06 18:06:31</td>\n",
       "      <td>4200</td>\n",
       "      <td>wagon</td>\n",
       "      <td>2007</td>\n",
       "      <td>manual</td>\n",
       "      <td>0</td>\n",
       "      <td>passat</td>\n",
       "      <td>150000</td>\n",
       "      <td>4</td>\n",
       "      <td>gasoline</td>\n",
       "      <td>volkswagen</td>\n",
       "      <td>no</td>\n",
       "      <td>2016-04-06 00:00:00</td>\n",
       "      <td>0</td>\n",
       "      <td>35606</td>\n",
       "      <td>2016-04-06 18:25:16</td>\n",
       "    </tr>\n",
       "    <tr>\n",
       "      <th>246790</th>\n",
       "      <td>2016-03-29 12:41:34</td>\n",
       "      <td>890</td>\n",
       "      <td>small</td>\n",
       "      <td>2000</td>\n",
       "      <td>manual</td>\n",
       "      <td>60</td>\n",
       "      <td>1_reihe</td>\n",
       "      <td>125000</td>\n",
       "      <td>1</td>\n",
       "      <td>petrol</td>\n",
       "      <td>peugeot</td>\n",
       "      <td>no</td>\n",
       "      <td>2016-03-29 00:00:00</td>\n",
       "      <td>0</td>\n",
       "      <td>22145</td>\n",
       "      <td>2016-04-03 20:46:58</td>\n",
       "    </tr>\n",
       "    <tr>\n",
       "      <th>124807</th>\n",
       "      <td>2016-03-23 23:56:45</td>\n",
       "      <td>10980</td>\n",
       "      <td>sedan</td>\n",
       "      <td>2009</td>\n",
       "      <td>manual</td>\n",
       "      <td>143</td>\n",
       "      <td>1er</td>\n",
       "      <td>150000</td>\n",
       "      <td>9</td>\n",
       "      <td>gasoline</td>\n",
       "      <td>bmw</td>\n",
       "      <td>no</td>\n",
       "      <td>2016-03-23 00:00:00</td>\n",
       "      <td>0</td>\n",
       "      <td>42399</td>\n",
       "      <td>2016-04-06 19:15:48</td>\n",
       "    </tr>\n",
       "    <tr>\n",
       "      <th>139092</th>\n",
       "      <td>2016-03-31 18:42:32</td>\n",
       "      <td>2999</td>\n",
       "      <td>bus</td>\n",
       "      <td>2004</td>\n",
       "      <td>manual</td>\n",
       "      <td>101</td>\n",
       "      <td>zafira</td>\n",
       "      <td>150000</td>\n",
       "      <td>11</td>\n",
       "      <td>petrol</td>\n",
       "      <td>opel</td>\n",
       "      <td>no</td>\n",
       "      <td>2016-03-31 00:00:00</td>\n",
       "      <td>0</td>\n",
       "      <td>38239</td>\n",
       "      <td>2016-04-02 14:15:32</td>\n",
       "    </tr>\n",
       "    <tr>\n",
       "      <th>199151</th>\n",
       "      <td>2016-03-05 14:27:53</td>\n",
       "      <td>699</td>\n",
       "      <td>small</td>\n",
       "      <td>1999</td>\n",
       "      <td>manual</td>\n",
       "      <td>55</td>\n",
       "      <td>seicento</td>\n",
       "      <td>150000</td>\n",
       "      <td>3</td>\n",
       "      <td>petrol</td>\n",
       "      <td>fiat</td>\n",
       "      <td>no</td>\n",
       "      <td>2016-03-05 00:00:00</td>\n",
       "      <td>0</td>\n",
       "      <td>60326</td>\n",
       "      <td>2016-03-27 03:45:08</td>\n",
       "    </tr>\n",
       "  </tbody>\n",
       "</table>\n",
       "</div>"
      ],
      "text/plain": [
       "                DateCrawled  Price VehicleType  RegistrationYear Gearbox  \\\n",
       "210458  2016-04-06 18:06:31   4200       wagon              2007  manual   \n",
       "246790  2016-03-29 12:41:34    890       small              2000  manual   \n",
       "124807  2016-03-23 23:56:45  10980       sedan              2009  manual   \n",
       "139092  2016-03-31 18:42:32   2999         bus              2004  manual   \n",
       "199151  2016-03-05 14:27:53    699       small              1999  manual   \n",
       "\n",
       "        Power     Model  Kilometer  RegistrationMonth  FuelType       Brand  \\\n",
       "210458      0    passat     150000                  4  gasoline  volkswagen   \n",
       "246790     60   1_reihe     125000                  1    petrol     peugeot   \n",
       "124807    143       1er     150000                  9  gasoline         bmw   \n",
       "139092    101    zafira     150000                 11    petrol        opel   \n",
       "199151     55  seicento     150000                  3    petrol        fiat   \n",
       "\n",
       "       Repaired          DateCreated  NumberOfPictures  PostalCode  \\\n",
       "210458       no  2016-04-06 00:00:00                 0       35606   \n",
       "246790       no  2016-03-29 00:00:00                 0       22145   \n",
       "124807       no  2016-03-23 00:00:00                 0       42399   \n",
       "139092       no  2016-03-31 00:00:00                 0       38239   \n",
       "199151       no  2016-03-05 00:00:00                 0       60326   \n",
       "\n",
       "                   LastSeen  \n",
       "210458  2016-04-06 18:25:16  \n",
       "246790  2016-04-03 20:46:58  \n",
       "124807  2016-04-06 19:15:48  \n",
       "139092  2016-04-02 14:15:32  \n",
       "199151  2016-03-27 03:45:08  "
      ]
     },
     "execution_count": 6,
     "metadata": {},
     "output_type": "execute_result"
    }
   ],
   "source": [
    "data.sample(5, random_state=RANDOM_STATE)"
   ]
  },
  {
   "cell_type": "markdown",
   "metadata": {
    "id": "fftr9CHH7XCr"
   },
   "source": [
    "Избавимся от неинформативных столбцов, которые не помогут модели в предсказании."
   ]
  },
  {
   "cell_type": "code",
   "execution_count": 7,
   "metadata": {
    "id": "vgDf8v8timFr"
   },
   "outputs": [],
   "source": [
    "data = data.drop(['DateCreated', 'LastSeen', 'DateCrawled', 'PostalCode', 'RegistrationMonth'], axis=1)"
   ]
  },
  {
   "cell_type": "code",
   "execution_count": 8,
   "metadata": {
    "colab": {
     "base_uri": "https://localhost:8080/",
     "height": 270
    },
    "id": "Z-5HYIBbimFs",
    "outputId": "fd0c8a94-fc5a-40a0-9d34-e49b2a9c669c"
   },
   "outputs": [
    {
     "data": {
      "text/html": [
       "<div>\n",
       "<style scoped>\n",
       "    .dataframe tbody tr th:only-of-type {\n",
       "        vertical-align: middle;\n",
       "    }\n",
       "\n",
       "    .dataframe tbody tr th {\n",
       "        vertical-align: top;\n",
       "    }\n",
       "\n",
       "    .dataframe thead th {\n",
       "        text-align: right;\n",
       "    }\n",
       "</style>\n",
       "<table border=\"1\" class=\"dataframe\">\n",
       "  <thead>\n",
       "    <tr style=\"text-align: right;\">\n",
       "      <th></th>\n",
       "      <th>Price</th>\n",
       "      <th>VehicleType</th>\n",
       "      <th>RegistrationYear</th>\n",
       "      <th>Gearbox</th>\n",
       "      <th>Power</th>\n",
       "      <th>Model</th>\n",
       "      <th>Kilometer</th>\n",
       "      <th>FuelType</th>\n",
       "      <th>Brand</th>\n",
       "      <th>Repaired</th>\n",
       "      <th>NumberOfPictures</th>\n",
       "    </tr>\n",
       "  </thead>\n",
       "  <tbody>\n",
       "    <tr>\n",
       "      <th>210458</th>\n",
       "      <td>4200</td>\n",
       "      <td>wagon</td>\n",
       "      <td>2007</td>\n",
       "      <td>manual</td>\n",
       "      <td>0</td>\n",
       "      <td>passat</td>\n",
       "      <td>150000</td>\n",
       "      <td>gasoline</td>\n",
       "      <td>volkswagen</td>\n",
       "      <td>no</td>\n",
       "      <td>0</td>\n",
       "    </tr>\n",
       "    <tr>\n",
       "      <th>246790</th>\n",
       "      <td>890</td>\n",
       "      <td>small</td>\n",
       "      <td>2000</td>\n",
       "      <td>manual</td>\n",
       "      <td>60</td>\n",
       "      <td>1_reihe</td>\n",
       "      <td>125000</td>\n",
       "      <td>petrol</td>\n",
       "      <td>peugeot</td>\n",
       "      <td>no</td>\n",
       "      <td>0</td>\n",
       "    </tr>\n",
       "    <tr>\n",
       "      <th>124807</th>\n",
       "      <td>10980</td>\n",
       "      <td>sedan</td>\n",
       "      <td>2009</td>\n",
       "      <td>manual</td>\n",
       "      <td>143</td>\n",
       "      <td>1er</td>\n",
       "      <td>150000</td>\n",
       "      <td>gasoline</td>\n",
       "      <td>bmw</td>\n",
       "      <td>no</td>\n",
       "      <td>0</td>\n",
       "    </tr>\n",
       "    <tr>\n",
       "      <th>139092</th>\n",
       "      <td>2999</td>\n",
       "      <td>bus</td>\n",
       "      <td>2004</td>\n",
       "      <td>manual</td>\n",
       "      <td>101</td>\n",
       "      <td>zafira</td>\n",
       "      <td>150000</td>\n",
       "      <td>petrol</td>\n",
       "      <td>opel</td>\n",
       "      <td>no</td>\n",
       "      <td>0</td>\n",
       "    </tr>\n",
       "    <tr>\n",
       "      <th>199151</th>\n",
       "      <td>699</td>\n",
       "      <td>small</td>\n",
       "      <td>1999</td>\n",
       "      <td>manual</td>\n",
       "      <td>55</td>\n",
       "      <td>seicento</td>\n",
       "      <td>150000</td>\n",
       "      <td>petrol</td>\n",
       "      <td>fiat</td>\n",
       "      <td>no</td>\n",
       "      <td>0</td>\n",
       "    </tr>\n",
       "  </tbody>\n",
       "</table>\n",
       "</div>"
      ],
      "text/plain": [
       "        Price VehicleType  RegistrationYear Gearbox  Power     Model  \\\n",
       "210458   4200       wagon              2007  manual      0    passat   \n",
       "246790    890       small              2000  manual     60   1_reihe   \n",
       "124807  10980       sedan              2009  manual    143       1er   \n",
       "139092   2999         bus              2004  manual    101    zafira   \n",
       "199151    699       small              1999  manual     55  seicento   \n",
       "\n",
       "        Kilometer  FuelType       Brand Repaired  NumberOfPictures  \n",
       "210458     150000  gasoline  volkswagen       no                 0  \n",
       "246790     125000    petrol     peugeot       no                 0  \n",
       "124807     150000  gasoline         bmw       no                 0  \n",
       "139092     150000    petrol        opel       no                 0  \n",
       "199151     150000    petrol        fiat       no                 0  "
      ]
     },
     "execution_count": 8,
     "metadata": {},
     "output_type": "execute_result"
    }
   ],
   "source": [
    "data.sample(5, random_state=RANDOM_STATE)"
   ]
  },
  {
   "cell_type": "markdown",
   "metadata": {
    "id": "vMRdiQiI7hr9"
   },
   "source": [
    "Приведём названия столбцов к \"lower snake case\":"
   ]
  },
  {
   "cell_type": "code",
   "execution_count": 9,
   "metadata": {
    "colab": {
     "base_uri": "https://localhost:8080/"
    },
    "id": "mcgsUA95imFs",
    "outputId": "ef371f89-59a9-4d15-c779-676bb92a43d6"
   },
   "outputs": [
    {
     "data": {
      "text/plain": [
       "Index(['price', 'vehicle_type', 'registration_year', 'gearbox', 'power',\n",
       "       'model', 'kilometer', 'fuel_type', 'brand', 'repaired',\n",
       "       'number_of_pictures'],\n",
       "      dtype='object')"
      ]
     },
     "execution_count": 9,
     "metadata": {},
     "output_type": "execute_result"
    }
   ],
   "source": [
    "data = data.rename({\n",
    "    'Price': 'price',\n",
    "    'VehicleType': 'vehicle_type',\n",
    "    'RegistrationYear': 'registration_year',\n",
    "    'Gearbox': 'gearbox',\n",
    "    'Power': 'power',\n",
    "    'Model': 'model',\n",
    "    'Kilometer': 'kilometer',\n",
    "    'FuelType': 'fuel_type',\n",
    "    'Brand': 'brand',\n",
    "    'Repaired': 'repaired',\n",
    "    'NumberOfPictures': 'number_of_pictures'\n",
    "}, axis=1)\n",
    "\n",
    "data.columns"
   ]
  },
  {
   "cell_type": "markdown",
   "metadata": {
    "id": "sSB5J9zeAaKJ"
   },
   "source": [
    "### Статистическая информация о данных"
   ]
  },
  {
   "cell_type": "markdown",
   "metadata": {
    "id": "NnLc5dUY7xo7"
   },
   "source": [
    "Посмотрим статистическую информацию о числовых признаках методом `describe()`:"
   ]
  },
  {
   "cell_type": "code",
   "execution_count": 10,
   "metadata": {
    "colab": {
     "base_uri": "https://localhost:8080/",
     "height": 250
    },
    "id": "MAq9tdTqimFt",
    "outputId": "4c3b4fe8-e984-41cb-869e-5ad3909821b2"
   },
   "outputs": [
    {
     "data": {
      "text/html": [
       "<div>\n",
       "<style scoped>\n",
       "    .dataframe tbody tr th:only-of-type {\n",
       "        vertical-align: middle;\n",
       "    }\n",
       "\n",
       "    .dataframe tbody tr th {\n",
       "        vertical-align: top;\n",
       "    }\n",
       "\n",
       "    .dataframe thead th {\n",
       "        text-align: right;\n",
       "    }\n",
       "</style>\n",
       "<table border=\"1\" class=\"dataframe\">\n",
       "  <thead>\n",
       "    <tr style=\"text-align: right;\">\n",
       "      <th></th>\n",
       "      <th>count</th>\n",
       "      <th>mean</th>\n",
       "      <th>std</th>\n",
       "      <th>min</th>\n",
       "      <th>25%</th>\n",
       "      <th>50%</th>\n",
       "      <th>75%</th>\n",
       "      <th>max</th>\n",
       "    </tr>\n",
       "  </thead>\n",
       "  <tbody>\n",
       "    <tr>\n",
       "      <th>price</th>\n",
       "      <td>354369.0</td>\n",
       "      <td>4416.656776</td>\n",
       "      <td>4514.158514</td>\n",
       "      <td>0.0</td>\n",
       "      <td>1050.0</td>\n",
       "      <td>2700.0</td>\n",
       "      <td>6400.0</td>\n",
       "      <td>20000.0</td>\n",
       "    </tr>\n",
       "    <tr>\n",
       "      <th>registration_year</th>\n",
       "      <td>354369.0</td>\n",
       "      <td>2004.234448</td>\n",
       "      <td>90.227958</td>\n",
       "      <td>1000.0</td>\n",
       "      <td>1999.0</td>\n",
       "      <td>2003.0</td>\n",
       "      <td>2008.0</td>\n",
       "      <td>9999.0</td>\n",
       "    </tr>\n",
       "    <tr>\n",
       "      <th>power</th>\n",
       "      <td>354369.0</td>\n",
       "      <td>110.094337</td>\n",
       "      <td>189.850405</td>\n",
       "      <td>0.0</td>\n",
       "      <td>69.0</td>\n",
       "      <td>105.0</td>\n",
       "      <td>143.0</td>\n",
       "      <td>20000.0</td>\n",
       "    </tr>\n",
       "    <tr>\n",
       "      <th>kilometer</th>\n",
       "      <td>354369.0</td>\n",
       "      <td>128211.172535</td>\n",
       "      <td>37905.341530</td>\n",
       "      <td>5000.0</td>\n",
       "      <td>125000.0</td>\n",
       "      <td>150000.0</td>\n",
       "      <td>150000.0</td>\n",
       "      <td>150000.0</td>\n",
       "    </tr>\n",
       "    <tr>\n",
       "      <th>number_of_pictures</th>\n",
       "      <td>354369.0</td>\n",
       "      <td>0.000000</td>\n",
       "      <td>0.000000</td>\n",
       "      <td>0.0</td>\n",
       "      <td>0.0</td>\n",
       "      <td>0.0</td>\n",
       "      <td>0.0</td>\n",
       "      <td>0.0</td>\n",
       "    </tr>\n",
       "  </tbody>\n",
       "</table>\n",
       "</div>"
      ],
      "text/plain": [
       "                       count           mean           std     min       25%  \\\n",
       "price               354369.0    4416.656776   4514.158514     0.0    1050.0   \n",
       "registration_year   354369.0    2004.234448     90.227958  1000.0    1999.0   \n",
       "power               354369.0     110.094337    189.850405     0.0      69.0   \n",
       "kilometer           354369.0  128211.172535  37905.341530  5000.0  125000.0   \n",
       "number_of_pictures  354369.0       0.000000      0.000000     0.0       0.0   \n",
       "\n",
       "                         50%       75%       max  \n",
       "price                 2700.0    6400.0   20000.0  \n",
       "registration_year     2003.0    2008.0    9999.0  \n",
       "power                  105.0     143.0   20000.0  \n",
       "kilometer           150000.0  150000.0  150000.0  \n",
       "number_of_pictures       0.0       0.0       0.0  "
      ]
     },
     "execution_count": 10,
     "metadata": {},
     "output_type": "execute_result"
    }
   ],
   "source": [
    "data.describe().T"
   ]
  },
  {
   "cell_type": "markdown",
   "metadata": {
    "id": "gla_EFYg75Sk"
   },
   "source": [
    "По этой таблице можем сделать следующие выводы:  \n",
    "* Столбец `number_of_pictures` можно удалить, так как в нём только нули.\n",
    "* В столбце `registration_year` есть некорректные значения: год может лежать в небольшом промежутке от 1900-х годов до 2023 года.\n",
    "* В столбце `power` также есть некорректные значения: мощность двигателя не может быть нулевой, а также быть очень большой (максимальное значение в таблице 20000).\n",
    "* Столбцы с ценой и пробегом выглядят адекватно (хотя есть также объекты с нулевой стоимостью)."
   ]
  },
  {
   "cell_type": "code",
   "execution_count": 11,
   "metadata": {
    "id": "SSKGwQ1himFt"
   },
   "outputs": [],
   "source": [
    "data = data.drop('number_of_pictures', axis=1)"
   ]
  },
  {
   "cell_type": "markdown",
   "metadata": {
    "id": "xDTnb97t8_4y"
   },
   "source": [
    "Создадим списки с названиями непрерывных и категориальных признаков (год выпуска отнесём также к категориальным признакам."
   ]
  },
  {
   "cell_type": "code",
   "execution_count": 12,
   "metadata": {
    "id": "U9AvKxxximFu"
   },
   "outputs": [],
   "source": [
    "num = ['power', 'kilometer']\n",
    "cat = list(data.drop(num, axis=1).drop('price', axis=1).columns)"
   ]
  },
  {
   "cell_type": "markdown",
   "metadata": {
    "id": "HnQu0z929NXv"
   },
   "source": [
    "Удалим все объявления \"из будущего\":"
   ]
  },
  {
   "cell_type": "code",
   "execution_count": 13,
   "metadata": {
    "id": "I0Sg7qK9imFu"
   },
   "outputs": [],
   "source": [
    "data = data.query('registration_year <= 2023')"
   ]
  },
  {
   "cell_type": "markdown",
   "metadata": {
    "id": "ERLlDWfS9XG2"
   },
   "source": [
    "Посмотрим на распределение цен и мощностей около нуля:"
   ]
  },
  {
   "cell_type": "code",
   "execution_count": 14,
   "metadata": {
    "colab": {
     "base_uri": "https://localhost:8080/",
     "height": 265
    },
    "id": "Qkt-uc_UimFu",
    "outputId": "a5bcef3c-b626-48b4-ca6f-c783a9611f53"
   },
   "outputs": [
    {
     "data": {
      "image/png": "[encoded data removed]",
      "text/plain": [
       "<Figure size 1440x720 with 1 Axes>"
      ]
     },
     "metadata": {
      "needs_background": "light"
     },
     "output_type": "display_data"
    }
   ],
   "source": [
    "plt.xlim(0, 500)\n",
    "data['price'].hist(figsize=(20, 10), bins=2000).tick_params(labelsize=15)\n",
    "plt.ylabel('Кол-во объявлений', fontsize=20)\n",
    "plt.title('Распределение цен на автомобили в объявлениях', fontsize=20)\n",
    "plt.xlabel('Цена, евро', fontsize=20);"
   ]
  },
  {
   "cell_type": "code",
   "execution_count": 15,
   "metadata": {
    "colab": {
     "base_uri": "https://localhost:8080/",
     "height": 265
    },
    "id": "8XEv6mQvimFv",
    "outputId": "70b849af-abc3-43fb-8aad-ffec0afef9c8"
   },
   "outputs": [
    {
     "data": {
      "image/png": "[encoded data removed]",
      "text/plain": [
       "<Figure size 1440x720 with 1 Axes>"
      ]
     },
     "metadata": {
      "needs_background": "light"
     },
     "output_type": "display_data"
    }
   ],
   "source": [
    "plt.xlim(0, 100)\n",
    "data['power'].hist(figsize=(20, 10), bins=10000).tick_params(labelsize=15)\n",
    "plt.ylabel('Кол-во объявлений', fontsize=20)\n",
    "plt.title('Распределение мощностей автомобилей в объявлениях', fontsize=20)\n",
    "plt.xlabel('Мощность двигателя (л.с.)', fontsize=20);"
   ]
  },
  {
   "cell_type": "markdown",
   "metadata": {
    "id": "-Ts67AAf9rcu"
   },
   "source": [
    "Объекты с нулевой ценой и мощностью следует удалить, хоть их и достаточное количество. Это одни из основных признаков, но у нас в распоряжении очень много данных, поэтому можем пожертвовать нулевыми объектами."
   ]
  },
  {
   "cell_type": "markdown",
   "metadata": {
    "id": "KGXC8JSP-ED3"
   },
   "source": [
    "Посмотрим на диаграммы размаха для числовых признаков:"
   ]
  },
  {
   "cell_type": "code",
   "execution_count": 16,
   "metadata": {
    "colab": {
     "base_uri": "https://localhost:8080/",
     "height": 296
    },
    "id": "f_9ucRjWimFw",
    "outputId": "a2161e37-c56f-4347-9121-a283ddbf8d15"
   },
   "outputs": [
    {
     "data": {
      "image/png": "[encoded data removed]",
      "text/plain": [
       "<Figure size 1440x504 with 1 Axes>"
      ]
     },
     "metadata": {
      "needs_background": "light"
     },
     "output_type": "display_data"
    }
   ],
   "source": [
    "plt.figure(figsize=(20, 7))\n",
    "plt.xlim(0, 1000)\n",
    "sns.boxplot(data['power']).tick_params(labelsize=15)\n",
    "plt.title('Диаграмма размаха для мощности двигателя', fontsize=15)\n",
    "plt.xlabel('Мощность двигателя (л.с.)', fontsize=15);"
   ]
  },
  {
   "cell_type": "code",
   "execution_count": 17,
   "metadata": {
    "colab": {
     "base_uri": "https://localhost:8080/",
     "height": 279
    },
    "id": "wL_uxqf9imFx",
    "outputId": "de9afb9c-d09b-43fb-bd00-9b084084b1b0"
   },
   "outputs": [
    {
     "data": {
      "image/png": "[encoded data removed]",
      "text/plain": [
       "<Figure size 1440x504 with 1 Axes>"
      ]
     },
     "metadata": {
      "needs_background": "light"
     },
     "output_type": "display_data"
    }
   ],
   "source": [
    "plt.figure(figsize=(20, 7))\n",
    "sns.boxplot(data['price']).tick_params(labelsize=15)\n",
    "plt.title('Диаграмма размаха для цен на автомобили', fontsize=15)\n",
    "plt.xlabel('Цена, евро', fontsize=15);"
   ]
  },
  {
   "cell_type": "code",
   "execution_count": 18,
   "metadata": {
    "colab": {
     "base_uri": "https://localhost:8080/",
     "height": 280
    },
    "id": "rlIGtyWtimFx",
    "outputId": "34943aa8-3102-4f1c-f08e-a6cc261993cb"
   },
   "outputs": [
    {
     "data": {
      "image/png": "[encoded data removed]",
      "text/plain": [
       "<Figure size 1440x504 with 1 Axes>"
      ]
     },
     "metadata": {
      "needs_background": "light"
     },
     "output_type": "display_data"
    }
   ],
   "source": [
    "plt.figure(figsize=(20, 7))\n",
    "plt.xlim(1900, 2023)\n",
    "sns.boxplot(data['registration_year']).tick_params(labelsize=15)\n",
    "plt.title('Диаграмма размаха для года выпуска автомобилей', fontsize=15)\n",
    "plt.xlabel('Год выпуска', fontsize=15);"
   ]
  },
  {
   "cell_type": "markdown",
   "metadata": {
    "id": "B-XzEbJS-bkw"
   },
   "source": [
    "Делаем выводы:\n",
    "* На диаграмме размаха выбросами считаются машины мощнее ~270 л.с.. Обрежем выбросы, но по более высокой границе, оставим машины до 400 л.с., так как мощные машины интересуют достаточно большое кол-во людей.\n",
    "* На диаграмме цен выбросами отображаются машины дороже 14000. Оставим объекты ценой до 14000, так как выбросы в целевом признаке нам ни к чему.\n",
    "* На диаграмме годов выбросами считаются автомобили старше 1985 года. Оставим объекты младше 1985 года, более старые машины уже редко используются именно как средство передвижения, их покупают скорее для коллекции."
   ]
  },
  {
   "cell_type": "code",
   "execution_count": 19,
   "metadata": {
    "id": "-qt45Im6imFy"
   },
   "outputs": [],
   "source": [
    "data = data.query('price > 0 and price < 14000')\n",
    "data = data.query('power > 0 and power < 400')\n",
    "data = data.query('registration_year >= 1985')"
   ]
  },
  {
   "cell_type": "markdown",
   "metadata": {
    "id": "qzfGHmgw_6al"
   },
   "source": [
    "Посмотрим на гистограммы данных после удаления выбросов и ошибочных данных:"
   ]
  },
  {
   "cell_type": "code",
   "execution_count": 20,
   "metadata": {
    "colab": {
     "base_uri": "https://localhost:8080/",
     "height": 390
    },
    "id": "IKiBt-UUimFz",
    "outputId": "dcbb98d0-06f0-4d6f-eedb-4d66a267a3d5"
   },
   "outputs": [
    {
     "data": {
      "text/plain": [
       "Text(0.5, 0.95, 'Гистограммы числовых признаков после удаления выбросов и ошибочных данных')"
      ]
     },
     "execution_count": 20,
     "metadata": {},
     "output_type": "execute_result"
    },
    {
     "data": {
      "image/png": "[encoded data removed]",
      "text/plain": [
       "<Figure size 1440x720 with 4 Axes>"
      ]
     },
     "metadata": {
      "needs_background": "light"
     },
     "output_type": "display_data"
    }
   ],
   "source": [
    "data.hist(bins=50, figsize=(20, 10))\n",
    "plt.suptitle('Гистограммы числовых признаков после удаления выбросов и ошибочных данных', fontsize=15, y=0.95)"
   ]
  },
  {
   "cell_type": "markdown",
   "metadata": {
    "id": "njwifN8eAAo3"
   },
   "source": [
    "В целом, распределения выглядят нормально."
   ]
  },
  {
   "cell_type": "markdown",
   "metadata": {
    "id": "BM-FqF3nAjtW"
   },
   "source": [
    "### Пропуски в данных"
   ]
  },
  {
   "cell_type": "markdown",
   "metadata": {
    "id": "QD4ew2w4AHIj"
   },
   "source": [
    "Посмотрим на пропуски в данных:"
   ]
  },
  {
   "cell_type": "code",
   "execution_count": 21,
   "metadata": {
    "colab": {
     "base_uri": "https://localhost:8080/"
    },
    "id": "KXBxVLL9imFz",
    "outputId": "13e657be-7573-45b7-d84b-61a0829aed77"
   },
   "outputs": [
    {
     "data": {
      "text/plain": [
       "price                    0\n",
       "vehicle_type         20689\n",
       "registration_year        0\n",
       "gearbox               5812\n",
       "power                    0\n",
       "model                11360\n",
       "kilometer                0\n",
       "fuel_type            19025\n",
       "brand                    0\n",
       "repaired             45132\n",
       "dtype: int64"
      ]
     },
     "execution_count": 21,
     "metadata": {},
     "output_type": "execute_result"
    }
   ],
   "source": [
    "data.isna().sum()"
   ]
  },
  {
   "cell_type": "markdown",
   "metadata": {
    "id": "SS3AdmivAmDx"
   },
   "source": [
    "Как мы видим, пропуски есть только в категориальных столбцах. Таким образом, можем заполнить их заглушкой `'unknown'`"
   ]
  },
  {
   "cell_type": "code",
   "execution_count": 22,
   "metadata": {
    "colab": {
     "base_uri": "https://localhost:8080/"
    },
    "id": "jxqSrcniimFz",
    "outputId": "422540b5-dfda-4933-f9b2-6113e55c2aa1"
   },
   "outputs": [
    {
     "data": {
      "text/plain": [
       "price                0\n",
       "vehicle_type         0\n",
       "registration_year    0\n",
       "gearbox              0\n",
       "power                0\n",
       "model                0\n",
       "kilometer            0\n",
       "fuel_type            0\n",
       "brand                0\n",
       "repaired             0\n",
       "dtype: int64"
      ]
     },
     "execution_count": 22,
     "metadata": {},
     "output_type": "execute_result"
    }
   ],
   "source": [
    "data = data.fillna('unknown')\n",
    "data.isna().sum()"
   ]
  },
  {
   "cell_type": "markdown",
   "metadata": {
    "id": "SMiMOslyimF2"
   },
   "source": [
    "### Разделение на выборки"
   ]
  },
  {
   "cell_type": "markdown",
   "metadata": {
    "id": "GIW10eYzBdTz"
   },
   "source": [
    "Разделим данные на выборки в соотношении 4:1. Валидационные выборки не понадобятся, так как мы будем делать кросс-валидацию."
   ]
  },
  {
   "cell_type": "code",
   "execution_count": 23,
   "metadata": {
    "id": "Oom1HiPlimF1"
   },
   "outputs": [],
   "source": [
    "features = data.drop('price', axis=1)\n",
    "target = data['price']"
   ]
  },
  {
   "cell_type": "code",
   "execution_count": 24,
   "metadata": {
    "id": "hMLiNzxiimF2"
   },
   "outputs": [],
   "source": [
    "train_features, test_features, train_target, test_target = \\\n",
    "        train_test_split(features, target, test_size=0.2, random_state=RANDOM_STATE)"
   ]
  },
  {
   "cell_type": "markdown",
   "metadata": {
    "id": "vhK19xQFimF1"
   },
   "source": [
    "### Кодирование через `OneHotEncoder()`"
   ]
  },
  {
   "cell_type": "markdown",
   "metadata": {
    "id": "RHKft1RSBOOu"
   },
   "source": [
    "Закодируем категориальные признаки через OHE:"
   ]
  },
  {
   "cell_type": "code",
   "execution_count": 25,
   "metadata": {
    "colab": {
     "base_uri": "https://localhost:8080/",
     "height": 363
    },
    "id": "Dz6sUKQjimF2",
    "outputId": "1c52feb6-17b0-44d5-bcf8-8735f4f7c20e"
   },
   "outputs": [
    {
     "data": {
      "text/html": [
       "<div>\n",
       "<style scoped>\n",
       "    .dataframe tbody tr th:only-of-type {\n",
       "        vertical-align: middle;\n",
       "    }\n",
       "\n",
       "    .dataframe tbody tr th {\n",
       "        vertical-align: top;\n",
       "    }\n",
       "\n",
       "    .dataframe thead th {\n",
       "        text-align: right;\n",
       "    }\n",
       "</style>\n",
       "<table border=\"1\" class=\"dataframe\">\n",
       "  <thead>\n",
       "    <tr style=\"text-align: right;\">\n",
       "      <th></th>\n",
       "      <th>vehicle_type</th>\n",
       "      <th>registration_year</th>\n",
       "      <th>gearbox</th>\n",
       "      <th>power</th>\n",
       "      <th>model</th>\n",
       "      <th>kilometer</th>\n",
       "      <th>fuel_type</th>\n",
       "      <th>brand</th>\n",
       "      <th>repaired</th>\n",
       "    </tr>\n",
       "  </thead>\n",
       "  <tbody>\n",
       "    <tr>\n",
       "      <th>223619</th>\n",
       "      <td>sedan</td>\n",
       "      <td>2003</td>\n",
       "      <td>auto</td>\n",
       "      <td>143</td>\n",
       "      <td>c_klasse</td>\n",
       "      <td>150000</td>\n",
       "      <td>gasoline</td>\n",
       "      <td>mercedes_benz</td>\n",
       "      <td>no</td>\n",
       "    </tr>\n",
       "    <tr>\n",
       "      <th>5871</th>\n",
       "      <td>sedan</td>\n",
       "      <td>2008</td>\n",
       "      <td>auto</td>\n",
       "      <td>114</td>\n",
       "      <td>golf</td>\n",
       "      <td>150000</td>\n",
       "      <td>gasoline</td>\n",
       "      <td>volkswagen</td>\n",
       "      <td>unknown</td>\n",
       "    </tr>\n",
       "    <tr>\n",
       "      <th>28729</th>\n",
       "      <td>small</td>\n",
       "      <td>2001</td>\n",
       "      <td>manual</td>\n",
       "      <td>58</td>\n",
       "      <td>twingo</td>\n",
       "      <td>150000</td>\n",
       "      <td>petrol</td>\n",
       "      <td>renault</td>\n",
       "      <td>no</td>\n",
       "    </tr>\n",
       "  </tbody>\n",
       "</table>\n",
       "</div>"
      ],
      "text/plain": [
       "       vehicle_type  registration_year gearbox  power     model  kilometer  \\\n",
       "223619        sedan               2003    auto    143  c_klasse     150000   \n",
       "5871          sedan               2008    auto    114      golf     150000   \n",
       "28729         small               2001  manual     58    twingo     150000   \n",
       "\n",
       "       fuel_type          brand repaired  \n",
       "223619  gasoline  mercedes_benz       no  \n",
       "5871    gasoline     volkswagen  unknown  \n",
       "28729     petrol        renault       no  "
      ]
     },
     "metadata": {},
     "output_type": "display_data"
    },
    {
     "data": {
      "text/html": [
       "<div>\n",
       "<style scoped>\n",
       "    .dataframe tbody tr th:only-of-type {\n",
       "        vertical-align: middle;\n",
       "    }\n",
       "\n",
       "    .dataframe tbody tr th {\n",
       "        vertical-align: top;\n",
       "    }\n",
       "\n",
       "    .dataframe thead th {\n",
       "        text-align: right;\n",
       "    }\n",
       "</style>\n",
       "<table border=\"1\" class=\"dataframe\">\n",
       "  <thead>\n",
       "    <tr style=\"text-align: right;\">\n",
       "      <th></th>\n",
       "      <th>x0_convertible</th>\n",
       "      <th>x0_coupe</th>\n",
       "      <th>x0_other</th>\n",
       "      <th>x0_sedan</th>\n",
       "      <th>x0_small</th>\n",
       "      <th>x0_suv</th>\n",
       "      <th>x0_unknown</th>\n",
       "      <th>x0_wagon</th>\n",
       "      <th>x1_1986</th>\n",
       "      <th>x1_1987</th>\n",
       "      <th>...</th>\n",
       "      <th>x5_subaru</th>\n",
       "      <th>x5_suzuki</th>\n",
       "      <th>x5_toyota</th>\n",
       "      <th>x5_trabant</th>\n",
       "      <th>x5_volkswagen</th>\n",
       "      <th>x5_volvo</th>\n",
       "      <th>x6_unknown</th>\n",
       "      <th>x6_yes</th>\n",
       "      <th>power</th>\n",
       "      <th>kilometer</th>\n",
       "    </tr>\n",
       "  </thead>\n",
       "  <tbody>\n",
       "    <tr>\n",
       "      <th>223619</th>\n",
       "      <td>0.0</td>\n",
       "      <td>0.0</td>\n",
       "      <td>0.0</td>\n",
       "      <td>1.0</td>\n",
       "      <td>0.0</td>\n",
       "      <td>0.0</td>\n",
       "      <td>0.0</td>\n",
       "      <td>0.0</td>\n",
       "      <td>0.0</td>\n",
       "      <td>0.0</td>\n",
       "      <td>...</td>\n",
       "      <td>0.0</td>\n",
       "      <td>0.0</td>\n",
       "      <td>0.0</td>\n",
       "      <td>0.0</td>\n",
       "      <td>0.0</td>\n",
       "      <td>0.0</td>\n",
       "      <td>0.0</td>\n",
       "      <td>0.0</td>\n",
       "      <td>143</td>\n",
       "      <td>150000</td>\n",
       "    </tr>\n",
       "    <tr>\n",
       "      <th>5871</th>\n",
       "      <td>0.0</td>\n",
       "      <td>0.0</td>\n",
       "      <td>0.0</td>\n",
       "      <td>1.0</td>\n",
       "      <td>0.0</td>\n",
       "      <td>0.0</td>\n",
       "      <td>0.0</td>\n",
       "      <td>0.0</td>\n",
       "      <td>0.0</td>\n",
       "      <td>0.0</td>\n",
       "      <td>...</td>\n",
       "      <td>0.0</td>\n",
       "      <td>0.0</td>\n",
       "      <td>0.0</td>\n",
       "      <td>0.0</td>\n",
       "      <td>1.0</td>\n",
       "      <td>0.0</td>\n",
       "      <td>1.0</td>\n",
       "      <td>0.0</td>\n",
       "      <td>114</td>\n",
       "      <td>150000</td>\n",
       "    </tr>\n",
       "    <tr>\n",
       "      <th>28729</th>\n",
       "      <td>0.0</td>\n",
       "      <td>0.0</td>\n",
       "      <td>0.0</td>\n",
       "      <td>0.0</td>\n",
       "      <td>1.0</td>\n",
       "      <td>0.0</td>\n",
       "      <td>0.0</td>\n",
       "      <td>0.0</td>\n",
       "      <td>0.0</td>\n",
       "      <td>0.0</td>\n",
       "      <td>...</td>\n",
       "      <td>0.0</td>\n",
       "      <td>0.0</td>\n",
       "      <td>0.0</td>\n",
       "      <td>0.0</td>\n",
       "      <td>0.0</td>\n",
       "      <td>0.0</td>\n",
       "      <td>0.0</td>\n",
       "      <td>0.0</td>\n",
       "      <td>58</td>\n",
       "      <td>150000</td>\n",
       "    </tr>\n",
       "  </tbody>\n",
       "</table>\n",
       "<p>3 rows × 341 columns</p>\n",
       "</div>"
      ],
      "text/plain": [
       "        x0_convertible  x0_coupe  x0_other  x0_sedan  x0_small  x0_suv  \\\n",
       "223619             0.0       0.0       0.0       1.0       0.0     0.0   \n",
       "5871               0.0       0.0       0.0       1.0       0.0     0.0   \n",
       "28729              0.0       0.0       0.0       0.0       1.0     0.0   \n",
       "\n",
       "        x0_unknown  x0_wagon  x1_1986  x1_1987  ...  x5_subaru  x5_suzuki  \\\n",
       "223619         0.0       0.0      0.0      0.0  ...        0.0        0.0   \n",
       "5871           0.0       0.0      0.0      0.0  ...        0.0        0.0   \n",
       "28729          0.0       0.0      0.0      0.0  ...        0.0        0.0   \n",
       "\n",
       "        x5_toyota  x5_trabant  x5_volkswagen  x5_volvo  x6_unknown  x6_yes  \\\n",
       "223619        0.0         0.0            0.0       0.0         0.0     0.0   \n",
       "5871          0.0         0.0            1.0       0.0         1.0     0.0   \n",
       "28729         0.0         0.0            0.0       0.0         0.0     0.0   \n",
       "\n",
       "        power  kilometer  \n",
       "223619    143     150000  \n",
       "5871      114     150000  \n",
       "28729      58     150000  \n",
       "\n",
       "[3 rows x 341 columns]"
      ]
     },
     "metadata": {},
     "output_type": "display_data"
    }
   ],
   "source": [
    "encoder = OneHotEncoder(sparse=False, drop='first')\n",
    "encoder.fit(train_features[cat])\n",
    "\n",
    "def ohe(data):\n",
    "    data_ohe = encoder.transform(data[cat])\n",
    "    data_ohe = pd.DataFrame(data_ohe, columns=encoder.get_feature_names())\n",
    "    data.reset_index(drop=True, inplace=True) \n",
    "    data_coded = pd.DataFrame()\n",
    "    data_coded[encoder.get_feature_names()] = data_ohe\n",
    "    data_coded[num] = data[num]\n",
    "    return data_coded\n",
    "\n",
    "train_features_ohe = ohe(train_features)\n",
    "test_features_ohe = ohe(test_features)\n",
    "\n",
    "display(train_features.sample(3, random_state=RANDOM_STATE))\n",
    "display(train_features_ohe.sample(3, random_state=RANDOM_STATE))"
   ]
  },
  {
   "cell_type": "markdown",
   "metadata": {
    "id": "60dM6lW_BVc6"
   },
   "source": [
    "Проверим, чтобы в закодированных данных не было пропусков:"
   ]
  },
  {
   "cell_type": "code",
   "execution_count": 26,
   "metadata": {
    "colab": {
     "base_uri": "https://localhost:8080/"
    },
    "id": "Gf5fzAGkxL44",
    "outputId": "57edfdf4-b815-40e1-8be1-7ac6e09e1c8c"
   },
   "outputs": [
    {
     "name": "stdout",
     "output_type": "stream",
     "text": [
      "0\n",
      "0\n"
     ]
    }
   ],
   "source": [
    "print(train_features_ohe.isna().sum().sum())\n",
    "print(test_features_ohe.isna().sum().sum())"
   ]
  },
  {
   "cell_type": "markdown",
   "metadata": {
    "id": "02wvglH6BZhO"
   },
   "source": [
    "Всё в порядке, можем двигаться дальше."
   ]
  },
  {
   "cell_type": "markdown",
   "metadata": {
    "id": "IvBrRG9TimF3"
   },
   "source": [
    "### Стандартизация непрерывных признаков"
   ]
  },
  {
   "cell_type": "markdown",
   "metadata": {
    "id": "UqNycE_VBoRR"
   },
   "source": [
    "Стандартизируем числовые признаки. Обучим скейлер на тренировочных данных и применим его к тренировочным и тестовым данным:"
   ]
  },
  {
   "cell_type": "code",
   "execution_count": 27,
   "metadata": {
    "colab": {
     "base_uri": "https://localhost:8080/",
     "height": 206
    },
    "id": "InxkYN6NimF3",
    "outputId": "d55ab2cd-e4a5-4c09-93bd-15167739ad50"
   },
   "outputs": [
    {
     "data": {
      "text/html": [
       "<div>\n",
       "<style scoped>\n",
       "    .dataframe tbody tr th:only-of-type {\n",
       "        vertical-align: middle;\n",
       "    }\n",
       "\n",
       "    .dataframe tbody tr th {\n",
       "        vertical-align: top;\n",
       "    }\n",
       "\n",
       "    .dataframe thead th {\n",
       "        text-align: right;\n",
       "    }\n",
       "</style>\n",
       "<table border=\"1\" class=\"dataframe\">\n",
       "  <thead>\n",
       "    <tr style=\"text-align: right;\">\n",
       "      <th></th>\n",
       "      <th>power</th>\n",
       "      <th>kilometer</th>\n",
       "    </tr>\n",
       "  </thead>\n",
       "  <tbody>\n",
       "    <tr>\n",
       "      <th>0</th>\n",
       "      <td>1.096678</td>\n",
       "      <td>0.548414</td>\n",
       "    </tr>\n",
       "    <tr>\n",
       "      <th>1</th>\n",
       "      <td>-0.956275</td>\n",
       "      <td>-1.196772</td>\n",
       "    </tr>\n",
       "    <tr>\n",
       "      <th>2</th>\n",
       "      <td>-1.342474</td>\n",
       "      <td>0.548414</td>\n",
       "    </tr>\n",
       "    <tr>\n",
       "      <th>3</th>\n",
       "      <td>0.486890</td>\n",
       "      <td>0.548414</td>\n",
       "    </tr>\n",
       "    <tr>\n",
       "      <th>4</th>\n",
       "      <td>1.238962</td>\n",
       "      <td>-0.905907</td>\n",
       "    </tr>\n",
       "  </tbody>\n",
       "</table>\n",
       "</div>"
      ],
      "text/plain": [
       "      power  kilometer\n",
       "0  1.096678   0.548414\n",
       "1 -0.956275  -1.196772\n",
       "2 -1.342474   0.548414\n",
       "3  0.486890   0.548414\n",
       "4  1.238962  -0.905907"
      ]
     },
     "execution_count": 27,
     "metadata": {},
     "output_type": "execute_result"
    }
   ],
   "source": [
    "scaler = StandardScaler()\n",
    "scaler.fit(train_features[num])\n",
    "\n",
    "train_features[num] = scaler.transform(train_features[num])\n",
    "test_features[num] = scaler.transform(test_features[num])\n",
    "train_features_ohe[num] = scaler.transform(train_features_ohe[num])\n",
    "test_features_ohe[num] = scaler.transform(test_features_ohe[num])\n",
    "\n",
    "train_features[num].head()"
   ]
  },
  {
   "cell_type": "markdown",
   "metadata": {
    "id": "IP81s3fzimF3"
   },
   "source": [
    "## Обучение моделей"
   ]
  },
  {
   "cell_type": "markdown",
   "metadata": {
    "id": "wKAIp_bxB_VJ"
   },
   "source": [
    "Напишем функцию для RMSE, чтобы сделать из неё собственную метрику для `GridSearchCV`."
   ]
  },
  {
   "cell_type": "code",
   "execution_count": 28,
   "metadata": {
    "id": "BqoqmGZoimF4"
   },
   "outputs": [],
   "source": [
    "def rmse(predict, target):\n",
    "    return mean_squared_error(predict, target, squared=False)\n",
    "rmse_scorer = make_scorer(rmse, greater_is_better=False)"
   ]
  },
  {
   "cell_type": "markdown",
   "metadata": {
    "id": "LQff7mtICf1n"
   },
   "source": [
    "Обучим три модели: бустинг от LightGBM, линейную реггрессию и случайное дерево. Сравним для всех время обучения, время предсказания и качество."
   ]
  },
  {
   "cell_type": "markdown",
   "metadata": {
    "id": "LQGYcIxUCYRM"
   },
   "source": [
    "### `LGBMRegressor()`"
   ]
  },
  {
   "cell_type": "markdown",
   "metadata": {
    "id": "cPdm1RHVM3sR"
   },
   "source": [
    "В LGBMRegressor передадим незакодированные данные, так как в нём есть встроенный алгоритм кодирования."
   ]
  },
  {
   "cell_type": "code",
   "execution_count": 29,
   "metadata": {
    "id": "_VrnB1ArS52z"
   },
   "outputs": [],
   "source": [
    "def to_cat_type(data):\n",
    "    for c in data.columns:\n",
    "        col_type = data[c].dtype\n",
    "        if col_type == 'object' or col_type.name == 'registration_year':\n",
    "            data[c] = data[c].astype('category')\n",
    "    return data\n",
    "\n",
    "train_features = to_cat_type(train_features)\n",
    "test_features = to_cat_type(test_features)"
   ]
  },
  {
   "cell_type": "code",
   "execution_count": 30,
   "metadata": {
    "colab": {
     "base_uri": "https://localhost:8080/"
    },
    "id": "IL4e-RtNimF4",
    "outputId": "c91144e3-82b2-4dbb-cadc-be2932a767d2"
   },
   "outputs": [
    {
     "name": "stdout",
     "output_type": "stream",
     "text": [
      "CPU times: total: 14.8 s\n",
      "Wall time: 1min 20s\n"
     ]
    },
    {
     "data": {
      "text/plain": [
       "{'max_depth': 17, 'n_estimators': 100}"
      ]
     },
     "execution_count": 30,
     "metadata": {},
     "output_type": "execute_result"
    }
   ],
   "source": [
    "%%time\n",
    "model_lgb = LGBMRegressor()\n",
    "\n",
    "params = {'n_estimators': np.arange(10, 101, 30), \n",
    "          'max_depth': np.arange(2, 53, 5)}\n",
    "search_lgb = GridSearchCV(model_lgb, params, n_jobs=-1, cv=5, scoring=rmse_scorer)\n",
    "search_lgb.fit(train_features, train_target);\n",
    "best_lgb = search_lgb.best_estimator_\n",
    "search_lgb.best_params_"
   ]
  },
  {
   "cell_type": "code",
   "execution_count": 31,
   "metadata": {
    "colab": {
     "base_uri": "https://localhost:8080/"
    },
    "id": "OlOcLiQXvBJp",
    "outputId": "2a1f4201-e326-409c-c86e-2690a74f5b92"
   },
   "outputs": [
    {
     "name": "stdout",
     "output_type": "stream",
     "text": [
      "Лучшее значение RMSE для LGBMRegressor: 1310.5058515389005\n"
     ]
    }
   ],
   "source": [
    "print('Лучшее значение RMSE для LGBMRegressor:', abs(search_lgb.best_score_))"
   ]
  },
  {
   "cell_type": "markdown",
   "metadata": {
    "id": "IrqifbX-H-cC"
   },
   "source": [
    "### `LinearRegression()`"
   ]
  },
  {
   "cell_type": "code",
   "execution_count": 32,
   "metadata": {
    "colab": {
     "base_uri": "https://localhost:8080/"
    },
    "id": "H7_p64IslQAg",
    "outputId": "04a82e33-9614-4108-b637-8aa7c1656dc3"
   },
   "outputs": [
    {
     "name": "stdout",
     "output_type": "stream",
     "text": [
      "CPU times: total: 20.2 s\n",
      "Wall time: 1min 21s\n"
     ]
    },
    {
     "data": {
      "text/plain": [
       "{}"
      ]
     },
     "execution_count": 32,
     "metadata": {},
     "output_type": "execute_result"
    }
   ],
   "source": [
    "%%time\n",
    "model_lr = LinearRegression()\n",
    "params = {}\n",
    "search_lr = GridSearchCV(model_lr, params, n_jobs=-1, cv=5, scoring=rmse_scorer)\n",
    "search_lr.fit(train_features_ohe, train_target)\n",
    "best_lr = search_lr.best_estimator_\n",
    "search_lr.best_params_"
   ]
  },
  {
   "cell_type": "code",
   "execution_count": 33,
   "metadata": {
    "colab": {
     "base_uri": "https://localhost:8080/"
    },
    "id": "6s2cDLgk0nIO",
    "outputId": "70e48f1a-786e-45ad-bbb0-db1244878e4f"
   },
   "outputs": [
    {
     "name": "stdout",
     "output_type": "stream",
     "text": [
      "Лучшее значение RMSE для линейной регрессии: 1634.199943482975\n"
     ]
    }
   ],
   "source": [
    "print('Лучшее значение RMSE для линейной регрессии:', abs(search_lr.best_score_))"
   ]
  },
  {
   "cell_type": "markdown",
   "metadata": {
    "id": "ScEB3c6FICRq"
   },
   "source": [
    "### `DescisionTreeRegressor()`"
   ]
  },
  {
   "cell_type": "code",
   "execution_count": 34,
   "metadata": {
    "colab": {
     "base_uri": "https://localhost:8080/"
    },
    "id": "5zi7ouZMmTN_",
    "outputId": "6b9ed357-4147-4ffd-cde2-73fce6af89e1"
   },
   "outputs": [
    {
     "name": "stdout",
     "output_type": "stream",
     "text": [
      "CPU times: total: 12.1 s\n",
      "Wall time: 3min 4s\n"
     ]
    },
    {
     "data": {
      "text/plain": [
       "{'max_depth': 18}"
      ]
     },
     "execution_count": 34,
     "metadata": {},
     "output_type": "execute_result"
    }
   ],
   "source": [
    "%%time\n",
    "model_tree = DecisionTreeRegressor(random_state=RANDOM_STATE)\n",
    "params = {'max_depth': np.arange(2, 20, 2)}\n",
    "search_tree = GridSearchCV(model_tree, params, n_jobs=-1, cv=5, scoring=rmse_scorer)\n",
    "search_tree.fit(train_features_ohe, train_target)\n",
    "best_tree = search_tree.best_estimator_\n",
    "search_tree.best_params_"
   ]
  },
  {
   "cell_type": "code",
   "execution_count": 35,
   "metadata": {
    "colab": {
     "base_uri": "https://localhost:8080/"
    },
    "id": "Vp45JHsm1uar",
    "outputId": "64720c26-4fc8-42e6-f0b2-6c71c6be9e94"
   },
   "outputs": [
    {
     "name": "stdout",
     "output_type": "stream",
     "text": [
      "Лучшее значение RMSE для случайного дерева: 1567.489069574669\n"
     ]
    }
   ],
   "source": [
    "print('Лучшее значение RMSE для случайного дерева:', abs(search_tree.best_score_))"
   ]
  },
  {
   "cell_type": "markdown",
   "metadata": {
    "id": "8pqbAbP_UaLk"
   },
   "source": [
    "### Анализ времени работы моделей"
   ]
  },
  {
   "cell_type": "markdown",
   "metadata": {
    "id": "TIeybqC7PUde"
   },
   "source": [
    "Измерим время обучения и предсказания моделей с лучшими результатами:"
   ]
  },
  {
   "cell_type": "code",
   "execution_count": 36,
   "metadata": {
    "colab": {
     "base_uri": "https://localhost:8080/"
    },
    "id": "39nxfgIrPjU1",
    "outputId": "2d2b505e-bc62-4403-98e0-0b4a6ab922a9"
   },
   "outputs": [
    {
     "name": "stdout",
     "output_type": "stream",
     "text": [
      "CPU times: total: 3.97 s\n",
      "Wall time: 669 ms\n"
     ]
    }
   ],
   "source": [
    "%%time\n",
    "lgp_pred_time = perf_counter()\n",
    "best_lgb.predict(train_features)\n",
    "lgb_pred_time = str(round(perf_counter() - lgp_pred_time, 3)) + 's'"
   ]
  },
  {
   "cell_type": "code",
   "execution_count": 37,
   "metadata": {
    "colab": {
     "base_uri": "https://localhost:8080/"
    },
    "id": "fobQj-k4PjEn",
    "outputId": "abca512e-6578-4b61-d6b2-c60093e243dd"
   },
   "outputs": [
    {
     "name": "stdout",
     "output_type": "stream",
     "text": [
      "CPU times: total: 10.2 s\n",
      "Wall time: 1.24 s\n"
     ]
    }
   ],
   "source": [
    "%%time\n",
    "lgb_fit_time = perf_counter()\n",
    "LGBMRegressor(n_estimators=100, max_depth=17).fit(train_features, train_target)\n",
    "lgb_fit_time = str(round(perf_counter() - lgb_fit_time, 3)) + 's'"
   ]
  },
  {
   "cell_type": "code",
   "execution_count": 38,
   "metadata": {
    "colab": {
     "base_uri": "https://localhost:8080/"
    },
    "id": "Hzwtr0H_PhxW",
    "outputId": "a12361e4-ace3-4f47-dd05-6fbf922e5590"
   },
   "outputs": [
    {
     "name": "stdout",
     "output_type": "stream",
     "text": [
      "CPU times: total: 578 ms\n",
      "Wall time: 196 ms\n"
     ]
    }
   ],
   "source": [
    "%%time\n",
    "lr_pred_time = perf_counter()\n",
    "best_lr.predict(train_features_ohe)\n",
    "lr_pred_time = str(round(perf_counter() - lr_pred_time, 3)) + 's'"
   ]
  },
  {
   "cell_type": "code",
   "execution_count": 39,
   "metadata": {
    "colab": {
     "base_uri": "https://localhost:8080/"
    },
    "id": "BS7eWPmSP9E1",
    "outputId": "880ecca3-0bf0-4924-facf-f8d6fac2a221"
   },
   "outputs": [
    {
     "name": "stdout",
     "output_type": "stream",
     "text": [
      "CPU times: total: 16.7 s\n",
      "Wall time: 8.49 s\n"
     ]
    }
   ],
   "source": [
    "%%time\n",
    "lr_fit_time = perf_counter()\n",
    "LinearRegression().fit(train_features_ohe, train_target)\n",
    "lr_fit_time = str(round(perf_counter() - lr_fit_time, 3)) + 's'"
   ]
  },
  {
   "cell_type": "code",
   "execution_count": 40,
   "metadata": {
    "colab": {
     "base_uri": "https://localhost:8080/"
    },
    "id": "0_Y59eMuP83p",
    "outputId": "14cc063d-d0b3-4f08-afb5-5ece2ba8703b"
   },
   "outputs": [
    {
     "name": "stdout",
     "output_type": "stream",
     "text": [
      "CPU times: total: 312 ms\n",
      "Wall time: 399 ms\n"
     ]
    }
   ],
   "source": [
    "%%time\n",
    "tree_pred_time = perf_counter()\n",
    "best_tree.predict(train_features_ohe)\n",
    "tree_pred_time = str(round(perf_counter() - tree_pred_time, 3)) + 's'"
   ]
  },
  {
   "cell_type": "code",
   "execution_count": 41,
   "metadata": {
    "colab": {
     "base_uri": "https://localhost:8080/"
    },
    "id": "JTTpFu8iP68P",
    "outputId": "6cd0da7d-f4f2-494e-bab9-5bc04833ec47"
   },
   "outputs": [
    {
     "name": "stdout",
     "output_type": "stream",
     "text": [
      "CPU times: total: 9.91 s\n",
      "Wall time: 12.5 s\n"
     ]
    }
   ],
   "source": [
    "%%time\n",
    "tree_fit_time = perf_counter()\n",
    "DecisionTreeRegressor(random_state=RANDOM_STATE, max_depth=18).fit(train_features_ohe, train_target)\n",
    "tree_fit_time = str(round(perf_counter() - tree_fit_time, 3)) + 's'"
   ]
  },
  {
   "cell_type": "markdown",
   "metadata": {
    "id": "g7yD2U2QimF5"
   },
   "source": [
    "## Анализ моделей"
   ]
  },
  {
   "cell_type": "markdown",
   "metadata": {
    "id": "p57qep6fEm9b"
   },
   "source": [
    "Проверим работу лучшей модели на тестовых данных. Это модель `LGBMRegressor` с параметрами `n_estimators=100` и `max_depth=17`."
   ]
  },
  {
   "cell_type": "code",
   "execution_count": 42,
   "metadata": {
    "colab": {
     "base_uri": "https://localhost:8080/"
    },
    "id": "7QtT0h63imF5",
    "outputId": "3be5f8df-4f7f-4695-9dfa-0ee14cfbe42b"
   },
   "outputs": [
    {
     "name": "stdout",
     "output_type": "stream",
     "text": [
      "CPU times: total: 1.06 s\n",
      "Wall time: 233 ms\n"
     ]
    },
    {
     "data": {
      "text/plain": [
       "1307.794700824098"
      ]
     },
     "execution_count": 42,
     "metadata": {},
     "output_type": "execute_result"
    }
   ],
   "source": [
    "%%time\n",
    "lgb_test_pred_time = perf_counter()\n",
    "lgb_preds = best_lgb.predict(test_features)\n",
    "lgb_test_pred_time = str(round(perf_counter() - lgb_test_pred_time, 3)) + 's'\n",
    "test_lgb_score = rmse(lgb_preds, test_target)\n",
    "test_lgb_score"
   ]
  },
  {
   "cell_type": "markdown",
   "metadata": {
    "id": "NTqvfgt0Fimc"
   },
   "source": [
    "Создадим DataFrame, чтобы наглядно сравнить результаты:"
   ]
  },
  {
   "cell_type": "code",
   "execution_count": 43,
   "metadata": {
    "colab": {
     "base_uri": "https://localhost:8080/",
     "height": 207
    },
    "id": "XJWfDv2BFhxI",
    "outputId": "04fa0dfe-f247-4c77-e8fd-0cbebfb0774b"
   },
   "outputs": [
    {
     "data": {
      "text/html": [
       "<div>\n",
       "<style scoped>\n",
       "    .dataframe tbody tr th:only-of-type {\n",
       "        vertical-align: middle;\n",
       "    }\n",
       "\n",
       "    .dataframe tbody tr th {\n",
       "        vertical-align: top;\n",
       "    }\n",
       "\n",
       "    .dataframe thead th {\n",
       "        text-align: right;\n",
       "    }\n",
       "</style>\n",
       "<table border=\"1\" class=\"dataframe\">\n",
       "  <thead>\n",
       "    <tr style=\"text-align: right;\">\n",
       "      <th></th>\n",
       "      <th>rmse_cross_validation</th>\n",
       "      <th>rmse_test_sample</th>\n",
       "      <th>train_time</th>\n",
       "      <th>predict_time</th>\n",
       "      <th>predict_time_test_sample</th>\n",
       "    </tr>\n",
       "  </thead>\n",
       "  <tbody>\n",
       "    <tr>\n",
       "      <th>LGBMRegressor</th>\n",
       "      <td>1310.505852</td>\n",
       "      <td>1307.794701</td>\n",
       "      <td>1.242s</td>\n",
       "      <td>0.672s</td>\n",
       "      <td>0.225s</td>\n",
       "    </tr>\n",
       "    <tr>\n",
       "      <th>LinearRegression</th>\n",
       "      <td>1634.199943</td>\n",
       "      <td>-</td>\n",
       "      <td>8.489s</td>\n",
       "      <td>0.194s</td>\n",
       "      <td>-</td>\n",
       "    </tr>\n",
       "    <tr>\n",
       "      <th>DescisionTreeRegressor</th>\n",
       "      <td>1567.48907</td>\n",
       "      <td>-</td>\n",
       "      <td>12.504s</td>\n",
       "      <td>0.403s</td>\n",
       "      <td>-</td>\n",
       "    </tr>\n",
       "  </tbody>\n",
       "</table>\n",
       "</div>"
      ],
      "text/plain": [
       "                       rmse_cross_validation rmse_test_sample train_time  \\\n",
       "LGBMRegressor                    1310.505852      1307.794701     1.242s   \n",
       "LinearRegression                 1634.199943                -     8.489s   \n",
       "DescisionTreeRegressor            1567.48907                -    12.504s   \n",
       "\n",
       "                       predict_time predict_time_test_sample  \n",
       "LGBMRegressor                0.672s                   0.225s  \n",
       "LinearRegression             0.194s                        -  \n",
       "DescisionTreeRegressor       0.403s                        -  "
      ]
     },
     "execution_count": 43,
     "metadata": {},
     "output_type": "execute_result"
    }
   ],
   "source": [
    "results = pd.DataFrame([[abs(search_lgb.best_score_), abs(search_lr.best_score_), abs(search_tree.best_score_)],\n",
    "                        [test_lgb_score, '-', '-'],\n",
    "                        [lgb_fit_time, lr_fit_time, tree_fit_time],\n",
    "                        [lgb_pred_time, lr_pred_time, tree_pred_time],\n",
    "                        [lgb_test_pred_time, '-', '-']],\n",
    "                       columns=['LGBMRegressor', 'LinearRegression', 'DescisionTreeRegressor'],\n",
    "                       index=['rmse_cross_validation', 'rmse_test_sample', 'train_time', 'predict_time', 'predict_time_test_sample'])\n",
    "results.T"
   ]
  },
  {
   "cell_type": "markdown",
   "metadata": {
    "id": "hNLkxO9wHgPT"
   },
   "source": [
    "### Выводы"
   ]
  },
  {
   "cell_type": "markdown",
   "metadata": {
    "id": "ZtcPA_JxHlqM"
   },
   "source": [
    "* Лучшая модель градиентного бустинга достигла целевой метрики на тестовых данных с большим запасом.\n",
    "* Модель дерева имеет средние результаты по всем параметрам.\n",
    "* Линейная регрессия предсказывает быстрее всего, но время обучения на ней сильно хуже.\n",
    "* Лучшая метрика и время обучения получились на бустинге, однако время предсказания самое большое."
   ]
  }
 ],
 "metadata": {
  "ExecuteTimeLog": [
   {
    "duration": 360,
    "start_time": "2023-02-20T19:25:16.532Z"
   },
   {
    "duration": 1139,
    "start_time": "2023-02-20T19:25:36.038Z"
   },
   {
    "duration": 121,
    "start_time": "2023-02-20T19:25:42.782Z"
   },
   {
    "duration": 2,
    "start_time": "2023-02-20T19:26:04.265Z"
   },
   {
    "duration": 27,
    "start_time": "2023-02-20T19:26:14.615Z"
   },
   {
    "duration": 69,
    "start_time": "2023-02-20T19:29:49.502Z"
   },
   {
    "duration": 13,
    "start_time": "2023-02-20T19:29:53.777Z"
   },
   {
    "duration": 14,
    "start_time": "2023-02-20T19:29:57.816Z"
   },
   {
    "duration": 47,
    "start_time": "2023-02-20T19:30:25.462Z"
   },
   {
    "duration": 27,
    "start_time": "2023-02-20T19:30:31.853Z"
   },
   {
    "duration": 33,
    "start_time": "2023-02-20T19:30:48.804Z"
   },
   {
    "duration": 17,
    "start_time": "2023-02-20T19:31:22.621Z"
   },
   {
    "duration": 379,
    "start_time": "2023-02-20T19:31:27.316Z"
   },
   {
    "duration": 6,
    "start_time": "2023-02-20T19:31:27.696Z"
   },
   {
    "duration": 792,
    "start_time": "2023-02-20T19:31:27.704Z"
   },
   {
    "duration": 123,
    "start_time": "2023-02-20T19:31:28.497Z"
   },
   {
    "duration": 29,
    "start_time": "2023-02-20T19:31:28.622Z"
   },
   {
    "duration": 55,
    "start_time": "2023-02-20T19:31:28.653Z"
   },
   {
    "duration": 22,
    "start_time": "2023-02-20T19:31:28.710Z"
   },
   {
    "duration": 147,
    "start_time": "2023-02-20T19:55:49.331Z"
   },
   {
    "duration": 185,
    "start_time": "2023-02-20T19:55:59.282Z"
   },
   {
    "duration": 17,
    "start_time": "2023-02-20T19:56:10.727Z"
   },
   {
    "duration": 65,
    "start_time": "2023-02-20T20:02:24.439Z"
   },
   {
    "duration": 71,
    "start_time": "2023-02-20T20:02:35.163Z"
   },
   {
    "duration": 17,
    "start_time": "2023-02-20T20:07:11.657Z"
   },
   {
    "duration": 68,
    "start_time": "2023-02-20T20:09:15.153Z"
   },
   {
    "duration": 23,
    "start_time": "2023-02-20T20:09:23.052Z"
   },
   {
    "duration": 10,
    "start_time": "2023-02-20T20:09:37.440Z"
   },
   {
    "duration": 7,
    "start_time": "2023-02-20T20:10:03.501Z"
   },
   {
    "duration": 7,
    "start_time": "2023-02-20T20:10:05.946Z"
   },
   {
    "duration": 22,
    "start_time": "2023-02-20T20:10:40.634Z"
   },
   {
    "duration": 8,
    "start_time": "2023-02-20T20:11:35.115Z"
   },
   {
    "duration": 27,
    "start_time": "2023-02-20T20:12:23.838Z"
   },
   {
    "duration": 38,
    "start_time": "2023-02-20T20:12:34.309Z"
   },
   {
    "duration": 60,
    "start_time": "2023-02-21T10:51:02.023Z"
   },
   {
    "duration": 430,
    "start_time": "2023-02-21T10:51:07.757Z"
   },
   {
    "duration": 3,
    "start_time": "2023-02-21T10:51:08.189Z"
   },
   {
    "duration": 3098,
    "start_time": "2023-02-21T10:51:08.193Z"
   },
   {
    "duration": 143,
    "start_time": "2023-02-21T10:51:11.292Z"
   },
   {
    "duration": 43,
    "start_time": "2023-02-21T10:51:11.437Z"
   },
   {
    "duration": 41,
    "start_time": "2023-02-21T10:51:11.481Z"
   },
   {
    "duration": 20,
    "start_time": "2023-02-21T10:51:11.524Z"
   },
   {
    "duration": 50,
    "start_time": "2023-02-21T10:51:11.546Z"
   },
   {
    "duration": 65,
    "start_time": "2023-02-21T10:51:11.598Z"
   },
   {
    "duration": 22,
    "start_time": "2023-02-21T10:51:11.675Z"
   },
   {
    "duration": 9,
    "start_time": "2023-02-21T10:51:11.698Z"
   },
   {
    "duration": 7,
    "start_time": "2023-02-21T10:51:11.708Z"
   },
   {
    "duration": 94,
    "start_time": "2023-02-21T10:51:11.716Z"
   },
   {
    "duration": 7,
    "start_time": "2023-02-21T10:51:20.897Z"
   },
   {
    "duration": 27,
    "start_time": "2023-02-21T10:51:48.709Z"
   },
   {
    "duration": 878,
    "start_time": "2023-02-21T11:06:37.409Z"
   },
   {
    "duration": 17,
    "start_time": "2023-02-21T11:18:59.871Z"
   },
   {
    "duration": 2,
    "start_time": "2023-02-21T11:19:04.160Z"
   },
   {
    "duration": 7,
    "start_time": "2023-02-21T11:20:02.693Z"
   },
   {
    "duration": 12,
    "start_time": "2023-02-21T11:20:08.676Z"
   },
   {
    "duration": 538,
    "start_time": "2023-02-21T11:22:35.952Z"
   },
   {
    "duration": 671,
    "start_time": "2023-02-21T11:24:28.700Z"
   },
   {
    "duration": 692,
    "start_time": "2023-02-21T11:24:40.742Z"
   },
   {
    "duration": 192,
    "start_time": "2023-02-21T11:25:38.237Z"
   },
   {
    "duration": 250,
    "start_time": "2023-02-21T11:26:09.304Z"
   },
   {
    "duration": 185,
    "start_time": "2023-02-21T11:26:54.774Z"
   },
   {
    "duration": 359,
    "start_time": "2023-02-21T11:27:02.216Z"
   },
   {
    "duration": 1287,
    "start_time": "2023-02-21T11:27:08.195Z"
   },
   {
    "duration": 11866,
    "start_time": "2023-02-21T11:36:09.320Z"
   },
   {
    "duration": 3259,
    "start_time": "2023-02-21T11:36:29.079Z"
   },
   {
    "duration": 2355,
    "start_time": "2023-02-21T11:37:07.868Z"
   },
   {
    "duration": 2497,
    "start_time": "2023-02-21T11:37:24.252Z"
   },
   {
    "duration": 3031,
    "start_time": "2023-02-21T11:37:33.000Z"
   },
   {
    "duration": 616,
    "start_time": "2023-02-21T11:37:50.774Z"
   },
   {
    "duration": 3,
    "start_time": "2023-02-21T11:37:51.391Z"
   },
   {
    "duration": 782,
    "start_time": "2023-02-21T11:37:51.396Z"
   },
   {
    "duration": 125,
    "start_time": "2023-02-21T11:37:52.180Z"
   },
   {
    "duration": 29,
    "start_time": "2023-02-21T11:37:52.307Z"
   },
   {
    "duration": 53,
    "start_time": "2023-02-21T11:37:52.338Z"
   },
   {
    "duration": 18,
    "start_time": "2023-02-21T11:37:52.392Z"
   },
   {
    "duration": 47,
    "start_time": "2023-02-21T11:37:52.411Z"
   },
   {
    "duration": 68,
    "start_time": "2023-02-21T11:37:52.460Z"
   },
   {
    "duration": 21,
    "start_time": "2023-02-21T11:37:52.531Z"
   },
   {
    "duration": 29,
    "start_time": "2023-02-21T11:37:52.553Z"
   },
   {
    "duration": 27,
    "start_time": "2023-02-21T11:37:52.583Z"
   },
   {
    "duration": 51,
    "start_time": "2023-02-21T11:37:52.611Z"
   },
   {
    "duration": 2407,
    "start_time": "2023-02-21T11:37:52.664Z"
   },
   {
    "duration": 2594,
    "start_time": "2023-02-21T11:37:55.075Z"
   },
   {
    "duration": 2520,
    "start_time": "2023-02-21T11:38:31.075Z"
   },
   {
    "duration": 2589,
    "start_time": "2023-02-21T11:39:20.001Z"
   },
   {
    "duration": 2771,
    "start_time": "2023-02-21T11:39:22.592Z"
   },
   {
    "duration": 2641,
    "start_time": "2023-02-21T11:39:37.504Z"
   },
   {
    "duration": 12852,
    "start_time": "2023-02-21T11:39:53.667Z"
   },
   {
    "duration": 47,
    "start_time": "2023-02-21T11:41:36.467Z"
   },
   {
    "duration": 1333,
    "start_time": "2023-02-21T11:41:51.961Z"
   },
   {
    "duration": 955,
    "start_time": "2023-02-21T11:42:19.958Z"
   },
   {
    "duration": 734,
    "start_time": "2023-02-21T11:42:25.633Z"
   },
   {
    "duration": 19,
    "start_time": "2023-02-21T11:43:22.816Z"
   },
   {
    "duration": 1173,
    "start_time": "2023-02-21T11:44:12.485Z"
   },
   {
    "duration": 75,
    "start_time": "2023-02-21T11:44:51.941Z"
   },
   {
    "duration": 569,
    "start_time": "2023-02-21T11:45:40.581Z"
   },
   {
    "duration": 38,
    "start_time": "2023-02-21T11:45:55.568Z"
   },
   {
    "duration": 149,
    "start_time": "2023-02-21T11:46:16.376Z"
   },
   {
    "duration": 13,
    "start_time": "2023-02-21T11:47:09.377Z"
   },
   {
    "duration": 14,
    "start_time": "2023-02-21T11:48:02.492Z"
   },
   {
    "duration": 18,
    "start_time": "2023-02-21T11:48:17.936Z"
   },
   {
    "duration": 218,
    "start_time": "2023-02-21T11:48:41.065Z"
   },
   {
    "duration": 140,
    "start_time": "2023-02-21T11:49:27.449Z"
   },
   {
    "duration": 10,
    "start_time": "2023-02-21T11:58:59.667Z"
   },
   {
    "duration": 17,
    "start_time": "2023-02-21T11:59:15.132Z"
   },
   {
    "duration": 131,
    "start_time": "2023-02-21T12:01:27.607Z"
   },
   {
    "duration": 122,
    "start_time": "2023-02-21T12:01:46.984Z"
   },
   {
    "duration": 131,
    "start_time": "2023-02-21T12:02:05.480Z"
   },
   {
    "duration": 13441,
    "start_time": "2023-02-21T12:02:20.083Z"
   },
   {
    "duration": 3801,
    "start_time": "2023-02-21T12:02:33.526Z"
   },
   {
    "duration": 125,
    "start_time": "2023-02-21T12:03:35.480Z"
   },
   {
    "duration": 155,
    "start_time": "2023-02-21T12:03:47.028Z"
   },
   {
    "duration": 186,
    "start_time": "2023-02-21T12:04:00.313Z"
   },
   {
    "duration": 149,
    "start_time": "2023-02-21T12:04:02.630Z"
   },
   {
    "duration": 3,
    "start_time": "2023-02-21T12:04:23.198Z"
   },
   {
    "duration": 1179,
    "start_time": "2023-02-21T12:04:29.001Z"
   },
   {
    "duration": 3,
    "start_time": "2023-02-21T12:04:30.182Z"
   },
   {
    "duration": 896,
    "start_time": "2023-02-21T12:04:30.186Z"
   },
   {
    "duration": 146,
    "start_time": "2023-02-21T12:04:31.084Z"
   },
   {
    "duration": 49,
    "start_time": "2023-02-21T12:04:31.232Z"
   },
   {
    "duration": 45,
    "start_time": "2023-02-21T12:04:31.283Z"
   },
   {
    "duration": 36,
    "start_time": "2023-02-21T12:04:31.330Z"
   },
   {
    "duration": 58,
    "start_time": "2023-02-21T12:04:31.367Z"
   },
   {
    "duration": 85,
    "start_time": "2023-02-21T12:04:31.426Z"
   },
   {
    "duration": 22,
    "start_time": "2023-02-21T12:04:31.512Z"
   },
   {
    "duration": 11,
    "start_time": "2023-02-21T12:04:31.536Z"
   },
   {
    "duration": 35,
    "start_time": "2023-02-21T12:04:31.549Z"
   },
   {
    "duration": 38,
    "start_time": "2023-02-21T12:04:31.586Z"
   },
   {
    "duration": 2670,
    "start_time": "2023-02-21T12:04:31.627Z"
   },
   {
    "duration": 13059,
    "start_time": "2023-02-21T12:04:34.298Z"
   },
   {
    "duration": 31,
    "start_time": "2023-02-21T12:04:47.359Z"
   },
   {
    "duration": 139,
    "start_time": "2023-02-21T12:04:47.392Z"
   },
   {
    "duration": 162,
    "start_time": "2023-02-21T12:04:47.532Z"
   },
   {
    "duration": 21,
    "start_time": "2023-02-21T12:04:47.695Z"
   },
   {
    "duration": 702,
    "start_time": "2023-02-21T12:04:47.717Z"
   },
   {
    "duration": 19,
    "start_time": "2023-02-21T12:05:41.663Z"
   },
   {
    "duration": 704,
    "start_time": "2023-02-21T12:05:43.259Z"
   },
   {
    "duration": 14,
    "start_time": "2023-02-21T12:06:14.725Z"
   },
   {
    "duration": 1708,
    "start_time": "2023-02-21T12:06:18.366Z"
   },
   {
    "duration": 23,
    "start_time": "2023-02-21T12:06:39.796Z"
   },
   {
    "duration": 18,
    "start_time": "2023-02-21T12:06:45.404Z"
   },
   {
    "duration": 16,
    "start_time": "2023-02-21T12:06:50.176Z"
   },
   {
    "duration": 8,
    "start_time": "2023-02-21T12:08:36.779Z"
   },
   {
    "duration": 9,
    "start_time": "2023-02-21T12:08:40.474Z"
   },
   {
    "duration": 5,
    "start_time": "2023-02-21T12:08:53.292Z"
   },
   {
    "duration": 6,
    "start_time": "2023-02-21T12:09:02.695Z"
   },
   {
    "duration": 15,
    "start_time": "2023-02-21T12:09:32.931Z"
   },
   {
    "duration": 17,
    "start_time": "2023-02-21T12:09:45.814Z"
   },
   {
    "duration": 30,
    "start_time": "2023-02-21T12:10:56.160Z"
   },
   {
    "duration": 5,
    "start_time": "2023-02-21T12:11:10.290Z"
   },
   {
    "duration": 31,
    "start_time": "2023-02-21T12:11:58.164Z"
   },
   {
    "duration": 1323,
    "start_time": "2023-02-21T12:12:04.589Z"
   },
   {
    "duration": 2,
    "start_time": "2023-02-21T12:12:05.914Z"
   },
   {
    "duration": 866,
    "start_time": "2023-02-21T12:12:05.918Z"
   },
   {
    "duration": 164,
    "start_time": "2023-02-21T12:12:06.791Z"
   },
   {
    "duration": 32,
    "start_time": "2023-02-21T12:12:06.957Z"
   },
   {
    "duration": 71,
    "start_time": "2023-02-21T12:12:06.992Z"
   },
   {
    "duration": 53,
    "start_time": "2023-02-21T12:12:07.064Z"
   },
   {
    "duration": 57,
    "start_time": "2023-02-21T12:12:07.119Z"
   },
   {
    "duration": 65,
    "start_time": "2023-02-21T12:12:07.183Z"
   },
   {
    "duration": 26,
    "start_time": "2023-02-21T12:12:07.250Z"
   },
   {
    "duration": 42,
    "start_time": "2023-02-21T12:12:07.278Z"
   },
   {
    "duration": 12,
    "start_time": "2023-02-21T12:12:07.322Z"
   },
   {
    "duration": 28,
    "start_time": "2023-02-21T12:12:07.336Z"
   },
   {
    "duration": 60,
    "start_time": "2023-02-21T12:12:07.367Z"
   },
   {
    "duration": 34,
    "start_time": "2023-02-21T12:12:07.428Z"
   },
   {
    "duration": 2576,
    "start_time": "2023-02-21T12:12:07.464Z"
   },
   {
    "duration": 12841,
    "start_time": "2023-02-21T12:12:10.042Z"
   },
   {
    "duration": 18,
    "start_time": "2023-02-21T12:12:22.889Z"
   },
   {
    "duration": 138,
    "start_time": "2023-02-21T12:12:22.909Z"
   },
   {
    "duration": 171,
    "start_time": "2023-02-21T12:12:23.049Z"
   },
   {
    "duration": 71,
    "start_time": "2023-02-21T12:12:23.222Z"
   },
   {
    "duration": 758,
    "start_time": "2023-02-21T12:12:23.296Z"
   },
   {
    "duration": 17,
    "start_time": "2023-02-21T12:12:24.056Z"
   },
   {
    "duration": 85,
    "start_time": "2023-02-21T12:13:47.093Z"
   },
   {
    "duration": 77,
    "start_time": "2023-02-21T12:14:03.785Z"
   },
   {
    "duration": 82,
    "start_time": "2023-02-21T12:14:09.563Z"
   },
   {
    "duration": 99,
    "start_time": "2023-02-21T12:14:29.072Z"
   },
   {
    "duration": 5,
    "start_time": "2023-02-21T12:14:46.950Z"
   },
   {
    "duration": 112,
    "start_time": "2023-02-21T12:14:53.599Z"
   },
   {
    "duration": 70,
    "start_time": "2023-02-21T12:14:57.889Z"
   },
   {
    "duration": 154,
    "start_time": "2023-02-21T12:15:00.124Z"
   },
   {
    "duration": 21,
    "start_time": "2023-02-21T12:17:46.581Z"
   },
   {
    "duration": 79,
    "start_time": "2023-02-21T12:17:55.434Z"
   },
   {
    "duration": 168,
    "start_time": "2023-02-21T12:18:24.222Z"
   },
   {
    "duration": 170,
    "start_time": "2023-02-21T12:18:32.132Z"
   },
   {
    "duration": 59,
    "start_time": "2023-02-21T12:18:48.380Z"
   },
   {
    "duration": 52,
    "start_time": "2023-02-21T12:18:53.564Z"
   },
   {
    "duration": 41,
    "start_time": "2023-02-21T12:19:24.257Z"
   },
   {
    "duration": 1191,
    "start_time": "2023-02-21T12:19:32.717Z"
   },
   {
    "duration": 4,
    "start_time": "2023-02-21T12:19:33.910Z"
   },
   {
    "duration": 892,
    "start_time": "2023-02-21T12:19:33.915Z"
   },
   {
    "duration": 179,
    "start_time": "2023-02-21T12:19:34.809Z"
   },
   {
    "duration": 32,
    "start_time": "2023-02-21T12:19:34.990Z"
   },
   {
    "duration": 83,
    "start_time": "2023-02-21T12:19:35.025Z"
   },
   {
    "duration": 25,
    "start_time": "2023-02-21T12:19:35.110Z"
   },
   {
    "duration": 63,
    "start_time": "2023-02-21T12:19:35.137Z"
   },
   {
    "duration": 89,
    "start_time": "2023-02-21T12:19:35.202Z"
   },
   {
    "duration": 18,
    "start_time": "2023-02-21T12:19:35.293Z"
   },
   {
    "duration": 15,
    "start_time": "2023-02-21T12:19:35.313Z"
   },
   {
    "duration": 21,
    "start_time": "2023-02-21T12:19:35.330Z"
   },
   {
    "duration": 27,
    "start_time": "2023-02-21T12:19:35.353Z"
   },
   {
    "duration": 29,
    "start_time": "2023-02-21T12:19:35.381Z"
   },
   {
    "duration": 2692,
    "start_time": "2023-02-21T12:19:35.412Z"
   },
   {
    "duration": 12217,
    "start_time": "2023-02-21T12:19:38.106Z"
   },
   {
    "duration": 18,
    "start_time": "2023-02-21T12:19:50.324Z"
   },
   {
    "duration": 1007,
    "start_time": "2023-02-21T12:19:50.344Z"
   },
   {
    "duration": 176,
    "start_time": "2023-02-21T12:19:51.353Z"
   },
   {
    "duration": 65,
    "start_time": "2023-02-21T12:19:51.531Z"
   },
   {
    "duration": 899,
    "start_time": "2023-02-21T12:19:51.598Z"
   },
   {
    "duration": 22,
    "start_time": "2023-02-21T12:19:52.499Z"
   },
   {
    "duration": 94,
    "start_time": "2023-02-21T12:19:52.523Z"
   },
   {
    "duration": 176,
    "start_time": "2023-02-21T12:19:52.619Z"
   },
   {
    "duration": 67,
    "start_time": "2023-02-21T12:19:52.796Z"
   },
   {
    "duration": 139,
    "start_time": "2023-02-21T12:20:30.140Z"
   },
   {
    "duration": 1146,
    "start_time": "2023-02-21T12:20:40.255Z"
   },
   {
    "duration": 2,
    "start_time": "2023-02-21T12:20:41.404Z"
   },
   {
    "duration": 788,
    "start_time": "2023-02-21T12:20:41.407Z"
   },
   {
    "duration": 134,
    "start_time": "2023-02-21T12:20:42.197Z"
   },
   {
    "duration": 37,
    "start_time": "2023-02-21T12:20:42.333Z"
   },
   {
    "duration": 41,
    "start_time": "2023-02-21T12:20:42.372Z"
   },
   {
    "duration": 20,
    "start_time": "2023-02-21T12:20:42.415Z"
   },
   {
    "duration": 48,
    "start_time": "2023-02-21T12:20:42.437Z"
   },
   {
    "duration": 60,
    "start_time": "2023-02-21T12:20:42.486Z"
   },
   {
    "duration": 42,
    "start_time": "2023-02-21T12:20:42.549Z"
   },
   {
    "duration": 24,
    "start_time": "2023-02-21T12:20:42.592Z"
   },
   {
    "duration": 2574,
    "start_time": "2023-02-21T12:20:42.617Z"
   },
   {
    "duration": 12694,
    "start_time": "2023-02-21T12:20:45.193Z"
   },
   {
    "duration": 19,
    "start_time": "2023-02-21T12:20:57.889Z"
   },
   {
    "duration": 144,
    "start_time": "2023-02-21T12:20:57.910Z"
   },
   {
    "duration": 153,
    "start_time": "2023-02-21T12:20:58.056Z"
   },
   {
    "duration": 132,
    "start_time": "2023-02-21T12:20:58.210Z"
   },
   {
    "duration": 59,
    "start_time": "2023-02-21T12:20:58.343Z"
   },
   {
    "duration": 746,
    "start_time": "2023-02-21T12:20:58.403Z"
   },
   {
    "duration": 37,
    "start_time": "2023-02-21T12:20:59.151Z"
   },
   {
    "duration": 80,
    "start_time": "2023-02-21T12:20:59.190Z"
   },
   {
    "duration": 149,
    "start_time": "2023-02-21T12:20:59.272Z"
   },
   {
    "duration": 70,
    "start_time": "2023-02-21T12:20:59.423Z"
   },
   {
    "duration": 19,
    "start_time": "2023-02-21T12:21:46.842Z"
   },
   {
    "duration": 1203,
    "start_time": "2023-02-21T12:22:01.794Z"
   },
   {
    "duration": 2,
    "start_time": "2023-02-21T12:22:02.999Z"
   },
   {
    "duration": 883,
    "start_time": "2023-02-21T12:22:03.005Z"
   },
   {
    "duration": 129,
    "start_time": "2023-02-21T12:22:03.890Z"
   },
   {
    "duration": 24,
    "start_time": "2023-02-21T12:22:04.021Z"
   },
   {
    "duration": 57,
    "start_time": "2023-02-21T12:22:04.047Z"
   },
   {
    "duration": 16,
    "start_time": "2023-02-21T12:22:04.106Z"
   },
   {
    "duration": 56,
    "start_time": "2023-02-21T12:22:04.124Z"
   },
   {
    "duration": 65,
    "start_time": "2023-02-21T12:22:04.182Z"
   },
   {
    "duration": 32,
    "start_time": "2023-02-21T12:22:04.249Z"
   },
   {
    "duration": 16,
    "start_time": "2023-02-21T12:22:04.283Z"
   },
   {
    "duration": 26,
    "start_time": "2023-02-21T12:22:04.300Z"
   },
   {
    "duration": 2809,
    "start_time": "2023-02-21T12:22:04.328Z"
   },
   {
    "duration": 12301,
    "start_time": "2023-02-21T12:22:07.140Z"
   },
   {
    "duration": 40,
    "start_time": "2023-02-21T12:22:19.442Z"
   },
   {
    "duration": 121,
    "start_time": "2023-02-21T12:22:19.484Z"
   },
   {
    "duration": 144,
    "start_time": "2023-02-21T12:22:19.607Z"
   },
   {
    "duration": 133,
    "start_time": "2023-02-21T12:22:19.752Z"
   },
   {
    "duration": 48,
    "start_time": "2023-02-21T12:22:19.887Z"
   },
   {
    "duration": 721,
    "start_time": "2023-02-21T12:22:19.937Z"
   },
   {
    "duration": 29,
    "start_time": "2023-02-21T12:22:20.659Z"
   },
   {
    "duration": 70,
    "start_time": "2023-02-21T12:22:20.689Z"
   },
   {
    "duration": 155,
    "start_time": "2023-02-21T12:22:20.760Z"
   },
   {
    "duration": 74,
    "start_time": "2023-02-21T12:22:20.916Z"
   },
   {
    "duration": 116,
    "start_time": "2023-02-21T12:23:08.420Z"
   },
   {
    "duration": 60,
    "start_time": "2023-02-21T12:23:39.098Z"
   },
   {
    "duration": 1604,
    "start_time": "2023-02-21T12:23:40.478Z"
   },
   {
    "duration": 867,
    "start_time": "2023-02-21T12:24:18.635Z"
   },
   {
    "duration": 1155,
    "start_time": "2023-02-21T12:24:23.099Z"
   },
   {
    "duration": 2,
    "start_time": "2023-02-21T12:24:24.256Z"
   },
   {
    "duration": 838,
    "start_time": "2023-02-21T12:24:24.266Z"
   },
   {
    "duration": 173,
    "start_time": "2023-02-21T12:24:25.107Z"
   },
   {
    "duration": 27,
    "start_time": "2023-02-21T12:24:25.284Z"
   },
   {
    "duration": 43,
    "start_time": "2023-02-21T12:24:25.313Z"
   },
   {
    "duration": 39,
    "start_time": "2023-02-21T12:24:25.358Z"
   },
   {
    "duration": 39,
    "start_time": "2023-02-21T12:24:25.398Z"
   },
   {
    "duration": 80,
    "start_time": "2023-02-21T12:24:25.439Z"
   },
   {
    "duration": 21,
    "start_time": "2023-02-21T12:24:25.521Z"
   },
   {
    "duration": 15,
    "start_time": "2023-02-21T12:24:25.544Z"
   },
   {
    "duration": 33,
    "start_time": "2023-02-21T12:24:25.567Z"
   },
   {
    "duration": 2483,
    "start_time": "2023-02-21T12:24:25.602Z"
   },
   {
    "duration": 12793,
    "start_time": "2023-02-21T12:24:28.087Z"
   },
   {
    "duration": 20,
    "start_time": "2023-02-21T12:24:40.881Z"
   },
   {
    "duration": 154,
    "start_time": "2023-02-21T12:24:40.903Z"
   },
   {
    "duration": 161,
    "start_time": "2023-02-21T12:24:41.058Z"
   },
   {
    "duration": 164,
    "start_time": "2023-02-21T12:24:41.221Z"
   },
   {
    "duration": 66,
    "start_time": "2023-02-21T12:24:41.387Z"
   },
   {
    "duration": 867,
    "start_time": "2023-02-21T12:24:41.455Z"
   },
   {
    "duration": 85,
    "start_time": "2023-02-21T12:24:42.324Z"
   },
   {
    "duration": 169,
    "start_time": "2023-02-21T12:24:42.411Z"
   },
   {
    "duration": 77,
    "start_time": "2023-02-21T12:24:42.582Z"
   },
   {
    "duration": 1763,
    "start_time": "2023-02-21T12:24:42.661Z"
   },
   {
    "duration": 643,
    "start_time": "2023-02-21T12:26:47.178Z"
   },
   {
    "duration": 104,
    "start_time": "2023-02-21T12:27:08.437Z"
   },
   {
    "duration": 1234,
    "start_time": "2023-02-21T12:27:34.970Z"
   },
   {
    "duration": 3,
    "start_time": "2023-02-21T12:27:36.206Z"
   },
   {
    "duration": 891,
    "start_time": "2023-02-21T12:27:36.210Z"
   },
   {
    "duration": 155,
    "start_time": "2023-02-21T12:27:37.103Z"
   },
   {
    "duration": 36,
    "start_time": "2023-02-21T12:27:37.267Z"
   },
   {
    "duration": 46,
    "start_time": "2023-02-21T12:27:37.305Z"
   },
   {
    "duration": 36,
    "start_time": "2023-02-21T12:27:37.352Z"
   },
   {
    "duration": 47,
    "start_time": "2023-02-21T12:27:37.389Z"
   },
   {
    "duration": 97,
    "start_time": "2023-02-21T12:27:37.438Z"
   },
   {
    "duration": 32,
    "start_time": "2023-02-21T12:27:37.536Z"
   },
   {
    "duration": 20,
    "start_time": "2023-02-21T12:27:37.570Z"
   },
   {
    "duration": 27,
    "start_time": "2023-02-21T12:27:37.591Z"
   },
   {
    "duration": 2564,
    "start_time": "2023-02-21T12:27:37.620Z"
   },
   {
    "duration": 12793,
    "start_time": "2023-02-21T12:27:40.186Z"
   },
   {
    "duration": 27,
    "start_time": "2023-02-21T12:27:52.981Z"
   },
   {
    "duration": 130,
    "start_time": "2023-02-21T12:27:53.010Z"
   },
   {
    "duration": 162,
    "start_time": "2023-02-21T12:27:53.141Z"
   },
   {
    "duration": 131,
    "start_time": "2023-02-21T12:27:53.305Z"
   },
   {
    "duration": 87,
    "start_time": "2023-02-21T12:27:53.438Z"
   },
   {
    "duration": 710,
    "start_time": "2023-02-21T12:27:53.526Z"
   },
   {
    "duration": 85,
    "start_time": "2023-02-21T12:27:54.238Z"
   },
   {
    "duration": 188,
    "start_time": "2023-02-21T12:27:54.325Z"
   },
   {
    "duration": 83,
    "start_time": "2023-02-21T12:27:54.514Z"
   },
   {
    "duration": 1697,
    "start_time": "2023-02-21T12:27:54.599Z"
   },
   {
    "duration": 1691,
    "start_time": "2023-02-21T20:57:13.640Z"
   },
   {
    "duration": 145,
    "start_time": "2023-02-21T21:07:59.810Z"
   },
   {
    "duration": 1637,
    "start_time": "2023-02-21T21:08:10.846Z"
   },
   {
    "duration": 15,
    "start_time": "2023-02-21T21:08:12.485Z"
   },
   {
    "duration": 2050,
    "start_time": "2023-02-21T21:08:12.510Z"
   },
   {
    "duration": 169,
    "start_time": "2023-02-21T21:08:14.561Z"
   },
   {
    "duration": 35,
    "start_time": "2023-02-21T21:08:14.736Z"
   },
   {
    "duration": 59,
    "start_time": "2023-02-21T21:08:14.772Z"
   },
   {
    "duration": 52,
    "start_time": "2023-02-21T21:08:14.836Z"
   },
   {
    "duration": 105,
    "start_time": "2023-02-21T21:08:14.902Z"
   },
   {
    "duration": 104,
    "start_time": "2023-02-21T21:08:15.009Z"
   },
   {
    "duration": 33,
    "start_time": "2023-02-21T21:08:15.115Z"
   },
   {
    "duration": 52,
    "start_time": "2023-02-21T21:08:15.151Z"
   },
   {
    "duration": 53,
    "start_time": "2023-02-21T21:08:15.214Z"
   },
   {
    "duration": 3488,
    "start_time": "2023-02-21T21:08:15.268Z"
   },
   {
    "duration": 15622,
    "start_time": "2023-02-21T21:08:18.759Z"
   },
   {
    "duration": 23,
    "start_time": "2023-02-21T21:08:34.383Z"
   },
   {
    "duration": 171,
    "start_time": "2023-02-21T21:08:34.407Z"
   },
   {
    "duration": 173,
    "start_time": "2023-02-21T21:08:34.579Z"
   },
   {
    "duration": 1273,
    "start_time": "2023-02-21T21:08:34.756Z"
   },
   {
    "duration": 115,
    "start_time": "2023-02-21T21:08:36.038Z"
   },
   {
    "duration": 783,
    "start_time": "2023-02-21T21:08:36.155Z"
   },
   {
    "duration": 74,
    "start_time": "2023-02-21T21:08:36.939Z"
   },
   {
    "duration": 183,
    "start_time": "2023-02-21T21:08:37.014Z"
   },
   {
    "duration": 73,
    "start_time": "2023-02-21T21:08:37.198Z"
   },
   {
    "duration": 777,
    "start_time": "2023-02-21T21:08:37.273Z"
   },
   {
    "duration": 13,
    "start_time": "2023-02-21T21:08:38.054Z"
   },
   {
    "duration": 144,
    "start_time": "2023-02-21T21:08:38.069Z"
   },
   {
    "duration": 109,
    "start_time": "2023-02-21T21:11:33.054Z"
   },
   {
    "duration": 111,
    "start_time": "2023-02-21T21:16:26.023Z"
   },
   {
    "duration": 23,
    "start_time": "2023-02-21T21:17:14.369Z"
   },
   {
    "duration": 97,
    "start_time": "2023-02-21T21:17:19.744Z"
   },
   {
    "duration": 98,
    "start_time": "2023-02-21T21:29:52.776Z"
   },
   {
    "duration": 10458,
    "start_time": "2023-02-21T21:29:58.382Z"
   },
   {
    "duration": 1032,
    "start_time": "2023-02-21T21:30:50.324Z"
   },
   {
    "duration": 11,
    "start_time": "2023-02-21T21:32:43.765Z"
   },
   {
    "duration": 9,
    "start_time": "2023-02-21T21:33:03.463Z"
   },
   {
    "duration": 14,
    "start_time": "2023-02-21T21:33:17.958Z"
   },
   {
    "duration": 39,
    "start_time": "2023-02-21T21:34:35.323Z"
   },
   {
    "duration": 125,
    "start_time": "2023-02-21T21:34:45.428Z"
   },
   {
    "duration": 100,
    "start_time": "2023-02-21T21:47:41.175Z"
   },
   {
    "duration": 2735,
    "start_time": "2023-02-21T21:47:47.437Z"
   },
   {
    "duration": 33,
    "start_time": "2023-02-21T21:48:13.843Z"
   },
   {
    "duration": 12,
    "start_time": "2023-02-21T21:48:19.010Z"
   },
   {
    "duration": 18,
    "start_time": "2023-02-21T22:18:23.313Z"
   },
   {
    "duration": 32,
    "start_time": "2023-02-21T22:18:49.413Z"
   },
   {
    "duration": 21,
    "start_time": "2023-02-21T22:19:05.620Z"
   },
   {
    "duration": 4,
    "start_time": "2023-02-21T22:19:34.923Z"
   },
   {
    "duration": 4,
    "start_time": "2023-02-21T22:19:43.367Z"
   },
   {
    "duration": 16,
    "start_time": "2023-02-21T22:19:47.875Z"
   },
   {
    "duration": 3,
    "start_time": "2023-02-21T22:20:25.132Z"
   },
   {
    "duration": 18,
    "start_time": "2023-02-21T22:20:30.514Z"
   },
   {
    "duration": 73,
    "start_time": "2023-02-21T22:21:00.033Z"
   },
   {
    "duration": 2209,
    "start_time": "2023-02-21T22:21:04.019Z"
   },
   {
    "duration": 2094,
    "start_time": "2023-02-21T22:21:06.230Z"
   },
   {
    "duration": 3,
    "start_time": "2023-02-21T22:21:08.326Z"
   },
   {
    "duration": 1429,
    "start_time": "2023-02-21T22:21:08.330Z"
   },
   {
    "duration": 145,
    "start_time": "2023-02-21T22:21:09.761Z"
   },
   {
    "duration": 32,
    "start_time": "2023-02-21T22:21:09.910Z"
   },
   {
    "duration": 67,
    "start_time": "2023-02-21T22:21:09.944Z"
   },
   {
    "duration": 69,
    "start_time": "2023-02-21T22:21:10.012Z"
   },
   {
    "duration": 47,
    "start_time": "2023-02-21T22:21:10.083Z"
   },
   {
    "duration": 88,
    "start_time": "2023-02-21T22:21:10.131Z"
   },
   {
    "duration": 23,
    "start_time": "2023-02-21T22:21:10.221Z"
   },
   {
    "duration": 48,
    "start_time": "2023-02-21T22:21:10.245Z"
   },
   {
    "duration": 34,
    "start_time": "2023-02-21T22:21:10.298Z"
   },
   {
    "duration": 2847,
    "start_time": "2023-02-21T22:21:10.336Z"
   },
   {
    "duration": 15275,
    "start_time": "2023-02-21T22:21:13.185Z"
   },
   {
    "duration": 26,
    "start_time": "2023-02-21T22:21:28.463Z"
   },
   {
    "duration": 149,
    "start_time": "2023-02-21T22:21:28.490Z"
   },
   {
    "duration": 1276,
    "start_time": "2023-02-21T22:21:28.641Z"
   },
   {
    "duration": 145,
    "start_time": "2023-02-21T22:21:29.919Z"
   },
   {
    "duration": 95,
    "start_time": "2023-02-21T22:21:30.066Z"
   },
   {
    "duration": 803,
    "start_time": "2023-02-21T22:21:30.163Z"
   },
   {
    "duration": 90,
    "start_time": "2023-02-21T22:21:30.968Z"
   },
   {
    "duration": 195,
    "start_time": "2023-02-21T22:21:31.060Z"
   },
   {
    "duration": 88,
    "start_time": "2023-02-21T22:21:31.257Z"
   },
   {
    "duration": 815,
    "start_time": "2023-02-21T22:21:31.346Z"
   },
   {
    "duration": 32,
    "start_time": "2023-02-21T22:21:32.162Z"
   },
   {
    "duration": 10859,
    "start_time": "2023-02-21T22:21:32.196Z"
   },
   {
    "duration": 1068,
    "start_time": "2023-02-21T22:21:43.057Z"
   },
   {
    "duration": 125,
    "start_time": "2023-02-21T22:21:44.131Z"
   },
   {
    "duration": 48,
    "start_time": "2023-02-21T22:28:46.212Z"
   },
   {
    "duration": 2179,
    "start_time": "2023-02-21T22:28:51.567Z"
   },
   {
    "duration": 1851,
    "start_time": "2023-02-21T22:28:53.748Z"
   },
   {
    "duration": 17,
    "start_time": "2023-02-21T22:28:55.602Z"
   },
   {
    "duration": 1297,
    "start_time": "2023-02-21T22:28:55.622Z"
   },
   {
    "duration": 119,
    "start_time": "2023-02-21T22:28:56.921Z"
   },
   {
    "duration": 35,
    "start_time": "2023-02-21T22:28:57.042Z"
   },
   {
    "duration": 54,
    "start_time": "2023-02-21T22:28:57.078Z"
   },
   {
    "duration": 19,
    "start_time": "2023-02-21T22:28:57.134Z"
   },
   {
    "duration": 62,
    "start_time": "2023-02-21T22:28:57.154Z"
   },
   {
    "duration": 73,
    "start_time": "2023-02-21T22:28:57.219Z"
   },
   {
    "duration": 25,
    "start_time": "2023-02-21T22:28:57.294Z"
   },
   {
    "duration": 45,
    "start_time": "2023-02-21T22:28:57.320Z"
   },
   {
    "duration": 44,
    "start_time": "2023-02-21T22:28:57.367Z"
   },
   {
    "duration": 2718,
    "start_time": "2023-02-21T22:28:57.414Z"
   },
   {
    "duration": 2038,
    "start_time": "2023-02-21T22:29:11.829Z"
   },
   {
    "duration": 1397,
    "start_time": "2023-02-21T22:29:13.870Z"
   },
   {
    "duration": 3,
    "start_time": "2023-02-21T22:29:15.268Z"
   },
   {
    "duration": 869,
    "start_time": "2023-02-21T22:29:15.272Z"
   },
   {
    "duration": 130,
    "start_time": "2023-02-21T22:29:16.144Z"
   },
   {
    "duration": 39,
    "start_time": "2023-02-21T22:29:16.276Z"
   },
   {
    "duration": 47,
    "start_time": "2023-02-21T22:29:16.317Z"
   },
   {
    "duration": 46,
    "start_time": "2023-02-21T22:29:16.366Z"
   },
   {
    "duration": 40,
    "start_time": "2023-02-21T22:29:16.414Z"
   },
   {
    "duration": 75,
    "start_time": "2023-02-21T22:29:16.456Z"
   },
   {
    "duration": 21,
    "start_time": "2023-02-21T22:29:16.532Z"
   },
   {
    "duration": 57,
    "start_time": "2023-02-21T22:29:16.555Z"
   },
   {
    "duration": 27,
    "start_time": "2023-02-21T22:29:16.614Z"
   },
   {
    "duration": 2664,
    "start_time": "2023-02-21T22:29:16.644Z"
   },
   {
    "duration": 13313,
    "start_time": "2023-02-21T22:29:19.312Z"
   },
   {
    "duration": 17,
    "start_time": "2023-02-21T22:29:32.627Z"
   },
   {
    "duration": 135,
    "start_time": "2023-02-21T22:29:32.646Z"
   },
   {
    "duration": 1219,
    "start_time": "2023-02-21T22:29:32.782Z"
   },
   {
    "duration": 140,
    "start_time": "2023-02-21T22:29:34.005Z"
   },
   {
    "duration": 81,
    "start_time": "2023-02-21T22:29:34.147Z"
   },
   {
    "duration": 733,
    "start_time": "2023-02-21T22:29:34.230Z"
   },
   {
    "duration": 73,
    "start_time": "2023-02-21T22:29:34.964Z"
   },
   {
    "duration": 140,
    "start_time": "2023-02-21T22:29:35.038Z"
   },
   {
    "duration": 76,
    "start_time": "2023-02-21T22:29:35.180Z"
   },
   {
    "duration": 841,
    "start_time": "2023-02-21T22:29:35.258Z"
   },
   {
    "duration": 16,
    "start_time": "2023-02-21T22:29:36.101Z"
   },
   {
    "duration": 10561,
    "start_time": "2023-02-21T22:29:36.120Z"
   },
   {
    "duration": 954,
    "start_time": "2023-02-21T22:29:46.683Z"
   },
   {
    "duration": 120,
    "start_time": "2023-02-21T22:29:47.639Z"
   },
   {
    "duration": 145,
    "start_time": "2023-02-21T22:29:47.761Z"
   },
   {
    "duration": 5,
    "start_time": "2023-02-21T22:30:35.210Z"
   },
   {
    "duration": 13,
    "start_time": "2023-02-21T22:30:39.448Z"
   },
   {
    "duration": 1441,
    "start_time": "2023-02-21T23:13:40.266Z"
   },
   {
    "duration": 107,
    "start_time": "2023-02-21T23:20:29.775Z"
   },
   {
    "duration": 3,
    "start_time": "2023-02-21T23:22:30.205Z"
   },
   {
    "duration": 10,
    "start_time": "2023-02-21T23:29:13.100Z"
   },
   {
    "duration": 4,
    "start_time": "2023-02-21T23:29:31.507Z"
   },
   {
    "duration": 3,
    "start_time": "2023-02-21T23:29:37.798Z"
   },
   {
    "duration": 9,
    "start_time": "2023-02-21T23:31:19.571Z"
   },
   {
    "duration": 1883,
    "start_time": "2023-02-21T23:31:28.977Z"
   },
   {
    "duration": 1323,
    "start_time": "2023-02-21T23:31:30.862Z"
   },
   {
    "duration": 8,
    "start_time": "2023-02-21T23:31:32.191Z"
   },
   {
    "duration": 1049,
    "start_time": "2023-02-21T23:31:32.201Z"
   },
   {
    "duration": 105,
    "start_time": "2023-02-21T23:31:33.252Z"
   },
   {
    "duration": 41,
    "start_time": "2023-02-21T23:31:33.359Z"
   },
   {
    "duration": 44,
    "start_time": "2023-02-21T23:31:33.402Z"
   },
   {
    "duration": 31,
    "start_time": "2023-02-21T23:31:33.448Z"
   },
   {
    "duration": 42,
    "start_time": "2023-02-21T23:31:33.480Z"
   },
   {
    "duration": 75,
    "start_time": "2023-02-21T23:31:33.525Z"
   },
   {
    "duration": 22,
    "start_time": "2023-02-21T23:31:33.602Z"
   },
   {
    "duration": 45,
    "start_time": "2023-02-21T23:31:33.626Z"
   },
   {
    "duration": 28,
    "start_time": "2023-02-21T23:31:33.673Z"
   },
   {
    "duration": 2449,
    "start_time": "2023-02-21T23:31:33.702Z"
   },
   {
    "duration": 12343,
    "start_time": "2023-02-21T23:31:36.153Z"
   },
   {
    "duration": 18,
    "start_time": "2023-02-21T23:31:48.498Z"
   },
   {
    "duration": 127,
    "start_time": "2023-02-21T23:31:48.517Z"
   },
   {
    "duration": 1132,
    "start_time": "2023-02-21T23:31:48.645Z"
   },
   {
    "duration": 129,
    "start_time": "2023-02-21T23:31:49.779Z"
   },
   {
    "duration": 63,
    "start_time": "2023-02-21T23:31:49.909Z"
   },
   {
    "duration": 654,
    "start_time": "2023-02-21T23:31:49.974Z"
   },
   {
    "duration": 70,
    "start_time": "2023-02-21T23:31:50.630Z"
   },
   {
    "duration": 116,
    "start_time": "2023-02-21T23:31:50.702Z"
   },
   {
    "duration": 80,
    "start_time": "2023-02-21T23:31:50.820Z"
   },
   {
    "duration": 680,
    "start_time": "2023-02-21T23:31:50.901Z"
   },
   {
    "duration": 15,
    "start_time": "2023-02-21T23:31:51.585Z"
   },
   {
    "duration": 9504,
    "start_time": "2023-02-21T23:31:51.602Z"
   },
   {
    "duration": 888,
    "start_time": "2023-02-21T23:32:01.109Z"
   },
   {
    "duration": 105,
    "start_time": "2023-02-21T23:32:02.001Z"
   },
   {
    "duration": 3,
    "start_time": "2023-02-21T23:32:02.108Z"
   },
   {
    "duration": 132,
    "start_time": "2023-02-21T23:32:02.113Z"
   },
   {
    "duration": 43,
    "start_time": "2023-02-21T23:48:43.424Z"
   },
   {
    "duration": 1913,
    "start_time": "2023-02-21T23:48:49.517Z"
   },
   {
    "duration": 1328,
    "start_time": "2023-02-21T23:48:51.432Z"
   },
   {
    "duration": 2,
    "start_time": "2023-02-21T23:48:52.762Z"
   },
   {
    "duration": 1117,
    "start_time": "2023-02-21T23:48:52.766Z"
   },
   {
    "duration": 122,
    "start_time": "2023-02-21T23:48:53.885Z"
   },
   {
    "duration": 30,
    "start_time": "2023-02-21T23:48:54.009Z"
   },
   {
    "duration": 68,
    "start_time": "2023-02-21T23:48:54.041Z"
   },
   {
    "duration": 37,
    "start_time": "2023-02-21T23:48:54.111Z"
   },
   {
    "duration": 48,
    "start_time": "2023-02-21T23:48:54.149Z"
   },
   {
    "duration": 69,
    "start_time": "2023-02-21T23:48:54.201Z"
   },
   {
    "duration": 25,
    "start_time": "2023-02-21T23:48:54.272Z"
   },
   {
    "duration": 37,
    "start_time": "2023-02-21T23:48:54.302Z"
   },
   {
    "duration": 27,
    "start_time": "2023-02-21T23:48:54.340Z"
   },
   {
    "duration": 2566,
    "start_time": "2023-02-21T23:48:54.369Z"
   },
   {
    "duration": 13145,
    "start_time": "2023-02-21T23:48:56.936Z"
   },
   {
    "duration": 22,
    "start_time": "2023-02-21T23:49:10.082Z"
   },
   {
    "duration": 124,
    "start_time": "2023-02-21T23:49:10.106Z"
   },
   {
    "duration": 1139,
    "start_time": "2023-02-21T23:49:10.231Z"
   },
   {
    "duration": 124,
    "start_time": "2023-02-21T23:49:11.372Z"
   },
   {
    "duration": 61,
    "start_time": "2023-02-21T23:49:11.497Z"
   },
   {
    "duration": 636,
    "start_time": "2023-02-21T23:49:11.560Z"
   },
   {
    "duration": 54,
    "start_time": "2023-02-21T23:49:12.197Z"
   },
   {
    "duration": 118,
    "start_time": "2023-02-21T23:49:12.253Z"
   },
   {
    "duration": 71,
    "start_time": "2023-02-21T23:49:12.373Z"
   },
   {
    "duration": 659,
    "start_time": "2023-02-21T23:49:12.447Z"
   },
   {
    "duration": 13,
    "start_time": "2023-02-21T23:49:13.107Z"
   },
   {
    "duration": 9282,
    "start_time": "2023-02-21T23:49:13.121Z"
   },
   {
    "duration": 926,
    "start_time": "2023-02-21T23:49:22.407Z"
   },
   {
    "duration": 124,
    "start_time": "2023-02-21T23:49:23.335Z"
   },
   {
    "duration": 2,
    "start_time": "2023-02-21T23:49:23.461Z"
   },
   {
    "duration": 14,
    "start_time": "2023-02-21T23:49:23.465Z"
   },
   {
    "duration": 2343,
    "start_time": "2023-02-22T09:46:48.866Z"
   },
   {
    "duration": 1554,
    "start_time": "2023-02-22T09:46:51.211Z"
   },
   {
    "duration": 3,
    "start_time": "2023-02-22T09:46:52.768Z"
   },
   {
    "duration": 3000,
    "start_time": "2023-02-22T09:46:52.773Z"
   },
   {
    "duration": 150,
    "start_time": "2023-02-22T09:46:55.774Z"
   },
   {
    "duration": 31,
    "start_time": "2023-02-22T09:46:55.926Z"
   },
   {
    "duration": 45,
    "start_time": "2023-02-22T09:46:55.959Z"
   },
   {
    "duration": 23,
    "start_time": "2023-02-22T09:46:56.005Z"
   },
   {
    "duration": 50,
    "start_time": "2023-02-22T09:46:56.030Z"
   },
   {
    "duration": 77,
    "start_time": "2023-02-22T09:46:56.083Z"
   },
   {
    "duration": 20,
    "start_time": "2023-02-22T09:46:56.161Z"
   },
   {
    "duration": 37,
    "start_time": "2023-02-22T09:46:56.183Z"
   },
   {
    "duration": 41,
    "start_time": "2023-02-22T09:46:56.221Z"
   },
   {
    "duration": 2510,
    "start_time": "2023-02-22T09:46:56.263Z"
   },
   {
    "duration": 12110,
    "start_time": "2023-02-22T09:46:58.775Z"
   },
   {
    "duration": 16,
    "start_time": "2023-02-22T09:47:10.887Z"
   },
   {
    "duration": 126,
    "start_time": "2023-02-22T09:47:10.905Z"
   },
   {
    "duration": 1049,
    "start_time": "2023-02-22T09:47:11.032Z"
   },
   {
    "duration": 126,
    "start_time": "2023-02-22T09:47:12.083Z"
   },
   {
    "duration": 77,
    "start_time": "2023-02-22T09:47:12.211Z"
   },
   {
    "duration": 680,
    "start_time": "2023-02-22T09:47:12.290Z"
   },
   {
    "duration": 63,
    "start_time": "2023-02-22T09:47:12.972Z"
   },
   {
    "duration": 140,
    "start_time": "2023-02-22T09:47:13.047Z"
   },
   {
    "duration": 69,
    "start_time": "2023-02-22T09:47:13.189Z"
   },
   {
    "duration": 675,
    "start_time": "2023-02-22T09:47:13.260Z"
   },
   {
    "duration": 19,
    "start_time": "2023-02-22T09:47:13.937Z"
   },
   {
    "duration": 9667,
    "start_time": "2023-02-22T09:47:13.958Z"
   },
   {
    "duration": 838,
    "start_time": "2023-02-22T09:47:23.628Z"
   },
   {
    "duration": 105,
    "start_time": "2023-02-22T09:47:24.468Z"
   },
   {
    "duration": 2,
    "start_time": "2023-02-22T09:47:24.575Z"
   },
   {
    "duration": 12,
    "start_time": "2023-02-22T09:47:24.578Z"
   },
   {
    "duration": 3539,
    "start_time": "2023-02-23T21:53:24.293Z"
   },
   {
    "duration": 1541,
    "start_time": "2023-02-23T21:53:27.835Z"
   },
   {
    "duration": 3,
    "start_time": "2023-02-23T21:53:29.377Z"
   },
   {
    "duration": 161,
    "start_time": "2023-02-23T21:53:29.382Z"
   },
   {
    "duration": 0,
    "start_time": "2023-02-23T21:53:29.545Z"
   },
   {
    "duration": 0,
    "start_time": "2023-02-23T21:53:29.546Z"
   },
   {
    "duration": 0,
    "start_time": "2023-02-23T21:53:29.548Z"
   },
   {
    "duration": 0,
    "start_time": "2023-02-23T21:53:29.553Z"
   },
   {
    "duration": 0,
    "start_time": "2023-02-23T21:53:29.555Z"
   },
   {
    "duration": 0,
    "start_time": "2023-02-23T21:53:29.556Z"
   },
   {
    "duration": 0,
    "start_time": "2023-02-23T21:53:29.558Z"
   },
   {
    "duration": 0,
    "start_time": "2023-02-23T21:53:29.558Z"
   },
   {
    "duration": 0,
    "start_time": "2023-02-23T21:53:29.559Z"
   },
   {
    "duration": 0,
    "start_time": "2023-02-23T21:53:29.561Z"
   },
   {
    "duration": 0,
    "start_time": "2023-02-23T21:53:29.562Z"
   },
   {
    "duration": 0,
    "start_time": "2023-02-23T21:53:29.563Z"
   },
   {
    "duration": 0,
    "start_time": "2023-02-23T21:53:29.564Z"
   },
   {
    "duration": 0,
    "start_time": "2023-02-23T21:53:29.565Z"
   },
   {
    "duration": 0,
    "start_time": "2023-02-23T21:53:29.566Z"
   },
   {
    "duration": 0,
    "start_time": "2023-02-23T21:53:29.567Z"
   },
   {
    "duration": 0,
    "start_time": "2023-02-23T21:53:29.568Z"
   },
   {
    "duration": 0,
    "start_time": "2023-02-23T21:53:29.569Z"
   },
   {
    "duration": 0,
    "start_time": "2023-02-23T21:53:29.570Z"
   },
   {
    "duration": 0,
    "start_time": "2023-02-23T21:53:29.571Z"
   },
   {
    "duration": 0,
    "start_time": "2023-02-23T21:53:29.572Z"
   },
   {
    "duration": 0,
    "start_time": "2023-02-23T21:53:29.573Z"
   },
   {
    "duration": 0,
    "start_time": "2023-02-23T21:53:29.574Z"
   },
   {
    "duration": 0,
    "start_time": "2023-02-23T21:53:29.575Z"
   },
   {
    "duration": 0,
    "start_time": "2023-02-23T21:53:29.575Z"
   },
   {
    "duration": 0,
    "start_time": "2023-02-23T21:53:29.576Z"
   },
   {
    "duration": 0,
    "start_time": "2023-02-23T21:53:29.577Z"
   },
   {
    "duration": 0,
    "start_time": "2023-02-23T21:53:29.578Z"
   },
   {
    "duration": 0,
    "start_time": "2023-02-23T21:53:29.579Z"
   },
   {
    "duration": 0,
    "start_time": "2023-02-23T21:53:29.581Z"
   },
   {
    "duration": 0,
    "start_time": "2023-02-23T21:53:29.581Z"
   },
   {
    "duration": 0,
    "start_time": "2023-02-23T21:53:29.582Z"
   },
   {
    "duration": 0,
    "start_time": "2023-02-23T21:53:29.583Z"
   },
   {
    "duration": 0,
    "start_time": "2023-02-23T21:53:29.584Z"
   },
   {
    "duration": 2081,
    "start_time": "2023-02-23T21:54:32.955Z"
   },
   {
    "duration": 1630,
    "start_time": "2023-02-23T21:54:35.039Z"
   },
   {
    "duration": 3,
    "start_time": "2023-02-23T21:54:36.671Z"
   },
   {
    "duration": 165,
    "start_time": "2023-02-23T21:54:36.675Z"
   },
   {
    "duration": 0,
    "start_time": "2023-02-23T21:54:36.843Z"
   },
   {
    "duration": 0,
    "start_time": "2023-02-23T21:54:36.844Z"
   },
   {
    "duration": 0,
    "start_time": "2023-02-23T21:54:36.853Z"
   },
   {
    "duration": 0,
    "start_time": "2023-02-23T21:54:36.854Z"
   },
   {
    "duration": 0,
    "start_time": "2023-02-23T21:54:36.855Z"
   },
   {
    "duration": 0,
    "start_time": "2023-02-23T21:54:36.856Z"
   },
   {
    "duration": 0,
    "start_time": "2023-02-23T21:54:36.857Z"
   },
   {
    "duration": 0,
    "start_time": "2023-02-23T21:54:36.858Z"
   },
   {
    "duration": 0,
    "start_time": "2023-02-23T21:54:36.859Z"
   },
   {
    "duration": 0,
    "start_time": "2023-02-23T21:54:36.860Z"
   },
   {
    "duration": 0,
    "start_time": "2023-02-23T21:54:36.861Z"
   },
   {
    "duration": 0,
    "start_time": "2023-02-23T21:54:36.862Z"
   },
   {
    "duration": 0,
    "start_time": "2023-02-23T21:54:36.863Z"
   },
   {
    "duration": 0,
    "start_time": "2023-02-23T21:54:36.864Z"
   },
   {
    "duration": 0,
    "start_time": "2023-02-23T21:54:36.865Z"
   },
   {
    "duration": 0,
    "start_time": "2023-02-23T21:54:36.866Z"
   },
   {
    "duration": 0,
    "start_time": "2023-02-23T21:54:36.868Z"
   },
   {
    "duration": 1,
    "start_time": "2023-02-23T21:54:36.868Z"
   },
   {
    "duration": 0,
    "start_time": "2023-02-23T21:54:36.869Z"
   },
   {
    "duration": 0,
    "start_time": "2023-02-23T21:54:36.871Z"
   },
   {
    "duration": 0,
    "start_time": "2023-02-23T21:54:36.872Z"
   },
   {
    "duration": 0,
    "start_time": "2023-02-23T21:54:36.873Z"
   },
   {
    "duration": 0,
    "start_time": "2023-02-23T21:54:36.874Z"
   },
   {
    "duration": 0,
    "start_time": "2023-02-23T21:54:36.875Z"
   },
   {
    "duration": 0,
    "start_time": "2023-02-23T21:54:36.876Z"
   },
   {
    "duration": 0,
    "start_time": "2023-02-23T21:54:36.877Z"
   },
   {
    "duration": 0,
    "start_time": "2023-02-23T21:54:36.878Z"
   },
   {
    "duration": 0,
    "start_time": "2023-02-23T21:54:36.879Z"
   },
   {
    "duration": 0,
    "start_time": "2023-02-23T21:54:36.880Z"
   },
   {
    "duration": 0,
    "start_time": "2023-02-23T21:54:36.881Z"
   },
   {
    "duration": 0,
    "start_time": "2023-02-23T21:54:36.882Z"
   },
   {
    "duration": 0,
    "start_time": "2023-02-23T21:54:36.882Z"
   },
   {
    "duration": 0,
    "start_time": "2023-02-23T21:54:36.883Z"
   },
   {
    "duration": 0,
    "start_time": "2023-02-23T21:54:36.884Z"
   },
   {
    "duration": 2181,
    "start_time": "2023-02-23T21:55:10.836Z"
   },
   {
    "duration": 1526,
    "start_time": "2023-02-23T21:55:13.020Z"
   },
   {
    "duration": 5,
    "start_time": "2023-02-23T21:55:14.548Z"
   },
   {
    "duration": 1113,
    "start_time": "2023-02-23T21:55:14.555Z"
   },
   {
    "duration": 119,
    "start_time": "2023-02-23T21:55:15.669Z"
   },
   {
    "duration": 23,
    "start_time": "2023-02-23T21:55:15.789Z"
   },
   {
    "duration": 58,
    "start_time": "2023-02-23T21:55:15.814Z"
   },
   {
    "duration": 22,
    "start_time": "2023-02-23T21:55:15.874Z"
   },
   {
    "duration": 42,
    "start_time": "2023-02-23T21:55:15.898Z"
   },
   {
    "duration": 70,
    "start_time": "2023-02-23T21:55:15.955Z"
   },
   {
    "duration": 36,
    "start_time": "2023-02-23T21:55:16.027Z"
   },
   {
    "duration": 43,
    "start_time": "2023-02-23T21:55:16.065Z"
   },
   {
    "duration": 43,
    "start_time": "2023-02-23T21:55:16.110Z"
   },
   {
    "duration": 2684,
    "start_time": "2023-02-23T21:55:16.155Z"
   },
   {
    "duration": 12666,
    "start_time": "2023-02-23T21:55:18.841Z"
   },
   {
    "duration": 125,
    "start_time": "2023-02-23T21:55:31.508Z"
   },
   {
    "duration": 1163,
    "start_time": "2023-02-23T21:55:31.634Z"
   },
   {
    "duration": 131,
    "start_time": "2023-02-23T21:55:32.798Z"
   },
   {
    "duration": 71,
    "start_time": "2023-02-23T21:55:32.931Z"
   },
   {
    "duration": 687,
    "start_time": "2023-02-23T21:55:33.004Z"
   },
   {
    "duration": 75,
    "start_time": "2023-02-23T21:55:33.693Z"
   },
   {
    "duration": 170,
    "start_time": "2023-02-23T21:55:33.769Z"
   },
   {
    "duration": 38,
    "start_time": "2023-02-23T21:55:33.941Z"
   },
   {
    "duration": 20217,
    "start_time": "2023-02-24T19:38:01.964Z"
   },
   {
    "duration": 1913,
    "start_time": "2023-02-24T19:38:22.184Z"
   },
   {
    "duration": 4986,
    "start_time": "2023-02-24T19:38:45.639Z"
   },
   {
    "duration": 12,
    "start_time": "2023-02-24T19:38:50.631Z"
   },
   {
    "duration": 24,
    "start_time": "2023-02-24T19:38:50.644Z"
   },
   {
    "duration": 1605,
    "start_time": "2023-02-24T19:38:50.670Z"
   },
   {
    "duration": 177,
    "start_time": "2023-02-24T19:38:52.279Z"
   },
   {
    "duration": 49,
    "start_time": "2023-02-24T19:38:52.459Z"
   },
   {
    "duration": 74,
    "start_time": "2023-02-24T19:38:52.513Z"
   },
   {
    "duration": 45,
    "start_time": "2023-02-24T19:38:52.589Z"
   },
   {
    "duration": 43,
    "start_time": "2023-02-24T19:38:52.635Z"
   },
   {
    "duration": 89,
    "start_time": "2023-02-24T19:38:52.679Z"
   },
   {
    "duration": 24,
    "start_time": "2023-02-24T19:38:52.770Z"
   },
   {
    "duration": 63,
    "start_time": "2023-02-24T19:38:52.796Z"
   },
   {
    "duration": 31,
    "start_time": "2023-02-24T19:38:52.860Z"
   },
   {
    "duration": 2773,
    "start_time": "2023-02-24T19:38:52.894Z"
   },
   {
    "duration": 13332,
    "start_time": "2023-02-24T19:38:55.672Z"
   },
   {
    "duration": 200,
    "start_time": "2023-02-24T19:39:09.006Z"
   },
   {
    "duration": 217,
    "start_time": "2023-02-24T19:39:09.208Z"
   },
   {
    "duration": 1042,
    "start_time": "2023-02-24T19:39:09.435Z"
   },
   {
    "duration": 93,
    "start_time": "2023-02-24T19:39:10.479Z"
   },
   {
    "duration": 749,
    "start_time": "2023-02-24T19:39:10.573Z"
   },
   {
    "duration": 95,
    "start_time": "2023-02-24T19:39:11.323Z"
   },
   {
    "duration": 203,
    "start_time": "2023-02-24T19:39:11.430Z"
   },
   {
    "duration": 51,
    "start_time": "2023-02-24T19:40:20.206Z"
   },
   {
    "duration": 67,
    "start_time": "2023-02-24T19:40:21.073Z"
   },
   {
    "duration": 8298,
    "start_time": "2023-02-24T19:46:50.551Z"
   },
   {
    "duration": 270,
    "start_time": "2023-02-24T19:47:31.427Z"
   },
   {
    "duration": 699,
    "start_time": "2023-02-24T19:48:23.644Z"
   },
   {
    "duration": 4,
    "start_time": "2023-02-24T19:48:32.452Z"
   },
   {
    "duration": 16,
    "start_time": "2023-02-24T19:51:40.889Z"
   },
   {
    "duration": 62,
    "start_time": "2023-02-24T19:51:41.171Z"
   },
   {
    "duration": 6421,
    "start_time": "2023-02-24T19:51:43.278Z"
   },
   {
    "duration": 254,
    "start_time": "2023-02-24T19:51:49.701Z"
   },
   {
    "duration": 575,
    "start_time": "2023-02-24T19:51:49.959Z"
   },
   {
    "duration": 3,
    "start_time": "2023-02-24T19:51:50.536Z"
   },
   {
    "duration": 304,
    "start_time": "2023-02-24T19:53:28.831Z"
   },
   {
    "duration": 284,
    "start_time": "2023-02-24T19:59:27.607Z"
   },
   {
    "duration": 195,
    "start_time": "2023-02-24T20:05:30.907Z"
   },
   {
    "duration": 6235,
    "start_time": "2023-02-24T20:05:36.127Z"
   },
   {
    "duration": 2537,
    "start_time": "2023-02-24T20:05:42.366Z"
   },
   {
    "duration": 2,
    "start_time": "2023-02-24T20:05:44.905Z"
   },
   {
    "duration": 1762,
    "start_time": "2023-02-24T20:05:44.909Z"
   },
   {
    "duration": 229,
    "start_time": "2023-02-24T20:05:46.673Z"
   },
   {
    "duration": 54,
    "start_time": "2023-02-24T20:05:46.905Z"
   },
   {
    "duration": 94,
    "start_time": "2023-02-24T20:05:46.968Z"
   },
   {
    "duration": 22,
    "start_time": "2023-02-24T20:05:47.072Z"
   },
   {
    "duration": 95,
    "start_time": "2023-02-24T20:05:47.096Z"
   },
   {
    "duration": 103,
    "start_time": "2023-02-24T20:05:47.195Z"
   },
   {
    "duration": 57,
    "start_time": "2023-02-24T20:05:47.300Z"
   },
   {
    "duration": 96,
    "start_time": "2023-02-24T20:05:47.359Z"
   },
   {
    "duration": 27,
    "start_time": "2023-02-24T20:05:47.471Z"
   },
   {
    "duration": 2621,
    "start_time": "2023-02-24T20:05:47.500Z"
   },
   {
    "duration": 13149,
    "start_time": "2023-02-24T20:05:50.130Z"
   },
   {
    "duration": 203,
    "start_time": "2023-02-24T20:06:03.283Z"
   },
   {
    "duration": 194,
    "start_time": "2023-02-24T20:06:03.488Z"
   },
   {
    "duration": 187,
    "start_time": "2023-02-24T20:06:03.684Z"
   },
   {
    "duration": 92,
    "start_time": "2023-02-24T20:06:03.880Z"
   },
   {
    "duration": 1729,
    "start_time": "2023-02-24T20:06:03.973Z"
   },
   {
    "duration": 122,
    "start_time": "2023-02-24T20:06:05.705Z"
   },
   {
    "duration": 268,
    "start_time": "2023-02-24T20:06:05.840Z"
   },
   {
    "duration": 40,
    "start_time": "2023-02-24T20:06:06.118Z"
   },
   {
    "duration": 83,
    "start_time": "2023-02-24T20:06:06.160Z"
   },
   {
    "duration": 5622,
    "start_time": "2023-02-24T20:06:06.245Z"
   },
   {
    "duration": 213,
    "start_time": "2023-02-24T20:06:11.870Z"
   },
   {
    "duration": 614,
    "start_time": "2023-02-24T20:06:12.088Z"
   },
   {
    "duration": 15,
    "start_time": "2023-02-24T20:06:12.706Z"
   },
   {
    "duration": 6936,
    "start_time": "2023-02-24T20:40:39.083Z"
   },
   {
    "duration": 1878,
    "start_time": "2023-02-24T20:40:46.023Z"
   },
   {
    "duration": 11,
    "start_time": "2023-02-24T20:40:47.908Z"
   },
   {
    "duration": 1333,
    "start_time": "2023-02-24T20:40:47.934Z"
   },
   {
    "duration": 269,
    "start_time": "2023-02-24T20:40:49.272Z"
   },
   {
    "duration": 43,
    "start_time": "2023-02-24T20:40:49.561Z"
   },
   {
    "duration": 77,
    "start_time": "2023-02-24T20:40:49.607Z"
   },
   {
    "duration": 71,
    "start_time": "2023-02-24T20:40:49.687Z"
   },
   {
    "duration": 97,
    "start_time": "2023-02-24T20:40:49.760Z"
   },
   {
    "duration": 158,
    "start_time": "2023-02-24T20:40:49.869Z"
   },
   {
    "duration": 47,
    "start_time": "2023-02-24T20:40:50.032Z"
   },
   {
    "duration": 78,
    "start_time": "2023-02-24T20:40:50.085Z"
   },
   {
    "duration": 95,
    "start_time": "2023-02-24T20:40:50.170Z"
   },
   {
    "duration": 4072,
    "start_time": "2023-02-24T20:40:50.271Z"
   },
   {
    "duration": 18346,
    "start_time": "2023-02-24T20:40:54.345Z"
   },
   {
    "duration": 222,
    "start_time": "2023-02-24T20:41:12.697Z"
   },
   {
    "duration": 313,
    "start_time": "2023-02-24T20:41:12.925Z"
   },
   {
    "duration": 227,
    "start_time": "2023-02-24T20:41:13.248Z"
   },
   {
    "duration": 114,
    "start_time": "2023-02-24T20:41:13.481Z"
   },
   {
    "duration": 2628,
    "start_time": "2023-02-24T20:41:13.602Z"
   },
   {
    "duration": 160,
    "start_time": "2023-02-24T20:41:16.235Z"
   },
   {
    "duration": 294,
    "start_time": "2023-02-24T20:41:16.400Z"
   },
   {
    "duration": 61,
    "start_time": "2023-02-24T20:41:16.698Z"
   },
   {
    "duration": 171,
    "start_time": "2023-02-24T20:41:16.760Z"
   },
   {
    "duration": 6435,
    "start_time": "2023-02-24T20:41:16.936Z"
   },
   {
    "duration": 282,
    "start_time": "2023-02-24T20:41:23.376Z"
   },
   {
    "duration": 884,
    "start_time": "2023-02-24T20:41:23.663Z"
   },
   {
    "duration": 9,
    "start_time": "2023-02-24T20:41:24.554Z"
   },
   {
    "duration": 7017,
    "start_time": "2023-02-25T16:26:10.132Z"
   },
   {
    "duration": 1193,
    "start_time": "2023-02-25T16:26:17.151Z"
   },
   {
    "duration": 2,
    "start_time": "2023-02-25T16:26:18.346Z"
   },
   {
    "duration": 833,
    "start_time": "2023-02-25T16:26:18.351Z"
   },
   {
    "duration": 150,
    "start_time": "2023-02-25T16:26:19.186Z"
   },
   {
    "duration": 31,
    "start_time": "2023-02-25T16:26:19.338Z"
   },
   {
    "duration": 52,
    "start_time": "2023-02-25T16:26:19.371Z"
   },
   {
    "duration": 37,
    "start_time": "2023-02-25T16:26:19.424Z"
   },
   {
    "duration": 45,
    "start_time": "2023-02-25T16:26:19.463Z"
   },
   {
    "duration": 92,
    "start_time": "2023-02-25T16:26:19.511Z"
   },
   {
    "duration": 21,
    "start_time": "2023-02-25T16:26:19.604Z"
   },
   {
    "duration": 50,
    "start_time": "2023-02-25T16:26:19.627Z"
   },
   {
    "duration": 26,
    "start_time": "2023-02-25T16:26:19.679Z"
   },
   {
    "duration": 2603,
    "start_time": "2023-02-25T16:26:19.707Z"
   },
   {
    "duration": 12461,
    "start_time": "2023-02-25T16:26:22.312Z"
   },
   {
    "duration": 127,
    "start_time": "2023-02-25T16:26:34.775Z"
   },
   {
    "duration": 150,
    "start_time": "2023-02-25T16:26:34.903Z"
   },
   {
    "duration": 128,
    "start_time": "2023-02-25T16:26:35.054Z"
   },
   {
    "duration": 89,
    "start_time": "2023-02-25T16:26:35.184Z"
   },
   {
    "duration": 1496,
    "start_time": "2023-02-25T16:26:35.275Z"
   },
   {
    "duration": 75,
    "start_time": "2023-02-25T16:26:36.773Z"
   },
   {
    "duration": 146,
    "start_time": "2023-02-25T16:26:36.850Z"
   },
   {
    "duration": 27,
    "start_time": "2023-02-25T16:26:36.998Z"
   },
   {
    "duration": 68,
    "start_time": "2023-02-25T16:26:37.027Z"
   },
   {
    "duration": 9024,
    "start_time": "2023-04-22T22:27:47.823Z"
   },
   {
    "duration": 1357,
    "start_time": "2023-04-22T22:27:56.849Z"
   },
   {
    "duration": 3,
    "start_time": "2023-04-22T22:27:58.207Z"
   },
   {
    "duration": 1001,
    "start_time": "2023-04-22T22:27:58.212Z"
   },
   {
    "duration": 132,
    "start_time": "2023-04-22T22:27:59.215Z"
   },
   {
    "duration": 23,
    "start_time": "2023-04-22T22:27:59.348Z"
   },
   {
    "duration": 46,
    "start_time": "2023-04-22T22:27:59.372Z"
   },
   {
    "duration": 17,
    "start_time": "2023-04-22T22:27:59.434Z"
   },
   {
    "duration": 40,
    "start_time": "2023-04-22T22:27:59.453Z"
   },
   {
    "duration": 80,
    "start_time": "2023-04-22T22:27:59.496Z"
   },
   {
    "duration": 20,
    "start_time": "2023-04-22T22:27:59.577Z"
   },
   {
    "duration": 47,
    "start_time": "2023-04-22T22:27:59.599Z"
   },
   {
    "duration": 25,
    "start_time": "2023-04-22T22:27:59.647Z"
   },
   {
    "duration": 2368,
    "start_time": "2023-04-22T22:27:59.673Z"
   },
   {
    "duration": 11665,
    "start_time": "2023-04-22T22:28:02.042Z"
   },
   {
    "duration": 133,
    "start_time": "2023-04-22T22:28:13.708Z"
   },
   {
    "duration": 154,
    "start_time": "2023-04-22T22:28:13.843Z"
   },
   {
    "duration": 1070,
    "start_time": "2023-04-22T22:28:13.999Z"
   },
   {
    "duration": 79,
    "start_time": "2023-04-22T22:28:15.071Z"
   },
   {
    "duration": 708,
    "start_time": "2023-04-22T22:28:15.152Z"
   },
   {
    "duration": 63,
    "start_time": "2023-04-22T22:28:15.861Z"
   },
   {
    "duration": 140,
    "start_time": "2023-04-22T22:28:15.934Z"
   },
   {
    "duration": 27,
    "start_time": "2023-04-22T22:28:16.076Z"
   },
   {
    "duration": 64,
    "start_time": "2023-04-22T22:28:16.104Z"
   },
   {
    "duration": 6138,
    "start_time": "2023-04-22T22:28:16.170Z"
   },
   {
    "duration": 190,
    "start_time": "2023-04-22T22:28:22.310Z"
   },
   {
    "duration": 294,
    "start_time": "2023-04-22T22:28:22.502Z"
   },
   {
    "duration": 15,
    "start_time": "2023-04-22T22:28:22.800Z"
   },
   {
    "duration": 123,
    "start_time": "2023-04-22T22:28:22.818Z"
   },
   {
    "duration": 846494,
    "start_time": "2023-04-22T22:28:22.943Z"
   },
   {
    "duration": 4,
    "start_time": "2023-04-22T22:42:29.439Z"
   },
   {
    "duration": 131407,
    "start_time": "2023-04-22T22:42:29.445Z"
   },
   {
    "duration": 3,
    "start_time": "2023-04-22T22:44:40.853Z"
   },
   {
    "duration": 181220,
    "start_time": "2023-04-22T22:44:40.857Z"
   },
   {
    "duration": 3,
    "start_time": "2023-04-22T22:47:42.078Z"
   },
   {
    "duration": 2277,
    "start_time": "2023-04-22T22:47:42.083Z"
   },
   {
    "duration": 8278,
    "start_time": "2023-04-22T22:47:44.362Z"
   },
   {
    "duration": 197,
    "start_time": "2023-04-22T22:47:52.642Z"
   },
   {
    "duration": 25022,
    "start_time": "2023-04-22T22:47:52.841Z"
   },
   {
    "duration": 250,
    "start_time": "2023-04-22T22:48:17.865Z"
   },
   {
    "duration": 7374,
    "start_time": "2023-04-22T22:48:18.117Z"
   },
   {
    "duration": 554,
    "start_time": "2023-04-22T22:48:25.492Z"
   },
   {
    "duration": 10,
    "start_time": "2023-04-22T22:48:26.048Z"
   }
  ],
  "colab": {
   "provenance": []
  },
  "kernelspec": {
   "display_name": "Python 3 (ipykernel)",
   "language": "python",
   "name": "python3"
  },
  "language_info": {
   "codemirror_mode": {
    "name": "ipython",
    "version": 3
   },
   "file_extension": ".py",
   "mimetype": "text/x-python",
   "name": "python",
   "nbconvert_exporter": "python",
   "pygments_lexer": "ipython3",
   "version": "3.9.12"
  },
  "toc": {
   "base_numbering": 1,
   "nav_menu": {},
   "number_sections": true,
   "sideBar": true,
   "skip_h1_title": true,
   "title_cell": "Table of Contents",
   "title_sidebar": "Contents",
   "toc_cell": false,
   "toc_position": {
    "height": "calc(100% - 180px)",
    "left": "10px",
    "top": "150px",
    "width": "165px"
   },
   "toc_section_display": true,
   "toc_window_display": true
  }
 },
 "nbformat": 4,
 "nbformat_minor": 1
}
