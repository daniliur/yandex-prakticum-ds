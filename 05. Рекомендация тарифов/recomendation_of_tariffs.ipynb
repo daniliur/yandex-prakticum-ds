{
 "cells": [
  {
   "cell_type": "markdown",
   "metadata": {},
   "source": [
    "# Рекомендация тарифов"
   ]
  },
  {
   "cell_type": "markdown",
   "metadata": {},
   "source": [
    "В нашем распоряжении данные о поведении клиентов, которые уже перешли на эти тарифы (из проекта «Статистический анализ данных»). Нужно построить модель для задачи классификации, которая выберет подходящий тариф. Предобработка данных не понадобится — вы её уже сделали.\n",
    "\n",
    "Необходимо построить модель с максимально большим значением *accuracy*. Требованием заказчика является значение *accuracy* модели не менее 0.75. *Accuracy* будет считаться на тестовой выборке."
   ]
  },
  {
   "cell_type": "markdown",
   "metadata": {},
   "source": [
    "## Подготовка данных"
   ]
  },
  {
   "cell_type": "markdown",
   "metadata": {},
   "source": [
    "Импортируем необходимые библиотеки и методы."
   ]
  },
  {
   "cell_type": "code",
   "execution_count": 1,
   "metadata": {},
   "outputs": [],
   "source": [
    "import pandas as pd\n",
    "from sklearn.tree import DecisionTreeClassifier\n",
    "from sklearn.model_selection import train_test_split\n",
    "from sklearn.ensemble import RandomForestClassifier\n",
    "from sklearn.linear_model import LogisticRegression\n",
    "from sklearn.metrics import accuracy_score"
   ]
  },
  {
   "cell_type": "markdown",
   "metadata": {},
   "source": [
    "Загрузим данные в переменную `data`."
   ]
  },
  {
   "cell_type": "code",
   "execution_count": 2,
   "metadata": {},
   "outputs": [],
   "source": [
    "data = pd.read_csv('users_behavior.csv')"
   ]
  },
  {
   "cell_type": "markdown",
   "metadata": {},
   "source": [
    "Изучим данные методами `head()`, `describe()` и `info()`."
   ]
  },
  {
   "cell_type": "code",
   "execution_count": 3,
   "metadata": {},
   "outputs": [
    {
     "data": {
      "text/html": [
       "<div>\n",
       "<style scoped>\n",
       "    .dataframe tbody tr th:only-of-type {\n",
       "        vertical-align: middle;\n",
       "    }\n",
       "\n",
       "    .dataframe tbody tr th {\n",
       "        vertical-align: top;\n",
       "    }\n",
       "\n",
       "    .dataframe thead th {\n",
       "        text-align: right;\n",
       "    }\n",
       "</style>\n",
       "<table border=\"1\" class=\"dataframe\">\n",
       "  <thead>\n",
       "    <tr style=\"text-align: right;\">\n",
       "      <th></th>\n",
       "      <th>calls</th>\n",
       "      <th>minutes</th>\n",
       "      <th>messages</th>\n",
       "      <th>mb_used</th>\n",
       "      <th>is_ultra</th>\n",
       "    </tr>\n",
       "  </thead>\n",
       "  <tbody>\n",
       "    <tr>\n",
       "      <th>0</th>\n",
       "      <td>40.0</td>\n",
       "      <td>311.90</td>\n",
       "      <td>83.0</td>\n",
       "      <td>19915.42</td>\n",
       "      <td>0</td>\n",
       "    </tr>\n",
       "    <tr>\n",
       "      <th>1</th>\n",
       "      <td>85.0</td>\n",
       "      <td>516.75</td>\n",
       "      <td>56.0</td>\n",
       "      <td>22696.96</td>\n",
       "      <td>0</td>\n",
       "    </tr>\n",
       "    <tr>\n",
       "      <th>2</th>\n",
       "      <td>77.0</td>\n",
       "      <td>467.66</td>\n",
       "      <td>86.0</td>\n",
       "      <td>21060.45</td>\n",
       "      <td>0</td>\n",
       "    </tr>\n",
       "    <tr>\n",
       "      <th>3</th>\n",
       "      <td>106.0</td>\n",
       "      <td>745.53</td>\n",
       "      <td>81.0</td>\n",
       "      <td>8437.39</td>\n",
       "      <td>1</td>\n",
       "    </tr>\n",
       "    <tr>\n",
       "      <th>4</th>\n",
       "      <td>66.0</td>\n",
       "      <td>418.74</td>\n",
       "      <td>1.0</td>\n",
       "      <td>14502.75</td>\n",
       "      <td>0</td>\n",
       "    </tr>\n",
       "    <tr>\n",
       "      <th>5</th>\n",
       "      <td>58.0</td>\n",
       "      <td>344.56</td>\n",
       "      <td>21.0</td>\n",
       "      <td>15823.37</td>\n",
       "      <td>0</td>\n",
       "    </tr>\n",
       "    <tr>\n",
       "      <th>6</th>\n",
       "      <td>57.0</td>\n",
       "      <td>431.64</td>\n",
       "      <td>20.0</td>\n",
       "      <td>3738.90</td>\n",
       "      <td>1</td>\n",
       "    </tr>\n",
       "    <tr>\n",
       "      <th>7</th>\n",
       "      <td>15.0</td>\n",
       "      <td>132.40</td>\n",
       "      <td>6.0</td>\n",
       "      <td>21911.60</td>\n",
       "      <td>0</td>\n",
       "    </tr>\n",
       "    <tr>\n",
       "      <th>8</th>\n",
       "      <td>7.0</td>\n",
       "      <td>43.39</td>\n",
       "      <td>3.0</td>\n",
       "      <td>2538.67</td>\n",
       "      <td>1</td>\n",
       "    </tr>\n",
       "    <tr>\n",
       "      <th>9</th>\n",
       "      <td>90.0</td>\n",
       "      <td>665.41</td>\n",
       "      <td>38.0</td>\n",
       "      <td>17358.61</td>\n",
       "      <td>0</td>\n",
       "    </tr>\n",
       "  </tbody>\n",
       "</table>\n",
       "</div>"
      ],
      "text/plain": [
       "   calls  minutes  messages   mb_used  is_ultra\n",
       "0   40.0   311.90      83.0  19915.42         0\n",
       "1   85.0   516.75      56.0  22696.96         0\n",
       "2   77.0   467.66      86.0  21060.45         0\n",
       "3  106.0   745.53      81.0   8437.39         1\n",
       "4   66.0   418.74       1.0  14502.75         0\n",
       "5   58.0   344.56      21.0  15823.37         0\n",
       "6   57.0   431.64      20.0   3738.90         1\n",
       "7   15.0   132.40       6.0  21911.60         0\n",
       "8    7.0    43.39       3.0   2538.67         1\n",
       "9   90.0   665.41      38.0  17358.61         0"
      ]
     },
     "execution_count": 3,
     "metadata": {},
     "output_type": "execute_result"
    }
   ],
   "source": [
    "data.head(10)"
   ]
  },
  {
   "cell_type": "code",
   "execution_count": 4,
   "metadata": {},
   "outputs": [
    {
     "data": {
      "text/html": [
       "<div>\n",
       "<style scoped>\n",
       "    .dataframe tbody tr th:only-of-type {\n",
       "        vertical-align: middle;\n",
       "    }\n",
       "\n",
       "    .dataframe tbody tr th {\n",
       "        vertical-align: top;\n",
       "    }\n",
       "\n",
       "    .dataframe thead th {\n",
       "        text-align: right;\n",
       "    }\n",
       "</style>\n",
       "<table border=\"1\" class=\"dataframe\">\n",
       "  <thead>\n",
       "    <tr style=\"text-align: right;\">\n",
       "      <th></th>\n",
       "      <th>calls</th>\n",
       "      <th>minutes</th>\n",
       "      <th>messages</th>\n",
       "      <th>mb_used</th>\n",
       "      <th>is_ultra</th>\n",
       "    </tr>\n",
       "  </thead>\n",
       "  <tbody>\n",
       "    <tr>\n",
       "      <th>count</th>\n",
       "      <td>3214.000000</td>\n",
       "      <td>3214.000000</td>\n",
       "      <td>3214.000000</td>\n",
       "      <td>3214.000000</td>\n",
       "      <td>3214.000000</td>\n",
       "    </tr>\n",
       "    <tr>\n",
       "      <th>mean</th>\n",
       "      <td>63.038892</td>\n",
       "      <td>438.208787</td>\n",
       "      <td>38.281269</td>\n",
       "      <td>17207.673836</td>\n",
       "      <td>0.306472</td>\n",
       "    </tr>\n",
       "    <tr>\n",
       "      <th>std</th>\n",
       "      <td>33.236368</td>\n",
       "      <td>234.569872</td>\n",
       "      <td>36.148326</td>\n",
       "      <td>7570.968246</td>\n",
       "      <td>0.461100</td>\n",
       "    </tr>\n",
       "    <tr>\n",
       "      <th>min</th>\n",
       "      <td>0.000000</td>\n",
       "      <td>0.000000</td>\n",
       "      <td>0.000000</td>\n",
       "      <td>0.000000</td>\n",
       "      <td>0.000000</td>\n",
       "    </tr>\n",
       "    <tr>\n",
       "      <th>25%</th>\n",
       "      <td>40.000000</td>\n",
       "      <td>274.575000</td>\n",
       "      <td>9.000000</td>\n",
       "      <td>12491.902500</td>\n",
       "      <td>0.000000</td>\n",
       "    </tr>\n",
       "    <tr>\n",
       "      <th>50%</th>\n",
       "      <td>62.000000</td>\n",
       "      <td>430.600000</td>\n",
       "      <td>30.000000</td>\n",
       "      <td>16943.235000</td>\n",
       "      <td>0.000000</td>\n",
       "    </tr>\n",
       "    <tr>\n",
       "      <th>75%</th>\n",
       "      <td>82.000000</td>\n",
       "      <td>571.927500</td>\n",
       "      <td>57.000000</td>\n",
       "      <td>21424.700000</td>\n",
       "      <td>1.000000</td>\n",
       "    </tr>\n",
       "    <tr>\n",
       "      <th>max</th>\n",
       "      <td>244.000000</td>\n",
       "      <td>1632.060000</td>\n",
       "      <td>224.000000</td>\n",
       "      <td>49745.730000</td>\n",
       "      <td>1.000000</td>\n",
       "    </tr>\n",
       "  </tbody>\n",
       "</table>\n",
       "</div>"
      ],
      "text/plain": [
       "             calls      minutes     messages       mb_used     is_ultra\n",
       "count  3214.000000  3214.000000  3214.000000   3214.000000  3214.000000\n",
       "mean     63.038892   438.208787    38.281269  17207.673836     0.306472\n",
       "std      33.236368   234.569872    36.148326   7570.968246     0.461100\n",
       "min       0.000000     0.000000     0.000000      0.000000     0.000000\n",
       "25%      40.000000   274.575000     9.000000  12491.902500     0.000000\n",
       "50%      62.000000   430.600000    30.000000  16943.235000     0.000000\n",
       "75%      82.000000   571.927500    57.000000  21424.700000     1.000000\n",
       "max     244.000000  1632.060000   224.000000  49745.730000     1.000000"
      ]
     },
     "execution_count": 4,
     "metadata": {},
     "output_type": "execute_result"
    }
   ],
   "source": [
    "data.describe()"
   ]
  },
  {
   "cell_type": "code",
   "execution_count": 5,
   "metadata": {},
   "outputs": [
    {
     "name": "stdout",
     "output_type": "stream",
     "text": [
      "<class 'pandas.core.frame.DataFrame'>\n",
      "RangeIndex: 3214 entries, 0 to 3213\n",
      "Data columns (total 5 columns):\n",
      " #   Column    Non-Null Count  Dtype  \n",
      "---  ------    --------------  -----  \n",
      " 0   calls     3214 non-null   float64\n",
      " 1   minutes   3214 non-null   float64\n",
      " 2   messages  3214 non-null   float64\n",
      " 3   mb_used   3214 non-null   float64\n",
      " 4   is_ultra  3214 non-null   int64  \n",
      "dtypes: float64(4), int64(1)\n",
      "memory usage: 125.7 KB\n"
     ]
    }
   ],
   "source": [
    "data.info()"
   ]
  },
  {
   "cell_type": "markdown",
   "metadata": {},
   "source": [
    "## Разбитие данных на выборки"
   ]
  },
  {
   "cell_type": "markdown",
   "metadata": {},
   "source": [
    "Запишем признаки в переменную `features`, а целевой признак в переменную `target`."
   ]
  },
  {
   "cell_type": "code",
   "execution_count": 6,
   "metadata": {},
   "outputs": [],
   "source": [
    "target = data['is_ultra']\n",
    "features = data.drop('is_ultra', axis=1)"
   ]
  },
  {
   "cell_type": "markdown",
   "metadata": {},
   "source": [
    "Разобьём данные на 4 выборки в соотношении 3:1:1. 60% данных уйдёт на тренировочную выборку, и по 20% на валидационную и тестовую."
   ]
  },
  {
   "cell_type": "code",
   "execution_count": 7,
   "metadata": {},
   "outputs": [],
   "source": [
    "#Сначала разобьём обучающие признаки и целевой признак на тренировочную и тестовую выборки. \n",
    "#Поместим 20% данных в тестовую выборку, а 80% оставим в обучающей.\n",
    "train_features, test_features, train_target, test_target = \\\n",
    "                train_test_split(features, target, test_size=0.2, train_size=0.8, random_state=322)"
   ]
  },
  {
   "cell_type": "code",
   "execution_count": 8,
   "metadata": {},
   "outputs": [],
   "source": [
    "#Разобьём повторно тренировочную выборку на две, в соотношении 3:1. \n",
    "#Таким образом, в тренировочных данных останется 60% данных, а в валидационной - 20%.\n",
    "train_features, valid_features, train_target, valid_target = \\\n",
    "    train_test_split(train_features, train_target, test_size=0.25, train_size=0.75, random_state=322)"
   ]
  },
  {
   "cell_type": "markdown",
   "metadata": {},
   "source": [
    "Проверим процент данных в выборках:"
   ]
  },
  {
   "cell_type": "code",
   "execution_count": 9,
   "metadata": {},
   "outputs": [
    {
     "name": "stdout",
     "output_type": "stream",
     "text": [
      "Процент данных в обучающей выборке: 60 %\n",
      "Процент данных в тестовой выборке: 20 %\n",
      "Процент данных в валидационной выборке: 20 %\n"
     ]
    }
   ],
   "source": [
    "print('Процент данных в обучающей выборке:', \n",
    "      round(train_features.shape[0] / features.shape[0] * 100), '%')\n",
    "print('Процент данных в тестовой выборке:', \n",
    "      round(test_features.shape[0] / features.shape[0] * 100), '%')\n",
    "print('Процент данных в валидационной выборке:', \n",
    "      round(valid_features.shape[0] / features.shape[0] * 100), '%')"
   ]
  },
  {
   "cell_type": "markdown",
   "metadata": {},
   "source": [
    "Данные разбиты корректно."
   ]
  },
  {
   "cell_type": "markdown",
   "metadata": {},
   "source": [
    "## Исследование моделей"
   ]
  },
  {
   "cell_type": "markdown",
   "metadata": {},
   "source": [
    "### `DecisionTreeClassifier`"
   ]
  },
  {
   "cell_type": "markdown",
   "metadata": {},
   "source": [
    "Сначала обучим модель классификационного дерева. Будем изменять гиперпараметр максимальной глубины дерева. Сравним точность модели с гиперпараметром `max_depth` в диапазоне от 1 до 10 на валидационной выборке."
   ]
  },
  {
   "cell_type": "code",
   "execution_count": 10,
   "metadata": {},
   "outputs": [
    {
     "name": "stdout",
     "output_type": "stream",
     "text": [
      "Точность лучшей модели \"дерева\" на валидационной выборке: 0.8102643856920684\n",
      "Глубина лучшей модели на валидационной выборке: 4\n"
     ]
    }
   ],
   "source": [
    "best_tree_model = None\n",
    "best_tree_result = 0\n",
    "best_models_accuracy_score = {}\n",
    "\n",
    "for depth in range(1, 11):\n",
    "    model = DecisionTreeClassifier(random_state=322, max_depth=depth)\n",
    "    model.fit(train_features, train_target)\n",
    "    predictions = model.predict(valid_features)\n",
    "    result = accuracy_score(valid_target, predictions)\n",
    "    if result > best_tree_result:\n",
    "        best_tree_result = result\n",
    "        best_tree_model = model\n",
    "        best_models_accuracy_score['Tree'] = result\n",
    "        \n",
    "print('Точность лучшей модели \"дерева\" на валидационной выборке:', best_tree_result)\n",
    "print('Глубина лучшей модели на валидационной выборке:', best_tree_model.max_depth)"
   ]
  },
  {
   "cell_type": "markdown",
   "metadata": {},
   "source": [
    "Лучшая модель имеет точность 0.81, а её глубина составляет 4."
   ]
  },
  {
   "cell_type": "markdown",
   "metadata": {},
   "source": [
    "### `RandomForestClassifier`"
   ]
  },
  {
   "cell_type": "markdown",
   "metadata": {},
   "source": [
    "Обучим и проверим на валидационной выборке модель случайного леса. В качестве гиперпараметра выберем количество деревьев. Будем изменять его в диапазоне от 10 до 100, с шагом в 10."
   ]
  },
  {
   "cell_type": "code",
   "execution_count": 11,
   "metadata": {},
   "outputs": [
    {
     "name": "stdout",
     "output_type": "stream",
     "text": [
      "Точность лучшей модели \"леса\" на валидационной выборке: 0.8195956454121306\n",
      "Количество деревьев в лучшей модели на валидационной выборке: 30\n"
     ]
    }
   ],
   "source": [
    "best_forest_model = None\n",
    "best_forest_result = 0\n",
    "\n",
    "for est in range(10, 101, 10):\n",
    "    model = RandomForestClassifier(random_state=322, n_estimators=est)\n",
    "    model.fit(train_features, train_target)\n",
    "    predictions = model.predict(valid_features)\n",
    "    result = accuracy_score(valid_target, predictions)\n",
    "    if result > best_forest_result:\n",
    "        best_forest_result = result\n",
    "        best_forest_model = model\n",
    "        best_models_accuracy_score['Forest'] = result\n",
    "        \n",
    "print('Точность лучшей модели \"леса\" на валидационной выборке:', best_forest_result)\n",
    "print('Количество деревьев в лучшей модели на валидационной выборке:', best_forest_model.n_estimators)"
   ]
  },
  {
   "cell_type": "markdown",
   "metadata": {},
   "source": [
    "Точность на валидационной выборке получилась немного лучше, чем при использовании одиночного дерева. Количество деревьев в лучшей модели составило 30."
   ]
  },
  {
   "cell_type": "markdown",
   "metadata": {},
   "source": [
    "### `LogisticRegression`"
   ]
  },
  {
   "cell_type": "markdown",
   "metadata": {},
   "source": [
    "Также, проверим модель логистической регрессии. В качестве гиперпараметра выберем количество итераций. Будем изменять его от 100 до 10000, с шагом в 100."
   ]
  },
  {
   "cell_type": "code",
   "execution_count": 12,
   "metadata": {},
   "outputs": [
    {
     "name": "stdout",
     "output_type": "stream",
     "text": [
      "Точность лучшей модели логистической регрессии на валидационной выборке: 0.6920684292379471\n",
      "Количество итераций в лучшей модели на валидационной выборке: 100\n"
     ]
    }
   ],
   "source": [
    "best_logistic_model = None\n",
    "best_logistic_result = 0\n",
    "\n",
    "for iterations in range(100, 10001, 100):\n",
    "    model = LogisticRegression(random_state=12345, solver='lbfgs', max_iter=iterations)\n",
    "    model.fit(train_features, train_target)\n",
    "    predictions = model.predict(valid_features)\n",
    "    result = accuracy_score(valid_target, predictions)\n",
    "    if result > best_logistic_result:\n",
    "        best_logistic_result = result\n",
    "        best_logistic_model = model\n",
    "        best_models_accuracy_score['Logistic regression'] = result\n",
    "        \n",
    "print('Точность лучшей модели логистической регрессии на валидационной выборке:', best_logistic_result)\n",
    "print('Количество итераций в лучшей модели на валидационной выборке:', best_logistic_model.max_iter)"
   ]
  },
  {
   "cell_type": "markdown",
   "metadata": {},
   "source": [
    "Данная модель проявила себя хуже всего, точность не проходит даже порог, установленный в задании: 0.75."
   ]
  },
  {
   "cell_type": "markdown",
   "metadata": {},
   "source": [
    "Для наглядности составим `Series` со значениями лучшей точности для каждой из моделей: "
   ]
  },
  {
   "cell_type": "code",
   "execution_count": 13,
   "metadata": {},
   "outputs": [
    {
     "data": {
      "text/plain": [
       "Forest                 0.819596\n",
       "Tree                   0.810264\n",
       "Logistic regression    0.692068\n",
       "dtype: float64"
      ]
     },
     "execution_count": 13,
     "metadata": {},
     "output_type": "execute_result"
    }
   ],
   "source": [
    "accuracy_series = pd.Series(index=best_models_accuracy_score.keys(), \n",
    "                            data=best_models_accuracy_score.values()).sort_values(ascending=False)\n",
    "accuracy_series"
   ]
  },
  {
   "cell_type": "markdown",
   "metadata": {},
   "source": [
    "Лучшей моделью на валидационной выборке оказалась модель случайного леса с 30 деревьями. У неё преимущество в точности над лучшей моделью одиночного дерева меньше 1%, но преимущество всё равно есть. Поэтому, для тестовой выборки выбираем модель случайного леса с 30 деревьями."
   ]
  },
  {
   "cell_type": "markdown",
   "metadata": {},
   "source": [
    "## Проверка модели на тестовой выборке"
   ]
  },
  {
   "cell_type": "markdown",
   "metadata": {},
   "source": [
    "Проверим работу модели на тестовой выборке:"
   ]
  },
  {
   "cell_type": "code",
   "execution_count": 14,
   "metadata": {},
   "outputs": [
    {
     "name": "stdout",
     "output_type": "stream",
     "text": [
      "Точность лучшей модели \"леса\" на тестовой выборке: 0.7993779160186625\n"
     ]
    }
   ],
   "source": [
    "print('Точность лучшей модели \"леса\" на тестовой выборке:', \n",
    "      accuracy_score(test_target, best_forest_model.predict(test_features)))"
   ]
  },
  {
   "cell_type": "markdown",
   "metadata": {},
   "source": [
    "Точность нашей лучшей модели немного снизилась по сравнению с валидационной выборкой, но незначительно, модель всё равно удовлетворяет условиям задачи."
   ]
  },
  {
   "cell_type": "markdown",
   "metadata": {},
   "source": [
    "## Вывод"
   ]
  },
  {
   "cell_type": "markdown",
   "metadata": {},
   "source": [
    "В ходе выполнения проекта были обучены модели трёх видов, и выбрана лучшая из них, с помощью изменения значений гиперпараметров. Лучшей моделью на тестовой выборке оказалась модель случайного леса с 30 деревьями. Она удовлетворяет условиям задачи, её точность составляет почти 0.8."
   ]
  }
 ],
 "metadata": {
  "ExecuteTimeLog": [
   {
    "duration": 1209,
    "start_time": "2022-10-31T20:45:12.063Z"
   },
   {
    "duration": 59,
    "start_time": "2022-10-31T20:45:33.170Z"
   },
   {
    "duration": 19,
    "start_time": "2022-10-31T20:45:38.961Z"
   },
   {
    "duration": 28,
    "start_time": "2022-10-31T20:45:52.985Z"
   },
   {
    "duration": 19,
    "start_time": "2022-10-31T20:46:02.728Z"
   },
   {
    "duration": 5,
    "start_time": "2022-10-31T21:01:27.216Z"
   },
   {
    "duration": 5,
    "start_time": "2022-10-31T21:03:31.099Z"
   },
   {
    "duration": 4,
    "start_time": "2022-10-31T21:17:28.203Z"
   },
   {
    "duration": 95,
    "start_time": "2022-10-31T21:17:28.899Z"
   },
   {
    "duration": 70,
    "start_time": "2022-10-31T21:17:34.071Z"
   },
   {
    "duration": 112,
    "start_time": "2022-10-31T21:17:50.926Z"
   },
   {
    "duration": 5,
    "start_time": "2022-10-31T21:17:55.242Z"
   },
   {
    "duration": 6,
    "start_time": "2022-10-31T21:21:18.638Z"
   },
   {
    "duration": 5,
    "start_time": "2022-10-31T21:21:18.887Z"
   },
   {
    "duration": 16,
    "start_time": "2022-10-31T21:21:35.019Z"
   },
   {
    "duration": 8,
    "start_time": "2022-10-31T21:23:16.521Z"
   },
   {
    "duration": 52,
    "start_time": "2022-11-01T14:38:54.162Z"
   },
   {
    "duration": 1267,
    "start_time": "2022-11-01T14:39:04.363Z"
   },
   {
    "duration": 67,
    "start_time": "2022-11-01T14:39:05.632Z"
   },
   {
    "duration": 19,
    "start_time": "2022-11-01T14:39:05.701Z"
   },
   {
    "duration": 36,
    "start_time": "2022-11-01T14:39:05.722Z"
   },
   {
    "duration": 11,
    "start_time": "2022-11-01T14:39:05.761Z"
   },
   {
    "duration": 21,
    "start_time": "2022-11-01T14:39:05.774Z"
   },
   {
    "duration": 22,
    "start_time": "2022-11-01T14:39:05.797Z"
   },
   {
    "duration": 26,
    "start_time": "2022-11-01T14:39:05.821Z"
   },
   {
    "duration": 127,
    "start_time": "2022-11-01T14:39:05.849Z"
   },
   {
    "duration": 3,
    "start_time": "2022-11-01T14:39:21.853Z"
   },
   {
    "duration": 76,
    "start_time": "2022-11-01T14:39:26.150Z"
   },
   {
    "duration": 77,
    "start_time": "2022-11-01T14:39:38.027Z"
   },
   {
    "duration": 16,
    "start_time": "2022-11-01T14:40:49.083Z"
   },
   {
    "duration": 69,
    "start_time": "2022-11-01T14:41:06.417Z"
   },
   {
    "duration": 2407,
    "start_time": "2022-11-01T14:47:06.294Z"
   },
   {
    "duration": 70,
    "start_time": "2022-11-01T14:52:27.421Z"
   },
   {
    "duration": 1502,
    "start_time": "2022-11-01T14:52:31.767Z"
   },
   {
    "duration": 9,
    "start_time": "2022-11-01T14:54:42.721Z"
   },
   {
    "duration": 3,
    "start_time": "2022-11-01T14:55:58.281Z"
   },
   {
    "duration": 7,
    "start_time": "2022-11-01T14:56:36.659Z"
   },
   {
    "duration": 7,
    "start_time": "2022-11-01T14:57:25.037Z"
   },
   {
    "duration": 7,
    "start_time": "2022-11-01T14:57:31.255Z"
   },
   {
    "duration": 7,
    "start_time": "2022-11-01T14:57:36.562Z"
   },
   {
    "duration": 5,
    "start_time": "2022-11-01T15:00:49.558Z"
   },
   {
    "duration": 7,
    "start_time": "2022-11-01T15:02:03.714Z"
   },
   {
    "duration": 7,
    "start_time": "2022-11-01T15:02:16.201Z"
   },
   {
    "duration": 17,
    "start_time": "2022-11-01T15:02:38.187Z"
   },
   {
    "duration": 8,
    "start_time": "2022-11-01T15:02:59.387Z"
   },
   {
    "duration": 1600,
    "start_time": "2022-11-01T15:32:11.571Z"
   },
   {
    "duration": 32,
    "start_time": "2022-11-01T15:32:13.173Z"
   },
   {
    "duration": 20,
    "start_time": "2022-11-01T15:32:13.206Z"
   },
   {
    "duration": 24,
    "start_time": "2022-11-01T15:32:13.228Z"
   },
   {
    "duration": 10,
    "start_time": "2022-11-01T15:32:13.253Z"
   },
   {
    "duration": 6,
    "start_time": "2022-11-01T15:32:13.264Z"
   },
   {
    "duration": 6,
    "start_time": "2022-11-01T15:32:13.272Z"
   },
   {
    "duration": 12,
    "start_time": "2022-11-01T15:32:13.280Z"
   },
   {
    "duration": 80,
    "start_time": "2022-11-01T15:32:13.294Z"
   },
   {
    "duration": 2118,
    "start_time": "2022-11-01T15:32:13.376Z"
   },
   {
    "duration": 1246,
    "start_time": "2022-11-01T15:32:15.496Z"
   },
   {
    "duration": 11,
    "start_time": "2022-11-01T15:32:16.744Z"
   },
   {
    "duration": 10,
    "start_time": "2022-11-01T15:32:16.757Z"
   },
   {
    "duration": 20,
    "start_time": "2022-11-01T15:32:16.769Z"
   },
   {
    "duration": 10,
    "start_time": "2022-11-01T15:32:16.791Z"
   },
   {
    "duration": 8,
    "start_time": "2022-11-01T16:10:42.863Z"
   },
   {
    "duration": 8,
    "start_time": "2022-11-01T16:11:02.706Z"
   },
   {
    "duration": 4,
    "start_time": "2022-11-01T16:11:25.975Z"
   },
   {
    "duration": 14,
    "start_time": "2022-11-01T16:11:34.021Z"
   },
   {
    "duration": 1250,
    "start_time": "2022-11-01T16:12:02.149Z"
   },
   {
    "duration": 33,
    "start_time": "2022-11-01T16:12:03.407Z"
   },
   {
    "duration": 25,
    "start_time": "2022-11-01T16:12:03.445Z"
   },
   {
    "duration": 26,
    "start_time": "2022-11-01T16:12:03.473Z"
   },
   {
    "duration": 31,
    "start_time": "2022-11-01T16:12:03.501Z"
   },
   {
    "duration": 5,
    "start_time": "2022-11-01T16:12:03.534Z"
   },
   {
    "duration": 8,
    "start_time": "2022-11-01T16:12:03.541Z"
   },
   {
    "duration": 8,
    "start_time": "2022-11-01T16:12:03.551Z"
   },
   {
    "duration": 107,
    "start_time": "2022-11-01T16:12:03.561Z"
   },
   {
    "duration": 2541,
    "start_time": "2022-11-01T16:12:03.672Z"
   },
   {
    "duration": 1588,
    "start_time": "2022-11-01T16:12:06.216Z"
   },
   {
    "duration": 0,
    "start_time": "2022-11-01T16:12:07.809Z"
   },
   {
    "duration": 0,
    "start_time": "2022-11-01T16:12:07.812Z"
   },
   {
    "duration": 0,
    "start_time": "2022-11-01T16:12:07.813Z"
   },
   {
    "duration": 0,
    "start_time": "2022-11-01T16:12:07.815Z"
   },
   {
    "duration": 1609,
    "start_time": "2022-11-01T16:12:29.458Z"
   },
   {
    "duration": 2133,
    "start_time": "2022-11-01T16:12:35.838Z"
   },
   {
    "duration": 68,
    "start_time": "2022-11-01T16:12:37.974Z"
   },
   {
    "duration": 29,
    "start_time": "2022-11-01T16:12:38.044Z"
   },
   {
    "duration": 87,
    "start_time": "2022-11-01T16:12:38.075Z"
   },
   {
    "duration": 68,
    "start_time": "2022-11-01T16:12:38.165Z"
   },
   {
    "duration": 4,
    "start_time": "2022-11-01T16:12:38.236Z"
   },
   {
    "duration": 18,
    "start_time": "2022-11-01T16:12:38.243Z"
   },
   {
    "duration": 10,
    "start_time": "2022-11-01T16:12:38.265Z"
   },
   {
    "duration": 177,
    "start_time": "2022-11-01T16:12:38.278Z"
   },
   {
    "duration": 2619,
    "start_time": "2022-11-01T16:12:38.456Z"
   },
   {
    "duration": 1729,
    "start_time": "2022-11-01T16:12:41.078Z"
   },
   {
    "duration": 6,
    "start_time": "2022-11-01T16:12:42.809Z"
   },
   {
    "duration": 16,
    "start_time": "2022-11-01T16:12:42.817Z"
   },
   {
    "duration": 21,
    "start_time": "2022-11-01T16:12:42.836Z"
   },
   {
    "duration": 6,
    "start_time": "2022-11-01T16:12:42.859Z"
   },
   {
    "duration": 5,
    "start_time": "2022-11-01T16:12:55.626Z"
   },
   {
    "duration": 4,
    "start_time": "2022-11-01T16:14:58.623Z"
   },
   {
    "duration": 6,
    "start_time": "2022-11-01T16:17:19.284Z"
   },
   {
    "duration": 1802,
    "start_time": "2022-11-02T10:57:18.815Z"
   },
   {
    "duration": 29,
    "start_time": "2022-11-02T10:57:20.619Z"
   },
   {
    "duration": 28,
    "start_time": "2022-11-02T10:57:20.649Z"
   },
   {
    "duration": 32,
    "start_time": "2022-11-02T10:57:20.679Z"
   },
   {
    "duration": 13,
    "start_time": "2022-11-02T10:57:20.712Z"
   },
   {
    "duration": 4,
    "start_time": "2022-11-02T10:57:20.727Z"
   },
   {
    "duration": 32,
    "start_time": "2022-11-02T10:57:20.733Z"
   },
   {
    "duration": 18,
    "start_time": "2022-11-02T10:57:20.767Z"
   },
   {
    "duration": 35,
    "start_time": "2022-11-02T10:57:20.786Z"
   },
   {
    "duration": 101,
    "start_time": "2022-11-02T10:57:20.824Z"
   },
   {
    "duration": 2202,
    "start_time": "2022-11-02T10:57:20.927Z"
   },
   {
    "duration": 1241,
    "start_time": "2022-11-02T10:57:23.131Z"
   },
   {
    "duration": 8,
    "start_time": "2022-11-02T10:57:24.374Z"
   },
   {
    "duration": 34,
    "start_time": "2022-11-02T10:57:24.384Z"
   }
  ],
  "kernelspec": {
   "display_name": "Python 3 (ipykernel)",
   "language": "python",
   "name": "python3"
  },
  "language_info": {
   "codemirror_mode": {
    "name": "ipython",
    "version": 3
   },
   "file_extension": ".py",
   "mimetype": "text/x-python",
   "name": "python",
   "nbconvert_exporter": "python",
   "pygments_lexer": "ipython3",
   "version": "3.9.12"
  },
  "toc": {
   "base_numbering": 1,
   "nav_menu": {},
   "number_sections": true,
   "sideBar": true,
   "skip_h1_title": true,
   "title_cell": "Table of Contents",
   "title_sidebar": "Contents",
   "toc_cell": false,
   "toc_position": {
    "height": "calc(100% - 180px)",
    "left": "10px",
    "top": "150px",
    "width": "165px"
   },
   "toc_section_display": true,
   "toc_window_display": true
  }
 },
 "nbformat": 4,
 "nbformat_minor": 2
}
