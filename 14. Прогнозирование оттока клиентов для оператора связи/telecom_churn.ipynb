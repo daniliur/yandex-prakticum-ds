{
 "cells": [
  {
   "cell_type": "markdown",
   "id": "fb5f7dd6",
   "metadata": {},
   "source": [
    "# Финальный проект"
   ]
  },
  {
   "cell_type": "markdown",
   "id": "346ec826",
   "metadata": {},
   "source": [
    "## Подготовка к выполнению проекта\n",
    "\n",
    "Оператор связи хочет научиться прогнозировать отток клиентов. Если выяснится, что пользователь планирует уйти, ему будут предложены промокоды и специальные условия. Команда оператора собрала персональные данные о некоторых клиентах, информацию об их тарифах и договорах.\n",
    "\n",
    "### Описание услуг\n",
    "\n",
    "Оператор предоставляет два основных типа услуг: \n",
    "\n",
    "1. Стационарную телефонную связь. Возможно подключение телефонного аппарата к нескольким линиям одновременно.\n",
    "2. Интернет. Подключение может быть двух типов: через телефонную линию (DSL*,* от англ. *digital subscriber line*, «цифровая абонентская линия») или оптоволоконный кабель (*Fiber optic*).  \n",
    "\n",
    "Также доступны такие услуги:\n",
    "\n",
    "- Интернет-безопасность: антивирус (*DeviceProtection*) и блокировка небезопасных сайтов (*OnlineSecurity*);\n",
    "- Выделенная линия технической поддержки (*TechSupport*);\n",
    "- Облачное хранилище файлов для резервного копирования данных (*OnlineBackup*);\n",
    "- Стриминговое телевидение (*StreamingTV*) и каталог фильмов (*StreamingMovies*).\n",
    "\n",
    "За услуги клиенты могут платить каждый месяц или заключить договор на 1–2 года. Доступны различные способы расчёта и возможность получения электронного чека.\n",
    "\n",
    "### Описание данных\n",
    "\n",
    "Данные состоят из файлов, полученных из разных источников:\n",
    "\n",
    "- `contract_new.csv` — информация о договоре;\n",
    "- `personal_new.csv` — персональные данные клиента;\n",
    "- `internet_new.csv` — информация об интернет-услугах;\n",
    "- `phone_new.csv` — информация об услугах телефонии.\n",
    "\n",
    "Во всех файлах столбец `customerID` содержит код клиента.\n",
    "\n",
    "Информация о договорах актуальна на 1 февраля 2020.  \n",
    "\n",
    "Описание полей данных:  \n",
    "`'BeginDate'` – дата начала пользования услугами;  \n",
    "`'EndDate'` – дата окончания пользования услугами;  \n",
    "`'Type'` – тип договора: ежемесячный, годовой и т.д;  \n",
    "`'PaperlessBilling'` – факт выставления счёта на электронную почту;  \n",
    "`'PaymentMethod'` – способ оплаты;  \n",
    "`'MonthlyCharges'` – ежемесячные траты на услуги;  \n",
    "`'TotalCharges'` – всего потрачено денег на услуги;  \n",
    "`'Dependents'` – наличие иждивенцев;  \n",
    "`'SeniorCitizen'` – наличие пенсионного статуса по возрасту;  \n",
    "`'Partner'` – наличие супруга(и);  \n",
    "`'MultipleLines'` – наличие возможности ведения параллельных линий во время звонка.  "
   ]
  },
  {
   "cell_type": "markdown",
   "id": "cec28f54",
   "metadata": {},
   "source": [
    "### Цель проекта"
   ]
  },
  {
   "cell_type": "markdown",
   "id": "91248002",
   "metadata": {},
   "source": [
    "Целью проекта является разработка и обучение модели, которая сможет предсказать уход клиента. Целевой метрикой является AUC-ROC, её значение должно быть не менее 0.85. Дополнительно будут расмотрены значения метрики Accuracy."
   ]
  },
  {
   "cell_type": "markdown",
   "id": "f651b504",
   "metadata": {},
   "source": [
    "### Импорт библиотек и функций"
   ]
  },
  {
   "cell_type": "markdown",
   "id": "ccd850a7",
   "metadata": {},
   "source": [
    "Для начала, загрузим необходимые библиотеки и зафиксируем случайное состояние в константе `RS`."
   ]
  },
  {
   "cell_type": "code",
   "execution_count": 1,
   "id": "ba9700bb",
   "metadata": {},
   "outputs": [
    {
     "name": "stdout",
     "output_type": "stream",
     "text": [
      "Requirement already satisfied: imbalanced-learn in c:\\users\\acer\\anaconda3\\lib\\site-packages (0.12.0)\n",
      "Requirement already satisfied: threadpoolctl>=2.0.0 in c:\\users\\acer\\anaconda3\\lib\\site-packages (from imbalanced-learn) (2.2.0)\n",
      "Requirement already satisfied: scikit-learn>=1.0.2 in c:\\users\\acer\\anaconda3\\lib\\site-packages (from imbalanced-learn) (1.1.3)\n",
      "Requirement already satisfied: scipy>=1.5.0 in c:\\users\\acer\\anaconda3\\lib\\site-packages (from imbalanced-learn) (1.9.3)\n",
      "Requirement already satisfied: numpy>=1.17.3 in c:\\users\\acer\\anaconda3\\lib\\site-packages (from imbalanced-learn) (1.23.5)\n",
      "Requirement already satisfied: joblib>=1.1.1 in c:\\users\\acer\\anaconda3\\lib\\site-packages (from imbalanced-learn) (1.2.0)\n",
      "Requirement already satisfied: lightgbm in c:\\users\\acer\\anaconda3\\lib\\site-packages (3.3.5)\n",
      "Requirement already satisfied: scipy in c:\\users\\acer\\anaconda3\\lib\\site-packages (from lightgbm) (1.9.3)\n",
      "Requirement already satisfied: numpy in c:\\users\\acer\\anaconda3\\lib\\site-packages (from lightgbm) (1.23.5)\n",
      "Requirement already satisfied: wheel in c:\\users\\acer\\anaconda3\\lib\\site-packages (from lightgbm) (0.37.1)\n",
      "Requirement already satisfied: scikit-learn!=0.22.0 in c:\\users\\acer\\anaconda3\\lib\\site-packages (from lightgbm) (1.1.3)\n",
      "Requirement already satisfied: threadpoolctl>=2.0.0 in c:\\users\\acer\\anaconda3\\lib\\site-packages (from scikit-learn!=0.22.0->lightgbm) (2.2.0)\n",
      "Requirement already satisfied: joblib>=1.0.0 in c:\\users\\acer\\anaconda3\\lib\\site-packages (from scikit-learn!=0.22.0->lightgbm) (1.2.0)\n",
      "Requirement already satisfied: phik in c:\\users\\acer\\anaconda3\\lib\\site-packages (0.12.2)\n",
      "Requirement already satisfied: joblib>=0.14.1 in c:\\users\\acer\\anaconda3\\lib\\site-packages (from phik) (1.2.0)\n",
      "Requirement already satisfied: pandas>=0.25.1 in c:\\users\\acer\\anaconda3\\lib\\site-packages (from phik) (1.4.2)\n",
      "Requirement already satisfied: scipy>=1.5.2 in c:\\users\\acer\\anaconda3\\lib\\site-packages (from phik) (1.9.3)\n",
      "Requirement already satisfied: matplotlib>=2.2.3 in c:\\users\\acer\\anaconda3\\lib\\site-packages (from phik) (3.5.1)\n",
      "Requirement already satisfied: numpy>=1.18.0 in c:\\users\\acer\\anaconda3\\lib\\site-packages (from phik) (1.23.5)\n",
      "Requirement already satisfied: fonttools>=4.22.0 in c:\\users\\acer\\anaconda3\\lib\\site-packages (from matplotlib>=2.2.3->phik) (4.25.0)\n",
      "Requirement already satisfied: cycler>=0.10 in c:\\users\\acer\\anaconda3\\lib\\site-packages (from matplotlib>=2.2.3->phik) (0.11.0)\n",
      "Requirement already satisfied: pyparsing>=2.2.1 in c:\\users\\acer\\anaconda3\\lib\\site-packages (from matplotlib>=2.2.3->phik) (3.0.4)\n",
      "Requirement already satisfied: python-dateutil>=2.7 in c:\\users\\acer\\anaconda3\\lib\\site-packages (from matplotlib>=2.2.3->phik) (2.8.2)\n",
      "Requirement already satisfied: pillow>=6.2.0 in c:\\users\\acer\\anaconda3\\lib\\site-packages (from matplotlib>=2.2.3->phik) (9.0.1)\n",
      "Requirement already satisfied: kiwisolver>=1.0.1 in c:\\users\\acer\\anaconda3\\lib\\site-packages (from matplotlib>=2.2.3->phik) (1.3.2)\n",
      "Requirement already satisfied: packaging>=20.0 in c:\\users\\acer\\anaconda3\\lib\\site-packages (from matplotlib>=2.2.3->phik) (21.3)\n",
      "Requirement already satisfied: pytz>=2020.1 in c:\\users\\acer\\anaconda3\\lib\\site-packages (from pandas>=0.25.1->phik) (2021.3)\n",
      "Requirement already satisfied: six>=1.5 in c:\\users\\acer\\anaconda3\\lib\\site-packages (from python-dateutil>=2.7->matplotlib>=2.2.3->phik) (1.16.0)\n"
     ]
    }
   ],
   "source": [
    "! pip install -U imbalanced-learn\n",
    "! pip install lightgbm\n",
    "! pip install phik"
   ]
  },
  {
   "cell_type": "code",
   "execution_count": 1,
   "id": "bf1a62fe",
   "metadata": {},
   "outputs": [],
   "source": [
    "import pandas as pd\n",
    "import numpy as np\n",
    "import seaborn as sns\n",
    "from matplotlib import pyplot as plt\n",
    "from sklearn.preprocessing import OneHotEncoder\n",
    "from sklearn.preprocessing import MinMaxScaler\n",
    "from sklearn.model_selection import train_test_split, GridSearchCV\n",
    "from sklearn.ensemble import RandomForestClassifier\n",
    "from sklearn.linear_model import LogisticRegression\n",
    "from sklearn.metrics import roc_auc_score, accuracy_score\n",
    "from imblearn.over_sampling import SMOTE\n",
    "from lightgbm import LGBMClassifier\n",
    "from phik.report import correlation_report, plot_correlation_matrix\n",
    "from warnings import filterwarnings\n",
    "filterwarnings('ignore')"
   ]
  },
  {
   "cell_type": "code",
   "execution_count": 2,
   "id": "903a4198",
   "metadata": {},
   "outputs": [],
   "source": [
    "# функция для заполнения пропущенных значений в столбце 'total_charges'\n",
    "def fill_charges(dataframe):\n",
    "    df = dataframe.copy()\n",
    "    if df['type'] == 'One year':\n",
    "        df['total_charges'] = df['monthly_charges'] * 12\n",
    "    elif df['type'] == 'Two year':\n",
    "        df['total_charges'] = df['monthly_charges'] * 24\n",
    "    return df    "
   ]
  },
  {
   "cell_type": "code",
   "execution_count": 3,
   "id": "fecf6252",
   "metadata": {},
   "outputs": [],
   "source": [
    "# функция для перевода столбцов в категориальный тип\n",
    "def to_cat_type(dataframe):\n",
    "    df = dataframe.copy()\n",
    "    for c in df.columns:\n",
    "        col_type = df[c].dtype\n",
    "        if col_type == 'object':\n",
    "            df[c] = df[c].astype('category')\n",
    "    return df"
   ]
  },
  {
   "cell_type": "code",
   "execution_count": 4,
   "id": "942880ca",
   "metadata": {},
   "outputs": [],
   "source": [
    "# функция для кодирования через OHE\n",
    "def ohe(df):\n",
    "    data_ohe = encoder.transform(df[cat])\n",
    "    data_ohe = pd.DataFrame(data_ohe, columns=encoder.get_feature_names_out())\n",
    "    df.reset_index(drop=True, inplace=True) \n",
    "    data_coded = pd.DataFrame()\n",
    "    data_coded[encoder.get_feature_names_out()] = data_ohe\n",
    "    data_coded[num] = df[num]\n",
    "    return data_coded"
   ]
  },
  {
   "cell_type": "code",
   "execution_count": 5,
   "id": "38efbbc2",
   "metadata": {},
   "outputs": [],
   "source": [
    "RS = 100423"
   ]
  },
  {
   "cell_type": "markdown",
   "id": "b062546b",
   "metadata": {},
   "source": [
    "### Загрузка данных"
   ]
  },
  {
   "cell_type": "markdown",
   "id": "c592f723",
   "metadata": {},
   "source": [
    "Загрузим каждый датасет в отдельную переменную. В качестве путей к csv-файлам укажем ссылки, по которым расположены данные."
   ]
  },
  {
   "cell_type": "code",
   "execution_count": 6,
   "id": "e1f83b33",
   "metadata": {},
   "outputs": [],
   "source": [
    "data_contract = pd.read_csv('https://code.s3.yandex.net/datasets/contract_new.csv')\n",
    "data_internet = pd.read_csv('https://code.s3.yandex.net/datasets/internet_new.csv')\n",
    "data_personal = pd.read_csv('https://code.s3.yandex.net/datasets/personal_new.csv')\n",
    "data_phone = pd.read_csv('https://code.s3.yandex.net/datasets/phone_new.csv')"
   ]
  },
  {
   "cell_type": "markdown",
   "id": "28e94ef6",
   "metadata": {},
   "source": [
    "Для того, чтобы иметь представление о данных, выведем по несколько строчек из каждой таблицы."
   ]
  },
  {
   "cell_type": "code",
   "execution_count": 7,
   "id": "0eb6c471",
   "metadata": {},
   "outputs": [
    {
     "name": "stdout",
     "output_type": "stream",
     "text": [
      "Таблица contract_new:\n"
     ]
    },
    {
     "data": {
      "text/html": [
       "<div>\n",
       "<style scoped>\n",
       "    .dataframe tbody tr th:only-of-type {\n",
       "        vertical-align: middle;\n",
       "    }\n",
       "\n",
       "    .dataframe tbody tr th {\n",
       "        vertical-align: top;\n",
       "    }\n",
       "\n",
       "    .dataframe thead th {\n",
       "        text-align: right;\n",
       "    }\n",
       "</style>\n",
       "<table border=\"1\" class=\"dataframe\">\n",
       "  <thead>\n",
       "    <tr style=\"text-align: right;\">\n",
       "      <th></th>\n",
       "      <th>customerID</th>\n",
       "      <th>BeginDate</th>\n",
       "      <th>EndDate</th>\n",
       "      <th>Type</th>\n",
       "      <th>PaperlessBilling</th>\n",
       "      <th>PaymentMethod</th>\n",
       "      <th>MonthlyCharges</th>\n",
       "      <th>TotalCharges</th>\n",
       "    </tr>\n",
       "  </thead>\n",
       "  <tbody>\n",
       "    <tr>\n",
       "      <th>4412</th>\n",
       "      <td>8042-RNLKO</td>\n",
       "      <td>2014-08-01</td>\n",
       "      <td>No</td>\n",
       "      <td>One year</td>\n",
       "      <td>No</td>\n",
       "      <td>Bank transfer (automatic)</td>\n",
       "      <td>25.45</td>\n",
       "      <td>1679.7</td>\n",
       "    </tr>\n",
       "    <tr>\n",
       "      <th>4089</th>\n",
       "      <td>4282-YMKNA</td>\n",
       "      <td>2019-03-01</td>\n",
       "      <td>No</td>\n",
       "      <td>Month-to-month</td>\n",
       "      <td>Yes</td>\n",
       "      <td>Electronic check</td>\n",
       "      <td>74.75</td>\n",
       "      <td>822.25</td>\n",
       "    </tr>\n",
       "    <tr>\n",
       "      <th>6800</th>\n",
       "      <td>1113-IUJYX</td>\n",
       "      <td>2018-08-01</td>\n",
       "      <td>No</td>\n",
       "      <td>One year</td>\n",
       "      <td>No</td>\n",
       "      <td>Mailed check</td>\n",
       "      <td>105.95</td>\n",
       "      <td>1964.31</td>\n",
       "    </tr>\n",
       "  </tbody>\n",
       "</table>\n",
       "</div>"
      ],
      "text/plain": [
       "      customerID   BeginDate EndDate            Type PaperlessBilling  \\\n",
       "4412  8042-RNLKO  2014-08-01      No        One year               No   \n",
       "4089  4282-YMKNA  2019-03-01      No  Month-to-month              Yes   \n",
       "6800  1113-IUJYX  2018-08-01      No        One year               No   \n",
       "\n",
       "                  PaymentMethod  MonthlyCharges TotalCharges  \n",
       "4412  Bank transfer (automatic)           25.45       1679.7  \n",
       "4089           Electronic check           74.75       822.25  \n",
       "6800               Mailed check          105.95      1964.31  "
      ]
     },
     "metadata": {},
     "output_type": "display_data"
    },
    {
     "name": "stdout",
     "output_type": "stream",
     "text": [
      "\n",
      "Таблица internet_new:\n"
     ]
    },
    {
     "data": {
      "text/html": [
       "<div>\n",
       "<style scoped>\n",
       "    .dataframe tbody tr th:only-of-type {\n",
       "        vertical-align: middle;\n",
       "    }\n",
       "\n",
       "    .dataframe tbody tr th {\n",
       "        vertical-align: top;\n",
       "    }\n",
       "\n",
       "    .dataframe thead th {\n",
       "        text-align: right;\n",
       "    }\n",
       "</style>\n",
       "<table border=\"1\" class=\"dataframe\">\n",
       "  <thead>\n",
       "    <tr style=\"text-align: right;\">\n",
       "      <th></th>\n",
       "      <th>customerID</th>\n",
       "      <th>InternetService</th>\n",
       "      <th>OnlineSecurity</th>\n",
       "      <th>OnlineBackup</th>\n",
       "      <th>DeviceProtection</th>\n",
       "      <th>TechSupport</th>\n",
       "      <th>StreamingTV</th>\n",
       "      <th>StreamingMovies</th>\n",
       "    </tr>\n",
       "  </thead>\n",
       "  <tbody>\n",
       "    <tr>\n",
       "      <th>1749</th>\n",
       "      <td>2528-HFYZX</td>\n",
       "      <td>Fiber optic</td>\n",
       "      <td>No</td>\n",
       "      <td>Yes</td>\n",
       "      <td>No</td>\n",
       "      <td>No</td>\n",
       "      <td>No</td>\n",
       "      <td>No</td>\n",
       "    </tr>\n",
       "    <tr>\n",
       "      <th>2152</th>\n",
       "      <td>1724-BQUHA</td>\n",
       "      <td>Fiber optic</td>\n",
       "      <td>No</td>\n",
       "      <td>No</td>\n",
       "      <td>No</td>\n",
       "      <td>No</td>\n",
       "      <td>Yes</td>\n",
       "      <td>Yes</td>\n",
       "    </tr>\n",
       "    <tr>\n",
       "      <th>1949</th>\n",
       "      <td>2636-OHFMN</td>\n",
       "      <td>DSL</td>\n",
       "      <td>No</td>\n",
       "      <td>Yes</td>\n",
       "      <td>No</td>\n",
       "      <td>No</td>\n",
       "      <td>Yes</td>\n",
       "      <td>Yes</td>\n",
       "    </tr>\n",
       "  </tbody>\n",
       "</table>\n",
       "</div>"
      ],
      "text/plain": [
       "      customerID InternetService OnlineSecurity OnlineBackup DeviceProtection  \\\n",
       "1749  2528-HFYZX     Fiber optic             No          Yes               No   \n",
       "2152  1724-BQUHA     Fiber optic             No           No               No   \n",
       "1949  2636-OHFMN             DSL             No          Yes               No   \n",
       "\n",
       "     TechSupport StreamingTV StreamingMovies  \n",
       "1749          No          No              No  \n",
       "2152          No         Yes             Yes  \n",
       "1949          No         Yes             Yes  "
      ]
     },
     "metadata": {},
     "output_type": "display_data"
    },
    {
     "name": "stdout",
     "output_type": "stream",
     "text": [
      "\n",
      "Таблица personal_new:\n"
     ]
    },
    {
     "data": {
      "text/html": [
       "<div>\n",
       "<style scoped>\n",
       "    .dataframe tbody tr th:only-of-type {\n",
       "        vertical-align: middle;\n",
       "    }\n",
       "\n",
       "    .dataframe tbody tr th {\n",
       "        vertical-align: top;\n",
       "    }\n",
       "\n",
       "    .dataframe thead th {\n",
       "        text-align: right;\n",
       "    }\n",
       "</style>\n",
       "<table border=\"1\" class=\"dataframe\">\n",
       "  <thead>\n",
       "    <tr style=\"text-align: right;\">\n",
       "      <th></th>\n",
       "      <th>customerID</th>\n",
       "      <th>gender</th>\n",
       "      <th>SeniorCitizen</th>\n",
       "      <th>Partner</th>\n",
       "      <th>Dependents</th>\n",
       "    </tr>\n",
       "  </thead>\n",
       "  <tbody>\n",
       "    <tr>\n",
       "      <th>4412</th>\n",
       "      <td>8042-RNLKO</td>\n",
       "      <td>Male</td>\n",
       "      <td>0</td>\n",
       "      <td>No</td>\n",
       "      <td>No</td>\n",
       "    </tr>\n",
       "    <tr>\n",
       "      <th>4089</th>\n",
       "      <td>4282-YMKNA</td>\n",
       "      <td>Female</td>\n",
       "      <td>0</td>\n",
       "      <td>No</td>\n",
       "      <td>No</td>\n",
       "    </tr>\n",
       "    <tr>\n",
       "      <th>6800</th>\n",
       "      <td>1113-IUJYX</td>\n",
       "      <td>Female</td>\n",
       "      <td>0</td>\n",
       "      <td>Yes</td>\n",
       "      <td>No</td>\n",
       "    </tr>\n",
       "  </tbody>\n",
       "</table>\n",
       "</div>"
      ],
      "text/plain": [
       "      customerID  gender  SeniorCitizen Partner Dependents\n",
       "4412  8042-RNLKO    Male              0      No         No\n",
       "4089  4282-YMKNA  Female              0      No         No\n",
       "6800  1113-IUJYX  Female              0     Yes         No"
      ]
     },
     "metadata": {},
     "output_type": "display_data"
    },
    {
     "name": "stdout",
     "output_type": "stream",
     "text": [
      "\n",
      "Таблица phone_new\n"
     ]
    },
    {
     "data": {
      "text/html": [
       "<div>\n",
       "<style scoped>\n",
       "    .dataframe tbody tr th:only-of-type {\n",
       "        vertical-align: middle;\n",
       "    }\n",
       "\n",
       "    .dataframe tbody tr th {\n",
       "        vertical-align: top;\n",
       "    }\n",
       "\n",
       "    .dataframe thead th {\n",
       "        text-align: right;\n",
       "    }\n",
       "</style>\n",
       "<table border=\"1\" class=\"dataframe\">\n",
       "  <thead>\n",
       "    <tr style=\"text-align: right;\">\n",
       "      <th></th>\n",
       "      <th>customerID</th>\n",
       "      <th>MultipleLines</th>\n",
       "    </tr>\n",
       "  </thead>\n",
       "  <tbody>\n",
       "    <tr>\n",
       "      <th>812</th>\n",
       "      <td>2267-FPIMA</td>\n",
       "      <td>Yes</td>\n",
       "    </tr>\n",
       "    <tr>\n",
       "      <th>3247</th>\n",
       "      <td>2227-JRSJX</td>\n",
       "      <td>No</td>\n",
       "    </tr>\n",
       "    <tr>\n",
       "      <th>1468</th>\n",
       "      <td>1971-DTCZB</td>\n",
       "      <td>Yes</td>\n",
       "    </tr>\n",
       "  </tbody>\n",
       "</table>\n",
       "</div>"
      ],
      "text/plain": [
       "      customerID MultipleLines\n",
       "812   2267-FPIMA           Yes\n",
       "3247  2227-JRSJX            No\n",
       "1468  1971-DTCZB           Yes"
      ]
     },
     "metadata": {},
     "output_type": "display_data"
    }
   ],
   "source": [
    "print(\"Таблица contract_new:\")\n",
    "display(data_contract.sample(3, random_state=RS))\n",
    "print(\"\\nТаблица internet_new:\")\n",
    "display(data_internet.sample(3, random_state=RS))\n",
    "print(\"\\nТаблица personal_new:\")\n",
    "display(data_personal.sample(3, random_state=RS))\n",
    "print(\"\\nТаблица phone_new\")\n",
    "display(data_phone.sample(3, random_state=RS))"
   ]
  },
  {
   "cell_type": "markdown",
   "id": "8c7ae808",
   "metadata": {},
   "source": [
    "Во всех таблицах имеется столбец `'customer_ID'`. Именно по нему, в дальнейшем и будем производить объединение таблиц."
   ]
  },
  {
   "cell_type": "markdown",
   "id": "e9711fbf",
   "metadata": {},
   "source": [
    "### Первичный анализ данных"
   ]
  },
  {
   "cell_type": "markdown",
   "id": "89068a35",
   "metadata": {},
   "source": [
    "Выведем информацию о данных методом `info()`."
   ]
  },
  {
   "cell_type": "code",
   "execution_count": 8,
   "id": "f6e5cb82",
   "metadata": {
    "scrolled": true
   },
   "outputs": [
    {
     "name": "stdout",
     "output_type": "stream",
     "text": [
      "Таблица contract_new:\n",
      "<class 'pandas.core.frame.DataFrame'>\n",
      "RangeIndex: 7043 entries, 0 to 7042\n",
      "Data columns (total 8 columns):\n",
      " #   Column            Non-Null Count  Dtype  \n",
      "---  ------            --------------  -----  \n",
      " 0   customerID        7043 non-null   object \n",
      " 1   BeginDate         7043 non-null   object \n",
      " 2   EndDate           7043 non-null   object \n",
      " 3   Type              7043 non-null   object \n",
      " 4   PaperlessBilling  7043 non-null   object \n",
      " 5   PaymentMethod     7043 non-null   object \n",
      " 6   MonthlyCharges    7043 non-null   float64\n",
      " 7   TotalCharges      7043 non-null   object \n",
      "dtypes: float64(1), object(7)\n",
      "memory usage: 440.3+ KB\n",
      "\n",
      "Таблица internet_new:\n",
      "\n",
      "<class 'pandas.core.frame.DataFrame'>\n",
      "RangeIndex: 5517 entries, 0 to 5516\n",
      "Data columns (total 8 columns):\n",
      " #   Column            Non-Null Count  Dtype \n",
      "---  ------            --------------  ----- \n",
      " 0   customerID        5517 non-null   object\n",
      " 1   InternetService   5517 non-null   object\n",
      " 2   OnlineSecurity    5517 non-null   object\n",
      " 3   OnlineBackup      5517 non-null   object\n",
      " 4   DeviceProtection  5517 non-null   object\n",
      " 5   TechSupport       5517 non-null   object\n",
      " 6   StreamingTV       5517 non-null   object\n",
      " 7   StreamingMovies   5517 non-null   object\n",
      "dtypes: object(8)\n",
      "memory usage: 344.9+ KB\n",
      "\n",
      "Таблица personal_new:\n",
      "\n",
      "<class 'pandas.core.frame.DataFrame'>\n",
      "RangeIndex: 7043 entries, 0 to 7042\n",
      "Data columns (total 5 columns):\n",
      " #   Column         Non-Null Count  Dtype \n",
      "---  ------         --------------  ----- \n",
      " 0   customerID     7043 non-null   object\n",
      " 1   gender         7043 non-null   object\n",
      " 2   SeniorCitizen  7043 non-null   int64 \n",
      " 3   Partner        7043 non-null   object\n",
      " 4   Dependents     7043 non-null   object\n",
      "dtypes: int64(1), object(4)\n",
      "memory usage: 275.2+ KB\n",
      "\n",
      "Таблица phone_new\n",
      "\n",
      "<class 'pandas.core.frame.DataFrame'>\n",
      "RangeIndex: 6361 entries, 0 to 6360\n",
      "Data columns (total 2 columns):\n",
      " #   Column         Non-Null Count  Dtype \n",
      "---  ------         --------------  ----- \n",
      " 0   customerID     6361 non-null   object\n",
      " 1   MultipleLines  6361 non-null   object\n",
      "dtypes: object(2)\n",
      "memory usage: 99.5+ KB\n"
     ]
    }
   ],
   "source": [
    "print(\"Таблица contract_new:\")\n",
    "data_contract.info()\n",
    "print(\"\\nТаблица internet_new:\\n\")\n",
    "data_internet.info()\n",
    "print(\"\\nТаблица personal_new:\\n\")\n",
    "data_personal.info()\n",
    "print(\"\\nТаблица phone_new\\n\")\n",
    "data_phone.info()"
   ]
  },
  {
   "cell_type": "code",
   "execution_count": 9,
   "id": "1d3e19e7",
   "metadata": {
    "scrolled": true
   },
   "outputs": [
    {
     "name": "stdout",
     "output_type": "stream",
     "text": [
      "Таблица contract_new:\n"
     ]
    },
    {
     "data": {
      "text/html": [
       "<div>\n",
       "<style scoped>\n",
       "    .dataframe tbody tr th:only-of-type {\n",
       "        vertical-align: middle;\n",
       "    }\n",
       "\n",
       "    .dataframe tbody tr th {\n",
       "        vertical-align: top;\n",
       "    }\n",
       "\n",
       "    .dataframe thead th {\n",
       "        text-align: right;\n",
       "    }\n",
       "</style>\n",
       "<table border=\"1\" class=\"dataframe\">\n",
       "  <thead>\n",
       "    <tr style=\"text-align: right;\">\n",
       "      <th></th>\n",
       "      <th>customerID</th>\n",
       "      <th>BeginDate</th>\n",
       "      <th>EndDate</th>\n",
       "      <th>Type</th>\n",
       "      <th>PaperlessBilling</th>\n",
       "      <th>PaymentMethod</th>\n",
       "      <th>MonthlyCharges</th>\n",
       "      <th>TotalCharges</th>\n",
       "    </tr>\n",
       "  </thead>\n",
       "  <tbody>\n",
       "    <tr>\n",
       "      <th>count</th>\n",
       "      <td>7043</td>\n",
       "      <td>7043</td>\n",
       "      <td>7043</td>\n",
       "      <td>7043</td>\n",
       "      <td>7043</td>\n",
       "      <td>7043</td>\n",
       "      <td>7043.000000</td>\n",
       "      <td>7043</td>\n",
       "    </tr>\n",
       "    <tr>\n",
       "      <th>unique</th>\n",
       "      <td>7043</td>\n",
       "      <td>77</td>\n",
       "      <td>67</td>\n",
       "      <td>3</td>\n",
       "      <td>2</td>\n",
       "      <td>4</td>\n",
       "      <td>NaN</td>\n",
       "      <td>6658</td>\n",
       "    </tr>\n",
       "    <tr>\n",
       "      <th>top</th>\n",
       "      <td>7590-VHVEG</td>\n",
       "      <td>2014-02-01</td>\n",
       "      <td>No</td>\n",
       "      <td>Month-to-month</td>\n",
       "      <td>Yes</td>\n",
       "      <td>Electronic check</td>\n",
       "      <td>NaN</td>\n",
       "      <td></td>\n",
       "    </tr>\n",
       "    <tr>\n",
       "      <th>freq</th>\n",
       "      <td>1</td>\n",
       "      <td>366</td>\n",
       "      <td>5942</td>\n",
       "      <td>3875</td>\n",
       "      <td>4171</td>\n",
       "      <td>2365</td>\n",
       "      <td>NaN</td>\n",
       "      <td>11</td>\n",
       "    </tr>\n",
       "    <tr>\n",
       "      <th>mean</th>\n",
       "      <td>NaN</td>\n",
       "      <td>NaN</td>\n",
       "      <td>NaN</td>\n",
       "      <td>NaN</td>\n",
       "      <td>NaN</td>\n",
       "      <td>NaN</td>\n",
       "      <td>64.761692</td>\n",
       "      <td>NaN</td>\n",
       "    </tr>\n",
       "    <tr>\n",
       "      <th>std</th>\n",
       "      <td>NaN</td>\n",
       "      <td>NaN</td>\n",
       "      <td>NaN</td>\n",
       "      <td>NaN</td>\n",
       "      <td>NaN</td>\n",
       "      <td>NaN</td>\n",
       "      <td>30.090047</td>\n",
       "      <td>NaN</td>\n",
       "    </tr>\n",
       "    <tr>\n",
       "      <th>min</th>\n",
       "      <td>NaN</td>\n",
       "      <td>NaN</td>\n",
       "      <td>NaN</td>\n",
       "      <td>NaN</td>\n",
       "      <td>NaN</td>\n",
       "      <td>NaN</td>\n",
       "      <td>18.250000</td>\n",
       "      <td>NaN</td>\n",
       "    </tr>\n",
       "    <tr>\n",
       "      <th>25%</th>\n",
       "      <td>NaN</td>\n",
       "      <td>NaN</td>\n",
       "      <td>NaN</td>\n",
       "      <td>NaN</td>\n",
       "      <td>NaN</td>\n",
       "      <td>NaN</td>\n",
       "      <td>35.500000</td>\n",
       "      <td>NaN</td>\n",
       "    </tr>\n",
       "    <tr>\n",
       "      <th>50%</th>\n",
       "      <td>NaN</td>\n",
       "      <td>NaN</td>\n",
       "      <td>NaN</td>\n",
       "      <td>NaN</td>\n",
       "      <td>NaN</td>\n",
       "      <td>NaN</td>\n",
       "      <td>70.350000</td>\n",
       "      <td>NaN</td>\n",
       "    </tr>\n",
       "    <tr>\n",
       "      <th>75%</th>\n",
       "      <td>NaN</td>\n",
       "      <td>NaN</td>\n",
       "      <td>NaN</td>\n",
       "      <td>NaN</td>\n",
       "      <td>NaN</td>\n",
       "      <td>NaN</td>\n",
       "      <td>89.850000</td>\n",
       "      <td>NaN</td>\n",
       "    </tr>\n",
       "    <tr>\n",
       "      <th>max</th>\n",
       "      <td>NaN</td>\n",
       "      <td>NaN</td>\n",
       "      <td>NaN</td>\n",
       "      <td>NaN</td>\n",
       "      <td>NaN</td>\n",
       "      <td>NaN</td>\n",
       "      <td>118.750000</td>\n",
       "      <td>NaN</td>\n",
       "    </tr>\n",
       "  </tbody>\n",
       "</table>\n",
       "</div>"
      ],
      "text/plain": [
       "        customerID   BeginDate EndDate            Type PaperlessBilling  \\\n",
       "count         7043        7043    7043            7043             7043   \n",
       "unique        7043          77      67               3                2   \n",
       "top     7590-VHVEG  2014-02-01      No  Month-to-month              Yes   \n",
       "freq             1         366    5942            3875             4171   \n",
       "mean           NaN         NaN     NaN             NaN              NaN   \n",
       "std            NaN         NaN     NaN             NaN              NaN   \n",
       "min            NaN         NaN     NaN             NaN              NaN   \n",
       "25%            NaN         NaN     NaN             NaN              NaN   \n",
       "50%            NaN         NaN     NaN             NaN              NaN   \n",
       "75%            NaN         NaN     NaN             NaN              NaN   \n",
       "max            NaN         NaN     NaN             NaN              NaN   \n",
       "\n",
       "           PaymentMethod  MonthlyCharges TotalCharges  \n",
       "count               7043     7043.000000         7043  \n",
       "unique                 4             NaN         6658  \n",
       "top     Electronic check             NaN               \n",
       "freq                2365             NaN           11  \n",
       "mean                 NaN       64.761692          NaN  \n",
       "std                  NaN       30.090047          NaN  \n",
       "min                  NaN       18.250000          NaN  \n",
       "25%                  NaN       35.500000          NaN  \n",
       "50%                  NaN       70.350000          NaN  \n",
       "75%                  NaN       89.850000          NaN  \n",
       "max                  NaN      118.750000          NaN  "
      ]
     },
     "metadata": {},
     "output_type": "display_data"
    },
    {
     "name": "stdout",
     "output_type": "stream",
     "text": [
      "\n",
      "Таблица internet_new:\n",
      "\n"
     ]
    },
    {
     "data": {
      "text/html": [
       "<div>\n",
       "<style scoped>\n",
       "    .dataframe tbody tr th:only-of-type {\n",
       "        vertical-align: middle;\n",
       "    }\n",
       "\n",
       "    .dataframe tbody tr th {\n",
       "        vertical-align: top;\n",
       "    }\n",
       "\n",
       "    .dataframe thead th {\n",
       "        text-align: right;\n",
       "    }\n",
       "</style>\n",
       "<table border=\"1\" class=\"dataframe\">\n",
       "  <thead>\n",
       "    <tr style=\"text-align: right;\">\n",
       "      <th></th>\n",
       "      <th>customerID</th>\n",
       "      <th>InternetService</th>\n",
       "      <th>OnlineSecurity</th>\n",
       "      <th>OnlineBackup</th>\n",
       "      <th>DeviceProtection</th>\n",
       "      <th>TechSupport</th>\n",
       "      <th>StreamingTV</th>\n",
       "      <th>StreamingMovies</th>\n",
       "    </tr>\n",
       "  </thead>\n",
       "  <tbody>\n",
       "    <tr>\n",
       "      <th>count</th>\n",
       "      <td>5517</td>\n",
       "      <td>5517</td>\n",
       "      <td>5517</td>\n",
       "      <td>5517</td>\n",
       "      <td>5517</td>\n",
       "      <td>5517</td>\n",
       "      <td>5517</td>\n",
       "      <td>5517</td>\n",
       "    </tr>\n",
       "    <tr>\n",
       "      <th>unique</th>\n",
       "      <td>5517</td>\n",
       "      <td>2</td>\n",
       "      <td>2</td>\n",
       "      <td>2</td>\n",
       "      <td>2</td>\n",
       "      <td>2</td>\n",
       "      <td>2</td>\n",
       "      <td>2</td>\n",
       "    </tr>\n",
       "    <tr>\n",
       "      <th>top</th>\n",
       "      <td>7590-VHVEG</td>\n",
       "      <td>Fiber optic</td>\n",
       "      <td>No</td>\n",
       "      <td>No</td>\n",
       "      <td>No</td>\n",
       "      <td>No</td>\n",
       "      <td>No</td>\n",
       "      <td>No</td>\n",
       "    </tr>\n",
       "    <tr>\n",
       "      <th>freq</th>\n",
       "      <td>1</td>\n",
       "      <td>3096</td>\n",
       "      <td>3498</td>\n",
       "      <td>3088</td>\n",
       "      <td>3095</td>\n",
       "      <td>3473</td>\n",
       "      <td>2810</td>\n",
       "      <td>2785</td>\n",
       "    </tr>\n",
       "  </tbody>\n",
       "</table>\n",
       "</div>"
      ],
      "text/plain": [
       "        customerID InternetService OnlineSecurity OnlineBackup  \\\n",
       "count         5517            5517           5517         5517   \n",
       "unique        5517               2              2            2   \n",
       "top     7590-VHVEG     Fiber optic             No           No   \n",
       "freq             1            3096           3498         3088   \n",
       "\n",
       "       DeviceProtection TechSupport StreamingTV StreamingMovies  \n",
       "count              5517        5517        5517            5517  \n",
       "unique                2           2           2               2  \n",
       "top                  No          No          No              No  \n",
       "freq               3095        3473        2810            2785  "
      ]
     },
     "metadata": {},
     "output_type": "display_data"
    },
    {
     "name": "stdout",
     "output_type": "stream",
     "text": [
      "\n",
      "Таблица personal_new:\n",
      "\n"
     ]
    },
    {
     "data": {
      "text/html": [
       "<div>\n",
       "<style scoped>\n",
       "    .dataframe tbody tr th:only-of-type {\n",
       "        vertical-align: middle;\n",
       "    }\n",
       "\n",
       "    .dataframe tbody tr th {\n",
       "        vertical-align: top;\n",
       "    }\n",
       "\n",
       "    .dataframe thead th {\n",
       "        text-align: right;\n",
       "    }\n",
       "</style>\n",
       "<table border=\"1\" class=\"dataframe\">\n",
       "  <thead>\n",
       "    <tr style=\"text-align: right;\">\n",
       "      <th></th>\n",
       "      <th>customerID</th>\n",
       "      <th>gender</th>\n",
       "      <th>SeniorCitizen</th>\n",
       "      <th>Partner</th>\n",
       "      <th>Dependents</th>\n",
       "    </tr>\n",
       "  </thead>\n",
       "  <tbody>\n",
       "    <tr>\n",
       "      <th>count</th>\n",
       "      <td>7043</td>\n",
       "      <td>7043</td>\n",
       "      <td>7043.000000</td>\n",
       "      <td>7043</td>\n",
       "      <td>7043</td>\n",
       "    </tr>\n",
       "    <tr>\n",
       "      <th>unique</th>\n",
       "      <td>7043</td>\n",
       "      <td>2</td>\n",
       "      <td>NaN</td>\n",
       "      <td>2</td>\n",
       "      <td>2</td>\n",
       "    </tr>\n",
       "    <tr>\n",
       "      <th>top</th>\n",
       "      <td>7590-VHVEG</td>\n",
       "      <td>Male</td>\n",
       "      <td>NaN</td>\n",
       "      <td>No</td>\n",
       "      <td>No</td>\n",
       "    </tr>\n",
       "    <tr>\n",
       "      <th>freq</th>\n",
       "      <td>1</td>\n",
       "      <td>3555</td>\n",
       "      <td>NaN</td>\n",
       "      <td>3641</td>\n",
       "      <td>4933</td>\n",
       "    </tr>\n",
       "    <tr>\n",
       "      <th>mean</th>\n",
       "      <td>NaN</td>\n",
       "      <td>NaN</td>\n",
       "      <td>0.162147</td>\n",
       "      <td>NaN</td>\n",
       "      <td>NaN</td>\n",
       "    </tr>\n",
       "    <tr>\n",
       "      <th>std</th>\n",
       "      <td>NaN</td>\n",
       "      <td>NaN</td>\n",
       "      <td>0.368612</td>\n",
       "      <td>NaN</td>\n",
       "      <td>NaN</td>\n",
       "    </tr>\n",
       "    <tr>\n",
       "      <th>min</th>\n",
       "      <td>NaN</td>\n",
       "      <td>NaN</td>\n",
       "      <td>0.000000</td>\n",
       "      <td>NaN</td>\n",
       "      <td>NaN</td>\n",
       "    </tr>\n",
       "    <tr>\n",
       "      <th>25%</th>\n",
       "      <td>NaN</td>\n",
       "      <td>NaN</td>\n",
       "      <td>0.000000</td>\n",
       "      <td>NaN</td>\n",
       "      <td>NaN</td>\n",
       "    </tr>\n",
       "    <tr>\n",
       "      <th>50%</th>\n",
       "      <td>NaN</td>\n",
       "      <td>NaN</td>\n",
       "      <td>0.000000</td>\n",
       "      <td>NaN</td>\n",
       "      <td>NaN</td>\n",
       "    </tr>\n",
       "    <tr>\n",
       "      <th>75%</th>\n",
       "      <td>NaN</td>\n",
       "      <td>NaN</td>\n",
       "      <td>0.000000</td>\n",
       "      <td>NaN</td>\n",
       "      <td>NaN</td>\n",
       "    </tr>\n",
       "    <tr>\n",
       "      <th>max</th>\n",
       "      <td>NaN</td>\n",
       "      <td>NaN</td>\n",
       "      <td>1.000000</td>\n",
       "      <td>NaN</td>\n",
       "      <td>NaN</td>\n",
       "    </tr>\n",
       "  </tbody>\n",
       "</table>\n",
       "</div>"
      ],
      "text/plain": [
       "        customerID gender  SeniorCitizen Partner Dependents\n",
       "count         7043   7043    7043.000000    7043       7043\n",
       "unique        7043      2            NaN       2          2\n",
       "top     7590-VHVEG   Male            NaN      No         No\n",
       "freq             1   3555            NaN    3641       4933\n",
       "mean           NaN    NaN       0.162147     NaN        NaN\n",
       "std            NaN    NaN       0.368612     NaN        NaN\n",
       "min            NaN    NaN       0.000000     NaN        NaN\n",
       "25%            NaN    NaN       0.000000     NaN        NaN\n",
       "50%            NaN    NaN       0.000000     NaN        NaN\n",
       "75%            NaN    NaN       0.000000     NaN        NaN\n",
       "max            NaN    NaN       1.000000     NaN        NaN"
      ]
     },
     "metadata": {},
     "output_type": "display_data"
    },
    {
     "name": "stdout",
     "output_type": "stream",
     "text": [
      "\n",
      "Таблица phone_new\n",
      "\n"
     ]
    },
    {
     "data": {
      "text/html": [
       "<div>\n",
       "<style scoped>\n",
       "    .dataframe tbody tr th:only-of-type {\n",
       "        vertical-align: middle;\n",
       "    }\n",
       "\n",
       "    .dataframe tbody tr th {\n",
       "        vertical-align: top;\n",
       "    }\n",
       "\n",
       "    .dataframe thead th {\n",
       "        text-align: right;\n",
       "    }\n",
       "</style>\n",
       "<table border=\"1\" class=\"dataframe\">\n",
       "  <thead>\n",
       "    <tr style=\"text-align: right;\">\n",
       "      <th></th>\n",
       "      <th>customerID</th>\n",
       "      <th>MultipleLines</th>\n",
       "    </tr>\n",
       "  </thead>\n",
       "  <tbody>\n",
       "    <tr>\n",
       "      <th>count</th>\n",
       "      <td>6361</td>\n",
       "      <td>6361</td>\n",
       "    </tr>\n",
       "    <tr>\n",
       "      <th>unique</th>\n",
       "      <td>6361</td>\n",
       "      <td>2</td>\n",
       "    </tr>\n",
       "    <tr>\n",
       "      <th>top</th>\n",
       "      <td>5575-GNVDE</td>\n",
       "      <td>No</td>\n",
       "    </tr>\n",
       "    <tr>\n",
       "      <th>freq</th>\n",
       "      <td>1</td>\n",
       "      <td>3390</td>\n",
       "    </tr>\n",
       "  </tbody>\n",
       "</table>\n",
       "</div>"
      ],
      "text/plain": [
       "        customerID MultipleLines\n",
       "count         6361          6361\n",
       "unique        6361             2\n",
       "top     5575-GNVDE            No\n",
       "freq             1          3390"
      ]
     },
     "metadata": {},
     "output_type": "display_data"
    }
   ],
   "source": [
    "print(\"Таблица contract_new:\")\n",
    "display(data_contract.describe(include='all'))\n",
    "print(\"\\nТаблица internet_new:\\n\")\n",
    "display(data_internet.describe(include='all'))\n",
    "print(\"\\nТаблица personal_new:\\n\")\n",
    "display(data_personal.describe(include='all'))\n",
    "print(\"\\nТаблица phone_new\\n\")\n",
    "display(data_phone.describe(include='all'))"
   ]
  },
  {
   "cell_type": "markdown",
   "id": "fa79063e",
   "metadata": {},
   "source": [
    "Из данной информации можно сделать следующие выводы:\n",
    "* большинство признаков являются категориальными, их будет необходимо закодировать;\n",
    "* некоторые признаки имеют неверный тип данных, например, категориальный признак `'SeniorCitizen'` имеет тип `int64`, а непрерывный\t`'TotalCharges'` - тип `object`;\n",
    "* все признаки имеют значение, нет неинформативных признаков: признак `'customerID'` понадобится для соединения таблиц, а из признаков `'BeginDate'` и `'EndDate'` можно будет создать дополнительный признак - время, которое человек являлся (или до сих пор является) клиентом."
   ]
  },
  {
   "cell_type": "markdown",
   "id": "53d53386",
   "metadata": {},
   "source": [
    "### Анализ числовых признаков"
   ]
  },
  {
   "cell_type": "markdown",
   "id": "3dfca03b",
   "metadata": {},
   "source": [
    "В первичном анализе можем взглянуть на распределение признаков. Выведем графики для признаков `'MonthlyCharges'` и `'TotalCharges'`. "
   ]
  },
  {
   "cell_type": "markdown",
   "id": "cb89c501",
   "metadata": {},
   "source": [
    "#### `'MonthlyCharges'`"
   ]
  },
  {
   "cell_type": "markdown",
   "id": "c40d0065",
   "metadata": {},
   "source": [
    "Для начала взглянем на гистограмму для признака `'MonthlyCharges'`."
   ]
  },
  {
   "cell_type": "code",
   "execution_count": 11,
   "id": "b52bf8df",
   "metadata": {},
   "outputs": [
    {
     "data": {
      "image/png": "[encoded data removed]",
      "text/plain": [
       "<Figure size 1440x720 with 1 Axes>"
      ]
     },
     "metadata": {
      "needs_background": "light"
     },
     "output_type": "display_data"
    }
   ],
   "source": [
    "data_contract['MonthlyCharges'].hist(figsize=(20, 10), bins=50).tick_params(labelsize=13)\n",
    "plt.title('Распределение месячных трат среди клиентов', fontsize=17)\n",
    "plt.ylabel('Количество человек', fontsize=15)\n",
    "plt.xlabel('Траты в месяц, $', fontsize=15);"
   ]
  },
  {
   "cell_type": "markdown",
   "id": "153ef9db",
   "metadata": {},
   "source": [
    "На гистограмме можно увидеть очень большое количество значений около нуля. Эти значения нужно будет проанализировать поглубже во время предобработки."
   ]
  },
  {
   "cell_type": "markdown",
   "id": "c3155e9b",
   "metadata": {},
   "source": [
    "Взглянем на диаграмму размаха."
   ]
  },
  {
   "cell_type": "code",
   "execution_count": 17,
   "id": "729b214d",
   "metadata": {},
   "outputs": [
    {
     "data": {
      "image/png": "[encoded data removed]",
      "text/plain": [
       "<Figure size 360x720 with 1 Axes>"
      ]
     },
     "metadata": {
      "needs_background": "light"
     },
     "output_type": "display_data"
    }
   ],
   "source": [
    "plt.figure(figsize=(5, 10))\n",
    "plt.boxplot(data_contract['MonthlyCharges'])\n",
    "plt.title('Диаграмма размаха для месячных трат', fontsize=13);"
   ]
  },
  {
   "cell_type": "markdown",
   "id": "c6057caa",
   "metadata": {},
   "source": [
    "На диаграмме размаха выбросов нет. С этим можно согласиться, так как траты распределены достаточно равномерно не считая околонулевых значений. "
   ]
  },
  {
   "cell_type": "markdown",
   "id": "e7906d56",
   "metadata": {},
   "source": [
    "#### `'TotalCharges'`"
   ]
  },
  {
   "cell_type": "markdown",
   "id": "84a40d94",
   "metadata": {},
   "source": [
    "Построим гистограмму и диаграмму размаха для столбца `'TotalCharges'`."
   ]
  },
  {
   "cell_type": "code",
   "execution_count": 18,
   "id": "af0b5837",
   "metadata": {},
   "outputs": [
    {
     "data": {
      "image/png": "[encoded data removed]",
      "text/plain": [
       "<Figure size 1440x720 with 1 Axes>"
      ]
     },
     "metadata": {
      "needs_background": "light"
     },
     "output_type": "display_data"
    }
   ],
   "source": [
    "#для графика избавимся от некорректных строковых значений в столбце, в дальнейшем разберём их подробнее\n",
    "pd.to_numeric(data_contract['TotalCharges'], errors='coerce').dropna().hist(figsize=(20, 10), bins=50).tick_params(labelsize=13) \n",
    "plt.title('Распределение суммарных трат среди клиентов', fontsize=20)\n",
    "plt.ylabel('Количество человек', fontsize=15)\n",
    "plt.xlabel('Траты за всё время, $',fontsize=15);"
   ]
  },
  {
   "cell_type": "code",
   "execution_count": 20,
   "id": "9b4b4855",
   "metadata": {},
   "outputs": [
    {
     "data": {
      "image/png": "[encoded data removed]",
      "text/plain": [
       "<Figure size 432x720 with 1 Axes>"
      ]
     },
     "metadata": {
      "needs_background": "light"
     },
     "output_type": "display_data"
    }
   ],
   "source": [
    "plt.figure(figsize=(6, 10))\n",
    "plt.boxplot(pd.to_numeric(data_contract['TotalCharges'], errors='coerce').dropna())\n",
    "plt.title('Диаграмма размаха для суммарных трат', fontsize=15);"
   ]
  },
  {
   "cell_type": "markdown",
   "id": "cf0223ca",
   "metadata": {},
   "source": [
    "Также, выведем методом `describe()` информацию о столбце, так как до изменения типа данных информация была некорректной:"
   ]
  },
  {
   "cell_type": "code",
   "execution_count": 21,
   "id": "763ea679",
   "metadata": {},
   "outputs": [
    {
     "data": {
      "text/plain": [
       "count    7032.000000\n",
       "mean     2118.621822\n",
       "std      2112.736199\n",
       "min        19.050000\n",
       "25%       439.745000\n",
       "50%      1345.275000\n",
       "75%      3239.317500\n",
       "max      9221.380000\n",
       "Name: TotalCharges, dtype: float64"
      ]
     },
     "execution_count": 21,
     "metadata": {},
     "output_type": "execute_result"
    }
   ],
   "source": [
    "pd.to_numeric(data_contract['TotalCharges'], errors='coerce').describe()"
   ]
  },
  {
   "cell_type": "markdown",
   "id": "bd0ff6fd",
   "metadata": {},
   "source": [
    "Пик распределения находится недалеко от нуля, после этого график плавно убывает. Медианное значение равно 1345, диаграмма размаха также показала наличие выбросов, от них нужно будет избавиться."
   ]
  },
  {
   "cell_type": "markdown",
   "id": "f521c81e",
   "metadata": {},
   "source": [
    "### Целевой признак"
   ]
  },
  {
   "cell_type": "markdown",
   "id": "2930266a",
   "metadata": {},
   "source": [
    "Целевым признаком является столбец `'EndDate'`, однако перед передачей данных в модель, его будет необходимо преобразовать. В данном столбце содержится дата ухода клиента из компании, или значение `'No'`, если клиент не уходил. Взглянем на баланс классов в данных. Для этого преобразуем значение `'No'` в `0`, а дату ухода в `1`."
   ]
  },
  {
   "cell_type": "code",
   "execution_count": 22,
   "id": "19a91bbf",
   "metadata": {},
   "outputs": [
    {
     "data": {
      "text/html": [
       "<div>\n",
       "<style scoped>\n",
       "    .dataframe tbody tr th:only-of-type {\n",
       "        vertical-align: middle;\n",
       "    }\n",
       "\n",
       "    .dataframe tbody tr th {\n",
       "        vertical-align: top;\n",
       "    }\n",
       "\n",
       "    .dataframe thead th {\n",
       "        text-align: right;\n",
       "    }\n",
       "</style>\n",
       "<table border=\"1\" class=\"dataframe\">\n",
       "  <thead>\n",
       "    <tr style=\"text-align: right;\">\n",
       "      <th></th>\n",
       "      <th>customerID</th>\n",
       "      <th>BeginDate</th>\n",
       "      <th>EndDate</th>\n",
       "      <th>Type</th>\n",
       "      <th>PaperlessBilling</th>\n",
       "      <th>PaymentMethod</th>\n",
       "      <th>MonthlyCharges</th>\n",
       "      <th>TotalCharges</th>\n",
       "    </tr>\n",
       "  </thead>\n",
       "  <tbody>\n",
       "    <tr>\n",
       "      <th>4412</th>\n",
       "      <td>8042-RNLKO</td>\n",
       "      <td>2014-08-01</td>\n",
       "      <td>0</td>\n",
       "      <td>One year</td>\n",
       "      <td>No</td>\n",
       "      <td>Bank transfer (automatic)</td>\n",
       "      <td>25.45</td>\n",
       "      <td>1679.7</td>\n",
       "    </tr>\n",
       "    <tr>\n",
       "      <th>4089</th>\n",
       "      <td>4282-YMKNA</td>\n",
       "      <td>2019-03-01</td>\n",
       "      <td>0</td>\n",
       "      <td>Month-to-month</td>\n",
       "      <td>Yes</td>\n",
       "      <td>Electronic check</td>\n",
       "      <td>74.75</td>\n",
       "      <td>822.25</td>\n",
       "    </tr>\n",
       "    <tr>\n",
       "      <th>6800</th>\n",
       "      <td>1113-IUJYX</td>\n",
       "      <td>2018-08-01</td>\n",
       "      <td>0</td>\n",
       "      <td>One year</td>\n",
       "      <td>No</td>\n",
       "      <td>Mailed check</td>\n",
       "      <td>105.95</td>\n",
       "      <td>1964.31</td>\n",
       "    </tr>\n",
       "    <tr>\n",
       "      <th>662</th>\n",
       "      <td>3030-ZKIWL</td>\n",
       "      <td>2020-01-01</td>\n",
       "      <td>0</td>\n",
       "      <td>Month-to-month</td>\n",
       "      <td>No</td>\n",
       "      <td>Mailed check</td>\n",
       "      <td>20.05</td>\n",
       "      <td>20.65</td>\n",
       "    </tr>\n",
       "    <tr>\n",
       "      <th>6956</th>\n",
       "      <td>2451-YMUXS</td>\n",
       "      <td>2014-07-01</td>\n",
       "      <td>1</td>\n",
       "      <td>Two year</td>\n",
       "      <td>Yes</td>\n",
       "      <td>Bank transfer (automatic)</td>\n",
       "      <td>64.55</td>\n",
       "      <td>3292.05</td>\n",
       "    </tr>\n",
       "    <tr>\n",
       "      <th>2114</th>\n",
       "      <td>7707-PYBBH</td>\n",
       "      <td>2016-10-01</td>\n",
       "      <td>1</td>\n",
       "      <td>Month-to-month</td>\n",
       "      <td>Yes</td>\n",
       "      <td>Mailed check</td>\n",
       "      <td>61.90</td>\n",
       "      <td>1258.43</td>\n",
       "    </tr>\n",
       "    <tr>\n",
       "      <th>4538</th>\n",
       "      <td>0378-TOVMS</td>\n",
       "      <td>2019-10-01</td>\n",
       "      <td>0</td>\n",
       "      <td>Month-to-month</td>\n",
       "      <td>No</td>\n",
       "      <td>Electronic check</td>\n",
       "      <td>85.80</td>\n",
       "      <td>363.79</td>\n",
       "    </tr>\n",
       "    <tr>\n",
       "      <th>2282</th>\n",
       "      <td>1587-FKLZB</td>\n",
       "      <td>2014-07-01</td>\n",
       "      <td>1</td>\n",
       "      <td>Month-to-month</td>\n",
       "      <td>Yes</td>\n",
       "      <td>Credit card (automatic)</td>\n",
       "      <td>99.50</td>\n",
       "      <td>2943.21</td>\n",
       "    </tr>\n",
       "    <tr>\n",
       "      <th>4387</th>\n",
       "      <td>5868-YTYKS</td>\n",
       "      <td>2020-01-01</td>\n",
       "      <td>0</td>\n",
       "      <td>Month-to-month</td>\n",
       "      <td>Yes</td>\n",
       "      <td>Mailed check</td>\n",
       "      <td>20.25</td>\n",
       "      <td>22.07</td>\n",
       "    </tr>\n",
       "    <tr>\n",
       "      <th>2133</th>\n",
       "      <td>8051-HJRLT</td>\n",
       "      <td>2019-09-01</td>\n",
       "      <td>0</td>\n",
       "      <td>Month-to-month</td>\n",
       "      <td>Yes</td>\n",
       "      <td>Electronic check</td>\n",
       "      <td>70.55</td>\n",
       "      <td>356.28</td>\n",
       "    </tr>\n",
       "  </tbody>\n",
       "</table>\n",
       "</div>"
      ],
      "text/plain": [
       "      customerID   BeginDate EndDate            Type PaperlessBilling  \\\n",
       "4412  8042-RNLKO  2014-08-01       0        One year               No   \n",
       "4089  4282-YMKNA  2019-03-01       0  Month-to-month              Yes   \n",
       "6800  1113-IUJYX  2018-08-01       0        One year               No   \n",
       "662   3030-ZKIWL  2020-01-01       0  Month-to-month               No   \n",
       "6956  2451-YMUXS  2014-07-01       1        Two year              Yes   \n",
       "2114  7707-PYBBH  2016-10-01       1  Month-to-month              Yes   \n",
       "4538  0378-TOVMS  2019-10-01       0  Month-to-month               No   \n",
       "2282  1587-FKLZB  2014-07-01       1  Month-to-month              Yes   \n",
       "4387  5868-YTYKS  2020-01-01       0  Month-to-month              Yes   \n",
       "2133  8051-HJRLT  2019-09-01       0  Month-to-month              Yes   \n",
       "\n",
       "                  PaymentMethod  MonthlyCharges TotalCharges  \n",
       "4412  Bank transfer (automatic)           25.45       1679.7  \n",
       "4089           Electronic check           74.75       822.25  \n",
       "6800               Mailed check          105.95      1964.31  \n",
       "662                Mailed check           20.05        20.65  \n",
       "6956  Bank transfer (automatic)           64.55      3292.05  \n",
       "2114               Mailed check           61.90      1258.43  \n",
       "4538           Electronic check           85.80       363.79  \n",
       "2282    Credit card (automatic)           99.50      2943.21  \n",
       "4387               Mailed check           20.25        22.07  \n",
       "2133           Electronic check           70.55       356.28  "
      ]
     },
     "execution_count": 22,
     "metadata": {},
     "output_type": "execute_result"
    }
   ],
   "source": [
    "data_contract['EndDate'].replace({'No': 0}, inplace=True) #заменяем значение 'No' на 0\n",
    "data_contract.loc[data_contract['EndDate'] != 0, ['EndDate']] = 1 #остальные значения меняем на 1\n",
    "data_contract.sample(10, random_state=RS)"
   ]
  },
  {
   "cell_type": "code",
   "execution_count": 23,
   "id": "cfe0e3e3",
   "metadata": {},
   "outputs": [
    {
     "name": "stdout",
     "output_type": "stream",
     "text": [
      "Значение 0 составляет 84.4% от всех данных\n",
      "Значение 1 составляет 15.6% от всех данных\n"
     ]
    }
   ],
   "source": [
    "data_contract['EndDate'].value_counts()\n",
    "print(\n",
    "    f'Значение 0 составляет {(data_contract[\"EndDate\"].value_counts()[0] / data_contract.shape[0] * 100).round(1)}% от всех данных')\n",
    "print(\n",
    "    f'Значение 1 составляет {(data_contract[\"EndDate\"].value_counts()[1] / data_contract.shape[0] * 100).round(1)}% от всех данных')"
   ]
  },
  {
   "cell_type": "markdown",
   "id": "04645630",
   "metadata": {},
   "source": [
    "В данных присутствует существенный дисбаланс классов. Этот вопрос тоже потребуется решить. "
   ]
  },
  {
   "cell_type": "markdown",
   "id": "db99859a",
   "metadata": {},
   "source": [
    "### Промежуточный вывод"
   ]
  },
  {
   "cell_type": "markdown",
   "id": "aeea2e18",
   "metadata": {},
   "source": [
    "Для выполнения задачи придётся провести существенную предобработку данных, так как необходимо преобразовать значительное количество признаков, к тому же, все признаки находятся в разных таблицах, их необходимо корректно соединить. Также, нужно будет создать дополнительный признак из столбцов с датами, и обратить внимание на дисбаланс класов. Дополнительно нужно будет проверить мультиколлинеарность и выявить особенности в данных."
   ]
  },
  {
   "cell_type": "markdown",
   "id": "faf303d4",
   "metadata": {},
   "source": [
    "### План проекта"
   ]
  },
  {
   "cell_type": "markdown",
   "id": "398363d4",
   "metadata": {},
   "source": [
    "1. Загрузить все датасеты в переменные. Вывести основную информацию о данных методами `info()` и `describe()`.\n",
    "2. Ознакомиться с данными. Провести первичный анализ данных.\n",
    "3. Предобработка данных.\n",
    "4. Кодировка признаков. Добавление дополнительных признаков.\n",
    "5. Подбор гиперпараметров и обучение нескольких моделей на кроссвалидации. Выбор лучшей модели.\n",
    "6. Проверка лучшей модели на тесте. Анализ важности признаков лучшей модели."
   ]
  },
  {
   "cell_type": "markdown",
   "id": "70324462",
   "metadata": {},
   "source": [
    "## Код решения задачи"
   ]
  },
  {
   "cell_type": "markdown",
   "id": "3ecd4149",
   "metadata": {},
   "source": [
    "### Предобработка данных"
   ]
  },
  {
   "cell_type": "markdown",
   "id": "f2affdaf",
   "metadata": {},
   "source": [
    "#### Создание синтетического признака"
   ]
  },
  {
   "cell_type": "markdown",
   "id": "eb4d6ecb",
   "metadata": {},
   "source": [
    "Инициализируем датафрейм `dates` для того, чтобы создать новый признак `'days'`. Признак будет показывать, сколько дней человек являлся или является клиентом."
   ]
  },
  {
   "cell_type": "code",
   "execution_count": 24,
   "id": "f9a14e0d",
   "metadata": {},
   "outputs": [
    {
     "data": {
      "text/html": [
       "<div>\n",
       "<style scoped>\n",
       "    .dataframe tbody tr th:only-of-type {\n",
       "        vertical-align: middle;\n",
       "    }\n",
       "\n",
       "    .dataframe tbody tr th {\n",
       "        vertical-align: top;\n",
       "    }\n",
       "\n",
       "    .dataframe thead th {\n",
       "        text-align: right;\n",
       "    }\n",
       "</style>\n",
       "<table border=\"1\" class=\"dataframe\">\n",
       "  <thead>\n",
       "    <tr style=\"text-align: right;\">\n",
       "      <th></th>\n",
       "      <th>customerID</th>\n",
       "      <th>BeginDate</th>\n",
       "      <th>EndDate</th>\n",
       "    </tr>\n",
       "  </thead>\n",
       "  <tbody>\n",
       "    <tr>\n",
       "      <th>4412</th>\n",
       "      <td>8042-RNLKO</td>\n",
       "      <td>2014-08-01</td>\n",
       "      <td>2020-02-01</td>\n",
       "    </tr>\n",
       "    <tr>\n",
       "      <th>4089</th>\n",
       "      <td>4282-YMKNA</td>\n",
       "      <td>2019-03-01</td>\n",
       "      <td>2020-02-01</td>\n",
       "    </tr>\n",
       "    <tr>\n",
       "      <th>6800</th>\n",
       "      <td>1113-IUJYX</td>\n",
       "      <td>2018-08-01</td>\n",
       "      <td>2020-02-01</td>\n",
       "    </tr>\n",
       "  </tbody>\n",
       "</table>\n",
       "</div>"
      ],
      "text/plain": [
       "      customerID  BeginDate    EndDate\n",
       "4412  8042-RNLKO 2014-08-01 2020-02-01\n",
       "4089  4282-YMKNA 2019-03-01 2020-02-01\n",
       "6800  1113-IUJYX 2018-08-01 2020-02-01"
      ]
     },
     "execution_count": 24,
     "metadata": {},
     "output_type": "execute_result"
    }
   ],
   "source": [
    "# создание дополнительного признака, показывающего сколько дней человек является\\являлся клиентом\n",
    "dates = pd.read_csv(\n",
    "    'https://code.s3.yandex.net/datasets/contract_new.csv')[['customerID', 'BeginDate', 'EndDate']]\n",
    "dates.replace({'No': '2020-02-01'}, inplace=True)\n",
    "dates['BeginDate'] = pd.to_datetime(dates['BeginDate'], format='%Y-%m-%d')\n",
    "dates['EndDate'] = pd.to_datetime(dates['EndDate'], format='%Y-%m-%d')\n",
    "dates.sample(3, random_state=RS)"
   ]
  },
  {
   "cell_type": "code",
   "execution_count": 25,
   "id": "474351c3",
   "metadata": {},
   "outputs": [
    {
     "data": {
      "text/html": [
       "<div>\n",
       "<style scoped>\n",
       "    .dataframe tbody tr th:only-of-type {\n",
       "        vertical-align: middle;\n",
       "    }\n",
       "\n",
       "    .dataframe tbody tr th {\n",
       "        vertical-align: top;\n",
       "    }\n",
       "\n",
       "    .dataframe thead th {\n",
       "        text-align: right;\n",
       "    }\n",
       "</style>\n",
       "<table border=\"1\" class=\"dataframe\">\n",
       "  <thead>\n",
       "    <tr style=\"text-align: right;\">\n",
       "      <th></th>\n",
       "      <th>customerID</th>\n",
       "      <th>BeginDate</th>\n",
       "      <th>EndDate</th>\n",
       "      <th>days</th>\n",
       "    </tr>\n",
       "  </thead>\n",
       "  <tbody>\n",
       "    <tr>\n",
       "      <th>4412</th>\n",
       "      <td>8042-RNLKO</td>\n",
       "      <td>2014-08-01</td>\n",
       "      <td>2020-02-01</td>\n",
       "      <td>2010</td>\n",
       "    </tr>\n",
       "    <tr>\n",
       "      <th>4089</th>\n",
       "      <td>4282-YMKNA</td>\n",
       "      <td>2019-03-01</td>\n",
       "      <td>2020-02-01</td>\n",
       "      <td>337</td>\n",
       "    </tr>\n",
       "    <tr>\n",
       "      <th>6800</th>\n",
       "      <td>1113-IUJYX</td>\n",
       "      <td>2018-08-01</td>\n",
       "      <td>2020-02-01</td>\n",
       "      <td>549</td>\n",
       "    </tr>\n",
       "  </tbody>\n",
       "</table>\n",
       "</div>"
      ],
      "text/plain": [
       "      customerID  BeginDate    EndDate  days\n",
       "4412  8042-RNLKO 2014-08-01 2020-02-01  2010\n",
       "4089  4282-YMKNA 2019-03-01 2020-02-01   337\n",
       "6800  1113-IUJYX 2018-08-01 2020-02-01   549"
      ]
     },
     "execution_count": 25,
     "metadata": {},
     "output_type": "execute_result"
    }
   ],
   "source": [
    "dates['days'] = ((dates['EndDate'] - dates['BeginDate'])/np.timedelta64(1, 'D')).astype('int64')\n",
    "dates.sample(3, random_state=RS)"
   ]
  },
  {
   "cell_type": "markdown",
   "id": "247b741b",
   "metadata": {},
   "source": [
    "#### Объединение данных"
   ]
  },
  {
   "cell_type": "markdown",
   "id": "76646c90",
   "metadata": {},
   "source": [
    "Соеденим все таблицы в итоговый фрейм под названием `data`. Объединять будем по столбцу `'customerID'`."
   ]
  },
  {
   "cell_type": "code",
   "execution_count": 26,
   "id": "1926a0e7",
   "metadata": {
    "scrolled": true
   },
   "outputs": [
    {
     "data": {
      "text/html": [
       "<div>\n",
       "<style scoped>\n",
       "    .dataframe tbody tr th:only-of-type {\n",
       "        vertical-align: middle;\n",
       "    }\n",
       "\n",
       "    .dataframe tbody tr th {\n",
       "        vertical-align: top;\n",
       "    }\n",
       "\n",
       "    .dataframe thead th {\n",
       "        text-align: right;\n",
       "    }\n",
       "</style>\n",
       "<table border=\"1\" class=\"dataframe\">\n",
       "  <thead>\n",
       "    <tr style=\"text-align: right;\">\n",
       "      <th></th>\n",
       "      <th>customerID</th>\n",
       "      <th>BeginDate</th>\n",
       "      <th>EndDate</th>\n",
       "      <th>Type</th>\n",
       "      <th>PaperlessBilling</th>\n",
       "      <th>PaymentMethod</th>\n",
       "      <th>MonthlyCharges</th>\n",
       "      <th>TotalCharges</th>\n",
       "      <th>gender</th>\n",
       "      <th>SeniorCitizen</th>\n",
       "      <th>...</th>\n",
       "      <th>Dependents</th>\n",
       "      <th>InternetService</th>\n",
       "      <th>OnlineSecurity</th>\n",
       "      <th>OnlineBackup</th>\n",
       "      <th>DeviceProtection</th>\n",
       "      <th>TechSupport</th>\n",
       "      <th>StreamingTV</th>\n",
       "      <th>StreamingMovies</th>\n",
       "      <th>MultipleLines</th>\n",
       "      <th>days</th>\n",
       "    </tr>\n",
       "  </thead>\n",
       "  <tbody>\n",
       "    <tr>\n",
       "      <th>4412</th>\n",
       "      <td>8042-RNLKO</td>\n",
       "      <td>2014-08-01</td>\n",
       "      <td>0</td>\n",
       "      <td>One year</td>\n",
       "      <td>No</td>\n",
       "      <td>Bank transfer (automatic)</td>\n",
       "      <td>25.45</td>\n",
       "      <td>1679.7</td>\n",
       "      <td>Male</td>\n",
       "      <td>0</td>\n",
       "      <td>...</td>\n",
       "      <td>No</td>\n",
       "      <td>NaN</td>\n",
       "      <td>NaN</td>\n",
       "      <td>NaN</td>\n",
       "      <td>NaN</td>\n",
       "      <td>NaN</td>\n",
       "      <td>NaN</td>\n",
       "      <td>NaN</td>\n",
       "      <td>Yes</td>\n",
       "      <td>2010</td>\n",
       "    </tr>\n",
       "    <tr>\n",
       "      <th>4089</th>\n",
       "      <td>4282-YMKNA</td>\n",
       "      <td>2019-03-01</td>\n",
       "      <td>0</td>\n",
       "      <td>Month-to-month</td>\n",
       "      <td>Yes</td>\n",
       "      <td>Electronic check</td>\n",
       "      <td>74.75</td>\n",
       "      <td>822.25</td>\n",
       "      <td>Female</td>\n",
       "      <td>0</td>\n",
       "      <td>...</td>\n",
       "      <td>No</td>\n",
       "      <td>Fiber optic</td>\n",
       "      <td>No</td>\n",
       "      <td>No</td>\n",
       "      <td>No</td>\n",
       "      <td>No</td>\n",
       "      <td>No</td>\n",
       "      <td>No</td>\n",
       "      <td>Yes</td>\n",
       "      <td>337</td>\n",
       "    </tr>\n",
       "    <tr>\n",
       "      <th>6800</th>\n",
       "      <td>1113-IUJYX</td>\n",
       "      <td>2018-08-01</td>\n",
       "      <td>0</td>\n",
       "      <td>One year</td>\n",
       "      <td>No</td>\n",
       "      <td>Mailed check</td>\n",
       "      <td>105.95</td>\n",
       "      <td>1964.31</td>\n",
       "      <td>Female</td>\n",
       "      <td>0</td>\n",
       "      <td>...</td>\n",
       "      <td>No</td>\n",
       "      <td>Fiber optic</td>\n",
       "      <td>Yes</td>\n",
       "      <td>Yes</td>\n",
       "      <td>No</td>\n",
       "      <td>Yes</td>\n",
       "      <td>Yes</td>\n",
       "      <td>Yes</td>\n",
       "      <td>No</td>\n",
       "      <td>549</td>\n",
       "    </tr>\n",
       "  </tbody>\n",
       "</table>\n",
       "<p>3 rows × 21 columns</p>\n",
       "</div>"
      ],
      "text/plain": [
       "      customerID   BeginDate EndDate            Type PaperlessBilling  \\\n",
       "4412  8042-RNLKO  2014-08-01       0        One year               No   \n",
       "4089  4282-YMKNA  2019-03-01       0  Month-to-month              Yes   \n",
       "6800  1113-IUJYX  2018-08-01       0        One year               No   \n",
       "\n",
       "                  PaymentMethod  MonthlyCharges TotalCharges  gender  \\\n",
       "4412  Bank transfer (automatic)           25.45       1679.7    Male   \n",
       "4089           Electronic check           74.75       822.25  Female   \n",
       "6800               Mailed check          105.95      1964.31  Female   \n",
       "\n",
       "      SeniorCitizen  ... Dependents InternetService OnlineSecurity  \\\n",
       "4412              0  ...         No             NaN            NaN   \n",
       "4089              0  ...         No     Fiber optic             No   \n",
       "6800              0  ...         No     Fiber optic            Yes   \n",
       "\n",
       "     OnlineBackup DeviceProtection TechSupport StreamingTV StreamingMovies  \\\n",
       "4412          NaN              NaN         NaN         NaN             NaN   \n",
       "4089           No               No          No          No              No   \n",
       "6800          Yes               No         Yes         Yes             Yes   \n",
       "\n",
       "     MultipleLines  days  \n",
       "4412           Yes  2010  \n",
       "4089           Yes   337  \n",
       "6800            No   549  \n",
       "\n",
       "[3 rows x 21 columns]"
      ]
     },
     "execution_count": 26,
     "metadata": {},
     "output_type": "execute_result"
    }
   ],
   "source": [
    "data = (data_contract.merge(data_personal, how='left', on='customerID')\n",
    "        .merge(data_internet, how='left', on='customerID')\n",
    "        .merge(data_phone, how='left', on='customerID')\n",
    "        .merge(dates[['customerID', 'days']], how='left', on='customerID'))\n",
    "data.sample(3, random_state=RS)"
   ]
  },
  {
   "cell_type": "markdown",
   "id": "cfd7ace5",
   "metadata": {},
   "source": [
    "#### Обработка названий столбцов и пропусков"
   ]
  },
  {
   "cell_type": "markdown",
   "id": "41c3b0b5",
   "metadata": {},
   "source": [
    "Приведём названия всех столбцов к lower_snake_case."
   ]
  },
  {
   "cell_type": "code",
   "execution_count": 27,
   "id": "8358184c",
   "metadata": {},
   "outputs": [],
   "source": [
    "data.rename({'customerID': 'customer_id',\n",
    "             'BeginDate': 'begin_date',\n",
    "             'EndDate': 'churn', # целевой признак\n",
    "             'Type': 'type',\n",
    "             'PaperlessBilling': 'paperless_billing',\n",
    "             'PaymentMethod': 'payment_method',\n",
    "             'MonthlyCharges': 'monthly_charges',\n",
    "             'TotalCharges': 'total_charges',\n",
    "             'SeniorCitizen': 'senior_citizen',\n",
    "             'Partner': 'partner',\n",
    "             'Dependents': 'dependents',\n",
    "             'InternetService': 'internet_service',\n",
    "             'OnlineSecurity': 'online_security',\n",
    "             'OnlineBackup': 'online_backup',\n",
    "             'DeviceProtection': 'device_protection',\n",
    "             'TechSupport': 'tech_support',\n",
    "             'StreamingTV': 'streaming_tv',\n",
    "             'StreamingMovies': 'streaming_movies',\n",
    "             'MultipleLines': 'multiple_lines'}, inplace=True, axis=1)"
   ]
  },
  {
   "cell_type": "markdown",
   "id": "e5faac75",
   "metadata": {},
   "source": [
    "<div class=\"alert alert-success\">\n",
    "<h2> Комментарий тимлида <a class=\"tocSkip\"> </h2>\n",
    "\n",
    "<b>Все отлично!👍:</b>\n",
    "\n",
    "хорошо, кстати есть неплохая библиотека для выполнения  рутинных операций в пандасе - https://pypi.org/project/skimpy/. Там же есть функция clean_column() котороая в одно действие выполняет приведение названий колонок к соответствующему виду.\n",
    "       \n",
    "Рекомендую ознакомиться."
   ]
  },
  {
   "cell_type": "code",
   "execution_count": 28,
   "id": "0364d5ce",
   "metadata": {},
   "outputs": [
    {
     "data": {
      "text/plain": [
       "Index(['customer_id', 'begin_date', 'churn', 'type', 'paperless_billing',\n",
       "       'payment_method', 'monthly_charges', 'total_charges', 'gender',\n",
       "       'senior_citizen', 'partner', 'dependents', 'internet_service',\n",
       "       'online_security', 'online_backup', 'device_protection', 'tech_support',\n",
       "       'streaming_tv', 'streaming_movies', 'multiple_lines', 'days'],\n",
       "      dtype='object')"
      ]
     },
     "execution_count": 28,
     "metadata": {},
     "output_type": "execute_result"
    }
   ],
   "source": [
    "data.columns"
   ]
  },
  {
   "cell_type": "markdown",
   "id": "eedd34e1",
   "metadata": {},
   "source": [
    "Столбцы переименованы корректно."
   ]
  },
  {
   "cell_type": "markdown",
   "id": "b95a0537",
   "metadata": {},
   "source": [
    "Выведем информацию о пропусках в датафрейме после объединения."
   ]
  },
  {
   "cell_type": "code",
   "execution_count": 29,
   "id": "7c49722d",
   "metadata": {},
   "outputs": [
    {
     "data": {
      "text/plain": [
       "customer_id             0\n",
       "begin_date              0\n",
       "churn                   0\n",
       "type                    0\n",
       "paperless_billing       0\n",
       "payment_method          0\n",
       "monthly_charges         0\n",
       "total_charges           0\n",
       "gender                  0\n",
       "senior_citizen          0\n",
       "partner                 0\n",
       "dependents              0\n",
       "internet_service     1526\n",
       "online_security      1526\n",
       "online_backup        1526\n",
       "device_protection    1526\n",
       "tech_support         1526\n",
       "streaming_tv         1526\n",
       "streaming_movies     1526\n",
       "multiple_lines        682\n",
       "days                    0\n",
       "dtype: int64"
      ]
     },
     "execution_count": 29,
     "metadata": {},
     "output_type": "execute_result"
    }
   ],
   "source": [
    "data.isna().sum()"
   ]
  },
  {
   "cell_type": "markdown",
   "id": "ff1df4d0",
   "metadata": {},
   "source": [
    "Так как пропуски есть только в категориальных столбцах, заполним их заглушками."
   ]
  },
  {
   "cell_type": "code",
   "execution_count": 30,
   "id": "d7864007",
   "metadata": {},
   "outputs": [
    {
     "data": {
      "text/plain": [
       "0"
      ]
     },
     "execution_count": 30,
     "metadata": {},
     "output_type": "execute_result"
    }
   ],
   "source": [
    "# пропуски в столбцах 'internet_service' и 'multiple_lines' можно заполнить значением 'Not used', \n",
    "# т.к. пропуски в этих столбцах означают отсутствие договора по интернету\\мобильной связи у клиента\n",
    "data[['internet_service', 'multiple_lines']] = data[['internet_service', 'multiple_lines']].fillna('Not used')\n",
    "# в остальных столбцах данные по услугам, их можно заполнить значением 'No'\n",
    "data.fillna('No', inplace=True)\n",
    "data.isna().sum().sum()"
   ]
  },
  {
   "cell_type": "markdown",
   "id": "ca7b0545",
   "metadata": {},
   "source": [
    "Во время первичного анализа в столбце `'total_charges'` были обнаружены некорректные строковые значения. Обработаем их."
   ]
  },
  {
   "cell_type": "code",
   "execution_count": 31,
   "id": "68faa539",
   "metadata": {
    "scrolled": true
   },
   "outputs": [
    {
     "data": {
      "text/html": [
       "<div>\n",
       "<style scoped>\n",
       "    .dataframe tbody tr th:only-of-type {\n",
       "        vertical-align: middle;\n",
       "    }\n",
       "\n",
       "    .dataframe tbody tr th {\n",
       "        vertical-align: top;\n",
       "    }\n",
       "\n",
       "    .dataframe thead th {\n",
       "        text-align: right;\n",
       "    }\n",
       "</style>\n",
       "<table border=\"1\" class=\"dataframe\">\n",
       "  <thead>\n",
       "    <tr style=\"text-align: right;\">\n",
       "      <th></th>\n",
       "      <th>customer_id</th>\n",
       "      <th>begin_date</th>\n",
       "      <th>churn</th>\n",
       "      <th>type</th>\n",
       "      <th>paperless_billing</th>\n",
       "      <th>payment_method</th>\n",
       "      <th>monthly_charges</th>\n",
       "      <th>total_charges</th>\n",
       "      <th>gender</th>\n",
       "      <th>senior_citizen</th>\n",
       "      <th>...</th>\n",
       "      <th>dependents</th>\n",
       "      <th>internet_service</th>\n",
       "      <th>online_security</th>\n",
       "      <th>online_backup</th>\n",
       "      <th>device_protection</th>\n",
       "      <th>tech_support</th>\n",
       "      <th>streaming_tv</th>\n",
       "      <th>streaming_movies</th>\n",
       "      <th>multiple_lines</th>\n",
       "      <th>days</th>\n",
       "    </tr>\n",
       "  </thead>\n",
       "  <tbody>\n",
       "    <tr>\n",
       "      <th>488</th>\n",
       "      <td>4472-LVYGI</td>\n",
       "      <td>2020-02-01</td>\n",
       "      <td>0</td>\n",
       "      <td>Two year</td>\n",
       "      <td>Yes</td>\n",
       "      <td>Bank transfer (automatic)</td>\n",
       "      <td>52.55</td>\n",
       "      <td></td>\n",
       "      <td>Female</td>\n",
       "      <td>0</td>\n",
       "      <td>...</td>\n",
       "      <td>Yes</td>\n",
       "      <td>DSL</td>\n",
       "      <td>Yes</td>\n",
       "      <td>No</td>\n",
       "      <td>Yes</td>\n",
       "      <td>Yes</td>\n",
       "      <td>Yes</td>\n",
       "      <td>No</td>\n",
       "      <td>Not used</td>\n",
       "      <td>0</td>\n",
       "    </tr>\n",
       "    <tr>\n",
       "      <th>753</th>\n",
       "      <td>3115-CZMZD</td>\n",
       "      <td>2020-02-01</td>\n",
       "      <td>0</td>\n",
       "      <td>Two year</td>\n",
       "      <td>No</td>\n",
       "      <td>Mailed check</td>\n",
       "      <td>20.25</td>\n",
       "      <td></td>\n",
       "      <td>Male</td>\n",
       "      <td>0</td>\n",
       "      <td>...</td>\n",
       "      <td>Yes</td>\n",
       "      <td>Not used</td>\n",
       "      <td>No</td>\n",
       "      <td>No</td>\n",
       "      <td>No</td>\n",
       "      <td>No</td>\n",
       "      <td>No</td>\n",
       "      <td>No</td>\n",
       "      <td>No</td>\n",
       "      <td>0</td>\n",
       "    </tr>\n",
       "    <tr>\n",
       "      <th>936</th>\n",
       "      <td>5709-LVOEQ</td>\n",
       "      <td>2020-02-01</td>\n",
       "      <td>0</td>\n",
       "      <td>Two year</td>\n",
       "      <td>No</td>\n",
       "      <td>Mailed check</td>\n",
       "      <td>80.85</td>\n",
       "      <td></td>\n",
       "      <td>Female</td>\n",
       "      <td>0</td>\n",
       "      <td>...</td>\n",
       "      <td>Yes</td>\n",
       "      <td>DSL</td>\n",
       "      <td>Yes</td>\n",
       "      <td>Yes</td>\n",
       "      <td>Yes</td>\n",
       "      <td>No</td>\n",
       "      <td>Yes</td>\n",
       "      <td>Yes</td>\n",
       "      <td>No</td>\n",
       "      <td>0</td>\n",
       "    </tr>\n",
       "    <tr>\n",
       "      <th>1082</th>\n",
       "      <td>4367-NUYAO</td>\n",
       "      <td>2020-02-01</td>\n",
       "      <td>0</td>\n",
       "      <td>Two year</td>\n",
       "      <td>No</td>\n",
       "      <td>Mailed check</td>\n",
       "      <td>25.75</td>\n",
       "      <td></td>\n",
       "      <td>Male</td>\n",
       "      <td>0</td>\n",
       "      <td>...</td>\n",
       "      <td>Yes</td>\n",
       "      <td>Not used</td>\n",
       "      <td>No</td>\n",
       "      <td>No</td>\n",
       "      <td>No</td>\n",
       "      <td>No</td>\n",
       "      <td>No</td>\n",
       "      <td>No</td>\n",
       "      <td>Yes</td>\n",
       "      <td>0</td>\n",
       "    </tr>\n",
       "    <tr>\n",
       "      <th>1340</th>\n",
       "      <td>1371-DWPAZ</td>\n",
       "      <td>2020-02-01</td>\n",
       "      <td>0</td>\n",
       "      <td>Two year</td>\n",
       "      <td>No</td>\n",
       "      <td>Credit card (automatic)</td>\n",
       "      <td>56.05</td>\n",
       "      <td></td>\n",
       "      <td>Female</td>\n",
       "      <td>0</td>\n",
       "      <td>...</td>\n",
       "      <td>Yes</td>\n",
       "      <td>DSL</td>\n",
       "      <td>Yes</td>\n",
       "      <td>Yes</td>\n",
       "      <td>Yes</td>\n",
       "      <td>Yes</td>\n",
       "      <td>Yes</td>\n",
       "      <td>No</td>\n",
       "      <td>Not used</td>\n",
       "      <td>0</td>\n",
       "    </tr>\n",
       "    <tr>\n",
       "      <th>3331</th>\n",
       "      <td>7644-OMVMY</td>\n",
       "      <td>2020-02-01</td>\n",
       "      <td>0</td>\n",
       "      <td>Two year</td>\n",
       "      <td>No</td>\n",
       "      <td>Mailed check</td>\n",
       "      <td>19.85</td>\n",
       "      <td></td>\n",
       "      <td>Male</td>\n",
       "      <td>0</td>\n",
       "      <td>...</td>\n",
       "      <td>Yes</td>\n",
       "      <td>Not used</td>\n",
       "      <td>No</td>\n",
       "      <td>No</td>\n",
       "      <td>No</td>\n",
       "      <td>No</td>\n",
       "      <td>No</td>\n",
       "      <td>No</td>\n",
       "      <td>No</td>\n",
       "      <td>0</td>\n",
       "    </tr>\n",
       "    <tr>\n",
       "      <th>3826</th>\n",
       "      <td>3213-VVOLG</td>\n",
       "      <td>2020-02-01</td>\n",
       "      <td>0</td>\n",
       "      <td>Two year</td>\n",
       "      <td>No</td>\n",
       "      <td>Mailed check</td>\n",
       "      <td>25.35</td>\n",
       "      <td></td>\n",
       "      <td>Male</td>\n",
       "      <td>0</td>\n",
       "      <td>...</td>\n",
       "      <td>Yes</td>\n",
       "      <td>Not used</td>\n",
       "      <td>No</td>\n",
       "      <td>No</td>\n",
       "      <td>No</td>\n",
       "      <td>No</td>\n",
       "      <td>No</td>\n",
       "      <td>No</td>\n",
       "      <td>Yes</td>\n",
       "      <td>0</td>\n",
       "    </tr>\n",
       "    <tr>\n",
       "      <th>4380</th>\n",
       "      <td>2520-SGTTA</td>\n",
       "      <td>2020-02-01</td>\n",
       "      <td>0</td>\n",
       "      <td>Two year</td>\n",
       "      <td>No</td>\n",
       "      <td>Mailed check</td>\n",
       "      <td>20.00</td>\n",
       "      <td></td>\n",
       "      <td>Female</td>\n",
       "      <td>0</td>\n",
       "      <td>...</td>\n",
       "      <td>Yes</td>\n",
       "      <td>Not used</td>\n",
       "      <td>No</td>\n",
       "      <td>No</td>\n",
       "      <td>No</td>\n",
       "      <td>No</td>\n",
       "      <td>No</td>\n",
       "      <td>No</td>\n",
       "      <td>No</td>\n",
       "      <td>0</td>\n",
       "    </tr>\n",
       "    <tr>\n",
       "      <th>5218</th>\n",
       "      <td>2923-ARZLG</td>\n",
       "      <td>2020-02-01</td>\n",
       "      <td>0</td>\n",
       "      <td>One year</td>\n",
       "      <td>Yes</td>\n",
       "      <td>Mailed check</td>\n",
       "      <td>19.70</td>\n",
       "      <td></td>\n",
       "      <td>Male</td>\n",
       "      <td>0</td>\n",
       "      <td>...</td>\n",
       "      <td>Yes</td>\n",
       "      <td>Not used</td>\n",
       "      <td>No</td>\n",
       "      <td>No</td>\n",
       "      <td>No</td>\n",
       "      <td>No</td>\n",
       "      <td>No</td>\n",
       "      <td>No</td>\n",
       "      <td>No</td>\n",
       "      <td>0</td>\n",
       "    </tr>\n",
       "    <tr>\n",
       "      <th>6670</th>\n",
       "      <td>4075-WKNIU</td>\n",
       "      <td>2020-02-01</td>\n",
       "      <td>0</td>\n",
       "      <td>Two year</td>\n",
       "      <td>No</td>\n",
       "      <td>Mailed check</td>\n",
       "      <td>73.35</td>\n",
       "      <td></td>\n",
       "      <td>Female</td>\n",
       "      <td>0</td>\n",
       "      <td>...</td>\n",
       "      <td>Yes</td>\n",
       "      <td>DSL</td>\n",
       "      <td>No</td>\n",
       "      <td>Yes</td>\n",
       "      <td>Yes</td>\n",
       "      <td>Yes</td>\n",
       "      <td>Yes</td>\n",
       "      <td>No</td>\n",
       "      <td>Yes</td>\n",
       "      <td>0</td>\n",
       "    </tr>\n",
       "    <tr>\n",
       "      <th>6754</th>\n",
       "      <td>2775-SEFEE</td>\n",
       "      <td>2020-02-01</td>\n",
       "      <td>0</td>\n",
       "      <td>Two year</td>\n",
       "      <td>Yes</td>\n",
       "      <td>Bank transfer (automatic)</td>\n",
       "      <td>61.90</td>\n",
       "      <td></td>\n",
       "      <td>Male</td>\n",
       "      <td>0</td>\n",
       "      <td>...</td>\n",
       "      <td>Yes</td>\n",
       "      <td>DSL</td>\n",
       "      <td>Yes</td>\n",
       "      <td>Yes</td>\n",
       "      <td>No</td>\n",
       "      <td>Yes</td>\n",
       "      <td>No</td>\n",
       "      <td>No</td>\n",
       "      <td>Yes</td>\n",
       "      <td>0</td>\n",
       "    </tr>\n",
       "  </tbody>\n",
       "</table>\n",
       "<p>11 rows × 21 columns</p>\n",
       "</div>"
      ],
      "text/plain": [
       "     customer_id  begin_date  churn      type paperless_billing  \\\n",
       "488   4472-LVYGI  2020-02-01      0  Two year               Yes   \n",
       "753   3115-CZMZD  2020-02-01      0  Two year                No   \n",
       "936   5709-LVOEQ  2020-02-01      0  Two year                No   \n",
       "1082  4367-NUYAO  2020-02-01      0  Two year                No   \n",
       "1340  1371-DWPAZ  2020-02-01      0  Two year                No   \n",
       "3331  7644-OMVMY  2020-02-01      0  Two year                No   \n",
       "3826  3213-VVOLG  2020-02-01      0  Two year                No   \n",
       "4380  2520-SGTTA  2020-02-01      0  Two year                No   \n",
       "5218  2923-ARZLG  2020-02-01      0  One year               Yes   \n",
       "6670  4075-WKNIU  2020-02-01      0  Two year                No   \n",
       "6754  2775-SEFEE  2020-02-01      0  Two year               Yes   \n",
       "\n",
       "                 payment_method  monthly_charges total_charges  gender  \\\n",
       "488   Bank transfer (automatic)            52.55                Female   \n",
       "753                Mailed check            20.25                  Male   \n",
       "936                Mailed check            80.85                Female   \n",
       "1082               Mailed check            25.75                  Male   \n",
       "1340    Credit card (automatic)            56.05                Female   \n",
       "3331               Mailed check            19.85                  Male   \n",
       "3826               Mailed check            25.35                  Male   \n",
       "4380               Mailed check            20.00                Female   \n",
       "5218               Mailed check            19.70                  Male   \n",
       "6670               Mailed check            73.35                Female   \n",
       "6754  Bank transfer (automatic)            61.90                  Male   \n",
       "\n",
       "      senior_citizen  ... dependents internet_service online_security  \\\n",
       "488                0  ...        Yes              DSL             Yes   \n",
       "753                0  ...        Yes         Not used              No   \n",
       "936                0  ...        Yes              DSL             Yes   \n",
       "1082               0  ...        Yes         Not used              No   \n",
       "1340               0  ...        Yes              DSL             Yes   \n",
       "3331               0  ...        Yes         Not used              No   \n",
       "3826               0  ...        Yes         Not used              No   \n",
       "4380               0  ...        Yes         Not used              No   \n",
       "5218               0  ...        Yes         Not used              No   \n",
       "6670               0  ...        Yes              DSL              No   \n",
       "6754               0  ...        Yes              DSL             Yes   \n",
       "\n",
       "     online_backup device_protection tech_support streaming_tv  \\\n",
       "488             No               Yes          Yes          Yes   \n",
       "753             No                No           No           No   \n",
       "936            Yes               Yes           No          Yes   \n",
       "1082            No                No           No           No   \n",
       "1340           Yes               Yes          Yes          Yes   \n",
       "3331            No                No           No           No   \n",
       "3826            No                No           No           No   \n",
       "4380            No                No           No           No   \n",
       "5218            No                No           No           No   \n",
       "6670           Yes               Yes          Yes          Yes   \n",
       "6754           Yes                No          Yes           No   \n",
       "\n",
       "     streaming_movies multiple_lines days  \n",
       "488                No       Not used    0  \n",
       "753                No             No    0  \n",
       "936               Yes             No    0  \n",
       "1082               No            Yes    0  \n",
       "1340               No       Not used    0  \n",
       "3331               No             No    0  \n",
       "3826               No            Yes    0  \n",
       "4380               No             No    0  \n",
       "5218               No             No    0  \n",
       "6670               No            Yes    0  \n",
       "6754               No            Yes    0  \n",
       "\n",
       "[11 rows x 21 columns]"
      ]
     },
     "execution_count": 31,
     "metadata": {},
     "output_type": "execute_result"
    }
   ],
   "source": [
    "# посмотрим на клиентов, у которых имеется пустая строка в столбце 'total_charges'\n",
    "# сохраним индексы в переменную, чтобы проверить корректность заполнения\n",
    "indexes = data.loc[data['total_charges'] == ' '].index\n",
    "data.loc[indexes]"
   ]
  },
  {
   "cell_type": "markdown",
   "id": "f6fc043b",
   "metadata": {},
   "source": [
    "У всех клиентов с пропущенным значением в столбце `'total_charges'` договор подписан в дату выгрузки данных, следовательно это новые клиенты. По условиям задачи, при подписании договора на 1 или 2 года, клиент оплачивает всю сумму сразу. Следовательно мы можем заполнить пропущенное значение в столбце значением из столбца `'monthly_charges'`, умноженным на 12 или 24 (кол-во месяцев по договору)."
   ]
  },
  {
   "cell_type": "code",
   "execution_count": 32,
   "id": "fe8a72ee",
   "metadata": {
    "scrolled": true
   },
   "outputs": [
    {
     "data": {
      "text/html": [
       "<div>\n",
       "<style scoped>\n",
       "    .dataframe tbody tr th:only-of-type {\n",
       "        vertical-align: middle;\n",
       "    }\n",
       "\n",
       "    .dataframe tbody tr th {\n",
       "        vertical-align: top;\n",
       "    }\n",
       "\n",
       "    .dataframe thead th {\n",
       "        text-align: right;\n",
       "    }\n",
       "</style>\n",
       "<table border=\"1\" class=\"dataframe\">\n",
       "  <thead>\n",
       "    <tr style=\"text-align: right;\">\n",
       "      <th></th>\n",
       "      <th>customer_id</th>\n",
       "      <th>begin_date</th>\n",
       "      <th>churn</th>\n",
       "      <th>type</th>\n",
       "      <th>paperless_billing</th>\n",
       "      <th>payment_method</th>\n",
       "      <th>monthly_charges</th>\n",
       "      <th>total_charges</th>\n",
       "      <th>gender</th>\n",
       "      <th>senior_citizen</th>\n",
       "      <th>...</th>\n",
       "      <th>dependents</th>\n",
       "      <th>internet_service</th>\n",
       "      <th>online_security</th>\n",
       "      <th>online_backup</th>\n",
       "      <th>device_protection</th>\n",
       "      <th>tech_support</th>\n",
       "      <th>streaming_tv</th>\n",
       "      <th>streaming_movies</th>\n",
       "      <th>multiple_lines</th>\n",
       "      <th>days</th>\n",
       "    </tr>\n",
       "  </thead>\n",
       "  <tbody>\n",
       "    <tr>\n",
       "      <th>488</th>\n",
       "      <td>4472-LVYGI</td>\n",
       "      <td>2020-02-01</td>\n",
       "      <td>0</td>\n",
       "      <td>Two year</td>\n",
       "      <td>Yes</td>\n",
       "      <td>Bank transfer (automatic)</td>\n",
       "      <td>52.55</td>\n",
       "      <td>1261.2</td>\n",
       "      <td>Female</td>\n",
       "      <td>0</td>\n",
       "      <td>...</td>\n",
       "      <td>Yes</td>\n",
       "      <td>DSL</td>\n",
       "      <td>Yes</td>\n",
       "      <td>No</td>\n",
       "      <td>Yes</td>\n",
       "      <td>Yes</td>\n",
       "      <td>Yes</td>\n",
       "      <td>No</td>\n",
       "      <td>Not used</td>\n",
       "      <td>0</td>\n",
       "    </tr>\n",
       "    <tr>\n",
       "      <th>753</th>\n",
       "      <td>3115-CZMZD</td>\n",
       "      <td>2020-02-01</td>\n",
       "      <td>0</td>\n",
       "      <td>Two year</td>\n",
       "      <td>No</td>\n",
       "      <td>Mailed check</td>\n",
       "      <td>20.25</td>\n",
       "      <td>486.0</td>\n",
       "      <td>Male</td>\n",
       "      <td>0</td>\n",
       "      <td>...</td>\n",
       "      <td>Yes</td>\n",
       "      <td>Not used</td>\n",
       "      <td>No</td>\n",
       "      <td>No</td>\n",
       "      <td>No</td>\n",
       "      <td>No</td>\n",
       "      <td>No</td>\n",
       "      <td>No</td>\n",
       "      <td>No</td>\n",
       "      <td>0</td>\n",
       "    </tr>\n",
       "    <tr>\n",
       "      <th>936</th>\n",
       "      <td>5709-LVOEQ</td>\n",
       "      <td>2020-02-01</td>\n",
       "      <td>0</td>\n",
       "      <td>Two year</td>\n",
       "      <td>No</td>\n",
       "      <td>Mailed check</td>\n",
       "      <td>80.85</td>\n",
       "      <td>1940.4</td>\n",
       "      <td>Female</td>\n",
       "      <td>0</td>\n",
       "      <td>...</td>\n",
       "      <td>Yes</td>\n",
       "      <td>DSL</td>\n",
       "      <td>Yes</td>\n",
       "      <td>Yes</td>\n",
       "      <td>Yes</td>\n",
       "      <td>No</td>\n",
       "      <td>Yes</td>\n",
       "      <td>Yes</td>\n",
       "      <td>No</td>\n",
       "      <td>0</td>\n",
       "    </tr>\n",
       "    <tr>\n",
       "      <th>1082</th>\n",
       "      <td>4367-NUYAO</td>\n",
       "      <td>2020-02-01</td>\n",
       "      <td>0</td>\n",
       "      <td>Two year</td>\n",
       "      <td>No</td>\n",
       "      <td>Mailed check</td>\n",
       "      <td>25.75</td>\n",
       "      <td>618.0</td>\n",
       "      <td>Male</td>\n",
       "      <td>0</td>\n",
       "      <td>...</td>\n",
       "      <td>Yes</td>\n",
       "      <td>Not used</td>\n",
       "      <td>No</td>\n",
       "      <td>No</td>\n",
       "      <td>No</td>\n",
       "      <td>No</td>\n",
       "      <td>No</td>\n",
       "      <td>No</td>\n",
       "      <td>Yes</td>\n",
       "      <td>0</td>\n",
       "    </tr>\n",
       "    <tr>\n",
       "      <th>1340</th>\n",
       "      <td>1371-DWPAZ</td>\n",
       "      <td>2020-02-01</td>\n",
       "      <td>0</td>\n",
       "      <td>Two year</td>\n",
       "      <td>No</td>\n",
       "      <td>Credit card (automatic)</td>\n",
       "      <td>56.05</td>\n",
       "      <td>1345.2</td>\n",
       "      <td>Female</td>\n",
       "      <td>0</td>\n",
       "      <td>...</td>\n",
       "      <td>Yes</td>\n",
       "      <td>DSL</td>\n",
       "      <td>Yes</td>\n",
       "      <td>Yes</td>\n",
       "      <td>Yes</td>\n",
       "      <td>Yes</td>\n",
       "      <td>Yes</td>\n",
       "      <td>No</td>\n",
       "      <td>Not used</td>\n",
       "      <td>0</td>\n",
       "    </tr>\n",
       "    <tr>\n",
       "      <th>3331</th>\n",
       "      <td>7644-OMVMY</td>\n",
       "      <td>2020-02-01</td>\n",
       "      <td>0</td>\n",
       "      <td>Two year</td>\n",
       "      <td>No</td>\n",
       "      <td>Mailed check</td>\n",
       "      <td>19.85</td>\n",
       "      <td>476.4</td>\n",
       "      <td>Male</td>\n",
       "      <td>0</td>\n",
       "      <td>...</td>\n",
       "      <td>Yes</td>\n",
       "      <td>Not used</td>\n",
       "      <td>No</td>\n",
       "      <td>No</td>\n",
       "      <td>No</td>\n",
       "      <td>No</td>\n",
       "      <td>No</td>\n",
       "      <td>No</td>\n",
       "      <td>No</td>\n",
       "      <td>0</td>\n",
       "    </tr>\n",
       "    <tr>\n",
       "      <th>3826</th>\n",
       "      <td>3213-VVOLG</td>\n",
       "      <td>2020-02-01</td>\n",
       "      <td>0</td>\n",
       "      <td>Two year</td>\n",
       "      <td>No</td>\n",
       "      <td>Mailed check</td>\n",
       "      <td>25.35</td>\n",
       "      <td>608.4</td>\n",
       "      <td>Male</td>\n",
       "      <td>0</td>\n",
       "      <td>...</td>\n",
       "      <td>Yes</td>\n",
       "      <td>Not used</td>\n",
       "      <td>No</td>\n",
       "      <td>No</td>\n",
       "      <td>No</td>\n",
       "      <td>No</td>\n",
       "      <td>No</td>\n",
       "      <td>No</td>\n",
       "      <td>Yes</td>\n",
       "      <td>0</td>\n",
       "    </tr>\n",
       "    <tr>\n",
       "      <th>4380</th>\n",
       "      <td>2520-SGTTA</td>\n",
       "      <td>2020-02-01</td>\n",
       "      <td>0</td>\n",
       "      <td>Two year</td>\n",
       "      <td>No</td>\n",
       "      <td>Mailed check</td>\n",
       "      <td>20.00</td>\n",
       "      <td>480.0</td>\n",
       "      <td>Female</td>\n",
       "      <td>0</td>\n",
       "      <td>...</td>\n",
       "      <td>Yes</td>\n",
       "      <td>Not used</td>\n",
       "      <td>No</td>\n",
       "      <td>No</td>\n",
       "      <td>No</td>\n",
       "      <td>No</td>\n",
       "      <td>No</td>\n",
       "      <td>No</td>\n",
       "      <td>No</td>\n",
       "      <td>0</td>\n",
       "    </tr>\n",
       "    <tr>\n",
       "      <th>5218</th>\n",
       "      <td>2923-ARZLG</td>\n",
       "      <td>2020-02-01</td>\n",
       "      <td>0</td>\n",
       "      <td>One year</td>\n",
       "      <td>Yes</td>\n",
       "      <td>Mailed check</td>\n",
       "      <td>19.70</td>\n",
       "      <td>236.4</td>\n",
       "      <td>Male</td>\n",
       "      <td>0</td>\n",
       "      <td>...</td>\n",
       "      <td>Yes</td>\n",
       "      <td>Not used</td>\n",
       "      <td>No</td>\n",
       "      <td>No</td>\n",
       "      <td>No</td>\n",
       "      <td>No</td>\n",
       "      <td>No</td>\n",
       "      <td>No</td>\n",
       "      <td>No</td>\n",
       "      <td>0</td>\n",
       "    </tr>\n",
       "    <tr>\n",
       "      <th>6670</th>\n",
       "      <td>4075-WKNIU</td>\n",
       "      <td>2020-02-01</td>\n",
       "      <td>0</td>\n",
       "      <td>Two year</td>\n",
       "      <td>No</td>\n",
       "      <td>Mailed check</td>\n",
       "      <td>73.35</td>\n",
       "      <td>1760.4</td>\n",
       "      <td>Female</td>\n",
       "      <td>0</td>\n",
       "      <td>...</td>\n",
       "      <td>Yes</td>\n",
       "      <td>DSL</td>\n",
       "      <td>No</td>\n",
       "      <td>Yes</td>\n",
       "      <td>Yes</td>\n",
       "      <td>Yes</td>\n",
       "      <td>Yes</td>\n",
       "      <td>No</td>\n",
       "      <td>Yes</td>\n",
       "      <td>0</td>\n",
       "    </tr>\n",
       "    <tr>\n",
       "      <th>6754</th>\n",
       "      <td>2775-SEFEE</td>\n",
       "      <td>2020-02-01</td>\n",
       "      <td>0</td>\n",
       "      <td>Two year</td>\n",
       "      <td>Yes</td>\n",
       "      <td>Bank transfer (automatic)</td>\n",
       "      <td>61.90</td>\n",
       "      <td>1485.6</td>\n",
       "      <td>Male</td>\n",
       "      <td>0</td>\n",
       "      <td>...</td>\n",
       "      <td>Yes</td>\n",
       "      <td>DSL</td>\n",
       "      <td>Yes</td>\n",
       "      <td>Yes</td>\n",
       "      <td>No</td>\n",
       "      <td>Yes</td>\n",
       "      <td>No</td>\n",
       "      <td>No</td>\n",
       "      <td>Yes</td>\n",
       "      <td>0</td>\n",
       "    </tr>\n",
       "  </tbody>\n",
       "</table>\n",
       "<p>11 rows × 21 columns</p>\n",
       "</div>"
      ],
      "text/plain": [
       "     customer_id  begin_date  churn      type paperless_billing  \\\n",
       "488   4472-LVYGI  2020-02-01      0  Two year               Yes   \n",
       "753   3115-CZMZD  2020-02-01      0  Two year                No   \n",
       "936   5709-LVOEQ  2020-02-01      0  Two year                No   \n",
       "1082  4367-NUYAO  2020-02-01      0  Two year                No   \n",
       "1340  1371-DWPAZ  2020-02-01      0  Two year                No   \n",
       "3331  7644-OMVMY  2020-02-01      0  Two year                No   \n",
       "3826  3213-VVOLG  2020-02-01      0  Two year                No   \n",
       "4380  2520-SGTTA  2020-02-01      0  Two year                No   \n",
       "5218  2923-ARZLG  2020-02-01      0  One year               Yes   \n",
       "6670  4075-WKNIU  2020-02-01      0  Two year                No   \n",
       "6754  2775-SEFEE  2020-02-01      0  Two year               Yes   \n",
       "\n",
       "                 payment_method  monthly_charges total_charges  gender  \\\n",
       "488   Bank transfer (automatic)            52.55        1261.2  Female   \n",
       "753                Mailed check            20.25         486.0    Male   \n",
       "936                Mailed check            80.85        1940.4  Female   \n",
       "1082               Mailed check            25.75         618.0    Male   \n",
       "1340    Credit card (automatic)            56.05        1345.2  Female   \n",
       "3331               Mailed check            19.85         476.4    Male   \n",
       "3826               Mailed check            25.35         608.4    Male   \n",
       "4380               Mailed check            20.00         480.0  Female   \n",
       "5218               Mailed check            19.70         236.4    Male   \n",
       "6670               Mailed check            73.35        1760.4  Female   \n",
       "6754  Bank transfer (automatic)            61.90        1485.6    Male   \n",
       "\n",
       "      senior_citizen  ... dependents internet_service online_security  \\\n",
       "488                0  ...        Yes              DSL             Yes   \n",
       "753                0  ...        Yes         Not used              No   \n",
       "936                0  ...        Yes              DSL             Yes   \n",
       "1082               0  ...        Yes         Not used              No   \n",
       "1340               0  ...        Yes              DSL             Yes   \n",
       "3331               0  ...        Yes         Not used              No   \n",
       "3826               0  ...        Yes         Not used              No   \n",
       "4380               0  ...        Yes         Not used              No   \n",
       "5218               0  ...        Yes         Not used              No   \n",
       "6670               0  ...        Yes              DSL              No   \n",
       "6754               0  ...        Yes              DSL             Yes   \n",
       "\n",
       "     online_backup device_protection tech_support streaming_tv  \\\n",
       "488             No               Yes          Yes          Yes   \n",
       "753             No                No           No           No   \n",
       "936            Yes               Yes           No          Yes   \n",
       "1082            No                No           No           No   \n",
       "1340           Yes               Yes          Yes          Yes   \n",
       "3331            No                No           No           No   \n",
       "3826            No                No           No           No   \n",
       "4380            No                No           No           No   \n",
       "5218            No                No           No           No   \n",
       "6670           Yes               Yes          Yes          Yes   \n",
       "6754           Yes                No          Yes           No   \n",
       "\n",
       "     streaming_movies multiple_lines days  \n",
       "488                No       Not used    0  \n",
       "753                No             No    0  \n",
       "936               Yes             No    0  \n",
       "1082               No            Yes    0  \n",
       "1340               No       Not used    0  \n",
       "3331               No             No    0  \n",
       "3826               No            Yes    0  \n",
       "4380               No             No    0  \n",
       "5218               No             No    0  \n",
       "6670               No            Yes    0  \n",
       "6754               No            Yes    0  \n",
       "\n",
       "[11 rows x 21 columns]"
      ]
     },
     "execution_count": 32,
     "metadata": {},
     "output_type": "execute_result"
    }
   ],
   "source": [
    "data.loc[indexes] = data.loc[indexes].apply(fill_charges, axis=1)\n",
    "data.loc[indexes]"
   ]
  },
  {
   "cell_type": "code",
   "execution_count": 33,
   "id": "769eec46",
   "metadata": {},
   "outputs": [
    {
     "data": {
      "text/html": [
       "<div>\n",
       "<style scoped>\n",
       "    .dataframe tbody tr th:only-of-type {\n",
       "        vertical-align: middle;\n",
       "    }\n",
       "\n",
       "    .dataframe tbody tr th {\n",
       "        vertical-align: top;\n",
       "    }\n",
       "\n",
       "    .dataframe thead th {\n",
       "        text-align: right;\n",
       "    }\n",
       "</style>\n",
       "<table border=\"1\" class=\"dataframe\">\n",
       "  <thead>\n",
       "    <tr style=\"text-align: right;\">\n",
       "      <th></th>\n",
       "      <th>churn</th>\n",
       "      <th>type</th>\n",
       "      <th>paperless_billing</th>\n",
       "      <th>payment_method</th>\n",
       "      <th>monthly_charges</th>\n",
       "      <th>total_charges</th>\n",
       "      <th>gender</th>\n",
       "      <th>senior_citizen</th>\n",
       "      <th>partner</th>\n",
       "      <th>dependents</th>\n",
       "      <th>internet_service</th>\n",
       "      <th>online_security</th>\n",
       "      <th>online_backup</th>\n",
       "      <th>device_protection</th>\n",
       "      <th>tech_support</th>\n",
       "      <th>streaming_tv</th>\n",
       "      <th>streaming_movies</th>\n",
       "      <th>multiple_lines</th>\n",
       "      <th>days</th>\n",
       "    </tr>\n",
       "  </thead>\n",
       "  <tbody>\n",
       "    <tr>\n",
       "      <th>4412</th>\n",
       "      <td>0</td>\n",
       "      <td>One year</td>\n",
       "      <td>No</td>\n",
       "      <td>Bank transfer (automatic)</td>\n",
       "      <td>25.45</td>\n",
       "      <td>1679.70</td>\n",
       "      <td>Male</td>\n",
       "      <td>False</td>\n",
       "      <td>No</td>\n",
       "      <td>No</td>\n",
       "      <td>Not used</td>\n",
       "      <td>No</td>\n",
       "      <td>No</td>\n",
       "      <td>No</td>\n",
       "      <td>No</td>\n",
       "      <td>No</td>\n",
       "      <td>No</td>\n",
       "      <td>Yes</td>\n",
       "      <td>2010</td>\n",
       "    </tr>\n",
       "    <tr>\n",
       "      <th>4089</th>\n",
       "      <td>0</td>\n",
       "      <td>Month-to-month</td>\n",
       "      <td>Yes</td>\n",
       "      <td>Electronic check</td>\n",
       "      <td>74.75</td>\n",
       "      <td>822.25</td>\n",
       "      <td>Female</td>\n",
       "      <td>False</td>\n",
       "      <td>No</td>\n",
       "      <td>No</td>\n",
       "      <td>Fiber optic</td>\n",
       "      <td>No</td>\n",
       "      <td>No</td>\n",
       "      <td>No</td>\n",
       "      <td>No</td>\n",
       "      <td>No</td>\n",
       "      <td>No</td>\n",
       "      <td>Yes</td>\n",
       "      <td>337</td>\n",
       "    </tr>\n",
       "    <tr>\n",
       "      <th>6800</th>\n",
       "      <td>0</td>\n",
       "      <td>One year</td>\n",
       "      <td>No</td>\n",
       "      <td>Mailed check</td>\n",
       "      <td>105.95</td>\n",
       "      <td>1964.31</td>\n",
       "      <td>Female</td>\n",
       "      <td>False</td>\n",
       "      <td>Yes</td>\n",
       "      <td>No</td>\n",
       "      <td>Fiber optic</td>\n",
       "      <td>Yes</td>\n",
       "      <td>Yes</td>\n",
       "      <td>No</td>\n",
       "      <td>Yes</td>\n",
       "      <td>Yes</td>\n",
       "      <td>Yes</td>\n",
       "      <td>No</td>\n",
       "      <td>549</td>\n",
       "    </tr>\n",
       "  </tbody>\n",
       "</table>\n",
       "</div>"
      ],
      "text/plain": [
       "      churn            type paperless_billing             payment_method  \\\n",
       "4412      0        One year                No  Bank transfer (automatic)   \n",
       "4089      0  Month-to-month               Yes           Electronic check   \n",
       "6800      0        One year                No               Mailed check   \n",
       "\n",
       "      monthly_charges  total_charges  gender  senior_citizen partner  \\\n",
       "4412            25.45        1679.70    Male           False      No   \n",
       "4089            74.75         822.25  Female           False      No   \n",
       "6800           105.95        1964.31  Female           False     Yes   \n",
       "\n",
       "     dependents internet_service online_security online_backup  \\\n",
       "4412         No         Not used              No            No   \n",
       "4089         No      Fiber optic              No            No   \n",
       "6800         No      Fiber optic             Yes           Yes   \n",
       "\n",
       "     device_protection tech_support streaming_tv streaming_movies  \\\n",
       "4412                No           No           No               No   \n",
       "4089                No           No           No               No   \n",
       "6800                No          Yes          Yes              Yes   \n",
       "\n",
       "     multiple_lines  days  \n",
       "4412            Yes  2010  \n",
       "4089            Yes   337  \n",
       "6800             No   549  "
      ]
     },
     "execution_count": 33,
     "metadata": {},
     "output_type": "execute_result"
    }
   ],
   "source": [
    "# переводим столбцы в корректные типы и удаляем ненужные для обучения модели признаки\n",
    "data['total_charges'] = pd.to_numeric(data['total_charges'])\n",
    "data['senior_citizen'] = data['senior_citizen'].astype('bool')\n",
    "data.drop(['customer_id', 'begin_date'], axis=1, inplace=True)\n",
    "data.sample(3, random_state=RS)"
   ]
  },
  {
   "cell_type": "markdown",
   "id": "e68f0605",
   "metadata": {},
   "source": [
    "Выведем информацию о предобработанных данных методом `info()`. "
   ]
  },
  {
   "cell_type": "code",
   "execution_count": 34,
   "id": "26b4b18a",
   "metadata": {
    "scrolled": true
   },
   "outputs": [
    {
     "name": "stdout",
     "output_type": "stream",
     "text": [
      "<class 'pandas.core.frame.DataFrame'>\n",
      "Int64Index: 7043 entries, 0 to 7042\n",
      "Data columns (total 19 columns):\n",
      " #   Column             Non-Null Count  Dtype  \n",
      "---  ------             --------------  -----  \n",
      " 0   churn              7043 non-null   int64  \n",
      " 1   type               7043 non-null   object \n",
      " 2   paperless_billing  7043 non-null   object \n",
      " 3   payment_method     7043 non-null   object \n",
      " 4   monthly_charges    7043 non-null   float64\n",
      " 5   total_charges      7043 non-null   float64\n",
      " 6   gender             7043 non-null   object \n",
      " 7   senior_citizen     7043 non-null   bool   \n",
      " 8   partner            7043 non-null   object \n",
      " 9   dependents         7043 non-null   object \n",
      " 10  internet_service   7043 non-null   object \n",
      " 11  online_security    7043 non-null   object \n",
      " 12  online_backup      7043 non-null   object \n",
      " 13  device_protection  7043 non-null   object \n",
      " 14  tech_support       7043 non-null   object \n",
      " 15  streaming_tv       7043 non-null   object \n",
      " 16  streaming_movies   7043 non-null   object \n",
      " 17  multiple_lines     7043 non-null   object \n",
      " 18  days               7043 non-null   int64  \n",
      "dtypes: bool(1), float64(2), int64(2), object(14)\n",
      "memory usage: 1.3+ MB\n"
     ]
    }
   ],
   "source": [
    "data.info()"
   ]
  },
  {
   "cell_type": "markdown",
   "id": "6302e9bf",
   "metadata": {},
   "source": [
    "Данные готовы к передаче в модели. "
   ]
  },
  {
   "cell_type": "markdown",
   "id": "397dcd77",
   "metadata": {},
   "source": [
    "### Анализ корреляции"
   ]
  },
  {
   "cell_type": "markdown",
   "id": "3b328f5b",
   "metadata": {},
   "source": [
    "Перед созданием и обучением моделей, дополнительно проверим признаки на корелляцию. Построим матрицу корреляции с помощью алгоритма `Phik`."
   ]
  },
  {
   "cell_type": "code",
   "execution_count": 35,
   "id": "68b2b6c1",
   "metadata": {},
   "outputs": [
    {
     "data": {
      "image/png": "[encoded data removed]",
      "text/plain": [
       "<Figure size 864x864 with 2 Axes>"
      ]
     },
     "metadata": {
      "needs_background": "light"
     },
     "output_type": "display_data"
    }
   ],
   "source": [
    "# построение матрицы корреляции с помощью библиотеки phik\n",
    "interval_cols = data.select_dtypes('number').columns.tolist()\n",
    "phik_overview = data.phik_matrix(interval_cols=interval_cols)\n",
    "plot_correlation_matrix(phik_overview.values, \n",
    "                        x_labels=phik_overview.columns, \n",
    "                        y_labels=phik_overview.index, \n",
    "                        vmin=0, vmax=1, color_map=\"Greens\", \n",
    "                        title=r\"Correlation $\\phi_K$\", \n",
    "                        fontsize_factor=1, \n",
    "                        figsize=(12, 12))\n",
    "plt.tight_layout()"
   ]
  },
  {
   "cell_type": "code",
   "execution_count": 41,
   "id": "c38253e7",
   "metadata": {},
   "outputs": [
    {
     "data": {
      "image/png": "[encoded data removed]",
      "text/plain": [
       "<Figure size 1440x720 with 1 Axes>"
      ]
     },
     "metadata": {
      "needs_background": "light"
     },
     "output_type": "display_data"
    }
   ],
   "source": [
    "phik_overview['churn'].sort_values(ascending=False)[1:].plot(kind='bar', figsize=(20, 10)).tick_params(labelsize=15)\n",
    "plt.title('Корреляция целевого признака с остальными признаками', fontsize=20)\n",
    "plt.xticks(rotation=45);"
   ]
  },
  {
   "cell_type": "markdown",
   "id": "c055d965",
   "metadata": {},
   "source": [
    "По построенным графикам можно сделать следующие выводы:\n",
    "* у целевого признака `'churn'` нет сильной корреляции ни с одним из признаков;\n",
    "* наивысшая корреляция таргета с признаком `'days'`, однако, сама по себе она не очень высока;\n",
    "* больше всего между собой коррелируют месячные траты, суммарные траты и наличие подключенных услуг: это логично, чем больше подключенных услуг, тем больше денег платит клиент."
   ]
  },
  {
   "cell_type": "markdown",
   "id": "6aef2ca0",
   "metadata": {},
   "source": [
    "### Подготовка выборок"
   ]
  },
  {
   "cell_type": "markdown",
   "id": "3f9dd423",
   "metadata": {},
   "source": [
    "#### Разделение данных на выборки"
   ]
  },
  {
   "cell_type": "markdown",
   "id": "8da7425f",
   "metadata": {},
   "source": [
    "Разделим данные на признаки для обучения и целевой признак:"
   ]
  },
  {
   "cell_type": "code",
   "execution_count": 42,
   "id": "e413d659",
   "metadata": {},
   "outputs": [],
   "source": [
    "target = data['churn']\n",
    "features = data.drop(['churn'], axis=1)"
   ]
  },
  {
   "cell_type": "markdown",
   "id": "150ddd7c",
   "metadata": {},
   "source": [
    "С помощью метода `train_test_split()` разделим данные на тренировочную и тестовую выборку в соотношении 3:1. Валидационная выборка не понадобится, так как при обучении будем использовать кросс-валидацию. При разделении укажем параметр `stratify=target`, так как в целевом признаке имеется сильный дисбаланс классов."
   ]
  },
  {
   "cell_type": "code",
   "execution_count": 43,
   "id": "b70506bc",
   "metadata": {},
   "outputs": [],
   "source": [
    "train_features, test_features, train_target, test_target = \\\n",
    "        train_test_split(features, target, test_size=0.25, random_state=RS, stratify=target)"
   ]
  },
  {
   "cell_type": "markdown",
   "id": "07053584",
   "metadata": {},
   "source": [
    "Зафиксируем названия категориальных и числовых признаков в переменных `num` и `cat`."
   ]
  },
  {
   "cell_type": "code",
   "execution_count": 44,
   "id": "5d714534",
   "metadata": {},
   "outputs": [],
   "source": [
    "num = ['monthly_charges', 'total_charges', 'days']\n",
    "cat = list(features.drop(num, axis=1).columns)"
   ]
  },
  {
   "cell_type": "markdown",
   "id": "dd50a060",
   "metadata": {},
   "source": [
    "#### Кодирование категориальных признаков"
   ]
  },
  {
   "cell_type": "markdown",
   "id": "4191df59",
   "metadata": {},
   "source": [
    "Для кодирования категориальных признаков воспользуемся кодировщиком `OneHotEncoder()`. Создадим новые переменные под названиями `train_features_ohe` и `test_features_ohe`. Предыдущие переменные оставим без изменения, они нам понадобятся для обучения модели градиентного бустинга `LGBMClassifier()`. В этой модели есть встроенный кодировщик, поэтому дополнительная кодировка нежелательна."
   ]
  },
  {
   "cell_type": "code",
   "execution_count": 45,
   "id": "3d2580e7",
   "metadata": {
    "scrolled": true
   },
   "outputs": [
    {
     "data": {
      "text/html": [
       "<div>\n",
       "<style scoped>\n",
       "    .dataframe tbody tr th:only-of-type {\n",
       "        vertical-align: middle;\n",
       "    }\n",
       "\n",
       "    .dataframe tbody tr th {\n",
       "        vertical-align: top;\n",
       "    }\n",
       "\n",
       "    .dataframe thead th {\n",
       "        text-align: right;\n",
       "    }\n",
       "</style>\n",
       "<table border=\"1\" class=\"dataframe\">\n",
       "  <thead>\n",
       "    <tr style=\"text-align: right;\">\n",
       "      <th></th>\n",
       "      <th>type</th>\n",
       "      <th>paperless_billing</th>\n",
       "      <th>payment_method</th>\n",
       "      <th>monthly_charges</th>\n",
       "      <th>total_charges</th>\n",
       "      <th>gender</th>\n",
       "      <th>senior_citizen</th>\n",
       "      <th>partner</th>\n",
       "      <th>dependents</th>\n",
       "      <th>internet_service</th>\n",
       "      <th>online_security</th>\n",
       "      <th>online_backup</th>\n",
       "      <th>device_protection</th>\n",
       "      <th>tech_support</th>\n",
       "      <th>streaming_tv</th>\n",
       "      <th>streaming_movies</th>\n",
       "      <th>multiple_lines</th>\n",
       "      <th>days</th>\n",
       "    </tr>\n",
       "  </thead>\n",
       "  <tbody>\n",
       "    <tr>\n",
       "      <th>4914</th>\n",
       "      <td>Two year</td>\n",
       "      <td>No</td>\n",
       "      <td>Credit card (automatic)</td>\n",
       "      <td>92.30</td>\n",
       "      <td>7044.34</td>\n",
       "      <td>Male</td>\n",
       "      <td>False</td>\n",
       "      <td>Yes</td>\n",
       "      <td>No</td>\n",
       "      <td>DSL</td>\n",
       "      <td>Yes</td>\n",
       "      <td>Yes</td>\n",
       "      <td>Yes</td>\n",
       "      <td>Yes</td>\n",
       "      <td>Yes</td>\n",
       "      <td>Yes</td>\n",
       "      <td>Yes</td>\n",
       "      <td>2191</td>\n",
       "    </tr>\n",
       "    <tr>\n",
       "      <th>2182</th>\n",
       "      <td>One year</td>\n",
       "      <td>No</td>\n",
       "      <td>Mailed check</td>\n",
       "      <td>18.80</td>\n",
       "      <td>357.20</td>\n",
       "      <td>Male</td>\n",
       "      <td>False</td>\n",
       "      <td>No</td>\n",
       "      <td>No</td>\n",
       "      <td>Not used</td>\n",
       "      <td>No</td>\n",
       "      <td>No</td>\n",
       "      <td>No</td>\n",
       "      <td>No</td>\n",
       "      <td>No</td>\n",
       "      <td>No</td>\n",
       "      <td>No</td>\n",
       "      <td>580</td>\n",
       "    </tr>\n",
       "    <tr>\n",
       "      <th>651</th>\n",
       "      <td>Month-to-month</td>\n",
       "      <td>Yes</td>\n",
       "      <td>Electronic check</td>\n",
       "      <td>20.25</td>\n",
       "      <td>60.75</td>\n",
       "      <td>Male</td>\n",
       "      <td>False</td>\n",
       "      <td>No</td>\n",
       "      <td>No</td>\n",
       "      <td>Not used</td>\n",
       "      <td>No</td>\n",
       "      <td>No</td>\n",
       "      <td>No</td>\n",
       "      <td>No</td>\n",
       "      <td>No</td>\n",
       "      <td>No</td>\n",
       "      <td>No</td>\n",
       "      <td>92</td>\n",
       "    </tr>\n",
       "  </tbody>\n",
       "</table>\n",
       "</div>"
      ],
      "text/plain": [
       "                type paperless_billing           payment_method  \\\n",
       "4914        Two year                No  Credit card (automatic)   \n",
       "2182        One year                No             Mailed check   \n",
       "651   Month-to-month               Yes         Electronic check   \n",
       "\n",
       "      monthly_charges  total_charges gender  senior_citizen partner  \\\n",
       "4914            92.30        7044.34   Male           False     Yes   \n",
       "2182            18.80         357.20   Male           False      No   \n",
       "651             20.25          60.75   Male           False      No   \n",
       "\n",
       "     dependents internet_service online_security online_backup  \\\n",
       "4914         No              DSL             Yes           Yes   \n",
       "2182         No         Not used              No            No   \n",
       "651          No         Not used              No            No   \n",
       "\n",
       "     device_protection tech_support streaming_tv streaming_movies  \\\n",
       "4914               Yes          Yes          Yes              Yes   \n",
       "2182                No           No           No               No   \n",
       "651                 No           No           No               No   \n",
       "\n",
       "     multiple_lines  days  \n",
       "4914            Yes  2191  \n",
       "2182             No   580  \n",
       "651              No    92  "
      ]
     },
     "metadata": {},
     "output_type": "display_data"
    },
    {
     "data": {
      "text/html": [
       "<div>\n",
       "<style scoped>\n",
       "    .dataframe tbody tr th:only-of-type {\n",
       "        vertical-align: middle;\n",
       "    }\n",
       "\n",
       "    .dataframe tbody tr th {\n",
       "        vertical-align: top;\n",
       "    }\n",
       "\n",
       "    .dataframe thead th {\n",
       "        text-align: right;\n",
       "    }\n",
       "</style>\n",
       "<table border=\"1\" class=\"dataframe\">\n",
       "  <thead>\n",
       "    <tr style=\"text-align: right;\">\n",
       "      <th></th>\n",
       "      <th>type_One year</th>\n",
       "      <th>type_Two year</th>\n",
       "      <th>paperless_billing_Yes</th>\n",
       "      <th>payment_method_Credit card (automatic)</th>\n",
       "      <th>payment_method_Electronic check</th>\n",
       "      <th>payment_method_Mailed check</th>\n",
       "      <th>gender_Male</th>\n",
       "      <th>senior_citizen_True</th>\n",
       "      <th>partner_Yes</th>\n",
       "      <th>dependents_Yes</th>\n",
       "      <th>...</th>\n",
       "      <th>online_backup_Yes</th>\n",
       "      <th>device_protection_Yes</th>\n",
       "      <th>tech_support_Yes</th>\n",
       "      <th>streaming_tv_Yes</th>\n",
       "      <th>streaming_movies_Yes</th>\n",
       "      <th>multiple_lines_Not used</th>\n",
       "      <th>multiple_lines_Yes</th>\n",
       "      <th>monthly_charges</th>\n",
       "      <th>total_charges</th>\n",
       "      <th>days</th>\n",
       "    </tr>\n",
       "  </thead>\n",
       "  <tbody>\n",
       "    <tr>\n",
       "      <th>4914</th>\n",
       "      <td>0.0</td>\n",
       "      <td>1.0</td>\n",
       "      <td>0.0</td>\n",
       "      <td>1.0</td>\n",
       "      <td>0.0</td>\n",
       "      <td>0.0</td>\n",
       "      <td>1.0</td>\n",
       "      <td>0.0</td>\n",
       "      <td>1.0</td>\n",
       "      <td>0.0</td>\n",
       "      <td>...</td>\n",
       "      <td>1.0</td>\n",
       "      <td>1.0</td>\n",
       "      <td>1.0</td>\n",
       "      <td>1.0</td>\n",
       "      <td>1.0</td>\n",
       "      <td>0.0</td>\n",
       "      <td>1.0</td>\n",
       "      <td>92.30</td>\n",
       "      <td>7044.34</td>\n",
       "      <td>2191</td>\n",
       "    </tr>\n",
       "    <tr>\n",
       "      <th>2182</th>\n",
       "      <td>1.0</td>\n",
       "      <td>0.0</td>\n",
       "      <td>0.0</td>\n",
       "      <td>0.0</td>\n",
       "      <td>0.0</td>\n",
       "      <td>1.0</td>\n",
       "      <td>1.0</td>\n",
       "      <td>0.0</td>\n",
       "      <td>0.0</td>\n",
       "      <td>0.0</td>\n",
       "      <td>...</td>\n",
       "      <td>0.0</td>\n",
       "      <td>0.0</td>\n",
       "      <td>0.0</td>\n",
       "      <td>0.0</td>\n",
       "      <td>0.0</td>\n",
       "      <td>0.0</td>\n",
       "      <td>0.0</td>\n",
       "      <td>18.80</td>\n",
       "      <td>357.20</td>\n",
       "      <td>580</td>\n",
       "    </tr>\n",
       "    <tr>\n",
       "      <th>651</th>\n",
       "      <td>0.0</td>\n",
       "      <td>0.0</td>\n",
       "      <td>1.0</td>\n",
       "      <td>0.0</td>\n",
       "      <td>1.0</td>\n",
       "      <td>0.0</td>\n",
       "      <td>1.0</td>\n",
       "      <td>0.0</td>\n",
       "      <td>0.0</td>\n",
       "      <td>0.0</td>\n",
       "      <td>...</td>\n",
       "      <td>0.0</td>\n",
       "      <td>0.0</td>\n",
       "      <td>0.0</td>\n",
       "      <td>0.0</td>\n",
       "      <td>0.0</td>\n",
       "      <td>0.0</td>\n",
       "      <td>0.0</td>\n",
       "      <td>20.25</td>\n",
       "      <td>60.75</td>\n",
       "      <td>92</td>\n",
       "    </tr>\n",
       "  </tbody>\n",
       "</table>\n",
       "<p>3 rows × 23 columns</p>\n",
       "</div>"
      ],
      "text/plain": [
       "      type_One year  type_Two year  paperless_billing_Yes  \\\n",
       "4914            0.0            1.0                    0.0   \n",
       "2182            1.0            0.0                    0.0   \n",
       "651             0.0            0.0                    1.0   \n",
       "\n",
       "      payment_method_Credit card (automatic)  payment_method_Electronic check  \\\n",
       "4914                                     1.0                              0.0   \n",
       "2182                                     0.0                              0.0   \n",
       "651                                      0.0                              1.0   \n",
       "\n",
       "      payment_method_Mailed check  gender_Male  senior_citizen_True  \\\n",
       "4914                          0.0          1.0                  0.0   \n",
       "2182                          1.0          1.0                  0.0   \n",
       "651                           0.0          1.0                  0.0   \n",
       "\n",
       "      partner_Yes  dependents_Yes  ...  online_backup_Yes  \\\n",
       "4914          1.0             0.0  ...                1.0   \n",
       "2182          0.0             0.0  ...                0.0   \n",
       "651           0.0             0.0  ...                0.0   \n",
       "\n",
       "      device_protection_Yes  tech_support_Yes  streaming_tv_Yes  \\\n",
       "4914                    1.0               1.0               1.0   \n",
       "2182                    0.0               0.0               0.0   \n",
       "651                     0.0               0.0               0.0   \n",
       "\n",
       "      streaming_movies_Yes  multiple_lines_Not used  multiple_lines_Yes  \\\n",
       "4914                   1.0                      0.0                 1.0   \n",
       "2182                   0.0                      0.0                 0.0   \n",
       "651                    0.0                      0.0                 0.0   \n",
       "\n",
       "      monthly_charges  total_charges  days  \n",
       "4914            92.30        7044.34  2191  \n",
       "2182            18.80         357.20   580  \n",
       "651             20.25          60.75    92  \n",
       "\n",
       "[3 rows x 23 columns]"
      ]
     },
     "metadata": {},
     "output_type": "display_data"
    }
   ],
   "source": [
    "# кодирование категориальных признаков через OHE\n",
    "encoder = OneHotEncoder(sparse=False, drop='first', handle_unknown='ignore')\n",
    "encoder.fit(train_features[cat])\n",
    "\n",
    "train_features_ohe = ohe(train_features)\n",
    "test_features_ohe = ohe(test_features)\n",
    "\n",
    "display(train_features.sample(3, random_state=RS))\n",
    "display(train_features_ohe.sample(3, random_state=RS))"
   ]
  },
  {
   "cell_type": "markdown",
   "id": "cc02850d",
   "metadata": {},
   "source": [
    "#### Масштабирование числовых признаков"
   ]
  },
  {
   "cell_type": "markdown",
   "id": "c5c255f0",
   "metadata": {},
   "source": [
    "Для масштабирования числовых признаков воспользуемся инструментом `MinMaxScaler()`. Он приведёт все признаки к единому числовому диапазону: от 0 до 1."
   ]
  },
  {
   "cell_type": "code",
   "execution_count": 46,
   "id": "3d6a88fb",
   "metadata": {},
   "outputs": [
    {
     "data": {
      "text/html": [
       "<div>\n",
       "<style scoped>\n",
       "    .dataframe tbody tr th:only-of-type {\n",
       "        vertical-align: middle;\n",
       "    }\n",
       "\n",
       "    .dataframe tbody tr th {\n",
       "        vertical-align: top;\n",
       "    }\n",
       "\n",
       "    .dataframe thead th {\n",
       "        text-align: right;\n",
       "    }\n",
       "</style>\n",
       "<table border=\"1\" class=\"dataframe\">\n",
       "  <thead>\n",
       "    <tr style=\"text-align: right;\">\n",
       "      <th></th>\n",
       "      <th>monthly_charges</th>\n",
       "      <th>total_charges</th>\n",
       "      <th>days</th>\n",
       "    </tr>\n",
       "  </thead>\n",
       "  <tbody>\n",
       "    <tr>\n",
       "      <th>4914</th>\n",
       "      <td>0.737157</td>\n",
       "      <td>0.763424</td>\n",
       "      <td>0.946845</td>\n",
       "    </tr>\n",
       "    <tr>\n",
       "      <th>2182</th>\n",
       "      <td>0.003990</td>\n",
       "      <td>0.036741</td>\n",
       "      <td>0.250648</td>\n",
       "    </tr>\n",
       "    <tr>\n",
       "      <th>651</th>\n",
       "      <td>0.018454</td>\n",
       "      <td>0.004526</td>\n",
       "      <td>0.039758</td>\n",
       "    </tr>\n",
       "  </tbody>\n",
       "</table>\n",
       "</div>"
      ],
      "text/plain": [
       "      monthly_charges  total_charges      days\n",
       "4914         0.737157       0.763424  0.946845\n",
       "2182         0.003990       0.036741  0.250648\n",
       "651          0.018454       0.004526  0.039758"
      ]
     },
     "metadata": {},
     "output_type": "display_data"
    }
   ],
   "source": [
    "# стандартизация числовых признаков через MinMaxScaler\n",
    "scaler = MinMaxScaler()\n",
    "scaler.fit(train_features[num])\n",
    "\n",
    "train_features[num] = scaler.transform(train_features[num])\n",
    "test_features[num] = scaler.transform(test_features[num])\n",
    "train_features_ohe[num] = scaler.transform(train_features_ohe[num])\n",
    "test_features_ohe[num] = scaler.transform(test_features_ohe[num])\n",
    "\n",
    "display(train_features_ohe[num].sample(3, random_state=RS))"
   ]
  },
  {
   "cell_type": "markdown",
   "id": "6bc8a9bf",
   "metadata": {},
   "source": [
    "### Обучение моделей"
   ]
  },
  {
   "cell_type": "markdown",
   "id": "6b471170",
   "metadata": {},
   "source": [
    "#### `LGBMClassifier()`"
   ]
  },
  {
   "cell_type": "markdown",
   "id": "609cb102",
   "metadata": {},
   "source": [
    "Данные готовы к обучению. Для начала, воспользуемся заранее написанной функцией `to_cat_type()`, с её помощью преобразуем категориальные признаки из типа `object` в тип `category`. Именно в таком формате необходимо передавать их в модель градиентного бустинга `LGBMClassifier()`."
   ]
  },
  {
   "cell_type": "code",
   "execution_count": 47,
   "id": "6975bddd",
   "metadata": {},
   "outputs": [],
   "source": [
    "train_features = to_cat_type(train_features)\n",
    "test_features = to_cat_type(test_features)"
   ]
  },
  {
   "cell_type": "code",
   "execution_count": 48,
   "id": "3841178c",
   "metadata": {},
   "outputs": [
    {
     "name": "stdout",
     "output_type": "stream",
     "text": [
      "CPU times: total: 14.1 s\n",
      "Wall time: 43.2 s\n"
     ]
    },
    {
     "data": {
      "text/plain": [
       "{'learning_rate': 0.1, 'max_depth': 17, 'n_estimators': 100}"
      ]
     },
     "execution_count": 48,
     "metadata": {},
     "output_type": "execute_result"
    }
   ],
   "source": [
    "%%time\n",
    "# LGBMClassifier\n",
    "model_lgb = LGBMClassifier(random_state=RS)\n",
    "\n",
    "params = {'n_estimators': np.arange(10, 101, 10), \n",
    "          'max_depth': np.arange(2, 53, 5),\n",
    "          'learning_rate': [0.1, 0.01, 0.001]}\n",
    "search_lgb = GridSearchCV(model_lgb, params, n_jobs=-1, cv=5, scoring='roc_auc')\n",
    "search_lgb.fit(train_features, train_target);\n",
    "best_lgb = search_lgb.best_estimator_\n",
    "search_lgb.best_params_"
   ]
  },
  {
   "cell_type": "markdown",
   "id": "9d3962a8",
   "metadata": {},
   "source": [
    "Сохраним лучшие параметры модели, а также лучшую метрику на кросс-валидации."
   ]
  },
  {
   "cell_type": "code",
   "execution_count": 49,
   "id": "eb452b5c",
   "metadata": {},
   "outputs": [],
   "source": [
    "best_lgb_params = search_lgb.best_params_\n",
    "best_lgb_score = search_lgb.best_score_"
   ]
  },
  {
   "cell_type": "code",
   "execution_count": 50,
   "id": "884589bc",
   "metadata": {},
   "outputs": [
    {
     "data": {
      "text/plain": [
       "0.8582054917825557"
      ]
     },
     "execution_count": 50,
     "metadata": {},
     "output_type": "execute_result"
    }
   ],
   "source": [
    "search_lgb.best_score_"
   ]
  },
  {
   "cell_type": "markdown",
   "id": "9af4353e",
   "metadata": {},
   "source": [
    "Модель достигла целевой метрики. Проверим ещё две модели."
   ]
  },
  {
   "cell_type": "markdown",
   "id": "b2fb60f0",
   "metadata": {},
   "source": [
    "#### `RandomForestClassifier()`"
   ]
  },
  {
   "cell_type": "markdown",
   "id": "20d5c14f",
   "metadata": {},
   "source": [
    "Обучим модель случайного леса. В этот раз воспользуемся уже закодированными данными."
   ]
  },
  {
   "cell_type": "code",
   "execution_count": 51,
   "id": "9b8ceadf",
   "metadata": {},
   "outputs": [
    {
     "name": "stdout",
     "output_type": "stream",
     "text": [
      "CPU times: total: 6.2 s\n",
      "Wall time: 1min 3s\n"
     ]
    },
    {
     "data": {
      "text/plain": [
       "{'max_depth': 7, 'n_estimators': 120}"
      ]
     },
     "execution_count": 51,
     "metadata": {},
     "output_type": "execute_result"
    }
   ],
   "source": [
    "%%time\n",
    "# RandomForestClassifier\n",
    "model_forest = RandomForestClassifier(random_state=RS)\n",
    "params = {'max_depth': np.arange(2, 53, 5),\n",
    "          'n_estimators': np.arange(10, 151, 10)}\n",
    "search_forest = GridSearchCV(model_forest, params, n_jobs=-1, cv=5, scoring='roc_auc')\n",
    "search_forest.fit(train_features_ohe, train_target)\n",
    "best_forest = search_forest.best_estimator_\n",
    "search_forest.best_params_"
   ]
  },
  {
   "cell_type": "code",
   "execution_count": 52,
   "id": "b4d6faa3",
   "metadata": {},
   "outputs": [],
   "source": [
    "best_forest_params = search_forest.best_params_\n",
    "best_forest_score = search_forest.best_score_"
   ]
  },
  {
   "cell_type": "code",
   "execution_count": 53,
   "id": "deee8de4",
   "metadata": {},
   "outputs": [
    {
     "data": {
      "text/plain": [
       "0.8192305899226693"
      ]
     },
     "execution_count": 53,
     "metadata": {},
     "output_type": "execute_result"
    }
   ],
   "source": [
    "search_forest.best_score_"
   ]
  },
  {
   "cell_type": "markdown",
   "id": "12ce11e5",
   "metadata": {},
   "source": [
    "Модель леса выдаёт недостаточно высокую метрику. Пока для проверки на тестовых данных подходит только модель градиентного бустинга."
   ]
  },
  {
   "cell_type": "markdown",
   "id": "3565fd61",
   "metadata": {},
   "source": [
    "#### `LogisticRegression()`"
   ]
  },
  {
   "cell_type": "markdown",
   "id": "a4f1548a",
   "metadata": {},
   "source": [
    "Обучим модель логистической регрессии. Для обучения также воспользуемся закодированными данными."
   ]
  },
  {
   "cell_type": "code",
   "execution_count": 54,
   "id": "23bc1c17",
   "metadata": {},
   "outputs": [
    {
     "name": "stdout",
     "output_type": "stream",
     "text": [
      "CPU times: total: 4.8 s\n",
      "Wall time: 11.8 s\n"
     ]
    },
    {
     "data": {
      "text/plain": [
       "{'C': 13.0}"
      ]
     },
     "execution_count": 54,
     "metadata": {},
     "output_type": "execute_result"
    }
   ],
   "source": [
    "%%time\n",
    "# LogisticRegression\n",
    "model_lr = LogisticRegression()\n",
    "params = {'C': np.arange(0.1, 20, 0.1)}\n",
    "search_lr = GridSearchCV(model_lr, params, n_jobs=-1, cv=5, scoring='roc_auc')\n",
    "search_lr.fit(train_features_ohe, train_target)\n",
    "best_lr = search_lr.best_estimator_\n",
    "search_lr.best_params_"
   ]
  },
  {
   "cell_type": "code",
   "execution_count": 55,
   "id": "c9551db7",
   "metadata": {},
   "outputs": [],
   "source": [
    "best_lr_params = search_lr.best_params_\n",
    "best_lr_score = search_lr.best_score_"
   ]
  },
  {
   "cell_type": "code",
   "execution_count": 56,
   "id": "1419b70b",
   "metadata": {},
   "outputs": [
    {
     "data": {
      "text/plain": [
       "0.7671782136973408"
      ]
     },
     "execution_count": 56,
     "metadata": {},
     "output_type": "execute_result"
    }
   ],
   "source": [
    "search_lr.best_score_"
   ]
  },
  {
   "cell_type": "markdown",
   "id": "47d0cdd6",
   "metadata": {},
   "source": [
    "Модель логистической регрессии также не достигла целевой метрики. Перейдём к проверке на тестовых данных."
   ]
  },
  {
   "cell_type": "markdown",
   "id": "1868594f",
   "metadata": {},
   "source": [
    "### Проверка лучшей модели "
   ]
  },
  {
   "cell_type": "markdown",
   "id": "b2aebc45",
   "metadata": {},
   "source": [
    "Лучшей моделью на кроссвалидации оказалась модель `LGBMClassifier()` с гиперпараметрами `{'learning_rate': 0.1, 'max_depth': 17, 'n_estimators': 100}`. Проверим её работу на тестовых данных. Метрику ROC-AUC посчитаем с помощью `predict_proba()`."
   ]
  },
  {
   "cell_type": "code",
   "execution_count": 57,
   "id": "9512f784",
   "metadata": {},
   "outputs": [
    {
     "data": {
      "text/plain": [
       "0.8784754680044049"
      ]
     },
     "execution_count": 57,
     "metadata": {},
     "output_type": "execute_result"
    }
   ],
   "source": [
    "test_roc_auc_score = roc_auc_score(test_target, best_lgb.predict_proba(test_features)[:, 1])\n",
    "test_roc_auc_score"
   ]
  },
  {
   "cell_type": "markdown",
   "id": "6c599b2c",
   "metadata": {},
   "source": [
    "Модель достигла целевой метрики на тестовых данных. Задачу можно считать выполненной. Дополнительно проверим значение метрики accuracy."
   ]
  },
  {
   "cell_type": "code",
   "execution_count": 58,
   "id": "2b00de1a",
   "metadata": {},
   "outputs": [
    {
     "data": {
      "text/plain": [
       "0.879045996592845"
      ]
     },
     "execution_count": 58,
     "metadata": {},
     "output_type": "execute_result"
    }
   ],
   "source": [
    "test_accuracy_score = accuracy_score(test_target, best_lgb.predict(test_features))\n",
    "test_accuracy_score"
   ]
  },
  {
   "cell_type": "markdown",
   "id": "f315fe1c",
   "metadata": {},
   "source": [
    "Значения метрик AUC-ROC и accuracy на тестовых данных получились практически идентичными. Модель хорошо справляется с поставленной задачей и предсказывает уход клиента из компании."
   ]
  },
  {
   "cell_type": "markdown",
   "id": "1586116f",
   "metadata": {},
   "source": [
    "### Сводная таблица по моделям"
   ]
  },
  {
   "cell_type": "markdown",
   "id": "4839e74b",
   "metadata": {},
   "source": [
    "Для наглядности построим таблицу с параметрами моделей, а также полученными метриками."
   ]
  },
  {
   "cell_type": "code",
   "execution_count": 59,
   "id": "4e445342",
   "metadata": {},
   "outputs": [
    {
     "data": {
      "text/html": [
       "<div>\n",
       "<style scoped>\n",
       "    .dataframe tbody tr th:only-of-type {\n",
       "        vertical-align: middle;\n",
       "    }\n",
       "\n",
       "    .dataframe tbody tr th {\n",
       "        vertical-align: top;\n",
       "    }\n",
       "\n",
       "    .dataframe thead th {\n",
       "        text-align: right;\n",
       "    }\n",
       "</style>\n",
       "<table border=\"1\" class=\"dataframe\">\n",
       "  <thead>\n",
       "    <tr style=\"text-align: right;\">\n",
       "      <th></th>\n",
       "      <th>roc_auc_cv</th>\n",
       "      <th>model_params</th>\n",
       "      <th>roc_auc_test</th>\n",
       "      <th>accuracy_test</th>\n",
       "    </tr>\n",
       "  </thead>\n",
       "  <tbody>\n",
       "    <tr>\n",
       "      <th>LGBMRegressor</th>\n",
       "      <td>0.858205</td>\n",
       "      <td>{'learning_rate': 0.1, 'max_depth': 17, 'n_est...</td>\n",
       "      <td>0.878475</td>\n",
       "      <td>0.879046</td>\n",
       "    </tr>\n",
       "    <tr>\n",
       "      <th>LinearRegression</th>\n",
       "      <td>0.819231</td>\n",
       "      <td>{'max_depth': 7, 'n_estimators': 120}</td>\n",
       "      <td>-</td>\n",
       "      <td>-</td>\n",
       "    </tr>\n",
       "    <tr>\n",
       "      <th>DescisionTreeRegressor</th>\n",
       "      <td>0.767178</td>\n",
       "      <td>{'C': 13.0}</td>\n",
       "      <td>-</td>\n",
       "      <td>-</td>\n",
       "    </tr>\n",
       "  </tbody>\n",
       "</table>\n",
       "</div>"
      ],
      "text/plain": [
       "                       roc_auc_cv  \\\n",
       "LGBMRegressor            0.858205   \n",
       "LinearRegression         0.819231   \n",
       "DescisionTreeRegressor   0.767178   \n",
       "\n",
       "                                                             model_params  \\\n",
       "LGBMRegressor           {'learning_rate': 0.1, 'max_depth': 17, 'n_est...   \n",
       "LinearRegression                    {'max_depth': 7, 'n_estimators': 120}   \n",
       "DescisionTreeRegressor                                        {'C': 13.0}   \n",
       "\n",
       "                       roc_auc_test accuracy_test  \n",
       "LGBMRegressor              0.878475      0.879046  \n",
       "LinearRegression                  -             -  \n",
       "DescisionTreeRegressor            -             -  "
      ]
     },
     "execution_count": 59,
     "metadata": {},
     "output_type": "execute_result"
    }
   ],
   "source": [
    "results = pd.DataFrame([[best_lgb_score, best_forest_score, best_lr_score],\n",
    "                        [best_lgb_params, best_forest_params, best_lr_params],\n",
    "                        [test_roc_auc_score, '-', '-'],\n",
    "                        [test_accuracy_score, '-', '-']],\n",
    "                       columns=['LGBMRegressor', 'LinearRegression', 'DescisionTreeRegressor'],\n",
    "                       index=['roc_auc_cv', 'model_params', 'roc_auc_test', 'accuracy_test'])\n",
    "results.T"
   ]
  },
  {
   "cell_type": "markdown",
   "id": "56bced45",
   "metadata": {},
   "source": [
    "### Feature importance"
   ]
  },
  {
   "cell_type": "markdown",
   "id": "a5d7727d",
   "metadata": {},
   "source": [
    "Дополнительно проверим важность признаков для лучшей модели. Для этого построим столбчатую диаграмму со всеми признаками."
   ]
  },
  {
   "cell_type": "code",
   "execution_count": 60,
   "id": "76cd50b5",
   "metadata": {},
   "outputs": [
    {
     "data": {
      "image/png": "[encoded data removed]",
      "text/plain": [
       "<Figure size 1440x720 with 1 Axes>"
      ]
     },
     "metadata": {
      "needs_background": "light"
     },
     "output_type": "display_data"
    }
   ],
   "source": [
    "feature_imp = pd.DataFrame({'Value':best_lgb.feature_importances_,'Feature':train_features.columns})\n",
    "plt.figure(figsize=(20, 10))\n",
    "sns.set(font_scale = 2)\n",
    "sns.barplot(x=\"Value\", y=\"Feature\", data=feature_imp.sort_values(by=\"Value\", ascending=False))\n",
    "plt.title('Feature importance')\n",
    "plt.tight_layout()\n",
    "plt.show()"
   ]
  },
  {
   "cell_type": "markdown",
   "id": "24daaf94",
   "metadata": {},
   "source": [
    "Ключевыми признаками для модели являются синтетический признак `days`, а также признаки определяющие траты клиента: `'monthly_charges'` и `'total_charges'`. В дальнейшем, для улучшения качества работы модели можно попробовать оставить только наиболее значимые признаки, и проверить метрики."
   ]
  },
  {
   "cell_type": "markdown",
   "id": "9236de5d",
   "metadata": {},
   "source": [
    "## Вывод"
   ]
  },
  {
   "cell_type": "markdown",
   "id": "6a7183aa",
   "metadata": {},
   "source": [
    "Работа над проектом была разделена на три части:\n",
    "1. **Составление плана**, первичный анализ данных, выделение целевого признака.\n",
    "2. **Написание кода**: предобработка данных, заполнение некорректных значений, проверка на коллинеарность, создание и обучение моделей, проверка моделей на тестовых данных. \n",
    "3. **Формирование отчёта**: создание последовательной структуры проекта, добавление разделов, добавление комментариев к каждому пункту работы, анализ обученных моделей, написание вывода."
   ]
  },
  {
   "cell_type": "markdown",
   "id": "945e2c34",
   "metadata": {},
   "source": [
    "Все пункты первоначального плана были выполнены. Был проведён анализ данных, данные были корректно соединены в единый датафрейм. В ходе предобработки, были заполнены некорректные значения, а также изменены неверные типы данных. Перед обучением моделей, был проведён анализ корреляции признаков с помощью `Phik`, кодирование категориальных признаков, а также масштабирование числовых признаков. У моделей осуществлялся перебор различных гиперпараметров, а метрика высчитывалась по кросс-валидации с помощью `GridSearchCV()`. После обучения моделей была составлена сводная таблица, в которой были указаны полученные метрики, а также гиперпараметры. Лучшая модель была проверена на тестовых данных, также, для неё был проведён анализ важности признаков."
   ]
  },
  {
   "cell_type": "markdown",
   "id": "8bb0d116",
   "metadata": {},
   "source": [
    "Для обучения моделей использовались все признаки из первоначальных данных, кроме малоинформативного `'customerID'`, а также двух признаков с датами: `'BeginDate'` и `'EndDate'`. Однако, все эти признаки были использованы в работе: \n",
    "* по признаку `'customerID'` было осуществлено соединение данных из разных таблиц;\n",
    "* признак `'EndDate'` был преобразован в целевой - `'churn'`;\n",
    "* также, из признаков `'EndDate'` и `'BeginDate'` был создан синтетический признак `'days'`, указывающий на количество дней, в которые человек являлся клиентом компании."
   ]
  },
  {
   "cell_type": "markdown",
   "id": "627387f5",
   "metadata": {},
   "source": [
    "По итогу выполнения проекта были обучены три модели классификации: `LGBMClassifier()`, `RandomForestRegressor()` и `Logistic Regressor()`. Целевой метрики достигла только модель градиентного бустинга, а самым важным признаком для этой модели, как раз оказался синтетический признак `'days'`. Значение ROC-AUC для лучшей модели `LGBMClassifier()` на **тренировочных** данных с кросс-валидацией составило **0.858**. На **тестовых** данных метрика стала ещё выше и составила **0.878**. На **тестовых** данных дополнительно измерялась метрика accuracy, её значение составило **0.879** Лучшая модель имеет следующие гиперпараметры: `{'learning_rate': 0.1, 'max_depth': 17, 'n_estimators': 100}`.\n"
   ]
  },
  {
   "cell_type": "markdown",
   "id": "cb8533f6",
   "metadata": {},
   "source": [
    "В ходе выполнения проекта возникли некоторые трудности по достижению целевой метрики. В первоначальной версии, вместо признака `'days'` был создан признак `'months'`, который указывал на количество месяцев. С признаком `'months'` ни одной модели не удавалось достичь целевой метрики."
   ]
  }
 ],
 "metadata": {
  "ExecuteTimeLog": [
   {
    "duration": 2153,
    "start_time": "2023-04-23T06:34:40.842Z"
   },
   {
    "duration": 30,
    "start_time": "2023-04-23T06:34:51.578Z"
   },
   {
    "duration": 4,
    "start_time": "2023-04-23T06:34:58.507Z"
   },
   {
    "duration": 4,
    "start_time": "2023-04-23T06:34:59.158Z"
   },
   {
    "duration": 4,
    "start_time": "2023-04-23T06:34:59.555Z"
   },
   {
    "duration": 3,
    "start_time": "2023-04-23T06:34:59.984Z"
   },
   {
    "duration": 420,
    "start_time": "2023-04-23T06:35:00.811Z"
   },
   {
    "duration": 42,
    "start_time": "2023-04-23T06:35:03.050Z"
   },
   {
    "duration": 12316,
    "start_time": "2023-04-23T14:43:31.386Z"
   },
   {
    "duration": 1819,
    "start_time": "2023-04-23T14:43:43.704Z"
   },
   {
    "duration": 0,
    "start_time": "2023-04-23T14:43:45.526Z"
   },
   {
    "duration": 0,
    "start_time": "2023-04-23T14:43:45.527Z"
   },
   {
    "duration": 0,
    "start_time": "2023-04-23T14:43:45.529Z"
   },
   {
    "duration": 0,
    "start_time": "2023-04-23T14:43:45.530Z"
   },
   {
    "duration": 0,
    "start_time": "2023-04-23T14:43:45.531Z"
   },
   {
    "duration": 0,
    "start_time": "2023-04-23T14:43:45.532Z"
   },
   {
    "duration": 0,
    "start_time": "2023-04-23T14:43:45.533Z"
   },
   {
    "duration": 0,
    "start_time": "2023-04-23T14:43:45.535Z"
   },
   {
    "duration": 0,
    "start_time": "2023-04-23T14:43:45.535Z"
   },
   {
    "duration": 0,
    "start_time": "2023-04-23T14:43:45.536Z"
   },
   {
    "duration": 0,
    "start_time": "2023-04-23T14:43:45.538Z"
   },
   {
    "duration": 0,
    "start_time": "2023-04-23T14:43:45.539Z"
   },
   {
    "duration": 0,
    "start_time": "2023-04-23T14:43:45.540Z"
   },
   {
    "duration": 0,
    "start_time": "2023-04-23T14:43:45.541Z"
   },
   {
    "duration": 0,
    "start_time": "2023-04-23T14:43:45.542Z"
   },
   {
    "duration": 0,
    "start_time": "2023-04-23T14:43:45.543Z"
   },
   {
    "duration": 0,
    "start_time": "2023-04-23T14:43:45.544Z"
   },
   {
    "duration": 0,
    "start_time": "2023-04-23T14:43:45.545Z"
   },
   {
    "duration": 0,
    "start_time": "2023-04-23T14:43:45.546Z"
   },
   {
    "duration": 0,
    "start_time": "2023-04-23T14:43:45.547Z"
   },
   {
    "duration": 0,
    "start_time": "2023-04-23T14:43:45.549Z"
   },
   {
    "duration": 0,
    "start_time": "2023-04-23T14:43:45.587Z"
   },
   {
    "duration": 0,
    "start_time": "2023-04-23T14:43:45.588Z"
   },
   {
    "duration": 0,
    "start_time": "2023-04-23T14:43:45.592Z"
   },
   {
    "duration": 0,
    "start_time": "2023-04-23T14:43:45.593Z"
   },
   {
    "duration": 0,
    "start_time": "2023-04-23T14:43:45.593Z"
   },
   {
    "duration": 0,
    "start_time": "2023-04-23T14:43:45.594Z"
   },
   {
    "duration": 0,
    "start_time": "2023-04-23T14:43:45.598Z"
   },
   {
    "duration": 0,
    "start_time": "2023-04-23T14:43:45.599Z"
   },
   {
    "duration": 0,
    "start_time": "2023-04-23T14:43:45.601Z"
   },
   {
    "duration": 0,
    "start_time": "2023-04-23T14:43:45.602Z"
   },
   {
    "duration": 0,
    "start_time": "2023-04-23T14:43:45.603Z"
   },
   {
    "duration": 0,
    "start_time": "2023-04-23T14:43:45.605Z"
   },
   {
    "duration": 0,
    "start_time": "2023-04-23T14:43:45.606Z"
   },
   {
    "duration": 0,
    "start_time": "2023-04-23T14:43:45.607Z"
   },
   {
    "duration": 0,
    "start_time": "2023-04-23T14:43:45.609Z"
   },
   {
    "duration": 0,
    "start_time": "2023-04-23T14:43:45.610Z"
   },
   {
    "duration": 0,
    "start_time": "2023-04-23T14:43:45.611Z"
   },
   {
    "duration": 0,
    "start_time": "2023-04-23T14:43:45.613Z"
   },
   {
    "duration": 0,
    "start_time": "2023-04-23T14:43:45.614Z"
   },
   {
    "duration": 0,
    "start_time": "2023-04-23T14:43:45.616Z"
   },
   {
    "duration": 0,
    "start_time": "2023-04-23T14:43:45.617Z"
   },
   {
    "duration": 0,
    "start_time": "2023-04-23T14:43:45.618Z"
   }
  ],
  "kernelspec": {
   "display_name": "Python 3 (ipykernel)",
   "language": "python",
   "name": "python3"
  },
  "language_info": {
   "codemirror_mode": {
    "name": "ipython",
    "version": 3
   },
   "file_extension": ".py",
   "mimetype": "text/x-python",
   "name": "python",
   "nbconvert_exporter": "python",
   "pygments_lexer": "ipython3",
   "version": "3.9.12"
  },
  "toc": {
   "base_numbering": 1,
   "nav_menu": {},
   "number_sections": true,
   "sideBar": true,
   "skip_h1_title": true,
   "title_cell": "Table of Contents",
   "title_sidebar": "Contents",
   "toc_cell": false,
   "toc_position": {
    "height": "calc(100% - 180px)",
    "left": "10px",
    "top": "150px",
    "width": "246.396px"
   },
   "toc_section_display": true,
   "toc_window_display": true
  }
 },
 "nbformat": 4,
 "nbformat_minor": 5
}
