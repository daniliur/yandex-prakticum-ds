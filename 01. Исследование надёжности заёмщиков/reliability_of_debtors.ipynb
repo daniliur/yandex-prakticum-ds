{
 "cells": [
  {
   "cell_type": "markdown",
   "id": "624b0c47",
   "metadata": {
    "deletable": false,
    "editable": false,
    "id": "c81daeeb"
   },
   "source": [
    "# Исследование надежности заемщиков\n"
   ]
  },
  {
   "cell_type": "markdown",
   "id": "c5d96329",
   "metadata": {},
   "source": [
    "В ходе выполнения проекта необходимо провести предобработку данных, небольшой EDA, а также ответить на несколько вопросов, установленных заказчиком:\n",
    "\n",
    "* Есть ли зависимость между количеством детей и возвратом кредита в срок?\n",
    "* Есть ли зависимость между семейным положением и возвратом кредита в срок?\n",
    "* Есть ли зависимость между уровнем дохода и возвратом кредита в срок?\n",
    "* Как разные цели кредита влияют на его возврат в срок?\n",
    "\n",
    "Дополнительно приведём возможные причины возникновения пропусков в данных, а также причину выбора медианного значения для заполнения пропусков, вместо среднего."
   ]
  },
  {
   "cell_type": "markdown",
   "id": "16ec9cea",
   "metadata": {},
   "source": [
    "**Описание данных:**\n",
    "\n",
    "* `children` — количество детей в семье\n",
    "* `days_employed` — общий трудовой стаж в днях\n",
    "* `dob_years` — возраст клиента в годах\n",
    "* `education` — уровень образования клиента\n",
    "* `education_id` — идентификатор уровня образования\n",
    "* `family_status` — семейное положение\n",
    "* `family_status_id` — идентификатор семейного положения\n",
    "* `gender` — пол клиента\n",
    "* `income_type` — тип занятости\n",
    "* `debt` — имел ли задолженность по возврату кредитов\n",
    "* `total_income` — ежемесячный доход\n",
    "* `purpose` — цель получения кредита"
   ]
  },
  {
   "cell_type": "markdown",
   "id": "e4482f2c",
   "metadata": {
    "deletable": false,
    "editable": false,
    "id": "744d7639"
   },
   "source": [
    "## Шаг 1. Загрузка данных и просмотр общей информации"
   ]
  },
  {
   "cell_type": "markdown",
   "id": "99f53f49",
   "metadata": {
    "deletable": false,
    "editable": false,
    "id": "e7a14c31"
   },
   "source": [
    "Для начала, импортируем библиотеку `pandas`"
   ]
  },
  {
   "cell_type": "code",
   "execution_count": 1,
   "id": "0100c376",
   "metadata": {
    "deletable": false,
    "id": "7bcf75c9"
   },
   "outputs": [],
   "source": [
    "import pandas as pd"
   ]
  },
  {
   "cell_type": "markdown",
   "id": "918217ad",
   "metadata": {},
   "source": [
    "Загрузим данные в переменную `data`"
   ]
  },
  {
   "cell_type": "code",
   "execution_count": 2,
   "id": "5b5e7f17",
   "metadata": {},
   "outputs": [],
   "source": [
    "data = pd.read_csv('data.csv')"
   ]
  },
  {
   "cell_type": "markdown",
   "id": "afdb5aef",
   "metadata": {
    "deletable": false,
    "editable": false,
    "id": "b8038fe3"
   },
   "source": [
    "Посмотрим на данные. Выведем первые 5 строк методом `head()`"
   ]
  },
  {
   "cell_type": "code",
   "execution_count": 3,
   "id": "44242cfb",
   "metadata": {
    "deletable": false,
    "id": "2a7cab99",
    "outputId": "1a8f3ef2-d323-4ec2-ddf7-89670b5944c4"
   },
   "outputs": [
    {
     "data": {
      "text/html": [
       "<div>\n",
       "<style scoped>\n",
       "    .dataframe tbody tr th:only-of-type {\n",
       "        vertical-align: middle;\n",
       "    }\n",
       "\n",
       "    .dataframe tbody tr th {\n",
       "        vertical-align: top;\n",
       "    }\n",
       "\n",
       "    .dataframe thead th {\n",
       "        text-align: right;\n",
       "    }\n",
       "</style>\n",
       "<table border=\"1\" class=\"dataframe\">\n",
       "  <thead>\n",
       "    <tr style=\"text-align: right;\">\n",
       "      <th></th>\n",
       "      <th>children</th>\n",
       "      <th>days_employed</th>\n",
       "      <th>dob_years</th>\n",
       "      <th>education</th>\n",
       "      <th>education_id</th>\n",
       "      <th>family_status</th>\n",
       "      <th>family_status_id</th>\n",
       "      <th>gender</th>\n",
       "      <th>income_type</th>\n",
       "      <th>debt</th>\n",
       "      <th>total_income</th>\n",
       "      <th>purpose</th>\n",
       "    </tr>\n",
       "  </thead>\n",
       "  <tbody>\n",
       "    <tr>\n",
       "      <th>0</th>\n",
       "      <td>1</td>\n",
       "      <td>-8437.673028</td>\n",
       "      <td>42</td>\n",
       "      <td>высшее</td>\n",
       "      <td>0</td>\n",
       "      <td>женат / замужем</td>\n",
       "      <td>0</td>\n",
       "      <td>F</td>\n",
       "      <td>сотрудник</td>\n",
       "      <td>0</td>\n",
       "      <td>253875.639453</td>\n",
       "      <td>покупка жилья</td>\n",
       "    </tr>\n",
       "    <tr>\n",
       "      <th>1</th>\n",
       "      <td>1</td>\n",
       "      <td>-4024.803754</td>\n",
       "      <td>36</td>\n",
       "      <td>среднее</td>\n",
       "      <td>1</td>\n",
       "      <td>женат / замужем</td>\n",
       "      <td>0</td>\n",
       "      <td>F</td>\n",
       "      <td>сотрудник</td>\n",
       "      <td>0</td>\n",
       "      <td>112080.014102</td>\n",
       "      <td>приобретение автомобиля</td>\n",
       "    </tr>\n",
       "    <tr>\n",
       "      <th>2</th>\n",
       "      <td>0</td>\n",
       "      <td>-5623.422610</td>\n",
       "      <td>33</td>\n",
       "      <td>Среднее</td>\n",
       "      <td>1</td>\n",
       "      <td>женат / замужем</td>\n",
       "      <td>0</td>\n",
       "      <td>M</td>\n",
       "      <td>сотрудник</td>\n",
       "      <td>0</td>\n",
       "      <td>145885.952297</td>\n",
       "      <td>покупка жилья</td>\n",
       "    </tr>\n",
       "    <tr>\n",
       "      <th>3</th>\n",
       "      <td>3</td>\n",
       "      <td>-4124.747207</td>\n",
       "      <td>32</td>\n",
       "      <td>среднее</td>\n",
       "      <td>1</td>\n",
       "      <td>женат / замужем</td>\n",
       "      <td>0</td>\n",
       "      <td>M</td>\n",
       "      <td>сотрудник</td>\n",
       "      <td>0</td>\n",
       "      <td>267628.550329</td>\n",
       "      <td>дополнительное образование</td>\n",
       "    </tr>\n",
       "    <tr>\n",
       "      <th>4</th>\n",
       "      <td>0</td>\n",
       "      <td>340266.072047</td>\n",
       "      <td>53</td>\n",
       "      <td>среднее</td>\n",
       "      <td>1</td>\n",
       "      <td>гражданский брак</td>\n",
       "      <td>1</td>\n",
       "      <td>F</td>\n",
       "      <td>пенсионер</td>\n",
       "      <td>0</td>\n",
       "      <td>158616.077870</td>\n",
       "      <td>сыграть свадьбу</td>\n",
       "    </tr>\n",
       "  </tbody>\n",
       "</table>\n",
       "</div>"
      ],
      "text/plain": [
       "   children  days_employed  dob_years education  education_id  \\\n",
       "0         1   -8437.673028         42    высшее             0   \n",
       "1         1   -4024.803754         36   среднее             1   \n",
       "2         0   -5623.422610         33   Среднее             1   \n",
       "3         3   -4124.747207         32   среднее             1   \n",
       "4         0  340266.072047         53   среднее             1   \n",
       "\n",
       "      family_status  family_status_id gender income_type  debt   total_income  \\\n",
       "0   женат / замужем                 0      F   сотрудник     0  253875.639453   \n",
       "1   женат / замужем                 0      F   сотрудник     0  112080.014102   \n",
       "2   женат / замужем                 0      M   сотрудник     0  145885.952297   \n",
       "3   женат / замужем                 0      M   сотрудник     0  267628.550329   \n",
       "4  гражданский брак                 1      F   пенсионер     0  158616.077870   \n",
       "\n",
       "                      purpose  \n",
       "0               покупка жилья  \n",
       "1     приобретение автомобиля  \n",
       "2               покупка жилья  \n",
       "3  дополнительное образование  \n",
       "4             сыграть свадьбу  "
      ]
     },
     "execution_count": 3,
     "metadata": {},
     "output_type": "execute_result"
    }
   ],
   "source": [
    "data.head()"
   ]
  },
  {
   "cell_type": "markdown",
   "id": "b92d74be",
   "metadata": {
    "deletable": false,
    "editable": false,
    "id": "1c12e233"
   },
   "source": [
    "Также ознакомимся с информацией о данных с помощью метода `info()`"
   ]
  },
  {
   "cell_type": "code",
   "execution_count": 4,
   "id": "5d664524",
   "metadata": {
    "deletable": false,
    "id": "2b757bca",
    "outputId": "15376089-8dad-46c9-b520-c05248d43158"
   },
   "outputs": [
    {
     "name": "stdout",
     "output_type": "stream",
     "text": [
      "<class 'pandas.core.frame.DataFrame'>\n",
      "RangeIndex: 21525 entries, 0 to 21524\n",
      "Data columns (total 12 columns):\n",
      " #   Column            Non-Null Count  Dtype  \n",
      "---  ------            --------------  -----  \n",
      " 0   children          21525 non-null  int64  \n",
      " 1   days_employed     19351 non-null  float64\n",
      " 2   dob_years         21525 non-null  int64  \n",
      " 3   education         21525 non-null  object \n",
      " 4   education_id      21525 non-null  int64  \n",
      " 5   family_status     21525 non-null  object \n",
      " 6   family_status_id  21525 non-null  int64  \n",
      " 7   gender            21525 non-null  object \n",
      " 8   income_type       21525 non-null  object \n",
      " 9   debt              21525 non-null  int64  \n",
      " 10  total_income      19351 non-null  float64\n",
      " 11  purpose           21525 non-null  object \n",
      "dtypes: float64(2), int64(5), object(5)\n",
      "memory usage: 2.0+ MB\n"
     ]
    }
   ],
   "source": [
    "data.info()"
   ]
  },
  {
   "cell_type": "markdown",
   "id": "6baeb7ea",
   "metadata": {
    "deletable": false,
    "editable": false,
    "id": "333ec665"
   },
   "source": [
    "## Шаг 2. Предобработка данных"
   ]
  },
  {
   "cell_type": "markdown",
   "id": "ad58d722",
   "metadata": {
    "deletable": false,
    "editable": false,
    "id": "02d92d53"
   },
   "source": [
    "### Удаление пропусков"
   ]
  },
  {
   "cell_type": "markdown",
   "id": "04020367",
   "metadata": {
    "deletable": false,
    "editable": false,
    "id": "cd84967c"
   },
   "source": [
    "Необходимо узнать количество пропусков в данных. Воспользуемся комбинацией методов `isna()` и `info()`"
   ]
  },
  {
   "cell_type": "code",
   "execution_count": 5,
   "id": "131a4c32",
   "metadata": {
    "deletable": false,
    "id": "7f9b2309",
    "outputId": "81f4d817-781c-465c-ed15-91ce4446810d"
   },
   "outputs": [
    {
     "data": {
      "text/plain": [
       "children               0\n",
       "days_employed       2174\n",
       "dob_years              0\n",
       "education              0\n",
       "education_id           0\n",
       "family_status          0\n",
       "family_status_id       0\n",
       "gender                 0\n",
       "income_type            0\n",
       "debt                   0\n",
       "total_income        2174\n",
       "purpose                0\n",
       "dtype: int64"
      ]
     },
     "execution_count": 5,
     "metadata": {},
     "output_type": "execute_result"
    }
   ],
   "source": [
    "data.isna().sum()"
   ]
  },
  {
   "cell_type": "markdown",
   "id": "c3f041f7",
   "metadata": {},
   "source": [
    "В двух столбцах имеются пропущщенные значения. Один из них - `days_employed`. Пропуски в нём обработаем немного позже.  \n",
    "Другой столбец с пропусками `total_income` - хранит данные о доходах клиентов. На сумму дохода сильнее всего влияет тип занятости, поэтому заполнить пропуски в этом столбце можно медианным значением по каждому типу из столбца `income_type`.  "
   ]
  },
  {
   "cell_type": "code",
   "execution_count": 6,
   "id": "8f535621",
   "metadata": {
    "deletable": false,
    "id": "42006a93"
   },
   "outputs": [],
   "source": [
    "for type in data['income_type'].unique():\n",
    "    data.loc[(data['income_type'] == type) & (data['total_income'].isna()), 'total_income'] = \\\n",
    "    data.loc[(data['income_type'] == type), 'total_income'].median()"
   ]
  },
  {
   "cell_type": "markdown",
   "id": "4f4af677",
   "metadata": {
    "deletable": false,
    "editable": false,
    "id": "89da5ece"
   },
   "source": [
    "### Обработка аномальных значений"
   ]
  },
  {
   "cell_type": "markdown",
   "id": "c19b550b",
   "metadata": {
    "deletable": false,
    "editable": false,
    "id": "57964554"
   },
   "source": [
    "В данных могут встречаться артефакты (аномалии) — значения, которые не отражают действительность и появились по какой-то ошибке. таким артефактом будет отрицательное количество дней трудового стажа в столбце `days_employed`.  Избавимся от минуса с помощью метода `abs()`"
   ]
  },
  {
   "cell_type": "code",
   "execution_count": 7,
   "id": "b6d673e5",
   "metadata": {
    "deletable": false,
    "id": "f6f055bf"
   },
   "outputs": [],
   "source": [
    "data['days_employed'] = data['days_employed'].abs()"
   ]
  },
  {
   "cell_type": "markdown",
   "id": "86189af4",
   "metadata": {
    "deletable": false,
    "editable": false,
    "id": "6107dd2f"
   },
   "source": [
    "Для каждого типа занятости ознакомимся с медианным значением трудового стажа `days_employed` в днях"
   ]
  },
  {
   "cell_type": "code",
   "execution_count": 8,
   "id": "dbb5e71f",
   "metadata": {
    "deletable": false,
    "id": "85a5faf6",
    "outputId": "801ef80e-522b-4668-f34e-565af7432bcf"
   },
   "outputs": [
    {
     "data": {
      "text/plain": [
       "income_type\n",
       "безработный        366413.652744\n",
       "в декрете            3296.759962\n",
       "госслужащий          2689.368353\n",
       "компаньон            1547.382223\n",
       "пенсионер          365213.306266\n",
       "предприниматель       520.848083\n",
       "сотрудник            1574.202821\n",
       "студент               578.751554\n",
       "Name: days_employed, dtype: float64"
      ]
     },
     "execution_count": 8,
     "metadata": {},
     "output_type": "execute_result"
    }
   ],
   "source": [
    "data.groupby('income_type')['days_employed'].agg('median')"
   ]
  },
  {
   "cell_type": "markdown",
   "id": "e7ff4ca4",
   "metadata": {
    "deletable": false,
    "editable": false,
    "id": "38d1a030"
   },
   "source": [
    "У двух типов (безработные и пенсионеры) получатся аномально большие значения. Оставим эти значения, как есть, так как этот столбец не понадобится нам для исследования."
   ]
  },
  {
   "cell_type": "markdown",
   "id": "cf29c581",
   "metadata": {
    "deletable": false,
    "editable": false,
    "id": "d8a9f147"
   },
   "source": [
    "Посмотрим на перечень уникальных значений столбца `children`"
   ]
  },
  {
   "cell_type": "code",
   "execution_count": 9,
   "id": "096d1646",
   "metadata": {
    "deletable": false,
    "id": "ef5056eb",
    "outputId": "6975b15c-7f95-4697-d16d-a0c79b657b03"
   },
   "outputs": [
    {
     "data": {
      "text/plain": [
       "array([ 1,  0,  3,  2, -1,  4, 20,  5], dtype=int64)"
      ]
     },
     "execution_count": 9,
     "metadata": {},
     "output_type": "execute_result"
    }
   ],
   "source": [
    "data['children'].unique()"
   ]
  },
  {
   "cell_type": "markdown",
   "id": "79f22904",
   "metadata": {
    "deletable": false,
    "editable": false,
    "id": "40b9ebf2"
   },
   "source": [
    "В столбце `children` есть два аномальных значения. Удалим строки, в которых встречаются такие аномальные значения из датафрейма `data`"
   ]
  },
  {
   "cell_type": "code",
   "execution_count": 10,
   "id": "a57f366c",
   "metadata": {
    "deletable": false,
    "id": "3ff9801d"
   },
   "outputs": [],
   "source": [
    "data = data[(data['children'] != -1) & (data['children'] != 20)]"
   ]
  },
  {
   "cell_type": "markdown",
   "id": "790e941b",
   "metadata": {
    "deletable": false,
    "editable": false,
    "id": "bbc4d0ce"
   },
   "source": [
    "Ещё раз выведем перечень уникальных значений столбца `children`, чтобы убедиться, что артефакты удалены"
   ]
  },
  {
   "cell_type": "code",
   "execution_count": 11,
   "id": "05ad6653",
   "metadata": {
    "deletable": false,
    "id": "ad4fa8b7",
    "outputId": "b2097101-d49d-44d9-901b-32a65c9463d1"
   },
   "outputs": [
    {
     "data": {
      "text/plain": [
       "array([1, 0, 3, 2, 4, 5], dtype=int64)"
      ]
     },
     "execution_count": 11,
     "metadata": {},
     "output_type": "execute_result"
    }
   ],
   "source": [
    "data['children'].unique()"
   ]
  },
  {
   "cell_type": "markdown",
   "id": "9279e2e6",
   "metadata": {},
   "source": [
    "Теперь значения в столбце корректные"
   ]
  },
  {
   "cell_type": "markdown",
   "id": "a04808f5",
   "metadata": {
    "deletable": false,
    "editable": false,
    "id": "f4ea573f"
   },
   "source": [
    "Заполним пропуски в столбце `days_employed` медианными значениями для каждого типа занятости `income_type`"
   ]
  },
  {
   "cell_type": "code",
   "execution_count": 12,
   "id": "f96c54b6",
   "metadata": {
    "deletable": false,
    "id": "af6b1a7e"
   },
   "outputs": [],
   "source": [
    "for t in data['income_type'].unique():\n",
    "    data.loc[(data['income_type'] == t) & (data['days_employed'].isna()), 'days_employed'] = \\\n",
    "    data.loc[(data['income_type'] == t), 'days_employed'].median()"
   ]
  },
  {
   "cell_type": "markdown",
   "id": "bd2bc7ac",
   "metadata": {
    "deletable": false,
    "editable": false,
    "id": "2753f40d"
   },
   "source": [
    "Убедимся, что все пропуски заполнены. Проверим себя и ещё раз выведем количество пропущенных значений для каждого столбца с помощью двух методов"
   ]
  },
  {
   "cell_type": "code",
   "execution_count": 13,
   "id": "97765c7b",
   "metadata": {
    "deletable": false,
    "id": "55f78bc2",
    "outputId": "8da1e4e1-358e-4e87-98c9-f261bce0a7b2"
   },
   "outputs": [
    {
     "data": {
      "text/plain": [
       "children            0\n",
       "days_employed       0\n",
       "dob_years           0\n",
       "education           0\n",
       "education_id        0\n",
       "family_status       0\n",
       "family_status_id    0\n",
       "gender              0\n",
       "income_type         0\n",
       "debt                0\n",
       "total_income        0\n",
       "purpose             0\n",
       "dtype: int64"
      ]
     },
     "execution_count": 13,
     "metadata": {},
     "output_type": "execute_result"
    }
   ],
   "source": [
    "data.isna().sum()"
   ]
  },
  {
   "cell_type": "markdown",
   "id": "51916b50",
   "metadata": {
    "deletable": false,
    "editable": false,
    "id": "ddc81e43"
   },
   "source": [
    "### Изменение типов данных"
   ]
  },
  {
   "cell_type": "markdown",
   "id": "ecfdd999",
   "metadata": {
    "deletable": false,
    "editable": false,
    "id": "42d19d24"
   },
   "source": [
    "Заменим вещественный тип данных в столбце `total_income` на целочисленный с помощью метода `astype()`"
   ]
  },
  {
   "cell_type": "code",
   "execution_count": 14,
   "id": "b69eec43",
   "metadata": {
    "deletable": false,
    "id": "920b65ad"
   },
   "outputs": [],
   "source": [
    "data['total_income'] = data['total_income'].astype(int)"
   ]
  },
  {
   "cell_type": "markdown",
   "id": "723ddafe",
   "metadata": {
    "deletable": false,
    "editable": false,
    "id": "80c420ba"
   },
   "source": [
    "### Обработка дубликатов"
   ]
  },
  {
   "cell_type": "markdown",
   "id": "317daa75",
   "metadata": {
    "deletable": false,
    "editable": false
   },
   "source": [
    "Обработаем неявные дубликаты в столбце `education`. В этом столбце есть одни и те же значения, но записанные по-разному: с использованием заглавных и строчных букв. Приведём их к нижнему регистру"
   ]
  },
  {
   "cell_type": "code",
   "execution_count": 15,
   "id": "0812145a",
   "metadata": {
    "deletable": false
   },
   "outputs": [],
   "source": [
    "data['education'] = data['education'].str.lower()"
   ]
  },
  {
   "cell_type": "markdown",
   "id": "8eff66ae",
   "metadata": {
    "deletable": false,
    "editable": false,
    "id": "dc587695"
   },
   "source": [
    "Выведем на экран количество строк-дубликатов в данных. Если такие строки присутствуют, удалим их"
   ]
  },
  {
   "cell_type": "code",
   "execution_count": 16,
   "id": "29f355c1",
   "metadata": {
    "deletable": false,
    "id": "3ee445e4",
    "outputId": "9684deba-1934-42d1-99e1-cda61740f822"
   },
   "outputs": [
    {
     "data": {
      "text/plain": [
       "71"
      ]
     },
     "execution_count": 16,
     "metadata": {},
     "output_type": "execute_result"
    }
   ],
   "source": [
    "data.duplicated().sum()"
   ]
  },
  {
   "cell_type": "code",
   "execution_count": 17,
   "id": "2371dff0",
   "metadata": {
    "deletable": false,
    "id": "8575fe05"
   },
   "outputs": [],
   "source": [
    "data = data.drop_duplicates()"
   ]
  },
  {
   "cell_type": "markdown",
   "id": "468be031",
   "metadata": {},
   "source": [
    "Дубликаты успешно удалены"
   ]
  },
  {
   "cell_type": "markdown",
   "id": "7b1696a8",
   "metadata": {
    "deletable": false,
    "editable": false,
    "id": "9904cf55"
   },
   "source": [
    "### Категоризация данных"
   ]
  },
  {
   "cell_type": "markdown",
   "id": "9f97cebd",
   "metadata": {
    "deletable": false,
    "editable": false,
    "id": "72fcc8a2"
   },
   "source": [
    "На основании диапазонов, указанных ниже, создадим в датафрейме `data` столбец `total_income_category` с категориями:\n",
    "\n",
    "- 0–30000 — `'E'`;\n",
    "- 30001–50000 — `'D'`;\n",
    "- 50001–200000 — `'C'`;\n",
    "- 200001–1000000 — `'B'`;\n",
    "- 1000001 и выше — `'A'`.\n",
    "\n",
    "\n",
    "Например, кредитополучателю с доходом 25000 нужно назначить категорию `'E'`, а клиенту, получающему 235000, — `'B'`. Используем собственную функцию с именем `categorize_income()` и метод `apply()`"
   ]
  },
  {
   "cell_type": "code",
   "execution_count": 18,
   "id": "ba4b11ea",
   "metadata": {
    "deletable": false,
    "id": "e1771346"
   },
   "outputs": [],
   "source": [
    "def categorize_income(income):\n",
    "\n",
    "    if 0 <= income <= 30000:\n",
    "        return 'E'\n",
    "    elif 30001 <= income <= 50000:\n",
    "        return 'D'\n",
    "    elif 50001 <= income <= 200000:\n",
    "        return 'C'\n",
    "    elif 200001 <= income <= 1000000:\n",
    "        return 'B'\n",
    "    elif income >= 1000001:\n",
    "        return 'A'"
   ]
  },
  {
   "cell_type": "markdown",
   "id": "2a28a9df",
   "metadata": {},
   "source": [
    "Применим функцию для создания нового столбца"
   ]
  },
  {
   "cell_type": "code",
   "execution_count": 19,
   "id": "2a1fb953",
   "metadata": {
    "deletable": false,
    "id": "d5f3586d"
   },
   "outputs": [],
   "source": [
    "data['total_income_category'] = data['total_income'].apply(categorize_income)"
   ]
  },
  {
   "cell_type": "markdown",
   "id": "a6ab5e0f",
   "metadata": {
    "deletable": false,
    "editable": false,
    "id": "dde49b5c"
   },
   "source": [
    "Выведем на экран перечень уникальных целей взятия кредита из столбца `purpose`"
   ]
  },
  {
   "cell_type": "code",
   "execution_count": 20,
   "id": "35cf2a3d",
   "metadata": {
    "deletable": false,
    "id": "f67ce9b3",
    "outputId": "673c12d9-7d7e-4ae0-9812-c622c89dd244"
   },
   "outputs": [
    {
     "data": {
      "text/plain": [
       "array(['покупка жилья', 'приобретение автомобиля',\n",
       "       'дополнительное образование', 'сыграть свадьбу',\n",
       "       'операции с жильем', 'образование', 'на проведение свадьбы',\n",
       "       'покупка жилья для семьи', 'покупка недвижимости',\n",
       "       'покупка коммерческой недвижимости', 'покупка жилой недвижимости',\n",
       "       'строительство собственной недвижимости', 'недвижимость',\n",
       "       'строительство недвижимости', 'на покупку подержанного автомобиля',\n",
       "       'на покупку своего автомобиля',\n",
       "       'операции с коммерческой недвижимостью',\n",
       "       'строительство жилой недвижимости', 'жилье',\n",
       "       'операции со своей недвижимостью', 'автомобили',\n",
       "       'заняться образованием', 'сделка с подержанным автомобилем',\n",
       "       'получение образования', 'автомобиль', 'свадьба',\n",
       "       'получение дополнительного образования', 'покупка своего жилья',\n",
       "       'операции с недвижимостью', 'получение высшего образования',\n",
       "       'свой автомобиль', 'сделка с автомобилем',\n",
       "       'профильное образование', 'высшее образование',\n",
       "       'покупка жилья для сдачи', 'на покупку автомобиля', 'ремонт жилью',\n",
       "       'заняться высшим образованием'], dtype=object)"
      ]
     },
     "execution_count": 20,
     "metadata": {},
     "output_type": "execute_result"
    }
   ],
   "source": [
    "data['purpose'].unique()"
   ]
  },
  {
   "cell_type": "markdown",
   "id": "b83b7ee7",
   "metadata": {
    "deletable": false,
    "editable": false,
    "id": "85d0aef0"
   },
   "source": [
    "Создадим функцию, которая на основании данных из столбца `purpose` сформирует новый столбец `purpose_category`, в который войдут следующие категории\n",
    "\n",
    "- `'операции с автомобилем'`,\n",
    "- `'операции с недвижимостью'`,\n",
    "- `'проведение свадьбы'`,\n",
    "- `'получение образования'`.\n",
    "\n",
    "Например, если в столбце `purpose` находится подстрока `'на покупку автомобиля'`, то в столбце `purpose_category` должна появиться строка `'операции с автомобилем'`\n",
    "\n",
    "Используем собственную функцию с именем `categorize_purpose()` и метод `apply()`. Изучим данные в столбце `purpose` и определим, какие подстроки помогут нам правильно определить категорию"
   ]
  },
  {
   "cell_type": "code",
   "execution_count": 21,
   "id": "f1e07806",
   "metadata": {
    "deletable": false,
    "id": "e149fab4"
   },
   "outputs": [],
   "source": [
    "def categorize_purpose(row):\n",
    "    try:\n",
    "        if 'автом' in row:\n",
    "            return 'операции с автомобилем'\n",
    "        elif 'жил' in row or 'недвиж' in row:\n",
    "            return 'операции с недвижимостью'\n",
    "        elif 'свад' in row:\n",
    "            return 'проведение свадьбы'\n",
    "        elif 'образов' in row:\n",
    "            return 'получение образования'\n",
    "    except:\n",
    "        return 'нет категории'"
   ]
  },
  {
   "cell_type": "code",
   "execution_count": 22,
   "id": "c6e9c59a",
   "metadata": {
    "deletable": false,
    "id": "bf36e69b"
   },
   "outputs": [],
   "source": [
    "data['purpose_category'] = data['purpose'].apply(categorize_purpose)"
   ]
  },
  {
   "cell_type": "markdown",
   "id": "2b89877c",
   "metadata": {
    "deletable": false,
    "editable": false,
    "id": "09b242bf"
   },
   "source": [
    "### Шаг 3. Исследование данные и ответ на вопросы"
   ]
  },
  {
   "cell_type": "markdown",
   "id": "3e3faa25",
   "metadata": {
    "deletable": false,
    "editable": false,
    "id": "c5d66278"
   },
   "source": [
    "#### 3.1 Есть ли зависимость между количеством детей и возвратом кредита в срок?"
   ]
  },
  {
   "cell_type": "code",
   "execution_count": 23,
   "id": "df08ecfd",
   "metadata": {
    "deletable": false,
    "id": "2cacfc4a"
   },
   "outputs": [
    {
     "data": {
      "text/html": [
       "<div>\n",
       "<style scoped>\n",
       "    .dataframe tbody tr th:only-of-type {\n",
       "        vertical-align: middle;\n",
       "    }\n",
       "\n",
       "    .dataframe tbody tr th {\n",
       "        vertical-align: top;\n",
       "    }\n",
       "\n",
       "    .dataframe thead th {\n",
       "        text-align: right;\n",
       "    }\n",
       "</style>\n",
       "<table border=\"1\" class=\"dataframe\">\n",
       "  <thead>\n",
       "    <tr style=\"text-align: right;\">\n",
       "      <th></th>\n",
       "      <th>% должников</th>\n",
       "    </tr>\n",
       "    <tr>\n",
       "      <th>Количество детей</th>\n",
       "      <th></th>\n",
       "    </tr>\n",
       "  </thead>\n",
       "  <tbody>\n",
       "    <tr>\n",
       "      <th>0</th>\n",
       "      <td>7.54</td>\n",
       "    </tr>\n",
       "    <tr>\n",
       "      <th>1</th>\n",
       "      <td>9.23</td>\n",
       "    </tr>\n",
       "    <tr>\n",
       "      <th>2</th>\n",
       "      <td>9.45</td>\n",
       "    </tr>\n",
       "    <tr>\n",
       "      <th>3</th>\n",
       "      <td>8.18</td>\n",
       "    </tr>\n",
       "    <tr>\n",
       "      <th>4</th>\n",
       "      <td>9.76</td>\n",
       "    </tr>\n",
       "    <tr>\n",
       "      <th>5</th>\n",
       "      <td>0.00</td>\n",
       "    </tr>\n",
       "  </tbody>\n",
       "</table>\n",
       "</div>"
      ],
      "text/plain": [
       "                  % должников\n",
       "Количество детей             \n",
       "0                        7.54\n",
       "1                        9.23\n",
       "2                        9.45\n",
       "3                        8.18\n",
       "4                        9.76\n",
       "5                        0.00"
      ]
     },
     "metadata": {},
     "output_type": "display_data"
    },
    {
     "name": "stdout",
     "output_type": "stream",
     "text": [
      "Средний процент должников, среди родителей хотя бы одного ребёнка: 9.24%\n"
     ]
    }
   ],
   "source": [
    "#создаём сводную таблицу с группировкой по кол-ву детей\n",
    "children_pivot = data.pivot_table(index='children', values='debt', aggfunc='mean')\n",
    "\n",
    "#оформляем таблицу\n",
    "children_pivot = children_pivot.rename(columns={'debt': '% должников'})\n",
    "children_pivot.index.name = 'Количество детей'\n",
    "children_pivot['% должников'] = (children_pivot['% должников'] * 100).round(2) \n",
    "\n",
    "#считаем процент должников среди родителей\n",
    "parents_debt = data.loc[data['children'] != 0, 'debt'].mean()\n",
    "\n",
    "display(children_pivot)\n",
    "print('Средний процент должников, среди родителей хотя бы одного ребёнка: {:.2%}'.format(parents_debt))"
   ]
  },
  {
   "cell_type": "markdown",
   "id": "13bf2d48",
   "metadata": {
    "deletable": false,
    "id": "3a6b99ec"
   },
   "source": [
    "**Вывод:** \n",
    "\n",
    "Судя по сводной таблице, в которой указан процент должников для каждого количества детей, значительной зависимости нет. Есть небольшая зависимость только от наличия детей: у родителей средний процент должников равен 9.24%, а у клиентов, которые ещё не имеют детей - 7.54%.\n",
    "\n",
    "Разница в 2.3% кажется небольшой, но, это только один из нескольких показателей надёжности клиента. В сумме, все показатели дадут более существенную разницу. Проанализировав все параметры клиентов, можно будет более точно определить вероятность того, что кредит будет оплачен в срок."
   ]
  },
  {
   "cell_type": "markdown",
   "id": "e5d72a97",
   "metadata": {
    "deletable": false,
    "editable": false,
    "id": "97be82ca"
   },
   "source": [
    "#### 3.2 Есть ли зависимость между семейным положением и возвратом кредита в срок?"
   ]
  },
  {
   "cell_type": "code",
   "execution_count": 24,
   "id": "0399e2d9",
   "metadata": {
    "deletable": false,
    "id": "dc3f7ee8"
   },
   "outputs": [
    {
     "data": {
      "text/html": [
       "<div>\n",
       "<style scoped>\n",
       "    .dataframe tbody tr th:only-of-type {\n",
       "        vertical-align: middle;\n",
       "    }\n",
       "\n",
       "    .dataframe tbody tr th {\n",
       "        vertical-align: top;\n",
       "    }\n",
       "\n",
       "    .dataframe thead th {\n",
       "        text-align: right;\n",
       "    }\n",
       "</style>\n",
       "<table border=\"1\" class=\"dataframe\">\n",
       "  <thead>\n",
       "    <tr style=\"text-align: right;\">\n",
       "      <th></th>\n",
       "      <th>% должников</th>\n",
       "    </tr>\n",
       "    <tr>\n",
       "      <th>Семейный статус</th>\n",
       "      <th></th>\n",
       "    </tr>\n",
       "  </thead>\n",
       "  <tbody>\n",
       "    <tr>\n",
       "      <th>Не женат / не замужем</th>\n",
       "      <td>9.76</td>\n",
       "    </tr>\n",
       "    <tr>\n",
       "      <th>в разводе</th>\n",
       "      <td>7.06</td>\n",
       "    </tr>\n",
       "    <tr>\n",
       "      <th>вдовец / вдова</th>\n",
       "      <td>6.62</td>\n",
       "    </tr>\n",
       "    <tr>\n",
       "      <th>гражданский брак</th>\n",
       "      <td>9.31</td>\n",
       "    </tr>\n",
       "    <tr>\n",
       "      <th>женат / замужем</th>\n",
       "      <td>7.56</td>\n",
       "    </tr>\n",
       "  </tbody>\n",
       "</table>\n",
       "</div>"
      ],
      "text/plain": [
       "                       % должников\n",
       "Семейный статус                   \n",
       "Не женат / не замужем         9.76\n",
       "в разводе                     7.06\n",
       "вдовец / вдова                6.62\n",
       "гражданский брак              9.31\n",
       "женат / замужем               7.56"
      ]
     },
     "metadata": {},
     "output_type": "display_data"
    },
    {
     "name": "stdout",
     "output_type": "stream",
     "text": [
      "Средний процент должников, среди клиентов, состоявших в официальном браке хотя бы раз: 7.46%\n",
      "Средний процент должников, среди клиентов, не состоявших в официальном браке: 9.49%\n"
     ]
    }
   ],
   "source": [
    "#создаём сводную таблицу с группировкой по семейному статусу\n",
    "family_status_pivot = data.pivot_table(index='family_status', values='debt', aggfunc='mean')\n",
    "\n",
    "#оформляем таблицу\n",
    "family_status_pivot = family_status_pivot.rename(columns={'debt': '% должников'}) \n",
    "family_status_pivot.index.name = 'Семейный статус'\n",
    "family_status_pivot['% должников'] = (family_status_pivot['% должников'] * 100).round(2)\n",
    "\n",
    "#посчитаем средний процент должников среди клиентов, которые не были в официальном браке\n",
    "not_married_avg = data.loc[(data['family_status'] == 'Не женат / не замужем') \n",
    "                           | (data['family_status'] == 'гражданский брак'), 'debt'].mean()\n",
    "\n",
    "#посчитаем средний процент должников среди клиентов, которые были в официальном браке\n",
    "married_avg = data.loc[(data['family_status'] == 'в разводе') \n",
    "                       | (data['family_status'] == 'вдовец / вдова') \n",
    "                       | (data['family_status'] == 'женат / замужем'), 'debt'].mean()\n",
    "\n",
    "display(family_status_pivot)\n",
    "print('Средний процент должников, среди клиентов, состоявших в официальном браке хотя бы раз: {:.2%}'.format(married_avg))\n",
    "print('Средний процент должников, среди клиентов, не состоявших в официальном браке: {:.2%}'.format(not_married_avg))"
   ]
  },
  {
   "cell_type": "markdown",
   "id": "bdbd26aa",
   "metadata": {
    "deletable": false,
    "id": "1cef7837"
   },
   "source": [
    "**Вывод:** \n",
    "\n",
    "Прослеживается зависимость от семейного статуса клиентов: те клиенты, которые хотя бы раз были в официальном браке, реже становятся должниками."
   ]
  },
  {
   "cell_type": "markdown",
   "id": "fd885a65",
   "metadata": {
    "deletable": false,
    "editable": false,
    "id": "1e8b2fca"
   },
   "source": [
    "#### 3.3 Есть ли зависимость между уровнем дохода и возвратом кредита в срок?"
   ]
  },
  {
   "cell_type": "code",
   "execution_count": 25,
   "id": "e7b376d9",
   "metadata": {
    "scrolled": true
   },
   "outputs": [
    {
     "data": {
      "text/html": [
       "<div>\n",
       "<style scoped>\n",
       "    .dataframe tbody tr th:only-of-type {\n",
       "        vertical-align: middle;\n",
       "    }\n",
       "\n",
       "    .dataframe tbody tr th {\n",
       "        vertical-align: top;\n",
       "    }\n",
       "\n",
       "    .dataframe thead tr th {\n",
       "        text-align: left;\n",
       "    }\n",
       "\n",
       "    .dataframe thead tr:last-of-type th {\n",
       "        text-align: right;\n",
       "    }\n",
       "</style>\n",
       "<table border=\"1\" class=\"dataframe\">\n",
       "  <thead>\n",
       "    <tr>\n",
       "      <th></th>\n",
       "      <th>% должников</th>\n",
       "      <th>Кол-во человек</th>\n",
       "    </tr>\n",
       "    <tr>\n",
       "      <th></th>\n",
       "      <th></th>\n",
       "      <th></th>\n",
       "    </tr>\n",
       "    <tr>\n",
       "      <th>Категория дохода</th>\n",
       "      <th></th>\n",
       "      <th></th>\n",
       "    </tr>\n",
       "  </thead>\n",
       "  <tbody>\n",
       "    <tr>\n",
       "      <th>E</th>\n",
       "      <td>9.09</td>\n",
       "      <td>22</td>\n",
       "    </tr>\n",
       "    <tr>\n",
       "      <th>C</th>\n",
       "      <td>8.50</td>\n",
       "      <td>15921</td>\n",
       "    </tr>\n",
       "    <tr>\n",
       "      <th>A</th>\n",
       "      <td>8.00</td>\n",
       "      <td>25</td>\n",
       "    </tr>\n",
       "    <tr>\n",
       "      <th>B</th>\n",
       "      <td>7.06</td>\n",
       "      <td>5014</td>\n",
       "    </tr>\n",
       "    <tr>\n",
       "      <th>D</th>\n",
       "      <td>6.02</td>\n",
       "      <td>349</td>\n",
       "    </tr>\n",
       "  </tbody>\n",
       "</table>\n",
       "</div>"
      ],
      "text/plain": [
       "                 % должников Кол-во человек\n",
       "                                           \n",
       "Категория дохода                           \n",
       "E                       9.09             22\n",
       "C                       8.50          15921\n",
       "A                       8.00             25\n",
       "B                       7.06           5014\n",
       "D                       6.02            349"
      ]
     },
     "execution_count": 25,
     "metadata": {},
     "output_type": "execute_result"
    }
   ],
   "source": [
    "#создаём сводную таблицу с группировкой по категориям дохода\n",
    "income_pivot = data.pivot_table(index='total_income_category', values='debt', aggfunc=['mean', 'count'])    \n",
    "    \n",
    "#оформляем таблицу\n",
    "income_pivot = income_pivot.rename(columns={'mean': '% должников', 'count': 'Кол-во человек', 'debt': ''}) \n",
    "income_pivot.index.name = 'Категория дохода'\n",
    "income_pivot['% должников'] = (income_pivot['% должников'] * 100).round(2)\n",
    "income_pivot = income_pivot.sort_values(by='% должников', ascending=False)\n",
    "income_pivot"
   ]
  },
  {
   "cell_type": "markdown",
   "id": "62514274",
   "metadata": {},
   "source": [
    "Так как в категориях E и A очень мало человек для проведения анализа, можем объединить эти категории с D и B соответственно. Назовём категории \"высокий доход\" (200+ тысяч рублей дохода) и \"низкий доход\" (до 50 тысяч рублей дохода)"
   ]
  },
  {
   "cell_type": "code",
   "execution_count": 26,
   "id": "c5c87e95",
   "metadata": {
    "deletable": false,
    "id": "cd7e3720"
   },
   "outputs": [
    {
     "data": {
      "text/html": [
       "<div>\n",
       "<style scoped>\n",
       "    .dataframe tbody tr th:only-of-type {\n",
       "        vertical-align: middle;\n",
       "    }\n",
       "\n",
       "    .dataframe tbody tr th {\n",
       "        vertical-align: top;\n",
       "    }\n",
       "\n",
       "    .dataframe thead tr th {\n",
       "        text-align: left;\n",
       "    }\n",
       "\n",
       "    .dataframe thead tr:last-of-type th {\n",
       "        text-align: right;\n",
       "    }\n",
       "</style>\n",
       "<table border=\"1\" class=\"dataframe\">\n",
       "  <thead>\n",
       "    <tr>\n",
       "      <th></th>\n",
       "      <th>% должников</th>\n",
       "      <th>Кол-во человек</th>\n",
       "    </tr>\n",
       "    <tr>\n",
       "      <th></th>\n",
       "      <th></th>\n",
       "      <th></th>\n",
       "    </tr>\n",
       "    <tr>\n",
       "      <th>Категория дохода</th>\n",
       "      <th></th>\n",
       "      <th></th>\n",
       "    </tr>\n",
       "  </thead>\n",
       "  <tbody>\n",
       "    <tr>\n",
       "      <th>средний доход</th>\n",
       "      <td>8.50</td>\n",
       "      <td>15921</td>\n",
       "    </tr>\n",
       "    <tr>\n",
       "      <th>высокий доход</th>\n",
       "      <td>7.06</td>\n",
       "      <td>5039</td>\n",
       "    </tr>\n",
       "    <tr>\n",
       "      <th>низкий доход</th>\n",
       "      <td>6.20</td>\n",
       "      <td>371</td>\n",
       "    </tr>\n",
       "  </tbody>\n",
       "</table>\n",
       "</div>"
      ],
      "text/plain": [
       "                 % должников Кол-во человек\n",
       "                                           \n",
       "Категория дохода                           \n",
       "средний доход           8.50          15921\n",
       "высокий доход           7.06           5039\n",
       "низкий доход            6.20            371"
      ]
     },
     "metadata": {},
     "output_type": "display_data"
    }
   ],
   "source": [
    "#создадим копию таблицы, чтобы не портить старую при изменении категорий\n",
    "new_income_category_df = data \n",
    "\n",
    "#объединим и переименуем категории\n",
    "new_income_category_df.loc[(new_income_category_df['total_income_category'] == 'A') \n",
    "         | (new_income_category_df['total_income_category'] == 'B'), 'total_income_category'] = 'высокий доход'\n",
    "new_income_category_df.loc[(new_income_category_df['total_income_category'] == 'E') \n",
    "         | (new_income_category_df['total_income_category'] == 'D'), 'total_income_category'] = 'низкий доход'\n",
    "new_income_category_df.loc[new_income_category_df['total_income_category'] == 'C', 'total_income_category'] = 'средний доход'\n",
    "\n",
    "#создаём сводную таблицу с группировкой по новым категориям дохода\n",
    "new_income_pivot = new_income_category_df.pivot_table(index='total_income_category', values='debt', aggfunc=['mean', 'count'])    \n",
    "    \n",
    "#оформляем таблицу\n",
    "new_income_pivot = new_income_pivot.rename(columns={'mean': '% должников', 'count': 'Кол-во человек', 'debt': ''}) \n",
    "new_income_pivot.index.name = 'Категория дохода'\n",
    "new_income_pivot['% должников'] = (new_income_pivot['% должников'] * 100).round(2)\n",
    "new_income_pivot = new_income_pivot.sort_values(by='% должников', ascending=False)\n",
    "display(new_income_pivot)\n"
   ]
  },
  {
   "cell_type": "markdown",
   "id": "99957dbb",
   "metadata": {
    "deletable": false,
    "id": "e8593def"
   },
   "source": [
    "Построив сводную таблицу по уровням дохода, мы видим, что клиенты с высоким доходом реже допускают просрочки, чем клиенты со средним доходом. В таблице видно, что клиенты с низким доходом реже всего допускают просрочки, однако, в данной категории слишком мало людей, чтобы сделать по ней репрезентативный вывод. Доход точно влияет на вероятность оплаты кредита в срок, однако по текущим данным сложно сделать вывод о категории людей с низким доходом."
   ]
  },
  {
   "cell_type": "markdown",
   "id": "d96b2171",
   "metadata": {
    "deletable": false,
    "editable": false,
    "id": "99ecbd1f"
   },
   "source": [
    "#### 3.4 Как разные цели кредита влияют на его возврат в срок?"
   ]
  },
  {
   "cell_type": "code",
   "execution_count": 27,
   "id": "4b0f8f85",
   "metadata": {
    "deletable": false,
    "id": "2b687290"
   },
   "outputs": [
    {
     "data": {
      "text/html": [
       "<div>\n",
       "<style scoped>\n",
       "    .dataframe tbody tr th:only-of-type {\n",
       "        vertical-align: middle;\n",
       "    }\n",
       "\n",
       "    .dataframe tbody tr th {\n",
       "        vertical-align: top;\n",
       "    }\n",
       "\n",
       "    .dataframe thead th {\n",
       "        text-align: right;\n",
       "    }\n",
       "</style>\n",
       "<table border=\"1\" class=\"dataframe\">\n",
       "  <thead>\n",
       "    <tr style=\"text-align: right;\">\n",
       "      <th></th>\n",
       "      <th>% должников</th>\n",
       "    </tr>\n",
       "    <tr>\n",
       "      <th>Цель кредита</th>\n",
       "      <th></th>\n",
       "    </tr>\n",
       "  </thead>\n",
       "  <tbody>\n",
       "    <tr>\n",
       "      <th>получение дополнительного образования</th>\n",
       "      <td>11.49</td>\n",
       "    </tr>\n",
       "    <tr>\n",
       "      <th>сделка с автомобилем</th>\n",
       "      <td>10.99</td>\n",
       "    </tr>\n",
       "    <tr>\n",
       "      <th>получение высшего образования</th>\n",
       "      <td>10.82</td>\n",
       "    </tr>\n",
       "    <tr>\n",
       "      <th>сделка с подержанным автомобилем</th>\n",
       "      <td>10.60</td>\n",
       "    </tr>\n",
       "    <tr>\n",
       "      <th>профильное образование</th>\n",
       "      <td>10.19</td>\n",
       "    </tr>\n",
       "    <tr>\n",
       "      <th>свой автомобиль</th>\n",
       "      <td>9.94</td>\n",
       "    </tr>\n",
       "    <tr>\n",
       "      <th>заняться образованием</th>\n",
       "      <td>9.56</td>\n",
       "    </tr>\n",
       "    <tr>\n",
       "      <th>на покупку автомобиля</th>\n",
       "      <td>9.38</td>\n",
       "    </tr>\n",
       "    <tr>\n",
       "      <th>автомобили</th>\n",
       "      <td>9.24</td>\n",
       "    </tr>\n",
       "    <tr>\n",
       "      <th>приобретение автомобиля</th>\n",
       "      <td>9.15</td>\n",
       "    </tr>\n",
       "    <tr>\n",
       "      <th>на покупку своего автомобиля</th>\n",
       "      <td>9.13</td>\n",
       "    </tr>\n",
       "    <tr>\n",
       "      <th>высшее образование</th>\n",
       "      <td>8.97</td>\n",
       "    </tr>\n",
       "    <tr>\n",
       "      <th>строительство недвижимости</th>\n",
       "      <td>8.72</td>\n",
       "    </tr>\n",
       "    <tr>\n",
       "      <th>заняться высшим образованием</th>\n",
       "      <td>8.67</td>\n",
       "    </tr>\n",
       "    <tr>\n",
       "      <th>дополнительное образование</th>\n",
       "      <td>8.35</td>\n",
       "    </tr>\n",
       "    <tr>\n",
       "      <th>автомобиль</th>\n",
       "      <td>8.35</td>\n",
       "    </tr>\n",
       "    <tr>\n",
       "      <th>операции с недвижимостью</th>\n",
       "      <td>8.18</td>\n",
       "    </tr>\n",
       "    <tr>\n",
       "      <th>получение образования</th>\n",
       "      <td>8.18</td>\n",
       "    </tr>\n",
       "    <tr>\n",
       "      <th>свадьба</th>\n",
       "      <td>8.10</td>\n",
       "    </tr>\n",
       "    <tr>\n",
       "      <th>операции с коммерческой недвижимостью</th>\n",
       "      <td>8.06</td>\n",
       "    </tr>\n",
       "    <tr>\n",
       "      <th>операции со своей недвижимостью</th>\n",
       "      <td>8.03</td>\n",
       "    </tr>\n",
       "    <tr>\n",
       "      <th>покупка жилья для сдачи</th>\n",
       "      <td>8.01</td>\n",
       "    </tr>\n",
       "    <tr>\n",
       "      <th>на проведение свадьбы</th>\n",
       "      <td>7.99</td>\n",
       "    </tr>\n",
       "    <tr>\n",
       "      <th>строительство жилой недвижимости</th>\n",
       "      <td>7.74</td>\n",
       "    </tr>\n",
       "    <tr>\n",
       "      <th>сыграть свадьбу</th>\n",
       "      <td>7.63</td>\n",
       "    </tr>\n",
       "    <tr>\n",
       "      <th>покупка жилья</th>\n",
       "      <td>7.50</td>\n",
       "    </tr>\n",
       "    <tr>\n",
       "      <th>на покупку подержанного автомобиля</th>\n",
       "      <td>7.43</td>\n",
       "    </tr>\n",
       "    <tr>\n",
       "      <th>операции с жильем</th>\n",
       "      <td>7.42</td>\n",
       "    </tr>\n",
       "    <tr>\n",
       "      <th>образование</th>\n",
       "      <td>7.24</td>\n",
       "    </tr>\n",
       "    <tr>\n",
       "      <th>жилье</th>\n",
       "      <td>7.18</td>\n",
       "    </tr>\n",
       "    <tr>\n",
       "      <th>покупка жилья для семьи</th>\n",
       "      <td>7.06</td>\n",
       "    </tr>\n",
       "    <tr>\n",
       "      <th>покупка коммерческой недвижимости</th>\n",
       "      <td>6.99</td>\n",
       "    </tr>\n",
       "    <tr>\n",
       "      <th>покупка недвижимости</th>\n",
       "      <td>6.98</td>\n",
       "    </tr>\n",
       "    <tr>\n",
       "      <th>покупка жилой недвижимости</th>\n",
       "      <td>6.81</td>\n",
       "    </tr>\n",
       "    <tr>\n",
       "      <th>недвижимость</th>\n",
       "      <td>6.66</td>\n",
       "    </tr>\n",
       "    <tr>\n",
       "      <th>строительство собственной недвижимости</th>\n",
       "      <td>6.53</td>\n",
       "    </tr>\n",
       "    <tr>\n",
       "      <th>ремонт жилью</th>\n",
       "      <td>5.79</td>\n",
       "    </tr>\n",
       "    <tr>\n",
       "      <th>покупка своего жилья</th>\n",
       "      <td>5.49</td>\n",
       "    </tr>\n",
       "  </tbody>\n",
       "</table>\n",
       "</div>"
      ],
      "text/plain": [
       "                                        % должников\n",
       "Цель кредита                                       \n",
       "получение дополнительного образования         11.49\n",
       "сделка с автомобилем                          10.99\n",
       "получение высшего образования                 10.82\n",
       "сделка с подержанным автомобилем              10.60\n",
       "профильное образование                        10.19\n",
       "свой автомобиль                                9.94\n",
       "заняться образованием                          9.56\n",
       "на покупку автомобиля                          9.38\n",
       "автомобили                                     9.24\n",
       "приобретение автомобиля                        9.15\n",
       "на покупку своего автомобиля                   9.13\n",
       "высшее образование                             8.97\n",
       "строительство недвижимости                     8.72\n",
       "заняться высшим образованием                   8.67\n",
       "дополнительное образование                     8.35\n",
       "автомобиль                                     8.35\n",
       "операции с недвижимостью                       8.18\n",
       "получение образования                          8.18\n",
       "свадьба                                        8.10\n",
       "операции с коммерческой недвижимостью          8.06\n",
       "операции со своей недвижимостью                8.03\n",
       "покупка жилья для сдачи                        8.01\n",
       "на проведение свадьбы                          7.99\n",
       "строительство жилой недвижимости               7.74\n",
       "сыграть свадьбу                                7.63\n",
       "покупка жилья                                  7.50\n",
       "на покупку подержанного автомобиля             7.43\n",
       "операции с жильем                              7.42\n",
       "образование                                    7.24\n",
       "жилье                                          7.18\n",
       "покупка жилья для семьи                        7.06\n",
       "покупка коммерческой недвижимости              6.99\n",
       "покупка недвижимости                           6.98\n",
       "покупка жилой недвижимости                     6.81\n",
       "недвижимость                                   6.66\n",
       "строительство собственной недвижимости         6.53\n",
       "ремонт жилью                                   5.79\n",
       "покупка своего жилья                           5.49"
      ]
     },
     "metadata": {},
     "output_type": "display_data"
    }
   ],
   "source": [
    "#создаём сводную таблицу с группировкой по целям кредита (для подробного рассмотрения)\n",
    "purpose_pivot = data.pivot_table(index='purpose', values='debt', aggfunc='mean')\n",
    "\n",
    "#оформляем таблицу\n",
    "purpose_pivot = purpose_pivot.rename(columns={'debt': '% должников'}) \n",
    "purpose_pivot.index.name = 'Цель кредита'\n",
    "purpose_pivot['% должников'] = (purpose_pivot['% должников'] * 100).round(2)\n",
    "purpose_pivot = purpose_pivot.sort_values(by='% должников', ascending=False)\n",
    "\n",
    "display(purpose_pivot)"
   ]
  },
  {
   "cell_type": "code",
   "execution_count": 28,
   "id": "5809a3a3",
   "metadata": {},
   "outputs": [
    {
     "data": {
      "text/html": [
       "<div>\n",
       "<style scoped>\n",
       "    .dataframe tbody tr th:only-of-type {\n",
       "        vertical-align: middle;\n",
       "    }\n",
       "\n",
       "    .dataframe tbody tr th {\n",
       "        vertical-align: top;\n",
       "    }\n",
       "\n",
       "    .dataframe thead th {\n",
       "        text-align: right;\n",
       "    }\n",
       "</style>\n",
       "<table border=\"1\" class=\"dataframe\">\n",
       "  <thead>\n",
       "    <tr style=\"text-align: right;\">\n",
       "      <th></th>\n",
       "      <th>% должников</th>\n",
       "    </tr>\n",
       "    <tr>\n",
       "      <th>Категория кредита</th>\n",
       "      <th></th>\n",
       "    </tr>\n",
       "  </thead>\n",
       "  <tbody>\n",
       "    <tr>\n",
       "      <th>операции с автомобилем</th>\n",
       "      <td>9.35</td>\n",
       "    </tr>\n",
       "    <tr>\n",
       "      <th>получение образования</th>\n",
       "      <td>9.25</td>\n",
       "    </tr>\n",
       "    <tr>\n",
       "      <th>проведение свадьбы</th>\n",
       "      <td>7.91</td>\n",
       "    </tr>\n",
       "    <tr>\n",
       "      <th>операции с недвижимостью</th>\n",
       "      <td>7.26</td>\n",
       "    </tr>\n",
       "  </tbody>\n",
       "</table>\n",
       "</div>"
      ],
      "text/plain": [
       "                          % должников\n",
       "Категория кредита                    \n",
       "операции с автомобилем           9.35\n",
       "получение образования            9.25\n",
       "проведение свадьбы               7.91\n",
       "операции с недвижимостью         7.26"
      ]
     },
     "metadata": {},
     "output_type": "display_data"
    }
   ],
   "source": [
    "#создаём сводную таблицу с группировкой по категориям кредита\n",
    "purpose_category_pivot = data.pivot_table(index='purpose_category', values='debt', aggfunc='mean')\n",
    "\n",
    "#оформляем таблицу\n",
    "purpose_category_pivot = purpose_category_pivot.rename(columns={'debt': '% должников'}) \n",
    "purpose_category_pivot.index.name = 'Категория кредита'\n",
    "purpose_category_pivot['% должников'] = (purpose_category_pivot['% должников'] * 100).round(2)\n",
    "purpose_category_pivot = purpose_category_pivot.sort_values(by='% должников', ascending=False)\n",
    "\n",
    "\n",
    "display(purpose_category_pivot)"
   ]
  },
  {
   "cell_type": "markdown",
   "id": "bbf1f8c2",
   "metadata": {
    "deletable": false,
    "id": "b4bb2ce6"
   },
   "source": [
    "**Вывод:** \n",
    "\n",
    "На первой сводной таблице видно, что самыми безопасными для банка являются клиенты, которые берут кредит для покупки квартиры. А больше всего должников среди тех, кто берёт кредит на дополнительное образование.\n",
    "\n",
    "На второй, обобщённой по категориям таблице, видно, что практически одинаково должников среди тех, кто берёт кредит на операции с автомобилем и на получение образования. Среди тех, кто берёт кредит на недвижимость, также меньше всего должников. "
   ]
  },
  {
   "cell_type": "markdown",
   "id": "20bec6e6",
   "metadata": {
    "deletable": false,
    "editable": false,
    "id": "09c3ac4c"
   },
   "source": [
    "#### 3.5 Возможные причины появления пропусков в исходных данных."
   ]
  },
  {
   "cell_type": "markdown",
   "id": "f6c35667",
   "metadata": {
    "deletable": false,
    "id": "9da2ceda"
   },
   "source": [
    "Пропуски были только в столбцах связанных с работой (количество дней трудоустройства и зарплата), я вижу только два варианта, откуда они могли возникнуть.\n",
    "\n",
    "1. Многие люди просто не хотят указывать данные о своей работе. Однако, данный фактор один из самых важных для банка, при выдаче кредита. Поэтому, без этих данных, банк на вряд ли выдал бы кредит, скорее всего информация о работе обязательна при оформлении кредита.\n",
    "2. Больше вероятен второй вариант: у кредитного отдела банка возникла техническая проблема при выгрузке данных о работе клиентов."
   ]
  },
  {
   "cell_type": "markdown",
   "id": "bd5d2f23",
   "metadata": {
    "deletable": false,
    "editable": false,
    "id": "7b0487d6"
   },
   "source": [
    "#### 3.6 Причина заполнения пропусков медианным значением"
   ]
  },
  {
   "cell_type": "code",
   "execution_count": 29,
   "id": "557d6622",
   "metadata": {},
   "outputs": [
    {
     "data": {
      "text/html": [
       "<div>\n",
       "<style scoped>\n",
       "    .dataframe tbody tr th:only-of-type {\n",
       "        vertical-align: middle;\n",
       "    }\n",
       "\n",
       "    .dataframe tbody tr th {\n",
       "        vertical-align: top;\n",
       "    }\n",
       "\n",
       "    .dataframe thead tr th {\n",
       "        text-align: left;\n",
       "    }\n",
       "\n",
       "    .dataframe thead tr:last-of-type th {\n",
       "        text-align: right;\n",
       "    }\n",
       "</style>\n",
       "<table border=\"1\" class=\"dataframe\">\n",
       "  <thead>\n",
       "    <tr>\n",
       "      <th></th>\n",
       "      <th>min</th>\n",
       "      <th>max</th>\n",
       "      <th>mean</th>\n",
       "      <th>median</th>\n",
       "    </tr>\n",
       "    <tr>\n",
       "      <th></th>\n",
       "      <th></th>\n",
       "      <th></th>\n",
       "      <th></th>\n",
       "      <th></th>\n",
       "    </tr>\n",
       "    <tr>\n",
       "      <th>income_type</th>\n",
       "      <th></th>\n",
       "      <th></th>\n",
       "      <th></th>\n",
       "      <th></th>\n",
       "    </tr>\n",
       "  </thead>\n",
       "  <tbody>\n",
       "    <tr>\n",
       "      <th>безработный</th>\n",
       "      <td>59956</td>\n",
       "      <td>202722</td>\n",
       "      <td>131339.000000</td>\n",
       "      <td>131339</td>\n",
       "    </tr>\n",
       "    <tr>\n",
       "      <th>в декрете</th>\n",
       "      <td>53829</td>\n",
       "      <td>53829</td>\n",
       "      <td>53829.000000</td>\n",
       "      <td>53829</td>\n",
       "    </tr>\n",
       "    <tr>\n",
       "      <th>госслужащий</th>\n",
       "      <td>29200</td>\n",
       "      <td>910451</td>\n",
       "      <td>168728.454859</td>\n",
       "      <td>150447</td>\n",
       "    </tr>\n",
       "    <tr>\n",
       "      <th>компаньон</th>\n",
       "      <td>28702</td>\n",
       "      <td>2265604</td>\n",
       "      <td>199608.615811</td>\n",
       "      <td>172357</td>\n",
       "    </tr>\n",
       "    <tr>\n",
       "      <th>пенсионер</th>\n",
       "      <td>20667</td>\n",
       "      <td>735103</td>\n",
       "      <td>135320.753673</td>\n",
       "      <td>118514</td>\n",
       "    </tr>\n",
       "    <tr>\n",
       "      <th>предприниматель</th>\n",
       "      <td>499163</td>\n",
       "      <td>499163</td>\n",
       "      <td>499163.000000</td>\n",
       "      <td>499163</td>\n",
       "    </tr>\n",
       "    <tr>\n",
       "      <th>сотрудник</th>\n",
       "      <td>21367</td>\n",
       "      <td>1726276</td>\n",
       "      <td>159547.951975</td>\n",
       "      <td>142594</td>\n",
       "    </tr>\n",
       "    <tr>\n",
       "      <th>студент</th>\n",
       "      <td>98201</td>\n",
       "      <td>98201</td>\n",
       "      <td>98201.000000</td>\n",
       "      <td>98201</td>\n",
       "    </tr>\n",
       "  </tbody>\n",
       "</table>\n",
       "</div>"
      ],
      "text/plain": [
       "                    min      max           mean  median\n",
       "                                                       \n",
       "income_type                                            \n",
       "безработный       59956   202722  131339.000000  131339\n",
       "в декрете         53829    53829   53829.000000   53829\n",
       "госслужащий       29200   910451  168728.454859  150447\n",
       "компаньон         28702  2265604  199608.615811  172357\n",
       "пенсионер         20667   735103  135320.753673  118514\n",
       "предприниматель  499163   499163  499163.000000  499163\n",
       "сотрудник         21367  1726276  159547.951975  142594\n",
       "студент           98201    98201   98201.000000   98201"
      ]
     },
     "metadata": {},
     "output_type": "display_data"
    }
   ],
   "source": [
    "#создадим сводную таблицу с медианным, средним, максимальным и минимальным значением зарплаты\n",
    "example = data.pivot_table(index='income_type', values='total_income', aggfunc=['min', 'max', 'mean', 'median'])\n",
    "example = example.rename(columns={'total_income': ''})\n",
    "display(example)"
   ]
  },
  {
   "cell_type": "markdown",
   "id": "bc05ecdc",
   "metadata": {
    "deletable": false,
    "id": "7ecf2b8e"
   },
   "source": [
    "Как видно на таблице выше, значение зарплаты в одной категории может очень сильно отличаться, как, например, в категориях \"сотрудник\", \"пенсионер\", \"госслужащий\" и \"компаньон\". В этом наборе данных, среднее и медианное значение не очень сильно отличается. Однако, если бы, значений в каждой категории было меньше, аномально большие или маленькие значения гораздо сильнее влияли бы на среднее арифметическое. \n",
    "\n",
    "Следовательно, заполнять пропуски средним значением было бы некорректно, оно бы исказило данные. Поэтому, для заполнения пропущенных значений гораздо лучше подходит медиана. Она не исказит данные, даже при наличии аномально больших или маленьких значений."
   ]
  },
  {
   "cell_type": "markdown",
   "id": "616acc63",
   "metadata": {
    "deletable": false,
    "editable": false,
    "id": "6db5255a"
   },
   "source": [
    "### Шаг 4: общий вывод."
   ]
  },
  {
   "cell_type": "markdown",
   "id": "cc0593c4",
   "metadata": {
    "deletable": false,
    "id": "bad65432"
   },
   "source": [
    "При помощи инструментов Python и библиотеки Pandas, были проанализированы данные о платёжеспособности клиентов и выявлены некоторые факторы, которые влияют на оплату кредита в срок:\n",
    "\n",
    "- клиенты, которые были в официальном браке, реже допускают просрочки\n",
    "- клиенты без детей реже допускают просрочки, чем клиенты с детьми, однако, количество детей не так важно\n",
    "- на вероятность неоплаты кредита в срок влияет цель, на которую он был взят\n",
    "- доход точно влияет на оплату кредита в срок, клиенты с высоким доходом реже допускают просрочки, чем клиенты со средним доходом, однако текущих данных недостаточно для репрезентативного вывода по категории людей с низким доходом."
   ]
  }
 ],
 "metadata": {
  "ExecuteTimeLog": [
   {
    "duration": 49,
    "start_time": "2022-08-21T14:56:25.221Z"
   },
   {
    "duration": 699,
    "start_time": "2022-08-21T14:56:38.671Z"
   },
   {
    "duration": 20,
    "start_time": "2022-08-21T14:56:39.372Z"
   },
   {
    "duration": 18,
    "start_time": "2022-08-21T14:56:39.393Z"
   },
   {
    "duration": 12,
    "start_time": "2022-08-21T14:56:39.413Z"
   },
   {
    "duration": 39,
    "start_time": "2022-08-21T14:56:39.428Z"
   },
   {
    "duration": 3,
    "start_time": "2022-08-21T14:56:39.469Z"
   },
   {
    "duration": 10,
    "start_time": "2022-08-21T14:56:39.474Z"
   },
   {
    "duration": 4,
    "start_time": "2022-08-21T14:56:39.485Z"
   },
   {
    "duration": 7,
    "start_time": "2022-08-21T14:56:39.511Z"
   },
   {
    "duration": 8,
    "start_time": "2022-08-21T14:56:39.519Z"
   },
   {
    "duration": 32,
    "start_time": "2022-08-21T14:56:39.528Z"
   },
   {
    "duration": 9,
    "start_time": "2022-08-21T14:56:39.561Z"
   },
   {
    "duration": 4,
    "start_time": "2022-08-21T14:56:39.571Z"
   },
   {
    "duration": 42,
    "start_time": "2022-08-21T14:56:39.577Z"
   },
   {
    "duration": 18,
    "start_time": "2022-08-21T14:56:39.620Z"
   },
   {
    "duration": 20,
    "start_time": "2022-08-21T14:56:39.640Z"
   },
   {
    "duration": 4,
    "start_time": "2022-08-21T14:56:39.662Z"
   },
   {
    "duration": 15,
    "start_time": "2022-08-21T14:56:39.668Z"
   },
   {
    "duration": 27,
    "start_time": "2022-08-21T14:56:39.685Z"
   },
   {
    "duration": 3,
    "start_time": "2022-08-21T14:56:39.713Z"
   },
   {
    "duration": 11,
    "start_time": "2022-08-21T14:56:39.717Z"
   },
   {
    "duration": 5,
    "start_time": "2022-08-21T14:56:42.408Z"
   },
   {
    "duration": 4,
    "start_time": "2022-08-21T14:56:47.963Z"
   },
   {
    "duration": 6,
    "start_time": "2022-08-21T14:56:57.711Z"
   },
   {
    "duration": 74,
    "start_time": "2022-08-21T15:03:39.402Z"
   },
   {
    "duration": 9,
    "start_time": "2022-08-21T15:03:44.734Z"
   },
   {
    "duration": 20,
    "start_time": "2022-08-21T15:03:50.212Z"
   },
   {
    "duration": 13,
    "start_time": "2022-08-21T15:04:06.277Z"
   },
   {
    "duration": 163,
    "start_time": "2022-08-21T15:05:28.628Z"
   },
   {
    "duration": 13,
    "start_time": "2022-08-21T15:05:36.906Z"
   },
   {
    "duration": 16,
    "start_time": "2022-08-21T15:05:52.663Z"
   },
   {
    "duration": 9,
    "start_time": "2022-08-21T15:06:28.405Z"
   },
   {
    "duration": 11,
    "start_time": "2022-08-21T15:06:58.774Z"
   },
   {
    "duration": 14,
    "start_time": "2022-08-21T15:07:56.436Z"
   },
   {
    "duration": 11,
    "start_time": "2022-08-21T15:08:10.097Z"
   },
   {
    "duration": 13,
    "start_time": "2022-08-21T15:08:15.063Z"
   },
   {
    "duration": 17,
    "start_time": "2022-08-21T15:08:42.570Z"
   },
   {
    "duration": 63,
    "start_time": "2022-08-21T15:11:04.030Z"
   },
   {
    "duration": 24,
    "start_time": "2022-08-21T15:11:08.817Z"
   },
   {
    "duration": 13,
    "start_time": "2022-08-21T15:26:39.224Z"
   },
   {
    "duration": 15,
    "start_time": "2022-08-21T15:27:05.878Z"
   },
   {
    "duration": 14,
    "start_time": "2022-08-21T15:28:26.040Z"
   },
   {
    "duration": 14,
    "start_time": "2022-08-21T15:28:57.379Z"
   },
   {
    "duration": 14,
    "start_time": "2022-08-21T15:30:35.407Z"
   },
   {
    "duration": 17,
    "start_time": "2022-08-21T15:31:52.145Z"
   },
   {
    "duration": 12,
    "start_time": "2022-08-21T15:32:43.435Z"
   },
   {
    "duration": 11,
    "start_time": "2022-08-21T15:32:45.383Z"
   },
   {
    "duration": 14,
    "start_time": "2022-08-21T15:32:57.471Z"
   },
   {
    "duration": 15,
    "start_time": "2022-08-21T15:35:28.999Z"
   },
   {
    "duration": 14,
    "start_time": "2022-08-21T15:35:53.365Z"
   },
   {
    "duration": 12,
    "start_time": "2022-08-21T15:36:13.327Z"
   },
   {
    "duration": 20,
    "start_time": "2022-08-21T15:36:41.808Z"
   },
   {
    "duration": 11,
    "start_time": "2022-08-21T15:36:46.969Z"
   },
   {
    "duration": 18,
    "start_time": "2022-08-21T15:36:56.763Z"
   },
   {
    "duration": 18,
    "start_time": "2022-08-21T15:37:49.488Z"
   },
   {
    "duration": 11,
    "start_time": "2022-08-21T15:40:47.403Z"
   },
   {
    "duration": 14,
    "start_time": "2022-08-21T15:43:11.960Z"
   },
   {
    "duration": 16,
    "start_time": "2022-08-21T15:45:25.331Z"
   },
   {
    "duration": 16,
    "start_time": "2022-08-21T15:45:30.534Z"
   },
   {
    "duration": 13,
    "start_time": "2022-08-21T15:48:12.427Z"
   },
   {
    "duration": 15,
    "start_time": "2022-08-21T16:04:37.219Z"
   },
   {
    "duration": 8,
    "start_time": "2022-08-21T16:04:55.920Z"
   },
   {
    "duration": 13,
    "start_time": "2022-08-21T16:06:13.816Z"
   },
   {
    "duration": 14,
    "start_time": "2022-08-21T16:06:27.258Z"
   },
   {
    "duration": 12,
    "start_time": "2022-08-21T16:06:43.594Z"
   },
   {
    "duration": 12,
    "start_time": "2022-08-21T16:06:58.856Z"
   },
   {
    "duration": 13,
    "start_time": "2022-08-21T16:07:15.280Z"
   },
   {
    "duration": 12,
    "start_time": "2022-08-21T16:07:21.156Z"
   },
   {
    "duration": 14,
    "start_time": "2022-08-21T16:09:19.793Z"
   },
   {
    "duration": 13,
    "start_time": "2022-08-21T16:09:41.979Z"
   },
   {
    "duration": 43,
    "start_time": "2022-08-21T23:56:13.894Z"
   },
   {
    "duration": 639,
    "start_time": "2022-08-21T23:56:29.691Z"
   },
   {
    "duration": 21,
    "start_time": "2022-08-21T23:56:30.332Z"
   },
   {
    "duration": 13,
    "start_time": "2022-08-21T23:56:30.354Z"
   },
   {
    "duration": 14,
    "start_time": "2022-08-21T23:56:30.369Z"
   },
   {
    "duration": 31,
    "start_time": "2022-08-21T23:56:30.386Z"
   },
   {
    "duration": 3,
    "start_time": "2022-08-21T23:56:30.419Z"
   },
   {
    "duration": 18,
    "start_time": "2022-08-21T23:56:30.423Z"
   },
   {
    "duration": 15,
    "start_time": "2022-08-21T23:56:30.443Z"
   },
   {
    "duration": 26,
    "start_time": "2022-08-21T23:56:30.459Z"
   },
   {
    "duration": 19,
    "start_time": "2022-08-21T23:56:30.487Z"
   },
   {
    "duration": 48,
    "start_time": "2022-08-21T23:56:30.507Z"
   },
   {
    "duration": 8,
    "start_time": "2022-08-21T23:56:30.557Z"
   },
   {
    "duration": 23,
    "start_time": "2022-08-21T23:56:30.567Z"
   },
   {
    "duration": 22,
    "start_time": "2022-08-21T23:56:30.593Z"
   },
   {
    "duration": 36,
    "start_time": "2022-08-21T23:56:30.617Z"
   },
   {
    "duration": 16,
    "start_time": "2022-08-21T23:56:30.654Z"
   },
   {
    "duration": 12,
    "start_time": "2022-08-21T23:56:30.672Z"
   },
   {
    "duration": 22,
    "start_time": "2022-08-21T23:56:30.686Z"
   },
   {
    "duration": 6,
    "start_time": "2022-08-21T23:56:30.710Z"
   },
   {
    "duration": 55,
    "start_time": "2022-08-21T23:56:30.718Z"
   },
   {
    "duration": 30,
    "start_time": "2022-08-21T23:56:30.775Z"
   },
   {
    "duration": 19,
    "start_time": "2022-08-21T23:56:37.457Z"
   },
   {
    "duration": 16,
    "start_time": "2022-08-21T23:58:17.566Z"
   },
   {
    "duration": 21,
    "start_time": "2022-08-21T23:58:47.198Z"
   },
   {
    "duration": 54,
    "start_time": "2022-08-21T23:59:09.141Z"
   },
   {
    "duration": 55,
    "start_time": "2022-08-21T23:59:16.659Z"
   },
   {
    "duration": 51,
    "start_time": "2022-08-21T23:59:23.359Z"
   },
   {
    "duration": 15,
    "start_time": "2022-08-22T00:00:43.570Z"
   },
   {
    "duration": 16,
    "start_time": "2022-08-22T00:04:21.822Z"
   },
   {
    "duration": 848,
    "start_time": "2022-08-22T00:07:49.094Z"
   },
   {
    "duration": 759,
    "start_time": "2022-08-22T00:08:08.919Z"
   },
   {
    "duration": 853,
    "start_time": "2022-08-22T00:08:21.941Z"
   },
   {
    "duration": 18,
    "start_time": "2022-08-22T00:08:24.044Z"
   },
   {
    "duration": 18,
    "start_time": "2022-08-22T00:09:11.146Z"
   },
   {
    "duration": 24,
    "start_time": "2022-08-22T00:09:19.654Z"
   },
   {
    "duration": 8,
    "start_time": "2022-08-22T00:09:38.179Z"
   },
   {
    "duration": 14,
    "start_time": "2022-08-22T00:09:41.760Z"
   },
   {
    "duration": 14,
    "start_time": "2022-08-22T00:11:31.499Z"
   },
   {
    "duration": 15,
    "start_time": "2022-08-22T00:11:46.508Z"
   },
   {
    "duration": 16,
    "start_time": "2022-08-22T00:12:09.223Z"
   },
   {
    "duration": 16,
    "start_time": "2022-08-22T00:12:30.623Z"
   },
   {
    "duration": 16,
    "start_time": "2022-08-22T00:12:36.403Z"
   },
   {
    "duration": 19,
    "start_time": "2022-08-22T00:19:24.887Z"
   },
   {
    "duration": 19,
    "start_time": "2022-08-22T00:19:32.671Z"
   },
   {
    "duration": 20,
    "start_time": "2022-08-22T00:19:56.411Z"
   },
   {
    "duration": 64,
    "start_time": "2022-08-22T00:33:24.661Z"
   },
   {
    "duration": 60,
    "start_time": "2022-08-22T00:34:00.959Z"
   },
   {
    "duration": 23,
    "start_time": "2022-08-22T00:34:07.999Z"
   },
   {
    "duration": 23,
    "start_time": "2022-08-22T00:34:17.677Z"
   },
   {
    "duration": 22,
    "start_time": "2022-08-22T00:40:21.372Z"
   },
   {
    "duration": 24,
    "start_time": "2022-08-22T00:40:48.428Z"
   },
   {
    "duration": 22,
    "start_time": "2022-08-22T00:41:17.461Z"
   },
   {
    "duration": 5,
    "start_time": "2022-08-22T00:47:07.292Z"
   },
   {
    "duration": 25,
    "start_time": "2022-08-22T00:47:12.584Z"
   },
   {
    "duration": 29,
    "start_time": "2022-08-22T00:47:43.656Z"
   },
   {
    "duration": 24,
    "start_time": "2022-08-22T00:52:07.693Z"
   },
   {
    "duration": 27,
    "start_time": "2022-08-22T00:55:49.861Z"
   },
   {
    "duration": 27,
    "start_time": "2022-08-22T00:56:40.654Z"
   },
   {
    "duration": 25,
    "start_time": "2022-08-22T00:56:49.656Z"
   },
   {
    "duration": 22,
    "start_time": "2022-08-22T00:57:20.368Z"
   },
   {
    "duration": 29,
    "start_time": "2022-08-22T00:58:35.014Z"
   },
   {
    "duration": 24,
    "start_time": "2022-08-22T00:58:53.127Z"
   },
   {
    "duration": 12,
    "start_time": "2022-08-22T01:16:43.471Z"
   },
   {
    "duration": 16,
    "start_time": "2022-08-22T01:17:11.661Z"
   },
   {
    "duration": 19,
    "start_time": "2022-08-22T01:20:09.439Z"
   },
   {
    "duration": 17,
    "start_time": "2022-08-22T01:20:19.571Z"
   },
   {
    "duration": 19,
    "start_time": "2022-08-22T01:39:08.894Z"
   },
   {
    "duration": 17,
    "start_time": "2022-08-22T01:40:08.992Z"
   },
   {
    "duration": 18,
    "start_time": "2022-08-22T01:40:46.014Z"
   },
   {
    "duration": 25,
    "start_time": "2022-08-22T01:42:07.988Z"
   },
   {
    "duration": 18,
    "start_time": "2022-08-22T01:43:36.005Z"
   },
   {
    "duration": 20,
    "start_time": "2022-08-22T01:45:39.181Z"
   },
   {
    "duration": 18,
    "start_time": "2022-08-22T01:45:50.193Z"
   },
   {
    "duration": 17,
    "start_time": "2022-08-22T01:46:03.577Z"
   },
   {
    "duration": 19,
    "start_time": "2022-08-22T01:50:35.572Z"
   },
   {
    "duration": 17,
    "start_time": "2022-08-22T01:50:41.138Z"
   },
   {
    "duration": 5,
    "start_time": "2022-08-22T02:04:02.046Z"
   },
   {
    "duration": 5,
    "start_time": "2022-08-22T02:04:15.124Z"
   },
   {
    "duration": 5,
    "start_time": "2022-08-22T02:07:53.762Z"
   },
   {
    "duration": 512,
    "start_time": "2022-08-22T02:08:06.798Z"
   },
   {
    "duration": 11,
    "start_time": "2022-08-22T02:10:31.786Z"
   },
   {
    "duration": 8,
    "start_time": "2022-08-22T02:12:56.912Z"
   },
   {
    "duration": 7,
    "start_time": "2022-08-22T02:13:21.112Z"
   },
   {
    "duration": 7,
    "start_time": "2022-08-22T02:13:27.370Z"
   },
   {
    "duration": 9,
    "start_time": "2022-08-22T02:14:01.039Z"
   },
   {
    "duration": 445,
    "start_time": "2022-08-22T02:15:36.879Z"
   },
   {
    "duration": 21,
    "start_time": "2022-08-22T02:15:37.326Z"
   },
   {
    "duration": 14,
    "start_time": "2022-08-22T02:15:37.348Z"
   },
   {
    "duration": 8,
    "start_time": "2022-08-22T02:15:37.363Z"
   },
   {
    "duration": 29,
    "start_time": "2022-08-22T02:15:37.373Z"
   },
   {
    "duration": 3,
    "start_time": "2022-08-22T02:15:37.403Z"
   },
   {
    "duration": 9,
    "start_time": "2022-08-22T02:15:37.408Z"
   },
   {
    "duration": 5,
    "start_time": "2022-08-22T02:15:37.418Z"
   },
   {
    "duration": 7,
    "start_time": "2022-08-22T02:15:37.424Z"
   },
   {
    "duration": 29,
    "start_time": "2022-08-22T02:15:37.432Z"
   },
   {
    "duration": 31,
    "start_time": "2022-08-22T02:15:37.462Z"
   },
   {
    "duration": 8,
    "start_time": "2022-08-22T02:15:37.494Z"
   },
   {
    "duration": 5,
    "start_time": "2022-08-22T02:15:37.503Z"
   },
   {
    "duration": 10,
    "start_time": "2022-08-22T02:15:37.510Z"
   },
   {
    "duration": 37,
    "start_time": "2022-08-22T02:15:37.522Z"
   },
   {
    "duration": 15,
    "start_time": "2022-08-22T02:15:37.560Z"
   },
   {
    "duration": 3,
    "start_time": "2022-08-22T02:15:37.576Z"
   },
   {
    "duration": 10,
    "start_time": "2022-08-22T02:15:37.580Z"
   },
   {
    "duration": 4,
    "start_time": "2022-08-22T02:15:37.591Z"
   },
   {
    "duration": 2,
    "start_time": "2022-08-22T02:15:37.597Z"
   },
   {
    "duration": 9,
    "start_time": "2022-08-22T02:15:37.601Z"
   },
   {
    "duration": 19,
    "start_time": "2022-08-22T02:15:37.611Z"
   },
   {
    "duration": 21,
    "start_time": "2022-08-22T02:15:37.658Z"
   },
   {
    "duration": 14,
    "start_time": "2022-08-22T02:15:37.680Z"
   },
   {
    "duration": 16,
    "start_time": "2022-08-22T02:15:37.696Z"
   },
   {
    "duration": 15,
    "start_time": "2022-08-22T02:15:37.713Z"
   },
   {
    "duration": 85,
    "start_time": "2022-08-22T02:15:37.730Z"
   },
   {
    "duration": 57,
    "start_time": "2022-08-22T02:17:53.756Z"
   },
   {
    "duration": 7,
    "start_time": "2022-08-22T02:18:08.336Z"
   },
   {
    "duration": 7,
    "start_time": "2022-08-22T02:18:13.869Z"
   },
   {
    "duration": 415,
    "start_time": "2022-08-22T02:18:58.498Z"
   },
   {
    "duration": 21,
    "start_time": "2022-08-22T02:18:58.915Z"
   },
   {
    "duration": 14,
    "start_time": "2022-08-22T02:18:58.937Z"
   },
   {
    "duration": 12,
    "start_time": "2022-08-22T02:18:58.952Z"
   },
   {
    "duration": 43,
    "start_time": "2022-08-22T02:18:58.966Z"
   },
   {
    "duration": 3,
    "start_time": "2022-08-22T02:18:59.011Z"
   },
   {
    "duration": 29,
    "start_time": "2022-08-22T02:18:59.016Z"
   },
   {
    "duration": 25,
    "start_time": "2022-08-22T02:18:59.047Z"
   },
   {
    "duration": 15,
    "start_time": "2022-08-22T02:18:59.074Z"
   },
   {
    "duration": 4,
    "start_time": "2022-08-22T02:18:59.091Z"
   },
   {
    "duration": 41,
    "start_time": "2022-08-22T02:18:59.096Z"
   },
   {
    "duration": 9,
    "start_time": "2022-08-22T02:18:59.139Z"
   },
   {
    "duration": 9,
    "start_time": "2022-08-22T02:18:59.150Z"
   },
   {
    "duration": 11,
    "start_time": "2022-08-22T02:18:59.161Z"
   },
   {
    "duration": 19,
    "start_time": "2022-08-22T02:18:59.174Z"
   },
   {
    "duration": 16,
    "start_time": "2022-08-22T02:18:59.194Z"
   },
   {
    "duration": 4,
    "start_time": "2022-08-22T02:18:59.211Z"
   },
   {
    "duration": 41,
    "start_time": "2022-08-22T02:18:59.216Z"
   },
   {
    "duration": 7,
    "start_time": "2022-08-22T02:18:59.260Z"
   },
   {
    "duration": 4,
    "start_time": "2022-08-22T02:18:59.269Z"
   },
   {
    "duration": 34,
    "start_time": "2022-08-22T02:18:59.275Z"
   },
   {
    "duration": 21,
    "start_time": "2022-08-22T02:18:59.311Z"
   },
   {
    "duration": 33,
    "start_time": "2022-08-22T02:18:59.333Z"
   },
   {
    "duration": 19,
    "start_time": "2022-08-22T02:18:59.367Z"
   },
   {
    "duration": 23,
    "start_time": "2022-08-22T02:18:59.387Z"
   },
   {
    "duration": 19,
    "start_time": "2022-08-22T02:18:59.412Z"
   },
   {
    "duration": 22,
    "start_time": "2022-08-22T02:18:59.458Z"
   },
   {
    "duration": 27,
    "start_time": "2022-08-22T02:19:38.178Z"
   },
   {
    "duration": 27,
    "start_time": "2022-08-22T02:20:58.096Z"
   },
   {
    "duration": 30,
    "start_time": "2022-08-22T02:21:10.041Z"
   },
   {
    "duration": 88,
    "start_time": "2022-08-22T02:21:37.440Z"
   },
   {
    "duration": 33,
    "start_time": "2022-08-22T02:21:42.116Z"
   },
   {
    "duration": 85,
    "start_time": "2022-08-22T02:22:20.959Z"
   },
   {
    "duration": 21,
    "start_time": "2022-08-22T02:22:36.028Z"
   },
   {
    "duration": 22,
    "start_time": "2022-08-22T02:22:57.591Z"
   },
   {
    "duration": 24,
    "start_time": "2022-08-22T02:23:25.298Z"
   },
   {
    "duration": 845,
    "start_time": "2022-08-22T02:23:39.172Z"
   },
   {
    "duration": 66,
    "start_time": "2022-08-22T02:23:52.081Z"
   },
   {
    "duration": 20,
    "start_time": "2022-08-22T02:23:59.039Z"
   },
   {
    "duration": 20,
    "start_time": "2022-08-22T02:24:35.111Z"
   },
   {
    "duration": 70,
    "start_time": "2022-08-22T02:24:49.287Z"
   },
   {
    "duration": 22,
    "start_time": "2022-08-22T02:25:22.718Z"
   },
   {
    "duration": 17,
    "start_time": "2022-08-22T02:25:54.045Z"
   },
   {
    "duration": 25,
    "start_time": "2022-08-22T02:26:00.094Z"
   },
   {
    "duration": 34,
    "start_time": "2022-08-22T02:26:55.958Z"
   },
   {
    "duration": 35,
    "start_time": "2022-08-22T02:33:40.632Z"
   },
   {
    "duration": 486,
    "start_time": "2022-08-22T02:40:14.988Z"
   },
   {
    "duration": 21,
    "start_time": "2022-08-22T02:40:17.431Z"
   },
   {
    "duration": 14,
    "start_time": "2022-08-22T02:40:22.374Z"
   },
   {
    "duration": 10,
    "start_time": "2022-08-22T02:41:17.805Z"
   },
   {
    "duration": 9,
    "start_time": "2022-08-22T02:41:24.227Z"
   },
   {
    "duration": 9,
    "start_time": "2022-08-22T02:41:57.537Z"
   },
   {
    "duration": 8,
    "start_time": "2022-08-22T02:42:06.038Z"
   },
   {
    "duration": 2,
    "start_time": "2022-08-22T02:42:42.404Z"
   },
   {
    "duration": 4,
    "start_time": "2022-08-22T02:42:57.434Z"
   },
   {
    "duration": 9,
    "start_time": "2022-08-22T02:43:20.192Z"
   },
   {
    "duration": 480,
    "start_time": "2022-08-22T02:43:50.014Z"
   },
   {
    "duration": 21,
    "start_time": "2022-08-22T02:43:50.496Z"
   },
   {
    "duration": 15,
    "start_time": "2022-08-22T02:43:50.518Z"
   },
   {
    "duration": 23,
    "start_time": "2022-08-22T02:43:50.534Z"
   },
   {
    "duration": 30,
    "start_time": "2022-08-22T02:43:50.559Z"
   },
   {
    "duration": 3,
    "start_time": "2022-08-22T02:43:50.591Z"
   },
   {
    "duration": 11,
    "start_time": "2022-08-22T02:43:50.595Z"
   },
   {
    "duration": 4,
    "start_time": "2022-08-22T02:43:50.608Z"
   },
   {
    "duration": 9,
    "start_time": "2022-08-22T02:43:50.613Z"
   },
   {
    "duration": 33,
    "start_time": "2022-08-22T02:43:50.624Z"
   },
   {
    "duration": 29,
    "start_time": "2022-08-22T02:43:50.658Z"
   },
   {
    "duration": 8,
    "start_time": "2022-08-22T02:43:50.689Z"
   },
   {
    "duration": 7,
    "start_time": "2022-08-22T02:43:50.699Z"
   },
   {
    "duration": 14,
    "start_time": "2022-08-22T02:43:50.708Z"
   },
   {
    "duration": 20,
    "start_time": "2022-08-22T02:43:50.724Z"
   },
   {
    "duration": 15,
    "start_time": "2022-08-22T02:43:50.757Z"
   },
   {
    "duration": 4,
    "start_time": "2022-08-22T02:43:50.773Z"
   },
   {
    "duration": 14,
    "start_time": "2022-08-22T02:43:50.778Z"
   },
   {
    "duration": 6,
    "start_time": "2022-08-22T02:43:50.793Z"
   },
   {
    "duration": 4,
    "start_time": "2022-08-22T02:43:50.801Z"
   },
   {
    "duration": 21,
    "start_time": "2022-08-22T02:43:50.806Z"
   },
   {
    "duration": 37,
    "start_time": "2022-08-22T02:43:50.828Z"
   },
   {
    "duration": 32,
    "start_time": "2022-08-22T02:43:50.867Z"
   },
   {
    "duration": 20,
    "start_time": "2022-08-22T02:43:50.901Z"
   },
   {
    "duration": 46,
    "start_time": "2022-08-22T02:43:50.923Z"
   },
   {
    "duration": 22,
    "start_time": "2022-08-22T02:43:50.971Z"
   },
   {
    "duration": 36,
    "start_time": "2022-08-22T02:43:50.995Z"
   },
   {
    "duration": 89,
    "start_time": "2022-08-22T09:07:12.574Z"
   },
   {
    "duration": 45,
    "start_time": "2022-08-22T09:07:35.016Z"
   },
   {
    "duration": 683,
    "start_time": "2022-08-22T09:07:51.972Z"
   },
   {
    "duration": 21,
    "start_time": "2022-08-22T09:07:52.656Z"
   },
   {
    "duration": 16,
    "start_time": "2022-08-22T09:07:52.678Z"
   },
   {
    "duration": 8,
    "start_time": "2022-08-22T09:07:52.696Z"
   },
   {
    "duration": 30,
    "start_time": "2022-08-22T09:07:52.705Z"
   },
   {
    "duration": 4,
    "start_time": "2022-08-22T09:07:52.736Z"
   },
   {
    "duration": 10,
    "start_time": "2022-08-22T09:07:52.741Z"
   },
   {
    "duration": 4,
    "start_time": "2022-08-22T09:07:52.752Z"
   },
   {
    "duration": 9,
    "start_time": "2022-08-22T09:07:52.757Z"
   },
   {
    "duration": 3,
    "start_time": "2022-08-22T09:07:52.769Z"
   },
   {
    "duration": 52,
    "start_time": "2022-08-22T09:07:52.773Z"
   },
   {
    "duration": 8,
    "start_time": "2022-08-22T09:07:52.827Z"
   },
   {
    "duration": 3,
    "start_time": "2022-08-22T09:07:52.837Z"
   },
   {
    "duration": 17,
    "start_time": "2022-08-22T09:07:52.841Z"
   },
   {
    "duration": 42,
    "start_time": "2022-08-22T09:07:52.859Z"
   },
   {
    "duration": 17,
    "start_time": "2022-08-22T09:07:52.903Z"
   },
   {
    "duration": 4,
    "start_time": "2022-08-22T09:07:52.921Z"
   },
   {
    "duration": 14,
    "start_time": "2022-08-22T09:07:52.927Z"
   },
   {
    "duration": 6,
    "start_time": "2022-08-22T09:07:52.943Z"
   },
   {
    "duration": 6,
    "start_time": "2022-08-22T09:07:52.951Z"
   },
   {
    "duration": 10,
    "start_time": "2022-08-22T09:07:52.958Z"
   },
   {
    "duration": 40,
    "start_time": "2022-08-22T09:07:52.969Z"
   },
   {
    "duration": 23,
    "start_time": "2022-08-22T09:07:53.010Z"
   },
   {
    "duration": 1376,
    "start_time": "2022-08-22T09:07:53.034Z"
   },
   {
    "duration": 0,
    "start_time": "2022-08-22T09:07:54.412Z"
   },
   {
    "duration": 0,
    "start_time": "2022-08-22T09:07:54.414Z"
   },
   {
    "duration": 0,
    "start_time": "2022-08-22T09:07:54.415Z"
   },
   {
    "duration": 1421,
    "start_time": "2022-08-22T09:10:46.957Z"
   },
   {
    "duration": 27,
    "start_time": "2022-08-22T09:11:19.284Z"
   },
   {
    "duration": 21,
    "start_time": "2022-08-22T09:11:59.391Z"
   },
   {
    "duration": 3,
    "start_time": "2022-08-22T09:13:27.232Z"
   },
   {
    "duration": 20,
    "start_time": "2022-08-22T09:13:32.412Z"
   },
   {
    "duration": 24,
    "start_time": "2022-08-22T09:14:42.603Z"
   },
   {
    "duration": 26,
    "start_time": "2022-08-22T09:14:57.950Z"
   },
   {
    "duration": 23,
    "start_time": "2022-08-22T09:16:23.515Z"
   },
   {
    "duration": 30,
    "start_time": "2022-08-22T09:19:14.195Z"
   },
   {
    "duration": 22,
    "start_time": "2022-08-22T09:26:18.292Z"
   },
   {
    "duration": 21,
    "start_time": "2022-08-22T09:27:32.780Z"
   },
   {
    "duration": 24,
    "start_time": "2022-08-22T09:29:46.480Z"
   },
   {
    "duration": 23,
    "start_time": "2022-08-22T09:29:58.518Z"
   },
   {
    "duration": 22,
    "start_time": "2022-08-22T09:30:12.345Z"
   },
   {
    "duration": 21,
    "start_time": "2022-08-22T09:30:51.077Z"
   },
   {
    "duration": 20,
    "start_time": "2022-08-22T09:30:56.684Z"
   },
   {
    "duration": 25,
    "start_time": "2022-08-22T09:32:11.617Z"
   },
   {
    "duration": 24,
    "start_time": "2022-08-22T09:32:19.724Z"
   },
   {
    "duration": 53,
    "start_time": "2022-08-22T09:32:28.994Z"
   },
   {
    "duration": 25,
    "start_time": "2022-08-22T09:32:35.662Z"
   },
   {
    "duration": 28,
    "start_time": "2022-08-22T09:33:20.443Z"
   },
   {
    "duration": 28,
    "start_time": "2022-08-22T09:33:31.603Z"
   },
   {
    "duration": 67,
    "start_time": "2022-08-22T09:38:45.330Z"
   },
   {
    "duration": 14,
    "start_time": "2022-08-22T09:38:45.399Z"
   },
   {
    "duration": 18,
    "start_time": "2022-08-22T09:38:45.414Z"
   },
   {
    "duration": 9,
    "start_time": "2022-08-22T09:38:45.433Z"
   },
   {
    "duration": 54,
    "start_time": "2022-08-22T09:38:45.444Z"
   },
   {
    "duration": 4,
    "start_time": "2022-08-22T09:38:45.499Z"
   },
   {
    "duration": 17,
    "start_time": "2022-08-22T09:38:45.505Z"
   },
   {
    "duration": 16,
    "start_time": "2022-08-22T09:38:45.524Z"
   },
   {
    "duration": 6,
    "start_time": "2022-08-22T09:38:45.542Z"
   },
   {
    "duration": 6,
    "start_time": "2022-08-22T09:38:45.549Z"
   },
   {
    "duration": 60,
    "start_time": "2022-08-22T09:38:45.557Z"
   },
   {
    "duration": 14,
    "start_time": "2022-08-22T09:38:45.619Z"
   },
   {
    "duration": 4,
    "start_time": "2022-08-22T09:38:45.634Z"
   },
   {
    "duration": 16,
    "start_time": "2022-08-22T09:38:45.641Z"
   },
   {
    "duration": 45,
    "start_time": "2022-08-22T09:38:45.658Z"
   },
   {
    "duration": 26,
    "start_time": "2022-08-22T09:38:45.705Z"
   },
   {
    "duration": 4,
    "start_time": "2022-08-22T09:38:45.733Z"
   },
   {
    "duration": 14,
    "start_time": "2022-08-22T09:38:45.738Z"
   },
   {
    "duration": 15,
    "start_time": "2022-08-22T09:38:45.754Z"
   },
   {
    "duration": 3,
    "start_time": "2022-08-22T09:38:45.771Z"
   },
   {
    "duration": 29,
    "start_time": "2022-08-22T09:38:45.776Z"
   },
   {
    "duration": 25,
    "start_time": "2022-08-22T09:38:45.806Z"
   },
   {
    "duration": 23,
    "start_time": "2022-08-22T09:38:45.832Z"
   },
   {
    "duration": 51,
    "start_time": "2022-08-22T09:38:45.857Z"
   },
   {
    "duration": 17,
    "start_time": "2022-08-22T09:38:45.909Z"
   },
   {
    "duration": 17,
    "start_time": "2022-08-22T09:38:45.928Z"
   },
   {
    "duration": 61,
    "start_time": "2022-08-22T09:38:45.946Z"
   },
   {
    "duration": 431,
    "start_time": "2022-08-22T09:55:12.237Z"
   },
   {
    "duration": 21,
    "start_time": "2022-08-22T09:55:12.669Z"
   },
   {
    "duration": 13,
    "start_time": "2022-08-22T09:55:12.691Z"
   },
   {
    "duration": 8,
    "start_time": "2022-08-22T09:55:12.706Z"
   },
   {
    "duration": 28,
    "start_time": "2022-08-22T09:55:12.716Z"
   },
   {
    "duration": 4,
    "start_time": "2022-08-22T09:55:12.745Z"
   },
   {
    "duration": 11,
    "start_time": "2022-08-22T09:55:12.750Z"
   },
   {
    "duration": 4,
    "start_time": "2022-08-22T09:55:12.763Z"
   },
   {
    "duration": 33,
    "start_time": "2022-08-22T09:55:12.769Z"
   },
   {
    "duration": 4,
    "start_time": "2022-08-22T09:55:12.804Z"
   },
   {
    "duration": 30,
    "start_time": "2022-08-22T09:55:12.809Z"
   },
   {
    "duration": 8,
    "start_time": "2022-08-22T09:55:12.842Z"
   },
   {
    "duration": 7,
    "start_time": "2022-08-22T09:55:12.851Z"
   },
   {
    "duration": 39,
    "start_time": "2022-08-22T09:55:12.860Z"
   },
   {
    "duration": 18,
    "start_time": "2022-08-22T09:55:12.900Z"
   },
   {
    "duration": 16,
    "start_time": "2022-08-22T09:55:12.920Z"
   },
   {
    "duration": 4,
    "start_time": "2022-08-22T09:55:12.937Z"
   },
   {
    "duration": 11,
    "start_time": "2022-08-22T09:55:12.942Z"
   },
   {
    "duration": 5,
    "start_time": "2022-08-22T09:55:12.955Z"
   },
   {
    "duration": 5,
    "start_time": "2022-08-22T09:55:12.961Z"
   },
   {
    "duration": 37,
    "start_time": "2022-08-22T09:55:12.967Z"
   },
   {
    "duration": 25,
    "start_time": "2022-08-22T09:55:13.006Z"
   },
   {
    "duration": 24,
    "start_time": "2022-08-22T09:55:13.033Z"
   },
   {
    "duration": 1243,
    "start_time": "2022-08-22T09:55:13.059Z"
   },
   {
    "duration": 0,
    "start_time": "2022-08-22T09:55:14.303Z"
   },
   {
    "duration": 0,
    "start_time": "2022-08-22T09:55:14.304Z"
   },
   {
    "duration": 0,
    "start_time": "2022-08-22T09:55:14.305Z"
   },
   {
    "duration": 63,
    "start_time": "2022-08-22T09:55:34.098Z"
   },
   {
    "duration": 13,
    "start_time": "2022-08-22T09:55:34.163Z"
   },
   {
    "duration": 17,
    "start_time": "2022-08-22T09:55:34.177Z"
   },
   {
    "duration": 9,
    "start_time": "2022-08-22T09:55:34.195Z"
   },
   {
    "duration": 29,
    "start_time": "2022-08-22T09:55:34.205Z"
   },
   {
    "duration": 2,
    "start_time": "2022-08-22T09:55:34.236Z"
   },
   {
    "duration": 9,
    "start_time": "2022-08-22T09:55:34.240Z"
   },
   {
    "duration": 4,
    "start_time": "2022-08-22T09:55:34.250Z"
   },
   {
    "duration": 8,
    "start_time": "2022-08-22T09:55:34.256Z"
   },
   {
    "duration": 33,
    "start_time": "2022-08-22T09:55:34.265Z"
   },
   {
    "duration": 33,
    "start_time": "2022-08-22T09:55:34.300Z"
   },
   {
    "duration": 10,
    "start_time": "2022-08-22T09:55:34.334Z"
   },
   {
    "duration": 4,
    "start_time": "2022-08-22T09:55:34.345Z"
   },
   {
    "duration": 10,
    "start_time": "2022-08-22T09:55:34.351Z"
   },
   {
    "duration": 48,
    "start_time": "2022-08-22T09:55:34.363Z"
   },
   {
    "duration": 21,
    "start_time": "2022-08-22T09:55:34.413Z"
   },
   {
    "duration": 7,
    "start_time": "2022-08-22T09:55:34.436Z"
   },
   {
    "duration": 20,
    "start_time": "2022-08-22T09:55:34.444Z"
   },
   {
    "duration": 13,
    "start_time": "2022-08-22T09:55:34.466Z"
   },
   {
    "duration": 21,
    "start_time": "2022-08-22T09:55:34.480Z"
   },
   {
    "duration": 13,
    "start_time": "2022-08-22T09:55:34.503Z"
   },
   {
    "duration": 21,
    "start_time": "2022-08-22T09:55:34.520Z"
   },
   {
    "duration": 28,
    "start_time": "2022-08-22T09:55:34.543Z"
   },
   {
    "duration": 807,
    "start_time": "2022-08-22T09:55:37.199Z"
   },
   {
    "duration": 14,
    "start_time": "2022-08-22T09:56:23.631Z"
   },
   {
    "duration": 30,
    "start_time": "2022-08-22T09:57:55.819Z"
   },
   {
    "duration": 736,
    "start_time": "2022-08-22T09:58:20.584Z"
   },
   {
    "duration": 29,
    "start_time": "2022-08-22T09:58:43.626Z"
   },
   {
    "duration": 23,
    "start_time": "2022-08-22T09:58:48.654Z"
   },
   {
    "duration": 23,
    "start_time": "2022-08-22T10:05:46.882Z"
   },
   {
    "duration": 21,
    "start_time": "2022-08-22T10:06:01.089Z"
   },
   {
    "duration": 449,
    "start_time": "2022-08-22T10:06:36.417Z"
   },
   {
    "duration": 21,
    "start_time": "2022-08-22T10:06:36.868Z"
   },
   {
    "duration": 18,
    "start_time": "2022-08-22T10:06:36.890Z"
   },
   {
    "duration": 9,
    "start_time": "2022-08-22T10:06:36.909Z"
   },
   {
    "duration": 35,
    "start_time": "2022-08-22T10:06:36.919Z"
   },
   {
    "duration": 3,
    "start_time": "2022-08-22T10:06:36.955Z"
   },
   {
    "duration": 16,
    "start_time": "2022-08-22T10:06:36.960Z"
   },
   {
    "duration": 4,
    "start_time": "2022-08-22T10:06:36.977Z"
   },
   {
    "duration": 20,
    "start_time": "2022-08-22T10:06:36.982Z"
   },
   {
    "duration": 4,
    "start_time": "2022-08-22T10:06:37.006Z"
   },
   {
    "duration": 34,
    "start_time": "2022-08-22T10:06:37.011Z"
   },
   {
    "duration": 8,
    "start_time": "2022-08-22T10:06:37.047Z"
   },
   {
    "duration": 3,
    "start_time": "2022-08-22T10:06:37.057Z"
   },
   {
    "duration": 12,
    "start_time": "2022-08-22T10:06:37.061Z"
   },
   {
    "duration": 19,
    "start_time": "2022-08-22T10:06:37.098Z"
   },
   {
    "duration": 16,
    "start_time": "2022-08-22T10:06:37.118Z"
   },
   {
    "duration": 3,
    "start_time": "2022-08-22T10:06:37.136Z"
   },
   {
    "duration": 10,
    "start_time": "2022-08-22T10:06:37.141Z"
   },
   {
    "duration": 8,
    "start_time": "2022-08-22T10:06:37.152Z"
   },
   {
    "duration": 7,
    "start_time": "2022-08-22T10:06:37.162Z"
   },
   {
    "duration": 32,
    "start_time": "2022-08-22T10:06:37.170Z"
   },
   {
    "duration": 23,
    "start_time": "2022-08-22T10:06:37.203Z"
   },
   {
    "duration": 27,
    "start_time": "2022-08-22T10:06:37.227Z"
   },
   {
    "duration": 44,
    "start_time": "2022-08-22T10:06:37.255Z"
   },
   {
    "duration": 17,
    "start_time": "2022-08-22T10:06:37.301Z"
   },
   {
    "duration": 15,
    "start_time": "2022-08-22T10:06:37.320Z"
   },
   {
    "duration": 37,
    "start_time": "2022-08-22T10:06:37.337Z"
   },
   {
    "duration": 85,
    "start_time": "2022-08-22T10:07:33.685Z"
   },
   {
    "duration": 41,
    "start_time": "2022-08-22T10:07:50.261Z"
   },
   {
    "duration": 424,
    "start_time": "2022-08-22T10:09:08.344Z"
   },
   {
    "duration": 22,
    "start_time": "2022-08-22T10:09:08.770Z"
   },
   {
    "duration": 15,
    "start_time": "2022-08-22T10:09:08.793Z"
   },
   {
    "duration": 9,
    "start_time": "2022-08-22T10:09:08.810Z"
   },
   {
    "duration": 29,
    "start_time": "2022-08-22T10:09:08.821Z"
   },
   {
    "duration": 3,
    "start_time": "2022-08-22T10:09:08.851Z"
   },
   {
    "duration": 10,
    "start_time": "2022-08-22T10:09:08.856Z"
   },
   {
    "duration": 4,
    "start_time": "2022-08-22T10:09:08.868Z"
   },
   {
    "duration": 7,
    "start_time": "2022-08-22T10:09:08.898Z"
   },
   {
    "duration": 4,
    "start_time": "2022-08-22T10:09:08.907Z"
   },
   {
    "duration": 29,
    "start_time": "2022-08-22T10:09:08.912Z"
   },
   {
    "duration": 8,
    "start_time": "2022-08-22T10:09:08.943Z"
   },
   {
    "duration": 14,
    "start_time": "2022-08-22T10:09:08.952Z"
   },
   {
    "duration": 11,
    "start_time": "2022-08-22T10:09:08.967Z"
   },
   {
    "duration": 23,
    "start_time": "2022-08-22T10:09:08.998Z"
   },
   {
    "duration": 16,
    "start_time": "2022-08-22T10:09:09.022Z"
   },
   {
    "duration": 3,
    "start_time": "2022-08-22T10:09:09.040Z"
   },
   {
    "duration": 11,
    "start_time": "2022-08-22T10:09:09.044Z"
   },
   {
    "duration": 4,
    "start_time": "2022-08-22T10:09:09.057Z"
   },
   {
    "duration": 3,
    "start_time": "2022-08-22T10:09:09.063Z"
   },
   {
    "duration": 32,
    "start_time": "2022-08-22T10:09:09.067Z"
   },
   {
    "duration": 18,
    "start_time": "2022-08-22T10:09:09.101Z"
   },
   {
    "duration": 22,
    "start_time": "2022-08-22T10:09:09.120Z"
   },
   {
    "duration": 65,
    "start_time": "2022-08-22T10:09:09.144Z"
   },
   {
    "duration": 17,
    "start_time": "2022-08-22T10:09:09.210Z"
   },
   {
    "duration": 14,
    "start_time": "2022-08-22T10:09:09.229Z"
   },
   {
    "duration": 34,
    "start_time": "2022-08-22T10:09:09.244Z"
   },
   {
    "duration": 39,
    "start_time": "2022-08-22T10:11:42.185Z"
   },
   {
    "duration": 459,
    "start_time": "2022-08-22T10:13:54.547Z"
   },
   {
    "duration": 21,
    "start_time": "2022-08-22T10:13:55.008Z"
   },
   {
    "duration": 14,
    "start_time": "2022-08-22T10:13:55.031Z"
   },
   {
    "duration": 8,
    "start_time": "2022-08-22T10:13:55.047Z"
   },
   {
    "duration": 51,
    "start_time": "2022-08-22T10:13:55.056Z"
   },
   {
    "duration": 2,
    "start_time": "2022-08-22T10:13:55.109Z"
   },
   {
    "duration": 10,
    "start_time": "2022-08-22T10:13:55.113Z"
   },
   {
    "duration": 3,
    "start_time": "2022-08-22T10:13:55.124Z"
   },
   {
    "duration": 9,
    "start_time": "2022-08-22T10:13:55.128Z"
   },
   {
    "duration": 4,
    "start_time": "2022-08-22T10:13:55.139Z"
   },
   {
    "duration": 32,
    "start_time": "2022-08-22T10:13:55.144Z"
   },
   {
    "duration": 28,
    "start_time": "2022-08-22T10:13:55.177Z"
   },
   {
    "duration": 3,
    "start_time": "2022-08-22T10:13:55.207Z"
   },
   {
    "duration": 13,
    "start_time": "2022-08-22T10:13:55.212Z"
   },
   {
    "duration": 22,
    "start_time": "2022-08-22T10:13:55.226Z"
   },
   {
    "duration": 16,
    "start_time": "2022-08-22T10:13:55.250Z"
   },
   {
    "duration": 31,
    "start_time": "2022-08-22T10:13:55.268Z"
   },
   {
    "duration": 11,
    "start_time": "2022-08-22T10:13:55.300Z"
   },
   {
    "duration": 7,
    "start_time": "2022-08-22T10:13:55.313Z"
   },
   {
    "duration": 4,
    "start_time": "2022-08-22T10:13:55.321Z"
   },
   {
    "duration": 11,
    "start_time": "2022-08-22T10:13:55.327Z"
   },
   {
    "duration": 19,
    "start_time": "2022-08-22T10:13:55.339Z"
   },
   {
    "duration": 55,
    "start_time": "2022-08-22T10:13:55.360Z"
   },
   {
    "duration": 40,
    "start_time": "2022-08-22T10:13:55.416Z"
   },
   {
    "duration": 18,
    "start_time": "2022-08-22T10:13:55.458Z"
   },
   {
    "duration": 17,
    "start_time": "2022-08-22T10:13:55.497Z"
   },
   {
    "duration": 36,
    "start_time": "2022-08-22T10:13:55.516Z"
   },
   {
    "duration": 40,
    "start_time": "2022-08-22T10:15:14.294Z"
   },
   {
    "duration": 40,
    "start_time": "2022-08-22T10:18:33.422Z"
   },
   {
    "duration": 42,
    "start_time": "2022-08-22T10:18:51.734Z"
   },
   {
    "duration": 44,
    "start_time": "2022-08-22T10:19:21.207Z"
   },
   {
    "duration": 43,
    "start_time": "2022-08-22T10:19:38.866Z"
   },
   {
    "duration": 28,
    "start_time": "2022-08-22T10:21:59.501Z"
   },
   {
    "duration": 31,
    "start_time": "2022-08-22T10:22:28.086Z"
   },
   {
    "duration": 36,
    "start_time": "2022-08-22T10:22:31.769Z"
   },
   {
    "duration": 35,
    "start_time": "2022-08-22T10:22:34.821Z"
   },
   {
    "duration": 902,
    "start_time": "2022-08-22T10:24:03.202Z"
   },
   {
    "duration": 27,
    "start_time": "2022-08-22T10:24:18.540Z"
   },
   {
    "duration": 416,
    "start_time": "2022-08-22T10:24:29.253Z"
   },
   {
    "duration": 24,
    "start_time": "2022-08-22T10:24:29.671Z"
   },
   {
    "duration": 14,
    "start_time": "2022-08-22T10:24:29.696Z"
   },
   {
    "duration": 9,
    "start_time": "2022-08-22T10:24:29.712Z"
   },
   {
    "duration": 36,
    "start_time": "2022-08-22T10:24:29.723Z"
   },
   {
    "duration": 3,
    "start_time": "2022-08-22T10:24:29.761Z"
   },
   {
    "duration": 9,
    "start_time": "2022-08-22T10:24:29.766Z"
   },
   {
    "duration": 5,
    "start_time": "2022-08-22T10:24:29.799Z"
   },
   {
    "duration": 11,
    "start_time": "2022-08-22T10:24:29.806Z"
   },
   {
    "duration": 5,
    "start_time": "2022-08-22T10:24:29.819Z"
   },
   {
    "duration": 33,
    "start_time": "2022-08-22T10:24:29.825Z"
   },
   {
    "duration": 11,
    "start_time": "2022-08-22T10:24:29.859Z"
   },
   {
    "duration": 4,
    "start_time": "2022-08-22T10:24:29.898Z"
   },
   {
    "duration": 11,
    "start_time": "2022-08-22T10:24:29.905Z"
   },
   {
    "duration": 18,
    "start_time": "2022-08-22T10:24:29.918Z"
   },
   {
    "duration": 19,
    "start_time": "2022-08-22T10:24:29.938Z"
   },
   {
    "duration": 3,
    "start_time": "2022-08-22T10:24:29.959Z"
   },
   {
    "duration": 34,
    "start_time": "2022-08-22T10:24:29.964Z"
   },
   {
    "duration": 10,
    "start_time": "2022-08-22T10:24:30.000Z"
   },
   {
    "duration": 6,
    "start_time": "2022-08-22T10:24:30.012Z"
   },
   {
    "duration": 18,
    "start_time": "2022-08-22T10:24:30.020Z"
   },
   {
    "duration": 20,
    "start_time": "2022-08-22T10:24:30.039Z"
   },
   {
    "duration": 39,
    "start_time": "2022-08-22T10:24:30.061Z"
   },
   {
    "duration": 28,
    "start_time": "2022-08-22T10:24:30.102Z"
   },
   {
    "duration": 36,
    "start_time": "2022-08-22T10:24:30.131Z"
   },
   {
    "duration": 39,
    "start_time": "2022-08-22T10:24:30.168Z"
   },
   {
    "duration": 15,
    "start_time": "2022-08-22T10:24:30.209Z"
   },
   {
    "duration": 45,
    "start_time": "2022-08-22T10:24:30.225Z"
   },
   {
    "duration": 37,
    "start_time": "2022-08-22T10:27:09.967Z"
   },
   {
    "duration": 35,
    "start_time": "2022-08-22T10:28:56.881Z"
   },
   {
    "duration": 473,
    "start_time": "2022-08-22T10:29:07.973Z"
   },
   {
    "duration": 19,
    "start_time": "2022-08-22T10:29:08.448Z"
   },
   {
    "duration": 13,
    "start_time": "2022-08-22T10:29:08.468Z"
   },
   {
    "duration": 18,
    "start_time": "2022-08-22T10:29:08.483Z"
   },
   {
    "duration": 36,
    "start_time": "2022-08-22T10:29:08.503Z"
   },
   {
    "duration": 4,
    "start_time": "2022-08-22T10:29:08.540Z"
   },
   {
    "duration": 11,
    "start_time": "2022-08-22T10:29:08.545Z"
   },
   {
    "duration": 10,
    "start_time": "2022-08-22T10:29:08.558Z"
   },
   {
    "duration": 29,
    "start_time": "2022-08-22T10:29:08.570Z"
   },
   {
    "duration": 4,
    "start_time": "2022-08-22T10:29:08.602Z"
   },
   {
    "duration": 33,
    "start_time": "2022-08-22T10:29:08.608Z"
   },
   {
    "duration": 9,
    "start_time": "2022-08-22T10:29:08.642Z"
   },
   {
    "duration": 4,
    "start_time": "2022-08-22T10:29:08.653Z"
   },
   {
    "duration": 12,
    "start_time": "2022-08-22T10:29:08.658Z"
   },
   {
    "duration": 45,
    "start_time": "2022-08-22T10:29:08.672Z"
   },
   {
    "duration": 15,
    "start_time": "2022-08-22T10:29:08.719Z"
   },
   {
    "duration": 4,
    "start_time": "2022-08-22T10:29:08.735Z"
   },
   {
    "duration": 11,
    "start_time": "2022-08-22T10:29:08.740Z"
   },
   {
    "duration": 8,
    "start_time": "2022-08-22T10:29:08.753Z"
   },
   {
    "duration": 3,
    "start_time": "2022-08-22T10:29:08.762Z"
   },
   {
    "duration": 34,
    "start_time": "2022-08-22T10:29:08.766Z"
   },
   {
    "duration": 18,
    "start_time": "2022-08-22T10:29:08.801Z"
   },
   {
    "duration": 22,
    "start_time": "2022-08-22T10:29:08.821Z"
   },
   {
    "duration": 25,
    "start_time": "2022-08-22T10:29:08.844Z"
   },
   {
    "duration": 55,
    "start_time": "2022-08-22T10:29:08.870Z"
   },
   {
    "duration": 17,
    "start_time": "2022-08-22T10:29:08.927Z"
   },
   {
    "duration": 15,
    "start_time": "2022-08-22T10:29:08.946Z"
   },
   {
    "duration": 60,
    "start_time": "2022-08-22T10:29:08.965Z"
   },
   {
    "duration": 37,
    "start_time": "2022-08-22T10:29:59.219Z"
   },
   {
    "duration": 34,
    "start_time": "2022-08-22T10:39:48.492Z"
   },
   {
    "duration": 480,
    "start_time": "2022-08-22T10:56:37.476Z"
   },
   {
    "duration": 30,
    "start_time": "2022-08-22T10:56:37.959Z"
   },
   {
    "duration": 27,
    "start_time": "2022-08-22T10:56:37.991Z"
   },
   {
    "duration": 14,
    "start_time": "2022-08-22T10:56:38.020Z"
   },
   {
    "duration": 31,
    "start_time": "2022-08-22T10:56:38.035Z"
   },
   {
    "duration": 3,
    "start_time": "2022-08-22T10:56:38.068Z"
   },
   {
    "duration": 13,
    "start_time": "2022-08-22T10:56:38.073Z"
   },
   {
    "duration": 4,
    "start_time": "2022-08-22T10:56:38.087Z"
   },
   {
    "duration": 9,
    "start_time": "2022-08-22T10:56:38.099Z"
   },
   {
    "duration": 4,
    "start_time": "2022-08-22T10:56:38.111Z"
   },
   {
    "duration": 33,
    "start_time": "2022-08-22T10:56:38.117Z"
   },
   {
    "duration": 9,
    "start_time": "2022-08-22T10:56:38.152Z"
   },
   {
    "duration": 37,
    "start_time": "2022-08-22T10:56:38.163Z"
   },
   {
    "duration": 11,
    "start_time": "2022-08-22T10:56:38.201Z"
   },
   {
    "duration": 25,
    "start_time": "2022-08-22T10:56:38.214Z"
   },
   {
    "duration": 16,
    "start_time": "2022-08-22T10:56:38.241Z"
   },
   {
    "duration": 4,
    "start_time": "2022-08-22T10:56:38.259Z"
   },
   {
    "duration": 13,
    "start_time": "2022-08-22T10:56:38.264Z"
   },
   {
    "duration": 23,
    "start_time": "2022-08-22T10:56:38.279Z"
   },
   {
    "duration": 3,
    "start_time": "2022-08-22T10:56:38.303Z"
   },
   {
    "duration": 10,
    "start_time": "2022-08-22T10:56:38.307Z"
   },
   {
    "duration": 18,
    "start_time": "2022-08-22T10:56:38.319Z"
   },
   {
    "duration": 23,
    "start_time": "2022-08-22T10:56:38.339Z"
   },
   {
    "duration": 51,
    "start_time": "2022-08-22T10:56:38.363Z"
   },
   {
    "duration": 36,
    "start_time": "2022-08-22T10:56:38.416Z"
   },
   {
    "duration": 17,
    "start_time": "2022-08-22T10:56:38.454Z"
   },
   {
    "duration": 42,
    "start_time": "2022-08-22T10:56:38.472Z"
   },
   {
    "duration": 39,
    "start_time": "2022-08-22T10:56:38.518Z"
   }
  ],
  "colab": {
   "name": "dpp_template_part2.ipynb",
   "provenance": []
  },
  "kernelspec": {
   "display_name": "Python 3 (ipykernel)",
   "language": "python",
   "name": "python3"
  },
  "language_info": {
   "codemirror_mode": {
    "name": "ipython",
    "version": 3
   },
   "file_extension": ".py",
   "mimetype": "text/x-python",
   "name": "python",
   "nbconvert_exporter": "python",
   "pygments_lexer": "ipython3",
   "version": "3.9.12"
  },
  "toc": {
   "base_numbering": 1,
   "nav_menu": {},
   "number_sections": true,
   "sideBar": true,
   "skip_h1_title": true,
   "title_cell": "Table of Contents",
   "title_sidebar": "Contents",
   "toc_cell": false,
   "toc_position": {},
   "toc_section_display": true,
   "toc_window_display": false
  }
 },
 "nbformat": 4,
 "nbformat_minor": 5
}
