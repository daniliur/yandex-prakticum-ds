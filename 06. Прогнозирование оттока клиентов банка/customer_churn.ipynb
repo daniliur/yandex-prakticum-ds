{
 "cells": [
  {
   "cell_type": "markdown",
   "metadata": {},
   "source": [
    "# Отток клиентов"
   ]
  },
  {
   "cell_type": "markdown",
   "metadata": {},
   "source": [
    "Необходимо спрогнозировать, уйдёт клиент из банка в ближайшее время или нет. Нам предоставлены исторические данные о поведении клиентов и расторжении договоров с банком. \n",
    "\n",
    "Нужно построить модель с предельно большим значением *F1*-меры. Минимальное значение метрики должно быть 0.59. *F1*-мера будет считаться на тестовой выборке.\n",
    "\n",
    "Дополнительно нужно измерить *AUC-ROC*, и сравнить её значение с *F1*-мерой.\n",
    "\n",
    "Источник данных: [https://www.kaggle.com/barelydedicated/bank-customer-churn-modeling](https://www.kaggle.com/barelydedicated/bank-customer-churn-modeling)"
   ]
  },
  {
   "cell_type": "markdown",
   "metadata": {},
   "source": [
    "<h1>Содержание<span class=\"tocSkip\"></span></h1>\n",
    "<div class=\"toc\"><ul class=\"toc-item\"><li><span><a href=\"#Подготовка-данных\" data-toc-modified-id=\"Подготовка-данных-1\"><span class=\"toc-item-num\">1&nbsp;&nbsp;</span>Подготовка данных</a></span><ul class=\"toc-item\"><li><span><a href=\"#Загрузка-данных,-просмотр-информации\" data-toc-modified-id=\"Загрузка-данных,-просмотр-информации-1.1\"><span class=\"toc-item-num\">1.1&nbsp;&nbsp;</span>Загрузка данных, просмотр информации</a></span></li><li><span><a href=\"#Заполнение-пропусков-и-изменение-типов-данных\" data-toc-modified-id=\"Заполнение-пропусков-и-изменение-типов-данных-1.2\"><span class=\"toc-item-num\">1.2&nbsp;&nbsp;</span>Заполнение пропусков и изменение типов данных</a></span></li><li><span><a href=\"#Разделение-на-выборки,-масштабирование-признаков-и-удаление-лишних-признаков\" data-toc-modified-id=\"Разделение-на-выборки,-масштабирование-признаков-и-удаление-лишних-признаков-1.3\"><span class=\"toc-item-num\">1.3&nbsp;&nbsp;</span>Разделение на выборки, масштабирование признаков и удаление лишних признаков</a></span></li><li><span><a href=\"#Кодирование-категориальных-признаков-через-OneHotEncoder\" data-toc-modified-id=\"Кодирование-категориальных-признаков-через-OneHotEncoder-1.4\"><span class=\"toc-item-num\">1.4&nbsp;&nbsp;</span>Кодирование категориальных признаков через OneHotEncoder</a></span></li></ul></li><li><span><a href=\"#Исследование-задачи\" data-toc-modified-id=\"Исследование-задачи-2\"><span class=\"toc-item-num\">2&nbsp;&nbsp;</span>Исследование задачи</a></span><ul class=\"toc-item\"><li><span><a href=\"#Исследование-баланса-классов\" data-toc-modified-id=\"Исследование-баланса-классов-2.1\"><span class=\"toc-item-num\">2.1&nbsp;&nbsp;</span>Исследование баланса классов</a></span></li><li><span><a href=\"#Модели-без-учёта-дизбаланса-классов\" data-toc-modified-id=\"Модели-без-учёта-дизбаланса-классов-2.2\"><span class=\"toc-item-num\">2.2&nbsp;&nbsp;</span>Модели без учёта дизбаланса классов</a></span><ul class=\"toc-item\"><li><span><a href=\"#DecisionTreeClassifier()\" data-toc-modified-id=\"DecisionTreeClassifier()-2.2.1\"><span class=\"toc-item-num\">2.2.1&nbsp;&nbsp;</span><code>DecisionTreeClassifier()</code></a></span></li><li><span><a href=\"#RandomForestClassifier()\" data-toc-modified-id=\"RandomForestClassifier()-2.2.2\"><span class=\"toc-item-num\">2.2.2&nbsp;&nbsp;</span><code>RandomForestClassifier()</code></a></span></li><li><span><a href=\"#LogisticRegression()\" data-toc-modified-id=\"LogisticRegression()-2.2.3\"><span class=\"toc-item-num\">2.2.3&nbsp;&nbsp;</span><code>LogisticRegression()</code></a></span></li></ul></li></ul></li><li><span><a href=\"#Борьба-с-дисбалансом\" data-toc-modified-id=\"Борьба-с-дисбалансом-3\"><span class=\"toc-item-num\">3&nbsp;&nbsp;</span>Борьба с дисбалансом</a></span><ul class=\"toc-item\"><li><span><a href=\"#Устранение-дизбаланса-классов-алгоритмом-SMOTE\" data-toc-modified-id=\"Устранение-дизбаланса-классов-алгоритмом-SMOTE-3.1\"><span class=\"toc-item-num\">3.1&nbsp;&nbsp;</span>Устранение дизбаланса классов алгоритмом SMOTE</a></span></li><li><span><a href=\"#Устранение-дисбаланса-классов-с-помощью-RandomUnderSampler\" data-toc-modified-id=\"Устранение-дисбаланса-классов-с-помощью-RandomUnderSampler-3.2\"><span class=\"toc-item-num\">3.2&nbsp;&nbsp;</span>Устранение дисбаланса классов с помощью RandomUnderSampler</a></span></li><li><span><a href=\"#Проверка-моделей-после-устранения-дисбаланса-классов\" data-toc-modified-id=\"Проверка-моделей-после-устранения-дисбаланса-классов-3.3\"><span class=\"toc-item-num\">3.3&nbsp;&nbsp;</span>Проверка моделей после устранения дисбаланса классов</a></span><ul class=\"toc-item\"><li><span><a href=\"#DecisionTreeClassifier()\" data-toc-modified-id=\"DecisionTreeClassifier()-3.3.1\"><span class=\"toc-item-num\">3.3.1&nbsp;&nbsp;</span><code>DecisionTreeClassifier()</code></a></span></li><li><span><a href=\"#RandomForestClassifier()\" data-toc-modified-id=\"RandomForestClassifier()-3.3.2\"><span class=\"toc-item-num\">3.3.2&nbsp;&nbsp;</span><code>RandomForestClassifier()</code></a></span></li><li><span><a href=\"#LogisticRegression()\" data-toc-modified-id=\"LogisticRegression()-3.3.3\"><span class=\"toc-item-num\">3.3.3&nbsp;&nbsp;</span><code>LogisticRegression()</code></a></span></li></ul></li></ul></li><li><span><a href=\"#Тестирование-модели\" data-toc-modified-id=\"Тестирование-модели-4\"><span class=\"toc-item-num\">4&nbsp;&nbsp;</span>Тестирование модели</a></span><ul class=\"toc-item\"><li><span><a href=\"#Лучшая-модель-на-тестовых-данных.\" data-toc-modified-id=\"Лучшая-модель-на-тестовых-данных.-4.1\"><span class=\"toc-item-num\">4.1&nbsp;&nbsp;</span>Лучшая модель на тестовых данных.</a></span></li><li><span><a href=\"#AUC-ROC\" data-toc-modified-id=\"AUC-ROC-4.2\"><span class=\"toc-item-num\">4.2&nbsp;&nbsp;</span>AUC-ROC</a></span></li></ul></li><li><span><a href=\"#Вывод\" data-toc-modified-id=\"Вывод-5\"><span class=\"toc-item-num\">5&nbsp;&nbsp;</span>Вывод</a></span></li><li><span><a href=\"#Чек-лист-готовности-проекта\" data-toc-modified-id=\"Чек-лист-готовности-проекта-6\"><span class=\"toc-item-num\">6&nbsp;&nbsp;</span>Чек-лист готовности проекта</a></span></li></ul></div>"
   ]
  },
  {
   "cell_type": "markdown",
   "metadata": {},
   "source": [
    "## Подготовка данных"
   ]
  },
  {
   "cell_type": "code",
   "execution_count": 1,
   "metadata": {},
   "outputs": [
    {
     "name": "stdout",
     "output_type": "stream",
     "text": [
      "Requirement already satisfied: imbalanced-learn in c:\\users\\acer\\anaconda3\\lib\\site-packages (0.12.0)Note: you may need to restart the kernel to use updated packages.\n",
      "Requirement already satisfied: scipy>=1.5.0 in c:\\users\\acer\\anaconda3\\lib\\site-packages (from imbalanced-learn) (1.9.3)\n",
      "Requirement already satisfied: joblib>=1.1.1 in c:\\users\\acer\\anaconda3\\lib\\site-packages (from imbalanced-learn) (1.2.0)\n",
      "Requirement already satisfied: numpy>=1.17.3 in c:\\users\\acer\\anaconda3\\lib\\site-packages (from imbalanced-learn) (1.23.5)\n",
      "Requirement already satisfied: threadpoolctl>=2.0.0 in c:\\users\\acer\\anaconda3\\lib\\site-packages (from imbalanced-learn) (2.2.0)\n",
      "Requirement already satisfied: scikit-learn>=1.0.2 in c:\\users\\acer\\anaconda3\\lib\\site-packages (from imbalanced-learn) (1.2.2)\n",
      "\n"
     ]
    }
   ],
   "source": [
    "pip install -U imbalanced-learn"
   ]
  },
  {
   "cell_type": "code",
   "execution_count": 2,
   "metadata": {},
   "outputs": [],
   "source": [
    "import warnings\n",
    "warnings.filterwarnings('ignore')\n",
    "\n",
    "import pandas as pd\n",
    "\n",
    "from sklearn.ensemble import RandomForestClassifier\n",
    "from sklearn.tree import DecisionTreeClassifier\n",
    "from sklearn.linear_model import LogisticRegression\n",
    "\n",
    "from sklearn.model_selection import train_test_split\n",
    "\n",
    "from sklearn.metrics import roc_auc_score, f1_score\n",
    "\n",
    "from sklearn.preprocessing import OneHotEncoder\n",
    "from sklearn.preprocessing import StandardScaler\n",
    "\n",
    "from matplotlib import pyplot as plt \n",
    "\n",
    "from imblearn.over_sampling import SMOTE\n",
    "from imblearn.under_sampling import RandomUnderSampler"
   ]
  },
  {
   "cell_type": "markdown",
   "metadata": {},
   "source": [
    "### Загрузка данных, просмотр информации"
   ]
  },
  {
   "cell_type": "markdown",
   "metadata": {},
   "source": [
    "Загрузим данные в переменную `data`. Выведем основную информацию."
   ]
  },
  {
   "cell_type": "code",
   "execution_count": 3,
   "metadata": {},
   "outputs": [
    {
     "name": "stdout",
     "output_type": "stream",
     "text": [
      "<class 'pandas.core.frame.DataFrame'>\n",
      "RangeIndex: 10000 entries, 0 to 9999\n",
      "Data columns (total 14 columns):\n",
      " #   Column           Non-Null Count  Dtype  \n",
      "---  ------           --------------  -----  \n",
      " 0   RowNumber        10000 non-null  int64  \n",
      " 1   CustomerId       10000 non-null  int64  \n",
      " 2   Surname          10000 non-null  object \n",
      " 3   CreditScore      10000 non-null  int64  \n",
      " 4   Geography        10000 non-null  object \n",
      " 5   Gender           10000 non-null  object \n",
      " 6   Age              10000 non-null  int64  \n",
      " 7   Tenure           9091 non-null   float64\n",
      " 8   Balance          10000 non-null  float64\n",
      " 9   NumOfProducts    10000 non-null  int64  \n",
      " 10  HasCrCard        10000 non-null  int64  \n",
      " 11  IsActiveMember   10000 non-null  int64  \n",
      " 12  EstimatedSalary  10000 non-null  float64\n",
      " 13  Exited           10000 non-null  int64  \n",
      "dtypes: float64(3), int64(8), object(3)\n",
      "memory usage: 1.1+ MB\n"
     ]
    }
   ],
   "source": [
    "data = pd.read_csv('churn.csv')\n",
    "data.info()"
   ]
  },
  {
   "cell_type": "markdown",
   "metadata": {},
   "source": [
    "В столбце `'Tenure'` есть 909 пропусков. Их нужно будет обработать."
   ]
  },
  {
   "cell_type": "code",
   "execution_count": 4,
   "metadata": {},
   "outputs": [
    {
     "data": {
      "text/html": [
       "<div>\n",
       "<style scoped>\n",
       "    .dataframe tbody tr th:only-of-type {\n",
       "        vertical-align: middle;\n",
       "    }\n",
       "\n",
       "    .dataframe tbody tr th {\n",
       "        vertical-align: top;\n",
       "    }\n",
       "\n",
       "    .dataframe thead th {\n",
       "        text-align: right;\n",
       "    }\n",
       "</style>\n",
       "<table border=\"1\" class=\"dataframe\">\n",
       "  <thead>\n",
       "    <tr style=\"text-align: right;\">\n",
       "      <th></th>\n",
       "      <th>RowNumber</th>\n",
       "      <th>CustomerId</th>\n",
       "      <th>Surname</th>\n",
       "      <th>CreditScore</th>\n",
       "      <th>Geography</th>\n",
       "      <th>Gender</th>\n",
       "      <th>Age</th>\n",
       "      <th>Tenure</th>\n",
       "      <th>Balance</th>\n",
       "      <th>NumOfProducts</th>\n",
       "      <th>HasCrCard</th>\n",
       "      <th>IsActiveMember</th>\n",
       "      <th>EstimatedSalary</th>\n",
       "      <th>Exited</th>\n",
       "    </tr>\n",
       "  </thead>\n",
       "  <tbody>\n",
       "    <tr>\n",
       "      <th>0</th>\n",
       "      <td>1</td>\n",
       "      <td>15634602</td>\n",
       "      <td>Hargrave</td>\n",
       "      <td>619</td>\n",
       "      <td>France</td>\n",
       "      <td>Female</td>\n",
       "      <td>42</td>\n",
       "      <td>2.0</td>\n",
       "      <td>0.00</td>\n",
       "      <td>1</td>\n",
       "      <td>1</td>\n",
       "      <td>1</td>\n",
       "      <td>101348.88</td>\n",
       "      <td>1</td>\n",
       "    </tr>\n",
       "    <tr>\n",
       "      <th>1</th>\n",
       "      <td>2</td>\n",
       "      <td>15647311</td>\n",
       "      <td>Hill</td>\n",
       "      <td>608</td>\n",
       "      <td>Spain</td>\n",
       "      <td>Female</td>\n",
       "      <td>41</td>\n",
       "      <td>1.0</td>\n",
       "      <td>83807.86</td>\n",
       "      <td>1</td>\n",
       "      <td>0</td>\n",
       "      <td>1</td>\n",
       "      <td>112542.58</td>\n",
       "      <td>0</td>\n",
       "    </tr>\n",
       "    <tr>\n",
       "      <th>2</th>\n",
       "      <td>3</td>\n",
       "      <td>15619304</td>\n",
       "      <td>Onio</td>\n",
       "      <td>502</td>\n",
       "      <td>France</td>\n",
       "      <td>Female</td>\n",
       "      <td>42</td>\n",
       "      <td>8.0</td>\n",
       "      <td>159660.80</td>\n",
       "      <td>3</td>\n",
       "      <td>1</td>\n",
       "      <td>0</td>\n",
       "      <td>113931.57</td>\n",
       "      <td>1</td>\n",
       "    </tr>\n",
       "    <tr>\n",
       "      <th>3</th>\n",
       "      <td>4</td>\n",
       "      <td>15701354</td>\n",
       "      <td>Boni</td>\n",
       "      <td>699</td>\n",
       "      <td>France</td>\n",
       "      <td>Female</td>\n",
       "      <td>39</td>\n",
       "      <td>1.0</td>\n",
       "      <td>0.00</td>\n",
       "      <td>2</td>\n",
       "      <td>0</td>\n",
       "      <td>0</td>\n",
       "      <td>93826.63</td>\n",
       "      <td>0</td>\n",
       "    </tr>\n",
       "    <tr>\n",
       "      <th>4</th>\n",
       "      <td>5</td>\n",
       "      <td>15737888</td>\n",
       "      <td>Mitchell</td>\n",
       "      <td>850</td>\n",
       "      <td>Spain</td>\n",
       "      <td>Female</td>\n",
       "      <td>43</td>\n",
       "      <td>2.0</td>\n",
       "      <td>125510.82</td>\n",
       "      <td>1</td>\n",
       "      <td>1</td>\n",
       "      <td>1</td>\n",
       "      <td>79084.10</td>\n",
       "      <td>0</td>\n",
       "    </tr>\n",
       "  </tbody>\n",
       "</table>\n",
       "</div>"
      ],
      "text/plain": [
       "   RowNumber  CustomerId   Surname  CreditScore Geography  Gender  Age  \\\n",
       "0          1    15634602  Hargrave          619    France  Female   42   \n",
       "1          2    15647311      Hill          608     Spain  Female   41   \n",
       "2          3    15619304      Onio          502    France  Female   42   \n",
       "3          4    15701354      Boni          699    France  Female   39   \n",
       "4          5    15737888  Mitchell          850     Spain  Female   43   \n",
       "\n",
       "   Tenure    Balance  NumOfProducts  HasCrCard  IsActiveMember  \\\n",
       "0     2.0       0.00              1          1               1   \n",
       "1     1.0   83807.86              1          0               1   \n",
       "2     8.0  159660.80              3          1               0   \n",
       "3     1.0       0.00              2          0               0   \n",
       "4     2.0  125510.82              1          1               1   \n",
       "\n",
       "   EstimatedSalary  Exited  \n",
       "0        101348.88       1  \n",
       "1        112542.58       0  \n",
       "2        113931.57       1  \n",
       "3         93826.63       0  \n",
       "4         79084.10       0  "
      ]
     },
     "execution_count": 4,
     "metadata": {},
     "output_type": "execute_result"
    }
   ],
   "source": [
    "data.head()"
   ]
  },
  {
   "cell_type": "code",
   "execution_count": 5,
   "metadata": {},
   "outputs": [
    {
     "data": {
      "text/html": [
       "<div>\n",
       "<style scoped>\n",
       "    .dataframe tbody tr th:only-of-type {\n",
       "        vertical-align: middle;\n",
       "    }\n",
       "\n",
       "    .dataframe tbody tr th {\n",
       "        vertical-align: top;\n",
       "    }\n",
       "\n",
       "    .dataframe thead th {\n",
       "        text-align: right;\n",
       "    }\n",
       "</style>\n",
       "<table border=\"1\" class=\"dataframe\">\n",
       "  <thead>\n",
       "    <tr style=\"text-align: right;\">\n",
       "      <th></th>\n",
       "      <th>RowNumber</th>\n",
       "      <th>CustomerId</th>\n",
       "      <th>CreditScore</th>\n",
       "      <th>Age</th>\n",
       "      <th>Tenure</th>\n",
       "      <th>Balance</th>\n",
       "      <th>NumOfProducts</th>\n",
       "      <th>HasCrCard</th>\n",
       "      <th>IsActiveMember</th>\n",
       "      <th>EstimatedSalary</th>\n",
       "      <th>Exited</th>\n",
       "    </tr>\n",
       "  </thead>\n",
       "  <tbody>\n",
       "    <tr>\n",
       "      <th>count</th>\n",
       "      <td>10000.00000</td>\n",
       "      <td>1.000000e+04</td>\n",
       "      <td>10000.000000</td>\n",
       "      <td>10000.000000</td>\n",
       "      <td>9091.000000</td>\n",
       "      <td>10000.000000</td>\n",
       "      <td>10000.000000</td>\n",
       "      <td>10000.00000</td>\n",
       "      <td>10000.000000</td>\n",
       "      <td>10000.000000</td>\n",
       "      <td>10000.000000</td>\n",
       "    </tr>\n",
       "    <tr>\n",
       "      <th>mean</th>\n",
       "      <td>5000.50000</td>\n",
       "      <td>1.569094e+07</td>\n",
       "      <td>650.528800</td>\n",
       "      <td>38.921800</td>\n",
       "      <td>4.997690</td>\n",
       "      <td>76485.889288</td>\n",
       "      <td>1.530200</td>\n",
       "      <td>0.70550</td>\n",
       "      <td>0.515100</td>\n",
       "      <td>100090.239881</td>\n",
       "      <td>0.203700</td>\n",
       "    </tr>\n",
       "    <tr>\n",
       "      <th>std</th>\n",
       "      <td>2886.89568</td>\n",
       "      <td>7.193619e+04</td>\n",
       "      <td>96.653299</td>\n",
       "      <td>10.487806</td>\n",
       "      <td>2.894723</td>\n",
       "      <td>62397.405202</td>\n",
       "      <td>0.581654</td>\n",
       "      <td>0.45584</td>\n",
       "      <td>0.499797</td>\n",
       "      <td>57510.492818</td>\n",
       "      <td>0.402769</td>\n",
       "    </tr>\n",
       "    <tr>\n",
       "      <th>min</th>\n",
       "      <td>1.00000</td>\n",
       "      <td>1.556570e+07</td>\n",
       "      <td>350.000000</td>\n",
       "      <td>18.000000</td>\n",
       "      <td>0.000000</td>\n",
       "      <td>0.000000</td>\n",
       "      <td>1.000000</td>\n",
       "      <td>0.00000</td>\n",
       "      <td>0.000000</td>\n",
       "      <td>11.580000</td>\n",
       "      <td>0.000000</td>\n",
       "    </tr>\n",
       "    <tr>\n",
       "      <th>25%</th>\n",
       "      <td>2500.75000</td>\n",
       "      <td>1.562853e+07</td>\n",
       "      <td>584.000000</td>\n",
       "      <td>32.000000</td>\n",
       "      <td>2.000000</td>\n",
       "      <td>0.000000</td>\n",
       "      <td>1.000000</td>\n",
       "      <td>0.00000</td>\n",
       "      <td>0.000000</td>\n",
       "      <td>51002.110000</td>\n",
       "      <td>0.000000</td>\n",
       "    </tr>\n",
       "    <tr>\n",
       "      <th>50%</th>\n",
       "      <td>5000.50000</td>\n",
       "      <td>1.569074e+07</td>\n",
       "      <td>652.000000</td>\n",
       "      <td>37.000000</td>\n",
       "      <td>5.000000</td>\n",
       "      <td>97198.540000</td>\n",
       "      <td>1.000000</td>\n",
       "      <td>1.00000</td>\n",
       "      <td>1.000000</td>\n",
       "      <td>100193.915000</td>\n",
       "      <td>0.000000</td>\n",
       "    </tr>\n",
       "    <tr>\n",
       "      <th>75%</th>\n",
       "      <td>7500.25000</td>\n",
       "      <td>1.575323e+07</td>\n",
       "      <td>718.000000</td>\n",
       "      <td>44.000000</td>\n",
       "      <td>7.000000</td>\n",
       "      <td>127644.240000</td>\n",
       "      <td>2.000000</td>\n",
       "      <td>1.00000</td>\n",
       "      <td>1.000000</td>\n",
       "      <td>149388.247500</td>\n",
       "      <td>0.000000</td>\n",
       "    </tr>\n",
       "    <tr>\n",
       "      <th>max</th>\n",
       "      <td>10000.00000</td>\n",
       "      <td>1.581569e+07</td>\n",
       "      <td>850.000000</td>\n",
       "      <td>92.000000</td>\n",
       "      <td>10.000000</td>\n",
       "      <td>250898.090000</td>\n",
       "      <td>4.000000</td>\n",
       "      <td>1.00000</td>\n",
       "      <td>1.000000</td>\n",
       "      <td>199992.480000</td>\n",
       "      <td>1.000000</td>\n",
       "    </tr>\n",
       "  </tbody>\n",
       "</table>\n",
       "</div>"
      ],
      "text/plain": [
       "         RowNumber    CustomerId   CreditScore           Age       Tenure  \\\n",
       "count  10000.00000  1.000000e+04  10000.000000  10000.000000  9091.000000   \n",
       "mean    5000.50000  1.569094e+07    650.528800     38.921800     4.997690   \n",
       "std     2886.89568  7.193619e+04     96.653299     10.487806     2.894723   \n",
       "min        1.00000  1.556570e+07    350.000000     18.000000     0.000000   \n",
       "25%     2500.75000  1.562853e+07    584.000000     32.000000     2.000000   \n",
       "50%     5000.50000  1.569074e+07    652.000000     37.000000     5.000000   \n",
       "75%     7500.25000  1.575323e+07    718.000000     44.000000     7.000000   \n",
       "max    10000.00000  1.581569e+07    850.000000     92.000000    10.000000   \n",
       "\n",
       "             Balance  NumOfProducts    HasCrCard  IsActiveMember  \\\n",
       "count   10000.000000   10000.000000  10000.00000    10000.000000   \n",
       "mean    76485.889288       1.530200      0.70550        0.515100   \n",
       "std     62397.405202       0.581654      0.45584        0.499797   \n",
       "min         0.000000       1.000000      0.00000        0.000000   \n",
       "25%         0.000000       1.000000      0.00000        0.000000   \n",
       "50%     97198.540000       1.000000      1.00000        1.000000   \n",
       "75%    127644.240000       2.000000      1.00000        1.000000   \n",
       "max    250898.090000       4.000000      1.00000        1.000000   \n",
       "\n",
       "       EstimatedSalary        Exited  \n",
       "count     10000.000000  10000.000000  \n",
       "mean     100090.239881      0.203700  \n",
       "std       57510.492818      0.402769  \n",
       "min          11.580000      0.000000  \n",
       "25%       51002.110000      0.000000  \n",
       "50%      100193.915000      0.000000  \n",
       "75%      149388.247500      0.000000  \n",
       "max      199992.480000      1.000000  "
      ]
     },
     "execution_count": 5,
     "metadata": {},
     "output_type": "execute_result"
    }
   ],
   "source": [
    "data.describe()"
   ]
  },
  {
   "cell_type": "markdown",
   "metadata": {},
   "source": [
    "Приведём названия всех столбцов к snake_case:"
   ]
  },
  {
   "cell_type": "code",
   "execution_count": 6,
   "metadata": {},
   "outputs": [],
   "source": [
    "columns = {\n",
    "    'RowNumber': 'row_number',\n",
    "    'CustomerId': 'customer_id',\n",
    "    'Surname': 'surname',\n",
    "    'CreditScore': 'credit_score',\n",
    "    'Geography': 'geography',\n",
    "    'Gender': 'gender',\n",
    "    'Age': 'age',\n",
    "    'Tenure': 'tenure',\n",
    "    'Balance': 'balance',\n",
    "    'NumOfProducts': 'num_of_products',\n",
    "    'HasCrCard': 'has_credit_card',\n",
    "    'IsActiveMember': 'is_active_member',\n",
    "    'EstimatedSalary': 'estimated_salary',\n",
    "    'Exited': 'exited'\n",
    "}"
   ]
  },
  {
   "cell_type": "code",
   "execution_count": 7,
   "metadata": {},
   "outputs": [
    {
     "data": {
      "text/plain": [
       "Index(['row_number', 'customer_id', 'surname', 'credit_score', 'geography',\n",
       "       'gender', 'age', 'tenure', 'balance', 'num_of_products',\n",
       "       'has_credit_card', 'is_active_member', 'estimated_salary', 'exited'],\n",
       "      dtype='object')"
      ]
     },
     "execution_count": 7,
     "metadata": {},
     "output_type": "execute_result"
    }
   ],
   "source": [
    "data = data.rename(columns=columns)\n",
    "data.columns"
   ]
  },
  {
   "cell_type": "markdown",
   "metadata": {},
   "source": [
    "### Заполнение пропусков и изменение типов данных"
   ]
  },
  {
   "cell_type": "code",
   "execution_count": 8,
   "metadata": {},
   "outputs": [
    {
     "data": {
      "image/png": "[encoded data removed]",
      "text/plain": [
       "<Figure size 1440x720 with 1 Axes>"
      ]
     },
     "metadata": {
      "needs_background": "light"
     },
     "output_type": "display_data"
    }
   ],
   "source": [
    "data['tenure'].hist(figsize=(20, 10)).tick_params(labelsize=15)\n",
    "plt.title('Гистограмма для количества лет, в течение которых люди являются клиентами банка', fontsize=20)\n",
    "plt.ylabel('Кол-во клиентов', fontsize=20)\n",
    "plt.xlabel('Срок (лет)', fontsize=20);"
   ]
  },
  {
   "cell_type": "markdown",
   "metadata": {},
   "source": [
    "Заполним пропуски в столбце `'tenure'` средним значением по каждой из возрастных групп, с шагом в 10 лет."
   ]
  },
  {
   "cell_type": "code",
   "execution_count": 9,
   "metadata": {},
   "outputs": [
    {
     "data": {
      "text/plain": [
       "0"
      ]
     },
     "execution_count": 9,
     "metadata": {},
     "output_type": "execute_result"
    }
   ],
   "source": [
    "for age in range(20, 101, 10):\n",
    "    data.loc[(data['age'] <= age) & (data['tenure'].isna()), ['tenure']] = \\\n",
    "    int(data.loc[(data['age'] <= age) & (data['age'] > age - 10)]['tenure'].mean())\n",
    "    \n",
    "data['tenure'].isna().sum()"
   ]
  },
  {
   "cell_type": "code",
   "execution_count": 10,
   "metadata": {},
   "outputs": [
    {
     "data": {
      "image/png": "[encoded data removed]",
      "text/plain": [
       "<Figure size 1440x720 with 1 Axes>"
      ]
     },
     "metadata": {
      "needs_background": "light"
     },
     "output_type": "display_data"
    }
   ],
   "source": [
    "data['tenure'].hist(figsize=(20, 10)).tick_params(labelsize=15)\n",
    "plt.title('Гистограмма для количества лет, в течение которых люди являются клиентами банка (после заполнения пропусков)', fontsize=17)\n",
    "plt.ylabel('Кол-во клиентов', fontsize=20)\n",
    "plt.xlabel('Срок (лет)', fontsize=20);"
   ]
  },
  {
   "cell_type": "markdown",
   "metadata": {},
   "source": [
    "По гистограмме видим, что большинство пропусков заполнилось значениями 4 и 5."
   ]
  },
  {
   "cell_type": "markdown",
   "metadata": {},
   "source": [
    "Поменяем тип данных в столбцах `'tenure'`, `'estimated_salary'` и `'balance'` на целочисленный: копейки в доходе и балансе не должны повлиять на результат."
   ]
  },
  {
   "cell_type": "code",
   "execution_count": 11,
   "metadata": {},
   "outputs": [
    {
     "name": "stdout",
     "output_type": "stream",
     "text": [
      "<class 'pandas.core.frame.DataFrame'>\n",
      "RangeIndex: 10000 entries, 0 to 9999\n",
      "Data columns (total 14 columns):\n",
      " #   Column            Non-Null Count  Dtype \n",
      "---  ------            --------------  ----- \n",
      " 0   row_number        10000 non-null  int64 \n",
      " 1   customer_id       10000 non-null  int64 \n",
      " 2   surname           10000 non-null  object\n",
      " 3   credit_score      10000 non-null  int64 \n",
      " 4   geography         10000 non-null  object\n",
      " 5   gender            10000 non-null  object\n",
      " 6   age               10000 non-null  int64 \n",
      " 7   tenure            10000 non-null  int64 \n",
      " 8   balance           10000 non-null  int64 \n",
      " 9   num_of_products   10000 non-null  int64 \n",
      " 10  has_credit_card   10000 non-null  int64 \n",
      " 11  is_active_member  10000 non-null  int64 \n",
      " 12  estimated_salary  10000 non-null  int64 \n",
      " 13  exited            10000 non-null  int64 \n",
      "dtypes: int64(11), object(3)\n",
      "memory usage: 1.1+ MB\n"
     ]
    }
   ],
   "source": [
    "for col in ['tenure', 'estimated_salary', 'balance']:\n",
    "    data[col] = data[col].round().astype('int64')\n",
    "data.info()"
   ]
  },
  {
   "cell_type": "markdown",
   "metadata": {},
   "source": [
    "### Разделение на выборки, масштабирование признаков и удаление лишних признаков"
   ]
  },
  {
   "cell_type": "markdown",
   "metadata": {},
   "source": [
    "Избавимся от столбцов `'row_number'`, `'customer_id'`, `'surname'`. Очевидно, что номер строки, личный id клиента и его фамилия никак не помогут модели предсказать целевой признак."
   ]
  },
  {
   "cell_type": "code",
   "execution_count": 12,
   "metadata": {
    "scrolled": true
   },
   "outputs": [],
   "source": [
    "data = data.drop(['row_number', 'customer_id', 'surname'], axis=1)"
   ]
  },
  {
   "cell_type": "markdown",
   "metadata": {},
   "source": [
    "Разделим выборку на тренировочную, валидационную и тестовую в соотношении 3:1:1. Выведем размер выборок."
   ]
  },
  {
   "cell_type": "code",
   "execution_count": 13,
   "metadata": {},
   "outputs": [
    {
     "name": "stdout",
     "output_type": "stream",
     "text": [
      "Размер тренировочной выборки: (6000, 10)\n",
      "Размер валидационной выборки: (2000, 10)\n",
      "Размер тестовой выборки: (2000, 10)\n"
     ]
    }
   ],
   "source": [
    "target = data['exited']\n",
    "features = data.drop('exited', axis=1)\n",
    "\n",
    "features_train, features_valid, target_train, target_valid = train_test_split(\n",
    "    features, target, test_size=0.2, random_state=322, stratify=target)\n",
    "\n",
    "features_train, features_test, target_train, target_test = train_test_split(\n",
    "    features_train, target_train, test_size=0.25, random_state=322, stratify=target_train)\n",
    "\n",
    "print('Размер тренировочной выборки:', features_train.shape)\n",
    "print('Размер валидационной выборки:', features_valid.shape)\n",
    "print('Размер тестовой выборки:', features_test.shape)"
   ]
  },
  {
   "cell_type": "markdown",
   "metadata": {},
   "source": [
    "Стандартизируем все оставшиеся целочисленные признаки через `StandartScaler()`. Обратим внимание, что `'has_credit_card'` и `'is_active_member'`это не числовые признаки, а бинарные, поэтому их можно не стандартизировать."
   ]
  },
  {
   "cell_type": "code",
   "execution_count": 14,
   "metadata": {},
   "outputs": [],
   "source": [
    "pd.options.mode.chained_assignment = None\n",
    "\n",
    "num_columns = (features_train\n",
    "               .select_dtypes('int64')\n",
    "               .drop(['has_credit_card', 'is_active_member'], axis=1)\n",
    "               .columns)\n",
    "\n",
    "scaler = StandardScaler()\n",
    "scaler.fit(features_train[num_columns])\n",
    "\n",
    "features_train[num_columns] = scaler.transform(features_train[num_columns])\n",
    "features_valid[num_columns] = scaler.transform(features_valid[num_columns])\n",
    "features_test[num_columns] = scaler.transform(features_test[num_columns])"
   ]
  },
  {
   "cell_type": "code",
   "execution_count": 15,
   "metadata": {},
   "outputs": [
    {
     "data": {
      "text/html": [
       "<div>\n",
       "<style scoped>\n",
       "    .dataframe tbody tr th:only-of-type {\n",
       "        vertical-align: middle;\n",
       "    }\n",
       "\n",
       "    .dataframe tbody tr th {\n",
       "        vertical-align: top;\n",
       "    }\n",
       "\n",
       "    .dataframe thead th {\n",
       "        text-align: right;\n",
       "    }\n",
       "</style>\n",
       "<table border=\"1\" class=\"dataframe\">\n",
       "  <thead>\n",
       "    <tr style=\"text-align: right;\">\n",
       "      <th></th>\n",
       "      <th>credit_score</th>\n",
       "      <th>geography</th>\n",
       "      <th>gender</th>\n",
       "      <th>age</th>\n",
       "      <th>tenure</th>\n",
       "      <th>balance</th>\n",
       "      <th>num_of_products</th>\n",
       "      <th>has_credit_card</th>\n",
       "      <th>is_active_member</th>\n",
       "      <th>estimated_salary</th>\n",
       "    </tr>\n",
       "  </thead>\n",
       "  <tbody>\n",
       "    <tr>\n",
       "      <th>8661</th>\n",
       "      <td>1.268638</td>\n",
       "      <td>Germany</td>\n",
       "      <td>Female</td>\n",
       "      <td>-0.270271</td>\n",
       "      <td>-0.358715</td>\n",
       "      <td>0.468068</td>\n",
       "      <td>-0.905814</td>\n",
       "      <td>0</td>\n",
       "      <td>1</td>\n",
       "      <td>-1.657394</td>\n",
       "    </tr>\n",
       "    <tr>\n",
       "      <th>413</th>\n",
       "      <td>0.442654</td>\n",
       "      <td>Germany</td>\n",
       "      <td>Female</td>\n",
       "      <td>0.213710</td>\n",
       "      <td>-0.358715</td>\n",
       "      <td>1.678287</td>\n",
       "      <td>2.552593</td>\n",
       "      <td>1</td>\n",
       "      <td>1</td>\n",
       "      <td>1.536317</td>\n",
       "    </tr>\n",
       "    <tr>\n",
       "      <th>7893</th>\n",
       "      <td>-0.083911</td>\n",
       "      <td>France</td>\n",
       "      <td>Male</td>\n",
       "      <td>0.116914</td>\n",
       "      <td>1.090151</td>\n",
       "      <td>0.521870</td>\n",
       "      <td>-0.905814</td>\n",
       "      <td>1</td>\n",
       "      <td>0</td>\n",
       "      <td>-0.814602</td>\n",
       "    </tr>\n",
       "    <tr>\n",
       "      <th>456</th>\n",
       "      <td>0.855646</td>\n",
       "      <td>France</td>\n",
       "      <td>Male</td>\n",
       "      <td>-0.560660</td>\n",
       "      <td>-0.720932</td>\n",
       "      <td>-1.226499</td>\n",
       "      <td>-0.905814</td>\n",
       "      <td>1</td>\n",
       "      <td>1</td>\n",
       "      <td>-1.600457</td>\n",
       "    </tr>\n",
       "    <tr>\n",
       "      <th>1135</th>\n",
       "      <td>0.855646</td>\n",
       "      <td>Germany</td>\n",
       "      <td>Male</td>\n",
       "      <td>-0.754252</td>\n",
       "      <td>0.365718</td>\n",
       "      <td>1.299383</td>\n",
       "      <td>0.823389</td>\n",
       "      <td>0</td>\n",
       "      <td>0</td>\n",
       "      <td>1.363453</td>\n",
       "    </tr>\n",
       "  </tbody>\n",
       "</table>\n",
       "</div>"
      ],
      "text/plain": [
       "      credit_score geography  gender       age    tenure   balance  \\\n",
       "8661      1.268638   Germany  Female -0.270271 -0.358715  0.468068   \n",
       "413       0.442654   Germany  Female  0.213710 -0.358715  1.678287   \n",
       "7893     -0.083911    France    Male  0.116914  1.090151  0.521870   \n",
       "456       0.855646    France    Male -0.560660 -0.720932 -1.226499   \n",
       "1135      0.855646   Germany    Male -0.754252  0.365718  1.299383   \n",
       "\n",
       "      num_of_products  has_credit_card  is_active_member  estimated_salary  \n",
       "8661        -0.905814                0                 1         -1.657394  \n",
       "413          2.552593                1                 1          1.536317  \n",
       "7893        -0.905814                1                 0         -0.814602  \n",
       "456         -0.905814                1                 1         -1.600457  \n",
       "1135         0.823389                0                 0          1.363453  "
      ]
     },
     "execution_count": 15,
     "metadata": {},
     "output_type": "execute_result"
    }
   ],
   "source": [
    "features_train.head()"
   ]
  },
  {
   "cell_type": "markdown",
   "metadata": {},
   "source": [
    "### Кодирование категориальных признаков через OneHotEncoder"
   ]
  },
  {
   "cell_type": "markdown",
   "metadata": {},
   "source": [
    "Закодируем признаки `'gender'` и `'geography'` с помощью OHE. С помощью параметра `drop='first'` удалим первый столбец, чтобы избежать дамми-ловушки."
   ]
  },
  {
   "cell_type": "code",
   "execution_count": 16,
   "metadata": {},
   "outputs": [
    {
     "data": {
      "text/html": [
       "<style>#sk-container-id-1 {color: black;background-color: white;}#sk-container-id-1 pre{padding: 0;}#sk-container-id-1 div.sk-toggleable {background-color: white;}#sk-container-id-1 label.sk-toggleable__label {cursor: pointer;display: block;width: 100%;margin-bottom: 0;padding: 0.3em;box-sizing: border-box;text-align: center;}#sk-container-id-1 label.sk-toggleable__label-arrow:before {content: \"▸\";float: left;margin-right: 0.25em;color: #696969;}#sk-container-id-1 label.sk-toggleable__label-arrow:hover:before {color: black;}#sk-container-id-1 div.sk-estimator:hover label.sk-toggleable__label-arrow:before {color: black;}#sk-container-id-1 div.sk-toggleable__content {max-height: 0;max-width: 0;overflow: hidden;text-align: left;background-color: #f0f8ff;}#sk-container-id-1 div.sk-toggleable__content pre {margin: 0.2em;color: black;border-radius: 0.25em;background-color: #f0f8ff;}#sk-container-id-1 input.sk-toggleable__control:checked~div.sk-toggleable__content {max-height: 200px;max-width: 100%;overflow: auto;}#sk-container-id-1 input.sk-toggleable__control:checked~label.sk-toggleable__label-arrow:before {content: \"▾\";}#sk-container-id-1 div.sk-estimator input.sk-toggleable__control:checked~label.sk-toggleable__label {background-color: #d4ebff;}#sk-container-id-1 div.sk-label input.sk-toggleable__control:checked~label.sk-toggleable__label {background-color: #d4ebff;}#sk-container-id-1 input.sk-hidden--visually {border: 0;clip: rect(1px 1px 1px 1px);clip: rect(1px, 1px, 1px, 1px);height: 1px;margin: -1px;overflow: hidden;padding: 0;position: absolute;width: 1px;}#sk-container-id-1 div.sk-estimator {font-family: monospace;background-color: #f0f8ff;border: 1px dotted black;border-radius: 0.25em;box-sizing: border-box;margin-bottom: 0.5em;}#sk-container-id-1 div.sk-estimator:hover {background-color: #d4ebff;}#sk-container-id-1 div.sk-parallel-item::after {content: \"\";width: 100%;border-bottom: 1px solid gray;flex-grow: 1;}#sk-container-id-1 div.sk-label:hover label.sk-toggleable__label {background-color: #d4ebff;}#sk-container-id-1 div.sk-serial::before {content: \"\";position: absolute;border-left: 1px solid gray;box-sizing: border-box;top: 0;bottom: 0;left: 50%;z-index: 0;}#sk-container-id-1 div.sk-serial {display: flex;flex-direction: column;align-items: center;background-color: white;padding-right: 0.2em;padding-left: 0.2em;position: relative;}#sk-container-id-1 div.sk-item {position: relative;z-index: 1;}#sk-container-id-1 div.sk-parallel {display: flex;align-items: stretch;justify-content: center;background-color: white;position: relative;}#sk-container-id-1 div.sk-item::before, #sk-container-id-1 div.sk-parallel-item::before {content: \"\";position: absolute;border-left: 1px solid gray;box-sizing: border-box;top: 0;bottom: 0;left: 50%;z-index: -1;}#sk-container-id-1 div.sk-parallel-item {display: flex;flex-direction: column;z-index: 1;position: relative;background-color: white;}#sk-container-id-1 div.sk-parallel-item:first-child::after {align-self: flex-end;width: 50%;}#sk-container-id-1 div.sk-parallel-item:last-child::after {align-self: flex-start;width: 50%;}#sk-container-id-1 div.sk-parallel-item:only-child::after {width: 0;}#sk-container-id-1 div.sk-dashed-wrapped {border: 1px dashed gray;margin: 0 0.4em 0.5em 0.4em;box-sizing: border-box;padding-bottom: 0.4em;background-color: white;}#sk-container-id-1 div.sk-label label {font-family: monospace;font-weight: bold;display: inline-block;line-height: 1.2em;}#sk-container-id-1 div.sk-label-container {text-align: center;}#sk-container-id-1 div.sk-container {/* jupyter's `normalize.less` sets `[hidden] { display: none; }` but bootstrap.min.css set `[hidden] { display: none !important; }` so we also need the `!important` here to be able to override the default hidden behavior on the sphinx rendered scikit-learn.org. See: https://github.com/scikit-learn/scikit-learn/issues/21755 */display: inline-block !important;position: relative;}#sk-container-id-1 div.sk-text-repr-fallback {display: none;}</style><div id=\"sk-container-id-1\" class=\"sk-top-container\"><div class=\"sk-text-repr-fallback\"><pre>OneHotEncoder(drop=&#x27;first&#x27;, sparse=False, sparse_output=False)</pre><b>In a Jupyter environment, please rerun this cell to show the HTML representation or trust the notebook. <br />On GitHub, the HTML representation is unable to render, please try loading this page with nbviewer.org.</b></div><div class=\"sk-container\" hidden><div class=\"sk-item\"><div class=\"sk-estimator sk-toggleable\"><input class=\"sk-toggleable__control sk-hidden--visually\" id=\"sk-estimator-id-1\" type=\"checkbox\" checked><label for=\"sk-estimator-id-1\" class=\"sk-toggleable__label sk-toggleable__label-arrow\">OneHotEncoder</label><div class=\"sk-toggleable__content\"><pre>OneHotEncoder(drop=&#x27;first&#x27;, sparse=False, sparse_output=False)</pre></div></div></div></div></div>"
      ],
      "text/plain": [
       "OneHotEncoder(drop='first', sparse=False, sparse_output=False)"
      ]
     },
     "execution_count": 16,
     "metadata": {},
     "output_type": "execute_result"
    }
   ],
   "source": [
    "cat_columns = features_train.select_dtypes('object').columns\n",
    "\n",
    "ohe = OneHotEncoder(sparse=False, drop='first')\n",
    "ohe.fit(features_train[cat_columns]) #создаём и обучаем кодер "
   ]
  },
  {
   "cell_type": "code",
   "execution_count": 17,
   "metadata": {
    "scrolled": false
   },
   "outputs": [],
   "source": [
    "#ф-ия, которая принимает в себя датафрейм и кодирует нужные нам категориальные признаки\n",
    "def ohe_coder(df):\n",
    "    data_ohe = ohe.transform(df[cat_columns])\n",
    "    data_ohe = pd.DataFrame(data_ohe, columns=ohe.get_feature_names_out())\n",
    "    \n",
    "    df.reset_index(drop=True, inplace=True)\n",
    "    df[ohe.get_feature_names_out()] = data_ohe\n",
    "    df.drop(columns=cat_columns, inplace=True)"
   ]
  },
  {
   "cell_type": "code",
   "execution_count": 18,
   "metadata": {},
   "outputs": [],
   "source": [
    "#применим функцию к тренировочной, валидационной и тестовой выборке\n",
    "ohe_coder(features_train)\n",
    "ohe_coder(features_valid)\n",
    "ohe_coder(features_test)"
   ]
  },
  {
   "cell_type": "markdown",
   "metadata": {},
   "source": [
    "Проверим, что данные закодировались корректно:"
   ]
  },
  {
   "cell_type": "code",
   "execution_count": 19,
   "metadata": {
    "scrolled": false
   },
   "outputs": [
    {
     "data": {
      "text/html": [
       "<div>\n",
       "<style scoped>\n",
       "    .dataframe tbody tr th:only-of-type {\n",
       "        vertical-align: middle;\n",
       "    }\n",
       "\n",
       "    .dataframe tbody tr th {\n",
       "        vertical-align: top;\n",
       "    }\n",
       "\n",
       "    .dataframe thead th {\n",
       "        text-align: right;\n",
       "    }\n",
       "</style>\n",
       "<table border=\"1\" class=\"dataframe\">\n",
       "  <thead>\n",
       "    <tr style=\"text-align: right;\">\n",
       "      <th></th>\n",
       "      <th>credit_score</th>\n",
       "      <th>age</th>\n",
       "      <th>tenure</th>\n",
       "      <th>balance</th>\n",
       "      <th>num_of_products</th>\n",
       "      <th>has_credit_card</th>\n",
       "      <th>is_active_member</th>\n",
       "      <th>estimated_salary</th>\n",
       "      <th>geography_Germany</th>\n",
       "      <th>geography_Spain</th>\n",
       "      <th>gender_Male</th>\n",
       "    </tr>\n",
       "  </thead>\n",
       "  <tbody>\n",
       "    <tr>\n",
       "      <th>0</th>\n",
       "      <td>1.268638</td>\n",
       "      <td>-0.270271</td>\n",
       "      <td>-0.358715</td>\n",
       "      <td>0.468068</td>\n",
       "      <td>-0.905814</td>\n",
       "      <td>0</td>\n",
       "      <td>1</td>\n",
       "      <td>-1.657394</td>\n",
       "      <td>1.0</td>\n",
       "      <td>0.0</td>\n",
       "      <td>0.0</td>\n",
       "    </tr>\n",
       "    <tr>\n",
       "      <th>1</th>\n",
       "      <td>0.442654</td>\n",
       "      <td>0.213710</td>\n",
       "      <td>-0.358715</td>\n",
       "      <td>1.678287</td>\n",
       "      <td>2.552593</td>\n",
       "      <td>1</td>\n",
       "      <td>1</td>\n",
       "      <td>1.536317</td>\n",
       "      <td>1.0</td>\n",
       "      <td>0.0</td>\n",
       "      <td>0.0</td>\n",
       "    </tr>\n",
       "    <tr>\n",
       "      <th>2</th>\n",
       "      <td>-0.083911</td>\n",
       "      <td>0.116914</td>\n",
       "      <td>1.090151</td>\n",
       "      <td>0.521870</td>\n",
       "      <td>-0.905814</td>\n",
       "      <td>1</td>\n",
       "      <td>0</td>\n",
       "      <td>-0.814602</td>\n",
       "      <td>0.0</td>\n",
       "      <td>0.0</td>\n",
       "      <td>1.0</td>\n",
       "    </tr>\n",
       "  </tbody>\n",
       "</table>\n",
       "</div>"
      ],
      "text/plain": [
       "   credit_score       age    tenure   balance  num_of_products  \\\n",
       "0      1.268638 -0.270271 -0.358715  0.468068        -0.905814   \n",
       "1      0.442654  0.213710 -0.358715  1.678287         2.552593   \n",
       "2     -0.083911  0.116914  1.090151  0.521870        -0.905814   \n",
       "\n",
       "   has_credit_card  is_active_member  estimated_salary  geography_Germany  \\\n",
       "0                0                 1         -1.657394                1.0   \n",
       "1                1                 1          1.536317                1.0   \n",
       "2                1                 0         -0.814602                0.0   \n",
       "\n",
       "   geography_Spain  gender_Male  \n",
       "0              0.0          0.0  \n",
       "1              0.0          0.0  \n",
       "2              0.0          1.0  "
      ]
     },
     "execution_count": 19,
     "metadata": {},
     "output_type": "execute_result"
    }
   ],
   "source": [
    "features_train.head(3)"
   ]
  },
  {
   "cell_type": "code",
   "execution_count": 20,
   "metadata": {},
   "outputs": [
    {
     "data": {
      "text/html": [
       "<div>\n",
       "<style scoped>\n",
       "    .dataframe tbody tr th:only-of-type {\n",
       "        vertical-align: middle;\n",
       "    }\n",
       "\n",
       "    .dataframe tbody tr th {\n",
       "        vertical-align: top;\n",
       "    }\n",
       "\n",
       "    .dataframe thead th {\n",
       "        text-align: right;\n",
       "    }\n",
       "</style>\n",
       "<table border=\"1\" class=\"dataframe\">\n",
       "  <thead>\n",
       "    <tr style=\"text-align: right;\">\n",
       "      <th></th>\n",
       "      <th>credit_score</th>\n",
       "      <th>age</th>\n",
       "      <th>tenure</th>\n",
       "      <th>balance</th>\n",
       "      <th>num_of_products</th>\n",
       "      <th>has_credit_card</th>\n",
       "      <th>is_active_member</th>\n",
       "      <th>estimated_salary</th>\n",
       "      <th>geography_Germany</th>\n",
       "      <th>geography_Spain</th>\n",
       "      <th>gender_Male</th>\n",
       "    </tr>\n",
       "  </thead>\n",
       "  <tbody>\n",
       "    <tr>\n",
       "      <th>0</th>\n",
       "      <td>-0.021963</td>\n",
       "      <td>-0.367067</td>\n",
       "      <td>0.727934</td>\n",
       "      <td>-1.226499</td>\n",
       "      <td>0.823389</td>\n",
       "      <td>1</td>\n",
       "      <td>1</td>\n",
       "      <td>-0.368992</td>\n",
       "      <td>0.0</td>\n",
       "      <td>1.0</td>\n",
       "      <td>1.0</td>\n",
       "    </tr>\n",
       "    <tr>\n",
       "      <th>1</th>\n",
       "      <td>0.308431</td>\n",
       "      <td>-0.270271</td>\n",
       "      <td>-0.720932</td>\n",
       "      <td>0.634805</td>\n",
       "      <td>-0.905814</td>\n",
       "      <td>1</td>\n",
       "      <td>1</td>\n",
       "      <td>-0.623745</td>\n",
       "      <td>0.0</td>\n",
       "      <td>0.0</td>\n",
       "      <td>1.0</td>\n",
       "    </tr>\n",
       "    <tr>\n",
       "      <th>2</th>\n",
       "      <td>-0.011638</td>\n",
       "      <td>1.278468</td>\n",
       "      <td>1.090151</td>\n",
       "      <td>-0.440293</td>\n",
       "      <td>-0.905814</td>\n",
       "      <td>1</td>\n",
       "      <td>0</td>\n",
       "      <td>-1.005493</td>\n",
       "      <td>0.0</td>\n",
       "      <td>0.0</td>\n",
       "      <td>0.0</td>\n",
       "    </tr>\n",
       "  </tbody>\n",
       "</table>\n",
       "</div>"
      ],
      "text/plain": [
       "   credit_score       age    tenure   balance  num_of_products  \\\n",
       "0     -0.021963 -0.367067  0.727934 -1.226499         0.823389   \n",
       "1      0.308431 -0.270271 -0.720932  0.634805        -0.905814   \n",
       "2     -0.011638  1.278468  1.090151 -0.440293        -0.905814   \n",
       "\n",
       "   has_credit_card  is_active_member  estimated_salary  geography_Germany  \\\n",
       "0                1                 1         -0.368992                0.0   \n",
       "1                1                 1         -0.623745                0.0   \n",
       "2                1                 0         -1.005493                0.0   \n",
       "\n",
       "   geography_Spain  gender_Male  \n",
       "0              1.0          1.0  \n",
       "1              0.0          1.0  \n",
       "2              0.0          0.0  "
      ]
     },
     "execution_count": 20,
     "metadata": {},
     "output_type": "execute_result"
    }
   ],
   "source": [
    "features_valid.head(3)"
   ]
  },
  {
   "cell_type": "code",
   "execution_count": 21,
   "metadata": {},
   "outputs": [
    {
     "data": {
      "text/html": [
       "<div>\n",
       "<style scoped>\n",
       "    .dataframe tbody tr th:only-of-type {\n",
       "        vertical-align: middle;\n",
       "    }\n",
       "\n",
       "    .dataframe tbody tr th {\n",
       "        vertical-align: top;\n",
       "    }\n",
       "\n",
       "    .dataframe thead th {\n",
       "        text-align: right;\n",
       "    }\n",
       "</style>\n",
       "<table border=\"1\" class=\"dataframe\">\n",
       "  <thead>\n",
       "    <tr style=\"text-align: right;\">\n",
       "      <th></th>\n",
       "      <th>credit_score</th>\n",
       "      <th>age</th>\n",
       "      <th>tenure</th>\n",
       "      <th>balance</th>\n",
       "      <th>num_of_products</th>\n",
       "      <th>has_credit_card</th>\n",
       "      <th>is_active_member</th>\n",
       "      <th>estimated_salary</th>\n",
       "      <th>geography_Germany</th>\n",
       "      <th>geography_Spain</th>\n",
       "      <th>gender_Male</th>\n",
       "    </tr>\n",
       "  </thead>\n",
       "  <tbody>\n",
       "    <tr>\n",
       "      <th>0</th>\n",
       "      <td>-0.145860</td>\n",
       "      <td>-0.173475</td>\n",
       "      <td>-1.445364</td>\n",
       "      <td>0.616588</td>\n",
       "      <td>-0.905814</td>\n",
       "      <td>1</td>\n",
       "      <td>0</td>\n",
       "      <td>-0.820588</td>\n",
       "      <td>0.0</td>\n",
       "      <td>1.0</td>\n",
       "      <td>1.0</td>\n",
       "    </tr>\n",
       "    <tr>\n",
       "      <th>1</th>\n",
       "      <td>-1.033793</td>\n",
       "      <td>-0.560660</td>\n",
       "      <td>1.452367</td>\n",
       "      <td>-0.061325</td>\n",
       "      <td>-0.905814</td>\n",
       "      <td>1</td>\n",
       "      <td>1</td>\n",
       "      <td>0.069031</td>\n",
       "      <td>0.0</td>\n",
       "      <td>1.0</td>\n",
       "      <td>0.0</td>\n",
       "    </tr>\n",
       "    <tr>\n",
       "      <th>2</th>\n",
       "      <td>1.516433</td>\n",
       "      <td>1.956041</td>\n",
       "      <td>-0.358715</td>\n",
       "      <td>0.843642</td>\n",
       "      <td>-0.905814</td>\n",
       "      <td>1</td>\n",
       "      <td>1</td>\n",
       "      <td>-0.104685</td>\n",
       "      <td>0.0</td>\n",
       "      <td>1.0</td>\n",
       "      <td>1.0</td>\n",
       "    </tr>\n",
       "  </tbody>\n",
       "</table>\n",
       "</div>"
      ],
      "text/plain": [
       "   credit_score       age    tenure   balance  num_of_products  \\\n",
       "0     -0.145860 -0.173475 -1.445364  0.616588        -0.905814   \n",
       "1     -1.033793 -0.560660  1.452367 -0.061325        -0.905814   \n",
       "2      1.516433  1.956041 -0.358715  0.843642        -0.905814   \n",
       "\n",
       "   has_credit_card  is_active_member  estimated_salary  geography_Germany  \\\n",
       "0                1                 0         -0.820588                0.0   \n",
       "1                1                 1          0.069031                0.0   \n",
       "2                1                 1         -0.104685                0.0   \n",
       "\n",
       "   geography_Spain  gender_Male  \n",
       "0              1.0          1.0  \n",
       "1              1.0          0.0  \n",
       "2              1.0          1.0  "
      ]
     },
     "execution_count": 21,
     "metadata": {},
     "output_type": "execute_result"
    }
   ],
   "source": [
    "features_test.head(3)"
   ]
  },
  {
   "cell_type": "code",
   "execution_count": 22,
   "metadata": {
    "scrolled": true
   },
   "outputs": [
    {
     "name": "stdout",
     "output_type": "stream",
     "text": [
      "<class 'pandas.core.frame.DataFrame'>\n",
      "RangeIndex: 6000 entries, 0 to 5999\n",
      "Data columns (total 11 columns):\n",
      " #   Column             Non-Null Count  Dtype  \n",
      "---  ------             --------------  -----  \n",
      " 0   credit_score       6000 non-null   float64\n",
      " 1   age                6000 non-null   float64\n",
      " 2   tenure             6000 non-null   float64\n",
      " 3   balance            6000 non-null   float64\n",
      " 4   num_of_products    6000 non-null   float64\n",
      " 5   has_credit_card    6000 non-null   int64  \n",
      " 6   is_active_member   6000 non-null   int64  \n",
      " 7   estimated_salary   6000 non-null   float64\n",
      " 8   geography_Germany  6000 non-null   float64\n",
      " 9   geography_Spain    6000 non-null   float64\n",
      " 10  gender_Male        6000 non-null   float64\n",
      "dtypes: float64(9), int64(2)\n",
      "memory usage: 515.8 KB\n",
      "\n",
      "<class 'pandas.core.frame.DataFrame'>\n",
      "RangeIndex: 2000 entries, 0 to 1999\n",
      "Data columns (total 11 columns):\n",
      " #   Column             Non-Null Count  Dtype  \n",
      "---  ------             --------------  -----  \n",
      " 0   credit_score       2000 non-null   float64\n",
      " 1   age                2000 non-null   float64\n",
      " 2   tenure             2000 non-null   float64\n",
      " 3   balance            2000 non-null   float64\n",
      " 4   num_of_products    2000 non-null   float64\n",
      " 5   has_credit_card    2000 non-null   int64  \n",
      " 6   is_active_member   2000 non-null   int64  \n",
      " 7   estimated_salary   2000 non-null   float64\n",
      " 8   geography_Germany  2000 non-null   float64\n",
      " 9   geography_Spain    2000 non-null   float64\n",
      " 10  gender_Male        2000 non-null   float64\n",
      "dtypes: float64(9), int64(2)\n",
      "memory usage: 172.0 KB\n",
      "\n",
      "<class 'pandas.core.frame.DataFrame'>\n",
      "RangeIndex: 2000 entries, 0 to 1999\n",
      "Data columns (total 11 columns):\n",
      " #   Column             Non-Null Count  Dtype  \n",
      "---  ------             --------------  -----  \n",
      " 0   credit_score       2000 non-null   float64\n",
      " 1   age                2000 non-null   float64\n",
      " 2   tenure             2000 non-null   float64\n",
      " 3   balance            2000 non-null   float64\n",
      " 4   num_of_products    2000 non-null   float64\n",
      " 5   has_credit_card    2000 non-null   int64  \n",
      " 6   is_active_member   2000 non-null   int64  \n",
      " 7   estimated_salary   2000 non-null   float64\n",
      " 8   geography_Germany  2000 non-null   float64\n",
      " 9   geography_Spain    2000 non-null   float64\n",
      " 10  gender_Male        2000 non-null   float64\n",
      "dtypes: float64(9), int64(2)\n",
      "memory usage: 172.0 KB\n"
     ]
    }
   ],
   "source": [
    "features_train.info()\n",
    "print()\n",
    "features_valid.info()\n",
    "print()\n",
    "features_test.info()"
   ]
  },
  {
   "cell_type": "markdown",
   "metadata": {},
   "source": [
    "Признаки закодировались корректно, пропусков в данных нет, всё в порядке."
   ]
  },
  {
   "cell_type": "markdown",
   "metadata": {},
   "source": [
    "## Исследование задачи"
   ]
  },
  {
   "cell_type": "markdown",
   "metadata": {},
   "source": [
    "### Исследование баланса классов"
   ]
  },
  {
   "cell_type": "markdown",
   "metadata": {},
   "source": [
    "Построим гистограмму, чтобы узнать насколько сбалансированы классы:"
   ]
  },
  {
   "cell_type": "code",
   "execution_count": 23,
   "metadata": {},
   "outputs": [
    {
     "data": {
      "text/plain": [
       "0    7963\n",
       "1    2037\n",
       "Name: exited, dtype: int64"
      ]
     },
     "execution_count": 23,
     "metadata": {},
     "output_type": "execute_result"
    }
   ],
   "source": [
    "data['exited'].value_counts()"
   ]
  },
  {
   "cell_type": "code",
   "execution_count": 24,
   "metadata": {},
   "outputs": [
    {
     "data": {
      "image/png": "[encoded data removed]",
      "text/plain": [
       "<Figure size 1440x720 with 1 Axes>"
      ]
     },
     "metadata": {
      "needs_background": "light"
     },
     "output_type": "display_data"
    }
   ],
   "source": [
    "p = data['exited'].value_counts().plot(kind='bar', grid=True, figsize=(20, 10))\n",
    "p.set_xticks([0, 1], labels=['Действующий', 'Расторженный'], fontsize=15, rotation=0)\n",
    "plt.yticks(fontsize=15)\n",
    "plt.title('Количество клиентов в зависимости от состояния договора', fontsize=20)\n",
    "plt.ylabel('Кол-во клиентов', fontsize=20);"
   ]
  },
  {
   "cell_type": "markdown",
   "metadata": {},
   "source": [
    "По гистограмме видим, что клиентов оставшихся в банке примерно в 4 раза больше, чем ушедших: 7963 против 2037. В выборках, которые образовались после разделения, соотношение классов такое же, так как при разделении был указан параметр `stratify`."
   ]
  },
  {
   "cell_type": "markdown",
   "metadata": {},
   "source": [
    "### Модели без учёта дизбаланса классов"
   ]
  },
  {
   "cell_type": "markdown",
   "metadata": {},
   "source": [
    "Обучим три модели с перебором гиперпараметров в цикле, сохраним лучшую модель, и выведем лучшие параметры и метрику для каждой. \n",
    "\n",
    "Так как модели придётся обучать несколько раз на разных датасетах, напишем три функции для решающего дерева, случайного леса и логистической регрессии. Функции будут принимать в себя тренировочные и тестовые признаки и целевой признак. Функция сохраняет в переменную лучшую модель, выводит гиперпараметры лучшей модели и интересующие нас метрики."
   ]
  },
  {
   "cell_type": "markdown",
   "metadata": {},
   "source": [
    "#### `DecisionTreeClassifier()`"
   ]
  },
  {
   "cell_type": "code",
   "execution_count": 25,
   "metadata": {},
   "outputs": [],
   "source": [
    "# глобальные переменные для лучшего значения метрики f1 и сохранения самой лучшей модели\n",
    "best_tree_f1_score = 0\n",
    "best_tree_model = None"
   ]
  },
  {
   "cell_type": "code",
   "execution_count": 26,
   "metadata": {},
   "outputs": [],
   "source": [
    "def tree(x_train, y_train, x_test, y_test):\n",
    "    global best_tree_f1_score, best_tree_model\n",
    "    \n",
    "    best_score = 0\n",
    "    best_tree_depth = None\n",
    "    best_model = None\n",
    "    \n",
    "    for depth in range(2, 20):\n",
    "        model = DecisionTreeClassifier(random_state=322, max_depth=depth)\n",
    "        model.fit(x_train, y_train)\n",
    "        test_predictions = model.predict(x_test)\n",
    "        score = f1_score(y_test, test_predictions)\n",
    "        probabilities_one_test = model.predict_proba(x_test)[:, 1]\n",
    "        \n",
    "        if score > best_score:\n",
    "            if score > best_tree_f1_score:\n",
    "                best_tree_f1_score = score\n",
    "                best_tree_model = model\n",
    "            best_score = score\n",
    "            best_model = model\n",
    "            best_tree_depth = depth\n",
    "            auc_roc = roc_auc_score(y_test, probabilities_one_test)\n",
    "    \n",
    "    print('DescisionTreeClassifier:\\n')        \n",
    "    print(f'Лучшая глубина дерева: {best_tree_depth}')\n",
    "    print(f'Лучшая метрика F1: {best_score}')\n",
    "    print(f'Метрика AUC-ROC {auc_roc}')"
   ]
  },
  {
   "cell_type": "code",
   "execution_count": 27,
   "metadata": {},
   "outputs": [
    {
     "name": "stdout",
     "output_type": "stream",
     "text": [
      "DescisionTreeClassifier:\n",
      "\n",
      "Лучшая глубина дерева: 5\n",
      "Лучшая метрика F1: 0.5669515669515669\n",
      "Метрика AUC-ROC 0.8430256142120549\n"
     ]
    }
   ],
   "source": [
    "tree(features_train, target_train, features_valid, target_valid)"
   ]
  },
  {
   "cell_type": "markdown",
   "metadata": {},
   "source": [
    "#### `RandomForestClassifier()`"
   ]
  },
  {
   "cell_type": "code",
   "execution_count": 28,
   "metadata": {},
   "outputs": [],
   "source": [
    "best_forest_f1_score = 0\n",
    "best_forest_model = None"
   ]
  },
  {
   "cell_type": "code",
   "execution_count": 29,
   "metadata": {},
   "outputs": [],
   "source": [
    "def forest(x_train, y_train, x_test, y_test):\n",
    "    global best_forest_f1_score, best_forest_model\n",
    "    \n",
    "    best_score = 0\n",
    "    best_forest_depth = None\n",
    "    best_model = None\n",
    "    best_forest_est = None\n",
    "    \n",
    "    for est in range(5, 101, 5):\n",
    "        for depth in range(2, 20):\n",
    "            model = RandomForestClassifier(random_state=322, max_depth=depth, n_estimators=est)\n",
    "            model.fit(x_train, y_train)\n",
    "            test_predictions = model.predict(x_test)\n",
    "            score = f1_score(y_test, test_predictions)\n",
    "            probabilities_one_test = model.predict_proba(x_test)[:, 1]\n",
    "            \n",
    "            if score > best_score:\n",
    "                if score > best_forest_f1_score:\n",
    "                    best_forest_f1_score = score\n",
    "                    best_forest_model = model\n",
    "                best_score = score\n",
    "                best_model = model\n",
    "                best_forest_depth = depth\n",
    "                best_forest_est = est\n",
    "                auc_roc = roc_auc_score(y_test, probabilities_one_test)\n",
    "    \n",
    "    print('RandomForestClassificator:\\n')\n",
    "    print(f'Лучшая глубина дерева в лесу: {best_forest_depth}')\n",
    "    print(f'Лучшее кол-во деревьев: {best_forest_est}')\n",
    "    print(f'Лучшая метрика F1 {best_score}')\n",
    "    print(f'Метрика AUC-ROC {auc_roc}')"
   ]
  },
  {
   "cell_type": "code",
   "execution_count": 30,
   "metadata": {},
   "outputs": [
    {
     "name": "stdout",
     "output_type": "stream",
     "text": [
      "RandomForestClassificator:\n",
      "\n",
      "Лучшая глубина дерева в лесу: 13\n",
      "Лучшее кол-во деревьев: 15\n",
      "Лучшая метрика F1 0.5943536404160475\n",
      "Метрика AUC-ROC 0.8451425231086247\n"
     ]
    }
   ],
   "source": [
    "forest(features_train, target_train, features_valid, target_valid)"
   ]
  },
  {
   "cell_type": "markdown",
   "metadata": {},
   "source": [
    "#### `LogisticRegression()`"
   ]
  },
  {
   "cell_type": "code",
   "execution_count": 31,
   "metadata": {},
   "outputs": [],
   "source": [
    "best_regression_f1_score = 0\n",
    "best_regression_model = None "
   ]
  },
  {
   "cell_type": "code",
   "execution_count": 32,
   "metadata": {},
   "outputs": [],
   "source": [
    "def log_regression(x_train, y_train, x_test, y_test):\n",
    "    global best_regression_f1_score, best_regression_model\n",
    "    \n",
    "    best_score = 0\n",
    "    best_regression_iter = None\n",
    "    best_model = None\n",
    "    \n",
    "    for it in range(10, 1000, 10):\n",
    "        model = LogisticRegression(random_state=322, max_iter=it, solver='liblinear')\n",
    "        model.fit(x_train, y_train)\n",
    "        test_predictions = model.predict(x_test)\n",
    "        score = f1_score(y_test, test_predictions)\n",
    "        probabilities_one_test = model.predict_proba(x_test)[:, 1]\n",
    "        \n",
    "        if score > best_score:\n",
    "            if score > best_regression_f1_score:\n",
    "                best_regression_f1_score = score\n",
    "                best_regression_model = model\n",
    "            best_score = score\n",
    "            best_model = model\n",
    "            best_regression_iter = it\n",
    "            auc_roc = roc_auc_score(y_test, probabilities_one_test)\n",
    "    \n",
    "    print('LogisticRegression:\\n')\n",
    "    print(f'Количество итераций в лучшей модели: {best_regression_iter}')\n",
    "    print(f'Лучшая метрика F1: {best_score}')\n",
    "    print(f'Метрика AUC-ROC {auc_roc}')"
   ]
  },
  {
   "cell_type": "code",
   "execution_count": 33,
   "metadata": {},
   "outputs": [
    {
     "name": "stdout",
     "output_type": "stream",
     "text": [
      "LogisticRegression:\n",
      "\n",
      "Количество итераций в лучшей модели: 10\n",
      "Лучшая метрика F1: 0.3256637168141593\n",
      "Метрика AUC-ROC 0.764093831890442\n"
     ]
    }
   ],
   "source": [
    "log_regression(features_train, target_train, features_valid, target_valid)"
   ]
  },
  {
   "cell_type": "markdown",
   "metadata": {},
   "source": [
    "Лучшую метрику продемонстрировала модель случайного леса. Даже без учёта дизбаланса классов удалось подобрать такие гиперпараметры, что целевое значение метрики было достигнуто. Осталось побороть дизбаланс и получить такую же метрику на тестовой выборке."
   ]
  },
  {
   "cell_type": "markdown",
   "metadata": {},
   "source": [
    "## Борьба с дисбалансом"
   ]
  },
  {
   "cell_type": "markdown",
   "metadata": {},
   "source": [
    "### Устранение дизбаланса классов алгоритмом SMOTE"
   ]
  },
  {
   "cell_type": "markdown",
   "metadata": {},
   "source": [
    "Сделаем апсемплинг выборки с помощью алгоритма SMOTE. Выведем распределение классов после семплинга:"
   ]
  },
  {
   "cell_type": "code",
   "execution_count": 34,
   "metadata": {},
   "outputs": [
    {
     "name": "stdout",
     "output_type": "stream",
     "text": [
      "Распределение классов в изначальной выборке:\n",
      "0 - 4777\n",
      "1 - 1223\n",
      "\n",
      "Распределение классов в \"апсемплированной\" выборке:\n",
      "0 - 4777\n",
      "1 - 4777\n"
     ]
    }
   ],
   "source": [
    "features_train_smote, target_train_smote = (SMOTE(random_state=322)\n",
    "                                                    .fit_resample(features_train, target_train))\n",
    "print(f'Распределение классов в изначальной выборке:\\n0 - {target_train.value_counts()[0]}\\n1 - {target_train.value_counts()[1]}\\n')\n",
    "print(f'Распределение классов в \"апсемплированной\" выборке:\\n0 - {target_train_smote.value_counts()[0]}\\n1 - {target_train_smote.value_counts()[1]}')\n"
   ]
  },
  {
   "cell_type": "markdown",
   "metadata": {},
   "source": [
    "### Устранение дисбаланса классов с помощью RandomUnderSampler"
   ]
  },
  {
   "cell_type": "code",
   "execution_count": 35,
   "metadata": {},
   "outputs": [
    {
     "name": "stdout",
     "output_type": "stream",
     "text": [
      "Распределение классов в изначальной выборке:\n",
      "0 - 4777\n",
      "1 - 1223\n",
      "\n",
      "Распределение классов в \"апсемплированной\" выборке:\n",
      "0 - 1223\n",
      "1 - 1223\n"
     ]
    }
   ],
   "source": [
    "ros = RandomUnderSampler(random_state=322)\n",
    "features_train_undersampled, target_train_undersampled = (ros\n",
    "                                                          .fit_resample(\n",
    "                                                              features_train, target_train))\n",
    "\n",
    "print(f'Распределение классов в изначальной выборке:\\n0 - {target_train.value_counts()[0]}\\n1 - {target_train.value_counts()[1]}\\n')\n",
    "print(f'Распределение классов в \"апсемплированной\" выборке:\\n0 - {target_train_undersampled.value_counts()[0]}\\n1 - {target_train_undersampled.value_counts()[1]}')"
   ]
  },
  {
   "cell_type": "markdown",
   "metadata": {},
   "source": [
    "### Проверка моделей после устранения дисбаланса классов"
   ]
  },
  {
   "cell_type": "markdown",
   "metadata": {},
   "source": [
    "Повторим такое же обучение моделей с перебором гиперпараметров в цикле. Только теперь будем использовать семплированные двумя методами выборки для обучения."
   ]
  },
  {
   "cell_type": "markdown",
   "metadata": {},
   "source": [
    "#### `DecisionTreeClassifier()`"
   ]
  },
  {
   "cell_type": "markdown",
   "metadata": {},
   "source": [
    "SMOTE:"
   ]
  },
  {
   "cell_type": "code",
   "execution_count": 36,
   "metadata": {},
   "outputs": [
    {
     "name": "stdout",
     "output_type": "stream",
     "text": [
      "DescisionTreeClassifier:\n",
      "\n",
      "Лучшая глубина дерева: 5\n",
      "Лучшая метрика F1: 0.5912240184757506\n",
      "Метрика AUC-ROC 0.8355643779372592\n"
     ]
    }
   ],
   "source": [
    "tree(features_train_smote, target_train_smote, features_valid, target_valid)"
   ]
  },
  {
   "cell_type": "markdown",
   "metadata": {},
   "source": [
    "Undersampling:"
   ]
  },
  {
   "cell_type": "code",
   "execution_count": 37,
   "metadata": {},
   "outputs": [
    {
     "name": "stdout",
     "output_type": "stream",
     "text": [
      "DescisionTreeClassifier:\n",
      "\n",
      "Лучшая глубина дерева: 3\n",
      "Лучшая метрика F1: 0.568207440811725\n",
      "Метрика AUC-ROC 0.8052004238444918\n"
     ]
    }
   ],
   "source": [
    "tree(features_train_undersampled, target_train_undersampled, features_valid, target_valid)"
   ]
  },
  {
   "cell_type": "markdown",
   "metadata": {},
   "source": [
    "#### `RandomForestClassifier()`"
   ]
  },
  {
   "cell_type": "markdown",
   "metadata": {},
   "source": [
    "SMOTE:"
   ]
  },
  {
   "cell_type": "code",
   "execution_count": 38,
   "metadata": {},
   "outputs": [
    {
     "name": "stdout",
     "output_type": "stream",
     "text": [
      "RandomForestClassificator:\n",
      "\n",
      "Лучшая глубина дерева в лесу: 10\n",
      "Лучшее кол-во деревьев: 35\n",
      "Лучшая метрика F1 0.6099290780141843\n",
      "Метрика AUC-ROC 0.8492514085734425\n"
     ]
    }
   ],
   "source": [
    "forest(features_train_smote, target_train_smote, features_valid, target_valid)"
   ]
  },
  {
   "cell_type": "markdown",
   "metadata": {},
   "source": [
    "Undersampling:"
   ]
  },
  {
   "cell_type": "code",
   "execution_count": 39,
   "metadata": {},
   "outputs": [
    {
     "name": "stdout",
     "output_type": "stream",
     "text": [
      "RandomForestClassificator:\n",
      "\n",
      "Лучшая глубина дерева в лесу: 9\n",
      "Лучшее кол-во деревьев: 40\n",
      "Лучшая метрика F1 0.6146703806870938\n",
      "Метрика AUC-ROC 0.8589591131964013\n"
     ]
    }
   ],
   "source": [
    "forest(features_train_undersampled, target_train_undersampled, features_valid, target_valid)"
   ]
  },
  {
   "cell_type": "markdown",
   "metadata": {},
   "source": [
    "#### `LogisticRegression()`"
   ]
  },
  {
   "cell_type": "markdown",
   "metadata": {},
   "source": [
    "SMOTE:"
   ]
  },
  {
   "cell_type": "code",
   "execution_count": 40,
   "metadata": {
    "scrolled": true
   },
   "outputs": [
    {
     "name": "stdout",
     "output_type": "stream",
     "text": [
      "LogisticRegression:\n",
      "\n",
      "Количество итераций в лучшей модели: 10\n",
      "Лучшая метрика F1: 0.4845814977973568\n",
      "Метрика AUC-ROC 0.7604939299854554\n"
     ]
    }
   ],
   "source": [
    "log_regression(features_train_smote, target_train_smote, features_valid, target_valid)"
   ]
  },
  {
   "cell_type": "markdown",
   "metadata": {},
   "source": [
    "Undersampling:"
   ]
  },
  {
   "cell_type": "code",
   "execution_count": 41,
   "metadata": {},
   "outputs": [
    {
     "name": "stdout",
     "output_type": "stream",
     "text": [
      "LogisticRegression:\n",
      "\n",
      "Количество итераций в лучшей модели: 10\n",
      "Лучшая метрика F1: 0.49956933677863913\n",
      "Метрика AUC-ROC 0.7672788350754454\n"
     ]
    }
   ],
   "source": [
    "log_regression(features_train_undersampled, target_train_undersampled, features_valid, target_valid)"
   ]
  },
  {
   "cell_type": "markdown",
   "metadata": {},
   "source": [
    "После борьбы с дисбалансом классов метрика выросла на всех моделях. Теперь целевого значения метрика достигает и на модели одиночного дерева. Лучшей моделью стал случайный лес, который обучился на андерсемплированных данных. В этой модели метрика достигла 0.61 при работе с валидационной выборкой. Второй по качеству моделью, также является случайный лес, но который обучался на данных, апсемплированных методом SMOTE. В ней метрика практически достигла 0.61."
   ]
  },
  {
   "cell_type": "markdown",
   "metadata": {},
   "source": [
    "## Тестирование модели"
   ]
  },
  {
   "cell_type": "markdown",
   "metadata": {},
   "source": [
    "### Лучшая модель на тестовых данных."
   ]
  },
  {
   "cell_type": "markdown",
   "metadata": {},
   "source": [
    "Проведём тестирование лучшей модели на тестовой выборке. Лучшая модель случайного леса у нас сохранена в переменной `best_forest_model`."
   ]
  },
  {
   "cell_type": "code",
   "execution_count": 42,
   "metadata": {},
   "outputs": [
    {
     "name": "stdout",
     "output_type": "stream",
     "text": [
      "Значение метрики F1, при работе на тестовых данных: 0.5597722960151803\n",
      "AUC-ROC модели на тестовых данных: 0.8406665525309593\n"
     ]
    }
   ],
   "source": [
    "test_predictions = best_forest_model.predict(features_test)\n",
    "probabilities_one_test = best_forest_model.predict_proba(features_test)[:, 1]\n",
    "\n",
    "\n",
    "print('Значение метрики F1, при работе на тестовых данных:', \n",
    "      f1_score(target_test, test_predictions))\n",
    "print('AUC-ROC модели на тестовых данных:',\n",
    "      roc_auc_score(target_test, probabilities_one_test))"
   ]
  },
  {
   "cell_type": "markdown",
   "metadata": {},
   "source": [
    "К сожалению, модель, которая показала лучшее значение на валидационных данных не прошла тестирование - на тестовых данных метрика не достигает даже 0.56."
   ]
  },
  {
   "cell_type": "markdown",
   "metadata": {},
   "source": [
    "Проверим вторую по качеству модель (случайный лес, глубина=10, кол-во деревьев=35, устранение дисбаланса методом SMOTE):"
   ]
  },
  {
   "cell_type": "code",
   "execution_count": 43,
   "metadata": {},
   "outputs": [
    {
     "name": "stdout",
     "output_type": "stream",
     "text": [
      "Значение метрики F1, при работе на тестовых данных: 0.6016847172081828\n",
      "AUC-ROC модели на тестовых данных: 0.8467311687650672\n"
     ]
    }
   ],
   "source": [
    "second_model = RandomForestClassifier(random_state=322, max_depth=10, n_estimators=35)\n",
    "second_model.fit(features_train_smote, target_train_smote)\n",
    "test_predictions = second_model.predict(features_test)\n",
    "probabilities_one_test = second_model.predict_proba(features_test)[:, 1]\n",
    "\n",
    "print('Значение метрики F1, при работе на тестовых данных:', \n",
    "      f1_score(target_test, test_predictions))\n",
    "print('AUC-ROC модели на тестовых данных:',\n",
    "      roc_auc_score(target_test, probabilities_one_test))"
   ]
  },
  {
   "cell_type": "markdown",
   "metadata": {},
   "source": [
    "Модель успешно прошла тестирование, метрика F1 больше, чем 0.59."
   ]
  },
  {
   "cell_type": "markdown",
   "metadata": {},
   "source": [
    "### AUC-ROC"
   ]
  },
  {
   "cell_type": "markdown",
   "metadata": {},
   "source": [
    "На всех рассмотренных моделях, метрика AUC-ROC варьируется от 0.76 до 0.85. Это хорошее значение, наши модели качественнее, чем случайный классификатор."
   ]
  },
  {
   "cell_type": "markdown",
   "metadata": {},
   "source": [
    "## Вывод"
   ]
  },
  {
   "cell_type": "markdown",
   "metadata": {},
   "source": [
    "В ходе проекта были предобработаны данные и рассмотрены 3 разных модели с перебором гиперпараметров. В ходе предобработки были заполнены пропуски, числовые признаки были масштабированы, а категориальные закодированы. Модели были проверены на валидационных данных, до и после устранения дисбаланса классов. Дисбаланс классов был устранён с помощью алгоритма SMOTE. Лучшая модель прошла тестирование на тестовой выборке и дала требуемое значение метрики F1: более 0.59. Дополнительно проверялась метрика AUC-ROC, на всех моделях она имела значение более 0.5, значит модели работают лучше случайного классификатора."
   ]
  }
 ],
 "metadata": {
  "ExecuteTimeLog": [
   {
    "duration": 1078,
    "start_time": "2022-11-15T13:26:19.921Z"
   },
   {
    "duration": 85,
    "start_time": "2022-11-15T13:26:50.297Z"
   },
   {
    "duration": 17,
    "start_time": "2022-11-15T13:26:59.754Z"
   },
   {
    "duration": 48,
    "start_time": "2022-11-16T17:25:51.242Z"
   },
   {
    "duration": 1135,
    "start_time": "2022-11-16T17:25:54.306Z"
   },
   {
    "duration": 260,
    "start_time": "2022-11-16T17:25:55.442Z"
   },
   {
    "duration": 51,
    "start_time": "2022-11-16T17:26:01.328Z"
   },
   {
    "duration": 70,
    "start_time": "2022-11-16T17:57:19.422Z"
   },
   {
    "duration": 58,
    "start_time": "2022-11-16T17:57:54.057Z"
   },
   {
    "duration": 53,
    "start_time": "2022-11-16T18:00:00.420Z"
   },
   {
    "duration": 50,
    "start_time": "2022-11-16T18:00:09.430Z"
   },
   {
    "duration": 3,
    "start_time": "2022-11-16T18:00:22.006Z"
   },
   {
    "duration": 4,
    "start_time": "2022-11-16T18:00:56.084Z"
   },
   {
    "duration": 14,
    "start_time": "2022-11-16T18:01:01.376Z"
   },
   {
    "duration": 10,
    "start_time": "2022-11-16T18:01:34.653Z"
   },
   {
    "duration": 550,
    "start_time": "2022-11-16T18:03:50.893Z"
   },
   {
    "duration": 232,
    "start_time": "2022-11-16T18:03:57.808Z"
   },
   {
    "duration": 276,
    "start_time": "2022-11-16T18:04:06.449Z"
   },
   {
    "duration": 22,
    "start_time": "2022-11-16T18:05:02.341Z"
   },
   {
    "duration": 47,
    "start_time": "2022-11-16T18:05:15.964Z"
   },
   {
    "duration": 88,
    "start_time": "2022-11-16T18:05:19.381Z"
   },
   {
    "duration": 32,
    "start_time": "2022-11-16T18:05:23.335Z"
   },
   {
    "duration": 22,
    "start_time": "2022-11-16T18:05:41.919Z"
   },
   {
    "duration": 11,
    "start_time": "2022-11-16T18:07:29.471Z"
   },
   {
    "duration": 23,
    "start_time": "2022-11-16T18:07:42.528Z"
   },
   {
    "duration": 12,
    "start_time": "2022-11-16T18:08:38.765Z"
   },
   {
    "duration": 23,
    "start_time": "2022-11-16T18:08:47.670Z"
   },
   {
    "duration": 1138,
    "start_time": "2022-11-16T18:11:35.326Z"
   },
   {
    "duration": 51,
    "start_time": "2022-11-16T18:11:36.466Z"
   },
   {
    "duration": 21,
    "start_time": "2022-11-16T18:11:36.518Z"
   },
   {
    "duration": 4,
    "start_time": "2022-11-16T18:11:36.540Z"
   },
   {
    "duration": 28,
    "start_time": "2022-11-16T18:11:36.545Z"
   },
   {
    "duration": 30,
    "start_time": "2022-11-16T18:11:36.575Z"
   },
   {
    "duration": 14,
    "start_time": "2022-11-16T18:11:49.512Z"
   },
   {
    "duration": 63,
    "start_time": "2022-11-16T18:15:00.238Z"
   },
   {
    "duration": 69,
    "start_time": "2022-11-16T18:15:08.668Z"
   },
   {
    "duration": 18,
    "start_time": "2022-11-16T18:15:12.969Z"
   },
   {
    "duration": 17,
    "start_time": "2022-11-16T18:17:16.749Z"
   },
   {
    "duration": 39,
    "start_time": "2022-11-16T18:20:07.128Z"
   },
   {
    "duration": 196,
    "start_time": "2022-11-16T18:25:16.457Z"
   },
   {
    "duration": 309,
    "start_time": "2022-11-16T18:25:56.188Z"
   },
   {
    "duration": 168,
    "start_time": "2022-11-16T18:26:05.632Z"
   },
   {
    "duration": 155,
    "start_time": "2022-11-16T18:27:27.857Z"
   },
   {
    "duration": 166,
    "start_time": "2022-11-16T18:27:48.472Z"
   },
   {
    "duration": 146,
    "start_time": "2022-11-16T18:28:05.671Z"
   },
   {
    "duration": 145,
    "start_time": "2022-11-16T18:28:10.804Z"
   },
   {
    "duration": 13,
    "start_time": "2022-11-16T18:30:54.897Z"
   },
   {
    "duration": 1252,
    "start_time": "2022-11-16T18:32:05.740Z"
   },
   {
    "duration": 59,
    "start_time": "2022-11-16T18:32:06.994Z"
   },
   {
    "duration": 26,
    "start_time": "2022-11-16T18:32:07.055Z"
   },
   {
    "duration": 50,
    "start_time": "2022-11-16T18:32:07.085Z"
   },
   {
    "duration": 4,
    "start_time": "2022-11-16T18:32:07.136Z"
   },
   {
    "duration": 21,
    "start_time": "2022-11-16T18:32:07.142Z"
   },
   {
    "duration": 200,
    "start_time": "2022-11-16T18:32:07.166Z"
   },
   {
    "duration": 158,
    "start_time": "2022-11-16T18:32:55.219Z"
   },
   {
    "duration": 254,
    "start_time": "2022-11-16T18:33:24.310Z"
   },
   {
    "duration": 149,
    "start_time": "2022-11-16T18:33:40.180Z"
   },
   {
    "duration": 1078,
    "start_time": "2022-11-16T18:37:40.128Z"
   },
   {
    "duration": 55,
    "start_time": "2022-11-16T18:37:41.208Z"
   },
   {
    "duration": 19,
    "start_time": "2022-11-16T18:37:41.266Z"
   },
   {
    "duration": 46,
    "start_time": "2022-11-16T18:37:41.286Z"
   },
   {
    "duration": 4,
    "start_time": "2022-11-16T18:37:41.333Z"
   },
   {
    "duration": 28,
    "start_time": "2022-11-16T18:37:41.338Z"
   },
   {
    "duration": 58,
    "start_time": "2022-11-16T18:37:41.368Z"
   },
   {
    "duration": 45,
    "start_time": "2022-11-16T18:37:48.720Z"
   },
   {
    "duration": 57,
    "start_time": "2022-11-16T18:37:56.471Z"
   },
   {
    "duration": 51,
    "start_time": "2022-11-16T18:38:08.558Z"
   },
   {
    "duration": 1118,
    "start_time": "2022-11-16T18:38:14.899Z"
   },
   {
    "duration": 56,
    "start_time": "2022-11-16T18:38:16.019Z"
   },
   {
    "duration": 24,
    "start_time": "2022-11-16T18:38:16.078Z"
   },
   {
    "duration": 58,
    "start_time": "2022-11-16T18:38:16.103Z"
   },
   {
    "duration": 4,
    "start_time": "2022-11-16T18:38:16.164Z"
   },
   {
    "duration": 12,
    "start_time": "2022-11-16T18:38:16.169Z"
   },
   {
    "duration": 64,
    "start_time": "2022-11-16T18:38:16.183Z"
   },
   {
    "duration": 33,
    "start_time": "2022-11-16T18:39:13.473Z"
   },
   {
    "duration": 1107,
    "start_time": "2022-11-16T18:39:25.094Z"
   },
   {
    "duration": 56,
    "start_time": "2022-11-16T18:39:26.204Z"
   },
   {
    "duration": 25,
    "start_time": "2022-11-16T18:39:26.262Z"
   },
   {
    "duration": 62,
    "start_time": "2022-11-16T18:39:26.290Z"
   },
   {
    "duration": 4,
    "start_time": "2022-11-16T18:39:26.354Z"
   },
   {
    "duration": 15,
    "start_time": "2022-11-16T18:39:26.360Z"
   },
   {
    "duration": 46,
    "start_time": "2022-11-16T18:39:26.376Z"
   },
   {
    "duration": 123,
    "start_time": "2022-11-16T18:39:26.424Z"
   },
   {
    "duration": 386,
    "start_time": "2022-11-16T18:39:34.247Z"
   },
   {
    "duration": 135,
    "start_time": "2022-11-16T18:39:40.791Z"
   },
   {
    "duration": 1088,
    "start_time": "2022-11-16T18:40:07.516Z"
   },
   {
    "duration": 51,
    "start_time": "2022-11-16T18:40:08.606Z"
   },
   {
    "duration": 19,
    "start_time": "2022-11-16T18:40:08.658Z"
   },
   {
    "duration": 41,
    "start_time": "2022-11-16T18:40:08.680Z"
   },
   {
    "duration": 3,
    "start_time": "2022-11-16T18:40:08.722Z"
   },
   {
    "duration": 9,
    "start_time": "2022-11-16T18:40:08.727Z"
   },
   {
    "duration": 369,
    "start_time": "2022-11-16T18:40:08.738Z"
   },
   {
    "duration": 33,
    "start_time": "2022-11-16T18:40:09.115Z"
   },
   {
    "duration": 144,
    "start_time": "2022-11-16T18:40:09.150Z"
   },
   {
    "duration": 1114,
    "start_time": "2022-11-16T18:42:44.513Z"
   },
   {
    "duration": 51,
    "start_time": "2022-11-16T18:42:45.629Z"
   },
   {
    "duration": 19,
    "start_time": "2022-11-16T18:42:45.681Z"
   },
   {
    "duration": 44,
    "start_time": "2022-11-16T18:42:45.702Z"
   },
   {
    "duration": 4,
    "start_time": "2022-11-16T18:42:45.748Z"
   },
   {
    "duration": 11,
    "start_time": "2022-11-16T18:42:45.753Z"
   },
   {
    "duration": 389,
    "start_time": "2022-11-16T18:42:45.765Z"
   },
   {
    "duration": 32,
    "start_time": "2022-11-16T18:42:46.155Z"
   },
   {
    "duration": 152,
    "start_time": "2022-11-16T18:42:46.188Z"
   },
   {
    "duration": 105,
    "start_time": "2022-11-16T18:43:31.832Z"
   },
   {
    "duration": 30,
    "start_time": "2022-11-16T18:43:43.341Z"
   },
   {
    "duration": 1070,
    "start_time": "2022-11-16T18:43:51.756Z"
   },
   {
    "duration": 50,
    "start_time": "2022-11-16T18:43:52.828Z"
   },
   {
    "duration": 18,
    "start_time": "2022-11-16T18:43:52.880Z"
   },
   {
    "duration": 43,
    "start_time": "2022-11-16T18:43:52.899Z"
   },
   {
    "duration": 3,
    "start_time": "2022-11-16T18:43:52.944Z"
   },
   {
    "duration": 10,
    "start_time": "2022-11-16T18:43:52.948Z"
   },
   {
    "duration": 370,
    "start_time": "2022-11-16T18:43:52.959Z"
   },
   {
    "duration": 32,
    "start_time": "2022-11-16T18:43:53.331Z"
   },
   {
    "duration": 148,
    "start_time": "2022-11-16T18:43:53.365Z"
   },
   {
    "duration": 29,
    "start_time": "2022-11-16T18:45:15.938Z"
   },
   {
    "duration": 29,
    "start_time": "2022-11-16T18:45:21.763Z"
   },
   {
    "duration": 30,
    "start_time": "2022-11-16T18:47:12.956Z"
   },
   {
    "duration": 47,
    "start_time": "2022-11-17T13:46:11.996Z"
   },
   {
    "duration": 1092,
    "start_time": "2022-11-17T13:46:17.641Z"
   },
   {
    "duration": 85,
    "start_time": "2022-11-17T13:46:18.735Z"
   },
   {
    "duration": 19,
    "start_time": "2022-11-17T13:46:18.822Z"
   },
   {
    "duration": 41,
    "start_time": "2022-11-17T13:46:18.843Z"
   },
   {
    "duration": 3,
    "start_time": "2022-11-17T13:46:18.886Z"
   },
   {
    "duration": 12,
    "start_time": "2022-11-17T13:46:18.891Z"
   },
   {
    "duration": 624,
    "start_time": "2022-11-17T13:46:18.921Z"
   },
   {
    "duration": 29,
    "start_time": "2022-11-17T13:46:19.546Z"
   },
   {
    "duration": 155,
    "start_time": "2022-11-17T13:46:19.577Z"
   },
   {
    "duration": 140,
    "start_time": "2022-11-17T13:48:33.583Z"
   },
   {
    "duration": 31,
    "start_time": "2022-11-17T13:57:51.461Z"
   },
   {
    "duration": 135,
    "start_time": "2022-11-17T13:57:51.943Z"
   },
   {
    "duration": 1100,
    "start_time": "2022-11-17T13:57:57.255Z"
   },
   {
    "duration": 47,
    "start_time": "2022-11-17T13:57:58.357Z"
   },
   {
    "duration": 23,
    "start_time": "2022-11-17T13:57:58.406Z"
   },
   {
    "duration": 51,
    "start_time": "2022-11-17T13:57:58.430Z"
   },
   {
    "duration": 4,
    "start_time": "2022-11-17T13:57:58.483Z"
   },
   {
    "duration": 49,
    "start_time": "2022-11-17T13:57:58.488Z"
   },
   {
    "duration": 422,
    "start_time": "2022-11-17T13:57:58.538Z"
   },
   {
    "duration": 30,
    "start_time": "2022-11-17T13:57:58.962Z"
   },
   {
    "duration": 155,
    "start_time": "2022-11-17T13:57:58.993Z"
   },
   {
    "duration": 29,
    "start_time": "2022-11-17T13:58:08.322Z"
   },
   {
    "duration": 141,
    "start_time": "2022-11-17T13:58:10.688Z"
   },
   {
    "duration": 1098,
    "start_time": "2022-11-17T13:59:54.926Z"
   },
   {
    "duration": 45,
    "start_time": "2022-11-17T13:59:56.026Z"
   },
   {
    "duration": 26,
    "start_time": "2022-11-17T13:59:56.074Z"
   },
   {
    "duration": 40,
    "start_time": "2022-11-17T13:59:56.104Z"
   },
   {
    "duration": 4,
    "start_time": "2022-11-17T13:59:56.146Z"
   },
   {
    "duration": 22,
    "start_time": "2022-11-17T13:59:56.152Z"
   },
   {
    "duration": 397,
    "start_time": "2022-11-17T13:59:56.176Z"
   },
   {
    "duration": 33,
    "start_time": "2022-11-17T13:59:56.575Z"
   },
   {
    "duration": 145,
    "start_time": "2022-11-17T13:59:56.622Z"
   },
   {
    "duration": 11,
    "start_time": "2022-11-17T14:15:00.319Z"
   },
   {
    "duration": 6,
    "start_time": "2022-11-17T14:15:09.972Z"
   },
   {
    "duration": 114,
    "start_time": "2022-11-17T14:15:51.017Z"
   },
   {
    "duration": 5,
    "start_time": "2022-11-17T14:16:06.365Z"
   },
   {
    "duration": 15,
    "start_time": "2022-11-17T14:16:11.847Z"
   },
   {
    "duration": 8,
    "start_time": "2022-11-17T14:16:19.274Z"
   },
   {
    "duration": 20,
    "start_time": "2022-11-17T14:20:01.757Z"
   },
   {
    "duration": 4,
    "start_time": "2022-11-17T14:20:17.768Z"
   },
   {
    "duration": 12,
    "start_time": "2022-11-17T14:20:25.192Z"
   },
   {
    "duration": 1105,
    "start_time": "2022-11-17T14:20:35.719Z"
   },
   {
    "duration": 49,
    "start_time": "2022-11-17T14:20:36.825Z"
   },
   {
    "duration": 19,
    "start_time": "2022-11-17T14:20:36.876Z"
   },
   {
    "duration": 50,
    "start_time": "2022-11-17T14:20:36.897Z"
   },
   {
    "duration": 3,
    "start_time": "2022-11-17T14:20:36.949Z"
   },
   {
    "duration": 22,
    "start_time": "2022-11-17T14:20:36.953Z"
   },
   {
    "duration": 411,
    "start_time": "2022-11-17T14:20:36.976Z"
   },
   {
    "duration": 37,
    "start_time": "2022-11-17T14:20:37.389Z"
   },
   {
    "duration": 147,
    "start_time": "2022-11-17T14:20:37.428Z"
   },
   {
    "duration": 14,
    "start_time": "2022-11-17T14:20:37.577Z"
   },
   {
    "duration": 1135,
    "start_time": "2022-11-17T14:21:50.400Z"
   },
   {
    "duration": 46,
    "start_time": "2022-11-17T14:21:51.537Z"
   },
   {
    "duration": 23,
    "start_time": "2022-11-17T14:21:51.585Z"
   },
   {
    "duration": 57,
    "start_time": "2022-11-17T14:21:51.610Z"
   },
   {
    "duration": 5,
    "start_time": "2022-11-17T14:21:51.670Z"
   },
   {
    "duration": 11,
    "start_time": "2022-11-17T14:21:51.677Z"
   },
   {
    "duration": 437,
    "start_time": "2022-11-17T14:21:51.690Z"
   },
   {
    "duration": 34,
    "start_time": "2022-11-17T14:21:52.129Z"
   },
   {
    "duration": 160,
    "start_time": "2022-11-17T14:21:52.165Z"
   },
   {
    "duration": 15,
    "start_time": "2022-11-17T14:21:52.326Z"
   },
   {
    "duration": 113,
    "start_time": "2022-11-17T14:26:11.424Z"
   },
   {
    "duration": 19,
    "start_time": "2022-11-17T14:26:17.534Z"
   },
   {
    "duration": 13,
    "start_time": "2022-11-17T14:26:42.375Z"
   },
   {
    "duration": 1171,
    "start_time": "2022-11-17T14:26:48.601Z"
   },
   {
    "duration": 57,
    "start_time": "2022-11-17T14:26:49.774Z"
   },
   {
    "duration": 22,
    "start_time": "2022-11-17T14:26:49.833Z"
   },
   {
    "duration": 56,
    "start_time": "2022-11-17T14:26:49.857Z"
   },
   {
    "duration": 3,
    "start_time": "2022-11-17T14:26:49.922Z"
   },
   {
    "duration": 17,
    "start_time": "2022-11-17T14:26:49.927Z"
   },
   {
    "duration": 408,
    "start_time": "2022-11-17T14:26:49.946Z"
   },
   {
    "duration": 31,
    "start_time": "2022-11-17T14:26:50.356Z"
   },
   {
    "duration": 165,
    "start_time": "2022-11-17T14:26:50.388Z"
   },
   {
    "duration": 16,
    "start_time": "2022-11-17T14:26:50.556Z"
   },
   {
    "duration": 13,
    "start_time": "2022-11-17T14:26:50.574Z"
   },
   {
    "duration": 169,
    "start_time": "2022-11-17T15:10:23.823Z"
   },
   {
    "duration": 11,
    "start_time": "2022-11-17T15:10:52.457Z"
   },
   {
    "duration": 22,
    "start_time": "2022-11-17T15:10:58.866Z"
   },
   {
    "duration": 28,
    "start_time": "2022-11-17T15:11:22.591Z"
   },
   {
    "duration": 1123,
    "start_time": "2022-11-17T15:11:34.404Z"
   },
   {
    "duration": 44,
    "start_time": "2022-11-17T15:11:35.529Z"
   },
   {
    "duration": 22,
    "start_time": "2022-11-17T15:11:35.575Z"
   },
   {
    "duration": 42,
    "start_time": "2022-11-17T15:11:35.599Z"
   },
   {
    "duration": 4,
    "start_time": "2022-11-17T15:11:35.643Z"
   },
   {
    "duration": 9,
    "start_time": "2022-11-17T15:11:35.650Z"
   },
   {
    "duration": 426,
    "start_time": "2022-11-17T15:11:35.662Z"
   },
   {
    "duration": 40,
    "start_time": "2022-11-17T15:11:36.089Z"
   },
   {
    "duration": 156,
    "start_time": "2022-11-17T15:11:36.131Z"
   },
   {
    "duration": 15,
    "start_time": "2022-11-17T15:11:36.289Z"
   },
   {
    "duration": 20,
    "start_time": "2022-11-17T15:11:36.306Z"
   },
   {
    "duration": 25,
    "start_time": "2022-11-17T15:11:36.327Z"
   },
   {
    "duration": 109,
    "start_time": "2022-11-17T15:12:35.674Z"
   },
   {
    "duration": 7,
    "start_time": "2022-11-17T15:12:47.365Z"
   },
   {
    "duration": 19,
    "start_time": "2022-11-17T15:12:52.556Z"
   },
   {
    "duration": 13,
    "start_time": "2022-11-17T15:13:08.552Z"
   },
   {
    "duration": 18,
    "start_time": "2022-11-17T15:13:20.674Z"
   },
   {
    "duration": 13,
    "start_time": "2022-11-17T15:13:28.344Z"
   },
   {
    "duration": 1125,
    "start_time": "2022-11-17T15:13:36.920Z"
   },
   {
    "duration": 46,
    "start_time": "2022-11-17T15:13:38.047Z"
   },
   {
    "duration": 21,
    "start_time": "2022-11-17T15:13:38.096Z"
   },
   {
    "duration": 53,
    "start_time": "2022-11-17T15:13:38.119Z"
   },
   {
    "duration": 4,
    "start_time": "2022-11-17T15:13:38.174Z"
   },
   {
    "duration": 8,
    "start_time": "2022-11-17T15:13:38.180Z"
   },
   {
    "duration": 413,
    "start_time": "2022-11-17T15:13:38.189Z"
   },
   {
    "duration": 42,
    "start_time": "2022-11-17T15:13:38.604Z"
   },
   {
    "duration": 152,
    "start_time": "2022-11-17T15:13:38.647Z"
   },
   {
    "duration": 32,
    "start_time": "2022-11-17T15:13:38.801Z"
   },
   {
    "duration": 6,
    "start_time": "2022-11-17T15:13:38.835Z"
   },
   {
    "duration": 22,
    "start_time": "2022-11-17T15:13:38.843Z"
   },
   {
    "duration": 59,
    "start_time": "2022-11-17T15:13:38.868Z"
   },
   {
    "duration": 9,
    "start_time": "2022-11-17T15:13:38.931Z"
   },
   {
    "duration": 16,
    "start_time": "2022-11-17T15:13:38.941Z"
   },
   {
    "duration": 116,
    "start_time": "2022-11-17T15:14:53.711Z"
   },
   {
    "duration": 13,
    "start_time": "2022-11-17T15:15:08.184Z"
   },
   {
    "duration": 13,
    "start_time": "2022-11-17T15:15:19.730Z"
   },
   {
    "duration": 12,
    "start_time": "2022-11-17T15:21:27.377Z"
   },
   {
    "duration": 14,
    "start_time": "2022-11-17T15:21:31.720Z"
   },
   {
    "duration": 15,
    "start_time": "2022-11-17T15:21:42.516Z"
   },
   {
    "duration": 69,
    "start_time": "2022-11-17T15:22:18.254Z"
   },
   {
    "duration": 10,
    "start_time": "2022-11-17T15:22:39.404Z"
   },
   {
    "duration": 5,
    "start_time": "2022-11-17T15:23:21.500Z"
   },
   {
    "duration": 12,
    "start_time": "2022-11-17T15:23:23.751Z"
   },
   {
    "duration": 11,
    "start_time": "2022-11-17T15:24:00.082Z"
   },
   {
    "duration": 6,
    "start_time": "2022-11-17T15:33:44.616Z"
   },
   {
    "duration": 18,
    "start_time": "2022-11-17T15:33:46.455Z"
   },
   {
    "duration": 12,
    "start_time": "2022-11-17T15:33:46.581Z"
   },
   {
    "duration": 13,
    "start_time": "2022-11-17T15:35:09.638Z"
   },
   {
    "duration": 1121,
    "start_time": "2022-11-17T15:35:17.698Z"
   },
   {
    "duration": 44,
    "start_time": "2022-11-17T15:35:18.821Z"
   },
   {
    "duration": 20,
    "start_time": "2022-11-17T15:35:18.867Z"
   },
   {
    "duration": 39,
    "start_time": "2022-11-17T15:35:18.889Z"
   },
   {
    "duration": 4,
    "start_time": "2022-11-17T15:35:18.930Z"
   },
   {
    "duration": 56,
    "start_time": "2022-11-17T15:35:18.935Z"
   },
   {
    "duration": 413,
    "start_time": "2022-11-17T15:35:18.992Z"
   },
   {
    "duration": 39,
    "start_time": "2022-11-17T15:35:19.407Z"
   },
   {
    "duration": 155,
    "start_time": "2022-11-17T15:35:19.448Z"
   },
   {
    "duration": 24,
    "start_time": "2022-11-17T15:35:19.605Z"
   },
   {
    "duration": 5,
    "start_time": "2022-11-17T15:35:19.631Z"
   },
   {
    "duration": 17,
    "start_time": "2022-11-17T15:35:19.638Z"
   },
   {
    "duration": 23,
    "start_time": "2022-11-17T15:35:19.657Z"
   },
   {
    "duration": 6,
    "start_time": "2022-11-17T15:35:19.682Z"
   },
   {
    "duration": 9,
    "start_time": "2022-11-17T15:35:19.690Z"
   },
   {
    "duration": 26,
    "start_time": "2022-11-17T15:35:19.701Z"
   },
   {
    "duration": 15,
    "start_time": "2022-11-17T15:35:19.729Z"
   },
   {
    "duration": 12,
    "start_time": "2022-11-17T15:45:05.969Z"
   },
   {
    "duration": 19,
    "start_time": "2022-11-17T15:45:23.359Z"
   },
   {
    "duration": 110,
    "start_time": "2022-11-17T15:46:15.008Z"
   },
   {
    "duration": 18,
    "start_time": "2022-11-17T15:46:37.400Z"
   },
   {
    "duration": 18,
    "start_time": "2022-11-17T15:47:08.311Z"
   },
   {
    "duration": 11,
    "start_time": "2022-11-17T15:47:26.703Z"
   },
   {
    "duration": 12,
    "start_time": "2022-11-17T15:49:02.816Z"
   },
   {
    "duration": 4,
    "start_time": "2022-11-17T15:49:50.748Z"
   },
   {
    "duration": 9,
    "start_time": "2022-11-17T15:57:17.358Z"
   },
   {
    "duration": 9,
    "start_time": "2022-11-17T15:57:56.636Z"
   },
   {
    "duration": 13,
    "start_time": "2022-11-17T15:58:04.930Z"
   },
   {
    "duration": 10,
    "start_time": "2022-11-17T16:02:07.035Z"
   },
   {
    "duration": 5,
    "start_time": "2022-11-17T16:02:13.305Z"
   },
   {
    "duration": 5,
    "start_time": "2022-11-17T16:02:24.181Z"
   },
   {
    "duration": 4,
    "start_time": "2022-11-17T16:02:29.545Z"
   },
   {
    "duration": 6,
    "start_time": "2022-11-17T16:04:30.270Z"
   },
   {
    "duration": 18,
    "start_time": "2022-11-17T16:06:59.294Z"
   },
   {
    "duration": 1063,
    "start_time": "2022-11-17T16:07:12.286Z"
   },
   {
    "duration": 45,
    "start_time": "2022-11-17T16:07:13.351Z"
   },
   {
    "duration": 19,
    "start_time": "2022-11-17T16:07:13.398Z"
   },
   {
    "duration": 44,
    "start_time": "2022-11-17T16:07:13.420Z"
   },
   {
    "duration": 3,
    "start_time": "2022-11-17T16:07:13.465Z"
   },
   {
    "duration": 38,
    "start_time": "2022-11-17T16:07:13.469Z"
   },
   {
    "duration": 421,
    "start_time": "2022-11-17T16:07:13.508Z"
   },
   {
    "duration": 31,
    "start_time": "2022-11-17T16:07:13.932Z"
   },
   {
    "duration": 175,
    "start_time": "2022-11-17T16:07:13.964Z"
   },
   {
    "duration": 18,
    "start_time": "2022-11-17T16:07:14.141Z"
   },
   {
    "duration": 6,
    "start_time": "2022-11-17T16:07:47.623Z"
   },
   {
    "duration": 11,
    "start_time": "2022-11-17T16:07:50.837Z"
   },
   {
    "duration": 48,
    "start_time": "2022-11-17T19:56:20.370Z"
   },
   {
    "duration": 42,
    "start_time": "2022-11-17T20:13:36.097Z"
   },
   {
    "duration": 1060,
    "start_time": "2022-11-17T20:13:48.555Z"
   },
   {
    "duration": 180,
    "start_time": "2022-11-17T20:13:49.616Z"
   },
   {
    "duration": 19,
    "start_time": "2022-11-17T20:13:49.798Z"
   },
   {
    "duration": 37,
    "start_time": "2022-11-17T20:13:49.819Z"
   },
   {
    "duration": 3,
    "start_time": "2022-11-17T20:13:49.858Z"
   },
   {
    "duration": 8,
    "start_time": "2022-11-17T20:13:49.862Z"
   },
   {
    "duration": 519,
    "start_time": "2022-11-17T20:13:49.871Z"
   },
   {
    "duration": 29,
    "start_time": "2022-11-17T20:13:50.392Z"
   },
   {
    "duration": 142,
    "start_time": "2022-11-17T20:13:50.423Z"
   },
   {
    "duration": 15,
    "start_time": "2022-11-17T20:13:50.566Z"
   },
   {
    "duration": 6,
    "start_time": "2022-11-17T20:13:50.582Z"
   },
   {
    "duration": 10,
    "start_time": "2022-11-17T20:13:50.589Z"
   },
   {
    "duration": 143,
    "start_time": "2022-11-17T20:13:50.601Z"
   },
   {
    "duration": 16,
    "start_time": "2022-11-17T20:14:10.871Z"
   },
   {
    "duration": 20,
    "start_time": "2022-11-17T20:14:35.956Z"
   },
   {
    "duration": 16,
    "start_time": "2022-11-17T20:15:12.754Z"
   },
   {
    "duration": 10,
    "start_time": "2022-11-17T20:18:30.994Z"
   },
   {
    "duration": 12,
    "start_time": "2022-11-17T20:18:40.166Z"
   },
   {
    "duration": 5,
    "start_time": "2022-11-17T20:26:32.541Z"
   },
   {
    "duration": 12,
    "start_time": "2022-11-17T20:27:15.730Z"
   },
   {
    "duration": 1108,
    "start_time": "2022-11-17T20:29:16.046Z"
   },
   {
    "duration": 50,
    "start_time": "2022-11-17T20:29:17.156Z"
   },
   {
    "duration": 32,
    "start_time": "2022-11-17T20:29:17.208Z"
   },
   {
    "duration": 65,
    "start_time": "2022-11-17T20:29:17.241Z"
   },
   {
    "duration": 3,
    "start_time": "2022-11-17T20:29:17.308Z"
   },
   {
    "duration": 50,
    "start_time": "2022-11-17T20:29:17.313Z"
   },
   {
    "duration": 435,
    "start_time": "2022-11-17T20:29:17.364Z"
   },
   {
    "duration": 27,
    "start_time": "2022-11-17T20:29:17.800Z"
   },
   {
    "duration": 133,
    "start_time": "2022-11-17T20:29:17.835Z"
   },
   {
    "duration": 13,
    "start_time": "2022-11-17T20:29:17.970Z"
   },
   {
    "duration": 31,
    "start_time": "2022-11-17T20:29:17.984Z"
   },
   {
    "duration": 31,
    "start_time": "2022-11-17T20:29:18.016Z"
   },
   {
    "duration": 148,
    "start_time": "2022-11-17T20:29:18.048Z"
   },
   {
    "duration": 0,
    "start_time": "2022-11-17T20:29:18.198Z"
   },
   {
    "duration": 20,
    "start_time": "2022-11-17T20:29:35.332Z"
   },
   {
    "duration": 19,
    "start_time": "2022-11-17T20:31:23.353Z"
   },
   {
    "duration": 10,
    "start_time": "2022-11-17T20:31:26.138Z"
   },
   {
    "duration": 24,
    "start_time": "2022-11-17T20:31:41.619Z"
   },
   {
    "duration": 11,
    "start_time": "2022-11-17T20:31:43.388Z"
   },
   {
    "duration": 20,
    "start_time": "2022-11-17T20:50:53.810Z"
   },
   {
    "duration": 20,
    "start_time": "2022-11-17T20:57:03.428Z"
   },
   {
    "duration": 5,
    "start_time": "2022-11-17T20:57:34.350Z"
   },
   {
    "duration": 4,
    "start_time": "2022-11-17T21:01:57.895Z"
   },
   {
    "duration": 15,
    "start_time": "2022-11-17T21:01:59.939Z"
   },
   {
    "duration": 13,
    "start_time": "2022-11-17T21:02:23.308Z"
   },
   {
    "duration": 16,
    "start_time": "2022-11-17T21:02:36.080Z"
   },
   {
    "duration": 12,
    "start_time": "2022-11-17T21:03:11.577Z"
   },
   {
    "duration": 1137,
    "start_time": "2022-11-17T21:03:33.855Z"
   },
   {
    "duration": 65,
    "start_time": "2022-11-17T21:03:34.994Z"
   },
   {
    "duration": 19,
    "start_time": "2022-11-17T21:03:35.061Z"
   },
   {
    "duration": 55,
    "start_time": "2022-11-17T21:03:35.082Z"
   },
   {
    "duration": 3,
    "start_time": "2022-11-17T21:03:35.139Z"
   },
   {
    "duration": 22,
    "start_time": "2022-11-17T21:03:35.143Z"
   },
   {
    "duration": 380,
    "start_time": "2022-11-17T21:03:35.167Z"
   },
   {
    "duration": 27,
    "start_time": "2022-11-17T21:03:35.549Z"
   },
   {
    "duration": 151,
    "start_time": "2022-11-17T21:03:35.578Z"
   },
   {
    "duration": 19,
    "start_time": "2022-11-17T21:03:35.730Z"
   },
   {
    "duration": 14,
    "start_time": "2022-11-17T21:03:35.750Z"
   },
   {
    "duration": 26,
    "start_time": "2022-11-17T21:03:35.766Z"
   },
   {
    "duration": 29,
    "start_time": "2022-11-17T21:03:35.794Z"
   },
   {
    "duration": 27,
    "start_time": "2022-11-17T21:03:35.825Z"
   },
   {
    "duration": 21,
    "start_time": "2022-11-17T21:03:35.853Z"
   },
   {
    "duration": 5,
    "start_time": "2022-11-17T21:03:49.671Z"
   },
   {
    "duration": 13,
    "start_time": "2022-11-17T21:03:51.119Z"
   },
   {
    "duration": 17,
    "start_time": "2022-11-17T21:03:51.604Z"
   },
   {
    "duration": 106,
    "start_time": "2022-11-17T21:05:51.447Z"
   },
   {
    "duration": 13,
    "start_time": "2022-11-17T21:06:11.172Z"
   },
   {
    "duration": 1145,
    "start_time": "2022-11-17T21:06:47.299Z"
   },
   {
    "duration": 51,
    "start_time": "2022-11-17T21:06:48.446Z"
   },
   {
    "duration": 19,
    "start_time": "2022-11-17T21:06:48.498Z"
   },
   {
    "duration": 45,
    "start_time": "2022-11-17T21:06:48.518Z"
   },
   {
    "duration": 4,
    "start_time": "2022-11-17T21:06:48.565Z"
   },
   {
    "duration": 15,
    "start_time": "2022-11-17T21:06:48.570Z"
   },
   {
    "duration": 417,
    "start_time": "2022-11-17T21:06:48.587Z"
   },
   {
    "duration": 47,
    "start_time": "2022-11-17T21:06:49.007Z"
   },
   {
    "duration": 161,
    "start_time": "2022-11-17T21:06:49.056Z"
   },
   {
    "duration": 22,
    "start_time": "2022-11-17T21:06:49.219Z"
   },
   {
    "duration": 5,
    "start_time": "2022-11-17T21:06:49.243Z"
   },
   {
    "duration": 15,
    "start_time": "2022-11-17T21:06:49.249Z"
   },
   {
    "duration": 24,
    "start_time": "2022-11-17T21:06:49.266Z"
   },
   {
    "duration": 13,
    "start_time": "2022-11-17T21:06:49.292Z"
   },
   {
    "duration": 38,
    "start_time": "2022-11-17T21:06:49.306Z"
   },
   {
    "duration": 25,
    "start_time": "2022-11-17T21:06:56.819Z"
   },
   {
    "duration": 17,
    "start_time": "2022-11-17T21:07:08.531Z"
   },
   {
    "duration": 117,
    "start_time": "2022-11-17T21:11:19.139Z"
   },
   {
    "duration": 12,
    "start_time": "2022-11-17T21:11:32.759Z"
   },
   {
    "duration": 1118,
    "start_time": "2022-11-18T12:58:19.245Z"
   },
   {
    "duration": 170,
    "start_time": "2022-11-18T12:58:20.365Z"
   },
   {
    "duration": 33,
    "start_time": "2022-11-18T12:58:20.537Z"
   },
   {
    "duration": 53,
    "start_time": "2022-11-18T12:58:20.571Z"
   },
   {
    "duration": 5,
    "start_time": "2022-11-18T12:58:20.627Z"
   },
   {
    "duration": 8,
    "start_time": "2022-11-18T12:58:20.633Z"
   },
   {
    "duration": 590,
    "start_time": "2022-11-18T12:58:20.643Z"
   },
   {
    "duration": 39,
    "start_time": "2022-11-18T12:58:21.236Z"
   },
   {
    "duration": 160,
    "start_time": "2022-11-18T12:58:21.276Z"
   },
   {
    "duration": 16,
    "start_time": "2022-11-18T12:58:21.438Z"
   },
   {
    "duration": 5,
    "start_time": "2022-11-18T12:58:21.456Z"
   },
   {
    "duration": 18,
    "start_time": "2022-11-18T12:58:21.463Z"
   },
   {
    "duration": 40,
    "start_time": "2022-11-18T12:58:21.483Z"
   },
   {
    "duration": 13,
    "start_time": "2022-11-18T12:58:21.525Z"
   },
   {
    "duration": 19,
    "start_time": "2022-11-18T12:58:21.539Z"
   },
   {
    "duration": 5,
    "start_time": "2022-11-18T12:58:30.981Z"
   },
   {
    "duration": 13,
    "start_time": "2022-11-18T12:58:31.545Z"
   },
   {
    "duration": 19,
    "start_time": "2022-11-18T12:58:38.501Z"
   },
   {
    "duration": 6,
    "start_time": "2022-11-18T12:58:49.940Z"
   },
   {
    "duration": 14,
    "start_time": "2022-11-18T12:59:01.748Z"
   },
   {
    "duration": 1331,
    "start_time": "2022-11-18T13:00:44.351Z"
   },
   {
    "duration": 11,
    "start_time": "2022-11-18T13:02:13.528Z"
   },
   {
    "duration": 1117,
    "start_time": "2022-11-18T13:15:49.125Z"
   },
   {
    "duration": 51,
    "start_time": "2022-11-18T13:15:50.244Z"
   },
   {
    "duration": 19,
    "start_time": "2022-11-18T13:15:50.297Z"
   },
   {
    "duration": 42,
    "start_time": "2022-11-18T13:15:50.318Z"
   },
   {
    "duration": 3,
    "start_time": "2022-11-18T13:15:50.362Z"
   },
   {
    "duration": 10,
    "start_time": "2022-11-18T13:15:50.367Z"
   },
   {
    "duration": 488,
    "start_time": "2022-11-18T13:15:50.379Z"
   },
   {
    "duration": 30,
    "start_time": "2022-11-18T13:15:50.870Z"
   },
   {
    "duration": 168,
    "start_time": "2022-11-18T13:15:50.901Z"
   },
   {
    "duration": 15,
    "start_time": "2022-11-18T13:15:51.070Z"
   },
   {
    "duration": 5,
    "start_time": "2022-11-18T13:15:51.087Z"
   },
   {
    "duration": 36,
    "start_time": "2022-11-18T13:15:51.093Z"
   },
   {
    "duration": 23,
    "start_time": "2022-11-18T13:15:51.131Z"
   },
   {
    "duration": 13,
    "start_time": "2022-11-18T13:15:51.156Z"
   },
   {
    "duration": 23,
    "start_time": "2022-11-18T13:15:51.170Z"
   },
   {
    "duration": 8,
    "start_time": "2022-11-18T13:15:58.095Z"
   },
   {
    "duration": 4,
    "start_time": "2022-11-18T13:15:58.976Z"
   },
   {
    "duration": 21,
    "start_time": "2022-11-18T13:16:00.152Z"
   },
   {
    "duration": 14,
    "start_time": "2022-11-18T13:16:27.515Z"
   },
   {
    "duration": 10,
    "start_time": "2022-11-18T13:17:38.094Z"
   },
   {
    "duration": 10,
    "start_time": "2022-11-18T13:17:51.497Z"
   },
   {
    "duration": 9,
    "start_time": "2022-11-18T13:18:35.953Z"
   },
   {
    "duration": 25,
    "start_time": "2022-11-18T13:20:14.599Z"
   },
   {
    "duration": 24,
    "start_time": "2022-11-18T13:20:33.152Z"
   },
   {
    "duration": 1282,
    "start_time": "2022-11-18T13:34:29.817Z"
   },
   {
    "duration": 60,
    "start_time": "2022-11-18T13:34:31.100Z"
   },
   {
    "duration": 22,
    "start_time": "2022-11-18T13:34:31.162Z"
   },
   {
    "duration": 63,
    "start_time": "2022-11-18T13:34:31.186Z"
   },
   {
    "duration": 3,
    "start_time": "2022-11-18T13:34:31.253Z"
   },
   {
    "duration": 27,
    "start_time": "2022-11-18T13:34:31.257Z"
   },
   {
    "duration": 427,
    "start_time": "2022-11-18T13:34:31.285Z"
   },
   {
    "duration": 35,
    "start_time": "2022-11-18T13:34:31.714Z"
   },
   {
    "duration": 155,
    "start_time": "2022-11-18T13:34:31.751Z"
   },
   {
    "duration": 28,
    "start_time": "2022-11-18T13:34:31.908Z"
   },
   {
    "duration": 8,
    "start_time": "2022-11-18T13:34:31.939Z"
   },
   {
    "duration": 160,
    "start_time": "2022-11-18T13:34:31.948Z"
   },
   {
    "duration": 0,
    "start_time": "2022-11-18T13:34:32.110Z"
   },
   {
    "duration": 0,
    "start_time": "2022-11-18T13:34:32.111Z"
   },
   {
    "duration": 0,
    "start_time": "2022-11-18T13:34:32.113Z"
   },
   {
    "duration": 0,
    "start_time": "2022-11-18T13:34:32.113Z"
   },
   {
    "duration": 0,
    "start_time": "2022-11-18T13:34:32.122Z"
   },
   {
    "duration": 0,
    "start_time": "2022-11-18T13:34:32.124Z"
   },
   {
    "duration": 0,
    "start_time": "2022-11-18T13:34:32.126Z"
   },
   {
    "duration": 0,
    "start_time": "2022-11-18T13:34:32.128Z"
   },
   {
    "duration": 0,
    "start_time": "2022-11-18T13:34:32.130Z"
   },
   {
    "duration": 0,
    "start_time": "2022-11-18T13:34:32.131Z"
   },
   {
    "duration": 29,
    "start_time": "2022-11-18T13:35:08.221Z"
   },
   {
    "duration": 24,
    "start_time": "2022-11-18T13:35:10.589Z"
   },
   {
    "duration": 12,
    "start_time": "2022-11-18T13:35:12.686Z"
   },
   {
    "duration": 11,
    "start_time": "2022-11-18T13:35:28.728Z"
   },
   {
    "duration": 3,
    "start_time": "2022-11-18T13:35:29.152Z"
   },
   {
    "duration": 22,
    "start_time": "2022-11-18T13:35:30.051Z"
   },
   {
    "duration": 9,
    "start_time": "2022-11-18T13:35:30.986Z"
   },
   {
    "duration": 13,
    "start_time": "2022-11-18T13:35:31.286Z"
   },
   {
    "duration": 12,
    "start_time": "2022-11-18T13:35:31.920Z"
   },
   {
    "duration": 26,
    "start_time": "2022-11-18T13:35:32.375Z"
   },
   {
    "duration": 5,
    "start_time": "2022-11-18T13:35:47.396Z"
   },
   {
    "duration": 162,
    "start_time": "2022-11-18T13:35:53.312Z"
   },
   {
    "duration": 152,
    "start_time": "2022-11-18T13:36:00.523Z"
   },
   {
    "duration": 13,
    "start_time": "2022-11-18T13:36:27.948Z"
   },
   {
    "duration": 10,
    "start_time": "2022-11-18T13:36:32.891Z"
   },
   {
    "duration": 132,
    "start_time": "2022-11-18T13:36:35.500Z"
   },
   {
    "duration": 231,
    "start_time": "2022-11-18T13:36:47.425Z"
   },
   {
    "duration": 14,
    "start_time": "2022-11-18T14:48:40.143Z"
   },
   {
    "duration": 2,
    "start_time": "2022-11-18T15:37:50.071Z"
   },
   {
    "duration": 14,
    "start_time": "2022-11-18T15:39:01.135Z"
   },
   {
    "duration": 45,
    "start_time": "2022-11-18T15:39:50.535Z"
   },
   {
    "duration": 408,
    "start_time": "2022-11-18T15:40:29.025Z"
   },
   {
    "duration": 2761,
    "start_time": "2022-11-18T15:40:36.282Z"
   },
   {
    "duration": 417,
    "start_time": "2022-11-18T15:40:43.493Z"
   },
   {
    "duration": 3,
    "start_time": "2022-11-18T15:42:33.343Z"
   },
   {
    "duration": 11092,
    "start_time": "2022-11-18T15:46:01.662Z"
   },
   {
    "duration": 386217,
    "start_time": "2022-11-18T15:48:07.520Z"
   },
   {
    "duration": 989,
    "start_time": "2022-11-18T23:42:38.784Z"
   },
   {
    "duration": 85,
    "start_time": "2022-11-18T23:42:39.775Z"
   },
   {
    "duration": 18,
    "start_time": "2022-11-18T23:42:39.861Z"
   },
   {
    "duration": 35,
    "start_time": "2022-11-18T23:42:39.881Z"
   },
   {
    "duration": 5,
    "start_time": "2022-11-18T23:42:39.917Z"
   },
   {
    "duration": 8,
    "start_time": "2022-11-18T23:42:39.923Z"
   },
   {
    "duration": 496,
    "start_time": "2022-11-18T23:42:39.932Z"
   },
   {
    "duration": 27,
    "start_time": "2022-11-18T23:42:40.430Z"
   },
   {
    "duration": 151,
    "start_time": "2022-11-18T23:42:40.458Z"
   },
   {
    "duration": 15,
    "start_time": "2022-11-18T23:42:40.620Z"
   },
   {
    "duration": 5,
    "start_time": "2022-11-18T23:42:40.636Z"
   },
   {
    "duration": 15,
    "start_time": "2022-11-18T23:42:40.642Z"
   },
   {
    "duration": 29,
    "start_time": "2022-11-18T23:42:40.659Z"
   },
   {
    "duration": 33,
    "start_time": "2022-11-18T23:42:40.689Z"
   },
   {
    "duration": 9,
    "start_time": "2022-11-18T23:42:40.724Z"
   },
   {
    "duration": 5,
    "start_time": "2022-11-18T23:42:40.735Z"
   },
   {
    "duration": 25,
    "start_time": "2022-11-18T23:42:40.741Z"
   },
   {
    "duration": 8,
    "start_time": "2022-11-18T23:42:40.768Z"
   },
   {
    "duration": 14,
    "start_time": "2022-11-18T23:42:40.777Z"
   },
   {
    "duration": 35,
    "start_time": "2022-11-18T23:42:40.792Z"
   },
   {
    "duration": 26,
    "start_time": "2022-11-18T23:42:40.828Z"
   },
   {
    "duration": 12,
    "start_time": "2022-11-18T23:42:40.856Z"
   },
   {
    "duration": 110,
    "start_time": "2022-11-18T23:42:40.869Z"
   },
   {
    "duration": 3,
    "start_time": "2022-11-18T23:42:40.980Z"
   },
   {
    "duration": 405,
    "start_time": "2022-11-18T23:42:40.985Z"
   },
   {
    "duration": 3,
    "start_time": "2022-11-18T23:42:41.391Z"
   },
   {
    "duration": 364971,
    "start_time": "2022-11-18T23:42:41.395Z"
   },
   {
    "duration": 3,
    "start_time": "2022-11-19T00:43:08.449Z"
   },
   {
    "duration": 298,
    "start_time": "2022-11-19T00:44:36.197Z"
   },
   {
    "duration": 106,
    "start_time": "2022-11-19T00:45:07.716Z"
   },
   {
    "duration": 2,
    "start_time": "2022-11-19T00:45:14.282Z"
   },
   {
    "duration": 12683,
    "start_time": "2022-11-19T00:45:15.038Z"
   },
   {
    "duration": 25836,
    "start_time": "2022-11-19T00:50:53.789Z"
   },
   {
    "duration": 12457,
    "start_time": "2022-11-19T00:51:24.975Z"
   },
   {
    "duration": 9,
    "start_time": "2022-11-19T00:52:09.702Z"
   },
   {
    "duration": 84,
    "start_time": "2022-11-19T00:52:15.573Z"
   },
   {
    "duration": 97,
    "start_time": "2022-11-19T00:52:53.902Z"
   },
   {
    "duration": 87,
    "start_time": "2022-11-19T00:53:10.436Z"
   },
   {
    "duration": 128,
    "start_time": "2022-11-19T00:53:37.801Z"
   },
   {
    "duration": 96,
    "start_time": "2022-11-19T00:53:39.608Z"
   },
   {
    "duration": 102,
    "start_time": "2022-11-19T00:55:04.845Z"
   },
   {
    "duration": 104,
    "start_time": "2022-11-19T00:55:08.965Z"
   },
   {
    "duration": 9,
    "start_time": "2022-11-19T00:58:05.829Z"
   },
   {
    "duration": 6671,
    "start_time": "2022-11-19T01:09:36.170Z"
   },
   {
    "duration": 33,
    "start_time": "2022-11-19T01:09:54.853Z"
   },
   {
    "duration": 17,
    "start_time": "2022-11-19T01:10:18.742Z"
   },
   {
    "duration": 18,
    "start_time": "2022-11-19T01:10:48.466Z"
   },
   {
    "duration": 19,
    "start_time": "2022-11-19T01:11:37.327Z"
   },
   {
    "duration": 17,
    "start_time": "2022-11-19T01:13:53.789Z"
   },
   {
    "duration": 5,
    "start_time": "2022-11-19T01:14:10.784Z"
   },
   {
    "duration": 16,
    "start_time": "2022-11-19T01:14:13.224Z"
   },
   {
    "duration": 33008,
    "start_time": "2022-11-19T01:14:54.249Z"
   },
   {
    "duration": 2164,
    "start_time": "2022-11-19T01:15:55.863Z"
   },
   {
    "duration": 2244,
    "start_time": "2022-11-19T01:16:10.149Z"
   },
   {
    "duration": 1334,
    "start_time": "2022-11-19T01:16:12.395Z"
   },
   {
    "duration": 47,
    "start_time": "2022-11-19T01:16:13.731Z"
   },
   {
    "duration": 17,
    "start_time": "2022-11-19T01:16:13.822Z"
   },
   {
    "duration": 86,
    "start_time": "2022-11-19T01:16:13.840Z"
   },
   {
    "duration": 3,
    "start_time": "2022-11-19T01:16:13.927Z"
   },
   {
    "duration": 12,
    "start_time": "2022-11-19T01:16:13.932Z"
   },
   {
    "duration": 509,
    "start_time": "2022-11-19T01:16:13.945Z"
   },
   {
    "duration": 27,
    "start_time": "2022-11-19T01:16:14.456Z"
   },
   {
    "duration": 152,
    "start_time": "2022-11-19T01:16:14.485Z"
   },
   {
    "duration": 18,
    "start_time": "2022-11-19T01:16:14.638Z"
   },
   {
    "duration": 4,
    "start_time": "2022-11-19T01:16:14.658Z"
   },
   {
    "duration": 17,
    "start_time": "2022-11-19T01:16:14.664Z"
   },
   {
    "duration": 41,
    "start_time": "2022-11-19T01:16:14.683Z"
   },
   {
    "duration": 11,
    "start_time": "2022-11-19T01:16:14.725Z"
   },
   {
    "duration": 10,
    "start_time": "2022-11-19T01:16:14.738Z"
   },
   {
    "duration": 9,
    "start_time": "2022-11-19T01:16:14.750Z"
   },
   {
    "duration": 23,
    "start_time": "2022-11-19T01:16:14.761Z"
   },
   {
    "duration": 7,
    "start_time": "2022-11-19T01:16:14.786Z"
   },
   {
    "duration": 28,
    "start_time": "2022-11-19T01:16:14.795Z"
   },
   {
    "duration": 14,
    "start_time": "2022-11-19T01:16:14.825Z"
   },
   {
    "duration": 24,
    "start_time": "2022-11-19T01:16:14.841Z"
   },
   {
    "duration": 12,
    "start_time": "2022-11-19T01:16:14.866Z"
   },
   {
    "duration": 117,
    "start_time": "2022-11-19T01:16:14.880Z"
   },
   {
    "duration": 2,
    "start_time": "2022-11-19T01:16:14.999Z"
   },
   {
    "duration": 418,
    "start_time": "2022-11-19T01:16:15.002Z"
   },
   {
    "duration": 2,
    "start_time": "2022-11-19T01:16:15.422Z"
   },
   {
    "duration": 355899,
    "start_time": "2022-11-19T01:16:15.427Z"
   },
   {
    "duration": 3,
    "start_time": "2022-11-19T01:22:11.327Z"
   },
   {
    "duration": 13399,
    "start_time": "2022-11-19T01:22:11.331Z"
   },
   {
    "duration": 29,
    "start_time": "2022-11-19T01:26:12.431Z"
   },
   {
    "duration": 29,
    "start_time": "2022-11-19T01:26:19.122Z"
   },
   {
    "duration": 30,
    "start_time": "2022-11-19T01:26:24.936Z"
   },
   {
    "duration": 5,
    "start_time": "2022-11-19T01:26:41.029Z"
   },
   {
    "duration": 30,
    "start_time": "2022-11-19T01:27:40.855Z"
   },
   {
    "duration": 29,
    "start_time": "2022-11-19T01:28:26.196Z"
   },
   {
    "duration": 33,
    "start_time": "2022-11-19T01:29:46.226Z"
   },
   {
    "duration": 2,
    "start_time": "2022-11-19T01:34:59.746Z"
   },
   {
    "duration": 647,
    "start_time": "2022-11-19T01:35:43.431Z"
   },
   {
    "duration": 3,
    "start_time": "2022-11-19T01:36:13.293Z"
   },
   {
    "duration": 576207,
    "start_time": "2022-11-19T01:38:56.428Z"
   },
   {
    "duration": 17182,
    "start_time": "2022-11-19T01:49:45.843Z"
   },
   {
    "duration": 21,
    "start_time": "2022-11-19T01:53:31.886Z"
   },
   {
    "duration": 19,
    "start_time": "2022-11-19T01:53:52.305Z"
   },
   {
    "duration": 28,
    "start_time": "2022-11-19T01:54:04.693Z"
   },
   {
    "duration": 48,
    "start_time": "2022-11-19T01:54:31.778Z"
   },
   {
    "duration": 24,
    "start_time": "2022-11-19T01:54:37.832Z"
   },
   {
    "duration": 24,
    "start_time": "2022-11-19T01:54:47.195Z"
   },
   {
    "duration": 16,
    "start_time": "2022-11-19T01:56:16.696Z"
   },
   {
    "duration": 29,
    "start_time": "2022-11-19T01:57:28.443Z"
   },
   {
    "duration": 10,
    "start_time": "2022-11-19T01:58:03.274Z"
   },
   {
    "duration": 13,
    "start_time": "2022-11-19T01:58:10.379Z"
   },
   {
    "duration": 12,
    "start_time": "2022-11-19T01:58:18.109Z"
   },
   {
    "duration": 13,
    "start_time": "2022-11-19T01:58:42.474Z"
   },
   {
    "duration": 11,
    "start_time": "2022-11-19T01:58:45.580Z"
   },
   {
    "duration": 10,
    "start_time": "2022-11-19T01:58:45.904Z"
   },
   {
    "duration": 101,
    "start_time": "2022-11-19T01:58:57.177Z"
   },
   {
    "duration": 14,
    "start_time": "2022-11-19T01:59:24.247Z"
   },
   {
    "duration": 63,
    "start_time": "2022-11-19T02:01:51.187Z"
   },
   {
    "duration": 2307,
    "start_time": "2022-11-19T02:01:59.022Z"
   },
   {
    "duration": 857,
    "start_time": "2022-11-19T02:02:01.332Z"
   },
   {
    "duration": 49,
    "start_time": "2022-11-19T02:02:02.190Z"
   },
   {
    "duration": 17,
    "start_time": "2022-11-19T02:02:02.241Z"
   },
   {
    "duration": 37,
    "start_time": "2022-11-19T02:02:02.259Z"
   },
   {
    "duration": 3,
    "start_time": "2022-11-19T02:02:02.297Z"
   },
   {
    "duration": 6,
    "start_time": "2022-11-19T02:02:02.321Z"
   },
   {
    "duration": 359,
    "start_time": "2022-11-19T02:02:02.328Z"
   },
   {
    "duration": 38,
    "start_time": "2022-11-19T02:02:02.689Z"
   },
   {
    "duration": 155,
    "start_time": "2022-11-19T02:02:02.731Z"
   },
   {
    "duration": 14,
    "start_time": "2022-11-19T02:02:02.888Z"
   },
   {
    "duration": 20,
    "start_time": "2022-11-19T02:02:02.904Z"
   },
   {
    "duration": 15,
    "start_time": "2022-11-19T02:02:02.926Z"
   },
   {
    "duration": 24,
    "start_time": "2022-11-19T02:02:02.943Z"
   },
   {
    "duration": 10,
    "start_time": "2022-11-19T02:02:02.969Z"
   },
   {
    "duration": 9,
    "start_time": "2022-11-19T02:02:02.981Z"
   },
   {
    "duration": 30,
    "start_time": "2022-11-19T02:02:02.991Z"
   },
   {
    "duration": 21,
    "start_time": "2022-11-19T02:02:03.023Z"
   },
   {
    "duration": 11,
    "start_time": "2022-11-19T02:02:03.046Z"
   },
   {
    "duration": 11,
    "start_time": "2022-11-19T02:02:03.059Z"
   },
   {
    "duration": 13,
    "start_time": "2022-11-19T02:02:03.072Z"
   },
   {
    "duration": 48,
    "start_time": "2022-11-19T02:02:03.087Z"
   },
   {
    "duration": 12,
    "start_time": "2022-11-19T02:02:03.136Z"
   },
   {
    "duration": 5,
    "start_time": "2022-11-19T02:02:03.150Z"
   },
   {
    "duration": 120,
    "start_time": "2022-11-19T02:02:03.157Z"
   },
   {
    "duration": 3,
    "start_time": "2022-11-19T02:02:03.279Z"
   },
   {
    "duration": 392,
    "start_time": "2022-11-19T02:02:03.283Z"
   },
   {
    "duration": 3,
    "start_time": "2022-11-19T02:02:03.678Z"
   },
   {
    "duration": 355626,
    "start_time": "2022-11-19T02:02:03.683Z"
   },
   {
    "duration": 2,
    "start_time": "2022-11-19T02:07:59.311Z"
   },
   {
    "duration": 12701,
    "start_time": "2022-11-19T02:07:59.320Z"
   },
   {
    "duration": 117,
    "start_time": "2022-11-19T02:08:12.024Z"
   },
   {
    "duration": 3,
    "start_time": "2022-11-19T02:08:12.142Z"
   },
   {
    "duration": 734,
    "start_time": "2022-11-19T02:08:12.147Z"
   },
   {
    "duration": 3,
    "start_time": "2022-11-19T02:08:12.884Z"
   },
   {
    "duration": 151350,
    "start_time": "2022-11-19T02:08:12.888Z"
   },
   {
    "duration": 17486,
    "start_time": "2022-11-19T02:10:44.240Z"
   },
   {
    "duration": 212,
    "start_time": "2022-11-19T02:11:01.728Z"
   },
   {
    "duration": 9637,
    "start_time": "2022-11-19T11:09:11.116Z"
   },
   {
    "duration": 928,
    "start_time": "2022-11-19T11:09:20.756Z"
   },
   {
    "duration": 92,
    "start_time": "2022-11-19T11:09:21.686Z"
   },
   {
    "duration": 23,
    "start_time": "2022-11-19T11:09:21.781Z"
   },
   {
    "duration": 54,
    "start_time": "2022-11-19T11:09:21.806Z"
   },
   {
    "duration": 3,
    "start_time": "2022-11-19T11:09:21.862Z"
   },
   {
    "duration": 9,
    "start_time": "2022-11-19T11:09:21.866Z"
   },
   {
    "duration": 567,
    "start_time": "2022-11-19T11:09:21.876Z"
   },
   {
    "duration": 30,
    "start_time": "2022-11-19T11:09:22.445Z"
   },
   {
    "duration": 172,
    "start_time": "2022-11-19T11:09:22.478Z"
   },
   {
    "duration": 16,
    "start_time": "2022-11-19T11:09:22.652Z"
   },
   {
    "duration": 5,
    "start_time": "2022-11-19T11:09:22.674Z"
   },
   {
    "duration": 33,
    "start_time": "2022-11-19T11:09:22.681Z"
   },
   {
    "duration": 30,
    "start_time": "2022-11-19T11:09:22.716Z"
   },
   {
    "duration": 14,
    "start_time": "2022-11-19T11:09:22.747Z"
   },
   {
    "duration": 52,
    "start_time": "2022-11-19T11:09:22.763Z"
   },
   {
    "duration": 20,
    "start_time": "2022-11-19T11:09:22.817Z"
   },
   {
    "duration": 37,
    "start_time": "2022-11-19T11:09:22.840Z"
   },
   {
    "duration": 15,
    "start_time": "2022-11-19T11:09:22.879Z"
   },
   {
    "duration": 19,
    "start_time": "2022-11-19T11:09:22.896Z"
   },
   {
    "duration": 20,
    "start_time": "2022-11-19T11:09:22.917Z"
   },
   {
    "duration": 29,
    "start_time": "2022-11-19T11:09:22.939Z"
   },
   {
    "duration": 7,
    "start_time": "2022-11-19T11:09:22.970Z"
   },
   {
    "duration": 153,
    "start_time": "2022-11-19T11:09:22.978Z"
   },
   {
    "duration": 3,
    "start_time": "2022-11-19T11:09:23.132Z"
   },
   {
    "duration": 431,
    "start_time": "2022-11-19T11:09:23.136Z"
   },
   {
    "duration": 3,
    "start_time": "2022-11-19T11:09:23.568Z"
   },
   {
    "duration": 100427,
    "start_time": "2022-11-19T11:09:23.573Z"
   },
   {
    "duration": 3,
    "start_time": "2022-11-19T11:11:04.001Z"
   },
   {
    "duration": 12497,
    "start_time": "2022-11-19T11:11:04.006Z"
   },
   {
    "duration": 209,
    "start_time": "2022-11-19T11:11:16.505Z"
   },
   {
    "duration": 3,
    "start_time": "2022-11-19T11:11:16.716Z"
   },
   {
    "duration": 746,
    "start_time": "2022-11-19T11:11:16.721Z"
   },
   {
    "duration": 3,
    "start_time": "2022-11-19T11:11:17.469Z"
   },
   {
    "duration": 161953,
    "start_time": "2022-11-19T11:11:17.474Z"
   },
   {
    "duration": 16476,
    "start_time": "2022-11-19T11:13:59.429Z"
   },
   {
    "duration": 220,
    "start_time": "2022-11-19T11:14:15.909Z"
   },
   {
    "duration": 4,
    "start_time": "2022-11-19T11:24:04.539Z"
   },
   {
    "duration": 113,
    "start_time": "2022-11-19T11:24:26.572Z"
   },
   {
    "duration": 2698,
    "start_time": "2022-11-19T11:24:35.845Z"
   },
   {
    "duration": 1165,
    "start_time": "2022-11-19T11:24:38.545Z"
   },
   {
    "duration": 47,
    "start_time": "2022-11-19T11:24:39.712Z"
   },
   {
    "duration": 18,
    "start_time": "2022-11-19T11:24:39.761Z"
   },
   {
    "duration": 38,
    "start_time": "2022-11-19T11:24:39.782Z"
   },
   {
    "duration": 3,
    "start_time": "2022-11-19T11:24:39.822Z"
   },
   {
    "duration": 16,
    "start_time": "2022-11-19T11:24:39.826Z"
   },
   {
    "duration": 380,
    "start_time": "2022-11-19T11:24:39.843Z"
   },
   {
    "duration": 29,
    "start_time": "2022-11-19T11:24:40.225Z"
   },
   {
    "duration": 179,
    "start_time": "2022-11-19T11:24:40.256Z"
   },
   {
    "duration": 14,
    "start_time": "2022-11-19T11:24:40.437Z"
   },
   {
    "duration": 6,
    "start_time": "2022-11-19T11:24:40.453Z"
   },
   {
    "duration": 15,
    "start_time": "2022-11-19T11:24:40.460Z"
   },
   {
    "duration": 32,
    "start_time": "2022-11-19T11:24:40.496Z"
   },
   {
    "duration": 11,
    "start_time": "2022-11-19T11:24:40.530Z"
   },
   {
    "duration": 10,
    "start_time": "2022-11-19T11:24:40.543Z"
   },
   {
    "duration": 7,
    "start_time": "2022-11-19T11:24:40.554Z"
   },
   {
    "duration": 40,
    "start_time": "2022-11-19T11:24:40.562Z"
   },
   {
    "duration": 12,
    "start_time": "2022-11-19T11:24:40.604Z"
   },
   {
    "duration": 13,
    "start_time": "2022-11-19T11:24:40.617Z"
   },
   {
    "duration": 16,
    "start_time": "2022-11-19T11:24:40.632Z"
   },
   {
    "duration": 25,
    "start_time": "2022-11-19T11:24:40.650Z"
   },
   {
    "duration": 24,
    "start_time": "2022-11-19T11:24:40.676Z"
   },
   {
    "duration": 126,
    "start_time": "2022-11-19T11:24:40.701Z"
   },
   {
    "duration": 3,
    "start_time": "2022-11-19T11:24:40.828Z"
   },
   {
    "duration": 413,
    "start_time": "2022-11-19T11:24:40.832Z"
   },
   {
    "duration": 2,
    "start_time": "2022-11-19T11:24:41.247Z"
   },
   {
    "duration": 101216,
    "start_time": "2022-11-19T11:24:41.251Z"
   },
   {
    "duration": 2,
    "start_time": "2022-11-19T11:26:22.468Z"
   },
   {
    "duration": 12625,
    "start_time": "2022-11-19T11:26:22.472Z"
   },
   {
    "duration": 120,
    "start_time": "2022-11-19T11:26:35.099Z"
   },
   {
    "duration": 7,
    "start_time": "2022-11-19T11:26:35.221Z"
   },
   {
    "duration": 726,
    "start_time": "2022-11-19T11:26:35.229Z"
   },
   {
    "duration": 3,
    "start_time": "2022-11-19T11:26:35.956Z"
   },
   {
    "duration": 164701,
    "start_time": "2022-11-19T11:26:35.960Z"
   },
   {
    "duration": 16537,
    "start_time": "2022-11-19T11:29:20.663Z"
   },
   {
    "duration": 216,
    "start_time": "2022-11-19T11:29:37.202Z"
   },
   {
    "duration": 23,
    "start_time": "2022-11-19T11:41:00.300Z"
   },
   {
    "duration": 21,
    "start_time": "2022-11-19T11:41:48.719Z"
   },
   {
    "duration": 4,
    "start_time": "2022-11-19T12:08:29.717Z"
   },
   {
    "duration": 581,
    "start_time": "2022-11-19T12:11:41.146Z"
   },
   {
    "duration": 439,
    "start_time": "2022-11-19T12:14:12.440Z"
   },
   {
    "duration": 436,
    "start_time": "2022-11-19T12:14:32.710Z"
   },
   {
    "duration": 12888,
    "start_time": "2022-11-19T12:15:32.016Z"
   },
   {
    "duration": 4,
    "start_time": "2022-11-19T12:15:55.138Z"
   },
   {
    "duration": 2086,
    "start_time": "2022-11-19T12:22:39.402Z"
   },
   {
    "duration": 960,
    "start_time": "2022-11-19T12:22:41.490Z"
   },
   {
    "duration": 48,
    "start_time": "2022-11-19T12:22:42.452Z"
   },
   {
    "duration": 21,
    "start_time": "2022-11-19T12:22:42.502Z"
   },
   {
    "duration": 40,
    "start_time": "2022-11-19T12:22:42.525Z"
   },
   {
    "duration": 3,
    "start_time": "2022-11-19T12:22:42.567Z"
   },
   {
    "duration": 25,
    "start_time": "2022-11-19T12:22:42.572Z"
   },
   {
    "duration": 364,
    "start_time": "2022-11-19T12:22:42.599Z"
   },
   {
    "duration": 36,
    "start_time": "2022-11-19T12:22:42.965Z"
   },
   {
    "duration": 146,
    "start_time": "2022-11-19T12:22:43.003Z"
   },
   {
    "duration": 15,
    "start_time": "2022-11-19T12:22:43.151Z"
   },
   {
    "duration": 5,
    "start_time": "2022-11-19T12:22:43.167Z"
   },
   {
    "duration": 32,
    "start_time": "2022-11-19T12:22:43.174Z"
   },
   {
    "duration": 26,
    "start_time": "2022-11-19T12:22:43.209Z"
   },
   {
    "duration": 11,
    "start_time": "2022-11-19T12:22:43.236Z"
   },
   {
    "duration": 10,
    "start_time": "2022-11-19T12:22:43.248Z"
   },
   {
    "duration": 3,
    "start_time": "2022-11-19T12:22:43.259Z"
   },
   {
    "duration": 45,
    "start_time": "2022-11-19T12:22:43.263Z"
   },
   {
    "duration": 11,
    "start_time": "2022-11-19T12:22:43.310Z"
   },
   {
    "duration": 14,
    "start_time": "2022-11-19T12:22:43.323Z"
   },
   {
    "duration": 13,
    "start_time": "2022-11-19T12:22:43.339Z"
   },
   {
    "duration": 42,
    "start_time": "2022-11-19T12:22:43.354Z"
   },
   {
    "duration": 4,
    "start_time": "2022-11-19T12:22:43.398Z"
   },
   {
    "duration": 118,
    "start_time": "2022-11-19T12:22:43.404Z"
   },
   {
    "duration": 2,
    "start_time": "2022-11-19T12:22:43.524Z"
   },
   {
    "duration": 465,
    "start_time": "2022-11-19T12:22:43.528Z"
   },
   {
    "duration": 3,
    "start_time": "2022-11-19T12:22:43.996Z"
   },
   {
    "duration": 110214,
    "start_time": "2022-11-19T12:22:44.001Z"
   },
   {
    "duration": 3,
    "start_time": "2022-11-19T12:24:34.216Z"
   },
   {
    "duration": 14379,
    "start_time": "2022-11-19T12:24:34.221Z"
   },
   {
    "duration": 196,
    "start_time": "2022-11-19T12:24:48.602Z"
   },
   {
    "duration": 2,
    "start_time": "2022-11-19T12:24:48.800Z"
   },
   {
    "duration": 786,
    "start_time": "2022-11-19T12:24:48.804Z"
   },
   {
    "duration": 7,
    "start_time": "2022-11-19T12:24:49.591Z"
   },
   {
    "duration": 171340,
    "start_time": "2022-11-19T12:24:49.599Z"
   },
   {
    "duration": 19363,
    "start_time": "2022-11-19T12:27:40.941Z"
   },
   {
    "duration": 218,
    "start_time": "2022-11-19T12:28:00.306Z"
   },
   {
    "duration": 155,
    "start_time": "2022-11-19T12:58:23.570Z"
   },
   {
    "duration": 46,
    "start_time": "2022-11-19T12:58:28.930Z"
   },
   {
    "duration": 41,
    "start_time": "2022-11-19T12:58:53.693Z"
   },
   {
    "duration": 48,
    "start_time": "2022-11-19T12:59:18.206Z"
   },
   {
    "duration": 44,
    "start_time": "2022-11-19T12:59:22.475Z"
   },
   {
    "duration": 49,
    "start_time": "2022-11-19T12:59:47.467Z"
   },
   {
    "duration": 44,
    "start_time": "2022-11-19T12:59:50.798Z"
   },
   {
    "duration": 49,
    "start_time": "2022-11-19T13:00:14.325Z"
   },
   {
    "duration": 2208,
    "start_time": "2022-11-19T13:00:30.967Z"
   },
   {
    "duration": 997,
    "start_time": "2022-11-19T13:00:33.177Z"
   },
   {
    "duration": 50,
    "start_time": "2022-11-19T13:00:34.176Z"
   },
   {
    "duration": 19,
    "start_time": "2022-11-19T13:00:34.228Z"
   },
   {
    "duration": 53,
    "start_time": "2022-11-19T13:00:34.249Z"
   },
   {
    "duration": 3,
    "start_time": "2022-11-19T13:00:34.303Z"
   },
   {
    "duration": 8,
    "start_time": "2022-11-19T13:00:34.308Z"
   },
   {
    "duration": 385,
    "start_time": "2022-11-19T13:00:34.317Z"
   },
   {
    "duration": 30,
    "start_time": "2022-11-19T13:00:34.704Z"
   },
   {
    "duration": 151,
    "start_time": "2022-11-19T13:00:34.738Z"
   },
   {
    "duration": 15,
    "start_time": "2022-11-19T13:00:34.896Z"
   },
   {
    "duration": 6,
    "start_time": "2022-11-19T13:00:34.913Z"
   },
   {
    "duration": 16,
    "start_time": "2022-11-19T13:00:34.921Z"
   },
   {
    "duration": 58,
    "start_time": "2022-11-19T13:00:34.939Z"
   },
   {
    "duration": 13,
    "start_time": "2022-11-19T13:00:34.999Z"
   },
   {
    "duration": 52,
    "start_time": "2022-11-19T13:00:35.014Z"
   },
   {
    "duration": 38,
    "start_time": "2022-11-19T13:00:35.068Z"
   },
   {
    "duration": 36,
    "start_time": "2022-11-19T13:00:35.107Z"
   },
   {
    "duration": 16,
    "start_time": "2022-11-19T13:00:35.145Z"
   },
   {
    "duration": 49,
    "start_time": "2022-11-19T13:00:35.163Z"
   },
   {
    "duration": 50,
    "start_time": "2022-11-19T13:00:35.213Z"
   },
   {
    "duration": 32,
    "start_time": "2022-11-19T13:00:35.264Z"
   },
   {
    "duration": 7,
    "start_time": "2022-11-19T13:00:35.298Z"
   },
   {
    "duration": 145,
    "start_time": "2022-11-19T13:00:35.307Z"
   },
   {
    "duration": 3,
    "start_time": "2022-11-19T13:00:35.454Z"
   },
   {
    "duration": 454,
    "start_time": "2022-11-19T13:00:35.458Z"
   },
   {
    "duration": 2,
    "start_time": "2022-11-19T13:00:35.914Z"
   },
   {
    "duration": 108814,
    "start_time": "2022-11-19T13:00:35.919Z"
   },
   {
    "duration": 2,
    "start_time": "2022-11-19T13:02:24.735Z"
   },
   {
    "duration": 15661,
    "start_time": "2022-11-19T13:02:24.739Z"
   },
   {
    "duration": 210,
    "start_time": "2022-11-19T13:02:40.406Z"
   },
   {
    "duration": 2,
    "start_time": "2022-11-19T13:02:40.618Z"
   },
   {
    "duration": 731,
    "start_time": "2022-11-19T13:02:40.622Z"
   },
   {
    "duration": 3,
    "start_time": "2022-11-19T13:02:41.355Z"
   },
   {
    "duration": 170157,
    "start_time": "2022-11-19T13:02:41.360Z"
   },
   {
    "duration": 19480,
    "start_time": "2022-11-19T13:05:31.518Z"
   },
   {
    "duration": 132,
    "start_time": "2022-11-19T13:05:51.000Z"
   },
   {
    "duration": 11878,
    "start_time": "2022-11-20T07:54:45.205Z"
   },
   {
    "duration": 936,
    "start_time": "2022-11-20T07:54:57.085Z"
   },
   {
    "duration": 164,
    "start_time": "2022-11-20T07:54:58.023Z"
   },
   {
    "duration": 17,
    "start_time": "2022-11-20T07:54:58.189Z"
   },
   {
    "duration": 36,
    "start_time": "2022-11-20T07:54:58.208Z"
   },
   {
    "duration": 3,
    "start_time": "2022-11-20T07:54:58.246Z"
   },
   {
    "duration": 8,
    "start_time": "2022-11-20T07:54:58.250Z"
   },
   {
    "duration": 965,
    "start_time": "2022-11-20T07:54:58.260Z"
   },
   {
    "duration": 27,
    "start_time": "2022-11-20T07:54:59.227Z"
   },
   {
    "duration": 132,
    "start_time": "2022-11-20T07:54:59.256Z"
   },
   {
    "duration": 24,
    "start_time": "2022-11-20T07:54:59.390Z"
   },
   {
    "duration": 4,
    "start_time": "2022-11-20T07:54:59.416Z"
   },
   {
    "duration": 14,
    "start_time": "2022-11-20T07:54:59.422Z"
   },
   {
    "duration": 34,
    "start_time": "2022-11-20T07:54:59.439Z"
   },
   {
    "duration": 12,
    "start_time": "2022-11-20T07:54:59.475Z"
   },
   {
    "duration": 28,
    "start_time": "2022-11-20T07:54:59.488Z"
   },
   {
    "duration": 9,
    "start_time": "2022-11-20T07:54:59.518Z"
   },
   {
    "duration": 29,
    "start_time": "2022-11-20T07:54:59.529Z"
   },
   {
    "duration": 11,
    "start_time": "2022-11-20T07:54:59.559Z"
   },
   {
    "duration": 29,
    "start_time": "2022-11-20T07:54:59.572Z"
   },
   {
    "duration": 13,
    "start_time": "2022-11-20T07:54:59.603Z"
   },
   {
    "duration": 22,
    "start_time": "2022-11-20T07:54:59.621Z"
   },
   {
    "duration": 4,
    "start_time": "2022-11-20T07:54:59.645Z"
   },
   {
    "duration": 109,
    "start_time": "2022-11-20T07:54:59.650Z"
   },
   {
    "duration": 2,
    "start_time": "2022-11-20T07:54:59.760Z"
   },
   {
    "duration": 424,
    "start_time": "2022-11-20T07:54:59.764Z"
   },
   {
    "duration": 3,
    "start_time": "2022-11-20T07:55:00.190Z"
   },
   {
    "duration": 31754,
    "start_time": "2022-11-20T07:55:00.194Z"
   },
   {
    "duration": 2,
    "start_time": "2022-11-20T07:55:31.950Z"
   },
   {
    "duration": 2361,
    "start_time": "2022-11-20T07:55:31.953Z"
   },
   {
    "duration": 0,
    "start_time": "2022-11-20T07:55:34.316Z"
   },
   {
    "duration": 0,
    "start_time": "2022-11-20T07:55:34.317Z"
   },
   {
    "duration": 0,
    "start_time": "2022-11-20T07:55:34.318Z"
   },
   {
    "duration": 0,
    "start_time": "2022-11-20T07:55:34.319Z"
   },
   {
    "duration": 0,
    "start_time": "2022-11-20T07:55:34.320Z"
   },
   {
    "duration": 0,
    "start_time": "2022-11-20T07:55:34.322Z"
   },
   {
    "duration": 0,
    "start_time": "2022-11-20T07:55:34.322Z"
   },
   {
    "duration": 5075,
    "start_time": "2022-11-20T07:55:41.352Z"
   },
   {
    "duration": 901,
    "start_time": "2022-11-20T07:55:46.429Z"
   },
   {
    "duration": 51,
    "start_time": "2022-11-20T07:55:47.332Z"
   },
   {
    "duration": 19,
    "start_time": "2022-11-20T07:55:47.385Z"
   },
   {
    "duration": 37,
    "start_time": "2022-11-20T07:55:47.407Z"
   },
   {
    "duration": 4,
    "start_time": "2022-11-20T07:55:47.446Z"
   },
   {
    "duration": 7,
    "start_time": "2022-11-20T07:55:47.451Z"
   },
   {
    "duration": 782,
    "start_time": "2022-11-20T07:55:47.460Z"
   },
   {
    "duration": 27,
    "start_time": "2022-11-20T07:55:48.244Z"
   },
   {
    "duration": 141,
    "start_time": "2022-11-20T07:55:48.272Z"
   },
   {
    "duration": 19,
    "start_time": "2022-11-20T07:55:48.414Z"
   },
   {
    "duration": 5,
    "start_time": "2022-11-20T07:55:48.435Z"
   },
   {
    "duration": 15,
    "start_time": "2022-11-20T07:55:48.442Z"
   },
   {
    "duration": 55,
    "start_time": "2022-11-20T07:55:48.460Z"
   },
   {
    "duration": 13,
    "start_time": "2022-11-20T07:55:48.516Z"
   },
   {
    "duration": 11,
    "start_time": "2022-11-20T07:55:48.531Z"
   },
   {
    "duration": 4,
    "start_time": "2022-11-20T07:55:48.544Z"
   },
   {
    "duration": 23,
    "start_time": "2022-11-20T07:55:48.550Z"
   },
   {
    "duration": 12,
    "start_time": "2022-11-20T07:55:48.575Z"
   },
   {
    "duration": 12,
    "start_time": "2022-11-20T07:55:48.613Z"
   },
   {
    "duration": 14,
    "start_time": "2022-11-20T07:55:48.626Z"
   },
   {
    "duration": 27,
    "start_time": "2022-11-20T07:55:48.642Z"
   },
   {
    "duration": 6,
    "start_time": "2022-11-20T07:55:48.671Z"
   },
   {
    "duration": 134,
    "start_time": "2022-11-20T07:55:48.679Z"
   },
   {
    "duration": 3,
    "start_time": "2022-11-20T07:55:48.814Z"
   },
   {
    "duration": 420,
    "start_time": "2022-11-20T07:55:48.818Z"
   },
   {
    "duration": 3,
    "start_time": "2022-11-20T07:55:49.239Z"
   },
   {
    "duration": 100092,
    "start_time": "2022-11-20T07:55:49.243Z"
   },
   {
    "duration": 2,
    "start_time": "2022-11-20T07:57:29.337Z"
   },
   {
    "duration": 14379,
    "start_time": "2022-11-20T07:57:29.341Z"
   },
   {
    "duration": 207,
    "start_time": "2022-11-20T07:57:43.722Z"
   },
   {
    "duration": 3,
    "start_time": "2022-11-20T07:57:43.930Z"
   },
   {
    "duration": 687,
    "start_time": "2022-11-20T07:57:43.935Z"
   },
   {
    "duration": 3,
    "start_time": "2022-11-20T07:57:44.624Z"
   },
   {
    "duration": 155716,
    "start_time": "2022-11-20T07:57:44.628Z"
   },
   {
    "duration": 18580,
    "start_time": "2022-11-20T08:00:20.346Z"
   },
   {
    "duration": 123,
    "start_time": "2022-11-20T08:00:39.015Z"
   },
   {
    "duration": 9,
    "start_time": "2022-11-20T11:10:35.652Z"
   },
   {
    "duration": 6888,
    "start_time": "2022-11-20T11:10:47.035Z"
   },
   {
    "duration": 1031,
    "start_time": "2022-11-20T11:10:53.925Z"
   },
   {
    "duration": 83,
    "start_time": "2022-11-20T11:10:54.958Z"
   },
   {
    "duration": 17,
    "start_time": "2022-11-20T11:10:55.042Z"
   },
   {
    "duration": 37,
    "start_time": "2022-11-20T11:10:55.061Z"
   },
   {
    "duration": 2,
    "start_time": "2022-11-20T11:10:55.100Z"
   },
   {
    "duration": 9,
    "start_time": "2022-11-20T11:10:55.104Z"
   },
   {
    "duration": 568,
    "start_time": "2022-11-20T11:10:55.120Z"
   },
   {
    "duration": 33,
    "start_time": "2022-11-20T11:10:55.689Z"
   },
   {
    "duration": 133,
    "start_time": "2022-11-20T11:10:55.724Z"
   },
   {
    "duration": 15,
    "start_time": "2022-11-20T11:10:55.858Z"
   },
   {
    "duration": 5,
    "start_time": "2022-11-20T11:10:55.874Z"
   },
   {
    "duration": 14,
    "start_time": "2022-11-20T11:10:55.880Z"
   },
   {
    "duration": 44,
    "start_time": "2022-11-20T11:10:55.897Z"
   },
   {
    "duration": 10,
    "start_time": "2022-11-20T11:10:55.942Z"
   },
   {
    "duration": 10,
    "start_time": "2022-11-20T11:10:55.953Z"
   },
   {
    "duration": 3,
    "start_time": "2022-11-20T11:10:55.964Z"
   },
   {
    "duration": 26,
    "start_time": "2022-11-20T11:10:55.968Z"
   },
   {
    "duration": 27,
    "start_time": "2022-11-20T11:10:55.995Z"
   },
   {
    "duration": 12,
    "start_time": "2022-11-20T11:10:56.023Z"
   },
   {
    "duration": 13,
    "start_time": "2022-11-20T11:10:56.036Z"
   },
   {
    "duration": 22,
    "start_time": "2022-11-20T11:10:56.051Z"
   },
   {
    "duration": 4,
    "start_time": "2022-11-20T11:10:56.075Z"
   },
   {
    "duration": 127,
    "start_time": "2022-11-20T11:10:56.081Z"
   },
   {
    "duration": 15,
    "start_time": "2022-11-20T11:10:56.209Z"
   },
   {
    "duration": 133,
    "start_time": "2022-11-20T11:12:54.118Z"
   },
   {
    "duration": 6,
    "start_time": "2022-11-20T11:13:05.134Z"
   },
   {
    "duration": 423,
    "start_time": "2022-11-20T11:13:06.644Z"
   },
   {
    "duration": 5,
    "start_time": "2022-11-20T11:13:13.150Z"
   },
   {
    "duration": 435,
    "start_time": "2022-11-20T11:13:14.444Z"
   },
   {
    "duration": 421,
    "start_time": "2022-11-20T11:13:44.676Z"
   },
   {
    "duration": 414,
    "start_time": "2022-11-20T11:13:51.731Z"
   },
   {
    "duration": 4,
    "start_time": "2022-11-20T11:14:56.120Z"
   },
   {
    "duration": 415,
    "start_time": "2022-11-20T11:14:57.082Z"
   },
   {
    "duration": 4,
    "start_time": "2022-11-20T11:18:54.125Z"
   },
   {
    "duration": 103177,
    "start_time": "2022-11-20T11:18:55.061Z"
   },
   {
    "duration": 10,
    "start_time": "2022-11-20T11:22:15.228Z"
   },
   {
    "duration": 4,
    "start_time": "2022-11-20T11:22:20.992Z"
   },
   {
    "duration": 17340,
    "start_time": "2022-11-20T11:22:21.189Z"
   },
   {
    "duration": 34,
    "start_time": "2022-11-20T11:31:16.985Z"
   },
   {
    "duration": 8,
    "start_time": "2022-11-20T11:33:19.698Z"
   },
   {
    "duration": 31,
    "start_time": "2022-11-20T11:33:24.748Z"
   },
   {
    "duration": 708,
    "start_time": "2022-11-20T11:33:28.592Z"
   },
   {
    "duration": 164598,
    "start_time": "2022-11-20T11:34:19.601Z"
   },
   {
    "duration": 707,
    "start_time": "2022-11-20T11:37:09.938Z"
   },
   {
    "duration": 5,
    "start_time": "2022-11-20T11:37:20.098Z"
   },
   {
    "duration": 726,
    "start_time": "2022-11-20T11:37:24.580Z"
   },
   {
    "duration": 19276,
    "start_time": "2022-11-20T11:37:32.054Z"
   },
   {
    "duration": 4,
    "start_time": "2022-11-20T12:30:01.297Z"
   },
   {
    "duration": 11,
    "start_time": "2022-11-20T12:35:25.997Z"
   },
   {
    "duration": 261,
    "start_time": "2022-11-20T12:39:03.334Z"
   },
   {
    "duration": 61836,
    "start_time": "2022-11-20T12:39:24.682Z"
   },
   {
    "duration": 12011,
    "start_time": "2022-11-20T12:40:26.520Z"
   },
   {
    "duration": 2270,
    "start_time": "2022-11-20T12:50:03.826Z"
   },
   {
    "duration": 943,
    "start_time": "2022-11-20T12:50:06.098Z"
   },
   {
    "duration": 46,
    "start_time": "2022-11-20T12:50:07.043Z"
   },
   {
    "duration": 18,
    "start_time": "2022-11-20T12:50:07.091Z"
   },
   {
    "duration": 39,
    "start_time": "2022-11-20T12:50:07.110Z"
   },
   {
    "duration": 4,
    "start_time": "2022-11-20T12:50:07.150Z"
   },
   {
    "duration": 14,
    "start_time": "2022-11-20T12:50:07.156Z"
   },
   {
    "duration": 356,
    "start_time": "2022-11-20T12:50:07.172Z"
   },
   {
    "duration": 27,
    "start_time": "2022-11-20T12:50:07.530Z"
   },
   {
    "duration": 146,
    "start_time": "2022-11-20T12:50:07.560Z"
   },
   {
    "duration": 16,
    "start_time": "2022-11-20T12:50:07.707Z"
   },
   {
    "duration": 5,
    "start_time": "2022-11-20T12:50:07.724Z"
   },
   {
    "duration": 30,
    "start_time": "2022-11-20T12:50:07.730Z"
   },
   {
    "duration": 27,
    "start_time": "2022-11-20T12:50:07.762Z"
   },
   {
    "duration": 12,
    "start_time": "2022-11-20T12:50:07.791Z"
   },
   {
    "duration": 18,
    "start_time": "2022-11-20T12:50:07.804Z"
   },
   {
    "duration": 16,
    "start_time": "2022-11-20T12:50:07.823Z"
   },
   {
    "duration": 29,
    "start_time": "2022-11-20T12:50:07.841Z"
   },
   {
    "duration": 12,
    "start_time": "2022-11-20T12:50:07.871Z"
   },
   {
    "duration": 20,
    "start_time": "2022-11-20T12:50:07.885Z"
   },
   {
    "duration": 15,
    "start_time": "2022-11-20T12:50:07.906Z"
   },
   {
    "duration": 37,
    "start_time": "2022-11-20T12:50:07.922Z"
   },
   {
    "duration": 5,
    "start_time": "2022-11-20T12:50:07.960Z"
   },
   {
    "duration": 109,
    "start_time": "2022-11-20T12:50:07.966Z"
   },
   {
    "duration": 2,
    "start_time": "2022-11-20T12:50:08.077Z"
   },
   {
    "duration": 5,
    "start_time": "2022-11-20T12:50:08.081Z"
   },
   {
    "duration": 137,
    "start_time": "2022-11-20T12:50:08.087Z"
   },
   {
    "duration": 0,
    "start_time": "2022-11-20T12:50:08.226Z"
   },
   {
    "duration": 0,
    "start_time": "2022-11-20T12:50:08.227Z"
   },
   {
    "duration": 0,
    "start_time": "2022-11-20T12:50:08.229Z"
   },
   {
    "duration": 0,
    "start_time": "2022-11-20T12:50:08.229Z"
   },
   {
    "duration": 0,
    "start_time": "2022-11-20T12:50:08.230Z"
   },
   {
    "duration": 0,
    "start_time": "2022-11-20T12:50:08.231Z"
   },
   {
    "duration": 0,
    "start_time": "2022-11-20T12:50:08.232Z"
   },
   {
    "duration": 0,
    "start_time": "2022-11-20T12:50:08.233Z"
   },
   {
    "duration": 0,
    "start_time": "2022-11-20T12:50:08.234Z"
   },
   {
    "duration": 0,
    "start_time": "2022-11-20T12:50:08.235Z"
   },
   {
    "duration": 0,
    "start_time": "2022-11-20T12:50:08.236Z"
   },
   {
    "duration": 0,
    "start_time": "2022-11-20T12:50:08.237Z"
   },
   {
    "duration": 0,
    "start_time": "2022-11-20T12:50:08.238Z"
   },
   {
    "duration": 0,
    "start_time": "2022-11-20T12:50:08.239Z"
   },
   {
    "duration": 0,
    "start_time": "2022-11-20T12:50:08.240Z"
   },
   {
    "duration": 2160,
    "start_time": "2022-11-20T12:50:18.560Z"
   },
   {
    "duration": 960,
    "start_time": "2022-11-20T12:50:20.722Z"
   },
   {
    "duration": 47,
    "start_time": "2022-11-20T12:50:21.684Z"
   },
   {
    "duration": 17,
    "start_time": "2022-11-20T12:50:21.733Z"
   },
   {
    "duration": 38,
    "start_time": "2022-11-20T12:50:21.752Z"
   },
   {
    "duration": 3,
    "start_time": "2022-11-20T12:50:21.792Z"
   },
   {
    "duration": 10,
    "start_time": "2022-11-20T12:50:21.797Z"
   },
   {
    "duration": 351,
    "start_time": "2022-11-20T12:50:21.821Z"
   },
   {
    "duration": 27,
    "start_time": "2022-11-20T12:50:22.174Z"
   },
   {
    "duration": 138,
    "start_time": "2022-11-20T12:50:22.204Z"
   },
   {
    "duration": 14,
    "start_time": "2022-11-20T12:50:22.344Z"
   },
   {
    "duration": 5,
    "start_time": "2022-11-20T12:50:22.360Z"
   },
   {
    "duration": 16,
    "start_time": "2022-11-20T12:50:22.367Z"
   },
   {
    "duration": 53,
    "start_time": "2022-11-20T12:50:22.384Z"
   },
   {
    "duration": 11,
    "start_time": "2022-11-20T12:50:22.439Z"
   },
   {
    "duration": 8,
    "start_time": "2022-11-20T12:50:22.451Z"
   },
   {
    "duration": 3,
    "start_time": "2022-11-20T12:50:22.460Z"
   },
   {
    "duration": 21,
    "start_time": "2022-11-20T12:50:22.464Z"
   },
   {
    "duration": 35,
    "start_time": "2022-11-20T12:50:22.487Z"
   },
   {
    "duration": 12,
    "start_time": "2022-11-20T12:50:22.523Z"
   },
   {
    "duration": 19,
    "start_time": "2022-11-20T12:50:22.536Z"
   },
   {
    "duration": 27,
    "start_time": "2022-11-20T12:50:22.556Z"
   },
   {
    "duration": 5,
    "start_time": "2022-11-20T12:50:22.585Z"
   },
   {
    "duration": 135,
    "start_time": "2022-11-20T12:50:22.591Z"
   },
   {
    "duration": 2,
    "start_time": "2022-11-20T12:50:22.728Z"
   },
   {
    "duration": 6,
    "start_time": "2022-11-20T12:50:22.732Z"
   },
   {
    "duration": 146,
    "start_time": "2022-11-20T12:50:22.740Z"
   },
   {
    "duration": 0,
    "start_time": "2022-11-20T12:50:22.888Z"
   },
   {
    "duration": 0,
    "start_time": "2022-11-20T12:50:22.889Z"
   },
   {
    "duration": 0,
    "start_time": "2022-11-20T12:50:22.890Z"
   },
   {
    "duration": 0,
    "start_time": "2022-11-20T12:50:22.891Z"
   },
   {
    "duration": 1,
    "start_time": "2022-11-20T12:50:22.892Z"
   },
   {
    "duration": 0,
    "start_time": "2022-11-20T12:50:22.894Z"
   },
   {
    "duration": 0,
    "start_time": "2022-11-20T12:50:22.895Z"
   },
   {
    "duration": 0,
    "start_time": "2022-11-20T12:50:22.895Z"
   },
   {
    "duration": 0,
    "start_time": "2022-11-20T12:50:22.897Z"
   },
   {
    "duration": 0,
    "start_time": "2022-11-20T12:50:22.897Z"
   },
   {
    "duration": 0,
    "start_time": "2022-11-20T12:50:22.898Z"
   },
   {
    "duration": 0,
    "start_time": "2022-11-20T12:50:22.899Z"
   },
   {
    "duration": 0,
    "start_time": "2022-11-20T12:50:22.900Z"
   },
   {
    "duration": 0,
    "start_time": "2022-11-20T12:50:22.901Z"
   },
   {
    "duration": 0,
    "start_time": "2022-11-20T12:50:22.921Z"
   },
   {
    "duration": 2306,
    "start_time": "2022-11-20T12:50:49.695Z"
   },
   {
    "duration": 964,
    "start_time": "2022-11-20T12:50:52.003Z"
   },
   {
    "duration": 48,
    "start_time": "2022-11-20T12:50:52.969Z"
   },
   {
    "duration": 21,
    "start_time": "2022-11-20T12:50:53.018Z"
   },
   {
    "duration": 37,
    "start_time": "2022-11-20T12:50:53.040Z"
   },
   {
    "duration": 4,
    "start_time": "2022-11-20T12:50:53.079Z"
   },
   {
    "duration": 24,
    "start_time": "2022-11-20T12:50:53.084Z"
   },
   {
    "duration": 351,
    "start_time": "2022-11-20T12:50:53.110Z"
   },
   {
    "duration": 27,
    "start_time": "2022-11-20T12:50:53.463Z"
   },
   {
    "duration": 134,
    "start_time": "2022-11-20T12:50:53.492Z"
   },
   {
    "duration": 14,
    "start_time": "2022-11-20T12:50:53.627Z"
   },
   {
    "duration": 5,
    "start_time": "2022-11-20T12:50:53.642Z"
   },
   {
    "duration": 15,
    "start_time": "2022-11-20T12:50:53.649Z"
   },
   {
    "duration": 25,
    "start_time": "2022-11-20T12:50:53.666Z"
   },
   {
    "duration": 37,
    "start_time": "2022-11-20T12:50:53.693Z"
   },
   {
    "duration": 11,
    "start_time": "2022-11-20T12:50:53.731Z"
   },
   {
    "duration": 5,
    "start_time": "2022-11-20T12:50:53.744Z"
   },
   {
    "duration": 24,
    "start_time": "2022-11-20T12:50:53.750Z"
   },
   {
    "duration": 13,
    "start_time": "2022-11-20T12:50:53.776Z"
   },
   {
    "duration": 33,
    "start_time": "2022-11-20T12:50:53.790Z"
   },
   {
    "duration": 14,
    "start_time": "2022-11-20T12:50:53.824Z"
   },
   {
    "duration": 23,
    "start_time": "2022-11-20T12:50:53.839Z"
   },
   {
    "duration": 4,
    "start_time": "2022-11-20T12:50:53.864Z"
   },
   {
    "duration": 111,
    "start_time": "2022-11-20T12:50:53.869Z"
   },
   {
    "duration": 2,
    "start_time": "2022-11-20T12:50:53.982Z"
   },
   {
    "duration": 11,
    "start_time": "2022-11-20T12:50:53.986Z"
   },
   {
    "duration": 132,
    "start_time": "2022-11-20T12:50:53.999Z"
   },
   {
    "duration": 0,
    "start_time": "2022-11-20T12:50:54.133Z"
   },
   {
    "duration": 0,
    "start_time": "2022-11-20T12:50:54.134Z"
   },
   {
    "duration": 0,
    "start_time": "2022-11-20T12:50:54.135Z"
   },
   {
    "duration": 0,
    "start_time": "2022-11-20T12:50:54.136Z"
   },
   {
    "duration": 0,
    "start_time": "2022-11-20T12:50:54.137Z"
   },
   {
    "duration": 0,
    "start_time": "2022-11-20T12:50:54.138Z"
   },
   {
    "duration": 0,
    "start_time": "2022-11-20T12:50:54.139Z"
   },
   {
    "duration": 0,
    "start_time": "2022-11-20T12:50:54.140Z"
   },
   {
    "duration": 0,
    "start_time": "2022-11-20T12:50:54.141Z"
   },
   {
    "duration": 0,
    "start_time": "2022-11-20T12:50:54.142Z"
   },
   {
    "duration": 0,
    "start_time": "2022-11-20T12:50:54.143Z"
   },
   {
    "duration": 0,
    "start_time": "2022-11-20T12:50:54.144Z"
   },
   {
    "duration": 0,
    "start_time": "2022-11-20T12:50:54.145Z"
   },
   {
    "duration": 0,
    "start_time": "2022-11-20T12:50:54.146Z"
   },
   {
    "duration": 0,
    "start_time": "2022-11-20T12:50:54.147Z"
   },
   {
    "duration": 2,
    "start_time": "2022-11-20T12:52:50.261Z"
   },
   {
    "duration": 4,
    "start_time": "2022-11-20T12:52:50.694Z"
   },
   {
    "duration": 22,
    "start_time": "2022-11-20T12:52:53.717Z"
   },
   {
    "duration": 5,
    "start_time": "2022-11-20T12:54:34.711Z"
   },
   {
    "duration": 456,
    "start_time": "2022-11-20T12:54:35.097Z"
   },
   {
    "duration": 3,
    "start_time": "2022-11-20T12:55:08.690Z"
   },
   {
    "duration": 6,
    "start_time": "2022-11-20T12:55:09.197Z"
   },
   {
    "duration": 2300,
    "start_time": "2022-11-20T12:55:49.224Z"
   },
   {
    "duration": 926,
    "start_time": "2022-11-20T12:55:51.526Z"
   },
   {
    "duration": 49,
    "start_time": "2022-11-20T12:55:52.453Z"
   },
   {
    "duration": 18,
    "start_time": "2022-11-20T12:55:52.504Z"
   },
   {
    "duration": 49,
    "start_time": "2022-11-20T12:55:52.524Z"
   },
   {
    "duration": 3,
    "start_time": "2022-11-20T12:55:52.576Z"
   },
   {
    "duration": 31,
    "start_time": "2022-11-20T12:55:52.581Z"
   },
   {
    "duration": 379,
    "start_time": "2022-11-20T12:55:52.613Z"
   },
   {
    "duration": 38,
    "start_time": "2022-11-20T12:55:52.993Z"
   },
   {
    "duration": 142,
    "start_time": "2022-11-20T12:55:53.033Z"
   },
   {
    "duration": 15,
    "start_time": "2022-11-20T12:55:53.177Z"
   },
   {
    "duration": 5,
    "start_time": "2022-11-20T12:55:53.194Z"
   },
   {
    "duration": 34,
    "start_time": "2022-11-20T12:55:53.201Z"
   },
   {
    "duration": 36,
    "start_time": "2022-11-20T12:55:53.236Z"
   },
   {
    "duration": 17,
    "start_time": "2022-11-20T12:55:53.274Z"
   },
   {
    "duration": 11,
    "start_time": "2022-11-20T12:55:53.292Z"
   },
   {
    "duration": 4,
    "start_time": "2022-11-20T12:55:53.304Z"
   },
   {
    "duration": 18,
    "start_time": "2022-11-20T12:55:53.321Z"
   },
   {
    "duration": 10,
    "start_time": "2022-11-20T12:55:53.341Z"
   },
   {
    "duration": 13,
    "start_time": "2022-11-20T12:55:53.353Z"
   },
   {
    "duration": 13,
    "start_time": "2022-11-20T12:55:53.367Z"
   },
   {
    "duration": 46,
    "start_time": "2022-11-20T12:55:53.381Z"
   },
   {
    "duration": 5,
    "start_time": "2022-11-20T12:55:53.429Z"
   },
   {
    "duration": 111,
    "start_time": "2022-11-20T12:55:53.435Z"
   },
   {
    "duration": 2,
    "start_time": "2022-11-20T12:55:53.547Z"
   },
   {
    "duration": 6,
    "start_time": "2022-11-20T12:55:53.551Z"
   },
   {
    "duration": 448,
    "start_time": "2022-11-20T12:55:53.558Z"
   },
   {
    "duration": 3,
    "start_time": "2022-11-20T12:55:54.009Z"
   },
   {
    "duration": 6,
    "start_time": "2022-11-20T12:55:54.020Z"
   },
   {
    "duration": 103326,
    "start_time": "2022-11-20T12:55:54.028Z"
   },
   {
    "duration": 3,
    "start_time": "2022-11-20T12:57:37.356Z"
   },
   {
    "duration": 6,
    "start_time": "2022-11-20T12:57:37.360Z"
   },
   {
    "duration": 16855,
    "start_time": "2022-11-20T12:57:37.368Z"
   },
   {
    "duration": 117,
    "start_time": "2022-11-20T12:57:54.226Z"
   },
   {
    "duration": 10,
    "start_time": "2022-11-20T12:57:54.345Z"
   },
   {
    "duration": 734,
    "start_time": "2022-11-20T12:57:54.356Z"
   },
   {
    "duration": 251,
    "start_time": "2022-11-20T12:57:55.091Z"
   },
   {
    "duration": 2152,
    "start_time": "2022-11-20T12:58:45.364Z"
   },
   {
    "duration": 912,
    "start_time": "2022-11-20T12:58:47.518Z"
   },
   {
    "duration": 46,
    "start_time": "2022-11-20T12:58:48.431Z"
   },
   {
    "duration": 18,
    "start_time": "2022-11-20T12:58:48.479Z"
   },
   {
    "duration": 41,
    "start_time": "2022-11-20T12:58:48.498Z"
   },
   {
    "duration": 4,
    "start_time": "2022-11-20T12:58:48.540Z"
   },
   {
    "duration": 12,
    "start_time": "2022-11-20T12:58:48.545Z"
   },
   {
    "duration": 371,
    "start_time": "2022-11-20T12:58:48.559Z"
   },
   {
    "duration": 26,
    "start_time": "2022-11-20T12:58:48.932Z"
   },
   {
    "duration": 148,
    "start_time": "2022-11-20T12:58:48.960Z"
   },
   {
    "duration": 23,
    "start_time": "2022-11-20T12:58:49.109Z"
   },
   {
    "duration": 6,
    "start_time": "2022-11-20T12:58:49.134Z"
   },
   {
    "duration": 19,
    "start_time": "2022-11-20T12:58:49.142Z"
   },
   {
    "duration": 28,
    "start_time": "2022-11-20T12:58:49.163Z"
   },
   {
    "duration": 34,
    "start_time": "2022-11-20T12:58:49.192Z"
   },
   {
    "duration": 10,
    "start_time": "2022-11-20T12:58:49.227Z"
   },
   {
    "duration": 3,
    "start_time": "2022-11-20T12:58:49.238Z"
   },
   {
    "duration": 24,
    "start_time": "2022-11-20T12:58:49.242Z"
   },
   {
    "duration": 11,
    "start_time": "2022-11-20T12:58:49.267Z"
   },
   {
    "duration": 43,
    "start_time": "2022-11-20T12:58:49.280Z"
   },
   {
    "duration": 13,
    "start_time": "2022-11-20T12:58:49.325Z"
   },
   {
    "duration": 36,
    "start_time": "2022-11-20T12:58:49.340Z"
   },
   {
    "duration": 4,
    "start_time": "2022-11-20T12:58:49.378Z"
   },
   {
    "duration": 121,
    "start_time": "2022-11-20T12:58:49.384Z"
   },
   {
    "duration": 14,
    "start_time": "2022-11-20T12:58:49.507Z"
   },
   {
    "duration": 7,
    "start_time": "2022-11-20T12:58:49.523Z"
   },
   {
    "duration": 448,
    "start_time": "2022-11-20T12:58:49.531Z"
   },
   {
    "duration": 2,
    "start_time": "2022-11-20T12:58:49.982Z"
   },
   {
    "duration": 10,
    "start_time": "2022-11-20T12:58:49.986Z"
   },
   {
    "duration": 102625,
    "start_time": "2022-11-20T12:58:49.997Z"
   },
   {
    "duration": 2,
    "start_time": "2022-11-20T13:00:32.624Z"
   },
   {
    "duration": 8,
    "start_time": "2022-11-20T13:00:32.628Z"
   },
   {
    "duration": 16685,
    "start_time": "2022-11-20T13:00:32.638Z"
   },
   {
    "duration": 208,
    "start_time": "2022-11-20T13:00:49.326Z"
   },
   {
    "duration": 11,
    "start_time": "2022-11-20T13:00:49.536Z"
   },
   {
    "duration": 1430,
    "start_time": "2022-11-20T13:00:49.548Z"
   },
   {
    "duration": 228,
    "start_time": "2022-11-20T13:00:51.021Z"
   },
   {
    "duration": 162113,
    "start_time": "2022-11-20T13:00:51.251Z"
   },
   {
    "duration": 61048,
    "start_time": "2022-11-20T13:03:33.366Z"
   },
   {
    "duration": 19506,
    "start_time": "2022-11-20T13:04:34.416Z"
   },
   {
    "duration": 12799,
    "start_time": "2022-11-20T13:04:53.929Z"
   },
   {
    "duration": 208,
    "start_time": "2022-11-20T13:05:06.730Z"
   },
   {
    "duration": 21,
    "start_time": "2022-11-20T13:05:53.478Z"
   },
   {
    "duration": 8,
    "start_time": "2022-11-20T13:06:40.117Z"
   },
   {
    "duration": 9,
    "start_time": "2022-11-20T13:06:47.760Z"
   },
   {
    "duration": 21,
    "start_time": "2022-11-20T13:06:54.150Z"
   },
   {
    "duration": 24,
    "start_time": "2022-11-20T13:07:12.083Z"
   },
   {
    "duration": 193,
    "start_time": "2022-11-20T13:07:17.631Z"
   },
   {
    "duration": 38,
    "start_time": "2022-11-20T13:07:23.379Z"
   },
   {
    "duration": 27,
    "start_time": "2022-11-20T13:12:06.586Z"
   },
   {
    "duration": 37,
    "start_time": "2022-11-20T13:12:11.676Z"
   },
   {
    "duration": 136,
    "start_time": "2022-11-20T13:21:25.397Z"
   },
   {
    "duration": 309,
    "start_time": "2022-11-20T13:21:33.648Z"
   },
   {
    "duration": 329,
    "start_time": "2022-11-20T13:21:41.668Z"
   }
  ],
  "kernelspec": {
   "display_name": "Python 3 (ipykernel)",
   "language": "python",
   "name": "python3"
  },
  "language_info": {
   "codemirror_mode": {
    "name": "ipython",
    "version": 3
   },
   "file_extension": ".py",
   "mimetype": "text/x-python",
   "name": "python",
   "nbconvert_exporter": "python",
   "pygments_lexer": "ipython3",
   "version": "3.9.12"
  },
  "toc": {
   "base_numbering": 1,
   "nav_menu": {},
   "number_sections": true,
   "sideBar": true,
   "skip_h1_title": true,
   "title_cell": "Содержание",
   "title_sidebar": "Contents",
   "toc_cell": true,
   "toc_position": {
    "height": "calc(100% - 180px)",
    "left": "10px",
    "top": "150px",
    "width": "165px"
   },
   "toc_section_display": true,
   "toc_window_display": true
  }
 },
 "nbformat": 4,
 "nbformat_minor": 2
}
